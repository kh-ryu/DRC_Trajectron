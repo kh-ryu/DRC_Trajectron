{
 "cells": [
  {
   "cell_type": "code",
   "execution_count": 1,
   "metadata": {},
   "outputs": [
    {
     "name": "stderr",
     "output_type": "stream",
     "text": [
      "\u001b[32m\u001b[1m    Building\u001b[22m\u001b[39m Conda ─→ `~/.julia/scratchspaces/44cfe95a-1eb2-52ea-b672-e2afdf69b78f/915ebe6f0e7302693bdd8eac985797dba1d25662/build.log`\n",
      "\u001b[32m\u001b[1m    Building\u001b[22m\u001b[39m PyCall → `~/.julia/scratchspaces/44cfe95a-1eb2-52ea-b672-e2afdf69b78f/62f417f6ad727987c755549e9cd88c46578da562/build.log`\n",
      "\u001b[33m\u001b[1m┌ \u001b[22m\u001b[39m\u001b[33m\u001b[1mWarning: \u001b[22m\u001b[39mThe active manifest file is an older format with no julia version entry. Dependencies may have been resolved with a different julia version.\n",
      "\u001b[33m\u001b[1m└ \u001b[22m\u001b[39m\u001b[90m@ ~/DRC_Project/DRC_Trajectron/Manifest.toml:0\u001b[39m\n",
      "\u001b[91m\u001b[1m┌ \u001b[22m\u001b[39m\u001b[91m\u001b[1mError: \u001b[22m\u001b[39mUnable to load the 'rospy' python package!\n",
      "\u001b[91m\u001b[1m│ \u001b[22m\u001b[39mHas an environment setup script been run?\n",
      "\u001b[91m\u001b[1m└ \u001b[22m\u001b[39m\u001b[90m@ RobotOS ~/.julia/packages/RobotOS/j0Tsl/src/RobotOS.jl:35\u001b[39m\n",
      "\u001b[36m\u001b[1m[ \u001b[22m\u001b[39m\u001b[36m\u001b[1mInfo: \u001b[22m\u001b[39mNumber of Julia Thread(s): 1\n",
      "\u001b[36m\u001b[1m[ \u001b[22m\u001b[39m\u001b[36m\u001b[1mInfo: \u001b[22m\u001b[39mCUDA Device: NVIDIA GeForce RTX 3060\n",
      "\u001b[36m\u001b[1m[ \u001b[22m\u001b[39m\u001b[36m\u001b[1mInfo: \u001b[22m\u001b[39mPython executable used by PyCall: /home/kh-ryu/anaconda3/bin/python\n"
     ]
    },
    {
     "ename": "LoadError",
     "evalue": "LoadError: InitError: PyError ($(Expr(:escape, :(ccall(#= /home/kh-ryu/.julia/packages/PyCall/twYvK/src/pyeval.jl:38 =# @pysym(:PyEval_EvalCode), PyPtr, (PyPtr, PyPtr, PyPtr), o, globals, locals))))) <class 'ModuleNotFoundError'>\nModuleNotFoundError(\"No module named 'easydict'\")\n  File \"/home/kh-ryu/.julia/packages/PyCall/twYvK/src/pyeval.jl\", line 12, in <module>\n    ns = PyDict{String,PyObject}()\n\nduring initialization of module DistributionallyRobust\nin expression starting at /home/kh-ryu/DRC_Project/DRC_Trajectron/src/DistributionallyRobust.jl:9",
     "output_type": "error",
     "traceback": [
      "LoadError: InitError: PyError ($(Expr(:escape, :(ccall(#= /home/kh-ryu/.julia/packages/PyCall/twYvK/src/pyeval.jl:38 =# @pysym(:PyEval_EvalCode), PyPtr, (PyPtr, PyPtr, PyPtr), o, globals, locals))))) <class 'ModuleNotFoundError'>\nModuleNotFoundError(\"No module named 'easydict'\")\n  File \"/home/kh-ryu/.julia/packages/PyCall/twYvK/src/pyeval.jl\", line 12, in <module>\n    ns = PyDict{String,PyObject}()\n\nduring initialization of module DistributionallyRobust\nin expression starting at /home/kh-ryu/DRC_Project/DRC_Trajectron/src/DistributionallyRobust.jl:9",
      "",
      "Stacktrace:",
      "  [1] pyerr_check",
      "    @ ~/.julia/packages/PyCall/twYvK/src/exception.jl:75 [inlined]",
      "  [2] pyerr_check",
      "    @ ~/.julia/packages/PyCall/twYvK/src/exception.jl:79 [inlined]",
      "  [3] _handle_error(msg::String)",
      "    @ PyCall ~/.julia/packages/PyCall/twYvK/src/exception.jl:96",
      "  [4] macro expansion",
      "    @ ~/.julia/packages/PyCall/twYvK/src/exception.jl:110 [inlined]",
      "  [5] #117",
      "    @ ~/.julia/packages/PyCall/twYvK/src/pyeval.jl:38 [inlined]",
      "  [6] disable_sigint",
      "    @ ./c.jl:473 [inlined]",
      "  [7] pyeval_(s::String, globals::PyCall.PyDict{String, PyCall.PyObject, true}, locals::PyCall.PyDict{String, PyCall.PyObject, true}, input_type::Int64, fname::String)",
      "    @ PyCall ~/.julia/packages/PyCall/twYvK/src/pyeval.jl:37",
      "  [8] macro expansion",
      "    @ ~/.julia/packages/PyCall/twYvK/src/pyeval.jl:230 [inlined]",
      "  [9] __init__()",
      "    @ Main.DistributionallyRobust ~/DRC_Project/DRC_Trajectron/src/DistributionallyRobust.jl:52",
      " [10] include(fname::String)",
      "    @ Base.MainInclude ./client.jl:476",
      " [11] top-level scope",
      "    @ In[1]:9"
     ]
    }
   ],
   "source": [
    "using Revise\n",
    "using Pkg\n",
    "\n",
    "ENV[\"PYTHON\"] = Sys.which(\"python\")\n",
    "ENV[\"PYCALL_JL_RUNTIME_PYTHON\"] = Sys.which(\"python\")\n",
    "Pkg.build(\"PyCall\")\n",
    "using FileIO\n",
    "using JLD2\n",
    "include(\"../src/DistributionallyRobust.jl\")\n",
    "using .DistributionallyRobust"
   ]
  },
  {
   "cell_type": "code",
   "execution_count": 2,
   "metadata": {},
   "outputs": [],
   "source": [
    "include(\"$(@__DIR__)/../scripts/default_params/params_drc_data_trajectron.jl\");\n",
    "\n",
    "epsilon = 0.15;\n",
    "cem_init_num_samples = 2000;\n",
    "cem_init_num_elites = 200;\n",
    "cem_init_iterations = 5;\n",
    "test_data_name = \"eth_test.pkl\";  \n",
    "start_time_idx = 805;\n",
    "sim_horizon = 10.0;\n",
    "\n",
    "include(\"$(@__DIR__)/../scripts/parameter_setup_drc.jl\");"
   ]
  },
  {
   "cell_type": "code",
   "execution_count": 3,
   "metadata": {},
   "outputs": [
    {
     "ename": "UndefKeywordError",
     "evalue": "UndefKeywordError: keyword argument ado_vel_dict not assigned",
     "output_type": "error",
     "traceback": [
      "UndefKeywordError: keyword argument ado_vel_dict not assigned\n",
      "\n",
      "Stacktrace:\n",
      " [1] top-level scope\n",
      "   @ ~/DRC_Project/DRC_Trajectron/notebook/Eval_Example_9_DRC_Data_Trajectron.ipynb:1"
     ]
    }
   ],
   "source": [
    "scene_loader, controller, w_init, measurement_schedule, target_trajectory, target_speed =\n",
    "    controller_setup(scene_param,\n",
    "                    predictor_param,\n",
    "                    prediction_device=prediction_device,\n",
    "                    cost_param=cost_param,\n",
    "                    cnt_param=cnt_param,\n",
    "                    dtc=dtc,\n",
    "                    ego_pos_init_vec=ego_pos_init_vec,\n",
    "                    ego_pos_goal_vec=ego_pos_goal_vec,\n",
    "                    target_speed=target_speed,\n",
    "                    sim_horizon=sim_horizon,\n",
    "                    verbose=true);"
   ]
  },
  {
   "cell_type": "code",
   "execution_count": 4,
   "metadata": {},
   "outputs": [
    {
     "ename": "UndefVarError",
     "evalue": "UndefVarError: scene_loader not defined",
     "output_type": "error",
     "traceback": [
      "UndefVarError: scene_loader not defined\n",
      "\n",
      "Stacktrace:\n",
      " [1] top-level scope\n",
      "   @ ~/DRC_Project/DRC_Trajectron/notebook/Eval_Example_9_DRC_Data_Trajectron.ipynb:1"
     ]
    }
   ],
   "source": [
    "result, ~, ~ = evaluate(scene_loader, controller, w_init, ego_pos_goal_vec,\n",
    "                  target_speed, measurement_schedule, target_trajectory,\n",
    "                  pos_error_replan);"
   ]
  },
  {
   "cell_type": "code",
   "execution_count": 5,
   "metadata": {},
   "outputs": [],
   "source": [
    "# display_log(result.log)"
   ]
  },
  {
   "cell_type": "code",
   "execution_count": 6,
   "metadata": {},
   "outputs": [
    {
     "ename": "UndefVarError",
     "evalue": "UndefVarError: result not defined",
     "output_type": "error",
     "traceback": [
      "UndefVarError: result not defined\n",
      "\n",
      "Stacktrace:\n",
      " [1] top-level scope\n",
      "   @ ~/DRC_Project/DRC_Trajectron/notebook/Eval_Example_9_DRC_Data_Trajectron.ipynb:1"
     ]
    }
   ],
   "source": [
    "result.total_cnt_cost"
   ]
  },
  {
   "cell_type": "code",
   "execution_count": 7,
   "metadata": {},
   "outputs": [
    {
     "ename": "UndefVarError",
     "evalue": "UndefVarError: result not defined",
     "output_type": "error",
     "traceback": [
      "UndefVarError: result not defined\n",
      "\n",
      "Stacktrace:\n",
      " [1] top-level scope\n",
      "   @ ~/DRC_Project/DRC_Trajectron/notebook/Eval_Example_9_DRC_Data_Trajectron.ipynb:1"
     ]
    }
   ],
   "source": [
    "result.total_pos_cost"
   ]
  },
  {
   "cell_type": "code",
   "execution_count": 8,
   "metadata": {},
   "outputs": [
    {
     "ename": "UndefVarError",
     "evalue": "UndefVarError: result not defined",
     "output_type": "error",
     "traceback": [
      "UndefVarError: result not defined\n",
      "\n",
      "Stacktrace:\n",
      " [1] top-level scope\n",
      "   @ ~/DRC_Project/DRC_Trajectron/notebook/Eval_Example_9_DRC_Data_Trajectron.ipynb:1"
     ]
    }
   ],
   "source": [
    "result.total_col_cost"
   ]
  },
  {
   "cell_type": "code",
   "execution_count": 9,
   "metadata": {},
   "outputs": [
    {
     "ename": "UndefVarError",
     "evalue": "UndefVarError: result not defined",
     "output_type": "error",
     "traceback": [
      "UndefVarError: result not defined\n",
      "\n",
      "Stacktrace:\n",
      " [1] top-level scope\n",
      "   @ ~/DRC_Project/DRC_Trajectron/notebook/Eval_Example_9_DRC_Data_Trajectron.ipynb:1"
     ]
    }
   ],
   "source": [
    "result.total_col"
   ]
  },
  {
   "cell_type": "code",
   "execution_count": 10,
   "metadata": {},
   "outputs": [
    {
     "ename": "UndefVarError",
     "evalue": "UndefVarError: result not defined",
     "output_type": "error",
     "traceback": [
      "UndefVarError: result not defined\n",
      "\n",
      "Stacktrace:\n",
      " [1] top-level scope\n",
      "   @ ~/DRC_Project/DRC_Trajectron/notebook/Eval_Example_9_DRC_Data_Trajectron.ipynb:1"
     ]
    }
   ],
   "source": [
    "result.total_cnt_cost + result.total_pos_cost + result.total_col_cost"
   ]
  },
  {
   "cell_type": "code",
   "execution_count": 11,
   "metadata": {},
   "outputs": [
    {
     "ename": "UndefVarError",
     "evalue": "UndefVarError: result not defined",
     "output_type": "error",
     "traceback": [
      "UndefVarError: result not defined\n",
      "\n",
      "Stacktrace:\n",
      " [1] top-level scope\n",
      "   @ ~/DRC_Project/DRC_Trajectron/notebook/Eval_Example_9_DRC_Data_Trajectron.ipynb:1"
     ]
    }
   ],
   "source": [
    "minimum([minimum(vcat([norm(get_position(w.e_state) - ap) for ap in values(w.ap_dict)], Inf))\n",
    "                          for w in result.w_history])"
   ]
  },
  {
   "cell_type": "code",
   "execution_count": 12,
   "metadata": {},
   "outputs": [
    {
     "ename": "UndefVarError",
     "evalue": "UndefVarError: result not defined",
     "output_type": "error",
     "traceback": [
      "UndefVarError: result not defined\n",
      "\n",
      "Stacktrace:\n",
      " [1] top-level scope\n",
      "   @ ~/DRC_Project/DRC_Trajectron/notebook/Eval_Example_9_DRC_Data_Trajectron.ipynb:1"
     ]
    }
   ],
   "source": [
    "make_gif(result, dtplot=0.1, fps=5, xlim=(-3. + -5.263534, 13. + -5.314636), \n",
    "         ylim=(0. + -5.263534, 10. + -5.314636), figsize=(600, 400), \n",
    "         legendfontsize=7, legend=:bottomright, markersize=5., filename=\"9_data_trajectron_drc.gif\")"
   ]
  }
 ],
 "metadata": {
  "kernelspec": {
   "display_name": "Julia 1.8.5",
   "language": "julia",
   "name": "julia-1.8"
  },
  "language_info": {
   "file_extension": ".jl",
   "mimetype": "application/julia",
   "name": "julia",
   "version": "1.8.5"
  },
  "orig_nbformat": 4
 },
 "nbformat": 4,
 "nbformat_minor": 2
}
