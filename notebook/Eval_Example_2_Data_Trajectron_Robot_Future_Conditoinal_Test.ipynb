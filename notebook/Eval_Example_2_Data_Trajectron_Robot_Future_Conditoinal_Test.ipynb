{
 "cells": [
  {
   "cell_type": "code",
   "execution_count": 1,
   "metadata": {},
   "outputs": [
    {
     "name": "stderr",
     "output_type": "stream",
     "text": [
      "┌ Error: Unable to load the 'rospy' python package!\n",
      "│ Has an environment setup script been run?\n",
      "└ @ RobotOS /home/kh-ryu/.julia/packages/RobotOS/j0Tsl/src/RobotOS.jl:35\n"
     ]
    },
    {
     "name": "stderr",
     "output_type": "stream",
     "text": [
      "┌ Info: Number of Julia Thread(s): 1\n",
      "└ @ RiskSensitiveSAC /home/kh-ryu/DRC_Project/DRC_Trajectron/src/RiskSensitiveSAC.jl:39\n",
      "┌ Info: CUDA Device: NVIDIA GeForce RTX 3060\n",
      "└ @ RiskSensitiveSAC /home/kh-ryu/DRC_Project/DRC_Trajectron/src/RiskSensitiveSAC.jl:40\n"
     ]
    },
    {
     "name": "stderr",
     "output_type": "stream",
     "text": [
      "┌ Info: Python executable used by PyCall: /home/kh-ryu/anaconda3/bin/python\n",
      "└ @ RiskSensitiveSAC /home/kh-ryu/DRC_Project/DRC_Trajectron/src/RiskSensitiveSAC.jl:41\n"
     ]
    },
    {
     "ename": "InitError",
     "evalue": "InitError: PyError ($(Expr(:escape, :(ccall(#= /home/kh-ryu/.julia/packages/PyCall/twYvK/src/pyeval.jl:38 =# @pysym(:PyEval_EvalCode), PyPtr, (PyPtr, PyPtr, PyPtr), o, globals, locals))))) <class 'ModuleNotFoundError'>\nModuleNotFoundError(\"No module named 'easydict'\")\n  File \"/home/kh-ryu/.julia/packages/PyCall/twYvK/src/pyeval.jl\", line 12, in <module>\n    ns = PyDict{String,PyObject}()\n\nduring initialization of module RiskSensitiveSAC",
     "output_type": "error",
     "traceback": [
      "InitError: PyError ($(Expr(:escape, :(ccall(#= /home/kh-ryu/.julia/packages/PyCall/twYvK/src/pyeval.jl:38 =# @pysym(:PyEval_EvalCode), PyPtr, (PyPtr, PyPtr, PyPtr), o, globals, locals))))) <class 'ModuleNotFoundError'>\n",
      "ModuleNotFoundError(\"No module named 'easydict'\")\n",
      "  File \"/home/kh-ryu/.julia/packages/PyCall/twYvK/src/pyeval.jl\", line 12, in <module>\n",
      "    ns = PyDict{String,PyObject}()\n",
      "\n",
      "during initialization of module RiskSensitiveSAC\n",
      "\n",
      "Stacktrace:\n",
      "  [1] pyerr_check\n",
      "    @ ~/.julia/packages/PyCall/twYvK/src/exception.jl:75 [inlined]\n",
      "  [2] pyerr_check\n",
      "    @ ~/.julia/packages/PyCall/twYvK/src/exception.jl:79 [inlined]\n",
      "  [3] _handle_error(msg::String)\n",
      "    @ PyCall ~/.julia/packages/PyCall/twYvK/src/exception.jl:96\n",
      "  [4] macro expansion\n",
      "    @ ~/.julia/packages/PyCall/twYvK/src/exception.jl:110 [inlined]\n",
      "  [5] #117\n",
      "    @ ~/.julia/packages/PyCall/twYvK/src/pyeval.jl:38 [inlined]\n",
      "  [6] disable_sigint\n",
      "    @ ./c.jl:473 [inlined]\n",
      "  [7] pyeval_(s::String, globals::PyCall.PyDict{String, PyCall.PyObject, true}, locals::PyCall.PyDict{String, PyCall.PyObject, true}, input_type::Int64, fname::String)\n",
      "    @ PyCall ~/.julia/packages/PyCall/twYvK/src/pyeval.jl:37\n",
      "  [8] macro expansion\n",
      "    @ ~/.julia/packages/PyCall/twYvK/src/pyeval.jl:230 [inlined]\n",
      "  [9] __init__()\n",
      "    @ RiskSensitiveSAC ~/DRC_Project/DRC_Trajectron/src/RiskSensitiveSAC.jl:50\n",
      " [10] _include_from_serialized(pkg::Base.PkgId, path::String, depmods::Vector{Any})\n",
      "    @ Base ./loading.jl:831\n",
      " [11] _require_search_from_serialized(pkg::Base.PkgId, sourcepath::String, build_id::UInt64)\n",
      "    @ Base ./loading.jl:1039\n",
      " [12] _require(pkg::Base.PkgId)\n",
      "    @ Base ./loading.jl:1315\n",
      " [13] _require_prelocked(uuidkey::Base.PkgId)\n",
      "    @ Base ./loading.jl:1200\n",
      " [14] macro expansion\n",
      "    @ ./loading.jl:1180 [inlined]\n",
      " [15] macro expansion\n",
      "    @ ./lock.jl:223 [inlined]\n",
      " [16] require(into::Module, mod::Symbol)\n",
      "    @ Base ./loading.jl:1144\n",
      " [17] eval\n",
      "    @ ./boot.jl:368 [inlined]\n",
      " [18] include_string(mapexpr::typeof(REPL.softscope), mod::Module, code::String, filename::String)\n",
      "    @ Base ./loading.jl:1428\n",
      " [19] #invokelatest#2\n",
      "    @ ./essentials.jl:729 [inlined]\n",
      " [20] invokelatest\n",
      "    @ ./essentials.jl:726 [inlined]\n",
      " [21] (::VSCodeServer.var\"#198#199\"{VSCodeServer.NotebookRunCellArguments, String})()\n",
      "    @ VSCodeServer ~/.vscode/extensions/julialang.language-julia-1.38.2/scripts/packages/VSCodeServer/src/serve_notebook.jl:19\n",
      " [22] withpath(f::VSCodeServer.var\"#198#199\"{VSCodeServer.NotebookRunCellArguments, String}, path::String)\n",
      "    @ VSCodeServer ~/.vscode/extensions/julialang.language-julia-1.38.2/scripts/packages/VSCodeServer/src/repl.jl:249\n",
      " [23] notebook_runcell_request(conn::VSCodeServer.JSONRPC.JSONRPCEndpoint{Base.PipeEndpoint, Base.PipeEndpoint}, params::VSCodeServer.NotebookRunCellArguments)\n",
      "    @ VSCodeServer ~/.vscode/extensions/julialang.language-julia-1.38.2/scripts/packages/VSCodeServer/src/serve_notebook.jl:13\n",
      " [24] dispatch_msg(x::VSCodeServer.JSONRPC.JSONRPCEndpoint{Base.PipeEndpoint, Base.PipeEndpoint}, dispatcher::VSCodeServer.JSONRPC.MsgDispatcher, msg::Dict{String, Any})\n",
      "    @ VSCodeServer.JSONRPC ~/.vscode/extensions/julialang.language-julia-1.38.2/scripts/packages/JSONRPC/src/typed.jl:67\n",
      " [25] serve_notebook(pipename::String, outputchannel_logger::Base.CoreLogging.SimpleLogger; crashreporting_pipename::String)\n",
      "    @ VSCodeServer ~/.vscode/extensions/julialang.language-julia-1.38.2/scripts/packages/VSCodeServer/src/serve_notebook.jl:139\n",
      " [26] top-level scope\n",
      "    @ ~/.vscode/extensions/julialang.language-julia-1.38.2/scripts/notebook/notebook.jl:32"
     ]
    }
   ],
   "source": [
    "using Revise\n",
    "\n",
    "ENV[\"PYCALL_JL_RUNTIME_PYTHON\"] = Sys.which(\"python\")\n",
    "using FileIO\n",
    "using JLD2\n",
    "using RiskSensitiveSAC"
   ]
  },
  {
   "cell_type": "markdown",
   "metadata": {},
   "source": [
    "# 1. Default"
   ]
  },
  {
   "cell_type": "code",
   "execution_count": 23,
   "metadata": {},
   "outputs": [],
   "source": [
    "include(\"$(@__DIR__)/../scripts/default_params/params_data_trajectron.jl\");\n",
    "\n",
    "incl_robot_node = true;\n",
    "use_robot_future = true;\n",
    "sim_horizon = 4.4;\n",
    "prediction_rng_seed = 123;\n",
    "\n",
    "include(\"$(@__DIR__)/../scripts/parameter_setup.jl\");"
   ]
  },
  {
   "cell_type": "code",
   "execution_count": 24,
   "metadata": {},
   "outputs": [
    {
     "name": "stdout",
     "output_type": "stream",
     "text": [
      "Scene Mode: data\n",
      "Prediction Mode: trajectron\n",
      "Deterministic Prediction: false\n"
     ]
    },
    {
     "ename": "PyCall.PyError",
     "evalue": "PyError ($(Expr(:escape, :(ccall(#= /home/kh-ryu/.julia/packages/PyCall/twYvK/src/pyeval.jl:38 =# @pysym(:PyEval_EvalCode), PyPtr, (PyPtr, PyPtr, PyPtr), o, globals, locals))))) <class 'NameError'>\nNameError(\"name 'load_hyperparams' is not defined\")\n  File \"/home/kh-ryu/.julia/packages/PyCall/twYvK/src/pyeval.jl\", line 1, in <module>\n    const Py_single_input = 256  # from Python.h\n",
     "output_type": "error",
     "traceback": [
      "PyError ($(Expr(:escape, :(ccall(#= /home/kh-ryu/.julia/packages/PyCall/twYvK/src/pyeval.jl:38 =# @pysym(:PyEval_EvalCode), PyPtr, (PyPtr, PyPtr, PyPtr), o, globals, locals))))) <class 'NameError'>\n",
      "NameError(\"name 'load_hyperparams' is not defined\")\n",
      "  File \"/home/kh-ryu/.julia/packages/PyCall/twYvK/src/pyeval.jl\", line 1, in <module>\n",
      "    const Py_single_input = 256  # from Python.h\n",
      "\n",
      "\n",
      "Stacktrace:\n",
      "  [1] pyerr_check\n",
      "    @ ~/.julia/packages/PyCall/twYvK/src/exception.jl:75 [inlined]\n",
      "  [2] pyerr_check\n",
      "    @ ~/.julia/packages/PyCall/twYvK/src/exception.jl:79 [inlined]\n",
      "  [3] _handle_error(msg::String)\n",
      "    @ PyCall ~/.julia/packages/PyCall/twYvK/src/exception.jl:96\n",
      "  [4] macro expansion\n",
      "    @ ~/.julia/packages/PyCall/twYvK/src/exception.jl:110 [inlined]\n",
      "  [5] #117\n",
      "    @ ~/.julia/packages/PyCall/twYvK/src/pyeval.jl:38 [inlined]\n",
      "  [6] disable_sigint\n",
      "    @ ./c.jl:473 [inlined]\n",
      "  [7] pyeval_(s::String, globals::PyCall.PyDict{String, PyCall.PyObject, true}, locals::PyCall.PyDict{String, PyCall.PyObject, true}, input_type::Int64, fname::String)\n",
      "    @ PyCall ~/.julia/packages/PyCall/twYvK/src/pyeval.jl:37\n",
      "  [8] macro expansion\n",
      "    @ ~/.julia/packages/PyCall/twYvK/src/pyeval.jl:230 [inlined]\n",
      "  [9] TrajectronSceneLoader(param::TrajectronSceneParameter; verbose::Bool, ado_id_removed::String)\n",
      "    @ RiskSensitiveSAC ~/DRC_Project/DRC_Trajectron/src/scene_loader.jl:64\n",
      " [10] controller_setup(scene_param::TrajectronSceneParameter, predictor_param::TrajectronPredictorParameter; prediction_device::String, cost_param::CostParameter, cnt_param::ControlParameter, dtc::Float64, ego_pos_init_vec::Nothing, ego_vel_init_vec::Nothing, ego_pos_goal_vec::Nothing, t_init::RobotOS.Time, target_speed::Nothing, sim_horizon::Float64, ado_id_to_replace::String, verbose::Bool)\n",
      "    @ RiskSensitiveSAC ~/DRC_Project/DRC_Trajectron/src/utils.jl:123\n",
      " [11] top-level scope\n",
      "    @ ~/DRC_Project/DRC_Trajectron/notebook/Eval_Example_2_Data_Trajectron_Robot_Future_Conditoinal_Test.ipynb:1"
     ]
    }
   ],
   "source": [
    "scene_loader, controller, w_init, measurement_schedule, target_trajectory, target_speed =\n",
    "controller_setup(scene_param,\n",
    "                 predictor_param,\n",
    "                 prediction_device=prediction_device,\n",
    "                 cost_param=cost_param,\n",
    "                 cnt_param=cnt_param,\n",
    "                 dtc=dtc,\n",
    "                 sim_horizon=sim_horizon,\n",
    "                 ado_id_to_replace=\"PEDESTRIAN/236\",\n",
    "                 verbose=true);"
   ]
  },
  {
   "cell_type": "code",
   "execution_count": 25,
   "metadata": {},
   "outputs": [
    {
     "ename": "UndefVarError",
     "evalue": "UndefVarError: target_trajectory not defined",
     "output_type": "error",
     "traceback": [
      "UndefVarError: target_trajectory not defined\n",
      "\n",
      "Stacktrace:\n",
      " [1] top-level scope\n",
      "   @ ~/DRC_Project/DRC_Trajectron/notebook/Eval_Example_2_Data_Trajectron_Robot_Future_Conditoinal_Test.ipynb:1"
     ]
    }
   ],
   "source": [
    "result, controller, ado_inputs = \n",
    "evaluate(scene_loader, controller, w_init, maximum(target_trajectory)[2],\n",
    "         target_speed, measurement_schedule, target_trajectory,\n",
    "         pos_error_replan, nominal_control=false,\n",
    "         ado_id_removed=\"PEDESTRIAN/236\");"
   ]
  },
  {
   "cell_type": "code",
   "execution_count": 26,
   "metadata": {},
   "outputs": [
    {
     "ename": "UndefVarError",
     "evalue": "UndefVarError: result not defined",
     "output_type": "error",
     "traceback": [
      "UndefVarError: result not defined\n",
      "\n",
      "Stacktrace:\n",
      " [1] top-level scope\n",
      "   @ ~/DRC_Project/DRC_Trajectron/notebook/Eval_Example_2_Data_Trajectron_Robot_Future_Conditoinal_Test.ipynb:1"
     ]
    }
   ],
   "source": [
    "display_log(result.log)"
   ]
  },
  {
   "cell_type": "code",
   "execution_count": 27,
   "metadata": {},
   "outputs": [
    {
     "ename": "UndefVarError",
     "evalue": "UndefVarError: result not defined",
     "output_type": "error",
     "traceback": [
      "UndefVarError: result not defined\n",
      "\n",
      "Stacktrace:\n",
      " [1] top-level scope\n",
      "   @ ~/DRC_Project/DRC_Trajectron/notebook/Eval_Example_2_Data_Trajectron_Robot_Future_Conditoinal_Test.ipynb:1"
     ]
    }
   ],
   "source": [
    "e_state = result.w_history[end].e_state;\n",
    "w = result.w_history[end];\n",
    "u_schedule = result.u_schedule_history[end];\n",
    "target_trajectory = result.target_trajectory_history[end];"
   ]
  },
  {
   "cell_type": "code",
   "execution_count": 28,
   "metadata": {},
   "outputs": [
    {
     "ename": "UndefVarError",
     "evalue": "UndefVarError: controller not defined",
     "output_type": "error",
     "traceback": [
      "UndefVarError: controller not defined\n",
      "\n",
      "Stacktrace:\n",
      " [1] top-level scope\n",
      "   @ ~/DRC_Project/DRC_Trajectron/notebook/Eval_Example_2_Data_Trajectron_Robot_Future_Conditoinal_Test.ipynb:1"
     ]
    }
   ],
   "source": [
    "rpf = get_robot_present_and_future(e_state, u_schedule, controller.sim_param, controller.cnt_param);"
   ]
  },
  {
   "cell_type": "code",
   "execution_count": 29,
   "metadata": {},
   "outputs": [
    {
     "data": {
      "text/plain": [
       "get_clipped_prediction_dict (generic function with 1 method)"
      ]
     },
     "metadata": {},
     "output_type": "display_data"
    }
   ],
   "source": [
    "function get_clipped_prediction_dict(prediction_dict::Dict{String, Array{Float64, 3}},\n",
    "                                     num_samples::Int64,\n",
    "                                     nominal_control_idx::Int64)\n",
    "    clipped_preds_dict = Dict{String, Array{Float64, 3}}();\n",
    "    for key in keys(prediction_dict)\n",
    "        clipped_array =\n",
    "            prediction_dict[key][num_samples*(nominal_control_idx - 1) + 1:num_samples*nominal_control_idx, :, :];\n",
    "        clipped_preds_dict[key] = copy(clipped_array);\n",
    "    end\n",
    "    return clipped_preds_dict\n",
    "end"
   ]
  },
  {
   "cell_type": "code",
   "execution_count": 30,
   "metadata": {},
   "outputs": [
    {
     "ename": "UndefVarError",
     "evalue": "UndefVarError: controller not defined",
     "output_type": "error",
     "traceback": [
      "UndefVarError: controller not defined\n",
      "\n",
      "Stacktrace:\n",
      " [1] top-level scope\n",
      "   @ ~/DRC_Project/DRC_Trajectron/notebook/Eval_Example_2_Data_Trajectron_Robot_Future_Conditoinal_Test.ipynb:1"
     ]
    }
   ],
   "source": [
    "prediction_dict = sample_future_ado_positions!(controller.predictor, ado_inputs, rpf);"
   ]
  },
  {
   "cell_type": "code",
   "execution_count": 31,
   "metadata": {},
   "outputs": [
    {
     "ename": "UndefVarError",
     "evalue": "UndefVarError: prediction_dict not defined",
     "output_type": "error",
     "traceback": [
      "UndefVarError: prediction_dict not defined\n",
      "\n",
      "Stacktrace:\n",
      " [1] top-level scope\n",
      "   @ ~/DRC_Project/DRC_Trajectron/notebook/Eval_Example_2_Data_Trajectron_Robot_Future_Conditoinal_Test.ipynb:2"
     ]
    }
   ],
   "source": [
    "u_nominal_idx = 12;\n",
    "prediction_dict_clipped = get_clipped_prediction_dict(prediction_dict,\n",
    "                                              num_samples, u_nominal_idx)\n",
    "nominal_trajectory = [rpf[u_nominal_idx, t, 1:2] for t = 1:size(rpf, 2)];\n",
    "plt = visualize!(Dict(), w, target_trajectory, prediction_dict_clipped, num_samples, nominal_trajectory,\n",
    "         xlim=(-3. + -5.263534, 13. + -5.314636), \n",
    "         ylim=(0. + -5.263534, 10. + -5.314636), figsize=(600, 400), \n",
    "         legendfontsize=7, legend=:bottomright, markersize=5)"
   ]
  },
  {
   "cell_type": "code",
   "execution_count": 32,
   "metadata": {},
   "outputs": [
    {
     "ename": "UndefVarError",
     "evalue": "UndefVarError: prediction_dict not defined",
     "output_type": "error",
     "traceback": [
      "UndefVarError: prediction_dict not defined\n",
      "\n",
      "Stacktrace:\n",
      " [1] top-level scope\n",
      "   @ ~/DRC_Project/DRC_Trajectron/notebook/Eval_Example_2_Data_Trajectron_Robot_Future_Conditoinal_Test.ipynb:2"
     ]
    }
   ],
   "source": [
    "u_nominal_idx = 6;\n",
    "prediction_dict_clipped = get_clipped_prediction_dict(prediction_dict,\n",
    "                                              num_samples, u_nominal_idx)\n",
    "nominal_trajectory = [rpf[u_nominal_idx, t, 1:2] for t = 1:size(rpf, 2)];\n",
    "plt = visualize!(Dict(), w, target_trajectory, prediction_dict_clipped, num_samples, nominal_trajectory,\n",
    "         xlim=(-3. + -5.263534, 13. + -5.314636), \n",
    "         ylim=(0. + -5.263534, 10. + -5.314636), figsize=(600, 400), \n",
    "         legendfontsize=7, legend=:bottomright, markersize=5)"
   ]
  },
  {
   "cell_type": "markdown",
   "metadata": {},
   "source": [
    "# 2. Deterministic (mode-mode) Prediction"
   ]
  },
  {
   "cell_type": "code",
   "execution_count": 33,
   "metadata": {},
   "outputs": [],
   "source": [
    "include(\"$(@__DIR__)/../scripts/default_params/params_data_trajectron.jl\");\n",
    "\n",
    "incl_robot_node = true;\n",
    "use_robot_future = true;\n",
    "sim_horizon = 4.4;\n",
    "num_samples = 1;\n",
    "deterministic = true;\n",
    "\n",
    "include(\"$(@__DIR__)/../scripts/parameter_setup.jl\");"
   ]
  },
  {
   "cell_type": "code",
   "execution_count": 34,
   "metadata": {},
   "outputs": [
    {
     "name": "stdout",
     "output_type": "stream",
     "text": [
      "Scene Mode: data\n",
      "Prediction Mode: trajectron\n",
      "Deterministic Prediction: true\n"
     ]
    },
    {
     "ename": "PyCall.PyError",
     "evalue": "PyError ($(Expr(:escape, :(ccall(#= /home/kh-ryu/.julia/packages/PyCall/twYvK/src/pyeval.jl:38 =# @pysym(:PyEval_EvalCode), PyPtr, (PyPtr, PyPtr, PyPtr), o, globals, locals))))) <class 'NameError'>\nNameError(\"name 'load_hyperparams' is not defined\")\n  File \"/home/kh-ryu/.julia/packages/PyCall/twYvK/src/pyeval.jl\", line 1, in <module>\n    const Py_single_input = 256  # from Python.h\n",
     "output_type": "error",
     "traceback": [
      "PyError ($(Expr(:escape, :(ccall(#= /home/kh-ryu/.julia/packages/PyCall/twYvK/src/pyeval.jl:38 =# @pysym(:PyEval_EvalCode), PyPtr, (PyPtr, PyPtr, PyPtr), o, globals, locals))))) <class 'NameError'>\n",
      "NameError(\"name 'load_hyperparams' is not defined\")\n",
      "  File \"/home/kh-ryu/.julia/packages/PyCall/twYvK/src/pyeval.jl\", line 1, in <module>\n",
      "    const Py_single_input = 256  # from Python.h\n",
      "\n",
      "\n",
      "Stacktrace:\n",
      "  [1] pyerr_check\n",
      "    @ ~/.julia/packages/PyCall/twYvK/src/exception.jl:75 [inlined]\n",
      "  [2] pyerr_check\n",
      "    @ ~/.julia/packages/PyCall/twYvK/src/exception.jl:79 [inlined]\n",
      "  [3] _handle_error(msg::String)\n",
      "    @ PyCall ~/.julia/packages/PyCall/twYvK/src/exception.jl:96\n",
      "  [4] macro expansion\n",
      "    @ ~/.julia/packages/PyCall/twYvK/src/exception.jl:110 [inlined]\n",
      "  [5] #117\n",
      "    @ ~/.julia/packages/PyCall/twYvK/src/pyeval.jl:38 [inlined]\n",
      "  [6] disable_sigint\n",
      "    @ ./c.jl:473 [inlined]\n",
      "  [7] pyeval_(s::String, globals::PyCall.PyDict{String, PyCall.PyObject, true}, locals::PyCall.PyDict{String, PyCall.PyObject, true}, input_type::Int64, fname::String)\n",
      "    @ PyCall ~/.julia/packages/PyCall/twYvK/src/pyeval.jl:37\n",
      "  [8] macro expansion\n",
      "    @ ~/.julia/packages/PyCall/twYvK/src/pyeval.jl:230 [inlined]\n",
      "  [9] TrajectronSceneLoader(param::TrajectronSceneParameter; verbose::Bool, ado_id_removed::String)\n",
      "    @ RiskSensitiveSAC ~/DRC_Project/DRC_Trajectron/src/scene_loader.jl:64\n",
      " [10] controller_setup(scene_param::TrajectronSceneParameter, predictor_param::TrajectronPredictorParameter; prediction_device::String, cost_param::CostParameter, cnt_param::ControlParameter, dtc::Float64, ego_pos_init_vec::Nothing, ego_vel_init_vec::Nothing, ego_pos_goal_vec::Nothing, t_init::RobotOS.Time, target_speed::Nothing, sim_horizon::Float64, ado_id_to_replace::String, verbose::Bool)\n",
      "    @ RiskSensitiveSAC ~/DRC_Project/DRC_Trajectron/src/utils.jl:123\n",
      " [11] top-level scope\n",
      "    @ ~/DRC_Project/DRC_Trajectron/notebook/Eval_Example_2_Data_Trajectron_Robot_Future_Conditoinal_Test.ipynb:1"
     ]
    }
   ],
   "source": [
    "scene_loader, controller, w_init, measurement_schedule, target_trajectory, target_speed =\n",
    "controller_setup(scene_param,\n",
    "                 predictor_param,\n",
    "                 prediction_device=prediction_device,\n",
    "                 cost_param=cost_param,\n",
    "                 cnt_param=cnt_param,\n",
    "                 dtc=dtc,\n",
    "                 sim_horizon=sim_horizon,\n",
    "                 ado_id_to_replace=\"PEDESTRIAN/236\",\n",
    "                 verbose=true);"
   ]
  },
  {
   "cell_type": "code",
   "execution_count": 35,
   "metadata": {},
   "outputs": [
    {
     "ename": "UndefVarError",
     "evalue": "UndefVarError: target_trajectory not defined",
     "output_type": "error",
     "traceback": [
      "UndefVarError: target_trajectory not defined\n",
      "\n",
      "Stacktrace:\n",
      " [1] top-level scope\n",
      "   @ ~/DRC_Project/DRC_Trajectron/notebook/Eval_Example_2_Data_Trajectron_Robot_Future_Conditoinal_Test.ipynb:1"
     ]
    }
   ],
   "source": [
    "result, controller, ado_inputs = \n",
    "evaluate(scene_loader, controller, w_init, maximum(target_trajectory)[2],\n",
    "         target_speed, measurement_schedule, target_trajectory,\n",
    "         pos_error_replan, nominal_control=false,\n",
    "         ado_id_removed=\"PEDESTRIAN/236\");"
   ]
  },
  {
   "cell_type": "code",
   "execution_count": 36,
   "metadata": {},
   "outputs": [
    {
     "ename": "UndefVarError",
     "evalue": "UndefVarError: result not defined",
     "output_type": "error",
     "traceback": [
      "UndefVarError: result not defined\n",
      "\n",
      "Stacktrace:\n",
      " [1] top-level scope\n",
      "   @ ~/DRC_Project/DRC_Trajectron/notebook/Eval_Example_2_Data_Trajectron_Robot_Future_Conditoinal_Test.ipynb:1"
     ]
    }
   ],
   "source": [
    "display_log(result.log)"
   ]
  },
  {
   "cell_type": "code",
   "execution_count": 37,
   "metadata": {},
   "outputs": [
    {
     "ename": "UndefVarError",
     "evalue": "UndefVarError: result not defined",
     "output_type": "error",
     "traceback": [
      "UndefVarError: result not defined\n",
      "\n",
      "Stacktrace:\n",
      " [1] top-level scope\n",
      "   @ ~/DRC_Project/DRC_Trajectron/notebook/Eval_Example_2_Data_Trajectron_Robot_Future_Conditoinal_Test.ipynb:1"
     ]
    }
   ],
   "source": [
    "e_state = result.w_history[end].e_state;\n",
    "w = result.w_history[end];\n",
    "u_schedule = result.u_schedule_history[end];\n",
    "target_trajectory = result.target_trajectory_history[end];"
   ]
  },
  {
   "cell_type": "code",
   "execution_count": 38,
   "metadata": {},
   "outputs": [
    {
     "ename": "UndefVarError",
     "evalue": "UndefVarError: controller not defined",
     "output_type": "error",
     "traceback": [
      "UndefVarError: controller not defined\n",
      "\n",
      "Stacktrace:\n",
      " [1] top-level scope\n",
      "   @ ~/DRC_Project/DRC_Trajectron/notebook/Eval_Example_2_Data_Trajectron_Robot_Future_Conditoinal_Test.ipynb:1"
     ]
    }
   ],
   "source": [
    "rpf = get_robot_present_and_future(e_state, u_schedule, controller.sim_param, controller.cnt_param);"
   ]
  },
  {
   "cell_type": "code",
   "execution_count": 39,
   "metadata": {},
   "outputs": [
    {
     "ename": "UndefVarError",
     "evalue": "UndefVarError: controller not defined",
     "output_type": "error",
     "traceback": [
      "UndefVarError: controller not defined\n",
      "\n",
      "Stacktrace:\n",
      " [1] top-level scope\n",
      "   @ ~/DRC_Project/DRC_Trajectron/notebook/Eval_Example_2_Data_Trajectron_Robot_Future_Conditoinal_Test.ipynb:1"
     ]
    }
   ],
   "source": [
    "prediction_dict = sample_future_ado_positions!(controller.predictor, ado_inputs,\n",
    "                                               rpf);"
   ]
  },
  {
   "cell_type": "code",
   "execution_count": 40,
   "metadata": {},
   "outputs": [
    {
     "ename": "UndefVarError",
     "evalue": "UndefVarError: prediction_dict not defined",
     "output_type": "error",
     "traceback": [
      "UndefVarError: prediction_dict not defined\n",
      "\n",
      "Stacktrace:\n",
      " [1] top-level scope\n",
      "   @ ~/DRC_Project/DRC_Trajectron/notebook/Eval_Example_2_Data_Trajectron_Robot_Future_Conditoinal_Test.ipynb:2"
     ]
    }
   ],
   "source": [
    "u_nominal_idx = 12;\n",
    "prediction_dict_clipped = get_clipped_prediction_dict(prediction_dict,\n",
    "                                              num_samples, u_nominal_idx)\n",
    "nominal_trajectory = [rpf[u_nominal_idx, t, 1:2] for t = 1:size(rpf, 2)];\n",
    "plt = visualize!(Dict(), w, target_trajectory, prediction_dict_clipped, num_samples, nominal_trajectory,\n",
    "         xlim=(-3. + -5.263534, 13. + -5.314636), \n",
    "         ylim=(0. + -5.263534, 10. + -5.314636), figsize=(600, 400), \n",
    "         legendfontsize=7, legend=:bottomright, markersize=5)"
   ]
  },
  {
   "cell_type": "code",
   "execution_count": 41,
   "metadata": {},
   "outputs": [
    {
     "ename": "UndefVarError",
     "evalue": "UndefVarError: prediction_dict not defined",
     "output_type": "error",
     "traceback": [
      "UndefVarError: prediction_dict not defined\n",
      "\n",
      "Stacktrace:\n",
      " [1] top-level scope\n",
      "   @ ~/DRC_Project/DRC_Trajectron/notebook/Eval_Example_2_Data_Trajectron_Robot_Future_Conditoinal_Test.ipynb:2"
     ]
    }
   ],
   "source": [
    "u_nominal_idx = 6;\n",
    "prediction_dict_clipped = get_clipped_prediction_dict(prediction_dict,\n",
    "                                              num_samples, u_nominal_idx)\n",
    "nominal_trajectory = [rpf[u_nominal_idx, t, 1:2] for t = 1:size(rpf, 2)];\n",
    "plt = visualize!(Dict(), w, target_trajectory, prediction_dict_clipped, num_samples, nominal_trajectory,\n",
    "         xlim=(-3. + -5.263534, 13. + -5.314636), \n",
    "         ylim=(0. + -5.263534, 10. + -5.314636), figsize=(600, 400), \n",
    "         legendfontsize=7, legend=:bottomright, markersize=5)"
   ]
  },
  {
   "cell_type": "code",
   "execution_count": 42,
   "metadata": {},
   "outputs": [],
   "source": []
  }
 ],
 "metadata": {
  "@webio": {
   "lastCommId": null,
   "lastKernelId": null
  },
  "kernelspec": {
   "display_name": "Julia 1.8.5",
   "language": "julia",
   "name": "julia-1.8"
  },
  "language_info": {
   "file_extension": ".jl",
   "mimetype": "application/julia",
   "name": "julia",
   "version": "1.8.5"
  }
 },
 "nbformat": 4,
 "nbformat_minor": 4
}
