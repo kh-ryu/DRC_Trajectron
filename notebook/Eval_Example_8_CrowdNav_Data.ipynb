{
 "cells": [
  {
   "cell_type": "code",
   "execution_count": 1,
   "metadata": {},
   "outputs": [
    {
     "name": "stderr",
     "output_type": "stream",
     "text": [
      "\u001b[32m\u001b[1m    Building\u001b[22m\u001b[39m Conda ─→ `~/.julia/scratchspaces/44cfe95a-1eb2-52ea-b672-e2afdf69b78f/8c86e48c0db1564a1d49548d3515ced5d604c408/build.log`\n"
     ]
    },
    {
     "name": "stderr",
     "output_type": "stream",
     "text": [
      "\u001b[32m\u001b[1m    Building\u001b[22m\u001b[39m PyCall → `~/.julia/scratchspaces/44cfe95a-1eb2-52ea-b672-e2afdf69b78f/62f417f6ad727987c755549e9cd88c46578da562/build.log`\n"
     ]
    },
    {
     "name": "stderr",
     "output_type": "stream",
     "text": [
      "┌ Warning: The active manifest file is an older format with no julia version entry. Dependencies may have been resolved with a different julia version.\n",
      "└ @ nothing /home/kang/DRC_Project/DRC_Trajectron/Manifest.toml:0\n"
     ]
    },
    {
     "name": "stderr",
     "output_type": "stream",
     "text": [
      "┌ Info: Number of Julia Thread(s): 1\n",
      "└ @ RiskSensitiveSAC /home/kang/DRC_Project/DRC_Trajectron/src/RiskSensitiveSAC.jl:39\n",
      "┌ Info: CUDA Device: NVIDIA GeForce RTX 3070 Laptop GPU\n",
      "└ @ RiskSensitiveSAC /home/kang/DRC_Project/DRC_Trajectron/src/RiskSensitiveSAC.jl:40\n"
     ]
    },
    {
     "name": "stderr",
     "output_type": "stream",
     "text": [
      "┌ Info: Python executable used by PyCall: /home/kang/anaconda3/envs/trajectron++/bin/python\n",
      "└ @ RiskSensitiveSAC /home/kang/DRC_Project/DRC_Trajectron/src/RiskSensitiveSAC.jl:41\n"
     ]
    }
   ],
   "source": [
    "using Revise\n",
    "using Pkg\n",
    "\n",
    "ENV[\"PYTHON\"] = Sys.which(\"python\")\n",
    "ENV[\"PYCALL_JL_RUNTIME_PYTHON\"] = Sys.which(\"python\")\n",
    "Pkg.build(\"PyCall\")\n",
    "using FileIO\n",
    "using JLD2\n",
    "using RiskSensitiveSAC"
   ]
  },
  {
   "cell_type": "code",
   "execution_count": 2,
   "metadata": {},
   "outputs": [],
   "source": [
    "include(\"$(@__DIR__)/../scripts/default_params/params_data_gaussian.jl\");\n",
    "\n",
    "dtr = 0.4;                                                                          # replanning time interval [s]\n",
    "tcalc = 0.2;                                                                        # pre-allocated control computation time [s] (< dtr)\n",
    "\n",
    "model_dir = normpath(joinpath(@__DIR__, \"../CrowdNav/crowd_nav/data/output_om_sarl_radius_0.4\")) # directory of the trained policy\n",
    "env_config = \"env.config\"                                                           # environment config file name\n",
    "policy_config = \"policy.config\"                                                     # policy config file name\n",
    "policy_name = \"sarl\"                                                                # policy name\n",
    "\n",
    "\n",
    "include(\"$(@__DIR__)/../scripts/parameter_setup_crowd_nav.jl\");"
   ]
  },
  {
   "cell_type": "code",
   "execution_count": 3,
   "metadata": {},
   "outputs": [
    {
     "name": "stdout",
     "output_type": "stream",
     "text": [
      "Scene Mode: data\n",
      "CrowdNav Controller\n"
     ]
    },
    {
     "name": "stdout",
     "output_type": "stream",
     "text": [
      "Loaded evaluation data from /home/kang/DRC_Project/DRC_Trajectron/Trajectron-plus-plus/experiments/processed/eth_test.pkl\n",
      "Looking at the eth_test.pkl sequence, data_id 0, start_idx 905\n"
     ]
    },
    {
     "ename": "PyCall.PyError",
     "evalue": "PyError ($(Expr(:escape, :(ccall(#= /home/kang/.julia/packages/PyCall/twYvK/src/pyfncall.jl:43 =# @pysym(:PyObject_Call), PyPtr, (PyPtr, PyPtr, PyPtr), o, pyargsptr, kw))))) <class 'NameError'>\nNameError(\"name 'policy_factory' is not defined\",)\n  File \"/home/kang/.julia/packages/PyCall/twYvK/src/pyeval.jl\", line 145, in configure_rl_robot\n    if state == 'p'\n",
     "output_type": "error",
     "traceback": [
      "PyError ($(Expr(:escape, :(ccall(#= /home/kang/.julia/packages/PyCall/twYvK/src/pyfncall.jl:43 =# @pysym(:PyObject_Call), PyPtr, (PyPtr, PyPtr, PyPtr), o, pyargsptr, kw))))) <class 'NameError'>\n",
      "NameError(\"name 'policy_factory' is not defined\",)\n",
      "  File \"/home/kang/.julia/packages/PyCall/twYvK/src/pyeval.jl\", line 145, in configure_rl_robot\n",
      "    if state == 'p'\n",
      "\n",
      "\n",
      "Stacktrace:\n",
      "  [1] pyerr_check\n",
      "    @ ~/.julia/packages/PyCall/twYvK/src/exception.jl:75 [inlined]\n",
      "  [2] pyerr_check\n",
      "    @ ~/.julia/packages/PyCall/twYvK/src/exception.jl:79 [inlined]\n",
      "  [3] _handle_error(msg::String)\n",
      "    @ PyCall ~/.julia/packages/PyCall/twYvK/src/exception.jl:96\n",
      "  [4] macro expansion\n",
      "    @ ~/.julia/packages/PyCall/twYvK/src/exception.jl:110 [inlined]\n",
      "  [5] #107\n",
      "    @ ~/.julia/packages/PyCall/twYvK/src/pyfncall.jl:43 [inlined]\n",
      "  [6] disable_sigint\n",
      "    @ ./c.jl:473 [inlined]\n",
      "  [7] __pycall!\n",
      "    @ ~/.julia/packages/PyCall/twYvK/src/pyfncall.jl:42 [inlined]\n",
      "  [8] _pycall!(ret::PyCall.PyObject, o::PyCall.PyObject, args::NTuple{4, String}, nargs::Int64, kw::Ptr{Nothing})\n",
      "    @ PyCall ~/.julia/packages/PyCall/twYvK/src/pyfncall.jl:29\n",
      "  [9] _pycall!(ret::PyCall.PyObject, o::PyCall.PyObject, args::NTuple{4, String}, kwargs::Base.Pairs{Symbol, Union{}, Tuple{}, NamedTuple{(), Tuple{}}})\n",
      "    @ PyCall ~/.julia/packages/PyCall/twYvK/src/pyfncall.jl:11\n",
      " [10] (::PyCall.PyObject)(::String, ::Vararg{String}; kwargs::Base.Pairs{Symbol, Union{}, Tuple{}, NamedTuple{(), Tuple{}}})\n",
      "    @ PyCall ~/.julia/packages/PyCall/twYvK/src/pyfncall.jl:86\n",
      " [11] (::PyCall.PyObject)(::String, ::Vararg{String})\n",
      "    @ PyCall ~/.julia/packages/PyCall/twYvK/src/pyfncall.jl:86\n",
      " [12] CrowdNavController(sim_param::SimulationParameter, cnt_param::CrowdNavControlParameter)\n",
      "    @ RiskSensitiveSAC ~/DRC_Project/DRC_Trajectron/src/crowd_nav_controller.jl:36\n",
      " [13] controller_setup(scene_param::TrajectronSceneParameter, cnt_param::CrowdNavControlParameter; cost_param::CostParameter, dtc::Float64, prediction_steps::Int64, ego_pos_init_vec::Vector{Float64}, ego_vel_init_vec::Nothing, ego_pos_goal_vec::Vector{Float64}, t_init::RobotOS.Time, target_speed::Float64, sim_horizon::Float64, verbose::Bool)\n",
      "    @ RiskSensitiveSAC ~/DRC_Project/DRC_Trajectron/src/utils.jl:636\n",
      " [14] top-level scope\n",
      "    @ ~/DRC_Project/DRC_Trajectron/notebook/Eval_Example_8_CrowdNav_Data.ipynb:1"
     ]
    }
   ],
   "source": [
    "scene_loader, controller, w_init, ado_inputs, measurement_schedule, target_trajectory, target_speed =\n",
    "controller_setup(scene_param, cnt_param,\n",
    "                 cost_param=cost_param,\n",
    "                 dtc=dtc,\n",
    "                 prediction_steps=prediction_steps,\n",
    "                 ego_pos_init_vec=ego_pos_init_vec,\n",
    "                 ego_pos_goal_vec=ego_pos_goal_vec,\n",
    "                 target_speed=target_speed,\n",
    "                 sim_horizon=sim_horizon,\n",
    "                 verbose=true);"
   ]
  },
  {
   "cell_type": "code",
   "execution_count": null,
   "metadata": {},
   "outputs": [],
   "source": [
    "result, ~, ~ = evaluate(scene_loader, controller, w_init, ego_pos_goal_vec, target_speed,\n",
    "                  measurement_schedule, target_trajectory, pos_error_replan, \n",
    "                  ado_inputs_init=ado_inputs);"
   ]
  },
  {
   "cell_type": "code",
   "execution_count": null,
   "metadata": {},
   "outputs": [],
   "source": [
    "display_log(result.log)"
   ]
  },
  {
   "cell_type": "code",
   "execution_count": null,
   "metadata": {},
   "outputs": [],
   "source": [
    "result.total_cnt_cost"
   ]
  },
  {
   "cell_type": "code",
   "execution_count": null,
   "metadata": {},
   "outputs": [],
   "source": [
    "result.total_pos_cost"
   ]
  },
  {
   "cell_type": "code",
   "execution_count": null,
   "metadata": {},
   "outputs": [],
   "source": [
    "result.total_col_cost"
   ]
  },
  {
   "cell_type": "code",
   "execution_count": null,
   "metadata": {},
   "outputs": [],
   "source": [
    "result.total_cnt_cost + result.total_pos_cost + result.total_col_cost"
   ]
  },
  {
   "cell_type": "code",
   "execution_count": null,
   "metadata": {},
   "outputs": [],
   "source": [
    "minimum([minimum(vcat([norm(get_position(w.e_state) - ap) for ap in values(w.ap_dict)], Inf))\n",
    "                          for w in result.w_history])"
   ]
  },
  {
   "cell_type": "code",
   "execution_count": null,
   "metadata": {},
   "outputs": [],
   "source": [
    "make_gif(result, dtplot=0.02, fps=50, xlim=(-3. + -5.263534, 13. + -5.314636), \n",
    "         ylim=(0. + -5.263534, 10. + -5.314636), figsize=(600, 400), \n",
    "         legendfontsize=7, legend=:bottomright, markersize=5., filename=\"8_crowd_nav_data.gif\")"
   ]
  },
  {
   "cell_type": "code",
   "execution_count": null,
   "metadata": {},
   "outputs": [],
   "source": [
    "save(\"8_crowd_nav_data.jld2\", \"result\", result)"
   ]
  },
  {
   "cell_type": "code",
   "execution_count": null,
   "metadata": {},
   "outputs": [],
   "source": []
  }
 ],
 "metadata": {
  "@webio": {
   "lastCommId": null,
   "lastKernelId": null
  },
  "kernelspec": {
   "display_name": "Julia 1.8.5",
   "language": "julia",
   "name": "julia-1.8"
  },
  "language_info": {
   "file_extension": ".jl",
   "mimetype": "application/julia",
   "name": "julia",
   "version": "1.8.5"
  }
 },
 "nbformat": 4,
 "nbformat_minor": 4
}
