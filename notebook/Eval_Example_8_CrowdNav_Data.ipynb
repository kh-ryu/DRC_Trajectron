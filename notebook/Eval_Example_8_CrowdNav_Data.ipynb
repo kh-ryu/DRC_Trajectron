{
 "cells": [
  {
   "cell_type": "code",
   "execution_count": 1,
   "metadata": {},
   "outputs": [
    {
     "name": "stderr",
     "output_type": "stream",
     "text": [
      "\u001b[32m\u001b[1m    Building\u001b[22m\u001b[39m Conda ─→ `~/.julia/scratchspaces/44cfe95a-1eb2-52ea-b672-e2afdf69b78f/915ebe6f0e7302693bdd8eac985797dba1d25662/build.log`\n"
     ]
    },
    {
     "name": "stderr",
     "output_type": "stream",
     "text": [
      "\u001b[32m\u001b[1m    Building\u001b[22m\u001b[39m PyCall → `~/.julia/scratchspaces/44cfe95a-1eb2-52ea-b672-e2afdf69b78f/62f417f6ad727987c755549e9cd88c46578da562/build.log`\n"
     ]
    },
    {
     "name": "stderr",
     "output_type": "stream",
     "text": [
      "┌ Warning: The active manifest file is an older format with no julia version entry. Dependencies may have been resolved with a different julia version.\n",
      "└ @ nothing /home/kh-ryu/DRC_Project/DRC_Trajectron/Manifest.toml:0\n"
     ]
    },
    {
     "name": "stderr",
     "output_type": "stream",
     "text": [
      "┌ Info: Number of Julia Thread(s): 1\n",
      "└ @ RiskSensitiveSAC /home/kh-ryu/DRC_Project/DRC_Trajectron/src/RiskSensitiveSAC.jl:39\n",
      "┌ Info: CUDA Device: NVIDIA GeForce RTX 3060\n",
      "└ @ RiskSensitiveSAC /home/kh-ryu/DRC_Project/DRC_Trajectron/src/RiskSensitiveSAC.jl:40\n"
     ]
    },
    {
     "name": "stderr",
     "output_type": "stream",
     "text": [
      "┌ Info: Python executable used by PyCall: /home/kh-ryu/anaconda3/envs/trajectron++/bin/python\n",
      "└ @ RiskSensitiveSAC /home/kh-ryu/DRC_Project/DRC_Trajectron/src/RiskSensitiveSAC.jl:41\n"
     ]
    }
   ],
   "source": [
    "using Revise\n",
    "using Pkg\n",
    "\n",
    "ENV[\"PYTHON\"] = Sys.which(\"python\")\n",
    "ENV[\"PYCALL_JL_RUNTIME_PYTHON\"] = Sys.which(\"python\")\n",
    "Pkg.build(\"PyCall\")\n",
    "using FileIO\n",
    "using JLD2\n",
    "using RiskSensitiveSAC"
   ]
  },
  {
   "cell_type": "code",
   "execution_count": 14,
   "metadata": {},
   "outputs": [],
   "source": [
    "include(\"$(@__DIR__)/../scripts/default_params/params_data_gaussian.jl\");\n",
    "\n",
    "dtr = 0.4;                                                                          # replanning time interval [s]\n",
    "# dtc = 0.4;\n",
    "tcalc = 0.2;                                                                        # pre-allocated control computation time [s] (< dtr)\n",
    "sim_horizon = 16.0;                                                                 # simulation horizon [s]\n",
    "\n",
    "model_dir = normpath(joinpath(@__DIR__, \"../CrowdNav/crowd_nav/data/output_om_sarl_radius_0.4\")) # directory of the trained policy\n",
    "# model_dir = normpath(joinpath(@__DIR__, \"../CrowdNav/crowd_nav/data/output\")) # directory of the trained policy\n",
    "env_config = \"env.config\"                                                           # environment config file name\n",
    "policy_config = \"policy.config\"                                                     # policy config file name\n",
    "policy_name = \"sarl\"                                                                # policy name\n",
    "\n",
    "test_data_name = \"hotel_test.pkl\";                                                  # test data set name\n",
    "test_scene_id = 0;                                                                  # test data id\n",
    "start_time_idx = 401;                                                               # start time index in test data\n",
    "ego_pos_init_vec = [-1.5, -8.5] .+ [-1.393743, 2.978962];                           # initial ego position [x, y] [m]\n",
    "ego_pos_goal_vec = [3.5, 0.0]   .+ [-1.393743, 2.978962];                           # goal ego position [x, y] [m]\n",
    "target_speed = 1.0;                                                                 # target speed [m/s]\n",
    "sim_horizon = 10.0;                                                                 # simulation time horizon [s]\n",
    "\n",
    "\n",
    "include(\"$(@__DIR__)/../scripts/parameter_setup_crowd_nav.jl\");"
   ]
  },
  {
   "cell_type": "code",
   "execution_count": 15,
   "metadata": {},
   "outputs": [
    {
     "name": "stdout",
     "output_type": "stream",
     "text": [
      "Scene Mode: data\n",
      "CrowdNav Controller\n",
      "Loaded evaluation data from /home/kh-ryu/DRC_Project/DRC_Trajectron/Trajectron-plus-plus/experiments/processed/hotel_test.pkl\n",
      "Looking at the hotel_test.pkl sequence, data_id 0, start_idx 401\n"
     ]
    }
   ],
   "source": [
    "scene_loader, controller, w_init, ado_inputs, measurement_schedule, target_trajectory, target_speed =\n",
    "controller_setup(scene_param, cnt_param,\n",
    "                 cost_param=cost_param,\n",
    "                 dtc=dtc,\n",
    "                 prediction_steps=prediction_steps,\n",
    "                 ego_pos_init_vec=ego_pos_init_vec,\n",
    "                 ego_pos_goal_vec=ego_pos_goal_vec,\n",
    "                 target_speed=target_speed,\n",
    "                 sim_horizon=sim_horizon,\n",
    "                 verbose=true);"
   ]
  },
  {
   "cell_type": "code",
   "execution_count": 16,
   "metadata": {},
   "outputs": [
    {
     "name": "stderr",
     "output_type": "stream",
     "text": [
      "┌ Warning: Time 0.00 [sec]: CrowdNav computation took 0.274 [sec], which exceeds the maximum computation time allowed.\n",
      "└ @ RiskSensitiveSAC /home/kh-ryu/DRC_Project/DRC_Trajectron/src/crowd_nav_controller.jl:87\n"
     ]
    },
    {
     "name": "stderr",
     "output_type": "stream",
     "text": [
      "┌ Warning: Time 0.40 [sec]: This evaluation iteration took 0.086 [sec], which exceeds dtc.\n",
      "└ @ RiskSensitiveSAC /home/kh-ryu/DRC_Project/DRC_Trajectron/src/evaluation.jl:303\n"
     ]
    },
    {
     "name": "stderr",
     "output_type": "stream",
     "text": [
      "┌ Warning: Time 0.80 [sec]: CrowdNav computation took 0.798 [sec], which exceeds the maximum computation time allowed.\n",
      "└ @ RiskSensitiveSAC /home/kh-ryu/DRC_Project/DRC_Trajectron/src/crowd_nav_controller.jl:87\n",
      "┌ Warning: Time 0.80 [sec]: This evaluation iteration took 0.799 [sec], which exceeds dtc.\n",
      "└ @ RiskSensitiveSAC /home/kh-ryu/DRC_Project/DRC_Trajectron/src/evaluation.jl:303\n"
     ]
    },
    {
     "name": "stderr",
     "output_type": "stream",
     "text": [
      "┌ Warning: Time 1.20 [sec]: CrowdNav computation took 0.233 [sec], which exceeds the maximum computation time allowed.\n",
      "└ @ RiskSensitiveSAC /home/kh-ryu/DRC_Project/DRC_Trajectron/src/crowd_nav_controller.jl:87\n",
      "┌ Warning: Time 1.20 [sec]: This evaluation iteration took 0.233 [sec], which exceeds dtc.\n",
      "└ @ RiskSensitiveSAC /home/kh-ryu/DRC_Project/DRC_Trajectron/src/evaluation.jl:303\n"
     ]
    },
    {
     "name": "stderr",
     "output_type": "stream",
     "text": [
      "┌ Warning: Time 1.60 [sec]: CrowdNav computation took 0.476 [sec], which exceeds the maximum computation time allowed.\n",
      "└ @ RiskSensitiveSAC /home/kh-ryu/DRC_Project/DRC_Trajectron/src/crowd_nav_controller.jl:87\n",
      "┌ Warning: Time 1.60 [sec]: This evaluation iteration took 0.477 [sec], which exceeds dtc.\n",
      "└ @ RiskSensitiveSAC /home/kh-ryu/DRC_Project/DRC_Trajectron/src/evaluation.jl:303\n"
     ]
    },
    {
     "name": "stderr",
     "output_type": "stream",
     "text": [
      "┌ Warning: Time 2.00 [sec]: This evaluation iteration took 0.152 [sec], which exceeds dtc.\n",
      "└ @ RiskSensitiveSAC /home/kh-ryu/DRC_Project/DRC_Trajectron/src/evaluation.jl:303\n"
     ]
    },
    {
     "name": "stderr",
     "output_type": "stream",
     "text": [
      "┌ Warning: Time 2.40 [sec]: CrowdNav computation took 1.008 [sec], which exceeds the maximum computation time allowed.\n",
      "└ @ RiskSensitiveSAC /home/kh-ryu/DRC_Project/DRC_Trajectron/src/crowd_nav_controller.jl:87\n",
      "┌ Warning: Time 2.40 [sec]: This evaluation iteration took 1.008 [sec], which exceeds dtc.\n",
      "└ @ RiskSensitiveSAC /home/kh-ryu/DRC_Project/DRC_Trajectron/src/evaluation.jl:303\n"
     ]
    },
    {
     "name": "stderr",
     "output_type": "stream",
     "text": [
      "┌ Warning: Time 2.80 [sec]: CrowdNav computation took 2.34 [sec], which exceeds the maximum computation time allowed.\n",
      "└ @ RiskSensitiveSAC /home/kh-ryu/DRC_Project/DRC_Trajectron/src/crowd_nav_controller.jl:87\n",
      "┌ Warning: Time 2.80 [sec]: This evaluation iteration took 2.34 [sec], which exceeds dtc.\n",
      "└ @ RiskSensitiveSAC /home/kh-ryu/DRC_Project/DRC_Trajectron/src/evaluation.jl:303\n"
     ]
    },
    {
     "name": "stderr",
     "output_type": "stream",
     "text": [
      "┌ Warning: Time 3.20 [sec]: CrowdNav computation took 3.429 [sec], which exceeds the maximum computation time allowed.\n",
      "└ @ RiskSensitiveSAC /home/kh-ryu/DRC_Project/DRC_Trajectron/src/crowd_nav_controller.jl:87\n",
      "┌ Warning: Time 3.20 [sec]: This evaluation iteration took 3.429 [sec], which exceeds dtc.\n",
      "└ @ RiskSensitiveSAC /home/kh-ryu/DRC_Project/DRC_Trajectron/src/evaluation.jl:303\n"
     ]
    },
    {
     "name": "stderr",
     "output_type": "stream",
     "text": [
      "┌ Warning: Time 3.60 [sec]: CrowdNav computation took 2.317 [sec], which exceeds the maximum computation time allowed.\n",
      "└ @ RiskSensitiveSAC /home/kh-ryu/DRC_Project/DRC_Trajectron/src/crowd_nav_controller.jl:87\n",
      "┌ Warning: Time 3.60 [sec]: This evaluation iteration took 2.317 [sec], which exceeds dtc.\n",
      "└ @ RiskSensitiveSAC /home/kh-ryu/DRC_Project/DRC_Trajectron/src/evaluation.jl:303\n"
     ]
    },
    {
     "name": "stderr",
     "output_type": "stream",
     "text": [
      "┌ Warning: Time 4.00 [sec]: CrowdNav computation took 1.053 [sec], which exceeds the maximum computation time allowed.\n",
      "└ @ RiskSensitiveSAC /home/kh-ryu/DRC_Project/DRC_Trajectron/src/crowd_nav_controller.jl:87\n",
      "┌ Warning: Time 4.00 [sec]: This evaluation iteration took 1.053 [sec], which exceeds dtc.\n",
      "└ @ RiskSensitiveSAC /home/kh-ryu/DRC_Project/DRC_Trajectron/src/evaluation.jl:303\n"
     ]
    },
    {
     "name": "stderr",
     "output_type": "stream",
     "text": [
      "┌ Warning: Time 4.40 [sec]: CrowdNav computation took 3.61 [sec], which exceeds the maximum computation time allowed.\n",
      "└ @ RiskSensitiveSAC /home/kh-ryu/DRC_Project/DRC_Trajectron/src/crowd_nav_controller.jl:87\n",
      "┌ Warning: Time 4.40 [sec]: This evaluation iteration took 3.61 [sec], which exceeds dtc.\n",
      "└ @ RiskSensitiveSAC /home/kh-ryu/DRC_Project/DRC_Trajectron/src/evaluation.jl:303\n"
     ]
    },
    {
     "name": "stderr",
     "output_type": "stream",
     "text": [
      "┌ Warning: Time 4.80 [sec]: CrowdNav computation took 2.196 [sec], which exceeds the maximum computation time allowed.\n",
      "└ @ RiskSensitiveSAC /home/kh-ryu/DRC_Project/DRC_Trajectron/src/crowd_nav_controller.jl:87\n",
      "┌ Warning: Time 4.80 [sec]: This evaluation iteration took 2.196 [sec], which exceeds dtc.\n",
      "└ @ RiskSensitiveSAC /home/kh-ryu/DRC_Project/DRC_Trajectron/src/evaluation.jl:303\n"
     ]
    },
    {
     "name": "stderr",
     "output_type": "stream",
     "text": [
      "┌ Warning: Time 5.20 [sec]: CrowdNav computation took 3.317 [sec], which exceeds the maximum computation time allowed.\n",
      "└ @ RiskSensitiveSAC /home/kh-ryu/DRC_Project/DRC_Trajectron/src/crowd_nav_controller.jl:87\n",
      "┌ Warning: Time 5.20 [sec]: This evaluation iteration took 3.317 [sec], which exceeds dtc.\n",
      "└ @ RiskSensitiveSAC /home/kh-ryu/DRC_Project/DRC_Trajectron/src/evaluation.jl:303\n"
     ]
    },
    {
     "name": "stderr",
     "output_type": "stream",
     "text": [
      "┌ Warning: Time 5.60 [sec]: CrowdNav computation took 5.712 [sec], which exceeds the maximum computation time allowed.\n",
      "└ @ RiskSensitiveSAC /home/kh-ryu/DRC_Project/DRC_Trajectron/src/crowd_nav_controller.jl:87\n",
      "┌ Warning: Time 5.60 [sec]: This evaluation iteration took 5.712 [sec], which exceeds dtc.\n",
      "└ @ RiskSensitiveSAC /home/kh-ryu/DRC_Project/DRC_Trajectron/src/evaluation.jl:303\n"
     ]
    },
    {
     "name": "stderr",
     "output_type": "stream",
     "text": [
      "┌ Warning: Time 6.00 [sec]: This evaluation iteration took 0.109 [sec], which exceeds dtc.\n",
      "└ @ RiskSensitiveSAC /home/kh-ryu/DRC_Project/DRC_Trajectron/src/evaluation.jl:303\n"
     ]
    },
    {
     "name": "stderr",
     "output_type": "stream",
     "text": [
      "┌ Warning: Time 6.40 [sec]: This evaluation iteration took 0.146 [sec], which exceeds dtc.\n",
      "└ @ RiskSensitiveSAC /home/kh-ryu/DRC_Project/DRC_Trajectron/src/evaluation.jl:303\n"
     ]
    },
    {
     "name": "stderr",
     "output_type": "stream",
     "text": [
      "┌ Warning: Time 6.80 [sec]: This evaluation iteration took 0.087 [sec], which exceeds dtc.\n",
      "└ @ RiskSensitiveSAC /home/kh-ryu/DRC_Project/DRC_Trajectron/src/evaluation.jl:303\n"
     ]
    },
    {
     "name": "stderr",
     "output_type": "stream",
     "text": [
      "┌ Warning: Time 7.20 [sec]: This evaluation iteration took 0.123 [sec], which exceeds dtc.\n",
      "└ @ RiskSensitiveSAC /home/kh-ryu/DRC_Project/DRC_Trajectron/src/evaluation.jl:303\n"
     ]
    },
    {
     "name": "stderr",
     "output_type": "stream",
     "text": [
      "┌ Warning: Time 7.60 [sec]: CrowdNav computation took 0.36 [sec], which exceeds the maximum computation time allowed.\n",
      "└ @ RiskSensitiveSAC /home/kh-ryu/DRC_Project/DRC_Trajectron/src/crowd_nav_controller.jl:87\n",
      "┌ Warning: Time 7.60 [sec]: This evaluation iteration took 0.36 [sec], which exceeds dtc.\n",
      "└ @ RiskSensitiveSAC /home/kh-ryu/DRC_Project/DRC_Trajectron/src/evaluation.jl:303\n"
     ]
    },
    {
     "name": "stderr",
     "output_type": "stream",
     "text": [
      "┌ Warning: Time 8.00 [sec]: This evaluation iteration took 0.125 [sec], which exceeds dtc.\n",
      "└ @ RiskSensitiveSAC /home/kh-ryu/DRC_Project/DRC_Trajectron/src/evaluation.jl:303\n"
     ]
    },
    {
     "name": "stderr",
     "output_type": "stream",
     "text": [
      "┌ Warning: Time 8.40 [sec]: CrowdNav computation took 0.429 [sec], which exceeds the maximum computation time allowed.\n",
      "└ @ RiskSensitiveSAC /home/kh-ryu/DRC_Project/DRC_Trajectron/src/crowd_nav_controller.jl:87\n",
      "┌ Warning: Time 8.40 [sec]: This evaluation iteration took 0.429 [sec], which exceeds dtc.\n",
      "└ @ RiskSensitiveSAC /home/kh-ryu/DRC_Project/DRC_Trajectron/src/evaluation.jl:303\n"
     ]
    },
    {
     "name": "stderr",
     "output_type": "stream",
     "text": [
      "┌ Warning: Time 8.80 [sec]: This evaluation iteration took 0.105 [sec], which exceeds dtc.\n",
      "└ @ RiskSensitiveSAC /home/kh-ryu/DRC_Project/DRC_Trajectron/src/evaluation.jl:303\n"
     ]
    },
    {
     "name": "stderr",
     "output_type": "stream",
     "text": [
      "┌ Warning: Time 9.20 [sec]: This evaluation iteration took 0.13 [sec], which exceeds dtc.\n",
      "└ @ RiskSensitiveSAC /home/kh-ryu/DRC_Project/DRC_Trajectron/src/evaluation.jl:303\n"
     ]
    },
    {
     "name": "stderr",
     "output_type": "stream",
     "text": [
      "┌ Warning: Time 9.60 [sec]: This evaluation iteration took 0.075 [sec], which exceeds dtc.\n",
      "└ @ RiskSensitiveSAC /home/kh-ryu/DRC_Project/DRC_Trajectron/src/evaluation.jl:303\n"
     ]
    }
   ],
   "source": [
    "result, ~, ~ = evaluate(scene_loader, controller, w_init, ego_pos_goal_vec, target_speed,\n",
    "                  measurement_schedule, target_trajectory, pos_error_replan, \n",
    "                  ado_inputs_init=ado_inputs);"
   ]
  },
  {
   "cell_type": "code",
   "execution_count": 17,
   "metadata": {},
   "outputs": [
    {
     "name": "stdout",
     "output_type": "stream",
     "text": [
      "Time 0.00 [sec]: New CrowdNav control computation is scheduled.\n",
      "Time 0.00 [sec]: New CrowdNav control is available to the controller.\n",
      "Time 0.00 [sec]: Control: [0.9238795325112867, 0.3826834323650898] is applied to the system.\n",
      "Time 0.02 [sec]: Control: [0.9238795325112867, 0.3826834323650898] is applied to the system.\n",
      "Time 0.04 [sec]: Control: [0.9238795325112867, 0.3826834323650898] is applied to the system.\n",
      "Time 0.06 [sec]: Control: [0.9238795325112867, 0.3826834323650898] is applied to the system.\n",
      "Time 0.08 [sec]: Control: [0.9238795325112867, 0.3826834323650898] is applied to the system.\n",
      "Time 0.10 [sec]: Control: [0.9238795325112867, 0.3826834323650898] is applied to the system.\n",
      "Time 0.12 [sec]: Control: [0.9238795325112867, 0.3826834323650898] is applied to the system.\n",
      "Time 0.14 [sec]: Control: [0.9238795325112867, 0.3826834323650898] is applied to the system.\n",
      "Time 0.16 [sec]: Control: [0.9238795325112867, 0.3826834323650898] is applied to the system.\n",
      "Time 0.18 [sec]: Control: [0.9238795325112867, 0.3826834323650898] is applied to the system.\n",
      "Time 0.20 [sec]: Control: [0.9238795325112867, 0.3826834323650898] is applied to the system.\n",
      "Time 0.22 [sec]: Control: [0.9238795325112867, 0.3826834323650898] is applied to the system.\n",
      "Time 0.24 [sec]: Control: [0.9238795325112867, 0.3826834323650898] is applied to the system.\n",
      "Time 0.26 [sec]: Control: [0.9238795325112867, 0.3826834323650898] is applied to the system.\n",
      "Time 0.28 [sec]: Control: [0.9238795325112867, 0.3826834323650898] is applied to the system.\n",
      "Time 0.30 [sec]: Control: [0.9238795325112867, 0.3826834323650898] is applied to the system.\n",
      "Time 0.32 [sec]: Control: [0.9238795325112867, 0.3826834323650898] is applied to the system.\n",
      "Time 0.34 [sec]: Control: [0.9238795325112867, 0.3826834323650898] is applied to the system.\n",
      "Time 0.36 [sec]: Control: [0.9238795325112867, 0.3826834323650898] is applied to the system.\n",
      "Time 0.38 [sec]: Control: [0.9238795325112867, 0.3826834323650898] is applied to the system.\n",
      "Time 0.40 [sec]: New measurement is obtained.\n",
      "Time 0.40 [sec]: New CrowdNav control computation is scheduled.\n",
      "Time 0.40 [sec]: New CrowdNav control is available to the controller.\n",
      "Time 0.40 [sec]: Control: [0.38268343236508984, 0.9238795325112867] is applied to the system.\n",
      "Time 0.42 [sec]: Control: [0.38268343236508984, 0.9238795325112867] is applied to the system.\n",
      "Time 0.44 [sec]: Control: [0.38268343236508984, 0.9238795325112867] is applied to the system.\n",
      "Time 0.46 [sec]: Control: [0.38268343236508984, 0.9238795325112867] is applied to the system.\n",
      "Time 0.48 [sec]: Control: [0.38268343236508984, 0.9238795325112867] is applied to the system.\n",
      "Time 0.50 [sec]: Control: [0.38268343236508984, 0.9238795325112867] is applied to the system.\n",
      "Time 0.52 [sec]: Control: [0.38268343236508984, 0.9238795325112867] is applied to the system.\n",
      "Time 0.54 [sec]: Control: [0.38268343236508984, 0.9238795325112867] is applied to the system.\n",
      "Time 0.56 [sec]: Control: [0.38268343236508984, 0.9238795325112867] is applied to the system.\n",
      "Time 0.58 [sec]: Control: [0.38268343236508984, 0.9238795325112867] is applied to the system.\n",
      "Time 0.60 [sec]: Control: [0.38268343236508984, 0.9238795325112867] is applied to the system.\n",
      "Time 0.62 [sec]: Control: [0.38268343236508984, 0.9238795325112867] is applied to the system.\n",
      "Time 0.64 [sec]: Control: [0.38268343236508984, 0.9238795325112867] is applied to the system.\n",
      "Time 0.66 [sec]: Control: [0.38268343236508984, 0.9238795325112867] is applied to the system.\n",
      "Time 0.68 [sec]: Control: [0.38268343236508984, 0.9238795325112867] is applied to the system.\n",
      "Time 0.70 [sec]: Control: [0.38268343236508984, 0.9238795325112867] is applied to the system.\n",
      "Time 0.72 [sec]: Control: [0.38268343236508984, 0.9238795325112867] is applied to the system.\n",
      "Time 0.74 [sec]: Control: [0.38268343236508984, 0.9238795325112867] is applied to the system.\n",
      "Time 0.76 [sec]: Control: [0.38268343236508984, 0.9238795325112867] is applied to the system.\n",
      "Time 0.78 [sec]: Control: [0.38268343236508984, 0.9238795325112867] is applied to the system.\n",
      "Time 0.80 [sec]: New measurement is obtained.\n",
      "Time 0.80 [sec]: New CrowdNav control computation is scheduled.\n",
      "Time 0.80 [sec]: New CrowdNav control is available to the controller.\n",
      "Time 0.80 [sec]: Control: [0.9238795325112867, 0.3826834323650898] is applied to the system.\n",
      "Time 0.82 [sec]: Control: [0.9238795325112867, 0.3826834323650898] is applied to the system.\n",
      "Time 0.84 [sec]: Control: [0.9238795325112867, 0.3826834323650898] is applied to the system.\n",
      "Time 0.86 [sec]: Control: [0.9238795325112867, 0.3826834323650898] is applied to the system.\n",
      "Time 0.88 [sec]: Control: [0.9238795325112867, 0.3826834323650898] is applied to the system.\n",
      "Time 0.90 [sec]: Control: [0.9238795325112867, 0.3826834323650898] is applied to the system.\n",
      "Time 0.92 [sec]: Control: [0.9238795325112867, 0.3826834323650898] is applied to the system.\n",
      "Time 0.94 [sec]: Control: [0.9238795325112867, 0.3826834323650898] is applied to the system.\n",
      "Time 0.96 [sec]: Control: [0.9238795325112867, 0.3826834323650898] is applied to the system.\n",
      "Time 0.98 [sec]: Control: [0.9238795325112867, 0.3826834323650898] is applied to the system.\n",
      "Time 1.00 [sec]: Control: [0.9238795325112867, 0.3826834323650898] is applied to the system.\n",
      "Time 1.02 [sec]: Control: [0.9238795325112867, 0.3826834323650898] is applied to the system.\n",
      "Time 1.04 [sec]: Control: [0.9238795325112867, 0.3826834323650898] is applied to the system.\n",
      "Time 1.06 [sec]: Control: [0.9238795325112867, 0.3826834323650898] is applied to the system.\n",
      "Time 1.08 [sec]: Control: [0.9238795325112867, 0.3826834323650898] is applied to the system.\n",
      "Time 1.10 [sec]: Control: [0.9238795325112867, 0.3826834323650898] is applied to the system.\n",
      "Time 1.12 [sec]: Control: [0.9238795325112867, 0.3826834323650898] is applied to the system.\n",
      "Time 1.14 [sec]: Control: [0.9238795325112867, 0.3826834323650898] is applied to the system.\n",
      "Time 1.16 [sec]: Control: [0.9238795325112867, 0.3826834323650898] is applied to the system.\n",
      "Time 1.18 [sec]: Control: [0.9238795325112867, 0.3826834323650898] is applied to the system.\n",
      "Time 1.20 [sec]: New measurement is obtained.\n",
      "Time 1.20 [sec]: New CrowdNav control computation is scheduled.\n",
      "Time 1.20 [sec]: New CrowdNav control is available to the controller.\n",
      "Time 1.20 [sec]: Control: [0.9238795325112867, 0.3826834323650898] is applied to the system.\n",
      "Time 1.22 [sec]: Control: [0.9238795325112867, 0.3826834323650898] is applied to the system.\n",
      "Time 1.24 [sec]: Control: [0.9238795325112867, 0.3826834323650898] is applied to the system.\n",
      "Time 1.26 [sec]: Control: [0.9238795325112867, 0.3826834323650898] is applied to the system.\n",
      "Time 1.28 [sec]: Control: [0.9238795325112867, 0.3826834323650898] is applied to the system.\n",
      "Time 1.30 [sec]: Control: [0.9238795325112867, 0.3826834323650898] is applied to the system.\n",
      "Time 1.32 [sec]: Control: [0.9238795325112867, 0.3826834323650898] is applied to the system.\n",
      "Time 1.34 [sec]: Control: [0.9238795325112867, 0.3826834323650898] is applied to the system.\n",
      "Time 1.36 [sec]: Control: [0.9238795325112867, 0.3826834323650898] is applied to the system.\n",
      "Time 1.38 [sec]: Control: [0.9238795325112867, 0.3826834323650898] is applied to the system.\n",
      "Time 1.40 [sec]: Control: [0.9238795325112867, 0.3826834323650898] is applied to the system.\n",
      "Time 1.42 [sec]: Control: [0.9238795325112867, 0.3826834323650898] is applied to the system.\n",
      "Time 1.44 [sec]: Control: [0.9238795325112867, 0.3826834323650898] is applied to the system.\n",
      "Time 1.46 [sec]: Control: [0.9238795325112867, 0.3826834323650898] is applied to the system.\n",
      "Time 1.48 [sec]: Control: [0.9238795325112867, 0.3826834323650898] is applied to the system.\n",
      "Time 1.50 [sec]: Control: [0.9238795325112867, 0.3826834323650898] is applied to the system.\n",
      "Time 1.52 [sec]: Control: [0.9238795325112867, 0.3826834323650898] is applied to the system.\n",
      "Time 1.54 [sec]: Control: [0.9238795325112867, 0.3826834323650898] is applied to the system.\n",
      "Time 1.56 [sec]: Control: [0.9238795325112867, 0.3826834323650898] is applied to the system.\n",
      "Time 1.58 [sec]: Control: [0.9238795325112867, 0.3826834323650898] is applied to the system.\n",
      "Time 1.60 [sec]: New measurement is obtained.\n",
      "Time 1.60 [sec]: New CrowdNav control computation is scheduled.\n",
      "Time 1.60 [sec]: New CrowdNav control is available to the controller.\n",
      "Time 1.60 [sec]: Control: [0.9238795325112867, 0.3826834323650898] is applied to the system.\n",
      "Time 1.62 [sec]: Control: [0.9238795325112867, 0.3826834323650898] is applied to the system.\n",
      "Time 1.64 [sec]: Control: [0.9238795325112867, 0.3826834323650898] is applied to the system.\n",
      "Time 1.66 [sec]: Control: [0.9238795325112867, 0.3826834323650898] is applied to the system.\n",
      "Time 1.68 [sec]: Control: [0.9238795325112867, 0.3826834323650898] is applied to the system.\n",
      "Time 1.70 [sec]: Control: [0.9238795325112867, 0.3826834323650898] is applied to the system.\n",
      "Time 1.72 [sec]: Control: [0.9238795325112867, 0.3826834323650898] is applied to the system.\n",
      "Time 1.74 [sec]: Control: [0.9238795325112867, 0.3826834323650898] is applied to the system.\n",
      "Time 1.76 [sec]: Control: [0.9238795325112867, 0.3826834323650898] is applied to the system.\n",
      "Time 1.78 [sec]: Control: [0.9238795325112867, 0.3826834323650898] is applied to the system.\n",
      "Time 1.80 [sec]: Control: [0.9238795325112867, 0.3826834323650898] is applied to the system.\n",
      "Time 1.82 [sec]: Control: [0.9238795325112867, 0.3826834323650898] is applied to the system.\n",
      "Time 1.84 [sec]: Control: [0.9238795325112867, 0.3826834323650898] is applied to the system.\n",
      "Time 1.86 [sec]: Control: [0.9238795325112867, 0.3826834323650898] is applied to the system.\n",
      "Time 1.88 [sec]: Control: [0.9238795325112867, 0.3826834323650898] is applied to the system.\n",
      "Time 1.90 [sec]: Control: [0.9238795325112867, 0.3826834323650898] is applied to the system.\n",
      "Time 1.92 [sec]: Control: [0.9238795325112867, 0.3826834323650898] is applied to the system.\n",
      "Time 1.94 [sec]: Control: [0.9238795325112867, 0.3826834323650898] is applied to the system.\n",
      "Time 1.96 [sec]: Control: [0.9238795325112867, 0.3826834323650898] is applied to the system.\n",
      "Time 1.98 [sec]: Control: [0.9238795325112867, 0.3826834323650898] is applied to the system.\n",
      "Time 2.00 [sec]: New measurement is obtained.\n",
      "Time 2.00 [sec]: New CrowdNav control computation is scheduled.\n"
     ]
    },
    {
     "name": "stdout",
     "output_type": "stream",
     "text": [
      "Time 2.00 [sec]: New CrowdNav control is available to the controller.\n",
      "Time 2.00 [sec]: Control: [0.9238795325112867, 0.3826834323650898] is applied to the system.\n",
      "Time 2.02 [sec]: Control: [0.9238795325112867, 0.3826834323650898] is applied to the system.\n",
      "Time 2.04 [sec]: Control: [0.9238795325112867, 0.3826834323650898] is applied to the system.\n",
      "Time 2.06 [sec]: Control: [0.9238795325112867, 0.3826834323650898] is applied to the system.\n",
      "Time 2.08 [sec]: Control: [0.9238795325112867, 0.3826834323650898] is applied to the system.\n",
      "Time 2.10 [sec]: Control: [0.9238795325112867, 0.3826834323650898] is applied to the system.\n",
      "Time 2.12 [sec]: Control: [0.9238795325112867, 0.3826834323650898] is applied to the system.\n",
      "Time 2.14 [sec]: Control: [0.9238795325112867, 0.3826834323650898] is applied to the system.\n",
      "Time 2.16 [sec]: Control: [0.9238795325112867, 0.3826834323650898] is applied to the system.\n",
      "Time 2.18 [sec]: Control: [0.9238795325112867, 0.3826834323650898] is applied to the system.\n",
      "Time 2.20 [sec]: Control: [0.9238795325112867, 0.3826834323650898] is applied to the system.\n",
      "Time 2.22 [sec]: Control: [0.9238795325112867, 0.3826834323650898] is applied to the system.\n",
      "Time 2.24 [sec]: Control: [0.9238795325112867, 0.3826834323650898] is applied to the system.\n",
      "Time 2.26 [sec]: Control: [0.9238795325112867, 0.3826834323650898] is applied to the system.\n",
      "Time 2.28 [sec]: Control: [0.9238795325112867, 0.3826834323650898] is applied to the system.\n",
      "Time 2.30 [sec]: Control: [0.9238795325112867, 0.3826834323650898] is applied to the system.\n",
      "Time 2.32 [sec]: Control: [0.9238795325112867, 0.3826834323650898] is applied to the system.\n",
      "Time 2.34 [sec]: Control: [0.9238795325112867, 0.3826834323650898] is applied to the system.\n",
      "Time 2.36 [sec]: Control: [0.9238795325112867, 0.3826834323650898] is applied to the system.\n",
      "Time 2.38 [sec]: Control: [0.9238795325112867, 0.3826834323650898] is applied to the system.\n",
      "Time 2.40 [sec]: New measurement is obtained.\n",
      "Time 2.40 [sec]: New CrowdNav control computation is scheduled.\n",
      "Time 2.40 [sec]: New CrowdNav control is available to the controller.\n",
      "Time 2.40 [sec]: Control: [0.9238795325112867, 0.3826834323650898] is applied to the system.\n",
      "Time 2.42 [sec]: Control: [0.9238795325112867, 0.3826834323650898] is applied to the system.\n",
      "Time 2.44 [sec]: Control: [0.9238795325112867, 0.3826834323650898] is applied to the system.\n",
      "Time 2.46 [sec]: Control: [0.9238795325112867, 0.3826834323650898] is applied to the system.\n",
      "Time 2.48 [sec]: Control: [0.9238795325112867, 0.3826834323650898] is applied to the system.\n",
      "Time 2.50 [sec]: Control: [0.9238795325112867, 0.3826834323650898] is applied to the system.\n",
      "Time 2.52 [sec]: Control: [0.9238795325112867, 0.3826834323650898] is applied to the system.\n",
      "Time 2.54 [sec]: Control: [0.9238795325112867, 0.3826834323650898] is applied to the system.\n",
      "Time 2.56 [sec]: Control: [0.9238795325112867, 0.3826834323650898] is applied to the system.\n",
      "Time 2.58 [sec]: Control: [0.9238795325112867, 0.3826834323650898] is applied to the system.\n",
      "Time 2.60 [sec]: Control: [0.9238795325112867, 0.3826834323650898] is applied to the system.\n",
      "Time 2.62 [sec]: Control: [0.9238795325112867, 0.3826834323650898] is applied to the system.\n",
      "Time 2.64 [sec]: Control: [0.9238795325112867, 0.3826834323650898] is applied to the system.\n",
      "Time 2.66 [sec]: Control: [0.9238795325112867, 0.3826834323650898] is applied to the system.\n",
      "Time 2.68 [sec]: Control: [0.9238795325112867, 0.3826834323650898] is applied to the system.\n",
      "Time 2.70 [sec]: Control: [0.9238795325112867, 0.3826834323650898] is applied to the system.\n",
      "Time 2.72 [sec]: Control: [0.9238795325112867, 0.3826834323650898] is applied to the system.\n",
      "Time 2.74 [sec]: Control: [0.9238795325112867, 0.3826834323650898] is applied to the system.\n",
      "Time 2.76 [sec]: Control: [0.9238795325112867, 0.3826834323650898] is applied to the system.\n",
      "Time 2.78 [sec]: Control: [0.9238795325112867, 0.3826834323650898] is applied to the system.\n",
      "Time 2.80 [sec]: New measurement is obtained.\n",
      "Time 2.80 [sec]: New CrowdNav control computation is scheduled.\n",
      "Time 2.80 [sec]: New CrowdNav control is available to the controller.\n",
      "Time 2.80 [sec]: Control: [0.9238795325112867, 0.3826834323650898] is applied to the system.\n",
      "Time 2.82 [sec]: Control: [0.9238795325112867, 0.3826834323650898] is applied to the system.\n",
      "Time 2.84 [sec]: Control: [0.9238795325112867, 0.3826834323650898] is applied to the system.\n",
      "Time 2.86 [sec]: Control: [0.9238795325112867, 0.3826834323650898] is applied to the system.\n",
      "Time 2.88 [sec]: Control: [0.9238795325112867, 0.3826834323650898] is applied to the system.\n",
      "Time 2.90 [sec]: Control: [0.9238795325112867, 0.3826834323650898] is applied to the system.\n",
      "Time 2.92 [sec]: Control: [0.9238795325112867, 0.3826834323650898] is applied to the system.\n",
      "Time 2.94 [sec]: Control: [0.9238795325112867, 0.3826834323650898] is applied to the system.\n",
      "Time 2.96 [sec]: Control: [0.9238795325112867, 0.3826834323650898] is applied to the system.\n",
      "Time 2.98 [sec]: Control: [0.9238795325112867, 0.3826834323650898] is applied to the system.\n",
      "Time 3.00 [sec]: Control: [0.9238795325112867, 0.3826834323650898] is applied to the system.\n",
      "Time 3.02 [sec]: Control: [0.9238795325112867, 0.3826834323650898] is applied to the system.\n",
      "Time 3.04 [sec]: Control: [0.9238795325112867, 0.3826834323650898] is applied to the system.\n",
      "Time 3.06 [sec]: Control: [0.9238795325112867, 0.3826834323650898] is applied to the system.\n",
      "Time 3.08 [sec]: Control: [0.9238795325112867, 0.3826834323650898] is applied to the system.\n",
      "Time 3.10 [sec]: Control: [0.9238795325112867, 0.3826834323650898] is applied to the system.\n",
      "Time 3.12 [sec]: Control: [0.9238795325112867, 0.3826834323650898] is applied to the system.\n",
      "Time 3.14 [sec]: Control: [0.9238795325112867, 0.3826834323650898] is applied to the system.\n",
      "Time 3.16 [sec]: Control: [0.9238795325112867, 0.3826834323650898] is applied to the system.\n",
      "Time 3.18 [sec]: Control: [0.9238795325112867, 0.3826834323650898] is applied to the system.\n",
      "Time 3.20 [sec]: New measurement is obtained.\n",
      "Time 3.20 [sec]: New CrowdNav control computation is scheduled.\n",
      "Time 3.20 [sec]: New CrowdNav control is available to the controller.\n",
      "Time 3.20 [sec]: Control: [0.7071067811865476, 0.7071067811865475] is applied to the system.\n",
      "Time 3.22 [sec]: Control: [0.7071067811865476, 0.7071067811865475] is applied to the system.\n",
      "Time 3.24 [sec]: Control: [0.7071067811865476, 0.7071067811865475] is applied to the system.\n",
      "Time 3.26 [sec]: Control: [0.7071067811865476, 0.7071067811865475] is applied to the system.\n",
      "Time 3.28 [sec]: Control: [0.7071067811865476, 0.7071067811865475] is applied to the system.\n",
      "Time 3.30 [sec]: Control: [0.7071067811865476, 0.7071067811865475] is applied to the system.\n",
      "Time 3.32 [sec]: Control: [0.7071067811865476, 0.7071067811865475] is applied to the system.\n",
      "Time 3.34 [sec]: Control: [0.7071067811865476, 0.7071067811865475] is applied to the system.\n",
      "Time 3.36 [sec]: Control: [0.7071067811865476, 0.7071067811865475] is applied to the system.\n",
      "Time 3.38 [sec]: Control: [0.7071067811865476, 0.7071067811865475] is applied to the system.\n",
      "Time 3.40 [sec]: Control: [0.7071067811865476, 0.7071067811865475] is applied to the system.\n",
      "Time 3.42 [sec]: Control: [0.7071067811865476, 0.7071067811865475] is applied to the system.\n",
      "Time 3.44 [sec]: Control: [0.7071067811865476, 0.7071067811865475] is applied to the system.\n",
      "Time 3.46 [sec]: Control: [0.7071067811865476, 0.7071067811865475] is applied to the system.\n",
      "Time 3.48 [sec]: Control: [0.7071067811865476, 0.7071067811865475] is applied to the system.\n",
      "Time 3.50 [sec]: Control: [0.7071067811865476, 0.7071067811865475] is applied to the system.\n",
      "Time 3.52 [sec]: Control: [0.7071067811865476, 0.7071067811865475] is applied to the system.\n",
      "Time 3.54 [sec]: Control: [0.7071067811865476, 0.7071067811865475] is applied to the system.\n",
      "Time 3.56 [sec]: Control: [0.7071067811865476, 0.7071067811865475] is applied to the system.\n",
      "Time 3.58 [sec]: Control: [0.7071067811865476, 0.7071067811865475] is applied to the system.\n",
      "Time 3.60 [sec]: New measurement is obtained.\n",
      "Time 3.60 [sec]: New CrowdNav control computation is scheduled.\n",
      "Time 3.60 [sec]: New CrowdNav control is available to the controller.\n",
      "Time 3.60 [sec]: Control: [0.7071067811865476, 0.7071067811865475] is applied to the system.\n",
      "Time 3.62 [sec]: Control: [0.7071067811865476, 0.7071067811865475] is applied to the system.\n",
      "Time 3.64 [sec]: Control: [0.7071067811865476, 0.7071067811865475] is applied to the system.\n",
      "Time 3.66 [sec]: Control: [0.7071067811865476, 0.7071067811865475] is applied to the system.\n",
      "Time 3.68 [sec]: Control: [0.7071067811865476, 0.7071067811865475] is applied to the system.\n",
      "Time 3.70 [sec]: Control: [0.7071067811865476, 0.7071067811865475] is applied to the system.\n",
      "Time 3.72 [sec]: Control: [0.7071067811865476, 0.7071067811865475] is applied to the system.\n",
      "Time 3.74 [sec]: Control: [0.7071067811865476, 0.7071067811865475] is applied to the system.\n",
      "Time 3.76 [sec]: Control: [0.7071067811865476, 0.7071067811865475] is applied to the system.\n",
      "Time 3.78 [sec]: Control: [0.7071067811865476, 0.7071067811865475] is applied to the system.\n",
      "Time 3.80 [sec]: Control: [0.7071067811865476, 0.7071067811865475] is applied to the system.\n",
      "Time 3.82 [sec]: Control: [0.7071067811865476, 0.7071067811865475] is applied to the system.\n",
      "Time 3.84 [sec]: Control: [0.7071067811865476, 0.7071067811865475] is applied to the system.\n",
      "Time 3.86 [sec]: Control: [0.7071067811865476, 0.7071067811865475] is applied to the system.\n",
      "Time 3.88 [sec]: Control: [0.7071067811865476, 0.7071067811865475] is applied to the system.\n",
      "Time 3.90 [sec]: Control: [0.7071067811865476, 0.7071067811865475] is applied to the system.\n",
      "Time 3.92 [sec]: Control: [0.7071067811865476, 0.7071067811865475] is applied to the system.\n",
      "Time 3.94 [sec]: Control: [0.7071067811865476, 0.7071067811865475] is applied to the system.\n",
      "Time 3.96 [sec]: Control: [0.7071067811865476, 0.7071067811865475] is applied to the system.\n",
      "Time 3.98 [sec]: Control: [0.7071067811865476, 0.7071067811865475] is applied to the system.\n",
      "Time 4.00 [sec]: New measurement is obtained.\n",
      "Time 4.00 [sec]: New CrowdNav control computation is scheduled.\n",
      "Time 4.00 [sec]: New CrowdNav control is available to the controller.\n"
     ]
    },
    {
     "name": "stdout",
     "output_type": "stream",
     "text": [
      "Time 4.00 [sec]: Control: [0.9238795325112867, 0.3826834323650898] is applied to the system.\n",
      "Time 4.02 [sec]: Control: [0.9238795325112867, 0.3826834323650898] is applied to the system.\n",
      "Time 4.04 [sec]: Control: [0.9238795325112867, 0.3826834323650898] is applied to the system.\n",
      "Time 4.06 [sec]: Control: [0.9238795325112867, 0.3826834323650898] is applied to the system.\n",
      "Time 4.08 [sec]: Control: [0.9238795325112867, 0.3826834323650898] is applied to the system.\n",
      "Time 4.10 [sec]: Control: [0.9238795325112867, 0.3826834323650898] is applied to the system.\n",
      "Time 4.12 [sec]: Position deviation: 2.002. Target Trajectory is replanned.\n",
      "Time 4.12 [sec]: Control: [0.9238795325112867, 0.3826834323650898] is applied to the system.\n",
      "Time 4.14 [sec]: Control: [0.9238795325112867, 0.3826834323650898] is applied to the system.\n",
      "Time 4.16 [sec]: Control: [0.9238795325112867, 0.3826834323650898] is applied to the system.\n",
      "Time 4.18 [sec]: Control: [0.9238795325112867, 0.3826834323650898] is applied to the system.\n",
      "Time 4.20 [sec]: Control: [0.9238795325112867, 0.3826834323650898] is applied to the system.\n",
      "Time 4.22 [sec]: Control: [0.9238795325112867, 0.3826834323650898] is applied to the system.\n",
      "Time 4.24 [sec]: Control: [0.9238795325112867, 0.3826834323650898] is applied to the system.\n",
      "Time 4.26 [sec]: Control: [0.9238795325112867, 0.3826834323650898] is applied to the system.\n",
      "Time 4.28 [sec]: Control: [0.9238795325112867, 0.3826834323650898] is applied to the system.\n",
      "Time 4.30 [sec]: Control: [0.9238795325112867, 0.3826834323650898] is applied to the system.\n",
      "Time 4.32 [sec]: Control: [0.9238795325112867, 0.3826834323650898] is applied to the system.\n",
      "Time 4.34 [sec]: Control: [0.9238795325112867, 0.3826834323650898] is applied to the system.\n",
      "Time 4.36 [sec]: Control: [0.9238795325112867, 0.3826834323650898] is applied to the system.\n",
      "Time 4.38 [sec]: Control: [0.9238795325112867, 0.3826834323650898] is applied to the system.\n",
      "Time 4.40 [sec]: New measurement is obtained.\n",
      "Time 4.40 [sec]: New CrowdNav control computation is scheduled.\n",
      "Time 4.40 [sec]: New CrowdNav control is available to the controller.\n",
      "Time 4.40 [sec]: Control: [0.9238795325112867, 0.3826834323650898] is applied to the system.\n",
      "Time 4.42 [sec]: Control: [0.9238795325112867, 0.3826834323650898] is applied to the system.\n",
      "Time 4.44 [sec]: Control: [0.9238795325112867, 0.3826834323650898] is applied to the system.\n",
      "Time 4.46 [sec]: Control: [0.9238795325112867, 0.3826834323650898] is applied to the system.\n",
      "Time 4.48 [sec]: Control: [0.9238795325112867, 0.3826834323650898] is applied to the system.\n",
      "Time 4.50 [sec]: Control: [0.9238795325112867, 0.3826834323650898] is applied to the system.\n",
      "Time 4.52 [sec]: Control: [0.9238795325112867, 0.3826834323650898] is applied to the system.\n",
      "Time 4.54 [sec]: Control: [0.9238795325112867, 0.3826834323650898] is applied to the system.\n",
      "Time 4.56 [sec]: Control: [0.9238795325112867, 0.3826834323650898] is applied to the system.\n",
      "Time 4.58 [sec]: Control: [0.9238795325112867, 0.3826834323650898] is applied to the system.\n",
      "Time 4.60 [sec]: Control: [0.9238795325112867, 0.3826834323650898] is applied to the system.\n",
      "Time 4.62 [sec]: Control: [0.9238795325112867, 0.3826834323650898] is applied to the system.\n",
      "Time 4.64 [sec]: Control: [0.9238795325112867, 0.3826834323650898] is applied to the system.\n",
      "Time 4.66 [sec]: Control: [0.9238795325112867, 0.3826834323650898] is applied to the system.\n",
      "Time 4.68 [sec]: Control: [0.9238795325112867, 0.3826834323650898] is applied to the system.\n",
      "Time 4.70 [sec]: Control: [0.9238795325112867, 0.3826834323650898] is applied to the system.\n",
      "Time 4.72 [sec]: Control: [0.9238795325112867, 0.3826834323650898] is applied to the system.\n",
      "Time 4.74 [sec]: Control: [0.9238795325112867, 0.3826834323650898] is applied to the system.\n",
      "Time 4.76 [sec]: Control: [0.9238795325112867, 0.3826834323650898] is applied to the system.\n",
      "Time 4.78 [sec]: Control: [0.9238795325112867, 0.3826834323650898] is applied to the system.\n",
      "Time 4.80 [sec]: New measurement is obtained.\n",
      "Time 4.80 [sec]: New CrowdNav control computation is scheduled.\n",
      "Time 4.80 [sec]: New CrowdNav control is available to the controller.\n",
      "Time 4.80 [sec]: Control: [0.7071067811865476, 0.7071067811865475] is applied to the system.\n",
      "Time 4.82 [sec]: Control: [0.7071067811865476, 0.7071067811865475] is applied to the system.\n",
      "Time 4.84 [sec]: Control: [0.7071067811865476, 0.7071067811865475] is applied to the system.\n",
      "Time 4.86 [sec]: Control: [0.7071067811865476, 0.7071067811865475] is applied to the system.\n",
      "Time 4.88 [sec]: Control: [0.7071067811865476, 0.7071067811865475] is applied to the system.\n",
      "Time 4.90 [sec]: Control: [0.7071067811865476, 0.7071067811865475] is applied to the system.\n",
      "Time 4.92 [sec]: Control: [0.7071067811865476, 0.7071067811865475] is applied to the system.\n",
      "Time 4.94 [sec]: Control: [0.7071067811865476, 0.7071067811865475] is applied to the system.\n",
      "Time 4.96 [sec]: Control: [0.7071067811865476, 0.7071067811865475] is applied to the system.\n",
      "Time 4.98 [sec]: Control: [0.7071067811865476, 0.7071067811865475] is applied to the system.\n",
      "Time 5.00 [sec]: Control: [0.7071067811865476, 0.7071067811865475] is applied to the system.\n",
      "Time 5.02 [sec]: Control: [0.7071067811865476, 0.7071067811865475] is applied to the system.\n",
      "Time 5.04 [sec]: Control: [0.7071067811865476, 0.7071067811865475] is applied to the system.\n",
      "Time 5.06 [sec]: Control: [0.7071067811865476, 0.7071067811865475] is applied to the system.\n",
      "Time 5.08 [sec]: Control: [0.7071067811865476, 0.7071067811865475] is applied to the system.\n",
      "Time 5.10 [sec]: Control: [0.7071067811865476, 0.7071067811865475] is applied to the system.\n",
      "Time 5.12 [sec]: Control: [0.7071067811865476, 0.7071067811865475] is applied to the system.\n",
      "Time 5.14 [sec]: Control: [0.7071067811865476, 0.7071067811865475] is applied to the system.\n",
      "Time 5.16 [sec]: Control: [0.7071067811865476, 0.7071067811865475] is applied to the system.\n",
      "Time 5.18 [sec]: Control: [0.7071067811865476, 0.7071067811865475] is applied to the system.\n",
      "Time 5.20 [sec]: New measurement is obtained.\n",
      "Time 5.20 [sec]: New CrowdNav control computation is scheduled.\n",
      "Time 5.20 [sec]: New CrowdNav control is available to the controller.\n",
      "Time 5.20 [sec]: Control: [0.7071067811865476, 0.7071067811865475] is applied to the system.\n",
      "Time 5.22 [sec]: Control: [0.7071067811865476, 0.7071067811865475] is applied to the system.\n",
      "Time 5.24 [sec]: Control: [0.7071067811865476, 0.7071067811865475] is applied to the system.\n",
      "Time 5.26 [sec]: Control: [0.7071067811865476, 0.7071067811865475] is applied to the system.\n",
      "Time 5.28 [sec]: Control: [0.7071067811865476, 0.7071067811865475] is applied to the system.\n",
      "Time 5.30 [sec]: Control: [0.7071067811865476, 0.7071067811865475] is applied to the system.\n",
      "Time 5.32 [sec]: Control: [0.7071067811865476, 0.7071067811865475] is applied to the system.\n",
      "Time 5.34 [sec]: Control: [0.7071067811865476, 0.7071067811865475] is applied to the system.\n",
      "Time 5.36 [sec]: Control: [0.7071067811865476, 0.7071067811865475] is applied to the system.\n",
      "Time 5.38 [sec]: Control: [0.7071067811865476, 0.7071067811865475] is applied to the system.\n",
      "Time 5.40 [sec]: Control: [0.7071067811865476, 0.7071067811865475] is applied to the system.\n",
      "Time 5.42 [sec]: Control: [0.7071067811865476, 0.7071067811865475] is applied to the system.\n",
      "Time 5.44 [sec]: Control: [0.7071067811865476, 0.7071067811865475] is applied to the system.\n",
      "Time 5.46 [sec]: Control: [0.7071067811865476, 0.7071067811865475] is applied to the system.\n",
      "Time 5.48 [sec]: Control: [0.7071067811865476, 0.7071067811865475] is applied to the system.\n",
      "Time 5.50 [sec]: Control: [0.7071067811865476, 0.7071067811865475] is applied to the system.\n",
      "Time 5.52 [sec]: Control: [0.7071067811865476, 0.7071067811865475] is applied to the system.\n",
      "Time 5.54 [sec]: Control: [0.7071067811865476, 0.7071067811865475] is applied to the system.\n",
      "Time 5.56 [sec]: Control: [0.7071067811865476, 0.7071067811865475] is applied to the system.\n",
      "Time 5.58 [sec]: Control: [0.7071067811865476, 0.7071067811865475] is applied to the system.\n",
      "Time 5.60 [sec]: New measurement is obtained.\n",
      "Time 5.60 [sec]: New CrowdNav control computation is scheduled.\n",
      "Time 5.60 [sec]: New CrowdNav control is available to the controller.\n",
      "Time 5.60 [sec]: Control: [0.7071067811865476, 0.7071067811865475] is applied to the system.\n",
      "Time 5.62 [sec]: Control: [0.7071067811865476, 0.7071067811865475] is applied to the system.\n",
      "Time 5.64 [sec]: Control: [0.7071067811865476, 0.7071067811865475] is applied to the system.\n",
      "Time 5.66 [sec]: Control: [0.7071067811865476, 0.7071067811865475] is applied to the system.\n",
      "Time 5.68 [sec]: Control: [0.7071067811865476, 0.7071067811865475] is applied to the system.\n",
      "Time 5.70 [sec]: Control: [0.7071067811865476, 0.7071067811865475] is applied to the system.\n",
      "Time 5.72 [sec]: Control: [0.7071067811865476, 0.7071067811865475] is applied to the system.\n",
      "Time 5.74 [sec]: Control: [0.7071067811865476, 0.7071067811865475] is applied to the system.\n",
      "Time 5.76 [sec]: Control: [0.7071067811865476, 0.7071067811865475] is applied to the system.\n",
      "Time 5.78 [sec]: Control: [0.7071067811865476, 0.7071067811865475] is applied to the system.\n",
      "Time 5.80 [sec]: Control: [0.7071067811865476, 0.7071067811865475] is applied to the system.\n",
      "Time 5.82 [sec]: Control: [0.7071067811865476, 0.7071067811865475] is applied to the system.\n",
      "Time 5.84 [sec]: Control: [0.7071067811865476, 0.7071067811865475] is applied to the system.\n",
      "Time 5.86 [sec]: Control: [0.7071067811865476, 0.7071067811865475] is applied to the system.\n",
      "Time 5.88 [sec]: Control: [0.7071067811865476, 0.7071067811865475] is applied to the system.\n",
      "Time 5.90 [sec]: Control: [0.7071067811865476, 0.7071067811865475] is applied to the system.\n",
      "Time 5.92 [sec]: Control: [0.7071067811865476, 0.7071067811865475] is applied to the system.\n",
      "Time 5.94 [sec]: Control: [0.7071067811865476, 0.7071067811865475] is applied to the system.\n",
      "Time 5.96 [sec]: Control: [0.7071067811865476, 0.7071067811865475] is applied to the system.\n",
      "Time 5.98 [sec]: Control: [0.7071067811865476, 0.7071067811865475] is applied to the system.\n",
      "Time 6.00 [sec]: New measurement is obtained.\n",
      "Time 6.00 [sec]: New CrowdNav control computation is scheduled.\n",
      "Time 6.00 [sec]: New CrowdNav control is available to the controller.\n"
     ]
    },
    {
     "name": "stdout",
     "output_type": "stream",
     "text": [
      "Time 6.00 [sec]: Control: [6.123233995736766e-17, 1.0] is applied to the system.\n",
      "Time 6.02 [sec]: Control: [6.123233995736766e-17, 1.0] is applied to the system.\n",
      "Time 6.04 [sec]: Control: [6.123233995736766e-17, 1.0] is applied to the system.\n",
      "Time 6.06 [sec]: Control: [6.123233995736766e-17, 1.0] is applied to the system.\n",
      "Time 6.08 [sec]: Control: [6.123233995736766e-17, 1.0] is applied to the system.\n",
      "Time 6.10 [sec]: Control: [6.123233995736766e-17, 1.0] is applied to the system.\n",
      "Time 6.12 [sec]: Control: [6.123233995736766e-17, 1.0] is applied to the system.\n",
      "Time 6.14 [sec]: Control: [6.123233995736766e-17, 1.0] is applied to the system.\n",
      "Time 6.16 [sec]: Control: [6.123233995736766e-17, 1.0] is applied to the system.\n",
      "Time 6.18 [sec]: Control: [6.123233995736766e-17, 1.0] is applied to the system.\n",
      "Time 6.20 [sec]: Control: [6.123233995736766e-17, 1.0] is applied to the system.\n",
      "Time 6.22 [sec]: Control: [6.123233995736766e-17, 1.0] is applied to the system.\n",
      "Time 6.24 [sec]: Control: [6.123233995736766e-17, 1.0] is applied to the system.\n",
      "Time 6.26 [sec]: Control: [6.123233995736766e-17, 1.0] is applied to the system.\n",
      "Time 6.28 [sec]: Control: [6.123233995736766e-17, 1.0] is applied to the system.\n",
      "Time 6.30 [sec]: Control: [6.123233995736766e-17, 1.0] is applied to the system.\n",
      "Time 6.32 [sec]: Control: [6.123233995736766e-17, 1.0] is applied to the system.\n",
      "Time 6.34 [sec]: Control: [6.123233995736766e-17, 1.0] is applied to the system.\n",
      "Time 6.36 [sec]: Control: [6.123233995736766e-17, 1.0] is applied to the system.\n",
      "Time 6.38 [sec]: Control: [6.123233995736766e-17, 1.0] is applied to the system.\n",
      "Time 6.40 [sec]: New measurement is obtained.\n",
      "Time 6.40 [sec]: New CrowdNav control computation is scheduled.\n",
      "Time 6.40 [sec]: New CrowdNav control is available to the controller.\n",
      "Time 6.40 [sec]: Control: [6.123233995736766e-17, 1.0] is applied to the system.\n",
      "Time 6.42 [sec]: Control: [6.123233995736766e-17, 1.0] is applied to the system.\n",
      "Time 6.44 [sec]: Control: [6.123233995736766e-17, 1.0] is applied to the system.\n",
      "Time 6.46 [sec]: Control: [6.123233995736766e-17, 1.0] is applied to the system.\n",
      "Time 6.48 [sec]: Control: [6.123233995736766e-17, 1.0] is applied to the system.\n",
      "Time 6.50 [sec]: Control: [6.123233995736766e-17, 1.0] is applied to the system.\n",
      "Time 6.52 [sec]: Control: [6.123233995736766e-17, 1.0] is applied to the system.\n",
      "Time 6.54 [sec]: Control: [6.123233995736766e-17, 1.0] is applied to the system.\n",
      "Time 6.56 [sec]: Control: [6.123233995736766e-17, 1.0] is applied to the system.\n",
      "Time 6.58 [sec]: Control: [6.123233995736766e-17, 1.0] is applied to the system.\n",
      "Time 6.60 [sec]: Control: [6.123233995736766e-17, 1.0] is applied to the system.\n",
      "Time 6.62 [sec]: Control: [6.123233995736766e-17, 1.0] is applied to the system.\n",
      "Time 6.64 [sec]: Control: [6.123233995736766e-17, 1.0] is applied to the system.\n",
      "Time 6.66 [sec]: Control: [6.123233995736766e-17, 1.0] is applied to the system.\n",
      "Time 6.68 [sec]: Control: [6.123233995736766e-17, 1.0] is applied to the system.\n",
      "Time 6.70 [sec]: Control: [6.123233995736766e-17, 1.0] is applied to the system.\n",
      "Time 6.72 [sec]: Control: [6.123233995736766e-17, 1.0] is applied to the system.\n",
      "Time 6.74 [sec]: Control: [6.123233995736766e-17, 1.0] is applied to the system.\n",
      "Time 6.76 [sec]: Control: [6.123233995736766e-17, 1.0] is applied to the system.\n",
      "Time 6.78 [sec]: Control: [6.123233995736766e-17, 1.0] is applied to the system.\n",
      "Time 6.80 [sec]: New measurement is obtained.\n",
      "Time 6.80 [sec]: New CrowdNav control computation is scheduled.\n",
      "Time 6.80 [sec]: New CrowdNav control is available to the controller.\n",
      "Time 6.80 [sec]: Control: [6.123233995736766e-17, 1.0] is applied to the system.\n",
      "Time 6.82 [sec]: Control: [6.123233995736766e-17, 1.0] is applied to the system.\n",
      "Time 6.84 [sec]: Control: [6.123233995736766e-17, 1.0] is applied to the system.\n",
      "Time 6.86 [sec]: Control: [6.123233995736766e-17, 1.0] is applied to the system.\n",
      "Time 6.88 [sec]: Control: [6.123233995736766e-17, 1.0] is applied to the system.\n",
      "Time 6.90 [sec]: Control: [6.123233995736766e-17, 1.0] is applied to the system.\n",
      "Time 6.92 [sec]: Control: [6.123233995736766e-17, 1.0] is applied to the system.\n",
      "Time 6.94 [sec]: Control: [6.123233995736766e-17, 1.0] is applied to the system.\n",
      "Time 6.96 [sec]: Control: [6.123233995736766e-17, 1.0] is applied to the system.\n",
      "Time 6.98 [sec]: Control: [6.123233995736766e-17, 1.0] is applied to the system.\n",
      "Time 7.00 [sec]: Control: [6.123233995736766e-17, 1.0] is applied to the system.\n",
      "Time 7.02 [sec]: Control: [6.123233995736766e-17, 1.0] is applied to the system.\n",
      "Time 7.04 [sec]: Control: [6.123233995736766e-17, 1.0] is applied to the system.\n",
      "Time 7.06 [sec]: Control: [6.123233995736766e-17, 1.0] is applied to the system.\n",
      "Time 7.08 [sec]: Control: [6.123233995736766e-17, 1.0] is applied to the system.\n",
      "Time 7.10 [sec]: Control: [6.123233995736766e-17, 1.0] is applied to the system.\n",
      "Time 7.12 [sec]: Control: [6.123233995736766e-17, 1.0] is applied to the system.\n",
      "Time 7.14 [sec]: Control: [6.123233995736766e-17, 1.0] is applied to the system.\n",
      "Time 7.16 [sec]: Control: [6.123233995736766e-17, 1.0] is applied to the system.\n",
      "Time 7.18 [sec]: Control: [6.123233995736766e-17, 1.0] is applied to the system.\n",
      "Time 7.20 [sec]: New measurement is obtained.\n",
      "Time 7.20 [sec]: New CrowdNav control computation is scheduled.\n",
      "Time 7.20 [sec]: New CrowdNav control is available to the controller.\n",
      "Time 7.20 [sec]: Control: [6.123233995736766e-17, 1.0] is applied to the system.\n",
      "Time 7.22 [sec]: Control: [6.123233995736766e-17, 1.0] is applied to the system.\n",
      "Time 7.24 [sec]: Control: [6.123233995736766e-17, 1.0] is applied to the system.\n",
      "Time 7.26 [sec]: Control: [6.123233995736766e-17, 1.0] is applied to the system.\n",
      "Time 7.28 [sec]: Control: [6.123233995736766e-17, 1.0] is applied to the system.\n",
      "Time 7.30 [sec]: Control: [6.123233995736766e-17, 1.0] is applied to the system.\n",
      "Time 7.32 [sec]: Control: [6.123233995736766e-17, 1.0] is applied to the system.\n",
      "Time 7.34 [sec]: Control: [6.123233995736766e-17, 1.0] is applied to the system.\n",
      "Time 7.36 [sec]: Control: [6.123233995736766e-17, 1.0] is applied to the system.\n",
      "Time 7.38 [sec]: Control: [6.123233995736766e-17, 1.0] is applied to the system.\n",
      "Time 7.40 [sec]: Control: [6.123233995736766e-17, 1.0] is applied to the system.\n",
      "Time 7.42 [sec]: Control: [6.123233995736766e-17, 1.0] is applied to the system.\n",
      "Time 7.44 [sec]: Control: [6.123233995736766e-17, 1.0] is applied to the system.\n",
      "Time 7.46 [sec]: Control: [6.123233995736766e-17, 1.0] is applied to the system.\n",
      "Time 7.48 [sec]: Control: [6.123233995736766e-17, 1.0] is applied to the system.\n",
      "Time 7.50 [sec]: Control: [6.123233995736766e-17, 1.0] is applied to the system.\n",
      "Time 7.52 [sec]: Control: [6.123233995736766e-17, 1.0] is applied to the system.\n",
      "Time 7.54 [sec]: Control: [6.123233995736766e-17, 1.0] is applied to the system.\n",
      "Time 7.56 [sec]: Control: [6.123233995736766e-17, 1.0] is applied to the system.\n",
      "Time 7.58 [sec]: Control: [6.123233995736766e-17, 1.0] is applied to the system.\n",
      "Time 7.60 [sec]: New measurement is obtained.\n",
      "Time 7.60 [sec]: New CrowdNav control computation is scheduled.\n",
      "Time 7.60 [sec]: New CrowdNav control is available to the controller.\n",
      "Time 7.60 [sec]: Control: [6.123233995736766e-17, 1.0] is applied to the system.\n",
      "Time 7.62 [sec]: Control: [6.123233995736766e-17, 1.0] is applied to the system.\n",
      "Time 7.64 [sec]: Control: [6.123233995736766e-17, 1.0] is applied to the system.\n",
      "Time 7.66 [sec]: Control: [6.123233995736766e-17, 1.0] is applied to the system.\n",
      "Time 7.68 [sec]: Control: [6.123233995736766e-17, 1.0] is applied to the system.\n",
      "Time 7.70 [sec]: Control: [6.123233995736766e-17, 1.0] is applied to the system.\n",
      "Time 7.72 [sec]: Control: [6.123233995736766e-17, 1.0] is applied to the system.\n",
      "Time 7.74 [sec]: Control: [6.123233995736766e-17, 1.0] is applied to the system.\n",
      "Time 7.76 [sec]: Control: [6.123233995736766e-17, 1.0] is applied to the system.\n",
      "Time 7.78 [sec]: Control: [6.123233995736766e-17, 1.0] is applied to the system.\n",
      "Time 7.80 [sec]: Control: [6.123233995736766e-17, 1.0] is applied to the system.\n",
      "Time 7.82 [sec]: Control: [6.123233995736766e-17, 1.0] is applied to the system.\n",
      "Time 7.84 [sec]: Control: [6.123233995736766e-17, 1.0] is applied to the system.\n",
      "Time 7.86 [sec]: Control: [6.123233995736766e-17, 1.0] is applied to the system.\n",
      "Time 7.88 [sec]: Control: [6.123233995736766e-17, 1.0] is applied to the system.\n",
      "Time 7.90 [sec]: Control: [6.123233995736766e-17, 1.0] is applied to the system.\n",
      "Time 7.92 [sec]: Control: [6.123233995736766e-17, 1.0] is applied to the system.\n",
      "Time 7.94 [sec]: Control: [6.123233995736766e-17, 1.0] is applied to the system.\n",
      "Time 7.96 [sec]: Control: [6.123233995736766e-17, 1.0] is applied to the system.\n",
      "Time 7.98 [sec]: Control: [6.123233995736766e-17, 1.0] is applied to the system.\n",
      "Time 8.00 [sec]: New measurement is obtained.\n",
      "Time 8.00 [sec]: New CrowdNav control computation is scheduled.\n",
      "Time 8.00 [sec]: New CrowdNav control is available to the controller.\n",
      "Time 8.00 [sec]: Control: [6.123233995736766e-17, 1.0] is applied to the system.\n",
      "Time 8.02 [sec]: Control: [6.123233995736766e-17, 1.0] is applied to the system.\n",
      "Time 8.04 [sec]: Control: [6.123233995736766e-17, 1.0] is applied to the system.\n",
      "Time 8.06 [sec]: Control: [6.123233995736766e-17, 1.0] is applied to the system.\n",
      "Time 8.08 [sec]: Control: [6.123233995736766e-17, 1.0] is applied to the system.\n",
      "Time 8.10 [sec]: Control: [6.123233995736766e-17, 1.0] is applied to the system.\n",
      "Time 8.12 [sec]: Control: [6.123233995736766e-17, 1.0] is applied to the system.\n",
      "Time 8.14 [sec]: Control: [6.123233995736766e-17, 1.0] is applied to the system.\n",
      "Time 8.16 [sec]: Control: [6.123233995736766e-17, 1.0] is applied to the system.\n",
      "Time 8.18 [sec]: Control: [6.123233995736766e-17, 1.0] is applied to the system.\n",
      "Time 8.20 [sec]: Control: [6.123233995736766e-17, 1.0] is applied to the system.\n",
      "Time 8.22 [sec]: Control: [6.123233995736766e-17, 1.0] is applied to the system.\n",
      "Time 8.24 [sec]: Control: [6.123233995736766e-17, 1.0] is applied to the system.\n",
      "Time 8.26 [sec]: Control: [6.123233995736766e-17, 1.0] is applied to the system.\n",
      "Time 8.28 [sec]: Control: [6.123233995736766e-17, 1.0] is applied to the system.\n",
      "Time 8.30 [sec]: Control: [6.123233995736766e-17, 1.0] is applied to the system.\n"
     ]
    },
    {
     "name": "stdout",
     "output_type": "stream",
     "text": [
      "Time 8.32 [sec]: Control: [6.123233995736766e-17, 1.0] is applied to the system.\n",
      "Time 8.34 [sec]: Control: [6.123233995736766e-17, 1.0] is applied to the system.\n",
      "Time 8.36 [sec]: Control: [6.123233995736766e-17, 1.0] is applied to the system.\n",
      "Time 8.38 [sec]: Control: [6.123233995736766e-17, 1.0] is applied to the system.\n",
      "Time 8.40 [sec]: New measurement is obtained.\n",
      "Time 8.40 [sec]: New CrowdNav control computation is scheduled.\n",
      "Time 8.40 [sec]: New CrowdNav control is available to the controller.\n",
      "Time 8.40 [sec]: Control: [6.123233995736766e-17, 1.0] is applied to the system.\n",
      "Time 8.42 [sec]: Control: [6.123233995736766e-17, 1.0] is applied to the system.\n",
      "Time 8.44 [sec]: Control: [6.123233995736766e-17, 1.0] is applied to the system.\n",
      "Time 8.46 [sec]: Control: [6.123233995736766e-17, 1.0] is applied to the system.\n",
      "Time 8.48 [sec]: Control: [6.123233995736766e-17, 1.0] is applied to the system.\n",
      "Time 8.50 [sec]: Control: [6.123233995736766e-17, 1.0] is applied to the system.\n",
      "Time 8.52 [sec]: Control: [6.123233995736766e-17, 1.0] is applied to the system.\n",
      "Time 8.54 [sec]: Control: [6.123233995736766e-17, 1.0] is applied to the system.\n",
      "Time 8.56 [sec]: Control: [6.123233995736766e-17, 1.0] is applied to the system.\n",
      "Time 8.58 [sec]: Control: [6.123233995736766e-17, 1.0] is applied to the system.\n",
      "Time 8.60 [sec]: Control: [6.123233995736766e-17, 1.0] is applied to the system.\n",
      "Time 8.62 [sec]: Control: [6.123233995736766e-17, 1.0] is applied to the system.\n",
      "Time 8.64 [sec]: Control: [6.123233995736766e-17, 1.0] is applied to the system.\n",
      "Time 8.66 [sec]: Control: [6.123233995736766e-17, 1.0] is applied to the system.\n",
      "Time 8.68 [sec]: Control: [6.123233995736766e-17, 1.0] is applied to the system.\n",
      "Time 8.70 [sec]: Control: [6.123233995736766e-17, 1.0] is applied to the system.\n",
      "Time 8.72 [sec]: Control: [6.123233995736766e-17, 1.0] is applied to the system.\n",
      "Time 8.74 [sec]: Control: [6.123233995736766e-17, 1.0] is applied to the system.\n",
      "Time 8.76 [sec]: Control: [6.123233995736766e-17, 1.0] is applied to the system.\n",
      "Time 8.78 [sec]: Control: [6.123233995736766e-17, 1.0] is applied to the system.\n",
      "Time 8.80 [sec]: New measurement is obtained.\n",
      "Time 8.80 [sec]: New CrowdNav control computation is scheduled.\n",
      "Time 8.80 [sec]: New CrowdNav control is available to the controller.\n",
      "Time 8.80 [sec]: Control: [6.123233995736766e-17, 1.0] is applied to the system.\n",
      "Time 8.82 [sec]: Control: [6.123233995736766e-17, 1.0] is applied to the system.\n",
      "Time 8.84 [sec]: Control: [6.123233995736766e-17, 1.0] is applied to the system.\n",
      "Time 8.86 [sec]: Control: [6.123233995736766e-17, 1.0] is applied to the system.\n",
      "Time 8.88 [sec]: Control: [6.123233995736766e-17, 1.0] is applied to the system.\n",
      "Time 8.90 [sec]: Control: [6.123233995736766e-17, 1.0] is applied to the system.\n",
      "Time 8.92 [sec]: Control: [6.123233995736766e-17, 1.0] is applied to the system.\n",
      "Time 8.94 [sec]: Control: [6.123233995736766e-17, 1.0] is applied to the system.\n",
      "Time 8.96 [sec]: Control: [6.123233995736766e-17, 1.0] is applied to the system.\n",
      "Time 8.98 [sec]: Control: [6.123233995736766e-17, 1.0] is applied to the system.\n",
      "Time 9.00 [sec]: Control: [6.123233995736766e-17, 1.0] is applied to the system.\n",
      "Time 9.02 [sec]: Control: [6.123233995736766e-17, 1.0] is applied to the system.\n",
      "Time 9.04 [sec]: Control: [6.123233995736766e-17, 1.0] is applied to the system.\n",
      "Time 9.06 [sec]: Control: [6.123233995736766e-17, 1.0] is applied to the system.\n",
      "Time 9.08 [sec]: Control: [6.123233995736766e-17, 1.0] is applied to the system.\n",
      "Time 9.10 [sec]: Control: [6.123233995736766e-17, 1.0] is applied to the system.\n",
      "Time 9.12 [sec]: Control: [6.123233995736766e-17, 1.0] is applied to the system.\n",
      "Time 9.14 [sec]: Control: [6.123233995736766e-17, 1.0] is applied to the system.\n",
      "Time 9.16 [sec]: Control: [6.123233995736766e-17, 1.0] is applied to the system.\n",
      "Time 9.18 [sec]: Control: [6.123233995736766e-17, 1.0] is applied to the system.\n",
      "Time 9.20 [sec]: New measurement is obtained.\n",
      "Time 9.20 [sec]: New CrowdNav control computation is scheduled.\n",
      "Time 9.20 [sec]: New CrowdNav control is available to the controller.\n",
      "Time 9.20 [sec]: Control: [0.38268343236508984, 0.9238795325112867] is applied to the system.\n",
      "Time 9.22 [sec]: Control: [0.38268343236508984, 0.9238795325112867] is applied to the system.\n",
      "Time 9.24 [sec]: Control: [0.38268343236508984, 0.9238795325112867] is applied to the system.\n",
      "Time 9.26 [sec]: Control: [0.38268343236508984, 0.9238795325112867] is applied to the system.\n",
      "Time 9.28 [sec]: Control: [0.38268343236508984, 0.9238795325112867] is applied to the system.\n",
      "Time 9.30 [sec]: Control: [0.38268343236508984, 0.9238795325112867] is applied to the system.\n",
      "Time 9.32 [sec]: Control: [0.38268343236508984, 0.9238795325112867] is applied to the system.\n",
      "Time 9.34 [sec]: Control: [0.38268343236508984, 0.9238795325112867] is applied to the system.\n",
      "Time 9.36 [sec]: Control: [0.38268343236508984, 0.9238795325112867] is applied to the system.\n",
      "Time 9.38 [sec]: Control: [0.38268343236508984, 0.9238795325112867] is applied to the system.\n",
      "Time 9.40 [sec]: Control: [0.38268343236508984, 0.9238795325112867] is applied to the system.\n",
      "Time 9.42 [sec]: Control: [0.38268343236508984, 0.9238795325112867] is applied to the system.\n",
      "Time 9.44 [sec]: Control: [0.38268343236508984, 0.9238795325112867] is applied to the system.\n",
      "Time 9.46 [sec]: Control: [0.38268343236508984, 0.9238795325112867] is applied to the system.\n",
      "Time 9.48 [sec]: Control: [0.38268343236508984, 0.9238795325112867] is applied to the system.\n",
      "Time 9.50 [sec]: Control: [0.38268343236508984, 0.9238795325112867] is applied to the system.\n",
      "Time 9.52 [sec]: Control: [0.38268343236508984, 0.9238795325112867] is applied to the system.\n",
      "Time 9.54 [sec]: Control: [0.38268343236508984, 0.9238795325112867] is applied to the system.\n",
      "Time 9.56 [sec]: Control: [0.38268343236508984, 0.9238795325112867] is applied to the system.\n",
      "Time 9.58 [sec]: Control: [0.38268343236508984, 0.9238795325112867] is applied to the system.\n",
      "Time 9.60 [sec]: New measurement is obtained.\n",
      "Time 9.60 [sec]: New CrowdNav control computation is scheduled.\n",
      "Time 9.60 [sec]: New CrowdNav control is available to the controller.\n",
      "Time 9.60 [sec]: Control: [6.123233995736766e-17, 1.0] is applied to the system.\n",
      "Time 9.62 [sec]: Control: [6.123233995736766e-17, 1.0] is applied to the system.\n",
      "Time 9.64 [sec]: Control: [6.123233995736766e-17, 1.0] is applied to the system.\n",
      "Time 9.66 [sec]: Control: [6.123233995736766e-17, 1.0] is applied to the system.\n",
      "Time 9.68 [sec]: Control: [6.123233995736766e-17, 1.0] is applied to the system.\n",
      "Time 9.70 [sec]: Control: [6.123233995736766e-17, 1.0] is applied to the system.\n",
      "Time 9.72 [sec]: Control: [6.123233995736766e-17, 1.0] is applied to the system.\n",
      "Time 9.74 [sec]: Control: [6.123233995736766e-17, 1.0] is applied to the system.\n",
      "Time 9.76 [sec]: Control: [6.123233995736766e-17, 1.0] is applied to the system.\n",
      "Time 9.78 [sec]: Control: [6.123233995736766e-17, 1.0] is applied to the system.\n",
      "Time 9.80 [sec]: Control: [6.123233995736766e-17, 1.0] is applied to the system.\n",
      "Time 9.82 [sec]: Control: [6.123233995736766e-17, 1.0] is applied to the system.\n",
      "Time 9.84 [sec]: Control: [6.123233995736766e-17, 1.0] is applied to the system.\n",
      "Time 9.86 [sec]: Control: [6.123233995736766e-17, 1.0] is applied to the system.\n",
      "Time 9.88 [sec]: Control: [6.123233995736766e-17, 1.0] is applied to the system.\n",
      "Time 9.90 [sec]: Control: [6.123233995736766e-17, 1.0] is applied to the system.\n",
      "Time 9.92 [sec]: Control: [6.123233995736766e-17, 1.0] is applied to the system.\n",
      "Time 9.94 [sec]: Control: [6.123233995736766e-17, 1.0] is applied to the system.\n",
      "Time 9.96 [sec]: Control: [6.123233995736766e-17, 1.0] is applied to the system.\n",
      "Time 9.98 [sec]: Control: [6.123233995736766e-17, 1.0] is applied to the system.\n",
      "Time 10.00 [sec]: New measurement is obtained.\n"
     ]
    }
   ],
   "source": [
    "display_log(result.log)"
   ]
  },
  {
   "cell_type": "code",
   "execution_count": 18,
   "metadata": {},
   "outputs": [
    {
     "data": {
      "text/plain": [
       "1.0000000000000007"
      ]
     },
     "metadata": {},
     "output_type": "display_data"
    }
   ],
   "source": [
    "result.total_cnt_cost"
   ]
  },
  {
   "cell_type": "code",
   "execution_count": 19,
   "metadata": {},
   "outputs": [
    {
     "data": {
      "text/plain": [
       "100.41352371019887"
      ]
     },
     "metadata": {},
     "output_type": "display_data"
    }
   ],
   "source": [
    "result.total_pos_cost"
   ]
  },
  {
   "cell_type": "code",
   "execution_count": 20,
   "metadata": {},
   "outputs": [
    {
     "data": {
      "text/plain": [
       "3.2263416766894712"
      ]
     },
     "metadata": {},
     "output_type": "display_data"
    }
   ],
   "source": [
    "result.total_col_cost"
   ]
  },
  {
   "cell_type": "code",
   "execution_count": 21,
   "metadata": {},
   "outputs": [
    {
     "data": {
      "text/plain": [
       "104.63986538688835"
      ]
     },
     "metadata": {},
     "output_type": "display_data"
    }
   ],
   "source": [
    "result.total_cnt_cost + result.total_pos_cost + result.total_col_cost"
   ]
  },
  {
   "cell_type": "code",
   "execution_count": 22,
   "metadata": {},
   "outputs": [
    {
     "data": {
      "text/plain": [
       "1.2056076624006884"
      ]
     },
     "metadata": {},
     "output_type": "display_data"
    }
   ],
   "source": [
    "minimum([minimum(vcat([norm(get_position(w.e_state) - ap) for ap in values(w.ap_dict)], Inf))\n",
    "                          for w in result.w_history])"
   ]
  },
  {
   "cell_type": "code",
   "execution_count": 23,
   "metadata": {},
   "outputs": [
    {
     "name": "stderr",
     "output_type": "stream",
     "text": [
      "┌ Warning: No prediction is available with BIC or CrowdNav Controller\n",
      "└ @ RiskSensitiveSAC /home/kh-ryu/DRC_Project/DRC_Trajectron/src/utils.jl:778\n"
     ]
    },
    {
     "name": "stderr",
     "output_type": "stream",
     "text": [
      "\r\u001b[32mProgress:   0%|▏                                        |  ETA: 0:01:23\u001b[39m\u001b[K"
     ]
    },
    {
     "name": "stderr",
     "output_type": "stream",
     "text": [
      "\r\u001b[32mProgress:  20%|████████▍                                |  ETA: 0:00:02\u001b[39m\u001b[K"
     ]
    },
    {
     "name": "stderr",
     "output_type": "stream",
     "text": [
      "\r\u001b[32mProgress:  37%|███████████████▏                         |  ETA: 0:00:02\u001b[39m\u001b[K"
     ]
    },
    {
     "name": "stderr",
     "output_type": "stream",
     "text": [
      "\r\u001b[32mProgress:  41%|████████████████▋                        |  ETA: 0:00:02\u001b[39m\u001b[K"
     ]
    },
    {
     "name": "stderr",
     "output_type": "stream",
     "text": [
      "\r\u001b[32mProgress:  52%|█████████████████████▍                   |  ETA: 0:00:01\u001b[39m\u001b[K"
     ]
    },
    {
     "name": "stderr",
     "output_type": "stream",
     "text": [
      "\r\u001b[32mProgress:  62%|█████████████████████████▌               |  ETA: 0:00:01\u001b[39m\u001b[K"
     ]
    },
    {
     "name": "stderr",
     "output_type": "stream",
     "text": [
      "\r\u001b[32mProgress:  75%|██████████████████████████████▊          |  ETA: 0:00:01\u001b[39m\u001b[K"
     ]
    },
    {
     "name": "stderr",
     "output_type": "stream",
     "text": [
      "\r\u001b[32mProgress:  92%|█████████████████████████████████████▊   |  ETA: 0:00:00\u001b[39m\u001b[K"
     ]
    },
    {
     "name": "stderr",
     "output_type": "stream",
     "text": [
      "\r\u001b[32mProgress: 100%|█████████████████████████████████████████| Time: 0:00:02\u001b[39m\u001b[K\n"
     ]
    },
    {
     "name": "stderr",
     "output_type": "stream",
     "text": [
      "┌ Info: Saved animation to \n",
      "│   fn = /home/kh-ryu/DRC_Project/DRC_Trajectron/notebook/8_crowd_nav_data.gif\n",
      "└ @ Plots /home/kh-ryu/.julia/packages/Plots/qZHsp/src/animation.jl:98\n"
     ]
    },
    {
     "data": {
      "text/html": [
       "<img src=\"data:image/gif;base64,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\" />"
      ],
      "text/plain": [
       "Plots.AnimatedGif(\"/home/kh-ryu/DRC_Project/DRC_Trajectron/notebook/8_crowd_nav_data.gif\")"
      ]
     },
     "metadata": {},
     "output_type": "display_data"
    }
   ],
   "source": [
    "make_gif(result, dtplot=0.4, fps=2, xlim=(-3. + -5.263534, 13. + -5.314636), \n",
    "         ylim=(0. + -5.263534, 10. + -5.314636), figsize=(600, 400), \n",
    "         legendfontsize=7, legend=:bottomright, markersize=5., filename=\"8_crowd_nav_data.gif\")"
   ]
  },
  {
   "cell_type": "code",
   "execution_count": 24,
   "metadata": {},
   "outputs": [
    {
     "name": "stderr",
     "output_type": "stream",
     "text": [
      "Error encountered while save File{DataFormat{:JLD2}, String}(\"8_crowd_nav_data.jld2\").\n",
      "\n",
      "Fatal error:\n"
     ]
    },
    {
     "ename": "CapturedException",
     "evalue": "type DataType has no field mutable\nStacktrace:\n  [1] getproperty\n    @ ./Base.jl:33 [inlined]\n  [2] hasfielddata(T::Any, encounteredtypes::Vector{DataType})\n    @ JLD2 ~/.julia/packages/JLD2/qncOK/src/data/writing_datatypes.jl:24\n  [3] hasdata(T::DataType, encounteredtypes::Vector{DataType})\n    @ JLD2 ~/.julia/packages/JLD2/qncOK/src/data/writing_datatypes.jl:32\n  [4] hasdata\n    @ ~/.julia/packages/JLD2/qncOK/src/data/writing_datatypes.jl:30 [inlined]\n  [5] odr(#unused#::Type{RiskSensitiveSAC.CrowdNavEvaluationResult})\n    @ JLD2 ~/.julia/packages/JLD2/qncOK/src/data/writing_datatypes.jl:563\n  [6] objodr\n    @ ~/.julia/packages/JLD2/qncOK/src/data/writing_datatypes.jl:109 [inlined]\n  [7] write_dataset\n    @ ~/.julia/packages/JLD2/qncOK/src/datasets.jl:541 [inlined]\n  [8] write(g::JLD2.Group{JLD2.JLDFile{JLD2.MmapIO}}, name::String, obj::RiskSensitiveSAC.CrowdNavEvaluationResult, wsession::JLD2.JLDWriteSession{Dict{UInt64, JLD2.RelOffset}})\n    @ JLD2 ~/.julia/packages/JLD2/qncOK/src/groups.jl:119\n  [9] write(f::JLD2.JLDFile{JLD2.MmapIO}, name::String, obj::RiskSensitiveSAC.CrowdNavEvaluationResult, wsession::JLD2.JLDWriteSession{Dict{UInt64, JLD2.RelOffset}})\n    @ JLD2 ~/.julia/packages/JLD2/qncOK/src/JLD2.jl:347\n [10] (::JLD2.var\"#62#63\"{String, RiskSensitiveSAC.CrowdNavEvaluationResult, Tuple{}})(file::JLD2.JLDFile{JLD2.MmapIO})\n    @ JLD2 ~/.julia/packages/JLD2/qncOK/src/fileio.jl:23\n [11] jldopen(::JLD2.var\"#62#63\"{String, RiskSensitiveSAC.CrowdNavEvaluationResult, Tuple{}}, ::String, ::Vararg{String}; kws::Base.Pairs{Symbol, Union{}, Tuple{}, NamedTuple{(), Tuple{}}})\n    @ JLD2 ~/.julia/packages/JLD2/qncOK/src/loadsave.jl:4\n [12] jldopen(::Function, ::String, ::String)\n    @ JLD2 ~/.julia/packages/JLD2/qncOK/src/loadsave.jl:1\n [13] save(::File{DataFormat{:JLD2}, String}, ::String, ::RiskSensitiveSAC.CrowdNavEvaluationResult; kwargs::Base.Pairs{Symbol, Union{}, Tuple{}, NamedTuple{(), Tuple{}}})\n    @ JLD2 ~/.julia/packages/JLD2/qncOK/src/fileio.jl:21\n [14] save(::File{DataFormat{:JLD2}, String}, ::String, ::RiskSensitiveSAC.CrowdNavEvaluationResult)\n    @ JLD2 ~/.julia/packages/JLD2/qncOK/src/fileio.jl:17\n [15] invokelatest(::Any, ::Any, ::Vararg{Any}; kwargs::Base.Pairs{Symbol, Union{}, Tuple{}, NamedTuple{(), Tuple{}}})\n    @ Base ./essentials.jl:729\n [16] invokelatest(::Any, ::Any, ::Vararg{Any})\n    @ Base ./essentials.jl:726\n [17] action(::Symbol, ::Vector{Union{Base.PkgId, Module}}, ::Formatted, ::String, ::Vararg{Any}; options::Base.Pairs{Symbol, Union{}, Tuple{}, NamedTuple{(), Tuple{}}})\n    @ FileIO ~/.julia/packages/FileIO/aP78L/src/loadsave.jl:219\n [18] action(::Symbol, ::Vector{Union{Base.PkgId, Module}}, ::Formatted, ::String, ::RiskSensitiveSAC.CrowdNavEvaluationResult)\n    @ FileIO ~/.julia/packages/FileIO/aP78L/src/loadsave.jl:196\n [19] action(::Symbol, ::Vector{Union{Base.PkgId, Module}}, ::Symbol, ::String, ::String, ::Vararg{Any}; options::Base.Pairs{Symbol, Union{}, Tuple{}, NamedTuple{(), Tuple{}}})\n    @ FileIO ~/.julia/packages/FileIO/aP78L/src/loadsave.jl:185\n [20] action\n    @ ~/.julia/packages/FileIO/aP78L/src/loadsave.jl:185 [inlined]\n [21] #save#20\n    @ ~/.julia/packages/FileIO/aP78L/src/loadsave.jl:129 [inlined]\n [22] save(::String, ::String, ::RiskSensitiveSAC.CrowdNavEvaluationResult)\n    @ FileIO ~/.julia/packages/FileIO/aP78L/src/loadsave.jl:125\n [23] top-level scope\n    @ ~/DRC_Project/DRC_Trajectron/notebook/Eval_Example_8_CrowdNav_Data.ipynb:1",
     "output_type": "error",
     "traceback": [
      "type DataType has no field mutable\n",
      "Stacktrace:\n",
      "  [1] getproperty\n",
      "    @ ./Base.jl:33 [inlined]\n",
      "  [2] hasfielddata(T::Any, encounteredtypes::Vector{DataType})\n",
      "    @ JLD2 ~/.julia/packages/JLD2/qncOK/src/data/writing_datatypes.jl:24\n",
      "  [3] hasdata(T::DataType, encounteredtypes::Vector{DataType})\n",
      "    @ JLD2 ~/.julia/packages/JLD2/qncOK/src/data/writing_datatypes.jl:32\n",
      "  [4] hasdata\n",
      "    @ ~/.julia/packages/JLD2/qncOK/src/data/writing_datatypes.jl:30 [inlined]\n",
      "  [5] odr(#unused#::Type{RiskSensitiveSAC.CrowdNavEvaluationResult})\n",
      "    @ JLD2 ~/.julia/packages/JLD2/qncOK/src/data/writing_datatypes.jl:563\n",
      "  [6] objodr\n",
      "    @ ~/.julia/packages/JLD2/qncOK/src/data/writing_datatypes.jl:109 [inlined]\n",
      "  [7] write_dataset\n",
      "    @ ~/.julia/packages/JLD2/qncOK/src/datasets.jl:541 [inlined]\n",
      "  [8] write(g::JLD2.Group{JLD2.JLDFile{JLD2.MmapIO}}, name::String, obj::RiskSensitiveSAC.CrowdNavEvaluationResult, wsession::JLD2.JLDWriteSession{Dict{UInt64, JLD2.RelOffset}})\n",
      "    @ JLD2 ~/.julia/packages/JLD2/qncOK/src/groups.jl:119\n",
      "  [9] write(f::JLD2.JLDFile{JLD2.MmapIO}, name::String, obj::RiskSensitiveSAC.CrowdNavEvaluationResult, wsession::JLD2.JLDWriteSession{Dict{UInt64, JLD2.RelOffset}})\n",
      "    @ JLD2 ~/.julia/packages/JLD2/qncOK/src/JLD2.jl:347\n",
      " [10] (::JLD2.var\"#62#63\"{String, RiskSensitiveSAC.CrowdNavEvaluationResult, Tuple{}})(file::JLD2.JLDFile{JLD2.MmapIO})\n",
      "    @ JLD2 ~/.julia/packages/JLD2/qncOK/src/fileio.jl:23\n",
      " [11] jldopen(::JLD2.var\"#62#63\"{String, RiskSensitiveSAC.CrowdNavEvaluationResult, Tuple{}}, ::String, ::Vararg{String}; kws::Base.Pairs{Symbol, Union{}, Tuple{}, NamedTuple{(), Tuple{}}})\n",
      "    @ JLD2 ~/.julia/packages/JLD2/qncOK/src/loadsave.jl:4\n",
      " [12] jldopen(::Function, ::String, ::String)\n",
      "    @ JLD2 ~/.julia/packages/JLD2/qncOK/src/loadsave.jl:1\n",
      " [13] save(::File{DataFormat{:JLD2}, String}, ::String, ::RiskSensitiveSAC.CrowdNavEvaluationResult; kwargs::Base.Pairs{Symbol, Union{}, Tuple{}, NamedTuple{(), Tuple{}}})\n",
      "    @ JLD2 ~/.julia/packages/JLD2/qncOK/src/fileio.jl:21\n",
      " [14] save(::File{DataFormat{:JLD2}, String}, ::String, ::RiskSensitiveSAC.CrowdNavEvaluationResult)\n",
      "    @ JLD2 ~/.julia/packages/JLD2/qncOK/src/fileio.jl:17\n",
      " [15] invokelatest(::Any, ::Any, ::Vararg{Any}; kwargs::Base.Pairs{Symbol, Union{}, Tuple{}, NamedTuple{(), Tuple{}}})\n",
      "    @ Base ./essentials.jl:729\n",
      " [16] invokelatest(::Any, ::Any, ::Vararg{Any})\n",
      "    @ Base ./essentials.jl:726\n",
      " [17] action(::Symbol, ::Vector{Union{Base.PkgId, Module}}, ::Formatted, ::String, ::Vararg{Any}; options::Base.Pairs{Symbol, Union{}, Tuple{}, NamedTuple{(), Tuple{}}})\n",
      "    @ FileIO ~/.julia/packages/FileIO/aP78L/src/loadsave.jl:219\n",
      " [18] action(::Symbol, ::Vector{Union{Base.PkgId, Module}}, ::Formatted, ::String, ::RiskSensitiveSAC.CrowdNavEvaluationResult)\n",
      "    @ FileIO ~/.julia/packages/FileIO/aP78L/src/loadsave.jl:196\n",
      " [19] action(::Symbol, ::Vector{Union{Base.PkgId, Module}}, ::Symbol, ::String, ::String, ::Vararg{Any}; options::Base.Pairs{Symbol, Union{}, Tuple{}, NamedTuple{(), Tuple{}}})\n",
      "    @ FileIO ~/.julia/packages/FileIO/aP78L/src/loadsave.jl:185\n",
      " [20] action\n",
      "    @ ~/.julia/packages/FileIO/aP78L/src/loadsave.jl:185 [inlined]\n",
      " [21] #save#20\n",
      "    @ ~/.julia/packages/FileIO/aP78L/src/loadsave.jl:129 [inlined]\n",
      " [22] save(::String, ::String, ::RiskSensitiveSAC.CrowdNavEvaluationResult)\n",
      "    @ FileIO ~/.julia/packages/FileIO/aP78L/src/loadsave.jl:125\n",
      " [23] top-level scope\n",
      "    @ ~/DRC_Project/DRC_Trajectron/notebook/Eval_Example_8_CrowdNav_Data.ipynb:1\n",
      "\n",
      "Stacktrace:\n",
      " [1] handle_error(e::ErrorException, q::Base.PkgId, bt::Vector{Union{Ptr{Nothing}, Base.InterpreterIP}})\n",
      "   @ FileIO ~/.julia/packages/FileIO/aP78L/src/error_handling.jl:61\n",
      " [2] handle_exceptions(exceptions::Vector{Tuple{Any, Union{Base.PkgId, Module}, Vector}}, action::String)\n",
      "   @ FileIO ~/.julia/packages/FileIO/aP78L/src/error_handling.jl:56\n",
      " [3] action(::Symbol, ::Vector{Union{Base.PkgId, Module}}, ::Formatted, ::String, ::Vararg{Any}; options::Base.Pairs{Symbol, Union{}, Tuple{}, NamedTuple{(), Tuple{}}})\n",
      "   @ FileIO ~/.julia/packages/FileIO/aP78L/src/loadsave.jl:228\n",
      " [4] action(::Symbol, ::Vector{Union{Base.PkgId, Module}}, ::Formatted, ::String, ::RiskSensitiveSAC.CrowdNavEvaluationResult)\n",
      "   @ FileIO ~/.julia/packages/FileIO/aP78L/src/loadsave.jl:196\n",
      " [5] action(::Symbol, ::Vector{Union{Base.PkgId, Module}}, ::Symbol, ::String, ::String, ::Vararg{Any}; options::Base.Pairs{Symbol, Union{}, Tuple{}, NamedTuple{(), Tuple{}}})\n",
      "   @ FileIO ~/.julia/packages/FileIO/aP78L/src/loadsave.jl:185\n",
      " [6] action\n",
      "   @ ~/.julia/packages/FileIO/aP78L/src/loadsave.jl:185 [inlined]\n",
      " [7] #save#20\n",
      "   @ ~/.julia/packages/FileIO/aP78L/src/loadsave.jl:129 [inlined]\n",
      " [8] save(::String, ::String, ::RiskSensitiveSAC.CrowdNavEvaluationResult)\n",
      "   @ FileIO ~/.julia/packages/FileIO/aP78L/src/loadsave.jl:125\n",
      " [9] top-level scope\n",
      "   @ ~/DRC_Project/DRC_Trajectron/notebook/Eval_Example_8_CrowdNav_Data.ipynb:1"
     ]
    }
   ],
   "source": [
    "save(\"8_crowd_nav_data.jld2\", \"result\", result)"
   ]
  },
  {
   "cell_type": "code",
   "execution_count": 25,
   "metadata": {},
   "outputs": [],
   "source": []
  }
 ],
 "metadata": {
  "@webio": {
   "lastCommId": null,
   "lastKernelId": null
  },
  "kernelspec": {
   "display_name": "Julia 1.8.5",
   "language": "julia",
   "name": "julia-1.8"
  },
  "language_info": {
   "file_extension": ".jl",
   "mimetype": "application/julia",
   "name": "julia",
   "version": "1.8.5"
  }
 },
 "nbformat": 4,
 "nbformat_minor": 4
}
