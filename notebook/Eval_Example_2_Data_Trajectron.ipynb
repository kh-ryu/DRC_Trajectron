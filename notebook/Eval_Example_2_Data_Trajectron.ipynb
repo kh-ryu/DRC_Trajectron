{
 "cells": [
  {
   "cell_type": "code",
   "execution_count": 51,
   "metadata": {},
   "outputs": [],
   "source": [
    "using Revise\n",
    "using Pkg\n",
    "\n",
    "ENV[\"PYTHON\"] = Sys.which(\"python\")\n",
    "ENV[\"PYCALL_JL_RUNTIME_PYTHON\"] = Sys.which(\"python\")\n",
    "Pkg.build(\"PyCall\")\n",
    "using FileIO\n",
    "using JLD2\n",
    "using RiskSensitiveSAC"
   ]
  },
  {
   "attachments": {},
   "cell_type": "markdown",
   "metadata": {},
   "source": [
    "# 1. Default"
   ]
  },
  {
   "cell_type": "code",
   "execution_count": null,
   "metadata": {},
   "outputs": [],
   "source": [
    "include(\"$(@__DIR__)/../scripts/default_params/params_data_trajectron.jl\");\n",
    "\n",
    "include(\"$(@__DIR__)/../scripts/parameter_setup.jl\");"
   ]
  },
  {
   "cell_type": "code",
   "execution_count": null,
   "metadata": {},
   "outputs": [],
   "source": [
    "scene_loader, controller, w_init, measurement_schedule, target_trajectory, target_speed =\n",
    "controller_setup(scene_param,\n",
    "                 predictor_param,\n",
    "                 prediction_device=prediction_device,\n",
    "                 cost_param=cost_param,\n",
    "                 cnt_param=cnt_param,\n",
    "                 dtc=dtc,\n",
    "                 ego_pos_init_vec=ego_pos_init_vec,\n",
    "                 ego_pos_goal_vec=ego_pos_goal_vec,\n",
    "                 target_speed=target_speed,\n",
    "                 sim_horizon=sim_horizon,\n",
    "                 verbose=true);"
   ]
  },
  {
   "cell_type": "code",
   "execution_count": null,
   "metadata": {},
   "outputs": [],
   "source": [
    "result, ~, ~ = evaluate(scene_loader, controller, w_init, ego_pos_goal_vec,\n",
    "                  target_speed, measurement_schedule, target_trajectory,\n",
    "                  pos_error_replan, nominal_control=false);"
   ]
  },
  {
   "cell_type": "code",
   "execution_count": null,
   "metadata": {},
   "outputs": [],
   "source": [
    "display_log(result.log)"
   ]
  },
  {
   "cell_type": "code",
   "execution_count": null,
   "metadata": {},
   "outputs": [],
   "source": [
    "result.total_cnt_cost"
   ]
  },
  {
   "cell_type": "code",
   "execution_count": null,
   "metadata": {},
   "outputs": [],
   "source": [
    "result.total_pos_cost"
   ]
  },
  {
   "cell_type": "code",
   "execution_count": null,
   "metadata": {},
   "outputs": [],
   "source": [
    "result.total_col_cost"
   ]
  },
  {
   "cell_type": "code",
   "execution_count": null,
   "metadata": {},
   "outputs": [],
   "source": [
    "result.total_cnt_cost + result.total_pos_cost + result.total_col_cost"
   ]
  },
  {
   "cell_type": "code",
   "execution_count": null,
   "metadata": {},
   "outputs": [],
   "source": [
    "minimum([minimum(vcat([norm(get_position(w.e_state) - ap) for ap in values(w.ap_dict)], Inf))\n",
    "                          for w in result.w_history])"
   ]
  },
  {
   "cell_type": "code",
   "execution_count": null,
   "metadata": {},
   "outputs": [],
   "source": [
    "make_gif(result, dtplot=0.02, fps=50, xlim=(-3. + -5.263534, 13. + -5.314636), \n",
    "         ylim=(0. + -5.263534, 10. + -5.314636), figsize=(600, 400), \n",
    "         legendfontsize=7, legend=:bottomright, markersize=5., filename=\"2_1_data_trajectron.gif\")"
   ]
  },
  {
   "cell_type": "code",
   "execution_count": null,
   "metadata": {},
   "outputs": [],
   "source": [
    "save(\"2_1_data_trajectron.jld2\", \"result\", result)"
   ]
  },
  {
   "attachments": {},
   "cell_type": "markdown",
   "metadata": {},
   "source": [
    "# 2. Risk Sensitive"
   ]
  },
  {
   "cell_type": "code",
   "execution_count": 58,
   "metadata": {},
   "outputs": [],
   "source": [
    "include(\"$(@__DIR__)/../scripts/default_params/params_data_trajectron.jl\");\n",
    "\n",
    "σ_risk = 1.0;\n",
    "test_data_name = \"univ_test.pkl\";                                                   # test data set name\n",
    "test_scene_id = 0;                                                                  # test data id\n",
    "start_time_idx = 103;                                                               # start time index in test data\n",
    "ego_pos_init_vec = [13., 8.0] .+ [-8.106635, -7.037256];                            # initial ego position [x, y] [m]\n",
    "ego_pos_goal_vec = [2.5, 2.5] .+ [-8.106635, -7.037256];                            # goal ego position [x, y] [m]\n",
    "target_speed = 0.7;                                                                 # target speed [m/s]\n",
    "sim_horizon = 20.0;         \n",
    "\n",
    "include(\"$(@__DIR__)/../scripts/parameter_setup.jl\");"
   ]
  },
  {
   "cell_type": "code",
   "execution_count": 59,
   "metadata": {},
   "outputs": [],
   "source": [
    "scene_loader, controller, w_init, measurement_schedule, target_trajectory, target_speed =\n",
    "controller_setup(scene_param,\n",
    "                 predictor_param,\n",
    "                 prediction_device=prediction_device,\n",
    "                 cost_param=cost_param,\n",
    "                 cnt_param=cnt_param,\n",
    "                 dtc=dtc,\n",
    "                 ego_pos_init_vec=ego_pos_init_vec,\n",
    "                 ego_pos_goal_vec=ego_pos_goal_vec,\n",
    "                 target_speed=target_speed,\n",
    "                 sim_horizon=sim_horizon,\n",
    "                 verbose=true);"
   ]
  },
  {
   "cell_type": "code",
   "execution_count": 60,
   "metadata": {},
   "outputs": [
    {
     "ename": "TaskFailedException",
     "evalue": "TaskFailedException\n\n    nested task error: InterruptException:\n    Stacktrace:\n      [1] Array\n        @ ./boot.jl:459 [inlined]\n      [2] Array\n        @ ./boot.jl:473 [inlined]\n      [3] getindex(::CUDA.CuArray{Float32, 4, CUDA.Mem.DeviceBuffer}, ::Int64, ::Int64, ::Int64, ::Int64)\n        @ GPUArrays ~/.julia/packages/GPUArrays/Zecv7/src/host/indexing.jl:88\n      [4] getindex\n        @ ~/.julia/packages/GPUArrays/Zecv7/src/host/indexing.jl:107 [inlined]\n      [5] repeat_outer(arr::CUDA.CuArray{Float32, 4, CUDA.Mem.DeviceBuffer}, dims::NTuple{4, Int64})\n        @ Base._RepeatInnerOuter ./abstractarraymath.jl:497\n      [6] repeat_inner_outer\n        @ ./abstractarraymath.jl:459 [inlined]\n      [7] repeat(arr::CUDA.CuArray{Float32, 4, CUDA.Mem.DeviceBuffer}; inner::Nothing, outer::NTuple{4, Int64})\n        @ Base._RepeatInnerOuter ./abstractarraymath.jl:401\n      [8] #repeat#239\n        @ ./abstractarraymath.jl:393 [inlined]\n      [9] get_perturbed_schedule(w_init::WorldState, sim_result::SimulationResult, u_perturb_arrays::Vector{Vector{Vector{Float64}}}, target_trajectory::OrderedCollections.OrderedDict{RobotOS.Time, Vector{Float64}}, prediction_dict::Dict{String, Array{Float64, 3}}, sim_param::SimulationParameter, cnt_param::ControlParameter)\n        @ RiskSensitiveSAC ~/DRC_Project/DRC_Trajectron/src/rs_sac_controller.jl:619\n     [10] macro expansion\n        @ ./timing.jl:382 [inlined]\n     [11] sac_control_update\n        @ ~/DRC_Project/DRC_Trajectron/src/rs_sac_controller.jl:724 [inlined]\n     [12] macro expansion\n        @ ~/DRC_Project/DRC_Trajectron/src/rs_sac_controller.jl:281 [inlined]\n     [13] (::RiskSensitiveSAC.var\"#52#53\"{RSSACController, WorldState, OrderedCollections.OrderedDict{RobotOS.Time, Vector{Float64}}, OrderedCollections.OrderedDict{RobotOS.Time, Vector{Float64}}})()\n        @ RiskSensitiveSAC ./task.jl:134",
     "output_type": "error",
     "traceback": [
      "TaskFailedException\n",
      "\n",
      "    nested task error: InterruptException:\n",
      "    Stacktrace:\n",
      "      [1] Array\n",
      "        @ ./boot.jl:459 [inlined]\n",
      "      [2] Array\n",
      "        @ ./boot.jl:473 [inlined]\n",
      "      [3] getindex(::CUDA.CuArray{Float32, 4, CUDA.Mem.DeviceBuffer}, ::Int64, ::Int64, ::Int64, ::Int64)\n",
      "        @ GPUArrays ~/.julia/packages/GPUArrays/Zecv7/src/host/indexing.jl:88\n",
      "      [4] getindex\n",
      "        @ ~/.julia/packages/GPUArrays/Zecv7/src/host/indexing.jl:107 [inlined]\n",
      "      [5] repeat_outer(arr::CUDA.CuArray{Float32, 4, CUDA.Mem.DeviceBuffer}, dims::NTuple{4, Int64})\n",
      "        @ Base._RepeatInnerOuter ./abstractarraymath.jl:497\n",
      "      [6] repeat_inner_outer\n",
      "        @ ./abstractarraymath.jl:459 [inlined]\n",
      "      [7] repeat(arr::CUDA.CuArray{Float32, 4, CUDA.Mem.DeviceBuffer}; inner::Nothing, outer::NTuple{4, Int64})\n",
      "        @ Base._RepeatInnerOuter ./abstractarraymath.jl:401\n",
      "      [8] #repeat#239\n",
      "        @ ./abstractarraymath.jl:393 [inlined]\n",
      "      [9] get_perturbed_schedule(w_init::WorldState, sim_result::SimulationResult, u_perturb_arrays::Vector{Vector{Vector{Float64}}}, target_trajectory::OrderedCollections.OrderedDict{RobotOS.Time, Vector{Float64}}, prediction_dict::Dict{String, Array{Float64, 3}}, sim_param::SimulationParameter, cnt_param::ControlParameter)\n",
      "        @ RiskSensitiveSAC ~/DRC_Project/DRC_Trajectron/src/rs_sac_controller.jl:619\n",
      "     [10] macro expansion\n",
      "        @ ./timing.jl:382 [inlined]\n",
      "     [11] sac_control_update\n",
      "        @ ~/DRC_Project/DRC_Trajectron/src/rs_sac_controller.jl:724 [inlined]\n",
      "     [12] macro expansion\n",
      "        @ ~/DRC_Project/DRC_Trajectron/src/rs_sac_controller.jl:281 [inlined]\n",
      "     [13] (::RiskSensitiveSAC.var\"#52#53\"{RSSACController, WorldState, OrderedCollections.OrderedDict{RobotOS.Time, Vector{Float64}}, OrderedCollections.OrderedDict{RobotOS.Time, Vector{Float64}}})()\n",
      "        @ RiskSensitiveSAC ./task.jl:134\n",
      "\n",
      "Stacktrace:\n",
      " [1] wait\n",
      "   @ ./task.jl:345 [inlined]\n",
      " [2] evaluate(scene_loader::TrajectronSceneLoader, controller::RSSACController, w_init::WorldState, ego_pos_goal_vec::Vector{Float64}, target_speed::Float64, measurement_schedule::Vector{RobotOS.Time}, target_trajectory::OrderedCollections.OrderedDict{RobotOS.Time, Vector{Float64}}, pos_error_replan::Float64; ado_inputs_init::Nothing, nominal_control::Bool, ado_id_removed::Nothing, predictor::Nothing)\n",
      "   @ RiskSensitiveSAC ~/DRC_Project/DRC_Trajectron/src/evaluation.jl:242\n",
      " [3] top-level scope\n",
      "   @ ~/DRC_Project/DRC_Trajectron/notebook/Eval_Example_2_Data_Trajectron.ipynb:1"
     ]
    }
   ],
   "source": [
    "result, ~, ~ = evaluate(scene_loader, controller, w_init, ego_pos_goal_vec,\n",
    "                  target_speed, measurement_schedule, target_trajectory,\n",
    "                  pos_error_replan, nominal_control=false);"
   ]
  },
  {
   "cell_type": "code",
   "execution_count": null,
   "metadata": {},
   "outputs": [],
   "source": [
    "display_log(result.log)"
   ]
  },
  {
   "cell_type": "code",
   "execution_count": null,
   "metadata": {},
   "outputs": [],
   "source": [
    "result.total_cnt_cost"
   ]
  },
  {
   "cell_type": "code",
   "execution_count": null,
   "metadata": {},
   "outputs": [],
   "source": [
    "result.total_pos_cost"
   ]
  },
  {
   "cell_type": "code",
   "execution_count": null,
   "metadata": {},
   "outputs": [],
   "source": [
    "result.total_col_cost"
   ]
  },
  {
   "cell_type": "code",
   "execution_count": null,
   "metadata": {},
   "outputs": [],
   "source": [
    "result.total_cnt_cost + result.total_pos_cost + result.total_col_cost"
   ]
  },
  {
   "cell_type": "code",
   "execution_count": null,
   "metadata": {},
   "outputs": [],
   "source": [
    "minimum([minimum(vcat([norm(get_position(w.e_state) - ap) for ap in values(w.ap_dict)], Inf))\n",
    "                          for w in result.w_history])"
   ]
  },
  {
   "cell_type": "code",
   "execution_count": null,
   "metadata": {},
   "outputs": [],
   "source": [
    "make_gif(result, dtplot=0.1, fps=5,xlim=(-3. + -5.263534, 13. + -5.314636), \n",
    "         ylim=(-2. + -5.263534, 12. + -2.314636), figsize=(600, 400), \n",
    "         legendfontsize=7, legend=:none, markersize=5., filename=\"2_2_data_trajectron_risk_1.0.gif\")"
   ]
  },
  {
   "cell_type": "code",
   "execution_count": null,
   "metadata": {},
   "outputs": [],
   "source": [
    "using Plots\n",
    "\n",
    "ii = 301\n",
    "color_dict = Dict()\n",
    "w = result.w_history[ii];\n",
    "\n",
    "k = ii;\n",
    "prediction_dict = result.prediction_dict_history[k];\n",
    "\n",
    "while isnothing(prediction_dict)\n",
    "    k -= 1;\n",
    "    print(k)\n",
    "    prediction_dict = result.prediction_dict_history[k];\n",
    "    if isnothing(prediction_dict)\n",
    "        print(\"nothing\")\n",
    "    else\n",
    "        print(prediction_dict)\n",
    "    end\n",
    "end\n",
    "\n",
    "show_nominal_trajectory = true\n",
    "\n",
    "if show_nominal_trajectory\n",
    "    nominal_trajectory = result.nominal_trajectory_history[ii]\n",
    "else\n",
    "    nominal_trajectory = nothing\n",
    "end\n",
    "\n",
    "figsize=(600, 400);\n",
    "legendfontsize=7; \n",
    "legend=:none; \n",
    "markersize=5.;\n",
    "xlim=(-3. + -5.263534, 13. + -5.314636);\n",
    "ylim=(-2. + -5.263534, 12. + -2.314636);\n",
    "show_prediction=true;\n",
    "dummy_pos = nothing\n",
    "\n",
    "plt = visualize!(color_dict, w,\n",
    "                result.target_trajectory_history[ii],\n",
    "                prediction_dict,\n",
    "                result.sim_param.num_samples,\n",
    "                #u_nominal_idx,\n",
    "                nominal_trajectory,\n",
    "                figsize=figsize, legend=legend,\n",
    "                legendfontsize=legendfontsize,\n",
    "                xlim=xlim, ylim=ylim, markersize=markersize,\n",
    "                show_velocity=true,\n",
    "                show_prediction=show_prediction,\n",
    "                dummy_pos=dummy_pos)\n",
    "\n",
    "show_past_ego_trajectory = true\n",
    "\n",
    "if show_past_ego_trajectory\n",
    "    ego_traj_x = [get_position(w.e_state)[1] for w in result.w_history[1:ii]]\n",
    "    ego_traj_y = [get_position(w.e_state)[2] for w in result.w_history[1:ii]]\n",
    "    ego_color = color_dict[\"Ego Robot\"];\n",
    "    plot!(ego_traj_x, ego_traj_y, color=ego_color, label=\"Ego Trajectory\", linewidth=1.5)\n",
    "end"
   ]
  },
  {
   "cell_type": "code",
   "execution_count": null,
   "metadata": {},
   "outputs": [],
   "source": [
    "# save(\"2_2_data_trajectron_risk_1.0.jld2\", \"result\", result)"
   ]
  },
  {
   "attachments": {},
   "cell_type": "markdown",
   "metadata": {},
   "source": [
    "# 3. Deterministic (mode-mode) Prediction"
   ]
  },
  {
   "cell_type": "code",
   "execution_count": null,
   "metadata": {},
   "outputs": [],
   "source": [
    "include(\"$(@__DIR__)/../scripts/default_params/params_data_trajectron.jl\");\n",
    "\n",
    "deterministic = true;\n",
    "num_samples = 1;\n",
    "\n",
    "include(\"$(@__DIR__)/../scripts/parameter_setup.jl\");"
   ]
  },
  {
   "cell_type": "code",
   "execution_count": null,
   "metadata": {},
   "outputs": [],
   "source": [
    "scene_loader, controller, w_init, measurement_schedule, target_trajectory, target_speed =\n",
    "controller_setup(scene_param,\n",
    "                 predictor_param,\n",
    "                 prediction_device=prediction_device,\n",
    "                 cost_param=cost_param,\n",
    "                 cnt_param=cnt_param,\n",
    "                 dtc=dtc,\n",
    "                 ego_pos_init_vec=ego_pos_init_vec,\n",
    "                 ego_pos_goal_vec=ego_pos_goal_vec,\n",
    "                 target_speed=target_speed,\n",
    "                 sim_horizon=sim_horizon,\n",
    "                 verbose=true);"
   ]
  },
  {
   "cell_type": "code",
   "execution_count": null,
   "metadata": {},
   "outputs": [],
   "source": [
    "result, ~, ~ = evaluate(scene_loader, controller, w_init, ego_pos_goal_vec,\n",
    "                  target_speed, measurement_schedule, target_trajectory,\n",
    "                  pos_error_replan, nominal_control=false);"
   ]
  },
  {
   "cell_type": "code",
   "execution_count": null,
   "metadata": {},
   "outputs": [],
   "source": [
    "display_log(result.log)"
   ]
  },
  {
   "cell_type": "code",
   "execution_count": null,
   "metadata": {},
   "outputs": [],
   "source": [
    "result.total_cnt_cost"
   ]
  },
  {
   "cell_type": "code",
   "execution_count": null,
   "metadata": {},
   "outputs": [],
   "source": [
    "result.total_pos_cost"
   ]
  },
  {
   "cell_type": "code",
   "execution_count": null,
   "metadata": {},
   "outputs": [],
   "source": [
    "result.total_col_cost"
   ]
  },
  {
   "cell_type": "code",
   "execution_count": null,
   "metadata": {},
   "outputs": [],
   "source": [
    "result.total_cnt_cost + result.total_pos_cost + result.total_col_cost"
   ]
  },
  {
   "cell_type": "code",
   "execution_count": null,
   "metadata": {},
   "outputs": [],
   "source": [
    "minimum([minimum(vcat([norm(get_position(w.e_state) - ap) for ap in values(w.ap_dict)], Inf))\n",
    "                          for w in result.w_history])"
   ]
  },
  {
   "cell_type": "code",
   "execution_count": null,
   "metadata": {},
   "outputs": [],
   "source": [
    "make_gif(result, dtplot=0.02, fps=50, xlim=(-3. + -5.263534, 13. + -5.314636), \n",
    "         ylim=(0. + -5.263534, 10. + -5.314636), figsize=(600, 400), \n",
    "         legendfontsize=7, legend=:bottomright, markersize=5., filename=\"2_3_data_trajectron_deterministic.gif\")"
   ]
  },
  {
   "cell_type": "code",
   "execution_count": null,
   "metadata": {},
   "outputs": [],
   "source": [
    "save(\"2_3_data_trajectron_deterministic.jld2\", \"result\", result)"
   ]
  },
  {
   "attachments": {},
   "cell_type": "markdown",
   "metadata": {},
   "source": [
    "# 4. Robot-Future-Conditional: PEDESTRIAN/236 Replaced with Ego"
   ]
  },
  {
   "cell_type": "code",
   "execution_count": null,
   "metadata": {},
   "outputs": [],
   "source": [
    "using LinearAlgebra\n",
    "\n",
    "include(\"$(@__DIR__)/../scripts/default_params/params_data_trajectron.jl\");\n",
    "\n",
    "incl_robot_node = true;\n",
    "use_robot_future = true;\n",
    "\n",
    "include(\"$(@__DIR__)/../scripts/parameter_setup.jl\");"
   ]
  },
  {
   "cell_type": "code",
   "execution_count": null,
   "metadata": {},
   "outputs": [],
   "source": [
    "scene_loader, controller, w_init, measurement_schedule, target_trajectory, target_speed =\n",
    "controller_setup(scene_param,\n",
    "                 predictor_param,\n",
    "                 prediction_device=prediction_device,\n",
    "                 cost_param=cost_param,\n",
    "                 cnt_param=cnt_param,\n",
    "                 dtc=dtc,\n",
    "                 sim_horizon=sim_horizon,\n",
    "                 ado_id_to_replace=\"PEDESTRIAN/236\",\n",
    "                 verbose=true);"
   ]
  },
  {
   "cell_type": "code",
   "execution_count": null,
   "metadata": {},
   "outputs": [],
   "source": [
    "result, ~, ~ = evaluate(scene_loader, controller, w_init, maximum(target_trajectory)[2],\n",
    "                  target_speed, measurement_schedule, target_trajectory,\n",
    "                  pos_error_replan, nominal_control=false,\n",
    "                  ado_id_removed=\"PEDESTRIAN/236\");"
   ]
  },
  {
   "cell_type": "code",
   "execution_count": null,
   "metadata": {},
   "outputs": [],
   "source": [
    "result.total_cnt_cost"
   ]
  },
  {
   "cell_type": "code",
   "execution_count": null,
   "metadata": {},
   "outputs": [],
   "source": [
    "result.total_pos_cost"
   ]
  },
  {
   "cell_type": "code",
   "execution_count": null,
   "metadata": {},
   "outputs": [],
   "source": [
    "result.total_col_cost"
   ]
  },
  {
   "cell_type": "code",
   "execution_count": null,
   "metadata": {},
   "outputs": [],
   "source": [
    "result.total_cnt_cost + result.total_pos_cost + result.total_col_cost"
   ]
  },
  {
   "cell_type": "code",
   "execution_count": null,
   "metadata": {},
   "outputs": [],
   "source": [
    "minimum([minimum(vcat([norm(get_position(w.e_state) - ap) for ap in values(w.ap_dict)], Inf))\n",
    "                          for w in result.w_history])"
   ]
  },
  {
   "cell_type": "code",
   "execution_count": null,
   "metadata": {},
   "outputs": [],
   "source": [
    "make_gif(result, dtplot=0.02, fps=50, xlim=(-3. + -5.263534, 13. + -5.314636), \n",
    "         ylim=(0. + -5.263534, 10. + -5.314636), figsize=(600, 400), \n",
    "         legendfontsize=7, legend=:bottomright, markersize=5., filename=\"2_4_data_trajectron_future_conditional.gif\",\n",
    "         show_nominal_trajectory=true)"
   ]
  },
  {
   "cell_type": "code",
   "execution_count": null,
   "metadata": {},
   "outputs": [],
   "source": [
    "save(\"2_4_data_trajectron_future_conditional.jld2\", \"result\", result)"
   ]
  },
  {
   "attachments": {},
   "cell_type": "markdown",
   "metadata": {},
   "source": [
    "# 5. No Robot-Future-Conditional: PEDESTRIAN/236 Replaced with Ego"
   ]
  },
  {
   "cell_type": "code",
   "execution_count": null,
   "metadata": {},
   "outputs": [],
   "source": [
    "include(\"$(@__DIR__)/../scripts/default_params/params_data_trajectron.jl\");\n",
    "\n",
    "\n",
    "include(\"$(@__DIR__)/../scripts/parameter_setup.jl\");"
   ]
  },
  {
   "cell_type": "code",
   "execution_count": null,
   "metadata": {},
   "outputs": [],
   "source": [
    "scene_loader, controller, w_init, measurement_schedule, target_trajectory, target_speed =\n",
    "controller_setup(scene_param,\n",
    "                 predictor_param,\n",
    "                 prediction_device=prediction_device,\n",
    "                 cost_param=cost_param,\n",
    "                 cnt_param=cnt_param,\n",
    "                 dtc=dtc,\n",
    "                 sim_horizon=sim_horizon,\n",
    "                 ado_id_to_replace=\"PEDESTRIAN/236\",\n",
    "                 verbose=true);"
   ]
  },
  {
   "cell_type": "code",
   "execution_count": null,
   "metadata": {},
   "outputs": [],
   "source": [
    "result, ~, ~ = evaluate(scene_loader, controller, w_init, maximum(target_trajectory)[2],\n",
    "                  target_speed, measurement_schedule, target_trajectory,\n",
    "                  pos_error_replan, nominal_control=false,\n",
    "                  ado_id_removed=\"PEDESTRIAN/236\");"
   ]
  },
  {
   "cell_type": "code",
   "execution_count": null,
   "metadata": {},
   "outputs": [],
   "source": [
    "display_log(result.log)"
   ]
  },
  {
   "cell_type": "code",
   "execution_count": null,
   "metadata": {},
   "outputs": [],
   "source": [
    "result.total_cnt_cost"
   ]
  },
  {
   "cell_type": "code",
   "execution_count": null,
   "metadata": {},
   "outputs": [],
   "source": [
    "result.total_pos_cost"
   ]
  },
  {
   "cell_type": "code",
   "execution_count": null,
   "metadata": {},
   "outputs": [],
   "source": [
    "result.total_col_cost"
   ]
  },
  {
   "cell_type": "code",
   "execution_count": null,
   "metadata": {},
   "outputs": [],
   "source": [
    "result.total_cnt_cost + result.total_pos_cost + result.total_col_cost"
   ]
  },
  {
   "cell_type": "code",
   "execution_count": null,
   "metadata": {},
   "outputs": [],
   "source": [
    "minimum([minimum(vcat([norm(get_position(w.e_state) - ap) for ap in values(w.ap_dict)], Inf))\n",
    "                          for w in result.w_history])"
   ]
  },
  {
   "cell_type": "code",
   "execution_count": null,
   "metadata": {},
   "outputs": [],
   "source": [
    "make_gif(result, dtplot=0.02, fps=50,  xlim=(-3. + -5.263534, 13. + -5.314636), \n",
    "         ylim=(0. + -5.263534, 10. + -5.314636), figsize=(600, 400), \n",
    "         legendfontsize=7, legend=:bottomright, markersize=5., filename=\"2_5_data_trajectron_no_future_conditional.gif\")"
   ]
  },
  {
   "cell_type": "code",
   "execution_count": null,
   "metadata": {},
   "outputs": [],
   "source": [
    "save(\"2_5_data_trajectron_future_conditional.jld2\", \"result\", result)"
   ]
  },
  {
   "cell_type": "code",
   "execution_count": null,
   "metadata": {},
   "outputs": [],
   "source": []
  }
 ],
 "metadata": {
  "@webio": {
   "lastCommId": null,
   "lastKernelId": null
  },
  "kernelspec": {
   "display_name": "Julia 1.8.5",
   "language": "julia",
   "name": "julia-1.8"
  },
  "language_info": {
   "file_extension": ".jl",
   "mimetype": "application/julia",
   "name": "julia",
   "version": "1.8.5"
  }
 },
 "nbformat": 4,
 "nbformat_minor": 4
}
