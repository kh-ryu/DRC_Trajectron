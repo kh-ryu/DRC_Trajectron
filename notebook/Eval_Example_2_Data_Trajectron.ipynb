{
 "cells": [
  {
   "cell_type": "code",
   "execution_count": null,
   "metadata": {},
   "outputs": [],
   "source": [
    "using Revise\n",
    "using Pkg\n",
    "\n",
    "ENV[\"PYTHON\"] = Sys.which(\"python\")\n",
    "ENV[\"PYCALL_JL_RUNTIME_PYTHON\"] = Sys.which(\"python\")\n",
    "Pkg.build(\"PyCall\")\n",
    "using FileIO\n",
    "using JLD2\n",
    "using RiskSensitiveSAC"
   ]
  },
  {
   "attachments": {},
   "cell_type": "markdown",
   "metadata": {},
   "source": [
    "# 1. Default"
   ]
  },
  {
   "cell_type": "code",
   "execution_count": null,
   "metadata": {},
   "outputs": [],
   "source": [
    "include(\"$(@__DIR__)/../scripts/default_params/params_data_trajectron.jl\");\n",
    "\n",
    "include(\"$(@__DIR__)/../scripts/parameter_setup.jl\");"
   ]
  },
  {
   "cell_type": "code",
   "execution_count": null,
   "metadata": {},
   "outputs": [],
   "source": [
    "scene_loader, controller, w_init, measurement_schedule, target_trajectory, target_speed =\n",
    "controller_setup(scene_param,\n",
    "                 predictor_param,\n",
    "                 prediction_device=prediction_device,\n",
    "                 cost_param=cost_param,\n",
    "                 cnt_param=cnt_param,\n",
    "                 dtc=dtc,\n",
    "                 ego_pos_init_vec=ego_pos_init_vec,\n",
    "                 ego_pos_goal_vec=ego_pos_goal_vec,\n",
    "                 target_speed=target_speed,\n",
    "                 sim_horizon=sim_horizon,\n",
    "                 verbose=true);"
   ]
  },
  {
   "cell_type": "code",
   "execution_count": null,
   "metadata": {},
   "outputs": [],
   "source": [
    "result, ~, ~ = evaluate(scene_loader, controller, w_init, ego_pos_goal_vec,\n",
    "                  target_speed, measurement_schedule, target_trajectory,\n",
    "                  pos_error_replan, nominal_control=false);"
   ]
  },
  {
   "cell_type": "code",
   "execution_count": null,
   "metadata": {},
   "outputs": [],
   "source": [
    "display_log(result.log)"
   ]
  },
  {
   "cell_type": "code",
   "execution_count": null,
   "metadata": {},
   "outputs": [],
   "source": [
    "result.total_cnt_cost"
   ]
  },
  {
   "cell_type": "code",
   "execution_count": null,
   "metadata": {},
   "outputs": [],
   "source": [
    "result.total_pos_cost"
   ]
  },
  {
   "cell_type": "code",
   "execution_count": null,
   "metadata": {},
   "outputs": [],
   "source": [
    "result.total_col_cost"
   ]
  },
  {
   "cell_type": "code",
   "execution_count": null,
   "metadata": {},
   "outputs": [],
   "source": [
    "result.total_cnt_cost + result.total_pos_cost + result.total_col_cost"
   ]
  },
  {
   "cell_type": "code",
   "execution_count": null,
   "metadata": {},
   "outputs": [],
   "source": [
    "minimum([minimum(vcat([norm(get_position(w.e_state) - ap) for ap in values(w.ap_dict)], Inf))\n",
    "                          for w in result.w_history])"
   ]
  },
  {
   "cell_type": "code",
   "execution_count": null,
   "metadata": {},
   "outputs": [],
   "source": [
    "make_gif(result, dtplot=0.02, fps=50, xlim=(-3. + -5.263534, 13. + -5.314636), \n",
    "         ylim=(0. + -5.263534, 10. + -5.314636), figsize=(600, 400), \n",
    "         legendfontsize=7, legend=:bottomright, markersize=5., filename=\"2_1_data_trajectron.gif\")"
   ]
  },
  {
   "cell_type": "code",
   "execution_count": null,
   "metadata": {},
   "outputs": [],
   "source": [
    "save(\"2_1_data_trajectron.jld2\", \"result\", result)"
   ]
  },
  {
   "attachments": {},
   "cell_type": "markdown",
   "metadata": {},
   "source": [
    "# 2. Risk Sensitive"
   ]
  },
  {
   "cell_type": "code",
   "execution_count": 49,
   "metadata": {},
   "outputs": [],
   "source": [
    "include(\"$(@__DIR__)/../scripts/default_params/params_data_trajectron.jl\");\n",
    "\n",
    "σ_risk = 1.0;\n",
    "prediction_rng_seed = 1;\n",
    "\n",
    "include(\"$(@__DIR__)/../scripts/parameter_setup.jl\");"
   ]
  },
  {
   "cell_type": "code",
   "execution_count": 50,
   "metadata": {},
   "outputs": [
    {
     "name": "stdout",
     "output_type": "stream",
     "text": [
      "Scene Mode: data\n",
      "Prediction Mode: trajectron\n",
      "Deterministic Prediction: false\n"
     ]
    },
    {
     "name": "stdout",
     "output_type": "stream",
     "text": [
      "Loaded evaluation data from /home/kh-ryu/DRC_Project/DRC_Trajectron/Trajectron-plus-plus/experiments/processed/eth_test.pkl\n",
      "Looking at the eth_test.pkl sequence, data_id 0, start_idx 905\n",
      "Loaded Trajectron model from /home/kh-ryu/DRC_Project/DRC_Trajectron/Trajectron-plus-plus/experiments/pedestrians/models/eth_attention_radius_3/model_registrar-100.pt\n"
     ]
    }
   ],
   "source": [
    "scene_loader, controller, w_init, measurement_schedule, target_trajectory, target_speed =\n",
    "controller_setup(scene_param,\n",
    "                 predictor_param,\n",
    "                 prediction_device=prediction_device,\n",
    "                 cost_param=cost_param,\n",
    "                 cnt_param=cnt_param,\n",
    "                 dtc=dtc,\n",
    "                 ego_pos_init_vec=ego_pos_init_vec,\n",
    "                 ego_pos_goal_vec=ego_pos_goal_vec,\n",
    "                 target_speed=target_speed,\n",
    "                 sim_horizon=sim_horizon,\n",
    "                 verbose=true);"
   ]
  },
  {
   "cell_type": "code",
   "execution_count": 51,
   "metadata": {},
   "outputs": [
    {
     "name": "stderr",
     "output_type": "stream",
     "text": [
      "┌ Warning: Time 0.00 [sec]: SAC computation took 0.827 [sec], which exceeds the maximum computation time allowed.\n",
      "└ @ RiskSensitiveSAC /home/kh-ryu/DRC_Project/DRC_Trajectron/src/rs_sac_controller.jl:733\n"
     ]
    },
    {
     "name": "stderr",
     "output_type": "stream",
     "text": [
      "┌ Warning: Time 0.10 [sec]: SAC computation took 0.777 [sec], which exceeds the maximum computation time allowed.\n",
      "└ @ RiskSensitiveSAC /home/kh-ryu/DRC_Project/DRC_Trajectron/src/rs_sac_controller.jl:733\n",
      "┌ Warning: Time 0.10 [sec]: This evaluation iteration took 0.777 [sec], which exceeds dtc.\n",
      "└ @ RiskSensitiveSAC /home/kh-ryu/DRC_Project/DRC_Trajectron/src/evaluation.jl:291\n"
     ]
    },
    {
     "name": "stderr",
     "output_type": "stream",
     "text": [
      "┌ Warning: Time 0.20 [sec]: SAC computation took 0.763 [sec], which exceeds the maximum computation time allowed.\n",
      "└ @ RiskSensitiveSAC /home/kh-ryu/DRC_Project/DRC_Trajectron/src/rs_sac_controller.jl:733\n",
      "┌ Warning: Time 0.20 [sec]: This evaluation iteration took 0.764 [sec], which exceeds dtc.\n",
      "└ @ RiskSensitiveSAC /home/kh-ryu/DRC_Project/DRC_Trajectron/src/evaluation.jl:291\n"
     ]
    },
    {
     "name": "stderr",
     "output_type": "stream",
     "text": [
      "┌ Warning: Time 0.30 [sec]: SAC computation took 0.763 [sec], which exceeds the maximum computation time allowed.\n",
      "└ @ RiskSensitiveSAC /home/kh-ryu/DRC_Project/DRC_Trajectron/src/rs_sac_controller.jl:733\n",
      "┌ Warning: Time 0.30 [sec]: This evaluation iteration took 0.764 [sec], which exceeds dtc.\n",
      "└ @ RiskSensitiveSAC /home/kh-ryu/DRC_Project/DRC_Trajectron/src/evaluation.jl:291\n"
     ]
    },
    {
     "name": "stderr",
     "output_type": "stream",
     "text": [
      "┌ Warning: Time 0.40 [sec]: SAC computation took 0.801 [sec], which exceeds the maximum computation time allowed.\n",
      "└ @ RiskSensitiveSAC /home/kh-ryu/DRC_Project/DRC_Trajectron/src/rs_sac_controller.jl:733\n",
      "┌ Warning: Time 0.40 [sec]: This evaluation iteration took 0.872 [sec], which exceeds dtc.\n",
      "└ @ RiskSensitiveSAC /home/kh-ryu/DRC_Project/DRC_Trajectron/src/evaluation.jl:291\n"
     ]
    },
    {
     "name": "stderr",
     "output_type": "stream",
     "text": [
      "┌ Warning: Time 0.50 [sec]: SAC computation took 0.766 [sec], which exceeds the maximum computation time allowed.\n",
      "└ @ RiskSensitiveSAC /home/kh-ryu/DRC_Project/DRC_Trajectron/src/rs_sac_controller.jl:733\n",
      "┌ Warning: Time 0.50 [sec]: This evaluation iteration took 0.767 [sec], which exceeds dtc.\n",
      "└ @ RiskSensitiveSAC /home/kh-ryu/DRC_Project/DRC_Trajectron/src/evaluation.jl:291\n"
     ]
    },
    {
     "name": "stderr",
     "output_type": "stream",
     "text": [
      "┌ Warning: Time 0.60 [sec]: SAC computation took 0.778 [sec], which exceeds the maximum computation time allowed.\n",
      "└ @ RiskSensitiveSAC /home/kh-ryu/DRC_Project/DRC_Trajectron/src/rs_sac_controller.jl:733\n",
      "┌ Warning: Time 0.60 [sec]: This evaluation iteration took 0.779 [sec], which exceeds dtc.\n",
      "└ @ RiskSensitiveSAC /home/kh-ryu/DRC_Project/DRC_Trajectron/src/evaluation.jl:291\n"
     ]
    },
    {
     "name": "stderr",
     "output_type": "stream",
     "text": [
      "┌ Warning: Time 0.70 [sec]: SAC computation took 0.771 [sec], which exceeds the maximum computation time allowed.\n",
      "└ @ RiskSensitiveSAC /home/kh-ryu/DRC_Project/DRC_Trajectron/src/rs_sac_controller.jl:733\n",
      "┌ Warning: Time 0.70 [sec]: This evaluation iteration took 0.771 [sec], which exceeds dtc.\n",
      "└ @ RiskSensitiveSAC /home/kh-ryu/DRC_Project/DRC_Trajectron/src/evaluation.jl:291\n"
     ]
    },
    {
     "name": "stderr",
     "output_type": "stream",
     "text": [
      "┌ Warning: Time 0.80 [sec]: SAC computation took 0.813 [sec], which exceeds the maximum computation time allowed.\n",
      "└ @ RiskSensitiveSAC /home/kh-ryu/DRC_Project/DRC_Trajectron/src/rs_sac_controller.jl:733\n",
      "┌ Warning: Time 0.80 [sec]: This evaluation iteration took 0.884 [sec], which exceeds dtc.\n",
      "└ @ RiskSensitiveSAC /home/kh-ryu/DRC_Project/DRC_Trajectron/src/evaluation.jl:291\n"
     ]
    },
    {
     "name": "stderr",
     "output_type": "stream",
     "text": [
      "┌ Warning: Time 0.90 [sec]: SAC computation took 0.773 [sec], which exceeds the maximum computation time allowed.\n",
      "└ @ RiskSensitiveSAC /home/kh-ryu/DRC_Project/DRC_Trajectron/src/rs_sac_controller.jl:733\n",
      "┌ Warning: Time 0.90 [sec]: This evaluation iteration took 0.774 [sec], which exceeds dtc.\n",
      "└ @ RiskSensitiveSAC /home/kh-ryu/DRC_Project/DRC_Trajectron/src/evaluation.jl:291\n"
     ]
    },
    {
     "name": "stderr",
     "output_type": "stream",
     "text": [
      "┌ Warning: Time 1.00 [sec]: SAC computation took 0.765 [sec], which exceeds the maximum computation time allowed.\n",
      "└ @ RiskSensitiveSAC /home/kh-ryu/DRC_Project/DRC_Trajectron/src/rs_sac_controller.jl:733\n",
      "┌ Warning: Time 1.00 [sec]: This evaluation iteration took 0.766 [sec], which exceeds dtc.\n",
      "└ @ RiskSensitiveSAC /home/kh-ryu/DRC_Project/DRC_Trajectron/src/evaluation.jl:291\n"
     ]
    },
    {
     "name": "stderr",
     "output_type": "stream",
     "text": [
      "┌ Warning: Time 1.10 [sec]: SAC computation took 0.789 [sec], which exceeds the maximum computation time allowed.\n",
      "└ @ RiskSensitiveSAC /home/kh-ryu/DRC_Project/DRC_Trajectron/src/rs_sac_controller.jl:733\n",
      "┌ Warning: Time 1.10 [sec]: This evaluation iteration took 0.789 [sec], which exceeds dtc.\n",
      "└ @ RiskSensitiveSAC /home/kh-ryu/DRC_Project/DRC_Trajectron/src/evaluation.jl:291\n"
     ]
    },
    {
     "name": "stderr",
     "output_type": "stream",
     "text": [
      "┌ Warning: Time 1.20 [sec]: SAC computation took 0.755 [sec], which exceeds the maximum computation time allowed.\n",
      "└ @ RiskSensitiveSAC /home/kh-ryu/DRC_Project/DRC_Trajectron/src/rs_sac_controller.jl:733\n",
      "┌ Warning: Time 1.20 [sec]: This evaluation iteration took 0.819 [sec], which exceeds dtc.\n",
      "└ @ RiskSensitiveSAC /home/kh-ryu/DRC_Project/DRC_Trajectron/src/evaluation.jl:291\n"
     ]
    },
    {
     "name": "stderr",
     "output_type": "stream",
     "text": [
      "┌ Warning: Time 1.30 [sec]: SAC computation took 0.753 [sec], which exceeds the maximum computation time allowed.\n",
      "└ @ RiskSensitiveSAC /home/kh-ryu/DRC_Project/DRC_Trajectron/src/rs_sac_controller.jl:733\n",
      "┌ Warning: Time 1.30 [sec]: This evaluation iteration took 0.753 [sec], which exceeds dtc.\n",
      "└ @ RiskSensitiveSAC /home/kh-ryu/DRC_Project/DRC_Trajectron/src/evaluation.jl:291\n"
     ]
    },
    {
     "name": "stderr",
     "output_type": "stream",
     "text": [
      "┌ Warning: Time 1.40 [sec]: SAC computation took 0.763 [sec], which exceeds the maximum computation time allowed.\n",
      "└ @ RiskSensitiveSAC /home/kh-ryu/DRC_Project/DRC_Trajectron/src/rs_sac_controller.jl:733\n",
      "┌ Warning: Time 1.40 [sec]: This evaluation iteration took 0.764 [sec], which exceeds dtc.\n",
      "└ @ RiskSensitiveSAC /home/kh-ryu/DRC_Project/DRC_Trajectron/src/evaluation.jl:291\n"
     ]
    },
    {
     "name": "stderr",
     "output_type": "stream",
     "text": [
      "┌ Warning: Time 1.50 [sec]: SAC computation took 0.758 [sec], which exceeds the maximum computation time allowed.\n",
      "└ @ RiskSensitiveSAC /home/kh-ryu/DRC_Project/DRC_Trajectron/src/rs_sac_controller.jl:733\n",
      "┌ Warning: Time 1.50 [sec]: This evaluation iteration took 0.758 [sec], which exceeds dtc.\n",
      "└ @ RiskSensitiveSAC /home/kh-ryu/DRC_Project/DRC_Trajectron/src/evaluation.jl:291\n"
     ]
    },
    {
     "name": "stderr",
     "output_type": "stream",
     "text": [
      "┌ Warning: Time 1.60 [sec]: SAC computation took 0.885 [sec], which exceeds the maximum computation time allowed.\n",
      "└ @ RiskSensitiveSAC /home/kh-ryu/DRC_Project/DRC_Trajectron/src/rs_sac_controller.jl:733\n",
      "┌ Warning: Time 1.60 [sec]: This evaluation iteration took 0.973 [sec], which exceeds dtc.\n",
      "└ @ RiskSensitiveSAC /home/kh-ryu/DRC_Project/DRC_Trajectron/src/evaluation.jl:291\n"
     ]
    },
    {
     "name": "stderr",
     "output_type": "stream",
     "text": [
      "┌ Warning: Time 1.70 [sec]: SAC computation took 0.832 [sec], which exceeds the maximum computation time allowed.\n",
      "└ @ RiskSensitiveSAC /home/kh-ryu/DRC_Project/DRC_Trajectron/src/rs_sac_controller.jl:733\n",
      "┌ Warning: Time 1.70 [sec]: This evaluation iteration took 0.833 [sec], which exceeds dtc.\n",
      "└ @ RiskSensitiveSAC /home/kh-ryu/DRC_Project/DRC_Trajectron/src/evaluation.jl:291\n"
     ]
    },
    {
     "name": "stderr",
     "output_type": "stream",
     "text": [
      "┌ Warning: Time 1.80 [sec]: SAC computation took 0.763 [sec], which exceeds the maximum computation time allowed.\n",
      "└ @ RiskSensitiveSAC /home/kh-ryu/DRC_Project/DRC_Trajectron/src/rs_sac_controller.jl:733\n",
      "┌ Warning: Time 1.80 [sec]: This evaluation iteration took 0.763 [sec], which exceeds dtc.\n",
      "└ @ RiskSensitiveSAC /home/kh-ryu/DRC_Project/DRC_Trajectron/src/evaluation.jl:291\n"
     ]
    },
    {
     "name": "stderr",
     "output_type": "stream",
     "text": [
      "┌ Warning: Time 1.90 [sec]: SAC computation took 0.795 [sec], which exceeds the maximum computation time allowed.\n",
      "└ @ RiskSensitiveSAC /home/kh-ryu/DRC_Project/DRC_Trajectron/src/rs_sac_controller.jl:733\n",
      "┌ Warning: Time 1.90 [sec]: This evaluation iteration took 0.796 [sec], which exceeds dtc.\n",
      "└ @ RiskSensitiveSAC /home/kh-ryu/DRC_Project/DRC_Trajectron/src/evaluation.jl:291\n"
     ]
    },
    {
     "name": "stderr",
     "output_type": "stream",
     "text": [
      "┌ Warning: Time 2.00 [sec]: SAC computation took 0.727 [sec], which exceeds the maximum computation time allowed.\n",
      "└ @ RiskSensitiveSAC /home/kh-ryu/DRC_Project/DRC_Trajectron/src/rs_sac_controller.jl:733\n",
      "┌ Warning: Time 2.00 [sec]: This evaluation iteration took 0.802 [sec], which exceeds dtc.\n",
      "└ @ RiskSensitiveSAC /home/kh-ryu/DRC_Project/DRC_Trajectron/src/evaluation.jl:291\n"
     ]
    },
    {
     "name": "stderr",
     "output_type": "stream",
     "text": [
      "┌ Warning: Time 2.10 [sec]: SAC computation took 0.738 [sec], which exceeds the maximum computation time allowed.\n",
      "└ @ RiskSensitiveSAC /home/kh-ryu/DRC_Project/DRC_Trajectron/src/rs_sac_controller.jl:733\n",
      "┌ Warning: Time 2.10 [sec]: This evaluation iteration took 0.738 [sec], which exceeds dtc.\n",
      "└ @ RiskSensitiveSAC /home/kh-ryu/DRC_Project/DRC_Trajectron/src/evaluation.jl:291\n"
     ]
    },
    {
     "name": "stderr",
     "output_type": "stream",
     "text": [
      "┌ Warning: Time 2.20 [sec]: SAC computation took 0.731 [sec], which exceeds the maximum computation time allowed.\n",
      "└ @ RiskSensitiveSAC /home/kh-ryu/DRC_Project/DRC_Trajectron/src/rs_sac_controller.jl:733\n",
      "┌ Warning: Time 2.20 [sec]: This evaluation iteration took 0.731 [sec], which exceeds dtc.\n",
      "└ @ RiskSensitiveSAC /home/kh-ryu/DRC_Project/DRC_Trajectron/src/evaluation.jl:291\n"
     ]
    },
    {
     "name": "stderr",
     "output_type": "stream",
     "text": [
      "┌ Warning: Time 2.30 [sec]: SAC computation took 0.799 [sec], which exceeds the maximum computation time allowed.\n",
      "└ @ RiskSensitiveSAC /home/kh-ryu/DRC_Project/DRC_Trajectron/src/rs_sac_controller.jl:733\n",
      "┌ Warning: Time 2.30 [sec]: This evaluation iteration took 0.799 [sec], which exceeds dtc.\n",
      "└ @ RiskSensitiveSAC /home/kh-ryu/DRC_Project/DRC_Trajectron/src/evaluation.jl:291\n"
     ]
    },
    {
     "name": "stderr",
     "output_type": "stream",
     "text": [
      "┌ Warning: Time 2.40 [sec]: SAC computation took 0.761 [sec], which exceeds the maximum computation time allowed.\n",
      "└ @ RiskSensitiveSAC /home/kh-ryu/DRC_Project/DRC_Trajectron/src/rs_sac_controller.jl:733\n",
      "┌ Warning: Time 2.40 [sec]: This evaluation iteration took 0.841 [sec], which exceeds dtc.\n",
      "└ @ RiskSensitiveSAC /home/kh-ryu/DRC_Project/DRC_Trajectron/src/evaluation.jl:291\n"
     ]
    },
    {
     "name": "stderr",
     "output_type": "stream",
     "text": [
      "┌ Warning: Time 2.50 [sec]: SAC computation took 0.737 [sec], which exceeds the maximum computation time allowed.\n",
      "└ @ RiskSensitiveSAC /home/kh-ryu/DRC_Project/DRC_Trajectron/src/rs_sac_controller.jl:733\n",
      "┌ Warning: Time 2.50 [sec]: This evaluation iteration took 0.737 [sec], which exceeds dtc.\n",
      "└ @ RiskSensitiveSAC /home/kh-ryu/DRC_Project/DRC_Trajectron/src/evaluation.jl:291\n"
     ]
    },
    {
     "name": "stderr",
     "output_type": "stream",
     "text": [
      "┌ Warning: Time 2.60 [sec]: SAC computation took 0.795 [sec], which exceeds the maximum computation time allowed.\n",
      "└ @ RiskSensitiveSAC /home/kh-ryu/DRC_Project/DRC_Trajectron/src/rs_sac_controller.jl:733\n",
      "┌ Warning: Time 2.60 [sec]: This evaluation iteration took 0.796 [sec], which exceeds dtc.\n",
      "└ @ RiskSensitiveSAC /home/kh-ryu/DRC_Project/DRC_Trajectron/src/evaluation.jl:291\n"
     ]
    },
    {
     "name": "stderr",
     "output_type": "stream",
     "text": [
      "┌ Warning: Time 2.70 [sec]: SAC computation took 0.744 [sec], which exceeds the maximum computation time allowed.\n",
      "└ @ RiskSensitiveSAC /home/kh-ryu/DRC_Project/DRC_Trajectron/src/rs_sac_controller.jl:733\n",
      "┌ Warning: Time 2.70 [sec]: This evaluation iteration took 0.745 [sec], which exceeds dtc.\n",
      "└ @ RiskSensitiveSAC /home/kh-ryu/DRC_Project/DRC_Trajectron/src/evaluation.jl:291\n"
     ]
    },
    {
     "name": "stderr",
     "output_type": "stream",
     "text": [
      "┌ Warning: Time 2.80 [sec]: SAC computation took 0.647 [sec], which exceeds the maximum computation time allowed.\n",
      "└ @ RiskSensitiveSAC /home/kh-ryu/DRC_Project/DRC_Trajectron/src/rs_sac_controller.jl:733\n",
      "┌ Warning: Time 2.80 [sec]: This evaluation iteration took 0.715 [sec], which exceeds dtc.\n",
      "└ @ RiskSensitiveSAC /home/kh-ryu/DRC_Project/DRC_Trajectron/src/evaluation.jl:291\n"
     ]
    },
    {
     "name": "stderr",
     "output_type": "stream",
     "text": [
      "┌ Warning: Time 2.90 [sec]: SAC computation took 0.65 [sec], which exceeds the maximum computation time allowed.\n",
      "└ @ RiskSensitiveSAC /home/kh-ryu/DRC_Project/DRC_Trajectron/src/rs_sac_controller.jl:733\n",
      "┌ Warning: Time 2.90 [sec]: This evaluation iteration took 0.65 [sec], which exceeds dtc.\n",
      "└ @ RiskSensitiveSAC /home/kh-ryu/DRC_Project/DRC_Trajectron/src/evaluation.jl:291\n"
     ]
    },
    {
     "name": "stderr",
     "output_type": "stream",
     "text": [
      "┌ Warning: Time 3.00 [sec]: SAC computation took 0.753 [sec], which exceeds the maximum computation time allowed.\n",
      "└ @ RiskSensitiveSAC /home/kh-ryu/DRC_Project/DRC_Trajectron/src/rs_sac_controller.jl:733\n",
      "┌ Warning: Time 3.00 [sec]: This evaluation iteration took 0.754 [sec], which exceeds dtc.\n",
      "└ @ RiskSensitiveSAC /home/kh-ryu/DRC_Project/DRC_Trajectron/src/evaluation.jl:291\n"
     ]
    },
    {
     "name": "stderr",
     "output_type": "stream",
     "text": [
      "┌ Warning: Time 3.10 [sec]: SAC computation took 0.691 [sec], which exceeds the maximum computation time allowed.\n",
      "└ @ RiskSensitiveSAC /home/kh-ryu/DRC_Project/DRC_Trajectron/src/rs_sac_controller.jl:733\n",
      "┌ Warning: Time 3.10 [sec]: This evaluation iteration took 0.691 [sec], which exceeds dtc.\n",
      "└ @ RiskSensitiveSAC /home/kh-ryu/DRC_Project/DRC_Trajectron/src/evaluation.jl:291\n"
     ]
    },
    {
     "name": "stderr",
     "output_type": "stream",
     "text": [
      "┌ Warning: Time 3.20 [sec]: SAC computation took 0.368 [sec], which exceeds the maximum computation time allowed.\n",
      "└ @ RiskSensitiveSAC /home/kh-ryu/DRC_Project/DRC_Trajectron/src/rs_sac_controller.jl:733\n",
      "┌ Warning: Time 3.20 [sec]: This evaluation iteration took 0.411 [sec], which exceeds dtc.\n",
      "└ @ RiskSensitiveSAC /home/kh-ryu/DRC_Project/DRC_Trajectron/src/evaluation.jl:291\n"
     ]
    },
    {
     "name": "stderr",
     "output_type": "stream",
     "text": [
      "┌ Warning: Time 3.30 [sec]: SAC computation took 0.385 [sec], which exceeds the maximum computation time allowed.\n",
      "└ @ RiskSensitiveSAC /home/kh-ryu/DRC_Project/DRC_Trajectron/src/rs_sac_controller.jl:733\n",
      "┌ Warning: Time 3.30 [sec]: This evaluation iteration took 0.385 [sec], which exceeds dtc.\n",
      "└ @ RiskSensitiveSAC /home/kh-ryu/DRC_Project/DRC_Trajectron/src/evaluation.jl:291\n"
     ]
    },
    {
     "name": "stderr",
     "output_type": "stream",
     "text": [
      "┌ Warning: Time 3.40 [sec]: SAC computation took 0.377 [sec], which exceeds the maximum computation time allowed.\n",
      "└ @ RiskSensitiveSAC /home/kh-ryu/DRC_Project/DRC_Trajectron/src/rs_sac_controller.jl:733\n",
      "┌ Warning: Time 3.40 [sec]: This evaluation iteration took 0.377 [sec], which exceeds dtc.\n",
      "└ @ RiskSensitiveSAC /home/kh-ryu/DRC_Project/DRC_Trajectron/src/evaluation.jl:291\n"
     ]
    },
    {
     "name": "stderr",
     "output_type": "stream",
     "text": [
      "┌ Warning: Time 3.50 [sec]: SAC computation took 0.377 [sec], which exceeds the maximum computation time allowed.\n",
      "└ @ RiskSensitiveSAC /home/kh-ryu/DRC_Project/DRC_Trajectron/src/rs_sac_controller.jl:733\n",
      "┌ Warning: Time 3.50 [sec]: This evaluation iteration took 0.378 [sec], which exceeds dtc.\n",
      "└ @ RiskSensitiveSAC /home/kh-ryu/DRC_Project/DRC_Trajectron/src/evaluation.jl:291\n"
     ]
    },
    {
     "name": "stderr",
     "output_type": "stream",
     "text": [
      "┌ Warning: Time 3.60 [sec]: SAC computation took 0.885 [sec], which exceeds the maximum computation time allowed.\n",
      "└ @ RiskSensitiveSAC /home/kh-ryu/DRC_Project/DRC_Trajectron/src/rs_sac_controller.jl:733\n",
      "┌ Warning: Time 3.60 [sec]: This evaluation iteration took 0.973 [sec], which exceeds dtc.\n",
      "└ @ RiskSensitiveSAC /home/kh-ryu/DRC_Project/DRC_Trajectron/src/evaluation.jl:291\n"
     ]
    },
    {
     "name": "stderr",
     "output_type": "stream",
     "text": [
      "┌ Warning: Time 3.70 [sec]: SAC computation took 0.85 [sec], which exceeds the maximum computation time allowed.\n",
      "└ @ RiskSensitiveSAC /home/kh-ryu/DRC_Project/DRC_Trajectron/src/rs_sac_controller.jl:733\n",
      "┌ Warning: Time 3.70 [sec]: This evaluation iteration took 0.851 [sec], which exceeds dtc.\n",
      "└ @ RiskSensitiveSAC /home/kh-ryu/DRC_Project/DRC_Trajectron/src/evaluation.jl:291\n"
     ]
    },
    {
     "name": "stderr",
     "output_type": "stream",
     "text": [
      "┌ Warning: Time 3.80 [sec]: SAC computation took 0.87 [sec], which exceeds the maximum computation time allowed.\n",
      "└ @ RiskSensitiveSAC /home/kh-ryu/DRC_Project/DRC_Trajectron/src/rs_sac_controller.jl:733\n",
      "┌ Warning: Time 3.80 [sec]: This evaluation iteration took 0.87 [sec], which exceeds dtc.\n",
      "└ @ RiskSensitiveSAC /home/kh-ryu/DRC_Project/DRC_Trajectron/src/evaluation.jl:291\n"
     ]
    },
    {
     "name": "stderr",
     "output_type": "stream",
     "text": [
      "┌ Warning: Time 3.90 [sec]: SAC computation took 0.897 [sec], which exceeds the maximum computation time allowed.\n",
      "└ @ RiskSensitiveSAC /home/kh-ryu/DRC_Project/DRC_Trajectron/src/rs_sac_controller.jl:733\n",
      "┌ Warning: Time 3.90 [sec]: This evaluation iteration took 0.897 [sec], which exceeds dtc.\n",
      "└ @ RiskSensitiveSAC /home/kh-ryu/DRC_Project/DRC_Trajectron/src/evaluation.jl:291\n"
     ]
    },
    {
     "name": "stderr",
     "output_type": "stream",
     "text": [
      "┌ Warning: Time 4.00 [sec]: SAC computation took 0.933 [sec], which exceeds the maximum computation time allowed.\n",
      "└ @ RiskSensitiveSAC /home/kh-ryu/DRC_Project/DRC_Trajectron/src/rs_sac_controller.jl:733\n",
      "┌ Warning: Time 4.00 [sec]: This evaluation iteration took 1.031 [sec], which exceeds dtc.\n",
      "└ @ RiskSensitiveSAC /home/kh-ryu/DRC_Project/DRC_Trajectron/src/evaluation.jl:291\n"
     ]
    },
    {
     "name": "stderr",
     "output_type": "stream",
     "text": [
      "┌ Warning: Time 4.10 [sec]: SAC computation took 0.916 [sec], which exceeds the maximum computation time allowed.\n",
      "└ @ RiskSensitiveSAC /home/kh-ryu/DRC_Project/DRC_Trajectron/src/rs_sac_controller.jl:733\n",
      "┌ Warning: Time 4.10 [sec]: This evaluation iteration took 0.916 [sec], which exceeds dtc.\n",
      "└ @ RiskSensitiveSAC /home/kh-ryu/DRC_Project/DRC_Trajectron/src/evaluation.jl:291\n"
     ]
    },
    {
     "name": "stderr",
     "output_type": "stream",
     "text": [
      "┌ Warning: Time 4.20 [sec]: SAC computation took 0.959 [sec], which exceeds the maximum computation time allowed.\n",
      "└ @ RiskSensitiveSAC /home/kh-ryu/DRC_Project/DRC_Trajectron/src/rs_sac_controller.jl:733\n",
      "┌ Warning: Time 4.20 [sec]: This evaluation iteration took 0.96 [sec], which exceeds dtc.\n",
      "└ @ RiskSensitiveSAC /home/kh-ryu/DRC_Project/DRC_Trajectron/src/evaluation.jl:291\n"
     ]
    },
    {
     "name": "stderr",
     "output_type": "stream",
     "text": [
      "┌ Warning: Time 4.30 [sec]: SAC computation took 0.952 [sec], which exceeds the maximum computation time allowed.\n",
      "└ @ RiskSensitiveSAC /home/kh-ryu/DRC_Project/DRC_Trajectron/src/rs_sac_controller.jl:733\n",
      "┌ Warning: Time 4.30 [sec]: This evaluation iteration took 0.952 [sec], which exceeds dtc.\n",
      "└ @ RiskSensitiveSAC /home/kh-ryu/DRC_Project/DRC_Trajectron/src/evaluation.jl:291\n"
     ]
    },
    {
     "name": "stderr",
     "output_type": "stream",
     "text": [
      "┌ Warning: Time 4.40 [sec]: SAC computation took 0.948 [sec], which exceeds the maximum computation time allowed.\n",
      "└ @ RiskSensitiveSAC /home/kh-ryu/DRC_Project/DRC_Trajectron/src/rs_sac_controller.jl:733\n",
      "┌ Warning: Time 4.40 [sec]: This evaluation iteration took 1.04 [sec], which exceeds dtc.\n",
      "└ @ RiskSensitiveSAC /home/kh-ryu/DRC_Project/DRC_Trajectron/src/evaluation.jl:291\n"
     ]
    },
    {
     "name": "stderr",
     "output_type": "stream",
     "text": [
      "┌ Warning: Time 4.50 [sec]: SAC computation took 0.985 [sec], which exceeds the maximum computation time allowed.\n",
      "└ @ RiskSensitiveSAC /home/kh-ryu/DRC_Project/DRC_Trajectron/src/rs_sac_controller.jl:733\n"
     ]
    },
    {
     "name": "stderr",
     "output_type": "stream",
     "text": [
      "┌ Warning: Time 4.50 [sec]: This evaluation iteration took 0.986 [sec], which exceeds dtc.\n",
      "└ @ RiskSensitiveSAC /home/kh-ryu/DRC_Project/DRC_Trajectron/src/evaluation.jl:291\n"
     ]
    },
    {
     "name": "stderr",
     "output_type": "stream",
     "text": [
      "┌ Warning: Time 4.60 [sec]: SAC computation took 0.926 [sec], which exceeds the maximum computation time allowed.\n",
      "└ @ RiskSensitiveSAC /home/kh-ryu/DRC_Project/DRC_Trajectron/src/rs_sac_controller.jl:733\n",
      "┌ Warning: Time 4.60 [sec]: This evaluation iteration took 0.927 [sec], which exceeds dtc.\n",
      "└ @ RiskSensitiveSAC /home/kh-ryu/DRC_Project/DRC_Trajectron/src/evaluation.jl:291\n"
     ]
    },
    {
     "name": "stderr",
     "output_type": "stream",
     "text": [
      "┌ Warning: Time 4.70 [sec]: SAC computation took 0.957 [sec], which exceeds the maximum computation time allowed.\n",
      "└ @ RiskSensitiveSAC /home/kh-ryu/DRC_Project/DRC_Trajectron/src/rs_sac_controller.jl:733\n",
      "┌ Warning: Time 4.70 [sec]: This evaluation iteration took 0.958 [sec], which exceeds dtc.\n",
      "└ @ RiskSensitiveSAC /home/kh-ryu/DRC_Project/DRC_Trajectron/src/evaluation.jl:291\n"
     ]
    },
    {
     "name": "stderr",
     "output_type": "stream",
     "text": [
      "┌ Warning: Time 4.80 [sec]: SAC computation took 0.983 [sec], which exceeds the maximum computation time allowed.\n",
      "└ @ RiskSensitiveSAC /home/kh-ryu/DRC_Project/DRC_Trajectron/src/rs_sac_controller.jl:733\n",
      "┌ Warning: Time 4.80 [sec]: This evaluation iteration took 1.079 [sec], which exceeds dtc.\n",
      "└ @ RiskSensitiveSAC /home/kh-ryu/DRC_Project/DRC_Trajectron/src/evaluation.jl:291\n"
     ]
    },
    {
     "name": "stderr",
     "output_type": "stream",
     "text": [
      "┌ Warning: Time 4.90 [sec]: SAC computation took 0.919 [sec], which exceeds the maximum computation time allowed.\n",
      "└ @ RiskSensitiveSAC /home/kh-ryu/DRC_Project/DRC_Trajectron/src/rs_sac_controller.jl:733\n",
      "┌ Warning: Time 4.90 [sec]: This evaluation iteration took 0.92 [sec], which exceeds dtc.\n",
      "└ @ RiskSensitiveSAC /home/kh-ryu/DRC_Project/DRC_Trajectron/src/evaluation.jl:291\n"
     ]
    },
    {
     "name": "stderr",
     "output_type": "stream",
     "text": [
      "┌ Warning: Time 5.00 [sec]: SAC computation took 0.931 [sec], which exceeds the maximum computation time allowed.\n",
      "└ @ RiskSensitiveSAC /home/kh-ryu/DRC_Project/DRC_Trajectron/src/rs_sac_controller.jl:733\n",
      "┌ Warning: Time 5.00 [sec]: This evaluation iteration took 0.931 [sec], which exceeds dtc.\n",
      "└ @ RiskSensitiveSAC /home/kh-ryu/DRC_Project/DRC_Trajectron/src/evaluation.jl:291\n"
     ]
    },
    {
     "name": "stderr",
     "output_type": "stream",
     "text": [
      "┌ Warning: Time 5.10 [sec]: SAC computation took 0.952 [sec], which exceeds the maximum computation time allowed.\n",
      "└ @ RiskSensitiveSAC /home/kh-ryu/DRC_Project/DRC_Trajectron/src/rs_sac_controller.jl:733\n",
      "┌ Warning: Time 5.10 [sec]: This evaluation iteration took 0.952 [sec], which exceeds dtc.\n",
      "└ @ RiskSensitiveSAC /home/kh-ryu/DRC_Project/DRC_Trajectron/src/evaluation.jl:291\n"
     ]
    },
    {
     "name": "stderr",
     "output_type": "stream",
     "text": [
      "┌ Warning: Time 5.20 [sec]: SAC computation took 0.919 [sec], which exceeds the maximum computation time allowed.\n",
      "└ @ RiskSensitiveSAC /home/kh-ryu/DRC_Project/DRC_Trajectron/src/rs_sac_controller.jl:733\n",
      "┌ Warning: Time 5.20 [sec]: This evaluation iteration took 1.01 [sec], which exceeds dtc.\n",
      "└ @ RiskSensitiveSAC /home/kh-ryu/DRC_Project/DRC_Trajectron/src/evaluation.jl:291\n"
     ]
    },
    {
     "name": "stderr",
     "output_type": "stream",
     "text": [
      "┌ Warning: Time 5.30 [sec]: SAC computation took 0.976 [sec], which exceeds the maximum computation time allowed.\n",
      "└ @ RiskSensitiveSAC /home/kh-ryu/DRC_Project/DRC_Trajectron/src/rs_sac_controller.jl:733\n",
      "┌ Warning: Time 5.30 [sec]: This evaluation iteration took 0.976 [sec], which exceeds dtc.\n",
      "└ @ RiskSensitiveSAC /home/kh-ryu/DRC_Project/DRC_Trajectron/src/evaluation.jl:291\n"
     ]
    },
    {
     "name": "stderr",
     "output_type": "stream",
     "text": [
      "┌ Warning: Time 5.40 [sec]: SAC computation took 0.936 [sec], which exceeds the maximum computation time allowed.\n",
      "└ @ RiskSensitiveSAC /home/kh-ryu/DRC_Project/DRC_Trajectron/src/rs_sac_controller.jl:733\n",
      "┌ Warning: Time 5.40 [sec]: This evaluation iteration took 0.936 [sec], which exceeds dtc.\n",
      "└ @ RiskSensitiveSAC /home/kh-ryu/DRC_Project/DRC_Trajectron/src/evaluation.jl:291\n"
     ]
    },
    {
     "name": "stderr",
     "output_type": "stream",
     "text": [
      "┌ Warning: Time 5.50 [sec]: SAC computation took 0.955 [sec], which exceeds the maximum computation time allowed.\n",
      "└ @ RiskSensitiveSAC /home/kh-ryu/DRC_Project/DRC_Trajectron/src/rs_sac_controller.jl:733\n",
      "┌ Warning: Time 5.50 [sec]: This evaluation iteration took 0.956 [sec], which exceeds dtc.\n",
      "└ @ RiskSensitiveSAC /home/kh-ryu/DRC_Project/DRC_Trajectron/src/evaluation.jl:291\n"
     ]
    },
    {
     "name": "stderr",
     "output_type": "stream",
     "text": [
      "┌ Warning: Time 5.60 [sec]: SAC computation took 1.058 [sec], which exceeds the maximum computation time allowed.\n",
      "└ @ RiskSensitiveSAC /home/kh-ryu/DRC_Project/DRC_Trajectron/src/rs_sac_controller.jl:733\n",
      "┌ Warning: Time 5.60 [sec]: This evaluation iteration took 1.161 [sec], which exceeds dtc.\n",
      "└ @ RiskSensitiveSAC /home/kh-ryu/DRC_Project/DRC_Trajectron/src/evaluation.jl:291\n"
     ]
    },
    {
     "name": "stderr",
     "output_type": "stream",
     "text": [
      "┌ Warning: Time 5.70 [sec]: SAC computation took 1.018 [sec], which exceeds the maximum computation time allowed.\n",
      "└ @ RiskSensitiveSAC /home/kh-ryu/DRC_Project/DRC_Trajectron/src/rs_sac_controller.jl:733\n",
      "┌ Warning: Time 5.70 [sec]: This evaluation iteration took 1.019 [sec], which exceeds dtc.\n",
      "└ @ RiskSensitiveSAC /home/kh-ryu/DRC_Project/DRC_Trajectron/src/evaluation.jl:291\n"
     ]
    },
    {
     "name": "stderr",
     "output_type": "stream",
     "text": [
      "┌ Warning: Time 5.80 [sec]: SAC computation took 1.042 [sec], which exceeds the maximum computation time allowed.\n",
      "└ @ RiskSensitiveSAC /home/kh-ryu/DRC_Project/DRC_Trajectron/src/rs_sac_controller.jl:733\n",
      "┌ Warning: Time 5.80 [sec]: This evaluation iteration took 1.042 [sec], which exceeds dtc.\n",
      "└ @ RiskSensitiveSAC /home/kh-ryu/DRC_Project/DRC_Trajectron/src/evaluation.jl:291\n"
     ]
    },
    {
     "name": "stderr",
     "output_type": "stream",
     "text": [
      "┌ Warning: Time 5.90 [sec]: SAC computation took 1.095 [sec], which exceeds the maximum computation time allowed.\n",
      "└ @ RiskSensitiveSAC /home/kh-ryu/DRC_Project/DRC_Trajectron/src/rs_sac_controller.jl:733\n",
      "┌ Warning: Time 5.90 [sec]: This evaluation iteration took 1.095 [sec], which exceeds dtc.\n",
      "└ @ RiskSensitiveSAC /home/kh-ryu/DRC_Project/DRC_Trajectron/src/evaluation.jl:291\n"
     ]
    },
    {
     "name": "stderr",
     "output_type": "stream",
     "text": [
      "┌ Warning: Time 6.00 [sec]: SAC computation took 1.029 [sec], which exceeds the maximum computation time allowed.\n",
      "└ @ RiskSensitiveSAC /home/kh-ryu/DRC_Project/DRC_Trajectron/src/rs_sac_controller.jl:733\n",
      "┌ Warning: Time 6.00 [sec]: This evaluation iteration took 1.137 [sec], which exceeds dtc.\n",
      "└ @ RiskSensitiveSAC /home/kh-ryu/DRC_Project/DRC_Trajectron/src/evaluation.jl:291\n"
     ]
    },
    {
     "name": "stderr",
     "output_type": "stream",
     "text": [
      "┌ Warning: Time 6.10 [sec]: SAC computation took 1.036 [sec], which exceeds the maximum computation time allowed.\n",
      "└ @ RiskSensitiveSAC /home/kh-ryu/DRC_Project/DRC_Trajectron/src/rs_sac_controller.jl:733\n",
      "┌ Warning: Time 6.10 [sec]: This evaluation iteration took 1.037 [sec], which exceeds dtc.\n",
      "└ @ RiskSensitiveSAC /home/kh-ryu/DRC_Project/DRC_Trajectron/src/evaluation.jl:291\n"
     ]
    },
    {
     "name": "stderr",
     "output_type": "stream",
     "text": [
      "┌ Warning: Time 6.20 [sec]: SAC computation took 1.121 [sec], which exceeds the maximum computation time allowed.\n",
      "└ @ RiskSensitiveSAC /home/kh-ryu/DRC_Project/DRC_Trajectron/src/rs_sac_controller.jl:733\n",
      "┌ Warning: Time 6.20 [sec]: This evaluation iteration took 1.122 [sec], which exceeds dtc.\n",
      "└ @ RiskSensitiveSAC /home/kh-ryu/DRC_Project/DRC_Trajectron/src/evaluation.jl:291\n"
     ]
    },
    {
     "name": "stderr",
     "output_type": "stream",
     "text": [
      "┌ Warning: Time 6.30 [sec]: SAC computation took 1.108 [sec], which exceeds the maximum computation time allowed.\n",
      "└ @ RiskSensitiveSAC /home/kh-ryu/DRC_Project/DRC_Trajectron/src/rs_sac_controller.jl:733\n",
      "┌ Warning: Time 6.30 [sec]: This evaluation iteration took 1.108 [sec], which exceeds dtc.\n",
      "└ @ RiskSensitiveSAC /home/kh-ryu/DRC_Project/DRC_Trajectron/src/evaluation.jl:291\n"
     ]
    },
    {
     "name": "stderr",
     "output_type": "stream",
     "text": [
      "┌ Warning: Time 6.40 [sec]: SAC computation took 0.882 [sec], which exceeds the maximum computation time allowed.\n",
      "└ @ RiskSensitiveSAC /home/kh-ryu/DRC_Project/DRC_Trajectron/src/rs_sac_controller.jl:733\n",
      "┌ Warning: Time 6.40 [sec]: This evaluation iteration took 1.014 [sec], which exceeds dtc.\n",
      "└ @ RiskSensitiveSAC /home/kh-ryu/DRC_Project/DRC_Trajectron/src/evaluation.jl:291\n"
     ]
    },
    {
     "name": "stderr",
     "output_type": "stream",
     "text": [
      "┌ Warning: Time 6.50 [sec]: SAC computation took 0.888 [sec], which exceeds the maximum computation time allowed.\n",
      "└ @ RiskSensitiveSAC /home/kh-ryu/DRC_Project/DRC_Trajectron/src/rs_sac_controller.jl:733\n",
      "┌ Warning: Time 6.50 [sec]: This evaluation iteration took 0.889 [sec], which exceeds dtc.\n",
      "└ @ RiskSensitiveSAC /home/kh-ryu/DRC_Project/DRC_Trajectron/src/evaluation.jl:291\n"
     ]
    },
    {
     "name": "stderr",
     "output_type": "stream",
     "text": [
      "┌ Warning: Time 6.60 [sec]: SAC computation took 0.859 [sec], which exceeds the maximum computation time allowed.\n",
      "└ @ RiskSensitiveSAC /home/kh-ryu/DRC_Project/DRC_Trajectron/src/rs_sac_controller.jl:733\n",
      "┌ Warning: Time 6.60 [sec]: This evaluation iteration took 0.859 [sec], which exceeds dtc.\n",
      "└ @ RiskSensitiveSAC /home/kh-ryu/DRC_Project/DRC_Trajectron/src/evaluation.jl:291\n"
     ]
    },
    {
     "name": "stderr",
     "output_type": "stream",
     "text": [
      "┌ Warning: Time 6.70 [sec]: SAC computation took 0.836 [sec], which exceeds the maximum computation time allowed.\n",
      "└ @ RiskSensitiveSAC /home/kh-ryu/DRC_Project/DRC_Trajectron/src/rs_sac_controller.jl:733\n",
      "┌ Warning: Time 6.70 [sec]: This evaluation iteration took 0.836 [sec], which exceeds dtc.\n",
      "└ @ RiskSensitiveSAC /home/kh-ryu/DRC_Project/DRC_Trajectron/src/evaluation.jl:291\n"
     ]
    },
    {
     "name": "stderr",
     "output_type": "stream",
     "text": [
      "┌ Warning: Time 6.80 [sec]: SAC computation took 0.868 [sec], which exceeds the maximum computation time allowed.\n",
      "└ @ RiskSensitiveSAC /home/kh-ryu/DRC_Project/DRC_Trajectron/src/rs_sac_controller.jl:733\n",
      "┌ Warning: Time 6.80 [sec]: This evaluation iteration took 0.96 [sec], which exceeds dtc.\n",
      "└ @ RiskSensitiveSAC /home/kh-ryu/DRC_Project/DRC_Trajectron/src/evaluation.jl:291\n"
     ]
    },
    {
     "name": "stderr",
     "output_type": "stream",
     "text": [
      "┌ Warning: Time 6.90 [sec]: SAC computation took 0.836 [sec], which exceeds the maximum computation time allowed.\n",
      "└ @ RiskSensitiveSAC /home/kh-ryu/DRC_Project/DRC_Trajectron/src/rs_sac_controller.jl:733\n",
      "┌ Warning: Time 6.90 [sec]: This evaluation iteration took 0.837 [sec], which exceeds dtc.\n",
      "└ @ RiskSensitiveSAC /home/kh-ryu/DRC_Project/DRC_Trajectron/src/evaluation.jl:291\n"
     ]
    },
    {
     "name": "stderr",
     "output_type": "stream",
     "text": [
      "┌ Warning: Time 7.00 [sec]: SAC computation took 0.84 [sec], which exceeds the maximum computation time allowed.\n",
      "└ @ RiskSensitiveSAC /home/kh-ryu/DRC_Project/DRC_Trajectron/src/rs_sac_controller.jl:733\n",
      "┌ Warning: Time 7.00 [sec]: This evaluation iteration took 0.84 [sec], which exceeds dtc.\n",
      "└ @ RiskSensitiveSAC /home/kh-ryu/DRC_Project/DRC_Trajectron/src/evaluation.jl:291\n"
     ]
    },
    {
     "name": "stderr",
     "output_type": "stream",
     "text": [
      "┌ Warning: Time 7.10 [sec]: SAC computation took 0.88 [sec], which exceeds the maximum computation time allowed.\n",
      "└ @ RiskSensitiveSAC /home/kh-ryu/DRC_Project/DRC_Trajectron/src/rs_sac_controller.jl:733\n",
      "┌ Warning: Time 7.10 [sec]: This evaluation iteration took 0.88 [sec], which exceeds dtc.\n",
      "└ @ RiskSensitiveSAC /home/kh-ryu/DRC_Project/DRC_Trajectron/src/evaluation.jl:291\n"
     ]
    },
    {
     "name": "stderr",
     "output_type": "stream",
     "text": [
      "┌ Warning: Time 7.20 [sec]: SAC computation took 0.833 [sec], which exceeds the maximum computation time allowed.\n",
      "└ @ RiskSensitiveSAC /home/kh-ryu/DRC_Project/DRC_Trajectron/src/rs_sac_controller.jl:733\n",
      "┌ Warning: Time 7.20 [sec]: This evaluation iteration took 0.916 [sec], which exceeds dtc.\n",
      "└ @ RiskSensitiveSAC /home/kh-ryu/DRC_Project/DRC_Trajectron/src/evaluation.jl:291\n"
     ]
    },
    {
     "name": "stderr",
     "output_type": "stream",
     "text": [
      "┌ Warning: Time 7.30 [sec]: SAC computation took 0.841 [sec], which exceeds the maximum computation time allowed.\n",
      "└ @ RiskSensitiveSAC /home/kh-ryu/DRC_Project/DRC_Trajectron/src/rs_sac_controller.jl:733\n",
      "┌ Warning: Time 7.30 [sec]: This evaluation iteration took 0.841 [sec], which exceeds dtc.\n",
      "└ @ RiskSensitiveSAC /home/kh-ryu/DRC_Project/DRC_Trajectron/src/evaluation.jl:291\n"
     ]
    },
    {
     "name": "stderr",
     "output_type": "stream",
     "text": [
      "┌ Warning: Time 7.40 [sec]: SAC computation took 0.884 [sec], which exceeds the maximum computation time allowed.\n",
      "└ @ RiskSensitiveSAC /home/kh-ryu/DRC_Project/DRC_Trajectron/src/rs_sac_controller.jl:733\n",
      "┌ Warning: Time 7.40 [sec]: This evaluation iteration took 0.885 [sec], which exceeds dtc.\n",
      "└ @ RiskSensitiveSAC /home/kh-ryu/DRC_Project/DRC_Trajectron/src/evaluation.jl:291\n"
     ]
    },
    {
     "name": "stderr",
     "output_type": "stream",
     "text": [
      "┌ Warning: Time 7.50 [sec]: SAC computation took 0.829 [sec], which exceeds the maximum computation time allowed.\n",
      "└ @ RiskSensitiveSAC /home/kh-ryu/DRC_Project/DRC_Trajectron/src/rs_sac_controller.jl:733\n",
      "┌ Warning: Time 7.50 [sec]: This evaluation iteration took 0.83 [sec], which exceeds dtc.\n",
      "└ @ RiskSensitiveSAC /home/kh-ryu/DRC_Project/DRC_Trajectron/src/evaluation.jl:291\n"
     ]
    },
    {
     "name": "stderr",
     "output_type": "stream",
     "text": [
      "┌ Warning: Time 7.60 [sec]: SAC computation took 0.855 [sec], which exceeds the maximum computation time allowed.\n",
      "└ @ RiskSensitiveSAC /home/kh-ryu/DRC_Project/DRC_Trajectron/src/rs_sac_controller.jl:733\n",
      "┌ Warning: Time 7.60 [sec]: This evaluation iteration took 0.943 [sec], which exceeds dtc.\n",
      "└ @ RiskSensitiveSAC /home/kh-ryu/DRC_Project/DRC_Trajectron/src/evaluation.jl:291\n"
     ]
    },
    {
     "name": "stderr",
     "output_type": "stream",
     "text": [
      "┌ Warning: Time 7.70 [sec]: SAC computation took 0.866 [sec], which exceeds the maximum computation time allowed.\n",
      "└ @ RiskSensitiveSAC /home/kh-ryu/DRC_Project/DRC_Trajectron/src/rs_sac_controller.jl:733\n",
      "┌ Warning: Time 7.70 [sec]: This evaluation iteration took 0.867 [sec], which exceeds dtc.\n",
      "└ @ RiskSensitiveSAC /home/kh-ryu/DRC_Project/DRC_Trajectron/src/evaluation.jl:291\n"
     ]
    },
    {
     "name": "stderr",
     "output_type": "stream",
     "text": [
      "┌ Warning: Time 7.80 [sec]: SAC computation took 0.888 [sec], which exceeds the maximum computation time allowed.\n",
      "└ @ RiskSensitiveSAC /home/kh-ryu/DRC_Project/DRC_Trajectron/src/rs_sac_controller.jl:733\n",
      "┌ Warning: Time 7.80 [sec]: This evaluation iteration took 0.889 [sec], which exceeds dtc.\n",
      "└ @ RiskSensitiveSAC /home/kh-ryu/DRC_Project/DRC_Trajectron/src/evaluation.jl:291\n"
     ]
    },
    {
     "name": "stderr",
     "output_type": "stream",
     "text": [
      "┌ Warning: Time 7.90 [sec]: SAC computation took 0.827 [sec], which exceeds the maximum computation time allowed.\n",
      "└ @ RiskSensitiveSAC /home/kh-ryu/DRC_Project/DRC_Trajectron/src/rs_sac_controller.jl:733\n",
      "┌ Warning: Time 7.90 [sec]: This evaluation iteration took 0.828 [sec], which exceeds dtc.\n",
      "└ @ RiskSensitiveSAC /home/kh-ryu/DRC_Project/DRC_Trajectron/src/evaluation.jl:291\n"
     ]
    },
    {
     "name": "stderr",
     "output_type": "stream",
     "text": [
      "┌ Warning: Time 8.00 [sec]: SAC computation took 0.737 [sec], which exceeds the maximum computation time allowed.\n",
      "└ @ RiskSensitiveSAC /home/kh-ryu/DRC_Project/DRC_Trajectron/src/rs_sac_controller.jl:733\n",
      "┌ Warning: Time 8.00 [sec]: This evaluation iteration took 0.808 [sec], which exceeds dtc.\n",
      "└ @ RiskSensitiveSAC /home/kh-ryu/DRC_Project/DRC_Trajectron/src/evaluation.jl:291\n"
     ]
    },
    {
     "name": "stderr",
     "output_type": "stream",
     "text": [
      "┌ Warning: Time 8.10 [sec]: SAC computation took 0.783 [sec], which exceeds the maximum computation time allowed.\n",
      "└ @ RiskSensitiveSAC /home/kh-ryu/DRC_Project/DRC_Trajectron/src/rs_sac_controller.jl:733\n",
      "┌ Warning: Time 8.10 [sec]: This evaluation iteration took 0.784 [sec], which exceeds dtc.\n",
      "└ @ RiskSensitiveSAC /home/kh-ryu/DRC_Project/DRC_Trajectron/src/evaluation.jl:291\n"
     ]
    },
    {
     "name": "stderr",
     "output_type": "stream",
     "text": [
      "┌ Warning: Time 8.20 [sec]: SAC computation took 0.849 [sec], which exceeds the maximum computation time allowed.\n",
      "└ @ RiskSensitiveSAC /home/kh-ryu/DRC_Project/DRC_Trajectron/src/rs_sac_controller.jl:733\n",
      "┌ Warning: Time 8.20 [sec]: This evaluation iteration took 0.85 [sec], which exceeds dtc.\n",
      "└ @ RiskSensitiveSAC /home/kh-ryu/DRC_Project/DRC_Trajectron/src/evaluation.jl:291\n"
     ]
    },
    {
     "name": "stderr",
     "output_type": "stream",
     "text": [
      "┌ Warning: Time 8.30 [sec]: SAC computation took 0.809 [sec], which exceeds the maximum computation time allowed.\n",
      "└ @ RiskSensitiveSAC /home/kh-ryu/DRC_Project/DRC_Trajectron/src/rs_sac_controller.jl:733\n",
      "┌ Warning: Time 8.30 [sec]: This evaluation iteration took 0.809 [sec], which exceeds dtc.\n",
      "└ @ RiskSensitiveSAC /home/kh-ryu/DRC_Project/DRC_Trajectron/src/evaluation.jl:291\n"
     ]
    },
    {
     "name": "stderr",
     "output_type": "stream",
     "text": [
      "┌ Warning: Time 8.40 [sec]: SAC computation took 0.849 [sec], which exceeds the maximum computation time allowed.\n",
      "└ @ RiskSensitiveSAC /home/kh-ryu/DRC_Project/DRC_Trajectron/src/rs_sac_controller.jl:733\n",
      "┌ Warning: Time 8.40 [sec]: This evaluation iteration took 0.929 [sec], which exceeds dtc.\n",
      "└ @ RiskSensitiveSAC /home/kh-ryu/DRC_Project/DRC_Trajectron/src/evaluation.jl:291\n"
     ]
    },
    {
     "name": "stderr",
     "output_type": "stream",
     "text": [
      "┌ Warning: Time 8.50 [sec]: SAC computation took 0.92 [sec], which exceeds the maximum computation time allowed.\n",
      "└ @ RiskSensitiveSAC /home/kh-ryu/DRC_Project/DRC_Trajectron/src/rs_sac_controller.jl:733\n",
      "┌ Warning: Time 8.50 [sec]: This evaluation iteration took 0.92 [sec], which exceeds dtc.\n",
      "└ @ RiskSensitiveSAC /home/kh-ryu/DRC_Project/DRC_Trajectron/src/evaluation.jl:291\n"
     ]
    },
    {
     "name": "stderr",
     "output_type": "stream",
     "text": [
      "┌ Warning: Time 8.60 [sec]: SAC computation took 0.827 [sec], which exceeds the maximum computation time allowed.\n",
      "└ @ RiskSensitiveSAC /home/kh-ryu/DRC_Project/DRC_Trajectron/src/rs_sac_controller.jl:733\n",
      "┌ Warning: Time 8.60 [sec]: This evaluation iteration took 0.827 [sec], which exceeds dtc.\n",
      "└ @ RiskSensitiveSAC /home/kh-ryu/DRC_Project/DRC_Trajectron/src/evaluation.jl:291\n"
     ]
    },
    {
     "name": "stderr",
     "output_type": "stream",
     "text": [
      "Excessive output truncated after 524426 bytes."
     ]
    }
   ],
   "source": [
    "result, ~, ~ = evaluate(scene_loader, controller, w_init, ego_pos_goal_vec,\n",
    "                  target_speed, measurement_schedule, target_trajectory,\n",
    "                  pos_error_replan, nominal_control=false);"
   ]
  },
  {
   "cell_type": "code",
   "execution_count": null,
   "metadata": {},
   "outputs": [],
   "source": [
    "display_log(result.log)"
   ]
  },
  {
   "cell_type": "code",
   "execution_count": null,
   "metadata": {},
   "outputs": [],
   "source": [
    "result.total_cnt_cost"
   ]
  },
  {
   "cell_type": "code",
   "execution_count": 52,
   "metadata": {},
   "outputs": [
    {
     "data": {
      "text/plain": [
       "79.31018670383257"
      ]
     },
     "metadata": {},
     "output_type": "display_data"
    }
   ],
   "source": [
    "result.total_pos_cost"
   ]
  },
  {
   "cell_type": "code",
   "execution_count": null,
   "metadata": {},
   "outputs": [],
   "source": [
    "result.total_col_cost"
   ]
  },
  {
   "cell_type": "code",
   "execution_count": null,
   "metadata": {},
   "outputs": [],
   "source": [
    "result.total_cnt_cost + result.total_pos_cost + result.total_col_cost"
   ]
  },
  {
   "cell_type": "code",
   "execution_count": 53,
   "metadata": {},
   "outputs": [
    {
     "data": {
      "text/plain": [
       "1.2298992527930555"
      ]
     },
     "metadata": {},
     "output_type": "display_data"
    }
   ],
   "source": [
    "minimum([minimum(vcat([norm(get_position(w.e_state) - ap) for ap in values(w.ap_dict)], Inf))\n",
    "                          for w in result.w_history])"
   ]
  },
  {
   "cell_type": "code",
   "execution_count": null,
   "metadata": {},
   "outputs": [],
   "source": [
    "make_gif(result, dtplot=0.1, fps=5,xlim=(-3. + -5.263534, 13. + -5.314636), \n",
    "         ylim=(0. + -5.263534, 10. + -2.314636), figsize=(600, 400), \n",
    "         legendfontsize=7, legend=:bottomright, markersize=5., filename=\"2_2_data_trajectron_risk_1.0.gif\")"
   ]
  },
  {
   "cell_type": "code",
   "execution_count": null,
   "metadata": {},
   "outputs": [],
   "source": [
    "# save(\"2_2_data_trajectron_risk_1.0.jld2\", \"result\", result)"
   ]
  },
  {
   "attachments": {},
   "cell_type": "markdown",
   "metadata": {},
   "source": [
    "# 3. Deterministic (mode-mode) Prediction"
   ]
  },
  {
   "cell_type": "code",
   "execution_count": null,
   "metadata": {},
   "outputs": [],
   "source": [
    "include(\"$(@__DIR__)/../scripts/default_params/params_data_trajectron.jl\");\n",
    "\n",
    "deterministic = true;\n",
    "num_samples = 1;\n",
    "\n",
    "include(\"$(@__DIR__)/../scripts/parameter_setup.jl\");"
   ]
  },
  {
   "cell_type": "code",
   "execution_count": null,
   "metadata": {},
   "outputs": [],
   "source": [
    "scene_loader, controller, w_init, measurement_schedule, target_trajectory, target_speed =\n",
    "controller_setup(scene_param,\n",
    "                 predictor_param,\n",
    "                 prediction_device=prediction_device,\n",
    "                 cost_param=cost_param,\n",
    "                 cnt_param=cnt_param,\n",
    "                 dtc=dtc,\n",
    "                 ego_pos_init_vec=ego_pos_init_vec,\n",
    "                 ego_pos_goal_vec=ego_pos_goal_vec,\n",
    "                 target_speed=target_speed,\n",
    "                 sim_horizon=sim_horizon,\n",
    "                 verbose=true);"
   ]
  },
  {
   "cell_type": "code",
   "execution_count": null,
   "metadata": {},
   "outputs": [],
   "source": [
    "result, ~, ~ = evaluate(scene_loader, controller, w_init, ego_pos_goal_vec,\n",
    "                  target_speed, measurement_schedule, target_trajectory,\n",
    "                  pos_error_replan, nominal_control=false);"
   ]
  },
  {
   "cell_type": "code",
   "execution_count": null,
   "metadata": {},
   "outputs": [],
   "source": [
    "display_log(result.log)"
   ]
  },
  {
   "cell_type": "code",
   "execution_count": null,
   "metadata": {},
   "outputs": [],
   "source": [
    "result.total_cnt_cost"
   ]
  },
  {
   "cell_type": "code",
   "execution_count": null,
   "metadata": {},
   "outputs": [],
   "source": [
    "result.total_pos_cost"
   ]
  },
  {
   "cell_type": "code",
   "execution_count": null,
   "metadata": {},
   "outputs": [],
   "source": [
    "result.total_col_cost"
   ]
  },
  {
   "cell_type": "code",
   "execution_count": null,
   "metadata": {},
   "outputs": [],
   "source": [
    "result.total_cnt_cost + result.total_pos_cost + result.total_col_cost"
   ]
  },
  {
   "cell_type": "code",
   "execution_count": null,
   "metadata": {},
   "outputs": [],
   "source": [
    "minimum([minimum(vcat([norm(get_position(w.e_state) - ap) for ap in values(w.ap_dict)], Inf))\n",
    "                          for w in result.w_history])"
   ]
  },
  {
   "cell_type": "code",
   "execution_count": null,
   "metadata": {},
   "outputs": [],
   "source": [
    "make_gif(result, dtplot=0.02, fps=50, xlim=(-3. + -5.263534, 13. + -5.314636), \n",
    "         ylim=(0. + -5.263534, 10. + -5.314636), figsize=(600, 400), \n",
    "         legendfontsize=7, legend=:bottomright, markersize=5., filename=\"2_3_data_trajectron_deterministic.gif\")"
   ]
  },
  {
   "cell_type": "code",
   "execution_count": null,
   "metadata": {},
   "outputs": [],
   "source": [
    "save(\"2_3_data_trajectron_deterministic.jld2\", \"result\", result)"
   ]
  },
  {
   "attachments": {},
   "cell_type": "markdown",
   "metadata": {},
   "source": [
    "# 4. Robot-Future-Conditional: PEDESTRIAN/236 Replaced with Ego"
   ]
  },
  {
   "cell_type": "code",
   "execution_count": null,
   "metadata": {},
   "outputs": [],
   "source": [
    "using LinearAlgebra\n",
    "\n",
    "include(\"$(@__DIR__)/../scripts/default_params/params_data_trajectron.jl\");\n",
    "\n",
    "incl_robot_node = true;\n",
    "use_robot_future = true;\n",
    "\n",
    "include(\"$(@__DIR__)/../scripts/parameter_setup.jl\");"
   ]
  },
  {
   "cell_type": "code",
   "execution_count": null,
   "metadata": {},
   "outputs": [],
   "source": [
    "scene_loader, controller, w_init, measurement_schedule, target_trajectory, target_speed =\n",
    "controller_setup(scene_param,\n",
    "                 predictor_param,\n",
    "                 prediction_device=prediction_device,\n",
    "                 cost_param=cost_param,\n",
    "                 cnt_param=cnt_param,\n",
    "                 dtc=dtc,\n",
    "                 sim_horizon=sim_horizon,\n",
    "                 ado_id_to_replace=\"PEDESTRIAN/236\",\n",
    "                 verbose=true);"
   ]
  },
  {
   "cell_type": "code",
   "execution_count": null,
   "metadata": {},
   "outputs": [],
   "source": [
    "result, ~, ~ = evaluate(scene_loader, controller, w_init, maximum(target_trajectory)[2],\n",
    "                  target_speed, measurement_schedule, target_trajectory,\n",
    "                  pos_error_replan, nominal_control=false,\n",
    "                  ado_id_removed=\"PEDESTRIAN/236\");"
   ]
  },
  {
   "cell_type": "code",
   "execution_count": null,
   "metadata": {},
   "outputs": [],
   "source": [
    "result.total_cnt_cost"
   ]
  },
  {
   "cell_type": "code",
   "execution_count": null,
   "metadata": {},
   "outputs": [],
   "source": [
    "result.total_pos_cost"
   ]
  },
  {
   "cell_type": "code",
   "execution_count": null,
   "metadata": {},
   "outputs": [],
   "source": [
    "result.total_col_cost"
   ]
  },
  {
   "cell_type": "code",
   "execution_count": null,
   "metadata": {},
   "outputs": [],
   "source": [
    "result.total_cnt_cost + result.total_pos_cost + result.total_col_cost"
   ]
  },
  {
   "cell_type": "code",
   "execution_count": null,
   "metadata": {},
   "outputs": [],
   "source": [
    "minimum([minimum(vcat([norm(get_position(w.e_state) - ap) for ap in values(w.ap_dict)], Inf))\n",
    "                          for w in result.w_history])"
   ]
  },
  {
   "cell_type": "code",
   "execution_count": null,
   "metadata": {},
   "outputs": [],
   "source": [
    "make_gif(result, dtplot=0.02, fps=50, xlim=(-3. + -5.263534, 13. + -5.314636), \n",
    "         ylim=(0. + -5.263534, 10. + -5.314636), figsize=(600, 400), \n",
    "         legendfontsize=7, legend=:bottomright, markersize=5., filename=\"2_4_data_trajectron_future_conditional.gif\",\n",
    "         show_nominal_trajectory=true)"
   ]
  },
  {
   "cell_type": "code",
   "execution_count": null,
   "metadata": {},
   "outputs": [],
   "source": [
    "save(\"2_4_data_trajectron_future_conditional.jld2\", \"result\", result)"
   ]
  },
  {
   "attachments": {},
   "cell_type": "markdown",
   "metadata": {},
   "source": [
    "# 5. No Robot-Future-Conditional: PEDESTRIAN/236 Replaced with Ego"
   ]
  },
  {
   "cell_type": "code",
   "execution_count": null,
   "metadata": {},
   "outputs": [],
   "source": [
    "include(\"$(@__DIR__)/../scripts/default_params/params_data_trajectron.jl\");\n",
    "\n",
    "\n",
    "include(\"$(@__DIR__)/../scripts/parameter_setup.jl\");"
   ]
  },
  {
   "cell_type": "code",
   "execution_count": null,
   "metadata": {},
   "outputs": [],
   "source": [
    "scene_loader, controller, w_init, measurement_schedule, target_trajectory, target_speed =\n",
    "controller_setup(scene_param,\n",
    "                 predictor_param,\n",
    "                 prediction_device=prediction_device,\n",
    "                 cost_param=cost_param,\n",
    "                 cnt_param=cnt_param,\n",
    "                 dtc=dtc,\n",
    "                 sim_horizon=sim_horizon,\n",
    "                 ado_id_to_replace=\"PEDESTRIAN/236\",\n",
    "                 verbose=true);"
   ]
  },
  {
   "cell_type": "code",
   "execution_count": null,
   "metadata": {},
   "outputs": [],
   "source": [
    "result, ~, ~ = evaluate(scene_loader, controller, w_init, maximum(target_trajectory)[2],\n",
    "                  target_speed, measurement_schedule, target_trajectory,\n",
    "                  pos_error_replan, nominal_control=false,\n",
    "                  ado_id_removed=\"PEDESTRIAN/236\");"
   ]
  },
  {
   "cell_type": "code",
   "execution_count": null,
   "metadata": {},
   "outputs": [],
   "source": [
    "display_log(result.log)"
   ]
  },
  {
   "cell_type": "code",
   "execution_count": null,
   "metadata": {},
   "outputs": [],
   "source": [
    "result.total_cnt_cost"
   ]
  },
  {
   "cell_type": "code",
   "execution_count": null,
   "metadata": {},
   "outputs": [],
   "source": [
    "result.total_pos_cost"
   ]
  },
  {
   "cell_type": "code",
   "execution_count": null,
   "metadata": {},
   "outputs": [],
   "source": [
    "result.total_col_cost"
   ]
  },
  {
   "cell_type": "code",
   "execution_count": null,
   "metadata": {},
   "outputs": [],
   "source": [
    "result.total_cnt_cost + result.total_pos_cost + result.total_col_cost"
   ]
  },
  {
   "cell_type": "code",
   "execution_count": null,
   "metadata": {},
   "outputs": [],
   "source": [
    "minimum([minimum(vcat([norm(get_position(w.e_state) - ap) for ap in values(w.ap_dict)], Inf))\n",
    "                          for w in result.w_history])"
   ]
  },
  {
   "cell_type": "code",
   "execution_count": null,
   "metadata": {},
   "outputs": [],
   "source": [
    "make_gif(result, dtplot=0.02, fps=50,  xlim=(-3. + -5.263534, 13. + -5.314636), \n",
    "         ylim=(0. + -5.263534, 10. + -5.314636), figsize=(600, 400), \n",
    "         legendfontsize=7, legend=:bottomright, markersize=5., filename=\"2_5_data_trajectron_no_future_conditional.gif\")"
   ]
  },
  {
   "cell_type": "code",
   "execution_count": null,
   "metadata": {},
   "outputs": [],
   "source": [
    "save(\"2_5_data_trajectron_future_conditional.jld2\", \"result\", result)"
   ]
  },
  {
   "cell_type": "code",
   "execution_count": null,
   "metadata": {},
   "outputs": [],
   "source": []
  }
 ],
 "metadata": {
  "@webio": {
   "lastCommId": null,
   "lastKernelId": null
  },
  "kernelspec": {
   "display_name": "Julia 1.8.5",
   "language": "julia",
   "name": "julia-1.8"
  },
  "language_info": {
   "file_extension": ".jl",
   "mimetype": "application/julia",
   "name": "julia",
   "version": "1.8.5"
  }
 },
 "nbformat": 4,
 "nbformat_minor": 4
}
