{
 "cells": [
  {
   "cell_type": "code",
   "execution_count": 1,
   "metadata": {},
   "outputs": [
    {
     "name": "stderr",
     "output_type": "stream",
     "text": [
      "\u001b[32m\u001b[1m    Building\u001b[22m\u001b[39m Conda ─→ `~/.julia/scratchspaces/44cfe95a-1eb2-52ea-b672-e2afdf69b78f/8c86e48c0db1564a1d49548d3515ced5d604c408/build.log`\n"
     ]
    },
    {
     "name": "stderr",
     "output_type": "stream",
     "text": [
      "\u001b[32m\u001b[1m    Building\u001b[22m\u001b[39m PyCall → `~/.julia/scratchspaces/44cfe95a-1eb2-52ea-b672-e2afdf69b78f/62f417f6ad727987c755549e9cd88c46578da562/build.log`\n"
     ]
    },
    {
     "name": "stderr",
     "output_type": "stream",
     "text": [
      "┌ Warning: The active manifest file is an older format with no julia version entry. Dependencies may have been resolved with a different julia version.\n",
      "└ @ nothing /home/kang/DRC_Project/DRC_Trajectron/Manifest.toml:0\n"
     ]
    },
    {
     "name": "stderr",
     "output_type": "stream",
     "text": [
      "┌ Info: Number of Julia Thread(s): 1\n",
      "└ @ Main.DistributionallyRobust /home/kang/DRC_Project/DRC_Trajectron/src/DistributionallyRobust.jl:39\n",
      "┌ Info: CUDA Device: NVIDIA GeForce RTX 3070 Laptop GPU\n",
      "└ @ Main.DistributionallyRobust /home/kang/DRC_Project/DRC_Trajectron/src/DistributionallyRobust.jl:40\n"
     ]
    },
    {
     "name": "stderr",
     "output_type": "stream",
     "text": [
      "┌ Info: Python executable used by PyCall: /home/kang/anaconda3/envs/trajectron++/bin/python\n",
      "└ @ Main.DistributionallyRobust /home/kang/DRC_Project/DRC_Trajectron/src/DistributionallyRobust.jl:41\n"
     ]
    }
   ],
   "source": [
    "using Revise\n",
    "using Pkg\n",
    "\n",
    "ENV[\"PYTHON\"] = Sys.which(\"python\")\n",
    "ENV[\"PYCALL_JL_RUNTIME_PYTHON\"] = Sys.which(\"python\")\n",
    "Pkg.build(\"PyCall\")\n",
    "using FileIO\n",
    "using JLD2\n",
    "include(\"../src/DistributionallyRobust.jl\")\n",
    "using .DistributionallyRobust"
   ]
  },
  {
   "cell_type": "code",
   "execution_count": 8,
   "metadata": {},
   "outputs": [
    {
     "name": "stderr",
     "output_type": "stream",
     "text": [
      "\u001b[32m\u001b[1m    Updating\u001b[22m\u001b[39m registry at `~/.julia/registries/General.toml`\n"
     ]
    },
    {
     "name": "stderr",
     "output_type": "stream",
     "text": [
      "\u001b[32m\u001b[1m   Resolving\u001b[22m\u001b[39m package versions...\n"
     ]
    },
    {
     "name": "stderr",
     "output_type": "stream",
     "text": [
      "┌ Warning: The active manifest file at `/home/kang/DRC_Project/DRC_Trajectron/Manifest.toml` has an old format that is being maintained.\n",
      "│ To update to the new format, which is supported by Julia versions ≥ 1.6.2, run `Pkg.upgrade_manifest()` which will upgrade the format without re-resolving.\n",
      "│ To then record the julia version re-resolve with `Pkg.resolve()` and if there are resolve conflicts consider `Pkg.update()`.\n",
      "└ @ Pkg.Types /cache/build/default-amdci4-2/julialang/julia-release-1-dot-8/usr/share/julia/stdlib/v1.8/Pkg/src/manifest.jl:287\n",
      "\u001b[32m\u001b[1m  No Changes\u001b[22m\u001b[39m"
     ]
    },
    {
     "name": "stderr",
     "output_type": "stream",
     "text": [
      " to `~/DRC_Project/DRC_Trajectron/Project.toml`"
     ]
    },
    {
     "name": "stderr",
     "output_type": "stream",
     "text": [
      "\n",
      "\u001b[32m\u001b[1m  No Changes\u001b[22m\u001b[39m to `~/DRC_Project/DRC_Trajectron/Manifest.toml`\n"
     ]
    },
    {
     "name": "stderr",
     "output_type": "stream",
     "text": [
      "\u001b[32m\u001b[1m   Resolving\u001b[22m\u001b[39m package versions...\n"
     ]
    },
    {
     "name": "stderr",
     "output_type": "stream",
     "text": [
      "\u001b[32m\u001b[1m  No Changes\u001b[22m\u001b[39m to `~/DRC_Project/DRC_Trajectron/Project.toml`\n",
      "\u001b[32m\u001b[1m  No Changes\u001b[22m\u001b[39m to `~/DRC_Project/DRC_Trajectron/Manifest.toml`\n"
     ]
    }
   ],
   "source": [
    "Pkg.add(\"CSV\")\n",
    "Pkg.add(\"DataFrames\")\n",
    "\n",
    "using CSV\n",
    "using DataFrames"
   ]
  },
  {
   "cell_type": "markdown",
   "metadata": {},
   "source": [
    "# Experiments"
   ]
  },
  {
   "cell_type": "code",
   "execution_count": 15,
   "metadata": {},
   "outputs": [],
   "source": [
    "include(\"$(@__DIR__)/../scripts/default_params/params_drc_sensitivity_gaussian.jl\");\n",
    "\n",
    "epsilon = 0.1;\n",
    "\n",
    "include(\"$(@__DIR__)/../scripts/parameter_setup_drc.jl\");\n",
    "\n",
    "collision = [];\n",
    "position_cost = [];\n",
    "control_cost = [];\n",
    "minimum_dist_list = [];"
   ]
  },
  {
   "cell_type": "code",
   "execution_count": 16,
   "metadata": {},
   "outputs": [
    {
     "name": "stdout",
     "output_type": "stream",
     "text": [
      "Experiment 1: "
     ]
    },
    {
     "name": "stdout",
     "output_type": "stream",
     "text": [
      "Total Collision: 0, Total Position Cost: 134.52169416139668, Total Control Cost: 1.1389516112413731, Minimum Distance: 1.8084420137306547, Experiment 2: "
     ]
    },
    {
     "name": "stdout",
     "output_type": "stream",
     "text": [
      "Total Collision: 0, Total Position Cost: 185.56217503804012, Total Control Cost: 1.193123677370228, Minimum Distance: 0.730676779082661, Experiment 3: "
     ]
    },
    {
     "name": "stdout",
     "output_type": "stream",
     "text": [
      "Total Collision: 0, Total Position Cost: 157.05934744544487, Total Control Cost: 1.2206900362973037, Minimum Distance: 0.7825070507532831, Experiment 4: "
     ]
    },
    {
     "name": "stdout",
     "output_type": "stream",
     "text": [
      "Total Collision: 0, Total Position Cost: 166.0764172055001, Total Control Cost: 1.25252535767615, Minimum Distance: 0.8542754400716278, Experiment 5: "
     ]
    },
    {
     "name": "stdout",
     "output_type": "stream",
     "text": [
      "Total Collision: 0, Total Position Cost: 151.32656441756012, Total Control Cost: 1.1860507771679811, Minimum Distance: 0.8781726473684488, Experiment 6: "
     ]
    },
    {
     "name": "stdout",
     "output_type": "stream",
     "text": [
      "Total Collision: 0, Total Position Cost: 162.34503284047085, Total Control Cost: 1.0649693216052087, Minimum Distance: 0.8593908675475507, Experiment 7: "
     ]
    },
    {
     "name": "stdout",
     "output_type": "stream",
     "text": [
      "Total Collision: 0, Total Position Cost: 172.83304681528318, Total Control Cost: 1.3810597656202648, Minimum Distance: 0.7571009429610829, Experiment 8: "
     ]
    },
    {
     "name": "stdout",
     "output_type": "stream",
     "text": [
      "Total Collision: 0, Total Position Cost: 163.55862120507265, Total Control Cost: 1.146051234943396, Minimum Distance: 0.804232251591105, Experiment 9: "
     ]
    },
    {
     "name": "stderr",
     "output_type": "stream",
     "text": [
      "┌ Warning: Time 4.40 [sec]: All samples violate CVaR constraints.\n",
      "└ @ Main.DistributionallyRobust /home/kang/DRC_Project/DRC_Trajectron/src/distributionally_robust_controller.jl:377\n"
     ]
    },
    {
     "name": "stdout",
     "output_type": "stream",
     "text": [
      "Total Collision: 0, Total Position Cost: 141.748365733694, Total Control Cost: 0.9845379105244375, Minimum Distance: 1.0607899094251485, Experiment 10: "
     ]
    },
    {
     "name": "stdout",
     "output_type": "stream",
     "text": [
      "Total Collision: 0, Total Position Cost: 185.72208334210677, Total Control Cost: 1.2902633939610229, Minimum Distance: 0.7145228962098251, Experiment 11: "
     ]
    },
    {
     "name": "stdout",
     "output_type": "stream",
     "text": [
      "Total Collision: 0, Total Position Cost: 176.5546985754521, Total Control Cost: 1.2047917499197145, Minimum Distance: 0.801046722909536, Experiment 12: "
     ]
    },
    {
     "name": "stdout",
     "output_type": "stream",
     "text": [
      "Total Collision: 0, Total Position Cost: 163.04093868791486, Total Control Cost: 1.166018358299919, Minimum Distance: 0.7950030258717601, Experiment 13: "
     ]
    },
    {
     "name": "stdout",
     "output_type": "stream",
     "text": [
      "Total Collision: 0, Total Position Cost: 174.16911424859956, Total Control Cost: 1.0676010452731493, Minimum Distance: 0.7291187817504042, Experiment 14: "
     ]
    },
    {
     "name": "stdout",
     "output_type": "stream",
     "text": [
      "Total Collision: 0, Total Position Cost: 162.4777792389545, Total Control Cost: 1.2585080470289252, Minimum Distance: 0.7932825470712598, Experiment 15: "
     ]
    },
    {
     "name": "stdout",
     "output_type": "stream",
     "text": [
      "Total Collision: 0, Total Position Cost: 170.7922941856172, Total Control Cost: 1.1688435857555013, Minimum Distance: 0.776224373896362, Experiment 16: "
     ]
    },
    {
     "name": "stdout",
     "output_type": "stream",
     "text": [
      "Total Collision: 0, Total Position Cost: 174.95662103611605, Total Control Cost: 1.1596510989590305, Minimum Distance: 0.7022759458187647, Experiment 17: "
     ]
    },
    {
     "name": "stdout",
     "output_type": "stream",
     "text": [
      "Total Collision: 0, Total Position Cost: 172.31392430578825, Total Control Cost: 1.2696677530394143, Minimum Distance: 0.8449945567981659, Experiment 18: "
     ]
    },
    {
     "name": "stdout",
     "output_type": "stream",
     "text": [
      "Total Collision: 0, Total Position Cost: 168.7983683496712, Total Control Cost: 1.0781514556338325, Minimum Distance: 0.8662624303016183, Experiment 19: "
     ]
    },
    {
     "name": "stdout",
     "output_type": "stream",
     "text": [
      "Total Collision: 0, Total Position Cost: 164.46622343213474, Total Control Cost: 1.3236980428772553, Minimum Distance: 0.9002748756145901, Experiment 20: "
     ]
    },
    {
     "name": "stdout",
     "output_type": "stream",
     "text": [
      "Total Collision: 0, Total Position Cost: 171.04647228548149, Total Control Cost: 1.1383212539369356, Minimum Distance: 0.711680232251643, Experiment 21: "
     ]
    },
    {
     "name": "stdout",
     "output_type": "stream",
     "text": [
      "Total Collision: 0, Total Position Cost: 196.9242564500057, Total Control Cost: 1.1927292431388208, Minimum Distance: 0.764421322078079, Experiment 22: "
     ]
    },
    {
     "name": "stdout",
     "output_type": "stream",
     "text": [
      "Total Collision: 0, Total Position Cost: 151.53108088070167, Total Control Cost: 1.029288059728638, Minimum Distance: 0.7212365145916464, Experiment 23: "
     ]
    },
    {
     "name": "stdout",
     "output_type": "stream",
     "text": [
      "Total Collision: 0, Total Position Cost: 177.60047244970485, Total Control Cost: 1.25900356259389, Minimum Distance: 0.7766656013791015, Experiment 24: "
     ]
    },
    {
     "name": "stdout",
     "output_type": "stream",
     "text": [
      "Total Collision: 0, Total Position Cost: 126.82756147979846, Total Control Cost: 0.9594456699905815, Minimum Distance: 1.6777575971506355, Experiment 25: "
     ]
    },
    {
     "name": "stdout",
     "output_type": "stream",
     "text": [
      "Total Collision: 0, Total Position Cost: 167.5262601169952, Total Control Cost: 1.2223367648534336, Minimum Distance: 0.7151380219459178, Experiment 26: "
     ]
    },
    {
     "name": "stdout",
     "output_type": "stream",
     "text": [
      "Total Collision: 0, Total Position Cost: 159.34191814355927, Total Control Cost: 1.2160789044997329, Minimum Distance: 0.7195758289839302, Experiment 27: "
     ]
    },
    {
     "name": "stdout",
     "output_type": "stream",
     "text": [
      "Total Collision: 0, Total Position Cost: 173.12155657891148, Total Control Cost: 1.3021021330053304, Minimum Distance: 0.7158117911339452, Experiment 28: "
     ]
    },
    {
     "name": "stdout",
     "output_type": "stream",
     "text": [
      "Total Collision: 0, Total Position Cost: 160.9175873895924, Total Control Cost: 1.0459778756665623, Minimum Distance: 0.6850583072864751, Experiment 29: "
     ]
    },
    {
     "name": "stdout",
     "output_type": "stream",
     "text": [
      "Total Collision: 0, Total Position Cost: 164.24323706580017, Total Control Cost: 1.2406058501942097, Minimum Distance: 0.8796664919084, Experiment 30: "
     ]
    },
    {
     "name": "stdout",
     "output_type": "stream",
     "text": [
      "Total Collision: 0, Total Position Cost: 178.2005193411623, Total Control Cost: 1.236752048770578, Minimum Distance: 0.8031611308134001, Experiment 31: "
     ]
    },
    {
     "name": "stdout",
     "output_type": "stream",
     "text": [
      "Total Collision: 0, Total Position Cost: 180.9771051065255, Total Control Cost: 1.2662669047028516, Minimum Distance: 0.7420351063871596, Experiment 32: "
     ]
    },
    {
     "name": "stderr",
     "output_type": "stream",
     "text": [
      "┌ Warning: Time 4.10 [sec]: All samples violate CVaR constraints.\n",
      "└ @ Main.DistributionallyRobust /home/kang/DRC_Project/DRC_Trajectron/src/distributionally_robust_controller.jl:377\n"
     ]
    },
    {
     "name": "stdout",
     "output_type": "stream",
     "text": [
      "Total Collision: 0, Total Position Cost: 164.51179501998496, Total Control Cost: 1.3131532820658633, Minimum Distance: 0.7866396589127126, Experiment 33: "
     ]
    },
    {
     "name": "stdout",
     "output_type": "stream",
     "text": [
      "Total Collision: 0, Total Position Cost: 180.5489862693499, Total Control Cost: 1.3772231543416733, Minimum Distance: 0.7808880276641735, Experiment 34: "
     ]
    },
    {
     "name": "stdout",
     "output_type": "stream",
     "text": [
      "Total Collision: 0, Total Position Cost: 176.46312392172436, Total Control Cost: 1.121223787351326, Minimum Distance: 0.6896258217057581, Experiment 35: "
     ]
    },
    {
     "name": "stdout",
     "output_type": "stream",
     "text": [
      "Total Collision: 0, Total Position Cost: 155.13116462798686, Total Control Cost: 0.9911462638520512, Minimum Distance: 0.8281476525153167, Experiment 36: "
     ]
    },
    {
     "name": "stdout",
     "output_type": "stream",
     "text": [
      "Total Collision: 0, Total Position Cost: 174.3456602979749, Total Control Cost: 1.2233468500741078, Minimum Distance: 0.7001893113750969, Experiment 37: "
     ]
    },
    {
     "name": "stdout",
     "output_type": "stream",
     "text": [
      "Total Collision: 0, Total Position Cost: 173.2347621500948, Total Control Cost: 1.2999791449166611, Minimum Distance: 0.6702789912426231, Experiment 38: "
     ]
    },
    {
     "name": "stdout",
     "output_type": "stream",
     "text": [
      "Total Collision: 0, Total Position Cost: 167.74885512063776, Total Control Cost: 1.213207001497191, Minimum Distance: 0.8311596495747775, Experiment 39: "
     ]
    },
    {
     "name": "stdout",
     "output_type": "stream",
     "text": [
      "Total Collision: 0, Total Position Cost: 166.8407482378917, Total Control Cost: 1.2891292763991882, Minimum Distance: 0.7718126989504529, Experiment 40: "
     ]
    },
    {
     "name": "stdout",
     "output_type": "stream",
     "text": [
      "Total Collision: 0, Total Position Cost: 159.34679967302282, Total Control Cost: 1.3623049927794557, Minimum Distance: 0.7603298078737094, Experiment 41: "
     ]
    },
    {
     "name": "stdout",
     "output_type": "stream",
     "text": [
      "Total Collision: 0, Total Position Cost: 175.5661476859907, Total Control Cost: 1.2483486868529623, Minimum Distance: 0.8144267871854782, Experiment 42: "
     ]
    },
    {
     "name": "stdout",
     "output_type": "stream",
     "text": [
      "Total Collision: 0, Total Position Cost: 174.71754549369845, Total Control Cost: 1.2179875186222233, Minimum Distance: 0.7226588945085846, Experiment 43: "
     ]
    },
    {
     "name": "stderr",
     "output_type": "stream",
     "text": [
      "┌ Warning: Time 4.50 [sec]: All samples violate CVaR constraints.\n",
      "└ @ Main.DistributionallyRobust /home/kang/DRC_Project/DRC_Trajectron/src/distributionally_robust_controller.jl:377\n"
     ]
    },
    {
     "name": "stderr",
     "output_type": "stream",
     "text": [
      "┌ Warning: Time 4.60 [sec]: All samples violate CVaR constraints.\n",
      "└ @ Main.DistributionallyRobust /home/kang/DRC_Project/DRC_Trajectron/src/distributionally_robust_controller.jl:377\n"
     ]
    },
    {
     "name": "stdout",
     "output_type": "stream",
     "text": [
      "Total Collision: 0, Total Position Cost: 166.73585924779806, Total Control Cost: 1.4388230551942793, Minimum Distance: 0.8613274764624775, Experiment 44: "
     ]
    },
    {
     "name": "stdout",
     "output_type": "stream",
     "text": [
      "Total Collision: 0, Total Position Cost: 170.81051372653843, Total Control Cost: 1.1874371926285827, Minimum Distance: 0.8041614658579903, Experiment 45: "
     ]
    },
    {
     "name": "stdout",
     "output_type": "stream",
     "text": [
      "Total Collision: 0, Total Position Cost: 178.02335608575643, Total Control Cost: 1.26777623551841, Minimum Distance: 0.7894536656017438, Experiment 46: "
     ]
    },
    {
     "name": "stdout",
     "output_type": "stream",
     "text": [
      "Total Collision: 0, Total Position Cost: 185.86556313156177, Total Control Cost: 1.1705786213139413, Minimum Distance: 0.722987572040675, Experiment 47: "
     ]
    },
    {
     "name": "stdout",
     "output_type": "stream",
     "text": [
      "Total Collision: 0, Total Position Cost: 161.1817219489692, Total Control Cost: 1.3131717350921024, Minimum Distance: 0.7704567187339194, Experiment 48: "
     ]
    },
    {
     "name": "stdout",
     "output_type": "stream",
     "text": [
      "Total Collision: 0, Total Position Cost: 158.5456461095651, Total Control Cost: 1.1935529910171776, Minimum Distance: 0.8853846389087036, Experiment 49: "
     ]
    },
    {
     "name": "stdout",
     "output_type": "stream",
     "text": [
      "Total Collision: 0, Total Position Cost: 152.80981459953748, Total Control Cost: 1.15069266355632, Minimum Distance: 0.6602605847683761, Experiment 50: "
     ]
    },
    {
     "name": "stdout",
     "output_type": "stream",
     "text": [
      "Total Collision: 0, Total Position Cost: 175.51367075638325, Total Control Cost: 1.1772074729072892, Minimum Distance: 0.7337819325953963, Experiment 51: "
     ]
    },
    {
     "name": "stdout",
     "output_type": "stream",
     "text": [
      "Total Collision: 0, Total Position Cost: 176.3874487382202, Total Control Cost: 1.3447412756835504, Minimum Distance: 0.7288094452071118, Experiment 52: "
     ]
    },
    {
     "name": "stdout",
     "output_type": "stream",
     "text": [
      "Total Collision: 0, Total Position Cost: 156.68565965639257, Total Control Cost: 1.2389631575507085, Minimum Distance: 0.7286056650673447, Experiment 53: "
     ]
    },
    {
     "name": "stdout",
     "output_type": "stream",
     "text": [
      "Total Collision: 0, Total Position Cost: 158.73408502747353, Total Control Cost: 1.1409429795876807, Minimum Distance: 0.7699393919224835, Experiment 54: "
     ]
    },
    {
     "name": "stdout",
     "output_type": "stream",
     "text": [
      "Total Collision: 0, Total Position Cost: 163.33537122968457, Total Control Cost: 1.242351756925893, Minimum Distance: 0.8733973779679516, Experiment 55: "
     ]
    },
    {
     "name": "stdout",
     "output_type": "stream",
     "text": [
      "Total Collision: 0, Total Position Cost: 162.48284409945373, Total Control Cost: 1.269573450892728, Minimum Distance: 0.7121347928786294, Experiment 56: "
     ]
    },
    {
     "name": "stdout",
     "output_type": "stream",
     "text": [
      "Total Collision: 0, Total Position Cost: 154.0175023862707, Total Control Cost: 1.1276138036671817, Minimum Distance: 0.72819740293269, Experiment 57: "
     ]
    },
    {
     "name": "stdout",
     "output_type": "stream",
     "text": [
      "Total Collision: 0, Total Position Cost: 185.11050857219155, Total Control Cost: 1.14517115644626, Minimum Distance: 0.815773614956447, Experiment 58: "
     ]
    },
    {
     "name": "stdout",
     "output_type": "stream",
     "text": [
      "Total Collision: 0, Total Position Cost: 189.23366023722113, Total Control Cost: 1.203981368032426, Minimum Distance: 0.9756395514757054, Experiment 59: "
     ]
    },
    {
     "name": "stdout",
     "output_type": "stream",
     "text": [
      "Total Collision: 0, Total Position Cost: 165.26957626574725, Total Control Cost: 1.1454766957608131, Minimum Distance: 0.7827151967598378, Experiment 60: "
     ]
    },
    {
     "name": "stdout",
     "output_type": "stream",
     "text": [
      "Total Collision: 0, Total Position Cost: 163.91822868976533, Total Control Cost: 1.2015519536415835, Minimum Distance: 0.7915513429799246, Experiment 61: "
     ]
    },
    {
     "name": "stdout",
     "output_type": "stream",
     "text": [
      "Total Collision: 0, Total Position Cost: 175.06847798336653, Total Control Cost: 1.3174863442919003, Minimum Distance: 0.6335493142768684, Experiment 62: "
     ]
    },
    {
     "name": "stdout",
     "output_type": "stream",
     "text": [
      "Total Collision: 0, Total Position Cost: 159.7953255903595, Total Control Cost: 1.3767949552543732, Minimum Distance: 0.6162964570546354, Experiment 63: "
     ]
    },
    {
     "name": "stdout",
     "output_type": "stream",
     "text": [
      "Total Collision: 0, Total Position Cost: 182.29804994246805, Total Control Cost: 1.3460893313284115, Minimum Distance: 0.7231030292026062, Experiment 64: "
     ]
    },
    {
     "name": "stdout",
     "output_type": "stream",
     "text": [
      "Total Collision: 0, Total Position Cost: 182.59398384700637, Total Control Cost: 1.2201549837766559, Minimum Distance: 0.7826790996553755, Experiment 65: "
     ]
    },
    {
     "name": "stdout",
     "output_type": "stream",
     "text": [
      "Total Collision: 0, Total Position Cost: 154.4129576421919, Total Control Cost: 1.1175264678680532, Minimum Distance: 0.6903001261378857, Experiment 66: "
     ]
    },
    {
     "name": "stdout",
     "output_type": "stream",
     "text": [
      "Total Collision: 0, Total Position Cost: 149.63164800175372, Total Control Cost: 1.1611811836711297, Minimum Distance: 0.6653239607580527, Experiment 67: "
     ]
    },
    {
     "name": "stdout",
     "output_type": "stream",
     "text": [
      "Total Collision: 0, Total Position Cost: 168.62519037725394, Total Control Cost: 1.2498645135670676, Minimum Distance: 0.7977608595417206, Experiment 68: "
     ]
    },
    {
     "name": "stdout",
     "output_type": "stream",
     "text": [
      "Total Collision: 0, Total Position Cost: 132.57552883775583, Total Control Cost: 1.1303810268488543, Minimum Distance: 2.63717124777047, Experiment 69: "
     ]
    },
    {
     "name": "stdout",
     "output_type": "stream",
     "text": [
      "Total Collision: 0, Total Position Cost: 147.91143637501966, Total Control Cost: 1.048708882110839, Minimum Distance: 0.7911105364183733, Experiment 70: "
     ]
    },
    {
     "name": "stdout",
     "output_type": "stream",
     "text": [
      "Total Collision: 0, Total Position Cost: 164.6789447912629, Total Control Cost: 1.261856316266745, Minimum Distance: 0.7596469025933537, Experiment 71: "
     ]
    },
    {
     "name": "stdout",
     "output_type": "stream",
     "text": [
      "Total Collision: 0, Total Position Cost: 184.98801000875838, Total Control Cost: 1.3202865811188738, Minimum Distance: 0.7496669276102397, Experiment 72: "
     ]
    },
    {
     "name": "stdout",
     "output_type": "stream",
     "text": [
      "Total Collision: 0, Total Position Cost: 167.3200866299156, Total Control Cost: 1.1892313371184329, Minimum Distance: 0.6491490650109045, Experiment 73: "
     ]
    },
    {
     "name": "stdout",
     "output_type": "stream",
     "text": [
      "Total Collision: 0, Total Position Cost: 170.46886931298346, Total Control Cost: 1.3213909590852428, Minimum Distance: 0.827521626658134, Experiment 74: "
     ]
    },
    {
     "name": "stdout",
     "output_type": "stream",
     "text": [
      "Total Collision: 0, Total Position Cost: 152.11415124451236, Total Control Cost: 1.1202557564524906, Minimum Distance: 0.8264798842354038, Experiment 75: "
     ]
    },
    {
     "name": "stdout",
     "output_type": "stream",
     "text": [
      "Total Collision: 0, Total Position Cost: 171.98312592213827, Total Control Cost: 1.3257256724187936, Minimum Distance: 0.8551516079741857, Experiment 76: "
     ]
    },
    {
     "name": "stdout",
     "output_type": "stream",
     "text": [
      "Total Collision: 0, Total Position Cost: 183.74080592098883, Total Control Cost: 1.294596621516996, Minimum Distance: 0.7649454828778954, Experiment 77: "
     ]
    },
    {
     "name": "stdout",
     "output_type": "stream",
     "text": [
      "Total Collision: 0, Total Position Cost: 170.81749601397715, Total Control Cost: 1.2434265729614495, Minimum Distance: 0.85751493559258, Experiment 78: "
     ]
    },
    {
     "name": "stdout",
     "output_type": "stream",
     "text": [
      "Total Collision: 0, Total Position Cost: 165.27751165675963, Total Control Cost: 1.077337727671567, Minimum Distance: 0.8371531080948319, Experiment 79: "
     ]
    },
    {
     "name": "stdout",
     "output_type": "stream",
     "text": [
      "Total Collision: 0, Total Position Cost: 177.43633704357498, Total Control Cost: 1.2682467237205381, Minimum Distance: 0.7886234657544713, Experiment 80: "
     ]
    },
    {
     "name": "stdout",
     "output_type": "stream",
     "text": [
      "Total Collision: 0, Total Position Cost: 149.63431069764965, Total Control Cost: 1.11053593957502, Minimum Distance: 0.9120004038131014, Experiment 81: "
     ]
    },
    {
     "name": "stdout",
     "output_type": "stream",
     "text": [
      "Total Collision: 0, Total Position Cost: 163.14734395053642, Total Control Cost: 1.2260270944515375, Minimum Distance: 0.8227882935016052, Experiment 82: "
     ]
    },
    {
     "name": "stdout",
     "output_type": "stream",
     "text": [
      "Total Collision: 0, Total Position Cost: 153.5275562460897, Total Control Cost: 1.1472789179077383, Minimum Distance: 0.7752405863695082, Experiment 83: "
     ]
    },
    {
     "name": "stdout",
     "output_type": "stream",
     "text": [
      "Total Collision: 0, Total Position Cost: 145.42527409242314, Total Control Cost: 1.117365870134559, Minimum Distance: 0.8365867835329757, Experiment 84: "
     ]
    },
    {
     "name": "stdout",
     "output_type": "stream",
     "text": [
      "Total Collision: 0, Total Position Cost: 157.8581897835371, Total Control Cost: 1.108907882831574, Minimum Distance: 0.9002992327044862, Experiment 85: "
     ]
    },
    {
     "name": "stdout",
     "output_type": "stream",
     "text": [
      "Total Collision: 0, Total Position Cost: 171.68383096737983, Total Control Cost: 1.2123148854589794, Minimum Distance: 0.815923068933296, Experiment 86: "
     ]
    },
    {
     "name": "stdout",
     "output_type": "stream",
     "text": [
      "Total Collision: 0, Total Position Cost: 142.25093733937774, Total Control Cost: 1.0542690634490361, Minimum Distance: 0.7370505398697121, Experiment 87: "
     ]
    },
    {
     "name": "stdout",
     "output_type": "stream",
     "text": [
      "Total Collision: 0, Total Position Cost: 193.5765271724553, Total Control Cost: 1.064597122852202, Minimum Distance: 0.757029663287013, Experiment 88: "
     ]
    },
    {
     "name": "stdout",
     "output_type": "stream",
     "text": [
      "Total Collision: 0, Total Position Cost: 190.52190126650592, Total Control Cost: 1.216858181100461, Minimum Distance: 0.5602963210365539, Experiment 89: "
     ]
    },
    {
     "name": "stdout",
     "output_type": "stream",
     "text": [
      "Total Collision: 0, Total Position Cost: 172.25042789957604, Total Control Cost: 1.126639363882675, Minimum Distance: 0.7900894089619277, Experiment 90: "
     ]
    },
    {
     "name": "stdout",
     "output_type": "stream",
     "text": [
      "Total Collision: 0, Total Position Cost: 174.3748830458398, Total Control Cost: 1.247106465192812, Minimum Distance: 0.7359046444887747, Experiment 91: "
     ]
    },
    {
     "name": "stderr",
     "output_type": "stream",
     "text": [
      "┌ Warning: Time 4.10 [sec]: All samples violate CVaR constraints.\n",
      "└ @ Main.DistributionallyRobust /home/kang/DRC_Project/DRC_Trajectron/src/distributionally_robust_controller.jl:377\n"
     ]
    },
    {
     "name": "stdout",
     "output_type": "stream",
     "text": [
      "Total Collision: 0, Total Position Cost: 136.00371981070296, Total Control Cost: 1.092047304257719, Minimum Distance: 1.2794096694098667, Experiment 92: "
     ]
    },
    {
     "name": "stdout",
     "output_type": "stream",
     "text": [
      "Total Collision: 0, Total Position Cost: 159.9479178389474, Total Control Cost: 1.1923728421707942, Minimum Distance: 0.717136742812916, Experiment 93: "
     ]
    },
    {
     "name": "stdout",
     "output_type": "stream",
     "text": [
      "Total Collision: 0, Total Position Cost: 162.31733577265587, Total Control Cost: 1.255148099151999, Minimum Distance: 0.7973710595214197, Experiment 94: "
     ]
    },
    {
     "name": "stdout",
     "output_type": "stream",
     "text": [
      "Total Collision: 0, Total Position Cost: 174.06839667278481, Total Control Cost: 1.2871384549062361, Minimum Distance: 0.6464283225474704, Experiment 95: "
     ]
    },
    {
     "name": "stdout",
     "output_type": "stream",
     "text": [
      "Total Collision: 0, Total Position Cost: 166.01254308158, Total Control Cost: 1.2532493712287802, Minimum Distance: 0.8747228999291317, Experiment 96: "
     ]
    },
    {
     "name": "stdout",
     "output_type": "stream",
     "text": [
      "Total Collision: 0, Total Position Cost: 168.7598248220452, Total Control Cost: 1.1092603231830367, Minimum Distance: 0.9562375932258094, Experiment 97: "
     ]
    },
    {
     "name": "stdout",
     "output_type": "stream",
     "text": [
      "Total Collision: 0, Total Position Cost: 169.11508367813713, Total Control Cost: 1.1578416944128336, Minimum Distance: 0.7722422846793146, Experiment 98: "
     ]
    },
    {
     "name": "stdout",
     "output_type": "stream",
     "text": [
      "Total Collision: 0, Total Position Cost: 173.6246861492905, Total Control Cost: 1.2666446648500547, Minimum Distance: 0.815598104089557, Experiment 99: "
     ]
    },
    {
     "name": "stdout",
     "output_type": "stream",
     "text": [
      "Total Collision: 0, Total Position Cost: 166.61411038113917, Total Control Cost: 1.2902130795679314, Minimum Distance: 0.7766240730966748, Experiment 100: "
     ]
    },
    {
     "name": "stdout",
     "output_type": "stream",
     "text": [
      "Total Collision: 0, Total Position Cost: 155.75324853232897, Total Control Cost: 1.2613381459580988, Minimum Distance: 0.5560322247551338, "
     ]
    }
   ],
   "source": [
    "for experiment_iter in 1:100\n",
    "    print(\"Experiment $experiment_iter: \")\n",
    "\n",
    "    scene_loader, controller, w_init, measurement_schedule, target_trajectory, target_speed = \n",
    "    controller_setup(scene_param,\n",
    "                     predictor_param,\n",
    "                     prediction_device=prediction_device,\n",
    "                     cost_param=cost_param,\n",
    "                     cnt_param=cnt_param,\n",
    "                     dtc=dtc,\n",
    "                     dto=dto,\n",
    "                     ado_pos_init_dict=ado_pos_init_dict,\n",
    "                     ado_vel_dict=ado_vel_dict,\n",
    "                     ego_pos_init_vec=ego_pos_init_vec,\n",
    "                     ego_pos_goal_vec=ego_pos_goal_vec,\n",
    "                     target_speed=target_speed,\n",
    "                     sim_horizon=sim_horizon,\n",
    "                     verbose=false);\n",
    "\n",
    "    result, ~, ~ = evaluate(scene_loader, controller, w_init, ego_pos_goal_vec,\n",
    "                    target_speed, measurement_schedule, target_trajectory,\n",
    "                    pos_error_replan);\n",
    "\n",
    "    minimum_dist = minimum([minimum(vcat([norm(get_position(w.e_state) - ap) for ap in values(w.ap_dict)], Inf))\n",
    "                                for w in result.w_history])\n",
    "    \n",
    "    \n",
    "    print(\"Total Collision: $(result.total_col), \")\n",
    "    print(\"Total Position Cost: $(result.total_pos_cost), \")\n",
    "    print(\"Total Control Cost: $(result.total_cnt_cost), \")\n",
    "    print(\"Minimum Distance: $minimum_dist, \")\n",
    "\n",
    "    push!(collision, result.total_col)\n",
    "    push!(position_cost, result.total_pos_cost)\n",
    "    push!(control_cost, result.total_cnt_cost)\n",
    "    push!(minimum_dist_list, minimum_dist)\n",
    "\n",
    "    # make_gif(result, dtplot=0.1, fps=5, xlim=(-6., 6.), ylim=(-6., 6.), figsize=(600, 400), \n",
    "    #             legendfontsize=7, legend=:topright, markersize=5., filename=\"rssac_data_trajectron_$(experiment_iter).gif\",\n",
    "    #             show_nominal_trajectory=false)\n",
    "\n",
    "\n",
    "    if experiment_iter % 50 == 0\n",
    "        CSV.write(\"trajectron_drc_$(experiment_iter).csv\", DataFrame(collision=collision, position_cost=position_cost, control_cost=control_cost, minimum_dist=minimum_dist_list))\n",
    "    end\n",
    "end"
   ]
  },
  {
   "cell_type": "code",
   "execution_count": 17,
   "metadata": {},
   "outputs": [],
   "source": [
    "make_gif(result, dtplot=0.1, fps=50, xlim=(-6., 6.), ylim=(-6., 6.), figsize=(600, 400), \n",
    "         legendfontsize=7, legend=:topright, markersize=5., filename=\"1_synthetic_gaussian.gif\",\n",
    "         show_nominal_trajectory=false)"
   ]
  }
 ],
 "metadata": {
  "@webio": {
   "lastCommId": null,
   "lastKernelId": null
  },
  "kernelspec": {
   "display_name": "Julia 1.8.5",
   "language": "julia",
   "name": "julia-1.8"
  },
  "language_info": {
   "file_extension": ".jl",
   "mimetype": "application/julia",
   "name": "julia",
   "version": "1.8.5"
  }
 },
 "nbformat": 4,
 "nbformat_minor": 4
}
