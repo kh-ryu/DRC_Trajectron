{
 "cells": [
  {
   "cell_type": "code",
   "execution_count": 1,
   "metadata": {},
   "outputs": [
    {
     "name": "stderr",
     "output_type": "stream",
     "text": [
      "\u001b[32m\u001b[1m    Updating\u001b[22m\u001b[39m registry at `~/.julia/registries/General.toml`\n"
     ]
    },
    {
     "name": "stderr",
     "output_type": "stream",
     "text": [
      "\u001b[32m\u001b[1m   Resolving\u001b[22m\u001b[39m package versions...\n"
     ]
    },
    {
     "name": "stderr",
     "output_type": "stream",
     "text": [
      "┌ Warning: The active manifest file at `/home/kang/DRC_Project/DRC_Trajectron/Manifest.toml` has an old format that is being maintained.\n",
      "│ To update to the new format, which is supported by Julia versions ≥ 1.6.2, run `Pkg.upgrade_manifest()` which will upgrade the format without re-resolving.\n",
      "│ To then record the julia version re-resolve with `Pkg.resolve()` and if there are resolve conflicts consider `Pkg.update()`.\n",
      "└ @ Pkg.Types /cache/build/default-amdci4-2/julialang/julia-release-1-dot-8/usr/share/julia/stdlib/v1.8/Pkg/src/manifest.jl:287\n",
      "\u001b[32m\u001b[1m  No Changes\u001b[22m\u001b[39m"
     ]
    },
    {
     "name": "stderr",
     "output_type": "stream",
     "text": [
      " to `~/DRC_Project/DRC_Trajectron/Project.toml`"
     ]
    },
    {
     "name": "stderr",
     "output_type": "stream",
     "text": [
      "\n",
      "\u001b[32m\u001b[1m  No Changes\u001b[22m\u001b[39m to `~/DRC_Project/DRC_Trajectron/Manifest.toml`\n"
     ]
    },
    {
     "name": "stderr",
     "output_type": "stream",
     "text": [
      "┌ Warning: The active manifest file is an older format with no julia version entry. Dependencies may have been resolved with a different julia version.\n",
      "└ @ nothing /home/kang/DRC_Project/DRC_Trajectron/Manifest.toml:0\n"
     ]
    }
   ],
   "source": [
    "using Revise\n",
    "using Pkg\n",
    "\n",
    "Pkg.add(\"GPUArrays\")"
   ]
  },
  {
   "cell_type": "code",
   "execution_count": 2,
   "metadata": {},
   "outputs": [
    {
     "name": "stderr",
     "output_type": "stream",
     "text": [
      "\u001b[32m\u001b[1m    Building\u001b[22m\u001b[39m Conda ─→ `~/.julia/scratchspaces/44cfe95a-1eb2-52ea-b672-e2afdf69b78f/8c86e48c0db1564a1d49548d3515ced5d604c408/build.log`\n"
     ]
    },
    {
     "name": "stderr",
     "output_type": "stream",
     "text": [
      "\u001b[32m\u001b[1m    Building\u001b[22m\u001b[39m PyCall → `~/.julia/scratchspaces/44cfe95a-1eb2-52ea-b672-e2afdf69b78f/62f417f6ad727987c755549e9cd88c46578da562/build.log`\n"
     ]
    },
    {
     "name": "stderr",
     "output_type": "stream",
     "text": [
      "┌ Info: Number of Julia Thread(s): 1\n",
      "└ @ RiskSensitiveSAC /home/kang/DRC_Project/DRC_Trajectron/src/RiskSensitiveSAC.jl:39\n",
      "┌ Info: CUDA Device: NVIDIA GeForce RTX 3070 Laptop GPU\n",
      "└ @ RiskSensitiveSAC /home/kang/DRC_Project/DRC_Trajectron/src/RiskSensitiveSAC.jl:40\n"
     ]
    },
    {
     "name": "stderr",
     "output_type": "stream",
     "text": [
      "┌ Info: Python executable used by PyCall: /home/kang/anaconda3/envs/trajectron++/bin/python\n",
      "└ @ RiskSensitiveSAC /home/kang/DRC_Project/DRC_Trajectron/src/RiskSensitiveSAC.jl:41\n"
     ]
    }
   ],
   "source": [
    "ENV[\"PYTHON\"] = Sys.which(\"python\")\n",
    "ENV[\"PYCALL_JL_RUNTIME_PYTHON\"] = Sys.which(\"python\")\n",
    "Pkg.build(\"PyCall\")\n",
    "using FileIO\n",
    "using JLD2\n",
    "using RiskSensitiveSAC"
   ]
  },
  {
   "cell_type": "code",
   "execution_count": 3,
   "metadata": {},
   "outputs": [
    {
     "name": "stderr",
     "output_type": "stream",
     "text": [
      "\u001b[32m\u001b[1m   Resolving\u001b[22m\u001b[39m package versions...\n"
     ]
    },
    {
     "name": "stderr",
     "output_type": "stream",
     "text": [
      "\u001b[32m\u001b[1m  No Changes\u001b[22m\u001b[39m to `~/DRC_Project/DRC_Trajectron/Project.toml`\n",
      "\u001b[32m\u001b[1m  No Changes\u001b[22m\u001b[39m to `~/DRC_Project/DRC_Trajectron/Manifest.toml`\n"
     ]
    },
    {
     "name": "stderr",
     "output_type": "stream",
     "text": [
      "\u001b[32m\u001b[1m   Resolving\u001b[22m\u001b[39m package versions...\n"
     ]
    },
    {
     "name": "stderr",
     "output_type": "stream",
     "text": [
      "\u001b[32m\u001b[1m  No Changes\u001b[22m\u001b[39m to `~/DRC_Project/DRC_Trajectron/Project.toml`\n",
      "\u001b[32m\u001b[1m  No Changes\u001b[22m\u001b[39m to `~/DRC_Project/DRC_Trajectron/Manifest.toml`\n"
     ]
    }
   ],
   "source": [
    "Pkg.add(\"CSV\")\n",
    "Pkg.add(\"DataFrames\")\n",
    "\n",
    "using CSV\n",
    "using DataFrames"
   ]
  },
  {
   "cell_type": "code",
   "execution_count": 4,
   "metadata": {},
   "outputs": [],
   "source": [
    "include(\"$(@__DIR__)/../scripts/default_params/params_sensitivity_gaussian.jl\");\n",
    "\n",
    "σ_risk = 1.5;   \n",
    "\n",
    "include(\"$(@__DIR__)/../scripts/parameter_setup.jl\");\n",
    "\n",
    "collision = [];\n",
    "position_cost = [];\n",
    "control_cost = [];\n",
    "minimum_dist_list = [];"
   ]
  },
  {
   "cell_type": "markdown",
   "metadata": {},
   "source": [
    "# Experiments"
   ]
  },
  {
   "cell_type": "code",
   "execution_count": 5,
   "metadata": {},
   "outputs": [
    {
     "name": "stdout",
     "output_type": "stream",
     "text": [
      "Experiment 1: "
     ]
    },
    {
     "name": "stderr",
     "output_type": "stream",
     "text": [
      "┌ Warning: Time 0.00 [sec]: SAC computation took 49.42 [sec], which exceeds the maximum computation time allowed.\n",
      "└ @ RiskSensitiveSAC /home/kang/DRC_Project/DRC_Trajectron/src/rs_sac_controller.jl:733\n"
     ]
    },
    {
     "name": "stderr",
     "output_type": "stream",
     "text": [
      "┌ Warning: Time 0.00 [sec]: This evaluation iteration took 0.242 [sec], which exceeds dtc.\n",
      "└ @ RiskSensitiveSAC /home/kang/DRC_Project/DRC_Trajectron/src/evaluation.jl:300\n"
     ]
    },
    {
     "name": "stderr",
     "output_type": "stream",
     "text": [
      "┌ Warning: Time 0.10 [sec]: This evaluation iteration took 0.099 [sec], which exceeds dtc.\n",
      "└ @ RiskSensitiveSAC /home/kang/DRC_Project/DRC_Trajectron/src/evaluation.jl:300\n"
     ]
    },
    {
     "name": "stderr",
     "output_type": "stream",
     "text": [
      "┌ Warning: Time 0.20 [sec]: SAC computation took 0.101 [sec], which exceeds the maximum computation time allowed.\n",
      "└ @ RiskSensitiveSAC /home/kang/DRC_Project/DRC_Trajectron/src/rs_sac_controller.jl:733\n",
      "┌ Warning: Time 0.20 [sec]: This evaluation iteration took 0.101 [sec], which exceeds dtc.\n",
      "└ @ RiskSensitiveSAC /home/kang/DRC_Project/DRC_Trajectron/src/evaluation.jl:300\n"
     ]
    },
    {
     "name": "stderr",
     "output_type": "stream",
     "text": [
      "┌ Warning: Time 0.30 [sec]: SAC computation took 0.103 [sec], which exceeds the maximum computation time allowed.\n",
      "└ @ RiskSensitiveSAC /home/kang/DRC_Project/DRC_Trajectron/src/rs_sac_controller.jl:733\n",
      "┌ Warning: Time 0.30 [sec]: This evaluation iteration took 0.104 [sec], which exceeds dtc.\n",
      "└ @ RiskSensitiveSAC /home/kang/DRC_Project/DRC_Trajectron/src/evaluation.jl:300\n"
     ]
    },
    {
     "name": "stderr",
     "output_type": "stream",
     "text": [
      "┌ Warning: Time 0.40 [sec]: This evaluation iteration took 0.326 [sec], which exceeds dtc.\n",
      "└ @ RiskSensitiveSAC /home/kang/DRC_Project/DRC_Trajectron/src/evaluation.jl:300\n"
     ]
    },
    {
     "name": "stderr",
     "output_type": "stream",
     "text": [
      "┌ Warning: Time 0.50 [sec]: SAC computation took 0.104 [sec], which exceeds the maximum computation time allowed.\n",
      "└ @ RiskSensitiveSAC /home/kang/DRC_Project/DRC_Trajectron/src/rs_sac_controller.jl:733\n",
      "┌ Warning: Time 0.50 [sec]: This evaluation iteration took 0.105 [sec], which exceeds dtc.\n",
      "└ @ RiskSensitiveSAC /home/kang/DRC_Project/DRC_Trajectron/src/evaluation.jl:300\n"
     ]
    },
    {
     "name": "stderr",
     "output_type": "stream",
     "text": [
      "┌ Warning: Time 0.60 [sec]: SAC computation took 0.104 [sec], which exceeds the maximum computation time allowed.\n",
      "└ @ RiskSensitiveSAC /home/kang/DRC_Project/DRC_Trajectron/src/rs_sac_controller.jl:733\n",
      "┌ Warning: Time 0.60 [sec]: This evaluation iteration took 0.105 [sec], which exceeds dtc.\n",
      "└ @ RiskSensitiveSAC /home/kang/DRC_Project/DRC_Trajectron/src/evaluation.jl:300\n"
     ]
    },
    {
     "name": "stderr",
     "output_type": "stream",
     "text": [
      "┌ Warning: Time 0.70 [sec]: SAC computation took 0.12 [sec], which exceeds the maximum computation time allowed.\n",
      "└ @ RiskSensitiveSAC /home/kang/DRC_Project/DRC_Trajectron/src/rs_sac_controller.jl:733\n",
      "┌ Warning: Time 0.70 [sec]: This evaluation iteration took 0.121 [sec], which exceeds dtc.\n",
      "└ @ RiskSensitiveSAC /home/kang/DRC_Project/DRC_Trajectron/src/evaluation.jl:300\n"
     ]
    },
    {
     "name": "stderr",
     "output_type": "stream",
     "text": [
      "┌ Warning: Time 0.80 [sec]: SAC computation took 0.111 [sec], which exceeds the maximum computation time allowed.\n",
      "└ @ RiskSensitiveSAC /home/kang/DRC_Project/DRC_Trajectron/src/rs_sac_controller.jl:733\n",
      "┌ Warning: Time 0.80 [sec]: This evaluation iteration took 0.113 [sec], which exceeds dtc.\n",
      "└ @ RiskSensitiveSAC /home/kang/DRC_Project/DRC_Trajectron/src/evaluation.jl:300\n"
     ]
    },
    {
     "name": "stderr",
     "output_type": "stream",
     "text": [
      "┌ Warning: Time 0.90 [sec]: SAC computation took 0.113 [sec], which exceeds the maximum computation time allowed.\n",
      "└ @ RiskSensitiveSAC /home/kang/DRC_Project/DRC_Trajectron/src/rs_sac_controller.jl:733\n",
      "┌ Warning: Time 0.90 [sec]: This evaluation iteration took 0.114 [sec], which exceeds dtc.\n",
      "└ @ RiskSensitiveSAC /home/kang/DRC_Project/DRC_Trajectron/src/evaluation.jl:300\n"
     ]
    },
    {
     "name": "stderr",
     "output_type": "stream",
     "text": [
      "┌ Warning: Time 1.00 [sec]: SAC computation took 0.12 [sec], which exceeds the maximum computation time allowed.\n",
      "└ @ RiskSensitiveSAC /home/kang/DRC_Project/DRC_Trajectron/src/rs_sac_controller.jl:733\n",
      "┌ Warning: Time 1.00 [sec]: This evaluation iteration took 0.121 [sec], which exceeds dtc.\n",
      "└ @ RiskSensitiveSAC /home/kang/DRC_Project/DRC_Trajectron/src/evaluation.jl:300\n"
     ]
    },
    {
     "name": "stderr",
     "output_type": "stream",
     "text": [
      "┌ Warning: Time 1.10 [sec]: SAC computation took 0.118 [sec], which exceeds the maximum computation time allowed.\n",
      "└ @ RiskSensitiveSAC /home/kang/DRC_Project/DRC_Trajectron/src/rs_sac_controller.jl:733\n",
      "┌ Warning: Time 1.10 [sec]: This evaluation iteration took 0.119 [sec], which exceeds dtc.\n",
      "└ @ RiskSensitiveSAC /home/kang/DRC_Project/DRC_Trajectron/src/evaluation.jl:300\n"
     ]
    },
    {
     "name": "stderr",
     "output_type": "stream",
     "text": [
      "┌ Warning: Time 1.20 [sec]: SAC computation took 0.123 [sec], which exceeds the maximum computation time allowed.\n",
      "└ @ RiskSensitiveSAC /home/kang/DRC_Project/DRC_Trajectron/src/rs_sac_controller.jl:733\n",
      "┌ Warning: Time 1.20 [sec]: This evaluation iteration took 0.125 [sec], which exceeds dtc.\n",
      "└ @ RiskSensitiveSAC /home/kang/DRC_Project/DRC_Trajectron/src/evaluation.jl:300\n"
     ]
    },
    {
     "name": "stderr",
     "output_type": "stream",
     "text": [
      "┌ Warning: Time 1.30 [sec]: SAC computation took 0.119 [sec], which exceeds the maximum computation time allowed.\n",
      "└ @ RiskSensitiveSAC /home/kang/DRC_Project/DRC_Trajectron/src/rs_sac_controller.jl:733\n",
      "┌ Warning: Time 1.30 [sec]: This evaluation iteration took 0.119 [sec], which exceeds dtc.\n",
      "└ @ RiskSensitiveSAC /home/kang/DRC_Project/DRC_Trajectron/src/evaluation.jl:300\n"
     ]
    },
    {
     "name": "stderr",
     "output_type": "stream",
     "text": [
      "┌ Warning: Time 1.40 [sec]: SAC computation took 0.102 [sec], which exceeds the maximum computation time allowed.\n",
      "└ @ RiskSensitiveSAC /home/kang/DRC_Project/DRC_Trajectron/src/rs_sac_controller.jl:733\n",
      "┌ Warning: Time 1.40 [sec]: This evaluation iteration took 0.102 [sec], which exceeds dtc.\n",
      "└ @ RiskSensitiveSAC /home/kang/DRC_Project/DRC_Trajectron/src/evaluation.jl:300\n"
     ]
    },
    {
     "name": "stderr",
     "output_type": "stream",
     "text": [
      "┌ Warning: Time 1.50 [sec]: SAC computation took 0.245 [sec], which exceeds the maximum computation time allowed.\n",
      "└ @ RiskSensitiveSAC /home/kang/DRC_Project/DRC_Trajectron/src/rs_sac_controller.jl:733\n",
      "┌ Warning: Time 1.50 [sec]: This evaluation iteration took 0.246 [sec], which exceeds dtc.\n",
      "└ @ RiskSensitiveSAC /home/kang/DRC_Project/DRC_Trajectron/src/evaluation.jl:300\n"
     ]
    },
    {
     "name": "stderr",
     "output_type": "stream",
     "text": [
      "┌ Warning: Time 1.60 [sec]: SAC computation took 0.104 [sec], which exceeds the maximum computation time allowed.\n",
      "└ @ RiskSensitiveSAC /home/kang/DRC_Project/DRC_Trajectron/src/rs_sac_controller.jl:733\n",
      "┌ Warning: Time 1.60 [sec]: This evaluation iteration took 0.105 [sec], which exceeds dtc.\n",
      "└ @ RiskSensitiveSAC /home/kang/DRC_Project/DRC_Trajectron/src/evaluation.jl:300\n"
     ]
    },
    {
     "name": "stderr",
     "output_type": "stream",
     "text": [
      "┌ Warning: Time 1.70 [sec]: This evaluation iteration took 0.1 [sec], which exceeds dtc.\n",
      "└ @ RiskSensitiveSAC /home/kang/DRC_Project/DRC_Trajectron/src/evaluation.jl:300\n"
     ]
    },
    {
     "name": "stderr",
     "output_type": "stream",
     "text": [
      "┌ Warning: Time 1.80 [sec]: SAC computation took 0.105 [sec], which exceeds the maximum computation time allowed.\n",
      "└ @ RiskSensitiveSAC /home/kang/DRC_Project/DRC_Trajectron/src/rs_sac_controller.jl:733\n",
      "┌ Warning: Time 1.80 [sec]: This evaluation iteration took 0.105 [sec], which exceeds dtc.\n",
      "└ @ RiskSensitiveSAC /home/kang/DRC_Project/DRC_Trajectron/src/evaluation.jl:300\n"
     ]
    },
    {
     "name": "stderr",
     "output_type": "stream",
     "text": [
      "┌ Warning: Time 1.90 [sec]: This evaluation iteration took 0.1 [sec], which exceeds dtc.\n",
      "└ @ RiskSensitiveSAC /home/kang/DRC_Project/DRC_Trajectron/src/evaluation.jl:300\n"
     ]
    },
    {
     "name": "stderr",
     "output_type": "stream",
     "text": [
      "┌ Warning: Time 2.00 [sec]: SAC computation took 0.101 [sec], which exceeds the maximum computation time allowed.\n",
      "└ @ RiskSensitiveSAC /home/kang/DRC_Project/DRC_Trajectron/src/rs_sac_controller.jl:733\n",
      "┌ Warning: Time 2.00 [sec]: This evaluation iteration took 0.102 [sec], which exceeds dtc.\n",
      "└ @ RiskSensitiveSAC /home/kang/DRC_Project/DRC_Trajectron/src/evaluation.jl:300\n"
     ]
    },
    {
     "name": "stderr",
     "output_type": "stream",
     "text": [
      "┌ Warning: Time 2.10 [sec]: SAC computation took 0.103 [sec], which exceeds the maximum computation time allowed.\n",
      "└ @ RiskSensitiveSAC /home/kang/DRC_Project/DRC_Trajectron/src/rs_sac_controller.jl:733\n",
      "┌ Warning: Time 2.10 [sec]: This evaluation iteration took 0.103 [sec], which exceeds dtc.\n",
      "└ @ RiskSensitiveSAC /home/kang/DRC_Project/DRC_Trajectron/src/evaluation.jl:300\n"
     ]
    },
    {
     "name": "stderr",
     "output_type": "stream",
     "text": [
      "┌ Warning: Time 2.20 [sec]: SAC computation took 0.119 [sec], which exceeds the maximum computation time allowed.\n",
      "└ @ RiskSensitiveSAC /home/kang/DRC_Project/DRC_Trajectron/src/rs_sac_controller.jl:733\n",
      "┌ Warning: Time 2.20 [sec]: This evaluation iteration took 0.119 [sec], which exceeds dtc.\n",
      "└ @ RiskSensitiveSAC /home/kang/DRC_Project/DRC_Trajectron/src/evaluation.jl:300\n"
     ]
    },
    {
     "name": "stderr",
     "output_type": "stream",
     "text": [
      "┌ Warning: Time 2.30 [sec]: SAC computation took 0.115 [sec], which exceeds the maximum computation time allowed.\n",
      "└ @ RiskSensitiveSAC /home/kang/DRC_Project/DRC_Trajectron/src/rs_sac_controller.jl:733\n",
      "┌ Warning: Time 2.30 [sec]: This evaluation iteration took 0.115 [sec], which exceeds dtc.\n",
      "└ @ RiskSensitiveSAC /home/kang/DRC_Project/DRC_Trajectron/src/evaluation.jl:300\n"
     ]
    },
    {
     "name": "stderr",
     "output_type": "stream",
     "text": [
      "┌ Warning: Time 2.40 [sec]: SAC computation took 0.111 [sec], which exceeds the maximum computation time allowed.\n",
      "└ @ RiskSensitiveSAC /home/kang/DRC_Project/DRC_Trajectron/src/rs_sac_controller.jl:733\n",
      "┌ Warning: Time 2.40 [sec]: This evaluation iteration took 0.112 [sec], which exceeds dtc.\n",
      "└ @ RiskSensitiveSAC /home/kang/DRC_Project/DRC_Trajectron/src/evaluation.jl:300\n"
     ]
    },
    {
     "name": "stderr",
     "output_type": "stream",
     "text": [
      "┌ Warning: Time 2.50 [sec]: SAC computation took 0.107 [sec], which exceeds the maximum computation time allowed.\n",
      "└ @ RiskSensitiveSAC /home/kang/DRC_Project/DRC_Trajectron/src/rs_sac_controller.jl:733\n",
      "┌ Warning: Time 2.50 [sec]: This evaluation iteration took 0.108 [sec], which exceeds dtc.\n",
      "└ @ RiskSensitiveSAC /home/kang/DRC_Project/DRC_Trajectron/src/evaluation.jl:300\n"
     ]
    },
    {
     "name": "stderr",
     "output_type": "stream",
     "text": [
      "┌ Warning: Time 2.60 [sec]: SAC computation took 0.109 [sec], which exceeds the maximum computation time allowed.\n",
      "└ @ RiskSensitiveSAC /home/kang/DRC_Project/DRC_Trajectron/src/rs_sac_controller.jl:733\n",
      "┌ Warning: Time 2.60 [sec]: This evaluation iteration took 0.109 [sec], which exceeds dtc.\n",
      "└ @ RiskSensitiveSAC /home/kang/DRC_Project/DRC_Trajectron/src/evaluation.jl:300\n"
     ]
    },
    {
     "name": "stderr",
     "output_type": "stream",
     "text": [
      "┌ Warning: Time 2.70 [sec]: SAC computation took 0.104 [sec], which exceeds the maximum computation time allowed.\n",
      "└ @ RiskSensitiveSAC /home/kang/DRC_Project/DRC_Trajectron/src/rs_sac_controller.jl:733\n",
      "┌ Warning: Time 2.70 [sec]: This evaluation iteration took 0.104 [sec], which exceeds dtc.\n",
      "└ @ RiskSensitiveSAC /home/kang/DRC_Project/DRC_Trajectron/src/evaluation.jl:300\n"
     ]
    },
    {
     "name": "stderr",
     "output_type": "stream",
     "text": [
      "┌ Warning: Time 2.80 [sec]: SAC computation took 0.118 [sec], which exceeds the maximum computation time allowed.\n",
      "└ @ RiskSensitiveSAC /home/kang/DRC_Project/DRC_Trajectron/src/rs_sac_controller.jl:733\n",
      "┌ Warning: Time 2.80 [sec]: This evaluation iteration took 0.119 [sec], which exceeds dtc.\n",
      "└ @ RiskSensitiveSAC /home/kang/DRC_Project/DRC_Trajectron/src/evaluation.jl:300\n"
     ]
    },
    {
     "name": "stderr",
     "output_type": "stream",
     "text": [
      "┌ Warning: Time 2.90 [sec]: SAC computation took 0.116 [sec], which exceeds the maximum computation time allowed.\n",
      "└ @ RiskSensitiveSAC /home/kang/DRC_Project/DRC_Trajectron/src/rs_sac_controller.jl:733\n",
      "┌ Warning: Time 2.90 [sec]: This evaluation iteration took 0.116 [sec], which exceeds dtc.\n",
      "└ @ RiskSensitiveSAC /home/kang/DRC_Project/DRC_Trajectron/src/evaluation.jl:300\n"
     ]
    },
    {
     "name": "stderr",
     "output_type": "stream",
     "text": [
      "┌ Warning: Time 3.00 [sec]: SAC computation took 0.114 [sec], which exceeds the maximum computation time allowed.\n",
      "└ @ RiskSensitiveSAC /home/kang/DRC_Project/DRC_Trajectron/src/rs_sac_controller.jl:733\n",
      "┌ Warning: Time 3.00 [sec]: This evaluation iteration took 0.115 [sec], which exceeds dtc.\n",
      "└ @ RiskSensitiveSAC /home/kang/DRC_Project/DRC_Trajectron/src/evaluation.jl:300\n"
     ]
    },
    {
     "name": "stderr",
     "output_type": "stream",
     "text": [
      "┌ Warning: Time 3.10 [sec]: SAC computation took 0.106 [sec], which exceeds the maximum computation time allowed.\n",
      "└ @ RiskSensitiveSAC /home/kang/DRC_Project/DRC_Trajectron/src/rs_sac_controller.jl:733\n",
      "┌ Warning: Time 3.10 [sec]: This evaluation iteration took 0.107 [sec], which exceeds dtc.\n",
      "└ @ RiskSensitiveSAC /home/kang/DRC_Project/DRC_Trajectron/src/evaluation.jl:300\n"
     ]
    },
    {
     "name": "stderr",
     "output_type": "stream",
     "text": [
      "┌ Warning: Time 3.20 [sec]: SAC computation took 0.108 [sec], which exceeds the maximum computation time allowed.\n",
      "└ @ RiskSensitiveSAC /home/kang/DRC_Project/DRC_Trajectron/src/rs_sac_controller.jl:733\n",
      "┌ Warning: Time 3.20 [sec]: This evaluation iteration took 0.11 [sec], which exceeds dtc.\n",
      "└ @ RiskSensitiveSAC /home/kang/DRC_Project/DRC_Trajectron/src/evaluation.jl:300\n"
     ]
    },
    {
     "name": "stderr",
     "output_type": "stream",
     "text": [
      "┌ Warning: Time 3.30 [sec]: SAC computation took 0.107 [sec], which exceeds the maximum computation time allowed.\n",
      "└ @ RiskSensitiveSAC /home/kang/DRC_Project/DRC_Trajectron/src/rs_sac_controller.jl:733\n",
      "┌ Warning: Time 3.30 [sec]: This evaluation iteration took 0.108 [sec], which exceeds dtc.\n",
      "└ @ RiskSensitiveSAC /home/kang/DRC_Project/DRC_Trajectron/src/evaluation.jl:300\n"
     ]
    },
    {
     "name": "stderr",
     "output_type": "stream",
     "text": [
      "┌ Warning: Time 3.40 [sec]: SAC computation took 0.187 [sec], which exceeds the maximum computation time allowed.\n",
      "└ @ RiskSensitiveSAC /home/kang/DRC_Project/DRC_Trajectron/src/rs_sac_controller.jl:733\n",
      "┌ Warning: Time 3.40 [sec]: This evaluation iteration took 0.188 [sec], which exceeds dtc.\n",
      "└ @ RiskSensitiveSAC /home/kang/DRC_Project/DRC_Trajectron/src/evaluation.jl:300\n"
     ]
    },
    {
     "name": "stderr",
     "output_type": "stream",
     "text": [
      "┌ Warning: Time 3.50 [sec]: SAC computation took 0.104 [sec], which exceeds the maximum computation time allowed.\n",
      "└ @ RiskSensitiveSAC /home/kang/DRC_Project/DRC_Trajectron/src/rs_sac_controller.jl:733\n",
      "┌ Warning: Time 3.50 [sec]: This evaluation iteration took 0.104 [sec], which exceeds dtc.\n",
      "└ @ RiskSensitiveSAC /home/kang/DRC_Project/DRC_Trajectron/src/evaluation.jl:300\n"
     ]
    },
    {
     "name": "stderr",
     "output_type": "stream",
     "text": [
      "┌ Warning: Time 3.60 [sec]: SAC computation took 0.101 [sec], which exceeds the maximum computation time allowed.\n",
      "└ @ RiskSensitiveSAC /home/kang/DRC_Project/DRC_Trajectron/src/rs_sac_controller.jl:733\n",
      "┌ Warning: Time 3.60 [sec]: This evaluation iteration took 0.102 [sec], which exceeds dtc.\n",
      "└ @ RiskSensitiveSAC /home/kang/DRC_Project/DRC_Trajectron/src/evaluation.jl:300\n"
     ]
    },
    {
     "name": "stderr",
     "output_type": "stream",
     "text": [
      "┌ Warning: Time 3.70 [sec]: SAC computation took 0.109 [sec], which exceeds the maximum computation time allowed.\n",
      "└ @ RiskSensitiveSAC /home/kang/DRC_Project/DRC_Trajectron/src/rs_sac_controller.jl:733\n",
      "┌ Warning: Time 3.70 [sec]: This evaluation iteration took 0.11 [sec], which exceeds dtc.\n",
      "└ @ RiskSensitiveSAC /home/kang/DRC_Project/DRC_Trajectron/src/evaluation.jl:300\n"
     ]
    },
    {
     "name": "stderr",
     "output_type": "stream",
     "text": [
      "┌ Warning: Time 3.80 [sec]: SAC computation took 0.101 [sec], which exceeds the maximum computation time allowed.\n",
      "└ @ RiskSensitiveSAC /home/kang/DRC_Project/DRC_Trajectron/src/rs_sac_controller.jl:733\n",
      "┌ Warning: Time 3.80 [sec]: This evaluation iteration took 0.102 [sec], which exceeds dtc.\n",
      "└ @ RiskSensitiveSAC /home/kang/DRC_Project/DRC_Trajectron/src/evaluation.jl:300\n"
     ]
    },
    {
     "name": "stderr",
     "output_type": "stream",
     "text": [
      "┌ Warning: Time 3.90 [sec]: SAC computation took 0.102 [sec], which exceeds the maximum computation time allowed.\n",
      "└ @ RiskSensitiveSAC /home/kang/DRC_Project/DRC_Trajectron/src/rs_sac_controller.jl:733\n",
      "┌ Warning: Time 3.90 [sec]: This evaluation iteration took 0.103 [sec], which exceeds dtc.\n",
      "└ @ RiskSensitiveSAC /home/kang/DRC_Project/DRC_Trajectron/src/evaluation.jl:300\n"
     ]
    },
    {
     "name": "stderr",
     "output_type": "stream",
     "text": [
      "┌ Warning: Time 4.00 [sec]: SAC computation took 0.115 [sec], which exceeds the maximum computation time allowed.\n",
      "└ @ RiskSensitiveSAC /home/kang/DRC_Project/DRC_Trajectron/src/rs_sac_controller.jl:733\n",
      "┌ Warning: Time 4.00 [sec]: This evaluation iteration took 0.116 [sec], which exceeds dtc.\n",
      "└ @ RiskSensitiveSAC /home/kang/DRC_Project/DRC_Trajectron/src/evaluation.jl:300\n"
     ]
    },
    {
     "name": "stderr",
     "output_type": "stream",
     "text": [
      "┌ Warning: Time 4.10 [sec]: This evaluation iteration took 0.097 [sec], which exceeds dtc.\n",
      "└ @ RiskSensitiveSAC /home/kang/DRC_Project/DRC_Trajectron/src/evaluation.jl:300\n"
     ]
    },
    {
     "name": "stderr",
     "output_type": "stream",
     "text": [
      "┌ Warning: Time 4.20 [sec]: This evaluation iteration took 0.1 [sec], which exceeds dtc.\n",
      "└ @ RiskSensitiveSAC /home/kang/DRC_Project/DRC_Trajectron/src/evaluation.jl:300\n"
     ]
    },
    {
     "name": "stderr",
     "output_type": "stream",
     "text": [
      "┌ Warning: Time 4.30 [sec]: This evaluation iteration took 0.097 [sec], which exceeds dtc.\n",
      "└ @ RiskSensitiveSAC /home/kang/DRC_Project/DRC_Trajectron/src/evaluation.jl:300\n"
     ]
    },
    {
     "name": "stderr",
     "output_type": "stream",
     "text": [
      "┌ Warning: Time 4.40 [sec]: SAC computation took 0.102 [sec], which exceeds the maximum computation time allowed.\n",
      "└ @ RiskSensitiveSAC /home/kang/DRC_Project/DRC_Trajectron/src/rs_sac_controller.jl:733\n",
      "┌ Warning: Time 4.40 [sec]: This evaluation iteration took 0.103 [sec], which exceeds dtc.\n",
      "└ @ RiskSensitiveSAC /home/kang/DRC_Project/DRC_Trajectron/src/evaluation.jl:300\n"
     ]
    },
    {
     "name": "stderr",
     "output_type": "stream",
     "text": [
      "┌ Warning: Time 4.50 [sec]: SAC computation took 0.104 [sec], which exceeds the maximum computation time allowed.\n",
      "└ @ RiskSensitiveSAC /home/kang/DRC_Project/DRC_Trajectron/src/rs_sac_controller.jl:733\n",
      "┌ Warning: Time 4.50 [sec]: This evaluation iteration took 0.105 [sec], which exceeds dtc.\n",
      "└ @ RiskSensitiveSAC /home/kang/DRC_Project/DRC_Trajectron/src/evaluation.jl:300\n"
     ]
    },
    {
     "name": "stderr",
     "output_type": "stream",
     "text": [
      "┌ Warning: Time 4.60 [sec]: SAC computation took 0.104 [sec], which exceeds the maximum computation time allowed.\n",
      "└ @ RiskSensitiveSAC /home/kang/DRC_Project/DRC_Trajectron/src/rs_sac_controller.jl:733\n",
      "┌ Warning: Time 4.60 [sec]: This evaluation iteration took 0.105 [sec], which exceeds dtc.\n",
      "└ @ RiskSensitiveSAC /home/kang/DRC_Project/DRC_Trajectron/src/evaluation.jl:300\n"
     ]
    },
    {
     "name": "stderr",
     "output_type": "stream",
     "text": [
      "┌ Warning: Time 4.70 [sec]: SAC computation took 0.106 [sec], which exceeds the maximum computation time allowed.\n",
      "└ @ RiskSensitiveSAC /home/kang/DRC_Project/DRC_Trajectron/src/rs_sac_controller.jl:733\n",
      "┌ Warning: Time 4.70 [sec]: This evaluation iteration took 0.106 [sec], which exceeds dtc.\n",
      "└ @ RiskSensitiveSAC /home/kang/DRC_Project/DRC_Trajectron/src/evaluation.jl:300\n"
     ]
    },
    {
     "name": "stderr",
     "output_type": "stream",
     "text": [
      "┌ Warning: Time 4.80 [sec]: SAC computation took 0.103 [sec], which exceeds the maximum computation time allowed.\n",
      "└ @ RiskSensitiveSAC /home/kang/DRC_Project/DRC_Trajectron/src/rs_sac_controller.jl:733\n",
      "┌ Warning: Time 4.80 [sec]: This evaluation iteration took 0.104 [sec], which exceeds dtc.\n",
      "└ @ RiskSensitiveSAC /home/kang/DRC_Project/DRC_Trajectron/src/evaluation.jl:300\n"
     ]
    },
    {
     "name": "stderr",
     "output_type": "stream",
     "text": [
      "┌ Warning: Time 4.90 [sec]: SAC computation took 0.117 [sec], which exceeds the maximum computation time allowed.\n",
      "└ @ RiskSensitiveSAC /home/kang/DRC_Project/DRC_Trajectron/src/rs_sac_controller.jl:733\n",
      "┌ Warning: Time 4.90 [sec]: This evaluation iteration took 0.118 [sec], which exceeds dtc.\n",
      "└ @ RiskSensitiveSAC /home/kang/DRC_Project/DRC_Trajectron/src/evaluation.jl:300\n"
     ]
    },
    {
     "name": "stderr",
     "output_type": "stream",
     "text": [
      "┌ Warning: Time 5.00 [sec]: SAC computation took 0.116 [sec], which exceeds the maximum computation time allowed.\n",
      "└ @ RiskSensitiveSAC /home/kang/DRC_Project/DRC_Trajectron/src/rs_sac_controller.jl:733\n",
      "┌ Warning: Time 5.00 [sec]: This evaluation iteration took 0.116 [sec], which exceeds dtc.\n",
      "└ @ RiskSensitiveSAC /home/kang/DRC_Project/DRC_Trajectron/src/evaluation.jl:300\n"
     ]
    },
    {
     "name": "stderr",
     "output_type": "stream",
     "text": [
      "┌ Warning: Time 5.10 [sec]: SAC computation took 0.132 [sec], which exceeds the maximum computation time allowed.\n",
      "└ @ RiskSensitiveSAC /home/kang/DRC_Project/DRC_Trajectron/src/rs_sac_controller.jl:733\n",
      "┌ Warning: Time 5.10 [sec]: This evaluation iteration took 0.133 [sec], which exceeds dtc.\n",
      "└ @ RiskSensitiveSAC /home/kang/DRC_Project/DRC_Trajectron/src/evaluation.jl:300\n"
     ]
    },
    {
     "name": "stderr",
     "output_type": "stream",
     "text": [
      "┌ Warning: Time 5.20 [sec]: SAC computation took 0.124 [sec], which exceeds the maximum computation time allowed.\n",
      "└ @ RiskSensitiveSAC /home/kang/DRC_Project/DRC_Trajectron/src/rs_sac_controller.jl:733\n",
      "┌ Warning: Time 5.20 [sec]: This evaluation iteration took 0.125 [sec], which exceeds dtc.\n",
      "└ @ RiskSensitiveSAC /home/kang/DRC_Project/DRC_Trajectron/src/evaluation.jl:300\n"
     ]
    },
    {
     "name": "stderr",
     "output_type": "stream",
     "text": [
      "┌ Warning: Time 5.30 [sec]: SAC computation took 0.175 [sec], which exceeds the maximum computation time allowed.\n",
      "└ @ RiskSensitiveSAC /home/kang/DRC_Project/DRC_Trajectron/src/rs_sac_controller.jl:733\n",
      "┌ Warning: Time 5.30 [sec]: This evaluation iteration took 0.175 [sec], which exceeds dtc.\n",
      "└ @ RiskSensitiveSAC /home/kang/DRC_Project/DRC_Trajectron/src/evaluation.jl:300\n"
     ]
    },
    {
     "name": "stderr",
     "output_type": "stream",
     "text": [
      "┌ Warning: Time 5.40 [sec]: SAC computation took 0.108 [sec], which exceeds the maximum computation time allowed.\n",
      "└ @ RiskSensitiveSAC /home/kang/DRC_Project/DRC_Trajectron/src/rs_sac_controller.jl:733\n",
      "┌ Warning: Time 5.40 [sec]: This evaluation iteration took 0.109 [sec], which exceeds dtc.\n",
      "└ @ RiskSensitiveSAC /home/kang/DRC_Project/DRC_Trajectron/src/evaluation.jl:300\n"
     ]
    },
    {
     "name": "stderr",
     "output_type": "stream",
     "text": [
      "┌ Warning: Time 5.50 [sec]: SAC computation took 0.106 [sec], which exceeds the maximum computation time allowed.\n",
      "└ @ RiskSensitiveSAC /home/kang/DRC_Project/DRC_Trajectron/src/rs_sac_controller.jl:733\n",
      "┌ Warning: Time 5.50 [sec]: This evaluation iteration took 0.107 [sec], which exceeds dtc.\n",
      "└ @ RiskSensitiveSAC /home/kang/DRC_Project/DRC_Trajectron/src/evaluation.jl:300\n"
     ]
    },
    {
     "name": "stderr",
     "output_type": "stream",
     "text": [
      "┌ Warning: Time 5.60 [sec]: SAC computation took 0.103 [sec], which exceeds the maximum computation time allowed.\n",
      "└ @ RiskSensitiveSAC /home/kang/DRC_Project/DRC_Trajectron/src/rs_sac_controller.jl:733\n",
      "┌ Warning: Time 5.60 [sec]: This evaluation iteration took 0.105 [sec], which exceeds dtc.\n",
      "└ @ RiskSensitiveSAC /home/kang/DRC_Project/DRC_Trajectron/src/evaluation.jl:300\n"
     ]
    },
    {
     "name": "stderr",
     "output_type": "stream",
     "text": [
      "┌ Warning: Time 5.70 [sec]: SAC computation took 0.108 [sec], which exceeds the maximum computation time allowed.\n",
      "└ @ RiskSensitiveSAC /home/kang/DRC_Project/DRC_Trajectron/src/rs_sac_controller.jl:733\n",
      "┌ Warning: Time 5.70 [sec]: This evaluation iteration took 0.109 [sec], which exceeds dtc.\n",
      "└ @ RiskSensitiveSAC /home/kang/DRC_Project/DRC_Trajectron/src/evaluation.jl:300\n"
     ]
    },
    {
     "name": "stderr",
     "output_type": "stream",
     "text": [
      "┌ Warning: Time 5.80 [sec]: SAC computation took 0.102 [sec], which exceeds the maximum computation time allowed.\n",
      "└ @ RiskSensitiveSAC /home/kang/DRC_Project/DRC_Trajectron/src/rs_sac_controller.jl:733\n",
      "┌ Warning: Time 5.80 [sec]: This evaluation iteration took 0.102 [sec], which exceeds dtc.\n",
      "└ @ RiskSensitiveSAC /home/kang/DRC_Project/DRC_Trajectron/src/evaluation.jl:300\n"
     ]
    },
    {
     "name": "stderr",
     "output_type": "stream",
     "text": [
      "┌ Warning: Time 5.90 [sec]: SAC computation took 0.11 [sec], which exceeds the maximum computation time allowed.\n",
      "└ @ RiskSensitiveSAC /home/kang/DRC_Project/DRC_Trajectron/src/rs_sac_controller.jl:733\n",
      "┌ Warning: Time 5.90 [sec]: This evaluation iteration took 0.111 [sec], which exceeds dtc.\n",
      "└ @ RiskSensitiveSAC /home/kang/DRC_Project/DRC_Trajectron/src/evaluation.jl:300\n"
     ]
    },
    {
     "name": "stderr",
     "output_type": "stream",
     "text": [
      "┌ Warning: Time 6.00 [sec]: SAC computation took 0.107 [sec], which exceeds the maximum computation time allowed.\n",
      "└ @ RiskSensitiveSAC /home/kang/DRC_Project/DRC_Trajectron/src/rs_sac_controller.jl:733\n",
      "┌ Warning: Time 6.00 [sec]: This evaluation iteration took 0.108 [sec], which exceeds dtc.\n",
      "└ @ RiskSensitiveSAC /home/kang/DRC_Project/DRC_Trajectron/src/evaluation.jl:300\n"
     ]
    },
    {
     "name": "stderr",
     "output_type": "stream",
     "text": [
      "┌ Warning: Time 6.10 [sec]: SAC computation took 0.101 [sec], which exceeds the maximum computation time allowed.\n",
      "└ @ RiskSensitiveSAC /home/kang/DRC_Project/DRC_Trajectron/src/rs_sac_controller.jl:733\n",
      "┌ Warning: Time 6.10 [sec]: This evaluation iteration took 0.102 [sec], which exceeds dtc.\n",
      "└ @ RiskSensitiveSAC /home/kang/DRC_Project/DRC_Trajectron/src/evaluation.jl:300\n"
     ]
    },
    {
     "name": "stderr",
     "output_type": "stream",
     "text": [
      "┌ Warning: Time 6.20 [sec]: SAC computation took 0.109 [sec], which exceeds the maximum computation time allowed.\n",
      "└ @ RiskSensitiveSAC /home/kang/DRC_Project/DRC_Trajectron/src/rs_sac_controller.jl:733\n",
      "┌ Warning: Time 6.20 [sec]: This evaluation iteration took 0.11 [sec], which exceeds dtc.\n",
      "└ @ RiskSensitiveSAC /home/kang/DRC_Project/DRC_Trajectron/src/evaluation.jl:300\n"
     ]
    },
    {
     "name": "stderr",
     "output_type": "stream",
     "text": [
      "┌ Warning: Time 6.30 [sec]: SAC computation took 0.11 [sec], which exceeds the maximum computation time allowed.\n",
      "└ @ RiskSensitiveSAC /home/kang/DRC_Project/DRC_Trajectron/src/rs_sac_controller.jl:733\n",
      "┌ Warning: Time 6.30 [sec]: This evaluation iteration took 0.11 [sec], which exceeds dtc.\n",
      "└ @ RiskSensitiveSAC /home/kang/DRC_Project/DRC_Trajectron/src/evaluation.jl:300\n"
     ]
    },
    {
     "name": "stderr",
     "output_type": "stream",
     "text": [
      "┌ Warning: Time 6.40 [sec]: SAC computation took 0.104 [sec], which exceeds the maximum computation time allowed.\n",
      "└ @ RiskSensitiveSAC /home/kang/DRC_Project/DRC_Trajectron/src/rs_sac_controller.jl:733\n",
      "┌ Warning: Time 6.40 [sec]: This evaluation iteration took 0.106 [sec], which exceeds dtc.\n",
      "└ @ RiskSensitiveSAC /home/kang/DRC_Project/DRC_Trajectron/src/evaluation.jl:300\n"
     ]
    },
    {
     "name": "stderr",
     "output_type": "stream",
     "text": [
      "┌ Warning: Time 6.50 [sec]: SAC computation took 0.104 [sec], which exceeds the maximum computation time allowed.\n",
      "└ @ RiskSensitiveSAC /home/kang/DRC_Project/DRC_Trajectron/src/rs_sac_controller.jl:733\n",
      "┌ Warning: Time 6.50 [sec]: This evaluation iteration took 0.105 [sec], which exceeds dtc.\n",
      "└ @ RiskSensitiveSAC /home/kang/DRC_Project/DRC_Trajectron/src/evaluation.jl:300\n"
     ]
    },
    {
     "name": "stderr",
     "output_type": "stream",
     "text": [
      "┌ Warning: Time 6.60 [sec]: SAC computation took 0.103 [sec], which exceeds the maximum computation time allowed.\n",
      "└ @ RiskSensitiveSAC /home/kang/DRC_Project/DRC_Trajectron/src/rs_sac_controller.jl:733\n",
      "┌ Warning: Time 6.60 [sec]: This evaluation iteration took 0.104 [sec], which exceeds dtc.\n",
      "└ @ RiskSensitiveSAC /home/kang/DRC_Project/DRC_Trajectron/src/evaluation.jl:300\n"
     ]
    },
    {
     "name": "stderr",
     "output_type": "stream",
     "text": [
      "┌ Warning: Time 6.70 [sec]: SAC computation took 0.129 [sec], which exceeds the maximum computation time allowed.\n",
      "└ @ RiskSensitiveSAC /home/kang/DRC_Project/DRC_Trajectron/src/rs_sac_controller.jl:733\n",
      "┌ Warning: Time 6.70 [sec]: This evaluation iteration took 0.129 [sec], which exceeds dtc.\n",
      "└ @ RiskSensitiveSAC /home/kang/DRC_Project/DRC_Trajectron/src/evaluation.jl:300\n"
     ]
    },
    {
     "name": "stderr",
     "output_type": "stream",
     "text": [
      "┌ Warning: Time 6.80 [sec]: SAC computation took 0.124 [sec], which exceeds the maximum computation time allowed.\n",
      "└ @ RiskSensitiveSAC /home/kang/DRC_Project/DRC_Trajectron/src/rs_sac_controller.jl:733\n",
      "┌ Warning: Time 6.80 [sec]: This evaluation iteration took 0.125 [sec], which exceeds dtc.\n",
      "└ @ RiskSensitiveSAC /home/kang/DRC_Project/DRC_Trajectron/src/evaluation.jl:300\n"
     ]
    },
    {
     "name": "stderr",
     "output_type": "stream",
     "text": [
      "┌ Warning: Time 6.90 [sec]: SAC computation took 0.114 [sec], which exceeds the maximum computation time allowed.\n",
      "└ @ RiskSensitiveSAC /home/kang/DRC_Project/DRC_Trajectron/src/rs_sac_controller.jl:733\n",
      "┌ Warning: Time 6.90 [sec]: This evaluation iteration took 0.114 [sec], which exceeds dtc.\n",
      "└ @ RiskSensitiveSAC /home/kang/DRC_Project/DRC_Trajectron/src/evaluation.jl:300\n"
     ]
    },
    {
     "name": "stderr",
     "output_type": "stream",
     "text": [
      "┌ Warning: Time 7.00 [sec]: SAC computation took 0.118 [sec], which exceeds the maximum computation time allowed.\n",
      "└ @ RiskSensitiveSAC /home/kang/DRC_Project/DRC_Trajectron/src/rs_sac_controller.jl:733\n",
      "┌ Warning: Time 7.00 [sec]: This evaluation iteration took 0.119 [sec], which exceeds dtc.\n",
      "└ @ RiskSensitiveSAC /home/kang/DRC_Project/DRC_Trajectron/src/evaluation.jl:300\n"
     ]
    },
    {
     "name": "stderr",
     "output_type": "stream",
     "text": [
      "┌ Warning: Time 7.10 [sec]: SAC computation took 0.105 [sec], which exceeds the maximum computation time allowed.\n",
      "└ @ RiskSensitiveSAC /home/kang/DRC_Project/DRC_Trajectron/src/rs_sac_controller.jl:733\n",
      "┌ Warning: Time 7.10 [sec]: This evaluation iteration took 0.105 [sec], which exceeds dtc.\n",
      "└ @ RiskSensitiveSAC /home/kang/DRC_Project/DRC_Trajectron/src/evaluation.jl:300\n"
     ]
    },
    {
     "name": "stderr",
     "output_type": "stream",
     "text": [
      "┌ Warning: Time 7.20 [sec]: SAC computation took 0.111 [sec], which exceeds the maximum computation time allowed.\n",
      "└ @ RiskSensitiveSAC /home/kang/DRC_Project/DRC_Trajectron/src/rs_sac_controller.jl:733\n",
      "┌ Warning: Time 7.20 [sec]: This evaluation iteration took 0.111 [sec], which exceeds dtc.\n",
      "└ @ RiskSensitiveSAC /home/kang/DRC_Project/DRC_Trajectron/src/evaluation.jl:300\n"
     ]
    },
    {
     "name": "stderr",
     "output_type": "stream",
     "text": [
      "┌ Warning: Time 7.30 [sec]: SAC computation took 0.188 [sec], which exceeds the maximum computation time allowed.\n",
      "└ @ RiskSensitiveSAC /home/kang/DRC_Project/DRC_Trajectron/src/rs_sac_controller.jl:733\n",
      "┌ Warning: Time 7.30 [sec]: This evaluation iteration took 0.189 [sec], which exceeds dtc.\n",
      "└ @ RiskSensitiveSAC /home/kang/DRC_Project/DRC_Trajectron/src/evaluation.jl:300\n"
     ]
    },
    {
     "name": "stderr",
     "output_type": "stream",
     "text": [
      "┌ Warning: Time 7.40 [sec]: SAC computation took 0.114 [sec], which exceeds the maximum computation time allowed.\n",
      "└ @ RiskSensitiveSAC /home/kang/DRC_Project/DRC_Trajectron/src/rs_sac_controller.jl:733\n",
      "┌ Warning: Time 7.40 [sec]: This evaluation iteration took 0.114 [sec], which exceeds dtc.\n",
      "└ @ RiskSensitiveSAC /home/kang/DRC_Project/DRC_Trajectron/src/evaluation.jl:300\n"
     ]
    },
    {
     "name": "stderr",
     "output_type": "stream",
     "text": [
      "┌ Warning: Time 7.50 [sec]: SAC computation took 0.109 [sec], which exceeds the maximum computation time allowed.\n",
      "└ @ RiskSensitiveSAC /home/kang/DRC_Project/DRC_Trajectron/src/rs_sac_controller.jl:733\n",
      "┌ Warning: Time 7.50 [sec]: This evaluation iteration took 0.11 [sec], which exceeds dtc.\n",
      "└ @ RiskSensitiveSAC /home/kang/DRC_Project/DRC_Trajectron/src/evaluation.jl:300\n"
     ]
    },
    {
     "name": "stderr",
     "output_type": "stream",
     "text": [
      "┌ Warning: Time 7.60 [sec]: SAC computation took 0.114 [sec], which exceeds the maximum computation time allowed.\n",
      "└ @ RiskSensitiveSAC /home/kang/DRC_Project/DRC_Trajectron/src/rs_sac_controller.jl:733\n",
      "┌ Warning: Time 7.60 [sec]: This evaluation iteration took 0.115 [sec], which exceeds dtc.\n",
      "└ @ RiskSensitiveSAC /home/kang/DRC_Project/DRC_Trajectron/src/evaluation.jl:300\n"
     ]
    },
    {
     "name": "stderr",
     "output_type": "stream",
     "text": [
      "┌ Warning: Time 7.70 [sec]: SAC computation took 0.139 [sec], which exceeds the maximum computation time allowed.\n",
      "└ @ RiskSensitiveSAC /home/kang/DRC_Project/DRC_Trajectron/src/rs_sac_controller.jl:733\n",
      "┌ Warning: Time 7.70 [sec]: This evaluation iteration took 0.14 [sec], which exceeds dtc.\n",
      "└ @ RiskSensitiveSAC /home/kang/DRC_Project/DRC_Trajectron/src/evaluation.jl:300\n"
     ]
    },
    {
     "name": "stderr",
     "output_type": "stream",
     "text": [
      "┌ Warning: Time 7.80 [sec]: SAC computation took 0.13 [sec], which exceeds the maximum computation time allowed.\n",
      "└ @ RiskSensitiveSAC /home/kang/DRC_Project/DRC_Trajectron/src/rs_sac_controller.jl:733\n",
      "┌ Warning: Time 7.80 [sec]: This evaluation iteration took 0.131 [sec], which exceeds dtc.\n",
      "└ @ RiskSensitiveSAC /home/kang/DRC_Project/DRC_Trajectron/src/evaluation.jl:300\n"
     ]
    },
    {
     "name": "stderr",
     "output_type": "stream",
     "text": [
      "┌ Warning: Time 7.90 [sec]: SAC computation took 0.112 [sec], which exceeds the maximum computation time allowed.\n",
      "└ @ RiskSensitiveSAC /home/kang/DRC_Project/DRC_Trajectron/src/rs_sac_controller.jl:733\n",
      "┌ Warning: Time 7.90 [sec]: This evaluation iteration took 0.112 [sec], which exceeds dtc.\n",
      "└ @ RiskSensitiveSAC /home/kang/DRC_Project/DRC_Trajectron/src/evaluation.jl:300\n"
     ]
    },
    {
     "name": "stderr",
     "output_type": "stream",
     "text": [
      "┌ Warning: Time 8.00 [sec]: SAC computation took 0.124 [sec], which exceeds the maximum computation time allowed.\n",
      "└ @ RiskSensitiveSAC /home/kang/DRC_Project/DRC_Trajectron/src/rs_sac_controller.jl:733\n",
      "┌ Warning: Time 8.00 [sec]: This evaluation iteration took 0.126 [sec], which exceeds dtc.\n",
      "└ @ RiskSensitiveSAC /home/kang/DRC_Project/DRC_Trajectron/src/evaluation.jl:300\n"
     ]
    },
    {
     "name": "stderr",
     "output_type": "stream",
     "text": [
      "┌ Warning: Time 8.10 [sec]: SAC computation took 0.134 [sec], which exceeds the maximum computation time allowed.\n",
      "└ @ RiskSensitiveSAC /home/kang/DRC_Project/DRC_Trajectron/src/rs_sac_controller.jl:733\n",
      "┌ Warning: Time 8.10 [sec]: This evaluation iteration took 0.135 [sec], which exceeds dtc.\n",
      "└ @ RiskSensitiveSAC /home/kang/DRC_Project/DRC_Trajectron/src/evaluation.jl:300\n"
     ]
    },
    {
     "name": "stderr",
     "output_type": "stream",
     "text": [
      "┌ Warning: Time 8.20 [sec]: SAC computation took 0.127 [sec], which exceeds the maximum computation time allowed.\n",
      "└ @ RiskSensitiveSAC /home/kang/DRC_Project/DRC_Trajectron/src/rs_sac_controller.jl:733\n",
      "┌ Warning: Time 8.20 [sec]: This evaluation iteration took 0.128 [sec], which exceeds dtc.\n",
      "└ @ RiskSensitiveSAC /home/kang/DRC_Project/DRC_Trajectron/src/evaluation.jl:300\n"
     ]
    },
    {
     "name": "stderr",
     "output_type": "stream",
     "text": [
      "┌ Warning: Time 8.30 [sec]: This evaluation iteration took 0.092 [sec], which exceeds dtc.\n",
      "└ @ RiskSensitiveSAC /home/kang/DRC_Project/DRC_Trajectron/src/evaluation.jl:300\n"
     ]
    },
    {
     "name": "stderr",
     "output_type": "stream",
     "text": [
      "┌ Warning: Time 8.40 [sec]: This evaluation iteration took 0.095 [sec], which exceeds dtc.\n",
      "└ @ RiskSensitiveSAC /home/kang/DRC_Project/DRC_Trajectron/src/evaluation.jl:300\n"
     ]
    },
    {
     "name": "stderr",
     "output_type": "stream",
     "text": [
      "┌ Warning: Time 8.50 [sec]: This evaluation iteration took 0.094 [sec], which exceeds dtc.\n",
      "└ @ RiskSensitiveSAC /home/kang/DRC_Project/DRC_Trajectron/src/evaluation.jl:300\n"
     ]
    },
    {
     "name": "stderr",
     "output_type": "stream",
     "text": [
      "┌ Warning: Time 8.60 [sec]: SAC computation took 0.108 [sec], which exceeds the maximum computation time allowed.\n",
      "└ @ RiskSensitiveSAC /home/kang/DRC_Project/DRC_Trajectron/src/rs_sac_controller.jl:733\n",
      "┌ Warning: Time 8.60 [sec]: This evaluation iteration took 0.109 [sec], which exceeds dtc.\n",
      "└ @ RiskSensitiveSAC /home/kang/DRC_Project/DRC_Trajectron/src/evaluation.jl:300\n"
     ]
    },
    {
     "name": "stderr",
     "output_type": "stream",
     "text": [
      "┌ Warning: Time 8.70 [sec]: SAC computation took 0.114 [sec], which exceeds the maximum computation time allowed.\n",
      "└ @ RiskSensitiveSAC /home/kang/DRC_Project/DRC_Trajectron/src/rs_sac_controller.jl:733\n",
      "┌ Warning: Time 8.70 [sec]: This evaluation iteration took 0.115 [sec], which exceeds dtc.\n",
      "└ @ RiskSensitiveSAC /home/kang/DRC_Project/DRC_Trajectron/src/evaluation.jl:300\n"
     ]
    },
    {
     "name": "stderr",
     "output_type": "stream",
     "text": [
      "┌ Warning: Time 8.80 [sec]: SAC computation took 0.117 [sec], which exceeds the maximum computation time allowed.\n",
      "└ @ RiskSensitiveSAC /home/kang/DRC_Project/DRC_Trajectron/src/rs_sac_controller.jl:733\n",
      "┌ Warning: Time 8.80 [sec]: This evaluation iteration took 0.118 [sec], which exceeds dtc.\n",
      "└ @ RiskSensitiveSAC /home/kang/DRC_Project/DRC_Trajectron/src/evaluation.jl:300\n"
     ]
    },
    {
     "name": "stderr",
     "output_type": "stream",
     "text": [
      "┌ Warning: Time 8.90 [sec]: This evaluation iteration took 0.091 [sec], which exceeds dtc.\n",
      "└ @ RiskSensitiveSAC /home/kang/DRC_Project/DRC_Trajectron/src/evaluation.jl:300\n"
     ]
    },
    {
     "name": "stderr",
     "output_type": "stream",
     "text": [
      "┌ Warning: Time 9.00 [sec]: SAC computation took 0.123 [sec], which exceeds the maximum computation time allowed.\n",
      "└ @ RiskSensitiveSAC /home/kang/DRC_Project/DRC_Trajectron/src/rs_sac_controller.jl:733\n",
      "┌ Warning: Time 9.00 [sec]: This evaluation iteration took 0.124 [sec], which exceeds dtc.\n",
      "└ @ RiskSensitiveSAC /home/kang/DRC_Project/DRC_Trajectron/src/evaluation.jl:300\n"
     ]
    },
    {
     "name": "stderr",
     "output_type": "stream",
     "text": [
      "┌ Warning: Time 9.10 [sec]: SAC computation took 0.119 [sec], which exceeds the maximum computation time allowed.\n",
      "└ @ RiskSensitiveSAC /home/kang/DRC_Project/DRC_Trajectron/src/rs_sac_controller.jl:733\n",
      "┌ Warning: Time 9.10 [sec]: This evaluation iteration took 0.119 [sec], which exceeds dtc.\n",
      "└ @ RiskSensitiveSAC /home/kang/DRC_Project/DRC_Trajectron/src/evaluation.jl:300\n"
     ]
    },
    {
     "name": "stderr",
     "output_type": "stream",
     "text": [
      "┌ Warning: Time 9.20 [sec]: SAC computation took 0.135 [sec], which exceeds the maximum computation time allowed.\n",
      "└ @ RiskSensitiveSAC /home/kang/DRC_Project/DRC_Trajectron/src/rs_sac_controller.jl:733\n",
      "┌ Warning: Time 9.20 [sec]: This evaluation iteration took 0.136 [sec], which exceeds dtc.\n",
      "└ @ RiskSensitiveSAC /home/kang/DRC_Project/DRC_Trajectron/src/evaluation.jl:300\n"
     ]
    },
    {
     "name": "stderr",
     "output_type": "stream",
     "text": [
      "┌ Warning: Time 9.30 [sec]: This evaluation iteration took 0.088 [sec], which exceeds dtc.\n",
      "└ @ RiskSensitiveSAC /home/kang/DRC_Project/DRC_Trajectron/src/evaluation.jl:300\n"
     ]
    },
    {
     "name": "stderr",
     "output_type": "stream",
     "text": [
      "┌ Warning: Time 9.40 [sec]: This evaluation iteration took 0.089 [sec], which exceeds dtc.\n",
      "└ @ RiskSensitiveSAC /home/kang/DRC_Project/DRC_Trajectron/src/evaluation.jl:300\n"
     ]
    },
    {
     "name": "stderr",
     "output_type": "stream",
     "text": [
      "┌ Warning: Time 9.50 [sec]: This evaluation iteration took 0.087 [sec], which exceeds dtc.\n",
      "└ @ RiskSensitiveSAC /home/kang/DRC_Project/DRC_Trajectron/src/evaluation.jl:300\n"
     ]
    },
    {
     "name": "stderr",
     "output_type": "stream",
     "text": [
      "┌ Warning: Time 9.60 [sec]: This evaluation iteration took 0.088 [sec], which exceeds dtc.\n",
      "└ @ RiskSensitiveSAC /home/kang/DRC_Project/DRC_Trajectron/src/evaluation.jl:300\n"
     ]
    },
    {
     "name": "stderr",
     "output_type": "stream",
     "text": [
      "┌ Warning: Time 9.70 [sec]: This evaluation iteration took 0.084 [sec], which exceeds dtc.\n",
      "└ @ RiskSensitiveSAC /home/kang/DRC_Project/DRC_Trajectron/src/evaluation.jl:300\n"
     ]
    },
    {
     "name": "stderr",
     "output_type": "stream",
     "text": [
      "┌ Warning: Time 9.80 [sec]: This evaluation iteration took 0.09 [sec], which exceeds dtc.\n",
      "└ @ RiskSensitiveSAC /home/kang/DRC_Project/DRC_Trajectron/src/evaluation.jl:300\n"
     ]
    },
    {
     "name": "stderr",
     "output_type": "stream",
     "text": [
      "┌ Warning: Time 9.90 [sec]: This evaluation iteration took 0.09 [sec], which exceeds dtc.\n",
      "└ @ RiskSensitiveSAC /home/kang/DRC_Project/DRC_Trajectron/src/evaluation.jl:300\n"
     ]
    },
    {
     "name": "stdout",
     "output_type": "stream",
     "text": [
      "Total Collision: 0, Total Position Cost: 82.22204745800599, Total Control Cost: 1.9713557586418002, Minimum Distance: 1.0185442561197358, Experiment 2: "
     ]
    },
    {
     "name": "stderr",
     "output_type": "stream",
     "text": [
      "┌ Warning: Time 0.10 [sec]: This evaluation iteration took 0.093 [sec], which exceeds dtc.\n",
      "└ @ RiskSensitiveSAC /home/kang/DRC_Project/DRC_Trajectron/src/evaluation.jl:300\n"
     ]
    },
    {
     "name": "stderr",
     "output_type": "stream",
     "text": [
      "┌ Warning: Time 0.20 [sec]: SAC computation took 0.105 [sec], which exceeds the maximum computation time allowed.\n",
      "└ @ RiskSensitiveSAC /home/kang/DRC_Project/DRC_Trajectron/src/rs_sac_controller.jl:733\n",
      "┌ Warning: Time 0.20 [sec]: This evaluation iteration took 0.105 [sec], which exceeds dtc.\n",
      "└ @ RiskSensitiveSAC /home/kang/DRC_Project/DRC_Trajectron/src/evaluation.jl:300\n"
     ]
    },
    {
     "name": "stderr",
     "output_type": "stream",
     "text": [
      "┌ Warning: Time 0.30 [sec]: SAC computation took 0.124 [sec], which exceeds the maximum computation time allowed.\n",
      "└ @ RiskSensitiveSAC /home/kang/DRC_Project/DRC_Trajectron/src/rs_sac_controller.jl:733\n",
      "┌ Warning: Time 0.30 [sec]: This evaluation iteration took 0.125 [sec], which exceeds dtc.\n",
      "└ @ RiskSensitiveSAC /home/kang/DRC_Project/DRC_Trajectron/src/evaluation.jl:300\n"
     ]
    },
    {
     "name": "stderr",
     "output_type": "stream",
     "text": [
      "┌ Warning: Time 0.40 [sec]: SAC computation took 0.113 [sec], which exceeds the maximum computation time allowed.\n",
      "└ @ RiskSensitiveSAC /home/kang/DRC_Project/DRC_Trajectron/src/rs_sac_controller.jl:733\n",
      "┌ Warning: Time 0.40 [sec]: This evaluation iteration took 0.114 [sec], which exceeds dtc.\n",
      "└ @ RiskSensitiveSAC /home/kang/DRC_Project/DRC_Trajectron/src/evaluation.jl:300\n"
     ]
    },
    {
     "name": "stderr",
     "output_type": "stream",
     "text": [
      "┌ Warning: Time 0.50 [sec]: SAC computation took 0.117 [sec], which exceeds the maximum computation time allowed.\n",
      "└ @ RiskSensitiveSAC /home/kang/DRC_Project/DRC_Trajectron/src/rs_sac_controller.jl:733\n",
      "┌ Warning: Time 0.50 [sec]: This evaluation iteration took 0.117 [sec], which exceeds dtc.\n",
      "└ @ RiskSensitiveSAC /home/kang/DRC_Project/DRC_Trajectron/src/evaluation.jl:300\n"
     ]
    },
    {
     "name": "stderr",
     "output_type": "stream",
     "text": [
      "┌ Warning: Time 0.60 [sec]: SAC computation took 0.119 [sec], which exceeds the maximum computation time allowed.\n",
      "└ @ RiskSensitiveSAC /home/kang/DRC_Project/DRC_Trajectron/src/rs_sac_controller.jl:733\n",
      "┌ Warning: Time 0.60 [sec]: This evaluation iteration took 0.12 [sec], which exceeds dtc.\n",
      "└ @ RiskSensitiveSAC /home/kang/DRC_Project/DRC_Trajectron/src/evaluation.jl:300\n"
     ]
    },
    {
     "name": "stderr",
     "output_type": "stream",
     "text": [
      "┌ Warning: Time 0.70 [sec]: This evaluation iteration took 0.092 [sec], which exceeds dtc.\n",
      "└ @ RiskSensitiveSAC /home/kang/DRC_Project/DRC_Trajectron/src/evaluation.jl:300\n"
     ]
    },
    {
     "name": "stderr",
     "output_type": "stream",
     "text": [
      "┌ Warning: Time 0.80 [sec]: This evaluation iteration took 0.09 [sec], which exceeds dtc.\n",
      "└ @ RiskSensitiveSAC /home/kang/DRC_Project/DRC_Trajectron/src/evaluation.jl:300\n"
     ]
    },
    {
     "name": "stderr",
     "output_type": "stream",
     "text": [
      "┌ Warning: Time 0.90 [sec]: This evaluation iteration took 0.092 [sec], which exceeds dtc.\n",
      "└ @ RiskSensitiveSAC /home/kang/DRC_Project/DRC_Trajectron/src/evaluation.jl:300\n"
     ]
    },
    {
     "name": "stderr",
     "output_type": "stream",
     "text": [
      "┌ Warning: Time 1.00 [sec]: This evaluation iteration took 0.087 [sec], which exceeds dtc.\n",
      "└ @ RiskSensitiveSAC /home/kang/DRC_Project/DRC_Trajectron/src/evaluation.jl:300\n"
     ]
    },
    {
     "name": "stderr",
     "output_type": "stream",
     "text": [
      "┌ Warning: Time 1.10 [sec]: SAC computation took 0.135 [sec], which exceeds the maximum computation time allowed.\n",
      "└ @ RiskSensitiveSAC /home/kang/DRC_Project/DRC_Trajectron/src/rs_sac_controller.jl:733\n",
      "┌ Warning: Time 1.10 [sec]: This evaluation iteration took 0.135 [sec], which exceeds dtc.\n",
      "└ @ RiskSensitiveSAC /home/kang/DRC_Project/DRC_Trajectron/src/evaluation.jl:300\n"
     ]
    },
    {
     "name": "stderr",
     "output_type": "stream",
     "text": [
      "┌ Warning: Time 1.20 [sec]: This evaluation iteration took 0.09 [sec], which exceeds dtc.\n",
      "└ @ RiskSensitiveSAC /home/kang/DRC_Project/DRC_Trajectron/src/evaluation.jl:300\n"
     ]
    },
    {
     "name": "stderr",
     "output_type": "stream",
     "text": [
      "┌ Warning: Time 1.30 [sec]: This evaluation iteration took 0.087 [sec], which exceeds dtc.\n",
      "└ @ RiskSensitiveSAC /home/kang/DRC_Project/DRC_Trajectron/src/evaluation.jl:300\n"
     ]
    },
    {
     "name": "stderr",
     "output_type": "stream",
     "text": [
      "┌ Warning: Time 1.40 [sec]: This evaluation iteration took 0.087 [sec], which exceeds dtc.\n",
      "└ @ RiskSensitiveSAC /home/kang/DRC_Project/DRC_Trajectron/src/evaluation.jl:300\n"
     ]
    },
    {
     "name": "stderr",
     "output_type": "stream",
     "text": [
      "┌ Warning: Time 1.50 [sec]: This evaluation iteration took 0.086 [sec], which exceeds dtc.\n",
      "└ @ RiskSensitiveSAC /home/kang/DRC_Project/DRC_Trajectron/src/evaluation.jl:300\n"
     ]
    },
    {
     "name": "stderr",
     "output_type": "stream",
     "text": [
      "┌ Warning: Time 1.60 [sec]: This evaluation iteration took 0.082 [sec], which exceeds dtc.\n",
      "└ @ RiskSensitiveSAC /home/kang/DRC_Project/DRC_Trajectron/src/evaluation.jl:300\n"
     ]
    },
    {
     "name": "stderr",
     "output_type": "stream",
     "text": [
      "┌ Warning: Time 1.70 [sec]: This evaluation iteration took 0.089 [sec], which exceeds dtc.\n",
      "└ @ RiskSensitiveSAC /home/kang/DRC_Project/DRC_Trajectron/src/evaluation.jl:300\n"
     ]
    },
    {
     "name": "stderr",
     "output_type": "stream",
     "text": [
      "┌ Warning: Time 1.80 [sec]: This evaluation iteration took 0.089 [sec], which exceeds dtc.\n",
      "└ @ RiskSensitiveSAC /home/kang/DRC_Project/DRC_Trajectron/src/evaluation.jl:300\n"
     ]
    },
    {
     "name": "stderr",
     "output_type": "stream",
     "text": [
      "┌ Warning: Time 1.90 [sec]: This evaluation iteration took 0.089 [sec], which exceeds dtc.\n",
      "└ @ RiskSensitiveSAC /home/kang/DRC_Project/DRC_Trajectron/src/evaluation.jl:300\n"
     ]
    },
    {
     "name": "stderr",
     "output_type": "stream",
     "text": [
      "┌ Warning: Time 2.00 [sec]: This evaluation iteration took 0.091 [sec], which exceeds dtc.\n",
      "└ @ RiskSensitiveSAC /home/kang/DRC_Project/DRC_Trajectron/src/evaluation.jl:300\n"
     ]
    },
    {
     "name": "stderr",
     "output_type": "stream",
     "text": [
      "┌ Warning: Time 2.10 [sec]: SAC computation took 0.117 [sec], which exceeds the maximum computation time allowed.\n",
      "└ @ RiskSensitiveSAC /home/kang/DRC_Project/DRC_Trajectron/src/rs_sac_controller.jl:733\n",
      "┌ Warning: Time 2.10 [sec]: This evaluation iteration took 0.117 [sec], which exceeds dtc.\n",
      "└ @ RiskSensitiveSAC /home/kang/DRC_Project/DRC_Trajectron/src/evaluation.jl:300\n"
     ]
    },
    {
     "name": "stderr",
     "output_type": "stream",
     "text": [
      "┌ Warning: Time 2.20 [sec]: This evaluation iteration took 0.099 [sec], which exceeds dtc.\n",
      "└ @ RiskSensitiveSAC /home/kang/DRC_Project/DRC_Trajectron/src/evaluation.jl:300\n"
     ]
    },
    {
     "name": "stderr",
     "output_type": "stream",
     "text": [
      "┌ Warning: Time 2.30 [sec]: This evaluation iteration took 0.096 [sec], which exceeds dtc.\n",
      "└ @ RiskSensitiveSAC /home/kang/DRC_Project/DRC_Trajectron/src/evaluation.jl:300\n"
     ]
    },
    {
     "name": "stderr",
     "output_type": "stream",
     "text": [
      "┌ Warning: Time 2.40 [sec]: This evaluation iteration took 0.096 [sec], which exceeds dtc.\n",
      "└ @ RiskSensitiveSAC /home/kang/DRC_Project/DRC_Trajectron/src/evaluation.jl:300\n"
     ]
    },
    {
     "name": "stderr",
     "output_type": "stream",
     "text": [
      "┌ Warning: Time 2.50 [sec]: SAC computation took 0.115 [sec], which exceeds the maximum computation time allowed.\n",
      "└ @ RiskSensitiveSAC /home/kang/DRC_Project/DRC_Trajectron/src/rs_sac_controller.jl:733\n",
      "┌ Warning: Time 2.50 [sec]: This evaluation iteration took 0.116 [sec], which exceeds dtc.\n",
      "└ @ RiskSensitiveSAC /home/kang/DRC_Project/DRC_Trajectron/src/evaluation.jl:300\n"
     ]
    },
    {
     "name": "stderr",
     "output_type": "stream",
     "text": [
      "┌ Warning: Time 2.60 [sec]: SAC computation took 0.107 [sec], which exceeds the maximum computation time allowed.\n",
      "└ @ RiskSensitiveSAC /home/kang/DRC_Project/DRC_Trajectron/src/rs_sac_controller.jl:733\n",
      "┌ Warning: Time 2.60 [sec]: This evaluation iteration took 0.108 [sec], which exceeds dtc.\n",
      "└ @ RiskSensitiveSAC /home/kang/DRC_Project/DRC_Trajectron/src/evaluation.jl:300\n"
     ]
    },
    {
     "name": "stderr",
     "output_type": "stream",
     "text": [
      "┌ Warning: Time 2.70 [sec]: This evaluation iteration took 0.094 [sec], which exceeds dtc.\n",
      "└ @ RiskSensitiveSAC /home/kang/DRC_Project/DRC_Trajectron/src/evaluation.jl:300\n"
     ]
    },
    {
     "name": "stderr",
     "output_type": "stream",
     "text": [
      "┌ Warning: Time 2.80 [sec]: This evaluation iteration took 0.093 [sec], which exceeds dtc.\n",
      "└ @ RiskSensitiveSAC /home/kang/DRC_Project/DRC_Trajectron/src/evaluation.jl:300\n"
     ]
    },
    {
     "name": "stderr",
     "output_type": "stream",
     "text": [
      "┌ Warning: Time 2.90 [sec]: This evaluation iteration took 0.091 [sec], which exceeds dtc.\n",
      "└ @ RiskSensitiveSAC /home/kang/DRC_Project/DRC_Trajectron/src/evaluation.jl:300\n"
     ]
    },
    {
     "name": "stderr",
     "output_type": "stream",
     "text": [
      "┌ Warning: Time 3.00 [sec]: SAC computation took 0.188 [sec], which exceeds the maximum computation time allowed.\n",
      "└ @ RiskSensitiveSAC /home/kang/DRC_Project/DRC_Trajectron/src/rs_sac_controller.jl:733\n",
      "┌ Warning: Time 3.00 [sec]: This evaluation iteration took 0.188 [sec], which exceeds dtc.\n",
      "└ @ RiskSensitiveSAC /home/kang/DRC_Project/DRC_Trajectron/src/evaluation.jl:300\n"
     ]
    },
    {
     "name": "stderr",
     "output_type": "stream",
     "text": [
      "┌ Warning: Time 3.10 [sec]: This evaluation iteration took 0.094 [sec], which exceeds dtc.\n",
      "└ @ RiskSensitiveSAC /home/kang/DRC_Project/DRC_Trajectron/src/evaluation.jl:300\n"
     ]
    },
    {
     "name": "stderr",
     "output_type": "stream",
     "text": [
      "┌ Warning: Time 3.20 [sec]: This evaluation iteration took 0.089 [sec], which exceeds dtc.\n",
      "└ @ RiskSensitiveSAC /home/kang/DRC_Project/DRC_Trajectron/src/evaluation.jl:300\n"
     ]
    },
    {
     "name": "stderr",
     "output_type": "stream",
     "text": [
      "┌ Warning: Time 3.30 [sec]: This evaluation iteration took 0.086 [sec], which exceeds dtc.\n",
      "└ @ RiskSensitiveSAC /home/kang/DRC_Project/DRC_Trajectron/src/evaluation.jl:300\n"
     ]
    },
    {
     "name": "stderr",
     "output_type": "stream",
     "text": [
      "┌ Warning: Time 3.40 [sec]: This evaluation iteration took 0.085 [sec], which exceeds dtc.\n",
      "└ @ RiskSensitiveSAC /home/kang/DRC_Project/DRC_Trajectron/src/evaluation.jl:300\n"
     ]
    },
    {
     "name": "stderr",
     "output_type": "stream",
     "text": [
      "┌ Warning: Time 3.50 [sec]: This evaluation iteration took 0.092 [sec], which exceeds dtc.\n",
      "└ @ RiskSensitiveSAC /home/kang/DRC_Project/DRC_Trajectron/src/evaluation.jl:300\n"
     ]
    },
    {
     "name": "stderr",
     "output_type": "stream",
     "text": [
      "┌ Warning: Time 3.60 [sec]: SAC computation took 0.118 [sec], which exceeds the maximum computation time allowed.\n",
      "└ @ RiskSensitiveSAC /home/kang/DRC_Project/DRC_Trajectron/src/rs_sac_controller.jl:733\n",
      "┌ Warning: Time 3.60 [sec]: This evaluation iteration took 0.119 [sec], which exceeds dtc.\n",
      "└ @ RiskSensitiveSAC /home/kang/DRC_Project/DRC_Trajectron/src/evaluation.jl:300\n"
     ]
    },
    {
     "name": "stderr",
     "output_type": "stream",
     "text": [
      "┌ Warning: Time 3.70 [sec]: This evaluation iteration took 0.096 [sec], which exceeds dtc.\n",
      "└ @ RiskSensitiveSAC /home/kang/DRC_Project/DRC_Trajectron/src/evaluation.jl:300\n"
     ]
    },
    {
     "name": "stderr",
     "output_type": "stream",
     "text": [
      "┌ Warning: Time 3.80 [sec]: This evaluation iteration took 0.088 [sec], which exceeds dtc.\n",
      "└ @ RiskSensitiveSAC /home/kang/DRC_Project/DRC_Trajectron/src/evaluation.jl:300\n"
     ]
    },
    {
     "name": "stderr",
     "output_type": "stream",
     "text": [
      "┌ Warning: Time 3.90 [sec]: This evaluation iteration took 0.092 [sec], which exceeds dtc.\n",
      "└ @ RiskSensitiveSAC /home/kang/DRC_Project/DRC_Trajectron/src/evaluation.jl:300\n"
     ]
    },
    {
     "name": "stderr",
     "output_type": "stream",
     "text": [
      "┌ Warning: Time 4.00 [sec]: This evaluation iteration took 0.098 [sec], which exceeds dtc.\n",
      "└ @ RiskSensitiveSAC /home/kang/DRC_Project/DRC_Trajectron/src/evaluation.jl:300\n"
     ]
    },
    {
     "name": "stderr",
     "output_type": "stream",
     "text": [
      "┌ Warning: Time 4.10 [sec]: This evaluation iteration took 0.089 [sec], which exceeds dtc.\n",
      "└ @ RiskSensitiveSAC /home/kang/DRC_Project/DRC_Trajectron/src/evaluation.jl:300\n"
     ]
    },
    {
     "name": "stderr",
     "output_type": "stream",
     "text": [
      "┌ Warning: Time 4.20 [sec]: This evaluation iteration took 0.092 [sec], which exceeds dtc.\n",
      "└ @ RiskSensitiveSAC /home/kang/DRC_Project/DRC_Trajectron/src/evaluation.jl:300\n"
     ]
    },
    {
     "name": "stderr",
     "output_type": "stream",
     "text": [
      "┌ Warning: Time 4.30 [sec]: This evaluation iteration took 0.097 [sec], which exceeds dtc.\n",
      "└ @ RiskSensitiveSAC /home/kang/DRC_Project/DRC_Trajectron/src/evaluation.jl:300\n"
     ]
    },
    {
     "name": "stderr",
     "output_type": "stream",
     "text": [
      "┌ Warning: Time 4.40 [sec]: This evaluation iteration took 0.092 [sec], which exceeds dtc.\n",
      "└ @ RiskSensitiveSAC /home/kang/DRC_Project/DRC_Trajectron/src/evaluation.jl:300\n"
     ]
    },
    {
     "name": "stderr",
     "output_type": "stream",
     "text": [
      "┌ Warning: Time 4.50 [sec]: This evaluation iteration took 0.091 [sec], which exceeds dtc.\n",
      "└ @ RiskSensitiveSAC /home/kang/DRC_Project/DRC_Trajectron/src/evaluation.jl:300\n"
     ]
    },
    {
     "name": "stderr",
     "output_type": "stream",
     "text": [
      "┌ Warning: Time 4.60 [sec]: This evaluation iteration took 0.09 [sec], which exceeds dtc.\n",
      "└ @ RiskSensitiveSAC /home/kang/DRC_Project/DRC_Trajectron/src/evaluation.jl:300\n"
     ]
    },
    {
     "name": "stderr",
     "output_type": "stream",
     "text": [
      "┌ Warning: Time 4.70 [sec]: This evaluation iteration took 0.09 [sec], which exceeds dtc.\n",
      "└ @ RiskSensitiveSAC /home/kang/DRC_Project/DRC_Trajectron/src/evaluation.jl:300\n"
     ]
    },
    {
     "name": "stderr",
     "output_type": "stream",
     "text": [
      "┌ Warning: Time 4.80 [sec]: This evaluation iteration took 0.086 [sec], which exceeds dtc.\n",
      "└ @ RiskSensitiveSAC /home/kang/DRC_Project/DRC_Trajectron/src/evaluation.jl:300\n"
     ]
    },
    {
     "name": "stderr",
     "output_type": "stream",
     "text": [
      "┌ Warning: Time 4.90 [sec]: This evaluation iteration took 0.092 [sec], which exceeds dtc.\n",
      "└ @ RiskSensitiveSAC /home/kang/DRC_Project/DRC_Trajectron/src/evaluation.jl:300\n"
     ]
    },
    {
     "name": "stderr",
     "output_type": "stream",
     "text": [
      "┌ Warning: Time 5.00 [sec]: SAC computation took 0.149 [sec], which exceeds the maximum computation time allowed.\n",
      "└ @ RiskSensitiveSAC /home/kang/DRC_Project/DRC_Trajectron/src/rs_sac_controller.jl:733\n",
      "┌ Warning: Time 5.00 [sec]: This evaluation iteration took 0.149 [sec], which exceeds dtc.\n",
      "└ @ RiskSensitiveSAC /home/kang/DRC_Project/DRC_Trajectron/src/evaluation.jl:300\n"
     ]
    },
    {
     "name": "stderr",
     "output_type": "stream",
     "text": [
      "┌ Warning: Time 5.10 [sec]: This evaluation iteration took 0.089 [sec], which exceeds dtc.\n",
      "└ @ RiskSensitiveSAC /home/kang/DRC_Project/DRC_Trajectron/src/evaluation.jl:300\n"
     ]
    },
    {
     "name": "stderr",
     "output_type": "stream",
     "text": [
      "┌ Warning: Time 5.20 [sec]: This evaluation iteration took 0.095 [sec], which exceeds dtc.\n",
      "└ @ RiskSensitiveSAC /home/kang/DRC_Project/DRC_Trajectron/src/evaluation.jl:300\n"
     ]
    },
    {
     "name": "stderr",
     "output_type": "stream",
     "text": [
      "┌ Warning: Time 5.30 [sec]: This evaluation iteration took 0.092 [sec], which exceeds dtc.\n",
      "└ @ RiskSensitiveSAC /home/kang/DRC_Project/DRC_Trajectron/src/evaluation.jl:300\n"
     ]
    },
    {
     "name": "stderr",
     "output_type": "stream",
     "text": [
      "┌ Warning: Time 5.40 [sec]: This evaluation iteration took 0.089 [sec], which exceeds dtc.\n",
      "└ @ RiskSensitiveSAC /home/kang/DRC_Project/DRC_Trajectron/src/evaluation.jl:300\n"
     ]
    },
    {
     "name": "stderr",
     "output_type": "stream",
     "text": [
      "┌ Warning: Time 5.50 [sec]: This evaluation iteration took 0.088 [sec], which exceeds dtc.\n",
      "└ @ RiskSensitiveSAC /home/kang/DRC_Project/DRC_Trajectron/src/evaluation.jl:300\n"
     ]
    },
    {
     "name": "stderr",
     "output_type": "stream",
     "text": [
      "┌ Warning: Time 5.60 [sec]: This evaluation iteration took 0.087 [sec], which exceeds dtc.\n",
      "└ @ RiskSensitiveSAC /home/kang/DRC_Project/DRC_Trajectron/src/evaluation.jl:300\n"
     ]
    },
    {
     "name": "stderr",
     "output_type": "stream",
     "text": [
      "┌ Warning: Time 5.70 [sec]: This evaluation iteration took 0.087 [sec], which exceeds dtc.\n",
      "└ @ RiskSensitiveSAC /home/kang/DRC_Project/DRC_Trajectron/src/evaluation.jl:300\n"
     ]
    },
    {
     "name": "stderr",
     "output_type": "stream",
     "text": [
      "┌ Warning: Time 5.80 [sec]: This evaluation iteration took 0.088 [sec], which exceeds dtc.\n",
      "└ @ RiskSensitiveSAC /home/kang/DRC_Project/DRC_Trajectron/src/evaluation.jl:300\n"
     ]
    },
    {
     "name": "stderr",
     "output_type": "stream",
     "text": [
      "┌ Warning: Time 5.90 [sec]: This evaluation iteration took 0.096 [sec], which exceeds dtc.\n",
      "└ @ RiskSensitiveSAC /home/kang/DRC_Project/DRC_Trajectron/src/evaluation.jl:300\n"
     ]
    },
    {
     "name": "stderr",
     "output_type": "stream",
     "text": [
      "┌ Warning: Time 6.00 [sec]: This evaluation iteration took 0.088 [sec], which exceeds dtc.\n",
      "└ @ RiskSensitiveSAC /home/kang/DRC_Project/DRC_Trajectron/src/evaluation.jl:300\n"
     ]
    },
    {
     "name": "stderr",
     "output_type": "stream",
     "text": [
      "┌ Warning: Time 6.10 [sec]: This evaluation iteration took 0.088 [sec], which exceeds dtc.\n",
      "└ @ RiskSensitiveSAC /home/kang/DRC_Project/DRC_Trajectron/src/evaluation.jl:300\n"
     ]
    },
    {
     "name": "stderr",
     "output_type": "stream",
     "text": [
      "┌ Warning: Time 6.20 [sec]: This evaluation iteration took 0.087 [sec], which exceeds dtc.\n",
      "└ @ RiskSensitiveSAC /home/kang/DRC_Project/DRC_Trajectron/src/evaluation.jl:300\n"
     ]
    },
    {
     "name": "stderr",
     "output_type": "stream",
     "text": [
      "┌ Warning: Time 6.30 [sec]: This evaluation iteration took 0.09 [sec], which exceeds dtc.\n",
      "└ @ RiskSensitiveSAC /home/kang/DRC_Project/DRC_Trajectron/src/evaluation.jl:300\n"
     ]
    },
    {
     "name": "stderr",
     "output_type": "stream",
     "text": [
      "┌ Warning: Time 6.40 [sec]: This evaluation iteration took 0.09 [sec], which exceeds dtc.\n",
      "└ @ RiskSensitiveSAC /home/kang/DRC_Project/DRC_Trajectron/src/evaluation.jl:300\n"
     ]
    },
    {
     "name": "stderr",
     "output_type": "stream",
     "text": [
      "┌ Warning: Time 6.50 [sec]: This evaluation iteration took 0.096 [sec], which exceeds dtc.\n",
      "└ @ RiskSensitiveSAC /home/kang/DRC_Project/DRC_Trajectron/src/evaluation.jl:300\n"
     ]
    },
    {
     "name": "stderr",
     "output_type": "stream",
     "text": [
      "┌ Warning: Time 6.60 [sec]: This evaluation iteration took 0.089 [sec], which exceeds dtc.\n",
      "└ @ RiskSensitiveSAC /home/kang/DRC_Project/DRC_Trajectron/src/evaluation.jl:300\n"
     ]
    },
    {
     "name": "stderr",
     "output_type": "stream",
     "text": [
      "┌ Warning: Time 6.70 [sec]: This evaluation iteration took 0.09 [sec], which exceeds dtc.\n",
      "└ @ RiskSensitiveSAC /home/kang/DRC_Project/DRC_Trajectron/src/evaluation.jl:300\n"
     ]
    },
    {
     "name": "stderr",
     "output_type": "stream",
     "text": [
      "┌ Warning: Time 6.80 [sec]: This evaluation iteration took 0.09 [sec], which exceeds dtc.\n",
      "└ @ RiskSensitiveSAC /home/kang/DRC_Project/DRC_Trajectron/src/evaluation.jl:300\n"
     ]
    },
    {
     "name": "stderr",
     "output_type": "stream",
     "text": [
      "┌ Warning: Time 6.90 [sec]: This evaluation iteration took 0.09 [sec], which exceeds dtc.\n",
      "└ @ RiskSensitiveSAC /home/kang/DRC_Project/DRC_Trajectron/src/evaluation.jl:300\n"
     ]
    },
    {
     "name": "stderr",
     "output_type": "stream",
     "text": [
      "┌ Warning: Time 7.00 [sec]: SAC computation took 0.14 [sec], which exceeds the maximum computation time allowed.\n",
      "└ @ RiskSensitiveSAC /home/kang/DRC_Project/DRC_Trajectron/src/rs_sac_controller.jl:733\n",
      "┌ Warning: Time 7.00 [sec]: This evaluation iteration took 0.14 [sec], which exceeds dtc.\n",
      "└ @ RiskSensitiveSAC /home/kang/DRC_Project/DRC_Trajectron/src/evaluation.jl:300\n"
     ]
    },
    {
     "name": "stderr",
     "output_type": "stream",
     "text": [
      "┌ Warning: Time 7.10 [sec]: This evaluation iteration took 0.089 [sec], which exceeds dtc.\n",
      "└ @ RiskSensitiveSAC /home/kang/DRC_Project/DRC_Trajectron/src/evaluation.jl:300\n"
     ]
    },
    {
     "name": "stderr",
     "output_type": "stream",
     "text": [
      "┌ Warning: Time 7.20 [sec]: This evaluation iteration took 0.088 [sec], which exceeds dtc.\n",
      "└ @ RiskSensitiveSAC /home/kang/DRC_Project/DRC_Trajectron/src/evaluation.jl:300\n"
     ]
    },
    {
     "name": "stderr",
     "output_type": "stream",
     "text": [
      "┌ Warning: Time 7.30 [sec]: This evaluation iteration took 0.09 [sec], which exceeds dtc.\n",
      "└ @ RiskSensitiveSAC /home/kang/DRC_Project/DRC_Trajectron/src/evaluation.jl:300\n"
     ]
    },
    {
     "name": "stderr",
     "output_type": "stream",
     "text": [
      "┌ Warning: Time 7.40 [sec]: This evaluation iteration took 0.087 [sec], which exceeds dtc.\n",
      "└ @ RiskSensitiveSAC /home/kang/DRC_Project/DRC_Trajectron/src/evaluation.jl:300\n"
     ]
    },
    {
     "name": "stderr",
     "output_type": "stream",
     "text": [
      "┌ Warning: Time 7.50 [sec]: SAC computation took 0.11 [sec], which exceeds the maximum computation time allowed.\n",
      "└ @ RiskSensitiveSAC /home/kang/DRC_Project/DRC_Trajectron/src/rs_sac_controller.jl:733\n",
      "┌ Warning: Time 7.50 [sec]: This evaluation iteration took 0.11 [sec], which exceeds dtc.\n",
      "└ @ RiskSensitiveSAC /home/kang/DRC_Project/DRC_Trajectron/src/evaluation.jl:300\n"
     ]
    },
    {
     "name": "stderr",
     "output_type": "stream",
     "text": [
      "┌ Warning: Time 7.60 [sec]: SAC computation took 0.113 [sec], which exceeds the maximum computation time allowed.\n",
      "└ @ RiskSensitiveSAC /home/kang/DRC_Project/DRC_Trajectron/src/rs_sac_controller.jl:733\n",
      "┌ Warning: Time 7.60 [sec]: This evaluation iteration took 0.114 [sec], which exceeds dtc.\n",
      "└ @ RiskSensitiveSAC /home/kang/DRC_Project/DRC_Trajectron/src/evaluation.jl:300\n"
     ]
    },
    {
     "name": "stderr",
     "output_type": "stream",
     "text": [
      "┌ Warning: Time 7.70 [sec]: SAC computation took 0.114 [sec], which exceeds the maximum computation time allowed.\n",
      "└ @ RiskSensitiveSAC /home/kang/DRC_Project/DRC_Trajectron/src/rs_sac_controller.jl:733\n",
      "┌ Warning: Time 7.70 [sec]: This evaluation iteration took 0.114 [sec], which exceeds dtc.\n",
      "└ @ RiskSensitiveSAC /home/kang/DRC_Project/DRC_Trajectron/src/evaluation.jl:300\n"
     ]
    },
    {
     "name": "stderr",
     "output_type": "stream",
     "text": [
      "┌ Warning: Time 7.80 [sec]: SAC computation took 0.114 [sec], which exceeds the maximum computation time allowed.\n",
      "└ @ RiskSensitiveSAC /home/kang/DRC_Project/DRC_Trajectron/src/rs_sac_controller.jl:733\n",
      "┌ Warning: Time 7.80 [sec]: This evaluation iteration took 0.115 [sec], which exceeds dtc.\n",
      "└ @ RiskSensitiveSAC /home/kang/DRC_Project/DRC_Trajectron/src/evaluation.jl:300\n"
     ]
    },
    {
     "name": "stderr",
     "output_type": "stream",
     "text": [
      "┌ Warning: Time 7.90 [sec]: SAC computation took 0.115 [sec], which exceeds the maximum computation time allowed.\n",
      "└ @ RiskSensitiveSAC /home/kang/DRC_Project/DRC_Trajectron/src/rs_sac_controller.jl:733\n",
      "┌ Warning: Time 7.90 [sec]: This evaluation iteration took 0.115 [sec], which exceeds dtc.\n",
      "└ @ RiskSensitiveSAC /home/kang/DRC_Project/DRC_Trajectron/src/evaluation.jl:300\n"
     ]
    },
    {
     "name": "stderr",
     "output_type": "stream",
     "text": [
      "┌ Warning: Time 8.00 [sec]: SAC computation took 0.111 [sec], which exceeds the maximum computation time allowed.\n",
      "└ @ RiskSensitiveSAC /home/kang/DRC_Project/DRC_Trajectron/src/rs_sac_controller.jl:733\n",
      "┌ Warning: Time 8.00 [sec]: This evaluation iteration took 0.112 [sec], which exceeds dtc.\n",
      "└ @ RiskSensitiveSAC /home/kang/DRC_Project/DRC_Trajectron/src/evaluation.jl:300\n"
     ]
    },
    {
     "name": "stderr",
     "output_type": "stream",
     "text": [
      "┌ Warning: Time 8.10 [sec]: SAC computation took 0.104 [sec], which exceeds the maximum computation time allowed.\n",
      "└ @ RiskSensitiveSAC /home/kang/DRC_Project/DRC_Trajectron/src/rs_sac_controller.jl:733\n",
      "┌ Warning: Time 8.10 [sec]: This evaluation iteration took 0.104 [sec], which exceeds dtc.\n",
      "└ @ RiskSensitiveSAC /home/kang/DRC_Project/DRC_Trajectron/src/evaluation.jl:300\n"
     ]
    },
    {
     "name": "stderr",
     "output_type": "stream",
     "text": [
      "┌ Warning: Time 8.20 [sec]: SAC computation took 0.101 [sec], which exceeds the maximum computation time allowed.\n",
      "└ @ RiskSensitiveSAC /home/kang/DRC_Project/DRC_Trajectron/src/rs_sac_controller.jl:733\n",
      "┌ Warning: Time 8.20 [sec]: This evaluation iteration took 0.102 [sec], which exceeds dtc.\n",
      "└ @ RiskSensitiveSAC /home/kang/DRC_Project/DRC_Trajectron/src/evaluation.jl:300\n"
     ]
    },
    {
     "name": "stderr",
     "output_type": "stream",
     "text": [
      "┌ Warning: Time 8.30 [sec]: SAC computation took 0.115 [sec], which exceeds the maximum computation time allowed.\n",
      "└ @ RiskSensitiveSAC /home/kang/DRC_Project/DRC_Trajectron/src/rs_sac_controller.jl:733\n",
      "┌ Warning: Time 8.30 [sec]: This evaluation iteration took 0.116 [sec], which exceeds dtc.\n",
      "└ @ RiskSensitiveSAC /home/kang/DRC_Project/DRC_Trajectron/src/evaluation.jl:300\n"
     ]
    },
    {
     "name": "stderr",
     "output_type": "stream",
     "text": [
      "┌ Warning: Time 8.40 [sec]: SAC computation took 0.117 [sec], which exceeds the maximum computation time allowed.\n",
      "└ @ RiskSensitiveSAC /home/kang/DRC_Project/DRC_Trajectron/src/rs_sac_controller.jl:733\n",
      "┌ Warning: Time 8.40 [sec]: This evaluation iteration took 0.118 [sec], which exceeds dtc.\n",
      "└ @ RiskSensitiveSAC /home/kang/DRC_Project/DRC_Trajectron/src/evaluation.jl:300\n"
     ]
    },
    {
     "name": "stderr",
     "output_type": "stream",
     "text": [
      "┌ Warning: Time 8.50 [sec]: SAC computation took 0.117 [sec], which exceeds the maximum computation time allowed.\n",
      "└ @ RiskSensitiveSAC /home/kang/DRC_Project/DRC_Trajectron/src/rs_sac_controller.jl:733\n",
      "┌ Warning: Time 8.50 [sec]: This evaluation iteration took 0.118 [sec], which exceeds dtc.\n",
      "└ @ RiskSensitiveSAC /home/kang/DRC_Project/DRC_Trajectron/src/evaluation.jl:300\n"
     ]
    },
    {
     "name": "stderr",
     "output_type": "stream",
     "text": [
      "┌ Warning: Time 8.60 [sec]: SAC computation took 0.131 [sec], which exceeds the maximum computation time allowed.\n",
      "└ @ RiskSensitiveSAC /home/kang/DRC_Project/DRC_Trajectron/src/rs_sac_controller.jl:733\n",
      "┌ Warning: Time 8.60 [sec]: This evaluation iteration took 0.132 [sec], which exceeds dtc.\n",
      "└ @ RiskSensitiveSAC /home/kang/DRC_Project/DRC_Trajectron/src/evaluation.jl:300\n"
     ]
    },
    {
     "name": "stderr",
     "output_type": "stream",
     "text": [
      "┌ Warning: Time 8.70 [sec]: SAC computation took 0.123 [sec], which exceeds the maximum computation time allowed.\n",
      "└ @ RiskSensitiveSAC /home/kang/DRC_Project/DRC_Trajectron/src/rs_sac_controller.jl:733\n",
      "┌ Warning: Time 8.70 [sec]: This evaluation iteration took 0.124 [sec], which exceeds dtc.\n",
      "└ @ RiskSensitiveSAC /home/kang/DRC_Project/DRC_Trajectron/src/evaluation.jl:300\n"
     ]
    },
    {
     "name": "stderr",
     "output_type": "stream",
     "text": [
      "┌ Warning: Time 8.80 [sec]: SAC computation took 0.121 [sec], which exceeds the maximum computation time allowed.\n",
      "└ @ RiskSensitiveSAC /home/kang/DRC_Project/DRC_Trajectron/src/rs_sac_controller.jl:733\n",
      "┌ Warning: Time 8.80 [sec]: This evaluation iteration took 0.122 [sec], which exceeds dtc.\n",
      "└ @ RiskSensitiveSAC /home/kang/DRC_Project/DRC_Trajectron/src/evaluation.jl:300\n"
     ]
    },
    {
     "name": "stderr",
     "output_type": "stream",
     "text": [
      "┌ Warning: Time 8.90 [sec]: SAC computation took 0.123 [sec], which exceeds the maximum computation time allowed.\n",
      "└ @ RiskSensitiveSAC /home/kang/DRC_Project/DRC_Trajectron/src/rs_sac_controller.jl:733\n",
      "┌ Warning: Time 8.90 [sec]: This evaluation iteration took 0.124 [sec], which exceeds dtc.\n",
      "└ @ RiskSensitiveSAC /home/kang/DRC_Project/DRC_Trajectron/src/evaluation.jl:300\n"
     ]
    },
    {
     "name": "stderr",
     "output_type": "stream",
     "text": [
      "┌ Warning: Time 9.00 [sec]: SAC computation took 0.265 [sec], which exceeds the maximum computation time allowed.\n",
      "└ @ RiskSensitiveSAC /home/kang/DRC_Project/DRC_Trajectron/src/rs_sac_controller.jl:733\n",
      "┌ Warning: Time 9.00 [sec]: This evaluation iteration took 0.266 [sec], which exceeds dtc.\n",
      "└ @ RiskSensitiveSAC /home/kang/DRC_Project/DRC_Trajectron/src/evaluation.jl:300\n"
     ]
    },
    {
     "name": "stderr",
     "output_type": "stream",
     "text": [
      "┌ Warning: Time 9.10 [sec]: This evaluation iteration took 0.1 [sec], which exceeds dtc.\n",
      "└ @ RiskSensitiveSAC /home/kang/DRC_Project/DRC_Trajectron/src/evaluation.jl:300\n"
     ]
    },
    {
     "name": "stderr",
     "output_type": "stream",
     "text": [
      "┌ Warning: Time 9.20 [sec]: SAC computation took 0.125 [sec], which exceeds the maximum computation time allowed.\n",
      "└ @ RiskSensitiveSAC /home/kang/DRC_Project/DRC_Trajectron/src/rs_sac_controller.jl:733\n",
      "┌ Warning: Time 9.20 [sec]: This evaluation iteration took 0.126 [sec], which exceeds dtc.\n",
      "└ @ RiskSensitiveSAC /home/kang/DRC_Project/DRC_Trajectron/src/evaluation.jl:300\n"
     ]
    },
    {
     "name": "stderr",
     "output_type": "stream",
     "text": [
      "┌ Warning: Time 9.30 [sec]: SAC computation took 0.121 [sec], which exceeds the maximum computation time allowed.\n",
      "└ @ RiskSensitiveSAC /home/kang/DRC_Project/DRC_Trajectron/src/rs_sac_controller.jl:733\n",
      "┌ Warning: Time 9.30 [sec]: This evaluation iteration took 0.122 [sec], which exceeds dtc.\n",
      "└ @ RiskSensitiveSAC /home/kang/DRC_Project/DRC_Trajectron/src/evaluation.jl:300\n"
     ]
    },
    {
     "name": "stderr",
     "output_type": "stream",
     "text": [
      "┌ Warning: Time 9.40 [sec]: SAC computation took 0.115 [sec], which exceeds the maximum computation time allowed.\n",
      "└ @ RiskSensitiveSAC /home/kang/DRC_Project/DRC_Trajectron/src/rs_sac_controller.jl:733\n",
      "┌ Warning: Time 9.40 [sec]: This evaluation iteration took 0.116 [sec], which exceeds dtc.\n",
      "└ @ RiskSensitiveSAC /home/kang/DRC_Project/DRC_Trajectron/src/evaluation.jl:300\n"
     ]
    },
    {
     "name": "stderr",
     "output_type": "stream",
     "text": [
      "┌ Warning: Time 9.50 [sec]: SAC computation took 0.119 [sec], which exceeds the maximum computation time allowed.\n",
      "└ @ RiskSensitiveSAC /home/kang/DRC_Project/DRC_Trajectron/src/rs_sac_controller.jl:733\n",
      "┌ Warning: Time 9.50 [sec]: This evaluation iteration took 0.12 [sec], which exceeds dtc.\n",
      "└ @ RiskSensitiveSAC /home/kang/DRC_Project/DRC_Trajectron/src/evaluation.jl:300\n"
     ]
    },
    {
     "name": "stderr",
     "output_type": "stream",
     "text": [
      "┌ Warning: Time 9.60 [sec]: SAC computation took 0.113 [sec], which exceeds the maximum computation time allowed.\n",
      "└ @ RiskSensitiveSAC /home/kang/DRC_Project/DRC_Trajectron/src/rs_sac_controller.jl:733\n",
      "┌ Warning: Time 9.60 [sec]: This evaluation iteration took 0.114 [sec], which exceeds dtc.\n",
      "└ @ RiskSensitiveSAC /home/kang/DRC_Project/DRC_Trajectron/src/evaluation.jl:300\n"
     ]
    },
    {
     "name": "stderr",
     "output_type": "stream",
     "text": [
      "┌ Warning: Time 9.70 [sec]: SAC computation took 0.119 [sec], which exceeds the maximum computation time allowed.\n",
      "└ @ RiskSensitiveSAC /home/kang/DRC_Project/DRC_Trajectron/src/rs_sac_controller.jl:733\n",
      "┌ Warning: Time 9.70 [sec]: This evaluation iteration took 0.12 [sec], which exceeds dtc.\n",
      "└ @ RiskSensitiveSAC /home/kang/DRC_Project/DRC_Trajectron/src/evaluation.jl:300\n"
     ]
    },
    {
     "name": "stderr",
     "output_type": "stream",
     "text": [
      "┌ Warning: Time 9.80 [sec]: SAC computation took 0.133 [sec], which exceeds the maximum computation time allowed.\n",
      "└ @ RiskSensitiveSAC /home/kang/DRC_Project/DRC_Trajectron/src/rs_sac_controller.jl:733\n",
      "┌ Warning: Time 9.80 [sec]: This evaluation iteration took 0.134 [sec], which exceeds dtc.\n",
      "└ @ RiskSensitiveSAC /home/kang/DRC_Project/DRC_Trajectron/src/evaluation.jl:300\n"
     ]
    },
    {
     "name": "stderr",
     "output_type": "stream",
     "text": [
      "┌ Warning: Time 9.90 [sec]: SAC computation took 0.123 [sec], which exceeds the maximum computation time allowed.\n",
      "└ @ RiskSensitiveSAC /home/kang/DRC_Project/DRC_Trajectron/src/rs_sac_controller.jl:733\n",
      "┌ Warning: Time 9.90 [sec]: This evaluation iteration took 0.123 [sec], which exceeds dtc.\n",
      "└ @ RiskSensitiveSAC /home/kang/DRC_Project/DRC_Trajectron/src/evaluation.jl:300\n"
     ]
    },
    {
     "name": "stdout",
     "output_type": "stream",
     "text": [
      "Total Collision: 0, Total Position Cost: 82.38102658532752, Total Control Cost: 1.9762423398205629, Minimum Distance: 1.0639027823061353, Experiment 3: "
     ]
    },
    {
     "name": "stderr",
     "output_type": "stream",
     "text": [
      "┌ Warning: Time 0.00 [sec]: SAC computation took 0.116 [sec], which exceeds the maximum computation time allowed.\n",
      "└ @ RiskSensitiveSAC /home/kang/DRC_Project/DRC_Trajectron/src/rs_sac_controller.jl:733\n"
     ]
    },
    {
     "name": "stderr",
     "output_type": "stream",
     "text": [
      "┌ Warning: Time 0.10 [sec]: This evaluation iteration took 0.096 [sec], which exceeds dtc.\n",
      "└ @ RiskSensitiveSAC /home/kang/DRC_Project/DRC_Trajectron/src/evaluation.jl:300\n"
     ]
    },
    {
     "name": "stderr",
     "output_type": "stream",
     "text": [
      "┌ Warning: Time 0.20 [sec]: This evaluation iteration took 0.091 [sec], which exceeds dtc.\n",
      "└ @ RiskSensitiveSAC /home/kang/DRC_Project/DRC_Trajectron/src/evaluation.jl:300\n"
     ]
    },
    {
     "name": "stderr",
     "output_type": "stream",
     "text": [
      "┌ Warning: Time 0.30 [sec]: This evaluation iteration took 0.096 [sec], which exceeds dtc.\n",
      "└ @ RiskSensitiveSAC /home/kang/DRC_Project/DRC_Trajectron/src/evaluation.jl:300\n"
     ]
    },
    {
     "name": "stderr",
     "output_type": "stream",
     "text": [
      "┌ Warning: Time 0.40 [sec]: This evaluation iteration took 0.092 [sec], which exceeds dtc.\n",
      "└ @ RiskSensitiveSAC /home/kang/DRC_Project/DRC_Trajectron/src/evaluation.jl:300\n"
     ]
    },
    {
     "name": "stderr",
     "output_type": "stream",
     "text": [
      "┌ Warning: Time 0.50 [sec]: This evaluation iteration took 0.09 [sec], which exceeds dtc.\n",
      "└ @ RiskSensitiveSAC /home/kang/DRC_Project/DRC_Trajectron/src/evaluation.jl:300\n"
     ]
    },
    {
     "name": "stderr",
     "output_type": "stream",
     "text": [
      "┌ Warning: Time 0.60 [sec]: This evaluation iteration took 0.089 [sec], which exceeds dtc.\n",
      "└ @ RiskSensitiveSAC /home/kang/DRC_Project/DRC_Trajectron/src/evaluation.jl:300\n"
     ]
    },
    {
     "name": "stderr",
     "output_type": "stream",
     "text": [
      "┌ Warning: Time 0.70 [sec]: This evaluation iteration took 0.086 [sec], which exceeds dtc.\n",
      "└ @ RiskSensitiveSAC /home/kang/DRC_Project/DRC_Trajectron/src/evaluation.jl:300\n"
     ]
    },
    {
     "name": "stderr",
     "output_type": "stream",
     "text": [
      "┌ Warning: Time 0.80 [sec]: SAC computation took 0.115 [sec], which exceeds the maximum computation time allowed.\n",
      "└ @ RiskSensitiveSAC /home/kang/DRC_Project/DRC_Trajectron/src/rs_sac_controller.jl:733\n",
      "┌ Warning: Time 0.80 [sec]: This evaluation iteration took 0.116 [sec], which exceeds dtc.\n",
      "└ @ RiskSensitiveSAC /home/kang/DRC_Project/DRC_Trajectron/src/evaluation.jl:300\n"
     ]
    },
    {
     "name": "stderr",
     "output_type": "stream",
     "text": [
      "┌ Warning: Time 0.90 [sec]: SAC computation took 0.129 [sec], which exceeds the maximum computation time allowed.\n",
      "└ @ RiskSensitiveSAC /home/kang/DRC_Project/DRC_Trajectron/src/rs_sac_controller.jl:733\n",
      "┌ Warning: Time 0.90 [sec]: This evaluation iteration took 0.13 [sec], which exceeds dtc.\n",
      "└ @ RiskSensitiveSAC /home/kang/DRC_Project/DRC_Trajectron/src/evaluation.jl:300\n"
     ]
    },
    {
     "name": "stderr",
     "output_type": "stream",
     "text": [
      "┌ Warning: Time 1.00 [sec]: SAC computation took 0.639 [sec], which exceeds the maximum computation time allowed.\n",
      "└ @ RiskSensitiveSAC /home/kang/DRC_Project/DRC_Trajectron/src/rs_sac_controller.jl:733\n",
      "┌ Warning: Time 1.00 [sec]: This evaluation iteration took 0.64 [sec], which exceeds dtc.\n",
      "└ @ RiskSensitiveSAC /home/kang/DRC_Project/DRC_Trajectron/src/evaluation.jl:300\n"
     ]
    },
    {
     "name": "stderr",
     "output_type": "stream",
     "text": [
      "┌ Warning: Time 1.10 [sec]: SAC computation took 0.113 [sec], which exceeds the maximum computation time allowed.\n",
      "└ @ RiskSensitiveSAC /home/kang/DRC_Project/DRC_Trajectron/src/rs_sac_controller.jl:733\n",
      "┌ Warning: Time 1.10 [sec]: This evaluation iteration took 0.113 [sec], which exceeds dtc.\n",
      "└ @ RiskSensitiveSAC /home/kang/DRC_Project/DRC_Trajectron/src/evaluation.jl:300\n"
     ]
    },
    {
     "name": "stderr",
     "output_type": "stream",
     "text": [
      "┌ Warning: Time 1.20 [sec]: SAC computation took 0.107 [sec], which exceeds the maximum computation time allowed.\n",
      "└ @ RiskSensitiveSAC /home/kang/DRC_Project/DRC_Trajectron/src/rs_sac_controller.jl:733\n",
      "┌ Warning: Time 1.20 [sec]: This evaluation iteration took 0.108 [sec], which exceeds dtc.\n",
      "└ @ RiskSensitiveSAC /home/kang/DRC_Project/DRC_Trajectron/src/evaluation.jl:300\n"
     ]
    },
    {
     "name": "stderr",
     "output_type": "stream",
     "text": [
      "┌ Warning: Time 1.30 [sec]: SAC computation took 0.127 [sec], which exceeds the maximum computation time allowed.\n",
      "└ @ RiskSensitiveSAC /home/kang/DRC_Project/DRC_Trajectron/src/rs_sac_controller.jl:733\n",
      "┌ Warning: Time 1.30 [sec]: This evaluation iteration took 0.127 [sec], which exceeds dtc.\n",
      "└ @ RiskSensitiveSAC /home/kang/DRC_Project/DRC_Trajectron/src/evaluation.jl:300\n"
     ]
    },
    {
     "name": "stderr",
     "output_type": "stream",
     "text": [
      "┌ Warning: Time 1.40 [sec]: SAC computation took 0.121 [sec], which exceeds the maximum computation time allowed.\n",
      "└ @ RiskSensitiveSAC /home/kang/DRC_Project/DRC_Trajectron/src/rs_sac_controller.jl:733\n",
      "┌ Warning: Time 1.40 [sec]: This evaluation iteration took 0.122 [sec], which exceeds dtc.\n",
      "└ @ RiskSensitiveSAC /home/kang/DRC_Project/DRC_Trajectron/src/evaluation.jl:300\n"
     ]
    },
    {
     "name": "stderr",
     "output_type": "stream",
     "text": [
      "┌ Warning: Time 1.50 [sec]: SAC computation took 0.116 [sec], which exceeds the maximum computation time allowed.\n",
      "└ @ RiskSensitiveSAC /home/kang/DRC_Project/DRC_Trajectron/src/rs_sac_controller.jl:733\n",
      "┌ Warning: Time 1.50 [sec]: This evaluation iteration took 0.117 [sec], which exceeds dtc.\n",
      "└ @ RiskSensitiveSAC /home/kang/DRC_Project/DRC_Trajectron/src/evaluation.jl:300\n"
     ]
    },
    {
     "name": "stderr",
     "output_type": "stream",
     "text": [
      "┌ Warning: Time 1.60 [sec]: This evaluation iteration took 0.086 [sec], which exceeds dtc.\n",
      "└ @ RiskSensitiveSAC /home/kang/DRC_Project/DRC_Trajectron/src/evaluation.jl:300\n"
     ]
    },
    {
     "name": "stderr",
     "output_type": "stream",
     "text": [
      "┌ Warning: Time 1.70 [sec]: This evaluation iteration took 0.09 [sec], which exceeds dtc.\n",
      "└ @ RiskSensitiveSAC /home/kang/DRC_Project/DRC_Trajectron/src/evaluation.jl:300\n"
     ]
    },
    {
     "name": "stderr",
     "output_type": "stream",
     "text": [
      "┌ Warning: Time 1.80 [sec]: This evaluation iteration took 0.091 [sec], which exceeds dtc.\n",
      "└ @ RiskSensitiveSAC /home/kang/DRC_Project/DRC_Trajectron/src/evaluation.jl:300\n"
     ]
    },
    {
     "name": "stderr",
     "output_type": "stream",
     "text": [
      "┌ Warning: Time 1.90 [sec]: This evaluation iteration took 0.091 [sec], which exceeds dtc.\n",
      "└ @ RiskSensitiveSAC /home/kang/DRC_Project/DRC_Trajectron/src/evaluation.jl:300\n"
     ]
    },
    {
     "name": "stderr",
     "output_type": "stream",
     "text": [
      "┌ Warning: Time 2.00 [sec]: This evaluation iteration took 0.091 [sec], which exceeds dtc.\n",
      "└ @ RiskSensitiveSAC /home/kang/DRC_Project/DRC_Trajectron/src/evaluation.jl:300\n"
     ]
    },
    {
     "name": "stderr",
     "output_type": "stream",
     "text": [
      "┌ Warning: Time 2.10 [sec]: SAC computation took 0.116 [sec], which exceeds the maximum computation time allowed.\n",
      "└ @ RiskSensitiveSAC /home/kang/DRC_Project/DRC_Trajectron/src/rs_sac_controller.jl:733\n",
      "┌ Warning: Time 2.10 [sec]: This evaluation iteration took 0.116 [sec], which exceeds dtc.\n",
      "└ @ RiskSensitiveSAC /home/kang/DRC_Project/DRC_Trajectron/src/evaluation.jl:300\n"
     ]
    },
    {
     "name": "stderr",
     "output_type": "stream",
     "text": [
      "┌ Warning: Time 2.20 [sec]: SAC computation took 0.12 [sec], which exceeds the maximum computation time allowed.\n",
      "└ @ RiskSensitiveSAC /home/kang/DRC_Project/DRC_Trajectron/src/rs_sac_controller.jl:733\n",
      "┌ Warning: Time 2.20 [sec]: This evaluation iteration took 0.121 [sec], which exceeds dtc.\n",
      "└ @ RiskSensitiveSAC /home/kang/DRC_Project/DRC_Trajectron/src/evaluation.jl:300\n"
     ]
    },
    {
     "name": "stderr",
     "output_type": "stream",
     "text": [
      "┌ Warning: Time 2.30 [sec]: SAC computation took 0.119 [sec], which exceeds the maximum computation time allowed.\n",
      "└ @ RiskSensitiveSAC /home/kang/DRC_Project/DRC_Trajectron/src/rs_sac_controller.jl:733\n",
      "┌ Warning: Time 2.30 [sec]: This evaluation iteration took 0.119 [sec], which exceeds dtc.\n",
      "└ @ RiskSensitiveSAC /home/kang/DRC_Project/DRC_Trajectron/src/evaluation.jl:300\n"
     ]
    },
    {
     "name": "stderr",
     "output_type": "stream",
     "text": [
      "┌ Warning: Time 2.40 [sec]: SAC computation took 0.126 [sec], which exceeds the maximum computation time allowed.\n",
      "└ @ RiskSensitiveSAC /home/kang/DRC_Project/DRC_Trajectron/src/rs_sac_controller.jl:733\n",
      "┌ Warning: Time 2.40 [sec]: This evaluation iteration took 0.127 [sec], which exceeds dtc.\n",
      "└ @ RiskSensitiveSAC /home/kang/DRC_Project/DRC_Trajectron/src/evaluation.jl:300\n"
     ]
    },
    {
     "name": "stderr",
     "output_type": "stream",
     "text": [
      "┌ Warning: Time 2.50 [sec]: SAC computation took 0.119 [sec], which exceeds the maximum computation time allowed.\n",
      "└ @ RiskSensitiveSAC /home/kang/DRC_Project/DRC_Trajectron/src/rs_sac_controller.jl:733\n",
      "┌ Warning: Time 2.50 [sec]: This evaluation iteration took 0.12 [sec], which exceeds dtc.\n",
      "└ @ RiskSensitiveSAC /home/kang/DRC_Project/DRC_Trajectron/src/evaluation.jl:300\n"
     ]
    },
    {
     "name": "stderr",
     "output_type": "stream",
     "text": [
      "┌ Warning: Time 2.60 [sec]: SAC computation took 0.124 [sec], which exceeds the maximum computation time allowed.\n",
      "└ @ RiskSensitiveSAC /home/kang/DRC_Project/DRC_Trajectron/src/rs_sac_controller.jl:733\n",
      "┌ Warning: Time 2.60 [sec]: This evaluation iteration took 0.125 [sec], which exceeds dtc.\n",
      "└ @ RiskSensitiveSAC /home/kang/DRC_Project/DRC_Trajectron/src/evaluation.jl:300\n"
     ]
    },
    {
     "name": "stderr",
     "output_type": "stream",
     "text": [
      "┌ Warning: Time 2.70 [sec]: SAC computation took 0.119 [sec], which exceeds the maximum computation time allowed.\n",
      "└ @ RiskSensitiveSAC /home/kang/DRC_Project/DRC_Trajectron/src/rs_sac_controller.jl:733\n",
      "┌ Warning: Time 2.70 [sec]: This evaluation iteration took 0.12 [sec], which exceeds dtc.\n",
      "└ @ RiskSensitiveSAC /home/kang/DRC_Project/DRC_Trajectron/src/evaluation.jl:300\n"
     ]
    },
    {
     "name": "stderr",
     "output_type": "stream",
     "text": [
      "┌ Warning: Time 2.80 [sec]: SAC computation took 0.118 [sec], which exceeds the maximum computation time allowed.\n",
      "└ @ RiskSensitiveSAC /home/kang/DRC_Project/DRC_Trajectron/src/rs_sac_controller.jl:733\n",
      "┌ Warning: Time 2.80 [sec]: This evaluation iteration took 0.119 [sec], which exceeds dtc.\n",
      "└ @ RiskSensitiveSAC /home/kang/DRC_Project/DRC_Trajectron/src/evaluation.jl:300\n"
     ]
    },
    {
     "name": "stderr",
     "output_type": "stream",
     "text": [
      "┌ Warning: Time 2.90 [sec]: SAC computation took 0.121 [sec], which exceeds the maximum computation time allowed.\n",
      "└ @ RiskSensitiveSAC /home/kang/DRC_Project/DRC_Trajectron/src/rs_sac_controller.jl:733\n",
      "┌ Warning: Time 2.90 [sec]: This evaluation iteration took 0.121 [sec], which exceeds dtc.\n",
      "└ @ RiskSensitiveSAC /home/kang/DRC_Project/DRC_Trajectron/src/evaluation.jl:300\n"
     ]
    },
    {
     "name": "stderr",
     "output_type": "stream",
     "text": [
      "┌ Warning: Time 3.00 [sec]: SAC computation took 0.182 [sec], which exceeds the maximum computation time allowed.\n",
      "└ @ RiskSensitiveSAC /home/kang/DRC_Project/DRC_Trajectron/src/rs_sac_controller.jl:733\n",
      "┌ Warning: Time 3.00 [sec]: This evaluation iteration took 0.183 [sec], which exceeds dtc.\n",
      "└ @ RiskSensitiveSAC /home/kang/DRC_Project/DRC_Trajectron/src/evaluation.jl:300\n"
     ]
    },
    {
     "name": "stderr",
     "output_type": "stream",
     "text": [
      "┌ Warning: Time 3.10 [sec]: SAC computation took 0.126 [sec], which exceeds the maximum computation time allowed.\n",
      "└ @ RiskSensitiveSAC /home/kang/DRC_Project/DRC_Trajectron/src/rs_sac_controller.jl:733\n",
      "┌ Warning: Time 3.10 [sec]: This evaluation iteration took 0.127 [sec], which exceeds dtc.\n",
      "└ @ RiskSensitiveSAC /home/kang/DRC_Project/DRC_Trajectron/src/evaluation.jl:300\n"
     ]
    },
    {
     "name": "stderr",
     "output_type": "stream",
     "text": [
      "┌ Warning: Time 3.20 [sec]: SAC computation took 0.114 [sec], which exceeds the maximum computation time allowed.\n",
      "└ @ RiskSensitiveSAC /home/kang/DRC_Project/DRC_Trajectron/src/rs_sac_controller.jl:733\n",
      "┌ Warning: Time 3.20 [sec]: This evaluation iteration took 0.115 [sec], which exceeds dtc.\n",
      "└ @ RiskSensitiveSAC /home/kang/DRC_Project/DRC_Trajectron/src/evaluation.jl:300\n"
     ]
    },
    {
     "name": "stderr",
     "output_type": "stream",
     "text": [
      "┌ Warning: Time 3.30 [sec]: SAC computation took 0.133 [sec], which exceeds the maximum computation time allowed.\n",
      "└ @ RiskSensitiveSAC /home/kang/DRC_Project/DRC_Trajectron/src/rs_sac_controller.jl:733\n",
      "┌ Warning: Time 3.30 [sec]: This evaluation iteration took 0.134 [sec], which exceeds dtc.\n",
      "└ @ RiskSensitiveSAC /home/kang/DRC_Project/DRC_Trajectron/src/evaluation.jl:300\n"
     ]
    },
    {
     "name": "stderr",
     "output_type": "stream",
     "text": [
      "┌ Warning: Time 3.40 [sec]: SAC computation took 0.111 [sec], which exceeds the maximum computation time allowed.\n",
      "└ @ RiskSensitiveSAC /home/kang/DRC_Project/DRC_Trajectron/src/rs_sac_controller.jl:733\n",
      "┌ Warning: Time 3.40 [sec]: This evaluation iteration took 0.112 [sec], which exceeds dtc.\n",
      "└ @ RiskSensitiveSAC /home/kang/DRC_Project/DRC_Trajectron/src/evaluation.jl:300\n"
     ]
    },
    {
     "name": "stderr",
     "output_type": "stream",
     "text": [
      "┌ Warning: Time 3.50 [sec]: SAC computation took 0.115 [sec], which exceeds the maximum computation time allowed.\n",
      "└ @ RiskSensitiveSAC /home/kang/DRC_Project/DRC_Trajectron/src/rs_sac_controller.jl:733\n",
      "┌ Warning: Time 3.50 [sec]: This evaluation iteration took 0.115 [sec], which exceeds dtc.\n",
      "└ @ RiskSensitiveSAC /home/kang/DRC_Project/DRC_Trajectron/src/evaluation.jl:300\n"
     ]
    },
    {
     "name": "stderr",
     "output_type": "stream",
     "text": [
      "┌ Warning: Time 3.60 [sec]: SAC computation took 0.115 [sec], which exceeds the maximum computation time allowed.\n",
      "└ @ RiskSensitiveSAC /home/kang/DRC_Project/DRC_Trajectron/src/rs_sac_controller.jl:733\n",
      "┌ Warning: Time 3.60 [sec]: This evaluation iteration took 0.116 [sec], which exceeds dtc.\n",
      "└ @ RiskSensitiveSAC /home/kang/DRC_Project/DRC_Trajectron/src/evaluation.jl:300\n"
     ]
    },
    {
     "name": "stderr",
     "output_type": "stream",
     "text": [
      "┌ Warning: Time 3.70 [sec]: SAC computation took 0.12 [sec], which exceeds the maximum computation time allowed.\n",
      "└ @ RiskSensitiveSAC /home/kang/DRC_Project/DRC_Trajectron/src/rs_sac_controller.jl:733\n",
      "┌ Warning: Time 3.70 [sec]: This evaluation iteration took 0.121 [sec], which exceeds dtc.\n",
      "└ @ RiskSensitiveSAC /home/kang/DRC_Project/DRC_Trajectron/src/evaluation.jl:300\n"
     ]
    },
    {
     "name": "stderr",
     "output_type": "stream",
     "text": [
      "┌ Warning: Time 3.80 [sec]: SAC computation took 0.11 [sec], which exceeds the maximum computation time allowed.\n",
      "└ @ RiskSensitiveSAC /home/kang/DRC_Project/DRC_Trajectron/src/rs_sac_controller.jl:733\n",
      "┌ Warning: Time 3.80 [sec]: This evaluation iteration took 0.111 [sec], which exceeds dtc.\n",
      "└ @ RiskSensitiveSAC /home/kang/DRC_Project/DRC_Trajectron/src/evaluation.jl:300\n"
     ]
    },
    {
     "name": "stderr",
     "output_type": "stream",
     "text": [
      "┌ Warning: Time 3.90 [sec]: This evaluation iteration took 0.091 [sec], which exceeds dtc.\n",
      "└ @ RiskSensitiveSAC /home/kang/DRC_Project/DRC_Trajectron/src/evaluation.jl:300\n"
     ]
    },
    {
     "name": "stderr",
     "output_type": "stream",
     "text": [
      "┌ Warning: Time 4.00 [sec]: SAC computation took 0.117 [sec], which exceeds the maximum computation time allowed.\n",
      "└ @ RiskSensitiveSAC /home/kang/DRC_Project/DRC_Trajectron/src/rs_sac_controller.jl:733\n",
      "┌ Warning: Time 4.00 [sec]: This evaluation iteration took 0.119 [sec], which exceeds dtc.\n",
      "└ @ RiskSensitiveSAC /home/kang/DRC_Project/DRC_Trajectron/src/evaluation.jl:300\n"
     ]
    },
    {
     "name": "stderr",
     "output_type": "stream",
     "text": [
      "┌ Warning: Time 4.10 [sec]: SAC computation took 0.11 [sec], which exceeds the maximum computation time allowed.\n",
      "└ @ RiskSensitiveSAC /home/kang/DRC_Project/DRC_Trajectron/src/rs_sac_controller.jl:733\n",
      "┌ Warning: Time 4.10 [sec]: This evaluation iteration took 0.111 [sec], which exceeds dtc.\n",
      "└ @ RiskSensitiveSAC /home/kang/DRC_Project/DRC_Trajectron/src/evaluation.jl:300\n"
     ]
    },
    {
     "name": "stderr",
     "output_type": "stream",
     "text": [
      "┌ Warning: Time 4.20 [sec]: SAC computation took 0.159 [sec], which exceeds the maximum computation time allowed.\n",
      "└ @ RiskSensitiveSAC /home/kang/DRC_Project/DRC_Trajectron/src/rs_sac_controller.jl:733\n",
      "┌ Warning: Time 4.20 [sec]: This evaluation iteration took 0.16 [sec], which exceeds dtc.\n",
      "└ @ RiskSensitiveSAC /home/kang/DRC_Project/DRC_Trajectron/src/evaluation.jl:300\n"
     ]
    },
    {
     "name": "stderr",
     "output_type": "stream",
     "text": [
      "┌ Warning: Time 4.30 [sec]: SAC computation took 0.115 [sec], which exceeds the maximum computation time allowed.\n",
      "└ @ RiskSensitiveSAC /home/kang/DRC_Project/DRC_Trajectron/src/rs_sac_controller.jl:733\n",
      "┌ Warning: Time 4.30 [sec]: This evaluation iteration took 0.116 [sec], which exceeds dtc.\n",
      "└ @ RiskSensitiveSAC /home/kang/DRC_Project/DRC_Trajectron/src/evaluation.jl:300\n"
     ]
    },
    {
     "name": "stderr",
     "output_type": "stream",
     "text": [
      "┌ Warning: Time 4.40 [sec]: SAC computation took 0.108 [sec], which exceeds the maximum computation time allowed.\n",
      "└ @ RiskSensitiveSAC /home/kang/DRC_Project/DRC_Trajectron/src/rs_sac_controller.jl:733\n",
      "┌ Warning: Time 4.40 [sec]: This evaluation iteration took 0.108 [sec], which exceeds dtc.\n",
      "└ @ RiskSensitiveSAC /home/kang/DRC_Project/DRC_Trajectron/src/evaluation.jl:300\n"
     ]
    },
    {
     "name": "stderr",
     "output_type": "stream",
     "text": [
      "┌ Warning: Time 4.50 [sec]: SAC computation took 0.109 [sec], which exceeds the maximum computation time allowed.\n",
      "└ @ RiskSensitiveSAC /home/kang/DRC_Project/DRC_Trajectron/src/rs_sac_controller.jl:733\n",
      "┌ Warning: Time 4.50 [sec]: This evaluation iteration took 0.11 [sec], which exceeds dtc.\n",
      "└ @ RiskSensitiveSAC /home/kang/DRC_Project/DRC_Trajectron/src/evaluation.jl:300\n"
     ]
    },
    {
     "name": "stderr",
     "output_type": "stream",
     "text": [
      "┌ Warning: Time 4.60 [sec]: SAC computation took 0.109 [sec], which exceeds the maximum computation time allowed.\n",
      "└ @ RiskSensitiveSAC /home/kang/DRC_Project/DRC_Trajectron/src/rs_sac_controller.jl:733\n",
      "┌ Warning: Time 4.60 [sec]: This evaluation iteration took 0.11 [sec], which exceeds dtc.\n",
      "└ @ RiskSensitiveSAC /home/kang/DRC_Project/DRC_Trajectron/src/evaluation.jl:300\n"
     ]
    },
    {
     "name": "stderr",
     "output_type": "stream",
     "text": [
      "┌ Warning: Time 4.70 [sec]: SAC computation took 0.105 [sec], which exceeds the maximum computation time allowed.\n",
      "└ @ RiskSensitiveSAC /home/kang/DRC_Project/DRC_Trajectron/src/rs_sac_controller.jl:733\n",
      "┌ Warning: Time 4.70 [sec]: This evaluation iteration took 0.105 [sec], which exceeds dtc.\n",
      "└ @ RiskSensitiveSAC /home/kang/DRC_Project/DRC_Trajectron/src/evaluation.jl:300\n"
     ]
    },
    {
     "name": "stderr",
     "output_type": "stream",
     "text": [
      "┌ Warning: Time 4.80 [sec]: SAC computation took 0.107 [sec], which exceeds the maximum computation time allowed.\n",
      "└ @ RiskSensitiveSAC /home/kang/DRC_Project/DRC_Trajectron/src/rs_sac_controller.jl:733\n",
      "┌ Warning: Time 4.80 [sec]: This evaluation iteration took 0.108 [sec], which exceeds dtc.\n",
      "└ @ RiskSensitiveSAC /home/kang/DRC_Project/DRC_Trajectron/src/evaluation.jl:300\n"
     ]
    },
    {
     "name": "stderr",
     "output_type": "stream",
     "text": [
      "┌ Warning: Time 4.90 [sec]: SAC computation took 0.113 [sec], which exceeds the maximum computation time allowed.\n",
      "└ @ RiskSensitiveSAC /home/kang/DRC_Project/DRC_Trajectron/src/rs_sac_controller.jl:733\n",
      "┌ Warning: Time 4.90 [sec]: This evaluation iteration took 0.114 [sec], which exceeds dtc.\n",
      "└ @ RiskSensitiveSAC /home/kang/DRC_Project/DRC_Trajectron/src/evaluation.jl:300\n"
     ]
    },
    {
     "name": "stderr",
     "output_type": "stream",
     "text": [
      "┌ Warning: Time 5.00 [sec]: SAC computation took 0.11 [sec], which exceeds the maximum computation time allowed.\n",
      "└ @ RiskSensitiveSAC /home/kang/DRC_Project/DRC_Trajectron/src/rs_sac_controller.jl:733\n",
      "┌ Warning: Time 5.00 [sec]: This evaluation iteration took 0.11 [sec], which exceeds dtc.\n",
      "└ @ RiskSensitiveSAC /home/kang/DRC_Project/DRC_Trajectron/src/evaluation.jl:300\n"
     ]
    },
    {
     "name": "stderr",
     "output_type": "stream",
     "text": [
      "┌ Warning: Time 5.10 [sec]: SAC computation took 0.111 [sec], which exceeds the maximum computation time allowed.\n",
      "└ @ RiskSensitiveSAC /home/kang/DRC_Project/DRC_Trajectron/src/rs_sac_controller.jl:733\n",
      "┌ Warning: Time 5.10 [sec]: This evaluation iteration took 0.111 [sec], which exceeds dtc.\n",
      "└ @ RiskSensitiveSAC /home/kang/DRC_Project/DRC_Trajectron/src/evaluation.jl:300\n"
     ]
    },
    {
     "name": "stderr",
     "output_type": "stream",
     "text": [
      "┌ Warning: Time 5.20 [sec]: SAC computation took 0.11 [sec], which exceeds the maximum computation time allowed.\n",
      "└ @ RiskSensitiveSAC /home/kang/DRC_Project/DRC_Trajectron/src/rs_sac_controller.jl:733\n",
      "┌ Warning: Time 5.20 [sec]: This evaluation iteration took 0.111 [sec], which exceeds dtc.\n",
      "└ @ RiskSensitiveSAC /home/kang/DRC_Project/DRC_Trajectron/src/evaluation.jl:300\n"
     ]
    },
    {
     "name": "stderr",
     "output_type": "stream",
     "text": [
      "┌ Warning: Time 5.30 [sec]: SAC computation took 0.107 [sec], which exceeds the maximum computation time allowed.\n",
      "└ @ RiskSensitiveSAC /home/kang/DRC_Project/DRC_Trajectron/src/rs_sac_controller.jl:733\n",
      "┌ Warning: Time 5.30 [sec]: This evaluation iteration took 0.107 [sec], which exceeds dtc.\n",
      "└ @ RiskSensitiveSAC /home/kang/DRC_Project/DRC_Trajectron/src/evaluation.jl:300\n"
     ]
    },
    {
     "name": "stderr",
     "output_type": "stream",
     "text": [
      "┌ Warning: Time 5.40 [sec]: SAC computation took 0.16 [sec], which exceeds the maximum computation time allowed.\n",
      "└ @ RiskSensitiveSAC /home/kang/DRC_Project/DRC_Trajectron/src/rs_sac_controller.jl:733\n",
      "┌ Warning: Time 5.40 [sec]: This evaluation iteration took 0.161 [sec], which exceeds dtc.\n",
      "└ @ RiskSensitiveSAC /home/kang/DRC_Project/DRC_Trajectron/src/evaluation.jl:300\n"
     ]
    },
    {
     "name": "stderr",
     "output_type": "stream",
     "text": [
      "┌ Warning: Time 5.50 [sec]: SAC computation took 0.116 [sec], which exceeds the maximum computation time allowed.\n",
      "└ @ RiskSensitiveSAC /home/kang/DRC_Project/DRC_Trajectron/src/rs_sac_controller.jl:733\n",
      "┌ Warning: Time 5.50 [sec]: This evaluation iteration took 0.117 [sec], which exceeds dtc.\n",
      "└ @ RiskSensitiveSAC /home/kang/DRC_Project/DRC_Trajectron/src/evaluation.jl:300\n"
     ]
    },
    {
     "name": "stderr",
     "output_type": "stream",
     "text": [
      "┌ Warning: Time 5.60 [sec]: SAC computation took 0.113 [sec], which exceeds the maximum computation time allowed.\n",
      "└ @ RiskSensitiveSAC /home/kang/DRC_Project/DRC_Trajectron/src/rs_sac_controller.jl:733\n",
      "┌ Warning: Time 5.60 [sec]: This evaluation iteration took 0.114 [sec], which exceeds dtc.\n",
      "└ @ RiskSensitiveSAC /home/kang/DRC_Project/DRC_Trajectron/src/evaluation.jl:300\n"
     ]
    },
    {
     "name": "stderr",
     "output_type": "stream",
     "text": [
      "┌ Warning: Time 5.70 [sec]: SAC computation took 0.118 [sec], which exceeds the maximum computation time allowed.\n",
      "└ @ RiskSensitiveSAC /home/kang/DRC_Project/DRC_Trajectron/src/rs_sac_controller.jl:733\n",
      "┌ Warning: Time 5.70 [sec]: This evaluation iteration took 0.119 [sec], which exceeds dtc.\n",
      "└ @ RiskSensitiveSAC /home/kang/DRC_Project/DRC_Trajectron/src/evaluation.jl:300\n"
     ]
    },
    {
     "name": "stderr",
     "output_type": "stream",
     "text": [
      "┌ Warning: Time 5.80 [sec]: SAC computation took 0.113 [sec], which exceeds the maximum computation time allowed.\n",
      "└ @ RiskSensitiveSAC /home/kang/DRC_Project/DRC_Trajectron/src/rs_sac_controller.jl:733\n",
      "┌ Warning: Time 5.80 [sec]: This evaluation iteration took 0.114 [sec], which exceeds dtc.\n",
      "└ @ RiskSensitiveSAC /home/kang/DRC_Project/DRC_Trajectron/src/evaluation.jl:300\n"
     ]
    },
    {
     "name": "stderr",
     "output_type": "stream",
     "text": [
      "┌ Warning: Time 5.90 [sec]: SAC computation took 0.127 [sec], which exceeds the maximum computation time allowed.\n",
      "└ @ RiskSensitiveSAC /home/kang/DRC_Project/DRC_Trajectron/src/rs_sac_controller.jl:733\n",
      "┌ Warning: Time 5.90 [sec]: This evaluation iteration took 0.128 [sec], which exceeds dtc.\n",
      "└ @ RiskSensitiveSAC /home/kang/DRC_Project/DRC_Trajectron/src/evaluation.jl:300\n"
     ]
    },
    {
     "name": "stderr",
     "output_type": "stream",
     "text": [
      "┌ Warning: Time 6.00 [sec]: SAC computation took 0.108 [sec], which exceeds the maximum computation time allowed.\n",
      "└ @ RiskSensitiveSAC /home/kang/DRC_Project/DRC_Trajectron/src/rs_sac_controller.jl:733\n",
      "┌ Warning: Time 6.00 [sec]: This evaluation iteration took 0.109 [sec], which exceeds dtc.\n",
      "└ @ RiskSensitiveSAC /home/kang/DRC_Project/DRC_Trajectron/src/evaluation.jl:300\n"
     ]
    },
    {
     "name": "stderr",
     "output_type": "stream",
     "text": [
      "┌ Warning: Time 6.10 [sec]: SAC computation took 0.114 [sec], which exceeds the maximum computation time allowed.\n",
      "└ @ RiskSensitiveSAC /home/kang/DRC_Project/DRC_Trajectron/src/rs_sac_controller.jl:733\n",
      "┌ Warning: Time 6.10 [sec]: This evaluation iteration took 0.115 [sec], which exceeds dtc.\n",
      "└ @ RiskSensitiveSAC /home/kang/DRC_Project/DRC_Trajectron/src/evaluation.jl:300\n"
     ]
    },
    {
     "name": "stderr",
     "output_type": "stream",
     "text": [
      "┌ Warning: Time 6.20 [sec]: SAC computation took 0.117 [sec], which exceeds the maximum computation time allowed.\n",
      "└ @ RiskSensitiveSAC /home/kang/DRC_Project/DRC_Trajectron/src/rs_sac_controller.jl:733\n",
      "┌ Warning: Time 6.20 [sec]: This evaluation iteration took 0.118 [sec], which exceeds dtc.\n",
      "└ @ RiskSensitiveSAC /home/kang/DRC_Project/DRC_Trajectron/src/evaluation.jl:300\n"
     ]
    },
    {
     "name": "stderr",
     "output_type": "stream",
     "text": [
      "┌ Warning: Time 6.30 [sec]: SAC computation took 0.111 [sec], which exceeds the maximum computation time allowed.\n",
      "└ @ RiskSensitiveSAC /home/kang/DRC_Project/DRC_Trajectron/src/rs_sac_controller.jl:733\n",
      "┌ Warning: Time 6.30 [sec]: This evaluation iteration took 0.111 [sec], which exceeds dtc.\n",
      "└ @ RiskSensitiveSAC /home/kang/DRC_Project/DRC_Trajectron/src/evaluation.jl:300\n"
     ]
    },
    {
     "name": "stderr",
     "output_type": "stream",
     "text": [
      "┌ Warning: Time 6.40 [sec]: SAC computation took 0.121 [sec], which exceeds the maximum computation time allowed.\n",
      "└ @ RiskSensitiveSAC /home/kang/DRC_Project/DRC_Trajectron/src/rs_sac_controller.jl:733\n",
      "┌ Warning: Time 6.40 [sec]: This evaluation iteration took 0.122 [sec], which exceeds dtc.\n",
      "└ @ RiskSensitiveSAC /home/kang/DRC_Project/DRC_Trajectron/src/evaluation.jl:300\n"
     ]
    },
    {
     "name": "stderr",
     "output_type": "stream",
     "text": [
      "┌ Warning: Time 6.50 [sec]: SAC computation took 0.117 [sec], which exceeds the maximum computation time allowed.\n",
      "└ @ RiskSensitiveSAC /home/kang/DRC_Project/DRC_Trajectron/src/rs_sac_controller.jl:733\n",
      "┌ Warning: Time 6.50 [sec]: This evaluation iteration took 0.117 [sec], which exceeds dtc.\n",
      "└ @ RiskSensitiveSAC /home/kang/DRC_Project/DRC_Trajectron/src/evaluation.jl:300\n"
     ]
    },
    {
     "name": "stderr",
     "output_type": "stream",
     "text": [
      "┌ Warning: Time 6.60 [sec]: SAC computation took 0.154 [sec], which exceeds the maximum computation time allowed.\n",
      "└ @ RiskSensitiveSAC /home/kang/DRC_Project/DRC_Trajectron/src/rs_sac_controller.jl:733\n",
      "┌ Warning: Time 6.60 [sec]: This evaluation iteration took 0.154 [sec], which exceeds dtc.\n",
      "└ @ RiskSensitiveSAC /home/kang/DRC_Project/DRC_Trajectron/src/evaluation.jl:300\n"
     ]
    },
    {
     "name": "stderr",
     "output_type": "stream",
     "text": [
      "┌ Warning: Time 6.70 [sec]: SAC computation took 0.114 [sec], which exceeds the maximum computation time allowed.\n",
      "└ @ RiskSensitiveSAC /home/kang/DRC_Project/DRC_Trajectron/src/rs_sac_controller.jl:733\n",
      "┌ Warning: Time 6.70 [sec]: This evaluation iteration took 0.115 [sec], which exceeds dtc.\n",
      "└ @ RiskSensitiveSAC /home/kang/DRC_Project/DRC_Trajectron/src/evaluation.jl:300\n"
     ]
    },
    {
     "name": "stderr",
     "output_type": "stream",
     "text": [
      "┌ Warning: Time 6.80 [sec]: SAC computation took 0.114 [sec], which exceeds the maximum computation time allowed.\n",
      "└ @ RiskSensitiveSAC /home/kang/DRC_Project/DRC_Trajectron/src/rs_sac_controller.jl:733\n",
      "┌ Warning: Time 6.80 [sec]: This evaluation iteration took 0.115 [sec], which exceeds dtc.\n",
      "└ @ RiskSensitiveSAC /home/kang/DRC_Project/DRC_Trajectron/src/evaluation.jl:300\n"
     ]
    },
    {
     "name": "stderr",
     "output_type": "stream",
     "text": [
      "┌ Warning: Time 6.90 [sec]: SAC computation took 0.121 [sec], which exceeds the maximum computation time allowed.\n",
      "└ @ RiskSensitiveSAC /home/kang/DRC_Project/DRC_Trajectron/src/rs_sac_controller.jl:733\n",
      "┌ Warning: Time 6.90 [sec]: This evaluation iteration took 0.122 [sec], which exceeds dtc.\n",
      "└ @ RiskSensitiveSAC /home/kang/DRC_Project/DRC_Trajectron/src/evaluation.jl:300\n"
     ]
    },
    {
     "name": "stderr",
     "output_type": "stream",
     "text": [
      "┌ Warning: Time 7.00 [sec]: SAC computation took 0.115 [sec], which exceeds the maximum computation time allowed.\n",
      "└ @ RiskSensitiveSAC /home/kang/DRC_Project/DRC_Trajectron/src/rs_sac_controller.jl:733\n",
      "┌ Warning: Time 7.00 [sec]: This evaluation iteration took 0.115 [sec], which exceeds dtc.\n",
      "└ @ RiskSensitiveSAC /home/kang/DRC_Project/DRC_Trajectron/src/evaluation.jl:300\n"
     ]
    },
    {
     "name": "stderr",
     "output_type": "stream",
     "text": [
      "┌ Warning: Time 7.10 [sec]: SAC computation took 0.109 [sec], which exceeds the maximum computation time allowed.\n",
      "└ @ RiskSensitiveSAC /home/kang/DRC_Project/DRC_Trajectron/src/rs_sac_controller.jl:733\n",
      "┌ Warning: Time 7.10 [sec]: This evaluation iteration took 0.11 [sec], which exceeds dtc.\n",
      "└ @ RiskSensitiveSAC /home/kang/DRC_Project/DRC_Trajectron/src/evaluation.jl:300\n"
     ]
    },
    {
     "name": "stderr",
     "output_type": "stream",
     "text": [
      "┌ Warning: Time 7.20 [sec]: SAC computation took 0.114 [sec], which exceeds the maximum computation time allowed.\n",
      "└ @ RiskSensitiveSAC /home/kang/DRC_Project/DRC_Trajectron/src/rs_sac_controller.jl:733\n",
      "┌ Warning: Time 7.20 [sec]: This evaluation iteration took 0.115 [sec], which exceeds dtc.\n",
      "└ @ RiskSensitiveSAC /home/kang/DRC_Project/DRC_Trajectron/src/evaluation.jl:300\n"
     ]
    },
    {
     "name": "stderr",
     "output_type": "stream",
     "text": [
      "┌ Warning: Time 7.30 [sec]: SAC computation took 0.11 [sec], which exceeds the maximum computation time allowed.\n",
      "└ @ RiskSensitiveSAC /home/kang/DRC_Project/DRC_Trajectron/src/rs_sac_controller.jl:733\n",
      "┌ Warning: Time 7.30 [sec]: This evaluation iteration took 0.11 [sec], which exceeds dtc.\n",
      "└ @ RiskSensitiveSAC /home/kang/DRC_Project/DRC_Trajectron/src/evaluation.jl:300\n"
     ]
    },
    {
     "name": "stderr",
     "output_type": "stream",
     "text": [
      "┌ Warning: Time 7.40 [sec]: SAC computation took 0.113 [sec], which exceeds the maximum computation time allowed.\n",
      "└ @ RiskSensitiveSAC /home/kang/DRC_Project/DRC_Trajectron/src/rs_sac_controller.jl:733\n",
      "┌ Warning: Time 7.40 [sec]: This evaluation iteration took 0.114 [sec], which exceeds dtc.\n",
      "└ @ RiskSensitiveSAC /home/kang/DRC_Project/DRC_Trajectron/src/evaluation.jl:300\n"
     ]
    },
    {
     "name": "stderr",
     "output_type": "stream",
     "text": [
      "┌ Warning: Time 7.50 [sec]: SAC computation took 0.114 [sec], which exceeds the maximum computation time allowed.\n",
      "└ @ RiskSensitiveSAC /home/kang/DRC_Project/DRC_Trajectron/src/rs_sac_controller.jl:733\n",
      "┌ Warning: Time 7.50 [sec]: This evaluation iteration took 0.114 [sec], which exceeds dtc.\n",
      "└ @ RiskSensitiveSAC /home/kang/DRC_Project/DRC_Trajectron/src/evaluation.jl:300\n"
     ]
    },
    {
     "name": "stderr",
     "output_type": "stream",
     "text": [
      "┌ Warning: Time 7.60 [sec]: SAC computation took 0.116 [sec], which exceeds the maximum computation time allowed.\n",
      "└ @ RiskSensitiveSAC /home/kang/DRC_Project/DRC_Trajectron/src/rs_sac_controller.jl:733\n",
      "┌ Warning: Time 7.60 [sec]: This evaluation iteration took 0.117 [sec], which exceeds dtc.\n",
      "└ @ RiskSensitiveSAC /home/kang/DRC_Project/DRC_Trajectron/src/evaluation.jl:300\n"
     ]
    },
    {
     "name": "stderr",
     "output_type": "stream",
     "text": [
      "┌ Warning: Time 7.70 [sec]: SAC computation took 0.116 [sec], which exceeds the maximum computation time allowed.\n",
      "└ @ RiskSensitiveSAC /home/kang/DRC_Project/DRC_Trajectron/src/rs_sac_controller.jl:733\n",
      "┌ Warning: Time 7.70 [sec]: This evaluation iteration took 0.117 [sec], which exceeds dtc.\n",
      "└ @ RiskSensitiveSAC /home/kang/DRC_Project/DRC_Trajectron/src/evaluation.jl:300\n"
     ]
    },
    {
     "name": "stderr",
     "output_type": "stream",
     "text": [
      "┌ Warning: Time 7.80 [sec]: SAC computation took 0.117 [sec], which exceeds the maximum computation time allowed.\n",
      "└ @ RiskSensitiveSAC /home/kang/DRC_Project/DRC_Trajectron/src/rs_sac_controller.jl:733\n",
      "┌ Warning: Time 7.80 [sec]: This evaluation iteration took 0.118 [sec], which exceeds dtc.\n",
      "└ @ RiskSensitiveSAC /home/kang/DRC_Project/DRC_Trajectron/src/evaluation.jl:300\n"
     ]
    },
    {
     "name": "stderr",
     "output_type": "stream",
     "text": [
      "┌ Warning: Time 7.90 [sec]: SAC computation took 0.143 [sec], which exceeds the maximum computation time allowed.\n",
      "└ @ RiskSensitiveSAC /home/kang/DRC_Project/DRC_Trajectron/src/rs_sac_controller.jl:733\n",
      "┌ Warning: Time 7.90 [sec]: This evaluation iteration took 0.144 [sec], which exceeds dtc.\n",
      "└ @ RiskSensitiveSAC /home/kang/DRC_Project/DRC_Trajectron/src/evaluation.jl:300\n"
     ]
    },
    {
     "name": "stderr",
     "output_type": "stream",
     "text": [
      "┌ Warning: Time 8.00 [sec]: SAC computation took 0.117 [sec], which exceeds the maximum computation time allowed.\n",
      "└ @ RiskSensitiveSAC /home/kang/DRC_Project/DRC_Trajectron/src/rs_sac_controller.jl:733\n",
      "┌ Warning: Time 8.00 [sec]: This evaluation iteration took 0.118 [sec], which exceeds dtc.\n",
      "└ @ RiskSensitiveSAC /home/kang/DRC_Project/DRC_Trajectron/src/evaluation.jl:300\n"
     ]
    },
    {
     "name": "stderr",
     "output_type": "stream",
     "text": [
      "┌ Warning: Time 8.10 [sec]: SAC computation took 0.116 [sec], which exceeds the maximum computation time allowed.\n",
      "└ @ RiskSensitiveSAC /home/kang/DRC_Project/DRC_Trajectron/src/rs_sac_controller.jl:733\n",
      "┌ Warning: Time 8.10 [sec]: This evaluation iteration took 0.117 [sec], which exceeds dtc.\n",
      "└ @ RiskSensitiveSAC /home/kang/DRC_Project/DRC_Trajectron/src/evaluation.jl:300\n"
     ]
    },
    {
     "name": "stderr",
     "output_type": "stream",
     "text": [
      "┌ Warning: Time 8.20 [sec]: SAC computation took 0.118 [sec], which exceeds the maximum computation time allowed.\n",
      "└ @ RiskSensitiveSAC /home/kang/DRC_Project/DRC_Trajectron/src/rs_sac_controller.jl:733\n",
      "┌ Warning: Time 8.20 [sec]: This evaluation iteration took 0.118 [sec], which exceeds dtc.\n",
      "└ @ RiskSensitiveSAC /home/kang/DRC_Project/DRC_Trajectron/src/evaluation.jl:300\n"
     ]
    },
    {
     "name": "stderr",
     "output_type": "stream",
     "text": [
      "┌ Warning: Time 8.30 [sec]: SAC computation took 0.116 [sec], which exceeds the maximum computation time allowed.\n",
      "└ @ RiskSensitiveSAC /home/kang/DRC_Project/DRC_Trajectron/src/rs_sac_controller.jl:733\n",
      "┌ Warning: Time 8.30 [sec]: This evaluation iteration took 0.117 [sec], which exceeds dtc.\n",
      "└ @ RiskSensitiveSAC /home/kang/DRC_Project/DRC_Trajectron/src/evaluation.jl:300\n"
     ]
    },
    {
     "name": "stderr",
     "output_type": "stream",
     "text": [
      "┌ Warning: Time 8.40 [sec]: SAC computation took 0.113 [sec], which exceeds the maximum computation time allowed.\n",
      "└ @ RiskSensitiveSAC /home/kang/DRC_Project/DRC_Trajectron/src/rs_sac_controller.jl:733\n",
      "┌ Warning: Time 8.40 [sec]: This evaluation iteration took 0.114 [sec], which exceeds dtc.\n",
      "└ @ RiskSensitiveSAC /home/kang/DRC_Project/DRC_Trajectron/src/evaluation.jl:300\n"
     ]
    },
    {
     "name": "stderr",
     "output_type": "stream",
     "text": [
      "┌ Warning: Time 8.50 [sec]: SAC computation took 0.116 [sec], which exceeds the maximum computation time allowed.\n",
      "└ @ RiskSensitiveSAC /home/kang/DRC_Project/DRC_Trajectron/src/rs_sac_controller.jl:733\n",
      "┌ Warning: Time 8.50 [sec]: This evaluation iteration took 0.117 [sec], which exceeds dtc.\n",
      "└ @ RiskSensitiveSAC /home/kang/DRC_Project/DRC_Trajectron/src/evaluation.jl:300\n"
     ]
    },
    {
     "name": "stderr",
     "output_type": "stream",
     "text": [
      "┌ Warning: Time 8.60 [sec]: SAC computation took 0.114 [sec], which exceeds the maximum computation time allowed.\n",
      "└ @ RiskSensitiveSAC /home/kang/DRC_Project/DRC_Trajectron/src/rs_sac_controller.jl:733\n",
      "┌ Warning: Time 8.60 [sec]: This evaluation iteration took 0.115 [sec], which exceeds dtc.\n",
      "└ @ RiskSensitiveSAC /home/kang/DRC_Project/DRC_Trajectron/src/evaluation.jl:300\n"
     ]
    },
    {
     "name": "stderr",
     "output_type": "stream",
     "text": [
      "┌ Warning: Time 8.70 [sec]: SAC computation took 0.113 [sec], which exceeds the maximum computation time allowed.\n",
      "└ @ RiskSensitiveSAC /home/kang/DRC_Project/DRC_Trajectron/src/rs_sac_controller.jl:733\n",
      "┌ Warning: Time 8.70 [sec]: This evaluation iteration took 0.113 [sec], which exceeds dtc.\n",
      "└ @ RiskSensitiveSAC /home/kang/DRC_Project/DRC_Trajectron/src/evaluation.jl:300\n"
     ]
    },
    {
     "name": "stderr",
     "output_type": "stream",
     "text": [
      "┌ Warning: Time 8.80 [sec]: SAC computation took 0.116 [sec], which exceeds the maximum computation time allowed.\n",
      "└ @ RiskSensitiveSAC /home/kang/DRC_Project/DRC_Trajectron/src/rs_sac_controller.jl:733\n",
      "┌ Warning: Time 8.80 [sec]: This evaluation iteration took 0.117 [sec], which exceeds dtc.\n",
      "└ @ RiskSensitiveSAC /home/kang/DRC_Project/DRC_Trajectron/src/evaluation.jl:300\n"
     ]
    },
    {
     "name": "stderr",
     "output_type": "stream",
     "text": [
      "┌ Warning: Time 8.90 [sec]: SAC computation took 0.115 [sec], which exceeds the maximum computation time allowed.\n",
      "└ @ RiskSensitiveSAC /home/kang/DRC_Project/DRC_Trajectron/src/rs_sac_controller.jl:733\n",
      "┌ Warning: Time 8.90 [sec]: This evaluation iteration took 0.115 [sec], which exceeds dtc.\n",
      "└ @ RiskSensitiveSAC /home/kang/DRC_Project/DRC_Trajectron/src/evaluation.jl:300\n"
     ]
    },
    {
     "name": "stderr",
     "output_type": "stream",
     "text": [
      "┌ Warning: Time 9.00 [sec]: SAC computation took 0.12 [sec], which exceeds the maximum computation time allowed.\n",
      "└ @ RiskSensitiveSAC /home/kang/DRC_Project/DRC_Trajectron/src/rs_sac_controller.jl:733\n",
      "┌ Warning: Time 9.00 [sec]: This evaluation iteration took 0.121 [sec], which exceeds dtc.\n",
      "└ @ RiskSensitiveSAC /home/kang/DRC_Project/DRC_Trajectron/src/evaluation.jl:300\n"
     ]
    },
    {
     "name": "stderr",
     "output_type": "stream",
     "text": [
      "┌ Warning: Time 9.10 [sec]: SAC computation took 0.155 [sec], which exceeds the maximum computation time allowed.\n",
      "└ @ RiskSensitiveSAC /home/kang/DRC_Project/DRC_Trajectron/src/rs_sac_controller.jl:733\n",
      "┌ Warning: Time 9.10 [sec]: This evaluation iteration took 0.155 [sec], which exceeds dtc.\n",
      "└ @ RiskSensitiveSAC /home/kang/DRC_Project/DRC_Trajectron/src/evaluation.jl:300\n"
     ]
    },
    {
     "name": "stderr",
     "output_type": "stream",
     "text": [
      "┌ Warning: Time 9.20 [sec]: SAC computation took 0.117 [sec], which exceeds the maximum computation time allowed.\n",
      "└ @ RiskSensitiveSAC /home/kang/DRC_Project/DRC_Trajectron/src/rs_sac_controller.jl:733\n",
      "┌ Warning: Time 9.20 [sec]: This evaluation iteration took 0.118 [sec], which exceeds dtc.\n",
      "└ @ RiskSensitiveSAC /home/kang/DRC_Project/DRC_Trajectron/src/evaluation.jl:300\n"
     ]
    },
    {
     "name": "stderr",
     "output_type": "stream",
     "text": [
      "┌ Warning: Time 9.30 [sec]: SAC computation took 0.108 [sec], which exceeds the maximum computation time allowed.\n",
      "└ @ RiskSensitiveSAC /home/kang/DRC_Project/DRC_Trajectron/src/rs_sac_controller.jl:733\n",
      "┌ Warning: Time 9.30 [sec]: This evaluation iteration took 0.109 [sec], which exceeds dtc.\n",
      "└ @ RiskSensitiveSAC /home/kang/DRC_Project/DRC_Trajectron/src/evaluation.jl:300\n"
     ]
    },
    {
     "name": "stderr",
     "output_type": "stream",
     "text": [
      "┌ Warning: Time 9.40 [sec]: SAC computation took 0.114 [sec], which exceeds the maximum computation time allowed.\n",
      "└ @ RiskSensitiveSAC /home/kang/DRC_Project/DRC_Trajectron/src/rs_sac_controller.jl:733\n",
      "┌ Warning: Time 9.40 [sec]: This evaluation iteration took 0.115 [sec], which exceeds dtc.\n",
      "└ @ RiskSensitiveSAC /home/kang/DRC_Project/DRC_Trajectron/src/evaluation.jl:300\n"
     ]
    },
    {
     "name": "stderr",
     "output_type": "stream",
     "text": [
      "┌ Warning: Time 9.50 [sec]: SAC computation took 0.114 [sec], which exceeds the maximum computation time allowed.\n",
      "└ @ RiskSensitiveSAC /home/kang/DRC_Project/DRC_Trajectron/src/rs_sac_controller.jl:733\n",
      "┌ Warning: Time 9.50 [sec]: This evaluation iteration took 0.114 [sec], which exceeds dtc.\n",
      "└ @ RiskSensitiveSAC /home/kang/DRC_Project/DRC_Trajectron/src/evaluation.jl:300\n"
     ]
    },
    {
     "name": "stderr",
     "output_type": "stream",
     "text": [
      "┌ Warning: Time 9.60 [sec]: SAC computation took 0.113 [sec], which exceeds the maximum computation time allowed.\n",
      "└ @ RiskSensitiveSAC /home/kang/DRC_Project/DRC_Trajectron/src/rs_sac_controller.jl:733\n",
      "┌ Warning: Time 9.60 [sec]: This evaluation iteration took 0.114 [sec], which exceeds dtc.\n",
      "└ @ RiskSensitiveSAC /home/kang/DRC_Project/DRC_Trajectron/src/evaluation.jl:300\n"
     ]
    },
    {
     "name": "stderr",
     "output_type": "stream",
     "text": [
      "┌ Warning: Time 9.70 [sec]: SAC computation took 0.112 [sec], which exceeds the maximum computation time allowed.\n",
      "└ @ RiskSensitiveSAC /home/kang/DRC_Project/DRC_Trajectron/src/rs_sac_controller.jl:733\n",
      "┌ Warning: Time 9.70 [sec]: This evaluation iteration took 0.113 [sec], which exceeds dtc.\n",
      "└ @ RiskSensitiveSAC /home/kang/DRC_Project/DRC_Trajectron/src/evaluation.jl:300\n"
     ]
    },
    {
     "name": "stderr",
     "output_type": "stream",
     "text": [
      "┌ Warning: Time 9.80 [sec]: SAC computation took 0.112 [sec], which exceeds the maximum computation time allowed.\n",
      "└ @ RiskSensitiveSAC /home/kang/DRC_Project/DRC_Trajectron/src/rs_sac_controller.jl:733\n",
      "┌ Warning: Time 9.80 [sec]: This evaluation iteration took 0.112 [sec], which exceeds dtc.\n",
      "└ @ RiskSensitiveSAC /home/kang/DRC_Project/DRC_Trajectron/src/evaluation.jl:300\n"
     ]
    },
    {
     "name": "stdout",
     "output_type": "stream",
     "text": [
      "Total Collision: 0, Total Position Cost: 74.52153570534946, Total Control Cost: 1.9353477123771574, Minimum Distance: 1.169823530251773, Experiment 4: "
     ]
    },
    {
     "name": "stderr",
     "output_type": "stream",
     "text": [
      "┌ Warning: Time 9.90 [sec]: SAC computation took 0.114 [sec], which exceeds the maximum computation time allowed.\n",
      "└ @ RiskSensitiveSAC /home/kang/DRC_Project/DRC_Trajectron/src/rs_sac_controller.jl:733\n",
      "┌ Warning: Time 9.90 [sec]: This evaluation iteration took 0.115 [sec], which exceeds dtc.\n",
      "└ @ RiskSensitiveSAC /home/kang/DRC_Project/DRC_Trajectron/src/evaluation.jl:300\n"
     ]
    },
    {
     "name": "stderr",
     "output_type": "stream",
     "text": [
      "┌ Warning: Time 0.00 [sec]: SAC computation took 0.131 [sec], which exceeds the maximum computation time allowed.\n",
      "└ @ RiskSensitiveSAC /home/kang/DRC_Project/DRC_Trajectron/src/rs_sac_controller.jl:733\n"
     ]
    },
    {
     "name": "stderr",
     "output_type": "stream",
     "text": [
      "┌ Warning: Time 0.10 [sec]: SAC computation took 0.121 [sec], which exceeds the maximum computation time allowed.\n",
      "└ @ RiskSensitiveSAC /home/kang/DRC_Project/DRC_Trajectron/src/rs_sac_controller.jl:733\n",
      "┌ Warning: Time 0.10 [sec]: This evaluation iteration took 0.121 [sec], which exceeds dtc.\n",
      "└ @ RiskSensitiveSAC /home/kang/DRC_Project/DRC_Trajectron/src/evaluation.jl:300\n"
     ]
    },
    {
     "name": "stderr",
     "output_type": "stream",
     "text": [
      "┌ Warning: Time 0.20 [sec]: SAC computation took 0.119 [sec], which exceeds the maximum computation time allowed.\n",
      "└ @ RiskSensitiveSAC /home/kang/DRC_Project/DRC_Trajectron/src/rs_sac_controller.jl:733\n",
      "┌ Warning: Time 0.20 [sec]: This evaluation iteration took 0.119 [sec], which exceeds dtc.\n",
      "└ @ RiskSensitiveSAC /home/kang/DRC_Project/DRC_Trajectron/src/evaluation.jl:300\n"
     ]
    },
    {
     "name": "stderr",
     "output_type": "stream",
     "text": [
      "┌ Warning: Time 0.30 [sec]: SAC computation took 0.176 [sec], which exceeds the maximum computation time allowed.\n",
      "└ @ RiskSensitiveSAC /home/kang/DRC_Project/DRC_Trajectron/src/rs_sac_controller.jl:733\n",
      "┌ Warning: Time 0.30 [sec]: This evaluation iteration took 0.177 [sec], which exceeds dtc.\n",
      "└ @ RiskSensitiveSAC /home/kang/DRC_Project/DRC_Trajectron/src/evaluation.jl:300\n"
     ]
    },
    {
     "name": "stderr",
     "output_type": "stream",
     "text": [
      "┌ Warning: Time 0.40 [sec]: SAC computation took 0.108 [sec], which exceeds the maximum computation time allowed.\n",
      "└ @ RiskSensitiveSAC /home/kang/DRC_Project/DRC_Trajectron/src/rs_sac_controller.jl:733\n",
      "┌ Warning: Time 0.40 [sec]: This evaluation iteration took 0.109 [sec], which exceeds dtc.\n",
      "└ @ RiskSensitiveSAC /home/kang/DRC_Project/DRC_Trajectron/src/evaluation.jl:300\n"
     ]
    },
    {
     "name": "stderr",
     "output_type": "stream",
     "text": [
      "┌ Warning: Time 0.50 [sec]: SAC computation took 0.116 [sec], which exceeds the maximum computation time allowed.\n",
      "└ @ RiskSensitiveSAC /home/kang/DRC_Project/DRC_Trajectron/src/rs_sac_controller.jl:733\n",
      "┌ Warning: Time 0.50 [sec]: This evaluation iteration took 0.116 [sec], which exceeds dtc.\n",
      "└ @ RiskSensitiveSAC /home/kang/DRC_Project/DRC_Trajectron/src/evaluation.jl:300\n"
     ]
    },
    {
     "name": "stderr",
     "output_type": "stream",
     "text": [
      "┌ Warning: Time 0.60 [sec]: SAC computation took 0.118 [sec], which exceeds the maximum computation time allowed.\n",
      "└ @ RiskSensitiveSAC /home/kang/DRC_Project/DRC_Trajectron/src/rs_sac_controller.jl:733\n",
      "┌ Warning: Time 0.60 [sec]: This evaluation iteration took 0.119 [sec], which exceeds dtc.\n",
      "└ @ RiskSensitiveSAC /home/kang/DRC_Project/DRC_Trajectron/src/evaluation.jl:300\n"
     ]
    },
    {
     "name": "stderr",
     "output_type": "stream",
     "text": [
      "┌ Warning: Time 0.70 [sec]: SAC computation took 0.111 [sec], which exceeds the maximum computation time allowed.\n",
      "└ @ RiskSensitiveSAC /home/kang/DRC_Project/DRC_Trajectron/src/rs_sac_controller.jl:733\n",
      "┌ Warning: Time 0.70 [sec]: This evaluation iteration took 0.112 [sec], which exceeds dtc.\n",
      "└ @ RiskSensitiveSAC /home/kang/DRC_Project/DRC_Trajectron/src/evaluation.jl:300\n"
     ]
    },
    {
     "name": "stderr",
     "output_type": "stream",
     "text": [
      "┌ Warning: Time 0.80 [sec]: SAC computation took 0.115 [sec], which exceeds the maximum computation time allowed.\n",
      "└ @ RiskSensitiveSAC /home/kang/DRC_Project/DRC_Trajectron/src/rs_sac_controller.jl:733\n",
      "┌ Warning: Time 0.80 [sec]: This evaluation iteration took 0.117 [sec], which exceeds dtc.\n",
      "└ @ RiskSensitiveSAC /home/kang/DRC_Project/DRC_Trajectron/src/evaluation.jl:300\n"
     ]
    },
    {
     "name": "stderr",
     "output_type": "stream",
     "text": [
      "┌ Warning: Time 0.90 [sec]: SAC computation took 0.113 [sec], which exceeds the maximum computation time allowed.\n",
      "└ @ RiskSensitiveSAC /home/kang/DRC_Project/DRC_Trajectron/src/rs_sac_controller.jl:733\n",
      "┌ Warning: Time 0.90 [sec]: This evaluation iteration took 0.114 [sec], which exceeds dtc.\n",
      "└ @ RiskSensitiveSAC /home/kang/DRC_Project/DRC_Trajectron/src/evaluation.jl:300\n"
     ]
    },
    {
     "name": "stderr",
     "output_type": "stream",
     "text": [
      "┌ Warning: Time 1.00 [sec]: SAC computation took 0.116 [sec], which exceeds the maximum computation time allowed.\n",
      "└ @ RiskSensitiveSAC /home/kang/DRC_Project/DRC_Trajectron/src/rs_sac_controller.jl:733\n",
      "┌ Warning: Time 1.00 [sec]: This evaluation iteration took 0.117 [sec], which exceeds dtc.\n",
      "└ @ RiskSensitiveSAC /home/kang/DRC_Project/DRC_Trajectron/src/evaluation.jl:300\n"
     ]
    },
    {
     "name": "stderr",
     "output_type": "stream",
     "text": [
      "┌ Warning: Time 1.10 [sec]: SAC computation took 0.117 [sec], which exceeds the maximum computation time allowed.\n",
      "└ @ RiskSensitiveSAC /home/kang/DRC_Project/DRC_Trajectron/src/rs_sac_controller.jl:733\n",
      "┌ Warning: Time 1.10 [sec]: This evaluation iteration took 0.117 [sec], which exceeds dtc.\n",
      "└ @ RiskSensitiveSAC /home/kang/DRC_Project/DRC_Trajectron/src/evaluation.jl:300\n"
     ]
    },
    {
     "name": "stderr",
     "output_type": "stream",
     "text": [
      "┌ Warning: Time 1.20 [sec]: SAC computation took 0.117 [sec], which exceeds the maximum computation time allowed.\n",
      "└ @ RiskSensitiveSAC /home/kang/DRC_Project/DRC_Trajectron/src/rs_sac_controller.jl:733\n",
      "┌ Warning: Time 1.20 [sec]: This evaluation iteration took 0.118 [sec], which exceeds dtc.\n",
      "└ @ RiskSensitiveSAC /home/kang/DRC_Project/DRC_Trajectron/src/evaluation.jl:300\n"
     ]
    },
    {
     "name": "stderr",
     "output_type": "stream",
     "text": [
      "┌ Warning: Time 1.30 [sec]: SAC computation took 0.116 [sec], which exceeds the maximum computation time allowed.\n",
      "└ @ RiskSensitiveSAC /home/kang/DRC_Project/DRC_Trajectron/src/rs_sac_controller.jl:733\n",
      "┌ Warning: Time 1.30 [sec]: This evaluation iteration took 0.117 [sec], which exceeds dtc.\n",
      "└ @ RiskSensitiveSAC /home/kang/DRC_Project/DRC_Trajectron/src/evaluation.jl:300\n"
     ]
    },
    {
     "name": "stderr",
     "output_type": "stream",
     "text": [
      "┌ Warning: Time 1.40 [sec]: SAC computation took 0.125 [sec], which exceeds the maximum computation time allowed.\n",
      "└ @ RiskSensitiveSAC /home/kang/DRC_Project/DRC_Trajectron/src/rs_sac_controller.jl:733\n",
      "┌ Warning: Time 1.40 [sec]: This evaluation iteration took 0.126 [sec], which exceeds dtc.\n",
      "└ @ RiskSensitiveSAC /home/kang/DRC_Project/DRC_Trajectron/src/evaluation.jl:300\n"
     ]
    },
    {
     "name": "stderr",
     "output_type": "stream",
     "text": [
      "┌ Warning: Time 1.50 [sec]: SAC computation took 0.12 [sec], which exceeds the maximum computation time allowed.\n",
      "└ @ RiskSensitiveSAC /home/kang/DRC_Project/DRC_Trajectron/src/rs_sac_controller.jl:733\n",
      "┌ Warning: Time 1.50 [sec]: This evaluation iteration took 0.121 [sec], which exceeds dtc.\n",
      "└ @ RiskSensitiveSAC /home/kang/DRC_Project/DRC_Trajectron/src/evaluation.jl:300\n"
     ]
    },
    {
     "name": "stderr",
     "output_type": "stream",
     "text": [
      "┌ Warning: Time 1.60 [sec]: SAC computation took 0.155 [sec], which exceeds the maximum computation time allowed.\n",
      "└ @ RiskSensitiveSAC /home/kang/DRC_Project/DRC_Trajectron/src/rs_sac_controller.jl:733\n",
      "┌ Warning: Time 1.60 [sec]: This evaluation iteration took 0.156 [sec], which exceeds dtc.\n",
      "└ @ RiskSensitiveSAC /home/kang/DRC_Project/DRC_Trajectron/src/evaluation.jl:300\n"
     ]
    },
    {
     "name": "stderr",
     "output_type": "stream",
     "text": [
      "┌ Warning: Time 1.70 [sec]: SAC computation took 0.11 [sec], which exceeds the maximum computation time allowed.\n",
      "└ @ RiskSensitiveSAC /home/kang/DRC_Project/DRC_Trajectron/src/rs_sac_controller.jl:733\n",
      "┌ Warning: Time 1.70 [sec]: This evaluation iteration took 0.111 [sec], which exceeds dtc.\n",
      "└ @ RiskSensitiveSAC /home/kang/DRC_Project/DRC_Trajectron/src/evaluation.jl:300\n"
     ]
    },
    {
     "name": "stderr",
     "output_type": "stream",
     "text": [
      "┌ Warning: Time 1.80 [sec]: SAC computation took 0.11 [sec], which exceeds the maximum computation time allowed.\n",
      "└ @ RiskSensitiveSAC /home/kang/DRC_Project/DRC_Trajectron/src/rs_sac_controller.jl:733\n",
      "┌ Warning: Time 1.80 [sec]: This evaluation iteration took 0.11 [sec], which exceeds dtc.\n",
      "└ @ RiskSensitiveSAC /home/kang/DRC_Project/DRC_Trajectron/src/evaluation.jl:300\n"
     ]
    },
    {
     "name": "stderr",
     "output_type": "stream",
     "text": [
      "┌ Warning: Time 1.90 [sec]: SAC computation took 0.111 [sec], which exceeds the maximum computation time allowed.\n",
      "└ @ RiskSensitiveSAC /home/kang/DRC_Project/DRC_Trajectron/src/rs_sac_controller.jl:733\n",
      "┌ Warning: Time 1.90 [sec]: This evaluation iteration took 0.111 [sec], which exceeds dtc.\n",
      "└ @ RiskSensitiveSAC /home/kang/DRC_Project/DRC_Trajectron/src/evaluation.jl:300\n"
     ]
    },
    {
     "name": "stderr",
     "output_type": "stream",
     "text": [
      "┌ Warning: Time 2.00 [sec]: SAC computation took 0.112 [sec], which exceeds the maximum computation time allowed.\n",
      "└ @ RiskSensitiveSAC /home/kang/DRC_Project/DRC_Trajectron/src/rs_sac_controller.jl:733\n",
      "┌ Warning: Time 2.00 [sec]: This evaluation iteration took 0.114 [sec], which exceeds dtc.\n",
      "└ @ RiskSensitiveSAC /home/kang/DRC_Project/DRC_Trajectron/src/evaluation.jl:300\n"
     ]
    },
    {
     "name": "stderr",
     "output_type": "stream",
     "text": [
      "┌ Warning: Time 2.10 [sec]: SAC computation took 0.113 [sec], which exceeds the maximum computation time allowed.\n",
      "└ @ RiskSensitiveSAC /home/kang/DRC_Project/DRC_Trajectron/src/rs_sac_controller.jl:733\n",
      "┌ Warning: Time 2.10 [sec]: This evaluation iteration took 0.114 [sec], which exceeds dtc.\n",
      "└ @ RiskSensitiveSAC /home/kang/DRC_Project/DRC_Trajectron/src/evaluation.jl:300\n"
     ]
    },
    {
     "name": "stderr",
     "output_type": "stream",
     "text": [
      "┌ Warning: Time 2.20 [sec]: SAC computation took 0.117 [sec], which exceeds the maximum computation time allowed.\n",
      "└ @ RiskSensitiveSAC /home/kang/DRC_Project/DRC_Trajectron/src/rs_sac_controller.jl:733\n",
      "┌ Warning: Time 2.20 [sec]: This evaluation iteration took 0.118 [sec], which exceeds dtc.\n",
      "└ @ RiskSensitiveSAC /home/kang/DRC_Project/DRC_Trajectron/src/evaluation.jl:300\n"
     ]
    },
    {
     "name": "stderr",
     "output_type": "stream",
     "text": [
      "┌ Warning: Time 2.30 [sec]: SAC computation took 0.111 [sec], which exceeds the maximum computation time allowed.\n",
      "└ @ RiskSensitiveSAC /home/kang/DRC_Project/DRC_Trajectron/src/rs_sac_controller.jl:733\n",
      "┌ Warning: Time 2.30 [sec]: This evaluation iteration took 0.111 [sec], which exceeds dtc.\n",
      "└ @ RiskSensitiveSAC /home/kang/DRC_Project/DRC_Trajectron/src/evaluation.jl:300\n"
     ]
    },
    {
     "name": "stderr",
     "output_type": "stream",
     "text": [
      "┌ Warning: Time 2.40 [sec]: SAC computation took 0.12 [sec], which exceeds the maximum computation time allowed.\n",
      "└ @ RiskSensitiveSAC /home/kang/DRC_Project/DRC_Trajectron/src/rs_sac_controller.jl:733\n",
      "┌ Warning: Time 2.40 [sec]: This evaluation iteration took 0.121 [sec], which exceeds dtc.\n",
      "└ @ RiskSensitiveSAC /home/kang/DRC_Project/DRC_Trajectron/src/evaluation.jl:300\n"
     ]
    },
    {
     "name": "stderr",
     "output_type": "stream",
     "text": [
      "┌ Warning: Time 2.50 [sec]: SAC computation took 0.121 [sec], which exceeds the maximum computation time allowed.\n",
      "└ @ RiskSensitiveSAC /home/kang/DRC_Project/DRC_Trajectron/src/rs_sac_controller.jl:733\n",
      "┌ Warning: Time 2.50 [sec]: This evaluation iteration took 0.122 [sec], which exceeds dtc.\n",
      "└ @ RiskSensitiveSAC /home/kang/DRC_Project/DRC_Trajectron/src/evaluation.jl:300\n"
     ]
    },
    {
     "name": "stderr",
     "output_type": "stream",
     "text": [
      "┌ Warning: Time 2.60 [sec]: SAC computation took 0.122 [sec], which exceeds the maximum computation time allowed.\n",
      "└ @ RiskSensitiveSAC /home/kang/DRC_Project/DRC_Trajectron/src/rs_sac_controller.jl:733\n",
      "┌ Warning: Time 2.60 [sec]: This evaluation iteration took 0.123 [sec], which exceeds dtc.\n",
      "└ @ RiskSensitiveSAC /home/kang/DRC_Project/DRC_Trajectron/src/evaluation.jl:300\n"
     ]
    },
    {
     "name": "stderr",
     "output_type": "stream",
     "text": [
      "┌ Warning: Time 2.70 [sec]: SAC computation took 0.116 [sec], which exceeds the maximum computation time allowed.\n",
      "└ @ RiskSensitiveSAC /home/kang/DRC_Project/DRC_Trajectron/src/rs_sac_controller.jl:733\n",
      "┌ Warning: Time 2.70 [sec]: This evaluation iteration took 0.116 [sec], which exceeds dtc.\n",
      "└ @ RiskSensitiveSAC /home/kang/DRC_Project/DRC_Trajectron/src/evaluation.jl:300\n"
     ]
    },
    {
     "name": "stderr",
     "output_type": "stream",
     "text": [
      "┌ Warning: Time 2.80 [sec]: SAC computation took 0.12 [sec], which exceeds the maximum computation time allowed.\n",
      "└ @ RiskSensitiveSAC /home/kang/DRC_Project/DRC_Trajectron/src/rs_sac_controller.jl:733\n",
      "┌ Warning: Time 2.80 [sec]: This evaluation iteration took 0.122 [sec], which exceeds dtc.\n",
      "└ @ RiskSensitiveSAC /home/kang/DRC_Project/DRC_Trajectron/src/evaluation.jl:300\n"
     ]
    },
    {
     "name": "stderr",
     "output_type": "stream",
     "text": [
      "┌ Warning: Time 2.90 [sec]: SAC computation took 0.111 [sec], which exceeds the maximum computation time allowed.\n",
      "└ @ RiskSensitiveSAC /home/kang/DRC_Project/DRC_Trajectron/src/rs_sac_controller.jl:733\n",
      "┌ Warning: Time 2.90 [sec]: This evaluation iteration took 0.112 [sec], which exceeds dtc.\n",
      "└ @ RiskSensitiveSAC /home/kang/DRC_Project/DRC_Trajectron/src/evaluation.jl:300\n"
     ]
    },
    {
     "name": "stderr",
     "output_type": "stream",
     "text": [
      "┌ Warning: Time 3.00 [sec]: SAC computation took 0.112 [sec], which exceeds the maximum computation time allowed.\n",
      "└ @ RiskSensitiveSAC /home/kang/DRC_Project/DRC_Trajectron/src/rs_sac_controller.jl:733\n",
      "┌ Warning: Time 3.00 [sec]: This evaluation iteration took 0.112 [sec], which exceeds dtc.\n",
      "└ @ RiskSensitiveSAC /home/kang/DRC_Project/DRC_Trajectron/src/evaluation.jl:300\n"
     ]
    },
    {
     "name": "stderr",
     "output_type": "stream",
     "text": [
      "┌ Warning: Time 3.10 [sec]: SAC computation took 0.117 [sec], which exceeds the maximum computation time allowed.\n",
      "└ @ RiskSensitiveSAC /home/kang/DRC_Project/DRC_Trajectron/src/rs_sac_controller.jl:733\n",
      "┌ Warning: Time 3.10 [sec]: This evaluation iteration took 0.118 [sec], which exceeds dtc.\n",
      "└ @ RiskSensitiveSAC /home/kang/DRC_Project/DRC_Trajectron/src/evaluation.jl:300\n"
     ]
    },
    {
     "name": "stderr",
     "output_type": "stream",
     "text": [
      "┌ Warning: Time 3.20 [sec]: SAC computation took 0.109 [sec], which exceeds the maximum computation time allowed.\n",
      "└ @ RiskSensitiveSAC /home/kang/DRC_Project/DRC_Trajectron/src/rs_sac_controller.jl:733\n",
      "┌ Warning: Time 3.20 [sec]: This evaluation iteration took 0.11 [sec], which exceeds dtc.\n",
      "└ @ RiskSensitiveSAC /home/kang/DRC_Project/DRC_Trajectron/src/evaluation.jl:300\n"
     ]
    },
    {
     "name": "stderr",
     "output_type": "stream",
     "text": [
      "┌ Warning: Time 3.30 [sec]: SAC computation took 0.112 [sec], which exceeds the maximum computation time allowed.\n",
      "└ @ RiskSensitiveSAC /home/kang/DRC_Project/DRC_Trajectron/src/rs_sac_controller.jl:733\n",
      "┌ Warning: Time 3.30 [sec]: This evaluation iteration took 0.112 [sec], which exceeds dtc.\n",
      "└ @ RiskSensitiveSAC /home/kang/DRC_Project/DRC_Trajectron/src/evaluation.jl:300\n"
     ]
    },
    {
     "name": "stderr",
     "output_type": "stream",
     "text": [
      "┌ Warning: Time 3.40 [sec]: SAC computation took 0.116 [sec], which exceeds the maximum computation time allowed.\n",
      "└ @ RiskSensitiveSAC /home/kang/DRC_Project/DRC_Trajectron/src/rs_sac_controller.jl:733\n",
      "┌ Warning: Time 3.40 [sec]: This evaluation iteration took 0.117 [sec], which exceeds dtc.\n",
      "└ @ RiskSensitiveSAC /home/kang/DRC_Project/DRC_Trajectron/src/evaluation.jl:300\n"
     ]
    },
    {
     "name": "stderr",
     "output_type": "stream",
     "text": [
      "┌ Warning: Time 3.50 [sec]: SAC computation took 0.116 [sec], which exceeds the maximum computation time allowed.\n",
      "└ @ RiskSensitiveSAC /home/kang/DRC_Project/DRC_Trajectron/src/rs_sac_controller.jl:733\n",
      "┌ Warning: Time 3.50 [sec]: This evaluation iteration took 0.117 [sec], which exceeds dtc.\n",
      "└ @ RiskSensitiveSAC /home/kang/DRC_Project/DRC_Trajectron/src/evaluation.jl:300\n"
     ]
    },
    {
     "name": "stderr",
     "output_type": "stream",
     "text": [
      "┌ Warning: Time 3.60 [sec]: SAC computation took 0.117 [sec], which exceeds the maximum computation time allowed.\n",
      "└ @ RiskSensitiveSAC /home/kang/DRC_Project/DRC_Trajectron/src/rs_sac_controller.jl:733\n",
      "┌ Warning: Time 3.60 [sec]: This evaluation iteration took 0.118 [sec], which exceeds dtc.\n",
      "└ @ RiskSensitiveSAC /home/kang/DRC_Project/DRC_Trajectron/src/evaluation.jl:300\n"
     ]
    },
    {
     "name": "stderr",
     "output_type": "stream",
     "text": [
      "┌ Warning: Time 3.70 [sec]: SAC computation took 0.118 [sec], which exceeds the maximum computation time allowed.\n",
      "└ @ RiskSensitiveSAC /home/kang/DRC_Project/DRC_Trajectron/src/rs_sac_controller.jl:733\n",
      "┌ Warning: Time 3.70 [sec]: This evaluation iteration took 0.118 [sec], which exceeds dtc.\n",
      "└ @ RiskSensitiveSAC /home/kang/DRC_Project/DRC_Trajectron/src/evaluation.jl:300\n"
     ]
    },
    {
     "name": "stderr",
     "output_type": "stream",
     "text": [
      "┌ Warning: Time 3.80 [sec]: SAC computation took 0.11 [sec], which exceeds the maximum computation time allowed.\n",
      "└ @ RiskSensitiveSAC /home/kang/DRC_Project/DRC_Trajectron/src/rs_sac_controller.jl:733\n",
      "┌ Warning: Time 3.80 [sec]: This evaluation iteration took 0.111 [sec], which exceeds dtc.\n",
      "└ @ RiskSensitiveSAC /home/kang/DRC_Project/DRC_Trajectron/src/evaluation.jl:300\n"
     ]
    },
    {
     "name": "stderr",
     "output_type": "stream",
     "text": [
      "┌ Warning: Time 3.90 [sec]: SAC computation took 0.111 [sec], which exceeds the maximum computation time allowed.\n",
      "└ @ RiskSensitiveSAC /home/kang/DRC_Project/DRC_Trajectron/src/rs_sac_controller.jl:733\n",
      "┌ Warning: Time 3.90 [sec]: This evaluation iteration took 0.112 [sec], which exceeds dtc.\n",
      "└ @ RiskSensitiveSAC /home/kang/DRC_Project/DRC_Trajectron/src/evaluation.jl:300\n"
     ]
    },
    {
     "name": "stderr",
     "output_type": "stream",
     "text": [
      "┌ Warning: Time 4.00 [sec]: SAC computation took 0.114 [sec], which exceeds the maximum computation time allowed.\n",
      "└ @ RiskSensitiveSAC /home/kang/DRC_Project/DRC_Trajectron/src/rs_sac_controller.jl:733\n",
      "┌ Warning: Time 4.00 [sec]: This evaluation iteration took 0.115 [sec], which exceeds dtc.\n",
      "└ @ RiskSensitiveSAC /home/kang/DRC_Project/DRC_Trajectron/src/evaluation.jl:300\n"
     ]
    },
    {
     "name": "stderr",
     "output_type": "stream",
     "text": [
      "┌ Warning: Time 4.10 [sec]: SAC computation took 0.161 [sec], which exceeds the maximum computation time allowed.\n",
      "└ @ RiskSensitiveSAC /home/kang/DRC_Project/DRC_Trajectron/src/rs_sac_controller.jl:733\n",
      "┌ Warning: Time 4.10 [sec]: This evaluation iteration took 0.162 [sec], which exceeds dtc.\n",
      "└ @ RiskSensitiveSAC /home/kang/DRC_Project/DRC_Trajectron/src/evaluation.jl:300\n"
     ]
    },
    {
     "name": "stderr",
     "output_type": "stream",
     "text": [
      "┌ Warning: Time 4.20 [sec]: SAC computation took 0.107 [sec], which exceeds the maximum computation time allowed.\n",
      "└ @ RiskSensitiveSAC /home/kang/DRC_Project/DRC_Trajectron/src/rs_sac_controller.jl:733\n",
      "┌ Warning: Time 4.20 [sec]: This evaluation iteration took 0.108 [sec], which exceeds dtc.\n",
      "└ @ RiskSensitiveSAC /home/kang/DRC_Project/DRC_Trajectron/src/evaluation.jl:300\n"
     ]
    },
    {
     "name": "stderr",
     "output_type": "stream",
     "text": [
      "┌ Warning: Time 4.30 [sec]: SAC computation took 0.116 [sec], which exceeds the maximum computation time allowed.\n",
      "└ @ RiskSensitiveSAC /home/kang/DRC_Project/DRC_Trajectron/src/rs_sac_controller.jl:733\n",
      "┌ Warning: Time 4.30 [sec]: This evaluation iteration took 0.117 [sec], which exceeds dtc.\n",
      "└ @ RiskSensitiveSAC /home/kang/DRC_Project/DRC_Trajectron/src/evaluation.jl:300\n"
     ]
    },
    {
     "name": "stderr",
     "output_type": "stream",
     "text": [
      "┌ Warning: Time 4.40 [sec]: SAC computation took 0.118 [sec], which exceeds the maximum computation time allowed.\n",
      "└ @ RiskSensitiveSAC /home/kang/DRC_Project/DRC_Trajectron/src/rs_sac_controller.jl:733\n",
      "┌ Warning: Time 4.40 [sec]: This evaluation iteration took 0.119 [sec], which exceeds dtc.\n",
      "└ @ RiskSensitiveSAC /home/kang/DRC_Project/DRC_Trajectron/src/evaluation.jl:300\n"
     ]
    },
    {
     "name": "stderr",
     "output_type": "stream",
     "text": [
      "┌ Warning: Time 4.50 [sec]: SAC computation took 0.117 [sec], which exceeds the maximum computation time allowed.\n",
      "└ @ RiskSensitiveSAC /home/kang/DRC_Project/DRC_Trajectron/src/rs_sac_controller.jl:733\n",
      "┌ Warning: Time 4.50 [sec]: This evaluation iteration took 0.118 [sec], which exceeds dtc.\n",
      "└ @ RiskSensitiveSAC /home/kang/DRC_Project/DRC_Trajectron/src/evaluation.jl:300\n"
     ]
    },
    {
     "name": "stderr",
     "output_type": "stream",
     "text": [
      "┌ Warning: Time 4.60 [sec]: SAC computation took 0.118 [sec], which exceeds the maximum computation time allowed.\n",
      "└ @ RiskSensitiveSAC /home/kang/DRC_Project/DRC_Trajectron/src/rs_sac_controller.jl:733\n",
      "┌ Warning: Time 4.60 [sec]: This evaluation iteration took 0.119 [sec], which exceeds dtc.\n",
      "└ @ RiskSensitiveSAC /home/kang/DRC_Project/DRC_Trajectron/src/evaluation.jl:300\n"
     ]
    },
    {
     "name": "stderr",
     "output_type": "stream",
     "text": [
      "┌ Warning: Time 4.70 [sec]: SAC computation took 0.123 [sec], which exceeds the maximum computation time allowed.\n",
      "└ @ RiskSensitiveSAC /home/kang/DRC_Project/DRC_Trajectron/src/rs_sac_controller.jl:733\n",
      "┌ Warning: Time 4.70 [sec]: This evaluation iteration took 0.123 [sec], which exceeds dtc.\n",
      "└ @ RiskSensitiveSAC /home/kang/DRC_Project/DRC_Trajectron/src/evaluation.jl:300\n"
     ]
    },
    {
     "name": "stderr",
     "output_type": "stream",
     "text": [
      "┌ Warning: Time 4.80 [sec]: SAC computation took 0.115 [sec], which exceeds the maximum computation time allowed.\n",
      "└ @ RiskSensitiveSAC /home/kang/DRC_Project/DRC_Trajectron/src/rs_sac_controller.jl:733\n",
      "┌ Warning: Time 4.80 [sec]: This evaluation iteration took 0.116 [sec], which exceeds dtc.\n",
      "└ @ RiskSensitiveSAC /home/kang/DRC_Project/DRC_Trajectron/src/evaluation.jl:300\n"
     ]
    },
    {
     "name": "stderr",
     "output_type": "stream",
     "text": [
      "┌ Warning: Time 4.90 [sec]: SAC computation took 0.117 [sec], which exceeds the maximum computation time allowed.\n",
      "└ @ RiskSensitiveSAC /home/kang/DRC_Project/DRC_Trajectron/src/rs_sac_controller.jl:733\n",
      "┌ Warning: Time 4.90 [sec]: This evaluation iteration took 0.118 [sec], which exceeds dtc.\n",
      "└ @ RiskSensitiveSAC /home/kang/DRC_Project/DRC_Trajectron/src/evaluation.jl:300\n"
     ]
    },
    {
     "name": "stderr",
     "output_type": "stream",
     "text": [
      "┌ Warning: Time 5.00 [sec]: SAC computation took 0.129 [sec], which exceeds the maximum computation time allowed.\n",
      "└ @ RiskSensitiveSAC /home/kang/DRC_Project/DRC_Trajectron/src/rs_sac_controller.jl:733\n",
      "┌ Warning: Time 5.00 [sec]: This evaluation iteration took 0.13 [sec], which exceeds dtc.\n",
      "└ @ RiskSensitiveSAC /home/kang/DRC_Project/DRC_Trajectron/src/evaluation.jl:300\n"
     ]
    },
    {
     "name": "stderr",
     "output_type": "stream",
     "text": [
      "┌ Warning: Time 5.10 [sec]: SAC computation took 0.112 [sec], which exceeds the maximum computation time allowed.\n",
      "└ @ RiskSensitiveSAC /home/kang/DRC_Project/DRC_Trajectron/src/rs_sac_controller.jl:733\n",
      "┌ Warning: Time 5.10 [sec]: This evaluation iteration took 0.112 [sec], which exceeds dtc.\n",
      "└ @ RiskSensitiveSAC /home/kang/DRC_Project/DRC_Trajectron/src/evaluation.jl:300\n"
     ]
    },
    {
     "name": "stderr",
     "output_type": "stream",
     "text": [
      "┌ Warning: Time 5.20 [sec]: SAC computation took 0.106 [sec], which exceeds the maximum computation time allowed.\n",
      "└ @ RiskSensitiveSAC /home/kang/DRC_Project/DRC_Trajectron/src/rs_sac_controller.jl:733\n",
      "┌ Warning: Time 5.20 [sec]: This evaluation iteration took 0.107 [sec], which exceeds dtc.\n",
      "└ @ RiskSensitiveSAC /home/kang/DRC_Project/DRC_Trajectron/src/evaluation.jl:300\n"
     ]
    },
    {
     "name": "stderr",
     "output_type": "stream",
     "text": [
      "┌ Warning: Time 5.30 [sec]: SAC computation took 0.115 [sec], which exceeds the maximum computation time allowed.\n",
      "└ @ RiskSensitiveSAC /home/kang/DRC_Project/DRC_Trajectron/src/rs_sac_controller.jl:733\n",
      "┌ Warning: Time 5.30 [sec]: This evaluation iteration took 0.115 [sec], which exceeds dtc.\n",
      "└ @ RiskSensitiveSAC /home/kang/DRC_Project/DRC_Trajectron/src/evaluation.jl:300\n"
     ]
    },
    {
     "name": "stderr",
     "output_type": "stream",
     "text": [
      "┌ Warning: Time 5.40 [sec]: SAC computation took 0.149 [sec], which exceeds the maximum computation time allowed.\n",
      "└ @ RiskSensitiveSAC /home/kang/DRC_Project/DRC_Trajectron/src/rs_sac_controller.jl:733\n",
      "┌ Warning: Time 5.40 [sec]: This evaluation iteration took 0.149 [sec], which exceeds dtc.\n",
      "└ @ RiskSensitiveSAC /home/kang/DRC_Project/DRC_Trajectron/src/evaluation.jl:300\n"
     ]
    },
    {
     "name": "stderr",
     "output_type": "stream",
     "text": [
      "┌ Warning: Time 5.50 [sec]: This evaluation iteration took 0.094 [sec], which exceeds dtc.\n",
      "└ @ RiskSensitiveSAC /home/kang/DRC_Project/DRC_Trajectron/src/evaluation.jl:300\n"
     ]
    },
    {
     "name": "stderr",
     "output_type": "stream",
     "text": [
      "┌ Warning: Time 5.60 [sec]: SAC computation took 0.109 [sec], which exceeds the maximum computation time allowed.\n",
      "└ @ RiskSensitiveSAC /home/kang/DRC_Project/DRC_Trajectron/src/rs_sac_controller.jl:733\n",
      "┌ Warning: Time 5.60 [sec]: This evaluation iteration took 0.109 [sec], which exceeds dtc.\n",
      "└ @ RiskSensitiveSAC /home/kang/DRC_Project/DRC_Trajectron/src/evaluation.jl:300\n"
     ]
    },
    {
     "name": "stderr",
     "output_type": "stream",
     "text": [
      "┌ Warning: Time 5.70 [sec]: SAC computation took 0.105 [sec], which exceeds the maximum computation time allowed.\n",
      "└ @ RiskSensitiveSAC /home/kang/DRC_Project/DRC_Trajectron/src/rs_sac_controller.jl:733\n",
      "┌ Warning: Time 5.70 [sec]: This evaluation iteration took 0.106 [sec], which exceeds dtc.\n",
      "└ @ RiskSensitiveSAC /home/kang/DRC_Project/DRC_Trajectron/src/evaluation.jl:300\n"
     ]
    },
    {
     "name": "stderr",
     "output_type": "stream",
     "text": [
      "┌ Warning: Time 5.80 [sec]: SAC computation took 0.1 [sec], which exceeds the maximum computation time allowed.\n",
      "└ @ RiskSensitiveSAC /home/kang/DRC_Project/DRC_Trajectron/src/rs_sac_controller.jl:733\n",
      "┌ Warning: Time 5.80 [sec]: This evaluation iteration took 0.101 [sec], which exceeds dtc.\n",
      "└ @ RiskSensitiveSAC /home/kang/DRC_Project/DRC_Trajectron/src/evaluation.jl:300\n"
     ]
    },
    {
     "name": "stderr",
     "output_type": "stream",
     "text": [
      "┌ Warning: Time 5.90 [sec]: SAC computation took 0.108 [sec], which exceeds the maximum computation time allowed.\n",
      "└ @ RiskSensitiveSAC /home/kang/DRC_Project/DRC_Trajectron/src/rs_sac_controller.jl:733\n",
      "┌ Warning: Time 5.90 [sec]: This evaluation iteration took 0.108 [sec], which exceeds dtc.\n",
      "└ @ RiskSensitiveSAC /home/kang/DRC_Project/DRC_Trajectron/src/evaluation.jl:300\n"
     ]
    },
    {
     "name": "stderr",
     "output_type": "stream",
     "text": [
      "┌ Warning: Time 6.00 [sec]: This evaluation iteration took 0.096 [sec], which exceeds dtc.\n",
      "└ @ RiskSensitiveSAC /home/kang/DRC_Project/DRC_Trajectron/src/evaluation.jl:300\n"
     ]
    },
    {
     "name": "stderr",
     "output_type": "stream",
     "text": [
      "┌ Warning: Time 6.10 [sec]: SAC computation took 0.11 [sec], which exceeds the maximum computation time allowed.\n",
      "└ @ RiskSensitiveSAC /home/kang/DRC_Project/DRC_Trajectron/src/rs_sac_controller.jl:733\n",
      "┌ Warning: Time 6.10 [sec]: This evaluation iteration took 0.111 [sec], which exceeds dtc.\n",
      "└ @ RiskSensitiveSAC /home/kang/DRC_Project/DRC_Trajectron/src/evaluation.jl:300\n"
     ]
    },
    {
     "name": "stderr",
     "output_type": "stream",
     "text": [
      "┌ Warning: Time 6.20 [sec]: SAC computation took 0.113 [sec], which exceeds the maximum computation time allowed.\n",
      "└ @ RiskSensitiveSAC /home/kang/DRC_Project/DRC_Trajectron/src/rs_sac_controller.jl:733\n",
      "┌ Warning: Time 6.20 [sec]: This evaluation iteration took 0.114 [sec], which exceeds dtc.\n",
      "└ @ RiskSensitiveSAC /home/kang/DRC_Project/DRC_Trajectron/src/evaluation.jl:300\n"
     ]
    },
    {
     "name": "stderr",
     "output_type": "stream",
     "text": [
      "┌ Warning: Time 6.30 [sec]: This evaluation iteration took 0.094 [sec], which exceeds dtc.\n",
      "└ @ RiskSensitiveSAC /home/kang/DRC_Project/DRC_Trajectron/src/evaluation.jl:300\n"
     ]
    },
    {
     "name": "stderr",
     "output_type": "stream",
     "text": [
      "┌ Warning: Time 6.40 [sec]: SAC computation took 0.116 [sec], which exceeds the maximum computation time allowed.\n",
      "└ @ RiskSensitiveSAC /home/kang/DRC_Project/DRC_Trajectron/src/rs_sac_controller.jl:733\n",
      "┌ Warning: Time 6.40 [sec]: This evaluation iteration took 0.117 [sec], which exceeds dtc.\n",
      "└ @ RiskSensitiveSAC /home/kang/DRC_Project/DRC_Trajectron/src/evaluation.jl:300\n"
     ]
    },
    {
     "name": "stderr",
     "output_type": "stream",
     "text": [
      "┌ Warning: Time 6.50 [sec]: SAC computation took 0.113 [sec], which exceeds the maximum computation time allowed.\n",
      "└ @ RiskSensitiveSAC /home/kang/DRC_Project/DRC_Trajectron/src/rs_sac_controller.jl:733\n",
      "┌ Warning: Time 6.50 [sec]: This evaluation iteration took 0.114 [sec], which exceeds dtc.\n",
      "└ @ RiskSensitiveSAC /home/kang/DRC_Project/DRC_Trajectron/src/evaluation.jl:300\n"
     ]
    },
    {
     "name": "stderr",
     "output_type": "stream",
     "text": [
      "┌ Warning: Time 6.60 [sec]: This evaluation iteration took 0.091 [sec], which exceeds dtc.\n",
      "└ @ RiskSensitiveSAC /home/kang/DRC_Project/DRC_Trajectron/src/evaluation.jl:300\n"
     ]
    },
    {
     "name": "stderr",
     "output_type": "stream",
     "text": [
      "┌ Warning: Time 6.70 [sec]: SAC computation took 0.143 [sec], which exceeds the maximum computation time allowed.\n",
      "└ @ RiskSensitiveSAC /home/kang/DRC_Project/DRC_Trajectron/src/rs_sac_controller.jl:733\n",
      "┌ Warning: Time 6.70 [sec]: This evaluation iteration took 0.144 [sec], which exceeds dtc.\n",
      "└ @ RiskSensitiveSAC /home/kang/DRC_Project/DRC_Trajectron/src/evaluation.jl:300\n"
     ]
    },
    {
     "name": "stderr",
     "output_type": "stream",
     "text": [
      "┌ Warning: Time 6.80 [sec]: SAC computation took 0.113 [sec], which exceeds the maximum computation time allowed.\n",
      "└ @ RiskSensitiveSAC /home/kang/DRC_Project/DRC_Trajectron/src/rs_sac_controller.jl:733\n",
      "┌ Warning: Time 6.80 [sec]: This evaluation iteration took 0.115 [sec], which exceeds dtc.\n",
      "└ @ RiskSensitiveSAC /home/kang/DRC_Project/DRC_Trajectron/src/evaluation.jl:300\n"
     ]
    },
    {
     "name": "stderr",
     "output_type": "stream",
     "text": [
      "┌ Warning: Time 6.90 [sec]: This evaluation iteration took 0.089 [sec], which exceeds dtc.\n",
      "└ @ RiskSensitiveSAC /home/kang/DRC_Project/DRC_Trajectron/src/evaluation.jl:300\n"
     ]
    },
    {
     "name": "stderr",
     "output_type": "stream",
     "text": [
      "┌ Warning: Time 7.00 [sec]: SAC computation took 0.111 [sec], which exceeds the maximum computation time allowed.\n",
      "└ @ RiskSensitiveSAC /home/kang/DRC_Project/DRC_Trajectron/src/rs_sac_controller.jl:733\n",
      "┌ Warning: Time 7.00 [sec]: This evaluation iteration took 0.112 [sec], which exceeds dtc.\n",
      "└ @ RiskSensitiveSAC /home/kang/DRC_Project/DRC_Trajectron/src/evaluation.jl:300\n"
     ]
    },
    {
     "name": "stderr",
     "output_type": "stream",
     "text": [
      "┌ Warning: Time 7.10 [sec]: SAC computation took 0.111 [sec], which exceeds the maximum computation time allowed.\n",
      "└ @ RiskSensitiveSAC /home/kang/DRC_Project/DRC_Trajectron/src/rs_sac_controller.jl:733\n",
      "┌ Warning: Time 7.10 [sec]: This evaluation iteration took 0.111 [sec], which exceeds dtc.\n",
      "└ @ RiskSensitiveSAC /home/kang/DRC_Project/DRC_Trajectron/src/evaluation.jl:300\n"
     ]
    },
    {
     "name": "stderr",
     "output_type": "stream",
     "text": [
      "┌ Warning: Time 7.20 [sec]: This evaluation iteration took 0.097 [sec], which exceeds dtc.\n",
      "└ @ RiskSensitiveSAC /home/kang/DRC_Project/DRC_Trajectron/src/evaluation.jl:300\n"
     ]
    },
    {
     "name": "stderr",
     "output_type": "stream",
     "text": [
      "┌ Warning: Time 7.30 [sec]: SAC computation took 0.11 [sec], which exceeds the maximum computation time allowed.\n",
      "└ @ RiskSensitiveSAC /home/kang/DRC_Project/DRC_Trajectron/src/rs_sac_controller.jl:733\n",
      "┌ Warning: Time 7.30 [sec]: This evaluation iteration took 0.111 [sec], which exceeds dtc.\n",
      "└ @ RiskSensitiveSAC /home/kang/DRC_Project/DRC_Trajectron/src/evaluation.jl:300\n"
     ]
    },
    {
     "name": "stderr",
     "output_type": "stream",
     "text": [
      "┌ Warning: Time 7.40 [sec]: SAC computation took 0.102 [sec], which exceeds the maximum computation time allowed.\n",
      "└ @ RiskSensitiveSAC /home/kang/DRC_Project/DRC_Trajectron/src/rs_sac_controller.jl:733\n",
      "┌ Warning: Time 7.40 [sec]: This evaluation iteration took 0.103 [sec], which exceeds dtc.\n",
      "└ @ RiskSensitiveSAC /home/kang/DRC_Project/DRC_Trajectron/src/evaluation.jl:300\n"
     ]
    },
    {
     "name": "stderr",
     "output_type": "stream",
     "text": [
      "┌ Warning: Time 7.50 [sec]: SAC computation took 0.113 [sec], which exceeds the maximum computation time allowed.\n",
      "└ @ RiskSensitiveSAC /home/kang/DRC_Project/DRC_Trajectron/src/rs_sac_controller.jl:733\n",
      "┌ Warning: Time 7.50 [sec]: This evaluation iteration took 0.113 [sec], which exceeds dtc.\n",
      "└ @ RiskSensitiveSAC /home/kang/DRC_Project/DRC_Trajectron/src/evaluation.jl:300\n"
     ]
    },
    {
     "name": "stderr",
     "output_type": "stream",
     "text": [
      "┌ Warning: Time 7.60 [sec]: SAC computation took 0.115 [sec], which exceeds the maximum computation time allowed.\n",
      "└ @ RiskSensitiveSAC /home/kang/DRC_Project/DRC_Trajectron/src/rs_sac_controller.jl:733\n",
      "┌ Warning: Time 7.60 [sec]: This evaluation iteration took 0.116 [sec], which exceeds dtc.\n",
      "└ @ RiskSensitiveSAC /home/kang/DRC_Project/DRC_Trajectron/src/evaluation.jl:300\n"
     ]
    },
    {
     "name": "stderr",
     "output_type": "stream",
     "text": [
      "┌ Warning: Time 7.70 [sec]: SAC computation took 0.118 [sec], which exceeds the maximum computation time allowed.\n",
      "└ @ RiskSensitiveSAC /home/kang/DRC_Project/DRC_Trajectron/src/rs_sac_controller.jl:733\n",
      "┌ Warning: Time 7.70 [sec]: This evaluation iteration took 0.118 [sec], which exceeds dtc.\n",
      "└ @ RiskSensitiveSAC /home/kang/DRC_Project/DRC_Trajectron/src/evaluation.jl:300\n"
     ]
    },
    {
     "name": "stderr",
     "output_type": "stream",
     "text": [
      "┌ Warning: Time 7.80 [sec]: This evaluation iteration took 0.089 [sec], which exceeds dtc.\n",
      "└ @ RiskSensitiveSAC /home/kang/DRC_Project/DRC_Trajectron/src/evaluation.jl:300\n"
     ]
    },
    {
     "name": "stderr",
     "output_type": "stream",
     "text": [
      "┌ Warning: Time 7.90 [sec]: This evaluation iteration took 0.098 [sec], which exceeds dtc.\n",
      "└ @ RiskSensitiveSAC /home/kang/DRC_Project/DRC_Trajectron/src/evaluation.jl:300\n"
     ]
    },
    {
     "name": "stderr",
     "output_type": "stream",
     "text": [
      "┌ Warning: Time 8.00 [sec]: SAC computation took 0.108 [sec], which exceeds the maximum computation time allowed.\n",
      "└ @ RiskSensitiveSAC /home/kang/DRC_Project/DRC_Trajectron/src/rs_sac_controller.jl:733\n",
      "┌ Warning: Time 8.00 [sec]: This evaluation iteration took 0.11 [sec], which exceeds dtc.\n",
      "└ @ RiskSensitiveSAC /home/kang/DRC_Project/DRC_Trajectron/src/evaluation.jl:300\n"
     ]
    },
    {
     "name": "stderr",
     "output_type": "stream",
     "text": [
      "┌ Warning: Time 8.10 [sec]: This evaluation iteration took 0.085 [sec], which exceeds dtc.\n",
      "└ @ RiskSensitiveSAC /home/kang/DRC_Project/DRC_Trajectron/src/evaluation.jl:300\n"
     ]
    },
    {
     "name": "stderr",
     "output_type": "stream",
     "text": [
      "┌ Warning: Time 8.20 [sec]: This evaluation iteration took 0.087 [sec], which exceeds dtc.\n",
      "└ @ RiskSensitiveSAC /home/kang/DRC_Project/DRC_Trajectron/src/evaluation.jl:300\n"
     ]
    },
    {
     "name": "stderr",
     "output_type": "stream",
     "text": [
      "┌ Warning: Time 8.30 [sec]: This evaluation iteration took 0.087 [sec], which exceeds dtc.\n",
      "└ @ RiskSensitiveSAC /home/kang/DRC_Project/DRC_Trajectron/src/evaluation.jl:300\n"
     ]
    },
    {
     "name": "stderr",
     "output_type": "stream",
     "text": [
      "┌ Warning: Time 8.40 [sec]: This evaluation iteration took 0.092 [sec], which exceeds dtc.\n",
      "└ @ RiskSensitiveSAC /home/kang/DRC_Project/DRC_Trajectron/src/evaluation.jl:300\n"
     ]
    },
    {
     "name": "stderr",
     "output_type": "stream",
     "text": [
      "┌ Warning: Time 8.50 [sec]: This evaluation iteration took 0.088 [sec], which exceeds dtc.\n",
      "└ @ RiskSensitiveSAC /home/kang/DRC_Project/DRC_Trajectron/src/evaluation.jl:300\n"
     ]
    },
    {
     "name": "stderr",
     "output_type": "stream",
     "text": [
      "┌ Warning: Time 8.60 [sec]: This evaluation iteration took 0.088 [sec], which exceeds dtc.\n",
      "└ @ RiskSensitiveSAC /home/kang/DRC_Project/DRC_Trajectron/src/evaluation.jl:300\n"
     ]
    },
    {
     "name": "stderr",
     "output_type": "stream",
     "text": [
      "┌ Warning: Time 8.70 [sec]: This evaluation iteration took 0.087 [sec], which exceeds dtc.\n",
      "└ @ RiskSensitiveSAC /home/kang/DRC_Project/DRC_Trajectron/src/evaluation.jl:300\n"
     ]
    },
    {
     "name": "stderr",
     "output_type": "stream",
     "text": [
      "┌ Warning: Time 8.80 [sec]: This evaluation iteration took 0.088 [sec], which exceeds dtc.\n",
      "└ @ RiskSensitiveSAC /home/kang/DRC_Project/DRC_Trajectron/src/evaluation.jl:300\n"
     ]
    },
    {
     "name": "stderr",
     "output_type": "stream",
     "text": [
      "┌ Warning: Time 8.90 [sec]: This evaluation iteration took 0.087 [sec], which exceeds dtc.\n",
      "└ @ RiskSensitiveSAC /home/kang/DRC_Project/DRC_Trajectron/src/evaluation.jl:300\n"
     ]
    },
    {
     "name": "stderr",
     "output_type": "stream",
     "text": [
      "┌ Warning: Time 9.00 [sec]: This evaluation iteration took 0.089 [sec], which exceeds dtc.\n",
      "└ @ RiskSensitiveSAC /home/kang/DRC_Project/DRC_Trajectron/src/evaluation.jl:300\n"
     ]
    },
    {
     "name": "stderr",
     "output_type": "stream",
     "text": [
      "┌ Warning: Time 9.10 [sec]: This evaluation iteration took 0.088 [sec], which exceeds dtc.\n",
      "└ @ RiskSensitiveSAC /home/kang/DRC_Project/DRC_Trajectron/src/evaluation.jl:300\n"
     ]
    },
    {
     "name": "stderr",
     "output_type": "stream",
     "text": [
      "┌ Warning: Time 9.20 [sec]: This evaluation iteration took 0.084 [sec], which exceeds dtc.\n",
      "└ @ RiskSensitiveSAC /home/kang/DRC_Project/DRC_Trajectron/src/evaluation.jl:300\n"
     ]
    },
    {
     "name": "stderr",
     "output_type": "stream",
     "text": [
      "┌ Warning: Time 9.30 [sec]: SAC computation took 0.115 [sec], which exceeds the maximum computation time allowed.\n",
      "└ @ RiskSensitiveSAC /home/kang/DRC_Project/DRC_Trajectron/src/rs_sac_controller.jl:733\n",
      "┌ Warning: Time 9.30 [sec]: This evaluation iteration took 0.116 [sec], which exceeds dtc.\n",
      "└ @ RiskSensitiveSAC /home/kang/DRC_Project/DRC_Trajectron/src/evaluation.jl:300\n"
     ]
    },
    {
     "name": "stderr",
     "output_type": "stream",
     "text": [
      "┌ Warning: Time 9.40 [sec]: This evaluation iteration took 0.09 [sec], which exceeds dtc.\n",
      "└ @ RiskSensitiveSAC /home/kang/DRC_Project/DRC_Trajectron/src/evaluation.jl:300\n"
     ]
    },
    {
     "name": "stderr",
     "output_type": "stream",
     "text": [
      "┌ Warning: Time 9.50 [sec]: This evaluation iteration took 0.089 [sec], which exceeds dtc.\n",
      "└ @ RiskSensitiveSAC /home/kang/DRC_Project/DRC_Trajectron/src/evaluation.jl:300\n"
     ]
    },
    {
     "name": "stderr",
     "output_type": "stream",
     "text": [
      "┌ Warning: Time 9.60 [sec]: This evaluation iteration took 0.088 [sec], which exceeds dtc.\n",
      "└ @ RiskSensitiveSAC /home/kang/DRC_Project/DRC_Trajectron/src/evaluation.jl:300\n"
     ]
    },
    {
     "name": "stderr",
     "output_type": "stream",
     "text": [
      "┌ Warning: Time 9.70 [sec]: This evaluation iteration took 0.086 [sec], which exceeds dtc.\n",
      "└ @ RiskSensitiveSAC /home/kang/DRC_Project/DRC_Trajectron/src/evaluation.jl:300\n"
     ]
    },
    {
     "name": "stderr",
     "output_type": "stream",
     "text": [
      "┌ Warning: Time 9.80 [sec]: This evaluation iteration took 0.083 [sec], which exceeds dtc.\n",
      "└ @ RiskSensitiveSAC /home/kang/DRC_Project/DRC_Trajectron/src/evaluation.jl:300\n"
     ]
    },
    {
     "name": "stderr",
     "output_type": "stream",
     "text": [
      "┌ Warning: Time 9.90 [sec]: This evaluation iteration took 0.087 [sec], which exceeds dtc.\n",
      "└ @ RiskSensitiveSAC /home/kang/DRC_Project/DRC_Trajectron/src/evaluation.jl:300\n"
     ]
    },
    {
     "name": "stdout",
     "output_type": "stream",
     "text": [
      "Total Collision: 0, Total Position Cost: 78.02140447685446, Total Control Cost: 1.9446010679235335, Minimum Distance: 1.0808172080032874, Experiment 5: "
     ]
    },
    {
     "name": "stderr",
     "output_type": "stream",
     "text": [
      "┌ Warning: Time 0.10 [sec]: This evaluation iteration took 0.088 [sec], which exceeds dtc.\n",
      "└ @ RiskSensitiveSAC /home/kang/DRC_Project/DRC_Trajectron/src/evaluation.jl:300\n"
     ]
    },
    {
     "name": "stderr",
     "output_type": "stream",
     "text": [
      "┌ Warning: Time 0.20 [sec]: This evaluation iteration took 0.092 [sec], which exceeds dtc.\n",
      "└ @ RiskSensitiveSAC /home/kang/DRC_Project/DRC_Trajectron/src/evaluation.jl:300\n"
     ]
    },
    {
     "name": "stderr",
     "output_type": "stream",
     "text": [
      "┌ Warning: Time 0.30 [sec]: This evaluation iteration took 0.086 [sec], which exceeds dtc.\n",
      "└ @ RiskSensitiveSAC /home/kang/DRC_Project/DRC_Trajectron/src/evaluation.jl:300\n"
     ]
    },
    {
     "name": "stderr",
     "output_type": "stream",
     "text": [
      "┌ Warning: Time 0.40 [sec]: This evaluation iteration took 0.094 [sec], which exceeds dtc.\n",
      "└ @ RiskSensitiveSAC /home/kang/DRC_Project/DRC_Trajectron/src/evaluation.jl:300\n"
     ]
    },
    {
     "name": "stderr",
     "output_type": "stream",
     "text": [
      "┌ Warning: Time 0.50 [sec]: This evaluation iteration took 0.087 [sec], which exceeds dtc.\n",
      "└ @ RiskSensitiveSAC /home/kang/DRC_Project/DRC_Trajectron/src/evaluation.jl:300\n"
     ]
    },
    {
     "name": "stderr",
     "output_type": "stream",
     "text": [
      "┌ Warning: Time 0.60 [sec]: SAC computation took 0.112 [sec], which exceeds the maximum computation time allowed.\n",
      "└ @ RiskSensitiveSAC /home/kang/DRC_Project/DRC_Trajectron/src/rs_sac_controller.jl:733\n",
      "┌ Warning: Time 0.60 [sec]: This evaluation iteration took 0.112 [sec], which exceeds dtc.\n",
      "└ @ RiskSensitiveSAC /home/kang/DRC_Project/DRC_Trajectron/src/evaluation.jl:300\n"
     ]
    },
    {
     "name": "stderr",
     "output_type": "stream",
     "text": [
      "┌ Warning: Time 0.70 [sec]: This evaluation iteration took 0.086 [sec], which exceeds dtc.\n",
      "└ @ RiskSensitiveSAC /home/kang/DRC_Project/DRC_Trajectron/src/evaluation.jl:300\n"
     ]
    },
    {
     "name": "stderr",
     "output_type": "stream",
     "text": [
      "┌ Warning: Time 0.80 [sec]: This evaluation iteration took 0.087 [sec], which exceeds dtc.\n",
      "└ @ RiskSensitiveSAC /home/kang/DRC_Project/DRC_Trajectron/src/evaluation.jl:300\n"
     ]
    },
    {
     "name": "stderr",
     "output_type": "stream",
     "text": [
      "┌ Warning: Time 0.90 [sec]: This evaluation iteration took 0.087 [sec], which exceeds dtc.\n",
      "└ @ RiskSensitiveSAC /home/kang/DRC_Project/DRC_Trajectron/src/evaluation.jl:300\n"
     ]
    },
    {
     "name": "stderr",
     "output_type": "stream",
     "text": [
      "┌ Warning: Time 1.00 [sec]: This evaluation iteration took 0.086 [sec], which exceeds dtc.\n",
      "└ @ RiskSensitiveSAC /home/kang/DRC_Project/DRC_Trajectron/src/evaluation.jl:300\n"
     ]
    },
    {
     "name": "stderr",
     "output_type": "stream",
     "text": [
      "┌ Warning: Time 1.10 [sec]: This evaluation iteration took 0.088 [sec], which exceeds dtc.\n",
      "└ @ RiskSensitiveSAC /home/kang/DRC_Project/DRC_Trajectron/src/evaluation.jl:300\n"
     ]
    },
    {
     "name": "stderr",
     "output_type": "stream",
     "text": [
      "┌ Warning: Time 1.20 [sec]: This evaluation iteration took 0.086 [sec], which exceeds dtc.\n",
      "└ @ RiskSensitiveSAC /home/kang/DRC_Project/DRC_Trajectron/src/evaluation.jl:300\n"
     ]
    },
    {
     "name": "stderr",
     "output_type": "stream",
     "text": [
      "┌ Warning: Time 1.30 [sec]: This evaluation iteration took 0.083 [sec], which exceeds dtc.\n",
      "└ @ RiskSensitiveSAC /home/kang/DRC_Project/DRC_Trajectron/src/evaluation.jl:300\n"
     ]
    },
    {
     "name": "stderr",
     "output_type": "stream",
     "text": [
      "┌ Warning: Time 1.40 [sec]: This evaluation iteration took 0.087 [sec], which exceeds dtc.\n",
      "└ @ RiskSensitiveSAC /home/kang/DRC_Project/DRC_Trajectron/src/evaluation.jl:300\n"
     ]
    },
    {
     "name": "stderr",
     "output_type": "stream",
     "text": [
      "┌ Warning: Time 1.50 [sec]: This evaluation iteration took 0.087 [sec], which exceeds dtc.\n",
      "└ @ RiskSensitiveSAC /home/kang/DRC_Project/DRC_Trajectron/src/evaluation.jl:300\n"
     ]
    },
    {
     "name": "stderr",
     "output_type": "stream",
     "text": [
      "┌ Warning: Time 1.60 [sec]: This evaluation iteration took 0.088 [sec], which exceeds dtc.\n",
      "└ @ RiskSensitiveSAC /home/kang/DRC_Project/DRC_Trajectron/src/evaluation.jl:300\n"
     ]
    },
    {
     "name": "stderr",
     "output_type": "stream",
     "text": [
      "┌ Warning: Time 1.70 [sec]: This evaluation iteration took 0.087 [sec], which exceeds dtc.\n",
      "└ @ RiskSensitiveSAC /home/kang/DRC_Project/DRC_Trajectron/src/evaluation.jl:300\n"
     ]
    },
    {
     "name": "stderr",
     "output_type": "stream",
     "text": [
      "┌ Warning: Time 1.80 [sec]: This evaluation iteration took 0.09 [sec], which exceeds dtc.\n",
      "└ @ RiskSensitiveSAC /home/kang/DRC_Project/DRC_Trajectron/src/evaluation.jl:300\n"
     ]
    },
    {
     "name": "stderr",
     "output_type": "stream",
     "text": [
      "┌ Warning: Time 1.90 [sec]: SAC computation took 0.119 [sec], which exceeds the maximum computation time allowed.\n",
      "└ @ RiskSensitiveSAC /home/kang/DRC_Project/DRC_Trajectron/src/rs_sac_controller.jl:733\n",
      "┌ Warning: Time 1.90 [sec]: This evaluation iteration took 0.119 [sec], which exceeds dtc.\n",
      "└ @ RiskSensitiveSAC /home/kang/DRC_Project/DRC_Trajectron/src/evaluation.jl:300\n"
     ]
    },
    {
     "name": "stderr",
     "output_type": "stream",
     "text": [
      "┌ Warning: Time 2.00 [sec]: This evaluation iteration took 0.089 [sec], which exceeds dtc.\n",
      "└ @ RiskSensitiveSAC /home/kang/DRC_Project/DRC_Trajectron/src/evaluation.jl:300\n"
     ]
    },
    {
     "name": "stderr",
     "output_type": "stream",
     "text": [
      "┌ Warning: Time 2.10 [sec]: This evaluation iteration took 0.082 [sec], which exceeds dtc.\n",
      "└ @ RiskSensitiveSAC /home/kang/DRC_Project/DRC_Trajectron/src/evaluation.jl:300\n"
     ]
    },
    {
     "name": "stderr",
     "output_type": "stream",
     "text": [
      "┌ Warning: Time 2.20 [sec]: This evaluation iteration took 0.087 [sec], which exceeds dtc.\n",
      "└ @ RiskSensitiveSAC /home/kang/DRC_Project/DRC_Trajectron/src/evaluation.jl:300\n"
     ]
    },
    {
     "name": "stderr",
     "output_type": "stream",
     "text": [
      "┌ Warning: Time 2.30 [sec]: This evaluation iteration took 0.086 [sec], which exceeds dtc.\n",
      "└ @ RiskSensitiveSAC /home/kang/DRC_Project/DRC_Trajectron/src/evaluation.jl:300\n"
     ]
    },
    {
     "name": "stderr",
     "output_type": "stream",
     "text": [
      "┌ Warning: Time 2.40 [sec]: This evaluation iteration took 0.088 [sec], which exceeds dtc.\n",
      "└ @ RiskSensitiveSAC /home/kang/DRC_Project/DRC_Trajectron/src/evaluation.jl:300\n"
     ]
    },
    {
     "name": "stderr",
     "output_type": "stream",
     "text": [
      "┌ Warning: Time 2.50 [sec]: This evaluation iteration took 0.086 [sec], which exceeds dtc.\n",
      "└ @ RiskSensitiveSAC /home/kang/DRC_Project/DRC_Trajectron/src/evaluation.jl:300\n"
     ]
    },
    {
     "name": "stderr",
     "output_type": "stream",
     "text": [
      "┌ Warning: Time 2.60 [sec]: This evaluation iteration took 0.092 [sec], which exceeds dtc.\n",
      "└ @ RiskSensitiveSAC /home/kang/DRC_Project/DRC_Trajectron/src/evaluation.jl:300\n"
     ]
    },
    {
     "name": "stderr",
     "output_type": "stream",
     "text": [
      "┌ Warning: Time 2.70 [sec]: This evaluation iteration took 0.088 [sec], which exceeds dtc.\n",
      "└ @ RiskSensitiveSAC /home/kang/DRC_Project/DRC_Trajectron/src/evaluation.jl:300\n"
     ]
    },
    {
     "name": "stderr",
     "output_type": "stream",
     "text": [
      "┌ Warning: Time 2.80 [sec]: This evaluation iteration took 0.089 [sec], which exceeds dtc.\n",
      "└ @ RiskSensitiveSAC /home/kang/DRC_Project/DRC_Trajectron/src/evaluation.jl:300\n"
     ]
    },
    {
     "name": "stderr",
     "output_type": "stream",
     "text": [
      "┌ Warning: Time 2.90 [sec]: This evaluation iteration took 0.088 [sec], which exceeds dtc.\n",
      "└ @ RiskSensitiveSAC /home/kang/DRC_Project/DRC_Trajectron/src/evaluation.jl:300\n"
     ]
    },
    {
     "name": "stderr",
     "output_type": "stream",
     "text": [
      "┌ Warning: Time 3.00 [sec]: This evaluation iteration took 0.084 [sec], which exceeds dtc.\n",
      "└ @ RiskSensitiveSAC /home/kang/DRC_Project/DRC_Trajectron/src/evaluation.jl:300\n"
     ]
    },
    {
     "name": "stderr",
     "output_type": "stream",
     "text": [
      "┌ Warning: Time 3.10 [sec]: This evaluation iteration took 0.088 [sec], which exceeds dtc.\n",
      "└ @ RiskSensitiveSAC /home/kang/DRC_Project/DRC_Trajectron/src/evaluation.jl:300\n"
     ]
    },
    {
     "name": "stderr",
     "output_type": "stream",
     "text": [
      "┌ Warning: Time 3.20 [sec]: SAC computation took 0.117 [sec], which exceeds the maximum computation time allowed.\n",
      "└ @ RiskSensitiveSAC /home/kang/DRC_Project/DRC_Trajectron/src/rs_sac_controller.jl:733\n",
      "┌ Warning: Time 3.20 [sec]: This evaluation iteration took 0.118 [sec], which exceeds dtc.\n",
      "└ @ RiskSensitiveSAC /home/kang/DRC_Project/DRC_Trajectron/src/evaluation.jl:300\n"
     ]
    },
    {
     "name": "stderr",
     "output_type": "stream",
     "text": [
      "┌ Warning: Time 3.30 [sec]: This evaluation iteration took 0.088 [sec], which exceeds dtc.\n",
      "└ @ RiskSensitiveSAC /home/kang/DRC_Project/DRC_Trajectron/src/evaluation.jl:300\n"
     ]
    },
    {
     "name": "stderr",
     "output_type": "stream",
     "text": [
      "┌ Warning: Time 3.40 [sec]: This evaluation iteration took 0.087 [sec], which exceeds dtc.\n",
      "└ @ RiskSensitiveSAC /home/kang/DRC_Project/DRC_Trajectron/src/evaluation.jl:300\n"
     ]
    },
    {
     "name": "stderr",
     "output_type": "stream",
     "text": [
      "┌ Warning: Time 3.50 [sec]: This evaluation iteration took 0.086 [sec], which exceeds dtc.\n",
      "└ @ RiskSensitiveSAC /home/kang/DRC_Project/DRC_Trajectron/src/evaluation.jl:300\n"
     ]
    },
    {
     "name": "stderr",
     "output_type": "stream",
     "text": [
      "┌ Warning: Time 3.60 [sec]: This evaluation iteration took 0.089 [sec], which exceeds dtc.\n",
      "└ @ RiskSensitiveSAC /home/kang/DRC_Project/DRC_Trajectron/src/evaluation.jl:300\n"
     ]
    },
    {
     "name": "stderr",
     "output_type": "stream",
     "text": [
      "┌ Warning: Time 3.70 [sec]: This evaluation iteration took 0.087 [sec], which exceeds dtc.\n",
      "└ @ RiskSensitiveSAC /home/kang/DRC_Project/DRC_Trajectron/src/evaluation.jl:300\n"
     ]
    },
    {
     "name": "stderr",
     "output_type": "stream",
     "text": [
      "┌ Warning: Time 3.80 [sec]: This evaluation iteration took 0.083 [sec], which exceeds dtc.\n",
      "└ @ RiskSensitiveSAC /home/kang/DRC_Project/DRC_Trajectron/src/evaluation.jl:300\n"
     ]
    },
    {
     "name": "stderr",
     "output_type": "stream",
     "text": [
      "┌ Warning: Time 3.90 [sec]: This evaluation iteration took 0.087 [sec], which exceeds dtc.\n",
      "└ @ RiskSensitiveSAC /home/kang/DRC_Project/DRC_Trajectron/src/evaluation.jl:300\n"
     ]
    },
    {
     "name": "stderr",
     "output_type": "stream",
     "text": [
      "┌ Warning: Time 4.00 [sec]: This evaluation iteration took 0.087 [sec], which exceeds dtc.\n",
      "└ @ RiskSensitiveSAC /home/kang/DRC_Project/DRC_Trajectron/src/evaluation.jl:300\n"
     ]
    },
    {
     "name": "stderr",
     "output_type": "stream",
     "text": [
      "┌ Warning: Time 4.10 [sec]: This evaluation iteration took 0.091 [sec], which exceeds dtc.\n",
      "└ @ RiskSensitiveSAC /home/kang/DRC_Project/DRC_Trajectron/src/evaluation.jl:300\n"
     ]
    },
    {
     "name": "stderr",
     "output_type": "stream",
     "text": [
      "┌ Warning: Time 4.20 [sec]: This evaluation iteration took 0.082 [sec], which exceeds dtc.\n",
      "└ @ RiskSensitiveSAC /home/kang/DRC_Project/DRC_Trajectron/src/evaluation.jl:300\n"
     ]
    },
    {
     "name": "stderr",
     "output_type": "stream",
     "text": [
      "┌ Warning: Time 4.30 [sec]: This evaluation iteration took 0.094 [sec], which exceeds dtc.\n",
      "└ @ RiskSensitiveSAC /home/kang/DRC_Project/DRC_Trajectron/src/evaluation.jl:300\n"
     ]
    },
    {
     "name": "stderr",
     "output_type": "stream",
     "text": [
      "┌ Warning: Time 4.40 [sec]: This evaluation iteration took 0.091 [sec], which exceeds dtc.\n",
      "└ @ RiskSensitiveSAC /home/kang/DRC_Project/DRC_Trajectron/src/evaluation.jl:300\n"
     ]
    },
    {
     "name": "stderr",
     "output_type": "stream",
     "text": [
      "┌ Warning: Time 4.50 [sec]: This evaluation iteration took 0.09 [sec], which exceeds dtc.\n",
      "└ @ RiskSensitiveSAC /home/kang/DRC_Project/DRC_Trajectron/src/evaluation.jl:300\n"
     ]
    },
    {
     "name": "stderr",
     "output_type": "stream",
     "text": [
      "┌ Warning: Time 4.60 [sec]: SAC computation took 0.11 [sec], which exceeds the maximum computation time allowed.\n",
      "└ @ RiskSensitiveSAC /home/kang/DRC_Project/DRC_Trajectron/src/rs_sac_controller.jl:733\n",
      "┌ Warning: Time 4.60 [sec]: This evaluation iteration took 0.111 [sec], which exceeds dtc.\n",
      "└ @ RiskSensitiveSAC /home/kang/DRC_Project/DRC_Trajectron/src/evaluation.jl:300\n"
     ]
    },
    {
     "name": "stderr",
     "output_type": "stream",
     "text": [
      "┌ Warning: Time 4.70 [sec]: This evaluation iteration took 0.086 [sec], which exceeds dtc.\n",
      "└ @ RiskSensitiveSAC /home/kang/DRC_Project/DRC_Trajectron/src/evaluation.jl:300\n"
     ]
    },
    {
     "name": "stderr",
     "output_type": "stream",
     "text": [
      "┌ Warning: Time 4.80 [sec]: This evaluation iteration took 0.087 [sec], which exceeds dtc.\n",
      "└ @ RiskSensitiveSAC /home/kang/DRC_Project/DRC_Trajectron/src/evaluation.jl:300\n"
     ]
    },
    {
     "name": "stderr",
     "output_type": "stream",
     "text": [
      "┌ Warning: Time 4.90 [sec]: This evaluation iteration took 0.085 [sec], which exceeds dtc.\n",
      "└ @ RiskSensitiveSAC /home/kang/DRC_Project/DRC_Trajectron/src/evaluation.jl:300\n"
     ]
    },
    {
     "name": "stderr",
     "output_type": "stream",
     "text": [
      "┌ Warning: Time 5.00 [sec]: This evaluation iteration took 0.091 [sec], which exceeds dtc.\n",
      "└ @ RiskSensitiveSAC /home/kang/DRC_Project/DRC_Trajectron/src/evaluation.jl:300\n"
     ]
    },
    {
     "name": "stderr",
     "output_type": "stream",
     "text": [
      "┌ Warning: Time 5.10 [sec]: This evaluation iteration took 0.087 [sec], which exceeds dtc.\n",
      "└ @ RiskSensitiveSAC /home/kang/DRC_Project/DRC_Trajectron/src/evaluation.jl:300\n"
     ]
    },
    {
     "name": "stderr",
     "output_type": "stream",
     "text": [
      "┌ Warning: Time 5.20 [sec]: This evaluation iteration took 0.087 [sec], which exceeds dtc.\n",
      "└ @ RiskSensitiveSAC /home/kang/DRC_Project/DRC_Trajectron/src/evaluation.jl:300\n"
     ]
    },
    {
     "name": "stderr",
     "output_type": "stream",
     "text": [
      "┌ Warning: Time 5.30 [sec]: This evaluation iteration took 0.083 [sec], which exceeds dtc.\n",
      "└ @ RiskSensitiveSAC /home/kang/DRC_Project/DRC_Trajectron/src/evaluation.jl:300\n"
     ]
    },
    {
     "name": "stderr",
     "output_type": "stream",
     "text": [
      "┌ Warning: Time 5.40 [sec]: This evaluation iteration took 0.088 [sec], which exceeds dtc.\n",
      "└ @ RiskSensitiveSAC /home/kang/DRC_Project/DRC_Trajectron/src/evaluation.jl:300\n"
     ]
    },
    {
     "name": "stderr",
     "output_type": "stream",
     "text": [
      "┌ Warning: Time 5.50 [sec]: SAC computation took 0.1 [sec], which exceeds the maximum computation time allowed.\n",
      "└ @ RiskSensitiveSAC /home/kang/DRC_Project/DRC_Trajectron/src/rs_sac_controller.jl:733\n",
      "┌ Warning: Time 5.50 [sec]: This evaluation iteration took 0.101 [sec], which exceeds dtc.\n",
      "└ @ RiskSensitiveSAC /home/kang/DRC_Project/DRC_Trajectron/src/evaluation.jl:300\n"
     ]
    },
    {
     "name": "stderr",
     "output_type": "stream",
     "text": [
      "┌ Warning: Time 5.60 [sec]: This evaluation iteration took 0.089 [sec], which exceeds dtc.\n",
      "└ @ RiskSensitiveSAC /home/kang/DRC_Project/DRC_Trajectron/src/evaluation.jl:300\n"
     ]
    },
    {
     "name": "stderr",
     "output_type": "stream",
     "text": [
      "┌ Warning: Time 5.70 [sec]: This evaluation iteration took 0.089 [sec], which exceeds dtc.\n",
      "└ @ RiskSensitiveSAC /home/kang/DRC_Project/DRC_Trajectron/src/evaluation.jl:300\n"
     ]
    },
    {
     "name": "stderr",
     "output_type": "stream",
     "text": [
      "┌ Warning: Time 5.80 [sec]: This evaluation iteration took 0.089 [sec], which exceeds dtc.\n",
      "└ @ RiskSensitiveSAC /home/kang/DRC_Project/DRC_Trajectron/src/evaluation.jl:300\n"
     ]
    },
    {
     "name": "stderr",
     "output_type": "stream",
     "text": [
      "┌ Warning: Time 5.90 [sec]: SAC computation took 0.114 [sec], which exceeds the maximum computation time allowed.\n",
      "└ @ RiskSensitiveSAC /home/kang/DRC_Project/DRC_Trajectron/src/rs_sac_controller.jl:733\n",
      "┌ Warning: Time 5.90 [sec]: This evaluation iteration took 0.114 [sec], which exceeds dtc.\n",
      "└ @ RiskSensitiveSAC /home/kang/DRC_Project/DRC_Trajectron/src/evaluation.jl:300\n"
     ]
    },
    {
     "name": "stderr",
     "output_type": "stream",
     "text": [
      "┌ Warning: Time 6.00 [sec]: This evaluation iteration took 0.09 [sec], which exceeds dtc.\n",
      "└ @ RiskSensitiveSAC /home/kang/DRC_Project/DRC_Trajectron/src/evaluation.jl:300\n"
     ]
    },
    {
     "name": "stderr",
     "output_type": "stream",
     "text": [
      "┌ Warning: Time 6.10 [sec]: This evaluation iteration took 0.087 [sec], which exceeds dtc.\n",
      "└ @ RiskSensitiveSAC /home/kang/DRC_Project/DRC_Trajectron/src/evaluation.jl:300\n"
     ]
    },
    {
     "name": "stderr",
     "output_type": "stream",
     "text": [
      "┌ Warning: Time 6.20 [sec]: This evaluation iteration took 0.095 [sec], which exceeds dtc.\n",
      "└ @ RiskSensitiveSAC /home/kang/DRC_Project/DRC_Trajectron/src/evaluation.jl:300\n"
     ]
    },
    {
     "name": "stderr",
     "output_type": "stream",
     "text": [
      "┌ Warning: Time 6.30 [sec]: This evaluation iteration took 0.085 [sec], which exceeds dtc.\n",
      "└ @ RiskSensitiveSAC /home/kang/DRC_Project/DRC_Trajectron/src/evaluation.jl:300\n"
     ]
    },
    {
     "name": "stderr",
     "output_type": "stream",
     "text": [
      "┌ Warning: Time 6.40 [sec]: This evaluation iteration took 0.087 [sec], which exceeds dtc.\n",
      "└ @ RiskSensitiveSAC /home/kang/DRC_Project/DRC_Trajectron/src/evaluation.jl:300\n"
     ]
    },
    {
     "name": "stderr",
     "output_type": "stream",
     "text": [
      "┌ Warning: Time 6.50 [sec]: This evaluation iteration took 0.087 [sec], which exceeds dtc.\n",
      "└ @ RiskSensitiveSAC /home/kang/DRC_Project/DRC_Trajectron/src/evaluation.jl:300\n"
     ]
    },
    {
     "name": "stderr",
     "output_type": "stream",
     "text": [
      "┌ Warning: Time 6.60 [sec]: This evaluation iteration took 0.081 [sec], which exceeds dtc.\n",
      "└ @ RiskSensitiveSAC /home/kang/DRC_Project/DRC_Trajectron/src/evaluation.jl:300\n"
     ]
    },
    {
     "name": "stderr",
     "output_type": "stream",
     "text": [
      "┌ Warning: Time 6.70 [sec]: This evaluation iteration took 0.094 [sec], which exceeds dtc.\n",
      "└ @ RiskSensitiveSAC /home/kang/DRC_Project/DRC_Trajectron/src/evaluation.jl:300\n"
     ]
    },
    {
     "name": "stderr",
     "output_type": "stream",
     "text": [
      "┌ Warning: Time 6.80 [sec]: This evaluation iteration took 0.084 [sec], which exceeds dtc.\n",
      "└ @ RiskSensitiveSAC /home/kang/DRC_Project/DRC_Trajectron/src/evaluation.jl:300\n"
     ]
    },
    {
     "name": "stderr",
     "output_type": "stream",
     "text": [
      "┌ Warning: Time 6.90 [sec]: This evaluation iteration took 0.089 [sec], which exceeds dtc.\n",
      "└ @ RiskSensitiveSAC /home/kang/DRC_Project/DRC_Trajectron/src/evaluation.jl:300\n"
     ]
    },
    {
     "name": "stderr",
     "output_type": "stream",
     "text": [
      "┌ Warning: Time 7.00 [sec]: This evaluation iteration took 0.088 [sec], which exceeds dtc.\n",
      "└ @ RiskSensitiveSAC /home/kang/DRC_Project/DRC_Trajectron/src/evaluation.jl:300\n"
     ]
    },
    {
     "name": "stderr",
     "output_type": "stream",
     "text": [
      "┌ Warning: Time 7.10 [sec]: This evaluation iteration took 0.086 [sec], which exceeds dtc.\n",
      "└ @ RiskSensitiveSAC /home/kang/DRC_Project/DRC_Trajectron/src/evaluation.jl:300\n"
     ]
    },
    {
     "name": "stderr",
     "output_type": "stream",
     "text": [
      "┌ Warning: Time 7.20 [sec]: This evaluation iteration took 0.092 [sec], which exceeds dtc.\n",
      "└ @ RiskSensitiveSAC /home/kang/DRC_Project/DRC_Trajectron/src/evaluation.jl:300\n"
     ]
    },
    {
     "name": "stderr",
     "output_type": "stream",
     "text": [
      "┌ Warning: Time 7.30 [sec]: SAC computation took 0.114 [sec], which exceeds the maximum computation time allowed.\n",
      "└ @ RiskSensitiveSAC /home/kang/DRC_Project/DRC_Trajectron/src/rs_sac_controller.jl:733\n",
      "┌ Warning: Time 7.30 [sec]: This evaluation iteration took 0.114 [sec], which exceeds dtc.\n",
      "└ @ RiskSensitiveSAC /home/kang/DRC_Project/DRC_Trajectron/src/evaluation.jl:300\n"
     ]
    },
    {
     "name": "stderr",
     "output_type": "stream",
     "text": [
      "┌ Warning: Time 7.40 [sec]: This evaluation iteration took 0.085 [sec], which exceeds dtc.\n",
      "└ @ RiskSensitiveSAC /home/kang/DRC_Project/DRC_Trajectron/src/evaluation.jl:300\n"
     ]
    },
    {
     "name": "stderr",
     "output_type": "stream",
     "text": [
      "┌ Warning: Time 7.50 [sec]: This evaluation iteration took 0.086 [sec], which exceeds dtc.\n",
      "└ @ RiskSensitiveSAC /home/kang/DRC_Project/DRC_Trajectron/src/evaluation.jl:300\n"
     ]
    },
    {
     "name": "stderr",
     "output_type": "stream",
     "text": [
      "┌ Warning: Time 7.60 [sec]: This evaluation iteration took 0.083 [sec], which exceeds dtc.\n",
      "└ @ RiskSensitiveSAC /home/kang/DRC_Project/DRC_Trajectron/src/evaluation.jl:300\n"
     ]
    },
    {
     "name": "stderr",
     "output_type": "stream",
     "text": [
      "┌ Warning: Time 7.70 [sec]: This evaluation iteration took 0.085 [sec], which exceeds dtc.\n",
      "└ @ RiskSensitiveSAC /home/kang/DRC_Project/DRC_Trajectron/src/evaluation.jl:300\n"
     ]
    },
    {
     "name": "stderr",
     "output_type": "stream",
     "text": [
      "┌ Warning: Time 7.80 [sec]: This evaluation iteration took 0.082 [sec], which exceeds dtc.\n",
      "└ @ RiskSensitiveSAC /home/kang/DRC_Project/DRC_Trajectron/src/evaluation.jl:300\n"
     ]
    },
    {
     "name": "stderr",
     "output_type": "stream",
     "text": [
      "┌ Warning: Time 7.90 [sec]: This evaluation iteration took 0.084 [sec], which exceeds dtc.\n",
      "└ @ RiskSensitiveSAC /home/kang/DRC_Project/DRC_Trajectron/src/evaluation.jl:300\n"
     ]
    },
    {
     "name": "stderr",
     "output_type": "stream",
     "text": [
      "┌ Warning: Time 8.00 [sec]: This evaluation iteration took 0.091 [sec], which exceeds dtc.\n",
      "└ @ RiskSensitiveSAC /home/kang/DRC_Project/DRC_Trajectron/src/evaluation.jl:300\n"
     ]
    },
    {
     "name": "stderr",
     "output_type": "stream",
     "text": [
      "┌ Warning: Time 8.10 [sec]: This evaluation iteration took 0.091 [sec], which exceeds dtc.\n",
      "└ @ RiskSensitiveSAC /home/kang/DRC_Project/DRC_Trajectron/src/evaluation.jl:300\n"
     ]
    },
    {
     "name": "stderr",
     "output_type": "stream",
     "text": [
      "┌ Warning: Time 8.20 [sec]: This evaluation iteration took 0.088 [sec], which exceeds dtc.\n",
      "└ @ RiskSensitiveSAC /home/kang/DRC_Project/DRC_Trajectron/src/evaluation.jl:300\n"
     ]
    },
    {
     "name": "stderr",
     "output_type": "stream",
     "text": [
      "┌ Warning: Time 8.30 [sec]: This evaluation iteration took 0.089 [sec], which exceeds dtc.\n",
      "└ @ RiskSensitiveSAC /home/kang/DRC_Project/DRC_Trajectron/src/evaluation.jl:300\n"
     ]
    },
    {
     "name": "stderr",
     "output_type": "stream",
     "text": [
      "┌ Warning: Time 8.40 [sec]: This evaluation iteration took 0.093 [sec], which exceeds dtc.\n",
      "└ @ RiskSensitiveSAC /home/kang/DRC_Project/DRC_Trajectron/src/evaluation.jl:300\n"
     ]
    },
    {
     "name": "stderr",
     "output_type": "stream",
     "text": [
      "┌ Warning: Time 8.50 [sec]: This evaluation iteration took 0.09 [sec], which exceeds dtc.\n",
      "└ @ RiskSensitiveSAC /home/kang/DRC_Project/DRC_Trajectron/src/evaluation.jl:300\n"
     ]
    },
    {
     "name": "stderr",
     "output_type": "stream",
     "text": [
      "┌ Warning: Time 8.60 [sec]: SAC computation took 0.117 [sec], which exceeds the maximum computation time allowed.\n",
      "└ @ RiskSensitiveSAC /home/kang/DRC_Project/DRC_Trajectron/src/rs_sac_controller.jl:733\n",
      "┌ Warning: Time 8.60 [sec]: This evaluation iteration took 0.117 [sec], which exceeds dtc.\n",
      "└ @ RiskSensitiveSAC /home/kang/DRC_Project/DRC_Trajectron/src/evaluation.jl:300\n"
     ]
    },
    {
     "name": "stderr",
     "output_type": "stream",
     "text": [
      "┌ Warning: Time 8.70 [sec]: This evaluation iteration took 0.086 [sec], which exceeds dtc.\n",
      "└ @ RiskSensitiveSAC /home/kang/DRC_Project/DRC_Trajectron/src/evaluation.jl:300\n"
     ]
    },
    {
     "name": "stderr",
     "output_type": "stream",
     "text": [
      "┌ Warning: Time 8.80 [sec]: This evaluation iteration took 0.087 [sec], which exceeds dtc.\n",
      "└ @ RiskSensitiveSAC /home/kang/DRC_Project/DRC_Trajectron/src/evaluation.jl:300\n"
     ]
    },
    {
     "name": "stderr",
     "output_type": "stream",
     "text": [
      "┌ Warning: Time 8.90 [sec]: This evaluation iteration took 0.086 [sec], which exceeds dtc.\n",
      "└ @ RiskSensitiveSAC /home/kang/DRC_Project/DRC_Trajectron/src/evaluation.jl:300\n"
     ]
    },
    {
     "name": "stderr",
     "output_type": "stream",
     "text": [
      "┌ Warning: Time 9.00 [sec]: This evaluation iteration took 0.089 [sec], which exceeds dtc.\n",
      "└ @ RiskSensitiveSAC /home/kang/DRC_Project/DRC_Trajectron/src/evaluation.jl:300\n"
     ]
    },
    {
     "name": "stderr",
     "output_type": "stream",
     "text": [
      "┌ Warning: Time 9.10 [sec]: This evaluation iteration took 0.096 [sec], which exceeds dtc.\n",
      "└ @ RiskSensitiveSAC /home/kang/DRC_Project/DRC_Trajectron/src/evaluation.jl:300\n"
     ]
    },
    {
     "name": "stderr",
     "output_type": "stream",
     "text": [
      "┌ Warning: Time 9.20 [sec]: This evaluation iteration took 0.082 [sec], which exceeds dtc.\n",
      "└ @ RiskSensitiveSAC /home/kang/DRC_Project/DRC_Trajectron/src/evaluation.jl:300\n"
     ]
    },
    {
     "name": "stderr",
     "output_type": "stream",
     "text": [
      "┌ Warning: Time 9.30 [sec]: This evaluation iteration took 0.08 [sec], which exceeds dtc.\n",
      "└ @ RiskSensitiveSAC /home/kang/DRC_Project/DRC_Trajectron/src/evaluation.jl:300\n"
     ]
    },
    {
     "name": "stderr",
     "output_type": "stream",
     "text": [
      "┌ Warning: Time 9.40 [sec]: This evaluation iteration took 0.089 [sec], which exceeds dtc.\n",
      "└ @ RiskSensitiveSAC /home/kang/DRC_Project/DRC_Trajectron/src/evaluation.jl:300\n"
     ]
    },
    {
     "name": "stderr",
     "output_type": "stream",
     "text": [
      "┌ Warning: Time 9.50 [sec]: This evaluation iteration took 0.088 [sec], which exceeds dtc.\n",
      "└ @ RiskSensitiveSAC /home/kang/DRC_Project/DRC_Trajectron/src/evaluation.jl:300\n"
     ]
    },
    {
     "name": "stderr",
     "output_type": "stream",
     "text": [
      "┌ Warning: Time 9.60 [sec]: This evaluation iteration took 0.089 [sec], which exceeds dtc.\n",
      "└ @ RiskSensitiveSAC /home/kang/DRC_Project/DRC_Trajectron/src/evaluation.jl:300\n"
     ]
    },
    {
     "name": "stderr",
     "output_type": "stream",
     "text": [
      "┌ Warning: Time 9.70 [sec]: This evaluation iteration took 0.089 [sec], which exceeds dtc.\n",
      "└ @ RiskSensitiveSAC /home/kang/DRC_Project/DRC_Trajectron/src/evaluation.jl:300\n"
     ]
    },
    {
     "name": "stderr",
     "output_type": "stream",
     "text": [
      "┌ Warning: Time 9.80 [sec]: This evaluation iteration took 0.093 [sec], which exceeds dtc.\n",
      "└ @ RiskSensitiveSAC /home/kang/DRC_Project/DRC_Trajectron/src/evaluation.jl:300\n"
     ]
    },
    {
     "name": "stderr",
     "output_type": "stream",
     "text": [
      "┌ Warning: Time 9.90 [sec]: This evaluation iteration took 0.088 [sec], which exceeds dtc.\n",
      "└ @ RiskSensitiveSAC /home/kang/DRC_Project/DRC_Trajectron/src/evaluation.jl:300\n"
     ]
    },
    {
     "name": "stdout",
     "output_type": "stream",
     "text": [
      "Total Collision: 0, Total Position Cost: 66.93909207821773, Total Control Cost: 1.7317153522889535, Minimum Distance: 1.084845212562085, Experiment 6: "
     ]
    },
    {
     "name": "stderr",
     "output_type": "stream",
     "text": [
      "┌ Warning: Time 0.00 [sec]: SAC computation took 0.117 [sec], which exceeds the maximum computation time allowed.\n",
      "└ @ RiskSensitiveSAC /home/kang/DRC_Project/DRC_Trajectron/src/rs_sac_controller.jl:733\n"
     ]
    },
    {
     "name": "stderr",
     "output_type": "stream",
     "text": [
      "┌ Warning: Time 0.10 [sec]: This evaluation iteration took 0.081 [sec], which exceeds dtc.\n",
      "└ @ RiskSensitiveSAC /home/kang/DRC_Project/DRC_Trajectron/src/evaluation.jl:300\n"
     ]
    },
    {
     "name": "stderr",
     "output_type": "stream",
     "text": [
      "┌ Warning: Time 0.20 [sec]: This evaluation iteration took 0.091 [sec], which exceeds dtc.\n",
      "└ @ RiskSensitiveSAC /home/kang/DRC_Project/DRC_Trajectron/src/evaluation.jl:300\n"
     ]
    },
    {
     "name": "stderr",
     "output_type": "stream",
     "text": [
      "┌ Warning: Time 0.30 [sec]: This evaluation iteration took 0.084 [sec], which exceeds dtc.\n",
      "└ @ RiskSensitiveSAC /home/kang/DRC_Project/DRC_Trajectron/src/evaluation.jl:300\n"
     ]
    },
    {
     "name": "stderr",
     "output_type": "stream",
     "text": [
      "┌ Warning: Time 0.40 [sec]: This evaluation iteration took 0.087 [sec], which exceeds dtc.\n",
      "└ @ RiskSensitiveSAC /home/kang/DRC_Project/DRC_Trajectron/src/evaluation.jl:300\n"
     ]
    },
    {
     "name": "stderr",
     "output_type": "stream",
     "text": [
      "┌ Warning: Time 0.50 [sec]: This evaluation iteration took 0.087 [sec], which exceeds dtc.\n",
      "└ @ RiskSensitiveSAC /home/kang/DRC_Project/DRC_Trajectron/src/evaluation.jl:300\n"
     ]
    },
    {
     "name": "stderr",
     "output_type": "stream",
     "text": [
      "┌ Warning: Time 0.60 [sec]: This evaluation iteration took 0.087 [sec], which exceeds dtc.\n",
      "└ @ RiskSensitiveSAC /home/kang/DRC_Project/DRC_Trajectron/src/evaluation.jl:300\n"
     ]
    },
    {
     "name": "stderr",
     "output_type": "stream",
     "text": [
      "┌ Warning: Time 0.70 [sec]: This evaluation iteration took 0.087 [sec], which exceeds dtc.\n",
      "└ @ RiskSensitiveSAC /home/kang/DRC_Project/DRC_Trajectron/src/evaluation.jl:300\n"
     ]
    },
    {
     "name": "stderr",
     "output_type": "stream",
     "text": [
      "┌ Warning: Time 0.80 [sec]: This evaluation iteration took 0.087 [sec], which exceeds dtc.\n",
      "└ @ RiskSensitiveSAC /home/kang/DRC_Project/DRC_Trajectron/src/evaluation.jl:300\n"
     ]
    },
    {
     "name": "stderr",
     "output_type": "stream",
     "text": [
      "┌ Warning: Time 0.90 [sec]: This evaluation iteration took 0.094 [sec], which exceeds dtc.\n",
      "└ @ RiskSensitiveSAC /home/kang/DRC_Project/DRC_Trajectron/src/evaluation.jl:300\n"
     ]
    },
    {
     "name": "stderr",
     "output_type": "stream",
     "text": [
      "┌ Warning: Time 1.00 [sec]: This evaluation iteration took 0.088 [sec], which exceeds dtc.\n",
      "└ @ RiskSensitiveSAC /home/kang/DRC_Project/DRC_Trajectron/src/evaluation.jl:300\n"
     ]
    },
    {
     "name": "stderr",
     "output_type": "stream",
     "text": [
      "┌ Warning: Time 1.10 [sec]: This evaluation iteration took 0.089 [sec], which exceeds dtc.\n",
      "└ @ RiskSensitiveSAC /home/kang/DRC_Project/DRC_Trajectron/src/evaluation.jl:300\n"
     ]
    },
    {
     "name": "stderr",
     "output_type": "stream",
     "text": [
      "┌ Warning: Time 1.20 [sec]: This evaluation iteration took 0.09 [sec], which exceeds dtc.\n",
      "└ @ RiskSensitiveSAC /home/kang/DRC_Project/DRC_Trajectron/src/evaluation.jl:300\n"
     ]
    },
    {
     "name": "stderr",
     "output_type": "stream",
     "text": [
      "┌ Warning: Time 1.30 [sec]: This evaluation iteration took 0.088 [sec], which exceeds dtc.\n",
      "└ @ RiskSensitiveSAC /home/kang/DRC_Project/DRC_Trajectron/src/evaluation.jl:300\n"
     ]
    },
    {
     "name": "stderr",
     "output_type": "stream",
     "text": [
      "┌ Warning: Time 1.40 [sec]: SAC computation took 0.11 [sec], which exceeds the maximum computation time allowed.\n",
      "└ @ RiskSensitiveSAC /home/kang/DRC_Project/DRC_Trajectron/src/rs_sac_controller.jl:733\n",
      "┌ Warning: Time 1.40 [sec]: This evaluation iteration took 0.111 [sec], which exceeds dtc.\n",
      "└ @ RiskSensitiveSAC /home/kang/DRC_Project/DRC_Trajectron/src/evaluation.jl:300\n"
     ]
    },
    {
     "name": "stderr",
     "output_type": "stream",
     "text": [
      "┌ Warning: Time 1.50 [sec]: This evaluation iteration took 0.088 [sec], which exceeds dtc.\n",
      "└ @ RiskSensitiveSAC /home/kang/DRC_Project/DRC_Trajectron/src/evaluation.jl:300\n"
     ]
    },
    {
     "name": "stderr",
     "output_type": "stream",
     "text": [
      "┌ Warning: Time 1.60 [sec]: This evaluation iteration took 0.09 [sec], which exceeds dtc.\n",
      "└ @ RiskSensitiveSAC /home/kang/DRC_Project/DRC_Trajectron/src/evaluation.jl:300\n"
     ]
    },
    {
     "name": "stderr",
     "output_type": "stream",
     "text": [
      "┌ Warning: Time 1.70 [sec]: This evaluation iteration took 0.089 [sec], which exceeds dtc.\n",
      "└ @ RiskSensitiveSAC /home/kang/DRC_Project/DRC_Trajectron/src/evaluation.jl:300\n"
     ]
    },
    {
     "name": "stderr",
     "output_type": "stream",
     "text": [
      "┌ Warning: Time 1.80 [sec]: This evaluation iteration took 0.088 [sec], which exceeds dtc.\n",
      "└ @ RiskSensitiveSAC /home/kang/DRC_Project/DRC_Trajectron/src/evaluation.jl:300\n"
     ]
    },
    {
     "name": "stderr",
     "output_type": "stream",
     "text": [
      "┌ Warning: Time 1.90 [sec]: This evaluation iteration took 0.087 [sec], which exceeds dtc.\n",
      "└ @ RiskSensitiveSAC /home/kang/DRC_Project/DRC_Trajectron/src/evaluation.jl:300\n"
     ]
    },
    {
     "name": "stderr",
     "output_type": "stream",
     "text": [
      "┌ Warning: Time 2.00 [sec]: This evaluation iteration took 0.083 [sec], which exceeds dtc.\n",
      "└ @ RiskSensitiveSAC /home/kang/DRC_Project/DRC_Trajectron/src/evaluation.jl:300\n"
     ]
    },
    {
     "name": "stderr",
     "output_type": "stream",
     "text": [
      "┌ Warning: Time 2.10 [sec]: SAC computation took 0.109 [sec], which exceeds the maximum computation time allowed.\n",
      "└ @ RiskSensitiveSAC /home/kang/DRC_Project/DRC_Trajectron/src/rs_sac_controller.jl:733\n",
      "┌ Warning: Time 2.10 [sec]: This evaluation iteration took 0.11 [sec], which exceeds dtc.\n",
      "└ @ RiskSensitiveSAC /home/kang/DRC_Project/DRC_Trajectron/src/evaluation.jl:300\n"
     ]
    },
    {
     "name": "stderr",
     "output_type": "stream",
     "text": [
      "┌ Warning: Time 2.20 [sec]: SAC computation took 0.118 [sec], which exceeds the maximum computation time allowed.\n",
      "└ @ RiskSensitiveSAC /home/kang/DRC_Project/DRC_Trajectron/src/rs_sac_controller.jl:733\n",
      "┌ Warning: Time 2.20 [sec]: This evaluation iteration took 0.119 [sec], which exceeds dtc.\n",
      "└ @ RiskSensitiveSAC /home/kang/DRC_Project/DRC_Trajectron/src/evaluation.jl:300\n"
     ]
    },
    {
     "name": "stderr",
     "output_type": "stream",
     "text": [
      "┌ Warning: Time 2.30 [sec]: SAC computation took 0.114 [sec], which exceeds the maximum computation time allowed.\n",
      "└ @ RiskSensitiveSAC /home/kang/DRC_Project/DRC_Trajectron/src/rs_sac_controller.jl:733\n",
      "┌ Warning: Time 2.30 [sec]: This evaluation iteration took 0.115 [sec], which exceeds dtc.\n",
      "└ @ RiskSensitiveSAC /home/kang/DRC_Project/DRC_Trajectron/src/evaluation.jl:300\n"
     ]
    },
    {
     "name": "stderr",
     "output_type": "stream",
     "text": [
      "┌ Warning: Time 2.40 [sec]: SAC computation took 0.12 [sec], which exceeds the maximum computation time allowed.\n",
      "└ @ RiskSensitiveSAC /home/kang/DRC_Project/DRC_Trajectron/src/rs_sac_controller.jl:733\n",
      "┌ Warning: Time 2.40 [sec]: This evaluation iteration took 0.121 [sec], which exceeds dtc.\n",
      "└ @ RiskSensitiveSAC /home/kang/DRC_Project/DRC_Trajectron/src/evaluation.jl:300\n"
     ]
    },
    {
     "name": "stderr",
     "output_type": "stream",
     "text": [
      "┌ Warning: Time 2.50 [sec]: This evaluation iteration took 0.092 [sec], which exceeds dtc.\n",
      "└ @ RiskSensitiveSAC /home/kang/DRC_Project/DRC_Trajectron/src/evaluation.jl:300\n"
     ]
    },
    {
     "name": "stderr",
     "output_type": "stream",
     "text": [
      "┌ Warning: Time 2.60 [sec]: SAC computation took 0.116 [sec], which exceeds the maximum computation time allowed.\n",
      "└ @ RiskSensitiveSAC /home/kang/DRC_Project/DRC_Trajectron/src/rs_sac_controller.jl:733\n",
      "┌ Warning: Time 2.60 [sec]: This evaluation iteration took 0.116 [sec], which exceeds dtc.\n",
      "└ @ RiskSensitiveSAC /home/kang/DRC_Project/DRC_Trajectron/src/evaluation.jl:300\n"
     ]
    },
    {
     "name": "stderr",
     "output_type": "stream",
     "text": [
      "┌ Warning: Time 2.70 [sec]: SAC computation took 0.113 [sec], which exceeds the maximum computation time allowed.\n",
      "└ @ RiskSensitiveSAC /home/kang/DRC_Project/DRC_Trajectron/src/rs_sac_controller.jl:733\n",
      "┌ Warning: Time 2.70 [sec]: This evaluation iteration took 0.114 [sec], which exceeds dtc.\n",
      "└ @ RiskSensitiveSAC /home/kang/DRC_Project/DRC_Trajectron/src/evaluation.jl:300\n"
     ]
    },
    {
     "name": "stderr",
     "output_type": "stream",
     "text": [
      "┌ Warning: Time 2.80 [sec]: SAC computation took 0.122 [sec], which exceeds the maximum computation time allowed.\n",
      "└ @ RiskSensitiveSAC /home/kang/DRC_Project/DRC_Trajectron/src/rs_sac_controller.jl:733\n",
      "┌ Warning: Time 2.80 [sec]: This evaluation iteration took 0.122 [sec], which exceeds dtc.\n",
      "└ @ RiskSensitiveSAC /home/kang/DRC_Project/DRC_Trajectron/src/evaluation.jl:300\n"
     ]
    },
    {
     "name": "stderr",
     "output_type": "stream",
     "text": [
      "┌ Warning: Time 2.90 [sec]: SAC computation took 0.11 [sec], which exceeds the maximum computation time allowed.\n",
      "└ @ RiskSensitiveSAC /home/kang/DRC_Project/DRC_Trajectron/src/rs_sac_controller.jl:733\n",
      "┌ Warning: Time 2.90 [sec]: This evaluation iteration took 0.111 [sec], which exceeds dtc.\n",
      "└ @ RiskSensitiveSAC /home/kang/DRC_Project/DRC_Trajectron/src/evaluation.jl:300\n"
     ]
    },
    {
     "name": "stderr",
     "output_type": "stream",
     "text": [
      "┌ Warning: Time 3.00 [sec]: SAC computation took 0.114 [sec], which exceeds the maximum computation time allowed.\n",
      "└ @ RiskSensitiveSAC /home/kang/DRC_Project/DRC_Trajectron/src/rs_sac_controller.jl:733\n",
      "┌ Warning: Time 3.00 [sec]: This evaluation iteration took 0.115 [sec], which exceeds dtc.\n",
      "└ @ RiskSensitiveSAC /home/kang/DRC_Project/DRC_Trajectron/src/evaluation.jl:300\n"
     ]
    },
    {
     "name": "stderr",
     "output_type": "stream",
     "text": [
      "┌ Warning: Time 3.10 [sec]: SAC computation took 0.131 [sec], which exceeds the maximum computation time allowed.\n",
      "└ @ RiskSensitiveSAC /home/kang/DRC_Project/DRC_Trajectron/src/rs_sac_controller.jl:733\n",
      "┌ Warning: Time 3.10 [sec]: This evaluation iteration took 0.132 [sec], which exceeds dtc.\n",
      "└ @ RiskSensitiveSAC /home/kang/DRC_Project/DRC_Trajectron/src/evaluation.jl:300\n"
     ]
    },
    {
     "name": "stderr",
     "output_type": "stream",
     "text": [
      "┌ Warning: Time 3.20 [sec]: SAC computation took 0.121 [sec], which exceeds the maximum computation time allowed.\n",
      "└ @ RiskSensitiveSAC /home/kang/DRC_Project/DRC_Trajectron/src/rs_sac_controller.jl:733\n",
      "┌ Warning: Time 3.20 [sec]: This evaluation iteration took 0.122 [sec], which exceeds dtc.\n",
      "└ @ RiskSensitiveSAC /home/kang/DRC_Project/DRC_Trajectron/src/evaluation.jl:300\n"
     ]
    },
    {
     "name": "stderr",
     "output_type": "stream",
     "text": [
      "┌ Warning: Time 3.30 [sec]: SAC computation took 0.112 [sec], which exceeds the maximum computation time allowed.\n",
      "└ @ RiskSensitiveSAC /home/kang/DRC_Project/DRC_Trajectron/src/rs_sac_controller.jl:733\n",
      "┌ Warning: Time 3.30 [sec]: This evaluation iteration took 0.113 [sec], which exceeds dtc.\n",
      "└ @ RiskSensitiveSAC /home/kang/DRC_Project/DRC_Trajectron/src/evaluation.jl:300\n"
     ]
    },
    {
     "name": "stderr",
     "output_type": "stream",
     "text": [
      "┌ Warning: Time 3.40 [sec]: SAC computation took 0.118 [sec], which exceeds the maximum computation time allowed.\n",
      "└ @ RiskSensitiveSAC /home/kang/DRC_Project/DRC_Trajectron/src/rs_sac_controller.jl:733\n",
      "┌ Warning: Time 3.40 [sec]: This evaluation iteration took 0.118 [sec], which exceeds dtc.\n",
      "└ @ RiskSensitiveSAC /home/kang/DRC_Project/DRC_Trajectron/src/evaluation.jl:300\n"
     ]
    },
    {
     "name": "stderr",
     "output_type": "stream",
     "text": [
      "┌ Warning: Time 3.50 [sec]: SAC computation took 0.111 [sec], which exceeds the maximum computation time allowed.\n",
      "└ @ RiskSensitiveSAC /home/kang/DRC_Project/DRC_Trajectron/src/rs_sac_controller.jl:733\n",
      "┌ Warning: Time 3.50 [sec]: This evaluation iteration took 0.111 [sec], which exceeds dtc.\n",
      "└ @ RiskSensitiveSAC /home/kang/DRC_Project/DRC_Trajectron/src/evaluation.jl:300\n"
     ]
    },
    {
     "name": "stderr",
     "output_type": "stream",
     "text": [
      "┌ Warning: Time 3.60 [sec]: SAC computation took 0.112 [sec], which exceeds the maximum computation time allowed.\n",
      "└ @ RiskSensitiveSAC /home/kang/DRC_Project/DRC_Trajectron/src/rs_sac_controller.jl:733\n",
      "┌ Warning: Time 3.60 [sec]: This evaluation iteration took 0.113 [sec], which exceeds dtc.\n",
      "└ @ RiskSensitiveSAC /home/kang/DRC_Project/DRC_Trajectron/src/evaluation.jl:300\n"
     ]
    },
    {
     "name": "stderr",
     "output_type": "stream",
     "text": [
      "┌ Warning: Time 3.70 [sec]: SAC computation took 0.113 [sec], which exceeds the maximum computation time allowed.\n",
      "└ @ RiskSensitiveSAC /home/kang/DRC_Project/DRC_Trajectron/src/rs_sac_controller.jl:733\n",
      "┌ Warning: Time 3.70 [sec]: This evaluation iteration took 0.113 [sec], which exceeds dtc.\n",
      "└ @ RiskSensitiveSAC /home/kang/DRC_Project/DRC_Trajectron/src/evaluation.jl:300\n"
     ]
    },
    {
     "name": "stderr",
     "output_type": "stream",
     "text": [
      "┌ Warning: Time 3.80 [sec]: SAC computation took 0.108 [sec], which exceeds the maximum computation time allowed.\n",
      "└ @ RiskSensitiveSAC /home/kang/DRC_Project/DRC_Trajectron/src/rs_sac_controller.jl:733\n",
      "┌ Warning: Time 3.80 [sec]: This evaluation iteration took 0.108 [sec], which exceeds dtc.\n",
      "└ @ RiskSensitiveSAC /home/kang/DRC_Project/DRC_Trajectron/src/evaluation.jl:300\n"
     ]
    },
    {
     "name": "stderr",
     "output_type": "stream",
     "text": [
      "┌ Warning: Time 3.90 [sec]: SAC computation took 0.113 [sec], which exceeds the maximum computation time allowed.\n",
      "└ @ RiskSensitiveSAC /home/kang/DRC_Project/DRC_Trajectron/src/rs_sac_controller.jl:733\n",
      "┌ Warning: Time 3.90 [sec]: This evaluation iteration took 0.113 [sec], which exceeds dtc.\n",
      "└ @ RiskSensitiveSAC /home/kang/DRC_Project/DRC_Trajectron/src/evaluation.jl:300\n"
     ]
    },
    {
     "name": "stderr",
     "output_type": "stream",
     "text": [
      "┌ Warning: Time 4.00 [sec]: SAC computation took 0.118 [sec], which exceeds the maximum computation time allowed.\n",
      "└ @ RiskSensitiveSAC /home/kang/DRC_Project/DRC_Trajectron/src/rs_sac_controller.jl:733\n",
      "┌ Warning: Time 4.00 [sec]: This evaluation iteration took 0.119 [sec], which exceeds dtc.\n",
      "└ @ RiskSensitiveSAC /home/kang/DRC_Project/DRC_Trajectron/src/evaluation.jl:300\n"
     ]
    },
    {
     "name": "stderr",
     "output_type": "stream",
     "text": [
      "┌ Warning: Time 4.10 [sec]: SAC computation took 0.133 [sec], which exceeds the maximum computation time allowed.\n",
      "└ @ RiskSensitiveSAC /home/kang/DRC_Project/DRC_Trajectron/src/rs_sac_controller.jl:733\n",
      "┌ Warning: Time 4.10 [sec]: This evaluation iteration took 0.134 [sec], which exceeds dtc.\n",
      "└ @ RiskSensitiveSAC /home/kang/DRC_Project/DRC_Trajectron/src/evaluation.jl:300\n"
     ]
    },
    {
     "name": "stderr",
     "output_type": "stream",
     "text": [
      "┌ Warning: Time 4.20 [sec]: SAC computation took 0.166 [sec], which exceeds the maximum computation time allowed.\n",
      "└ @ RiskSensitiveSAC /home/kang/DRC_Project/DRC_Trajectron/src/rs_sac_controller.jl:733\n",
      "┌ Warning: Time 4.20 [sec]: This evaluation iteration took 0.166 [sec], which exceeds dtc.\n",
      "└ @ RiskSensitiveSAC /home/kang/DRC_Project/DRC_Trajectron/src/evaluation.jl:300\n"
     ]
    },
    {
     "name": "stderr",
     "output_type": "stream",
     "text": [
      "┌ Warning: Time 4.30 [sec]: SAC computation took 0.125 [sec], which exceeds the maximum computation time allowed.\n",
      "└ @ RiskSensitiveSAC /home/kang/DRC_Project/DRC_Trajectron/src/rs_sac_controller.jl:733\n",
      "┌ Warning: Time 4.30 [sec]: This evaluation iteration took 0.125 [sec], which exceeds dtc.\n",
      "└ @ RiskSensitiveSAC /home/kang/DRC_Project/DRC_Trajectron/src/evaluation.jl:300\n"
     ]
    },
    {
     "name": "stderr",
     "output_type": "stream",
     "text": [
      "┌ Warning: Time 4.40 [sec]: This evaluation iteration took 0.092 [sec], which exceeds dtc.\n",
      "└ @ RiskSensitiveSAC /home/kang/DRC_Project/DRC_Trajectron/src/evaluation.jl:300\n"
     ]
    },
    {
     "name": "stderr",
     "output_type": "stream",
     "text": [
      "┌ Warning: Time 4.50 [sec]: SAC computation took 0.108 [sec], which exceeds the maximum computation time allowed.\n",
      "└ @ RiskSensitiveSAC /home/kang/DRC_Project/DRC_Trajectron/src/rs_sac_controller.jl:733\n",
      "┌ Warning: Time 4.50 [sec]: This evaluation iteration took 0.109 [sec], which exceeds dtc.\n",
      "└ @ RiskSensitiveSAC /home/kang/DRC_Project/DRC_Trajectron/src/evaluation.jl:300\n"
     ]
    },
    {
     "name": "stderr",
     "output_type": "stream",
     "text": [
      "┌ Warning: Time 4.60 [sec]: SAC computation took 0.116 [sec], which exceeds the maximum computation time allowed.\n",
      "└ @ RiskSensitiveSAC /home/kang/DRC_Project/DRC_Trajectron/src/rs_sac_controller.jl:733\n",
      "┌ Warning: Time 4.60 [sec]: This evaluation iteration took 0.117 [sec], which exceeds dtc.\n",
      "└ @ RiskSensitiveSAC /home/kang/DRC_Project/DRC_Trajectron/src/evaluation.jl:300\n"
     ]
    },
    {
     "name": "stderr",
     "output_type": "stream",
     "text": [
      "┌ Warning: Time 4.70 [sec]: This evaluation iteration took 0.095 [sec], which exceeds dtc.\n",
      "└ @ RiskSensitiveSAC /home/kang/DRC_Project/DRC_Trajectron/src/evaluation.jl:300\n"
     ]
    },
    {
     "name": "stderr",
     "output_type": "stream",
     "text": [
      "┌ Warning: Time 4.80 [sec]: SAC computation took 0.118 [sec], which exceeds the maximum computation time allowed.\n",
      "└ @ RiskSensitiveSAC /home/kang/DRC_Project/DRC_Trajectron/src/rs_sac_controller.jl:733\n",
      "┌ Warning: Time 4.80 [sec]: This evaluation iteration took 0.119 [sec], which exceeds dtc.\n",
      "└ @ RiskSensitiveSAC /home/kang/DRC_Project/DRC_Trajectron/src/evaluation.jl:300\n"
     ]
    },
    {
     "name": "stderr",
     "output_type": "stream",
     "text": [
      "┌ Warning: Time 4.90 [sec]: SAC computation took 0.124 [sec], which exceeds the maximum computation time allowed.\n",
      "└ @ RiskSensitiveSAC /home/kang/DRC_Project/DRC_Trajectron/src/rs_sac_controller.jl:733\n",
      "┌ Warning: Time 4.90 [sec]: This evaluation iteration took 0.124 [sec], which exceeds dtc.\n",
      "└ @ RiskSensitiveSAC /home/kang/DRC_Project/DRC_Trajectron/src/evaluation.jl:300\n"
     ]
    },
    {
     "name": "stderr",
     "output_type": "stream",
     "text": [
      "┌ Warning: Time 5.00 [sec]: SAC computation took 0.123 [sec], which exceeds the maximum computation time allowed.\n",
      "└ @ RiskSensitiveSAC /home/kang/DRC_Project/DRC_Trajectron/src/rs_sac_controller.jl:733\n",
      "┌ Warning: Time 5.00 [sec]: This evaluation iteration took 0.123 [sec], which exceeds dtc.\n",
      "└ @ RiskSensitiveSAC /home/kang/DRC_Project/DRC_Trajectron/src/evaluation.jl:300\n"
     ]
    },
    {
     "name": "stderr",
     "output_type": "stream",
     "text": [
      "┌ Warning: Time 5.10 [sec]: SAC computation took 0.124 [sec], which exceeds the maximum computation time allowed.\n",
      "└ @ RiskSensitiveSAC /home/kang/DRC_Project/DRC_Trajectron/src/rs_sac_controller.jl:733\n",
      "┌ Warning: Time 5.10 [sec]: This evaluation iteration took 0.124 [sec], which exceeds dtc.\n",
      "└ @ RiskSensitiveSAC /home/kang/DRC_Project/DRC_Trajectron/src/evaluation.jl:300\n"
     ]
    },
    {
     "name": "stderr",
     "output_type": "stream",
     "text": [
      "┌ Warning: Time 5.20 [sec]: SAC computation took 0.125 [sec], which exceeds the maximum computation time allowed.\n",
      "└ @ RiskSensitiveSAC /home/kang/DRC_Project/DRC_Trajectron/src/rs_sac_controller.jl:733\n",
      "┌ Warning: Time 5.20 [sec]: This evaluation iteration took 0.126 [sec], which exceeds dtc.\n",
      "└ @ RiskSensitiveSAC /home/kang/DRC_Project/DRC_Trajectron/src/evaluation.jl:300\n"
     ]
    },
    {
     "name": "stderr",
     "output_type": "stream",
     "text": [
      "┌ Warning: Time 5.30 [sec]: SAC computation took 0.123 [sec], which exceeds the maximum computation time allowed.\n",
      "└ @ RiskSensitiveSAC /home/kang/DRC_Project/DRC_Trajectron/src/rs_sac_controller.jl:733\n",
      "┌ Warning: Time 5.30 [sec]: This evaluation iteration took 0.124 [sec], which exceeds dtc.\n",
      "└ @ RiskSensitiveSAC /home/kang/DRC_Project/DRC_Trajectron/src/evaluation.jl:300\n"
     ]
    },
    {
     "name": "stderr",
     "output_type": "stream",
     "text": [
      "┌ Warning: Time 5.40 [sec]: SAC computation took 0.123 [sec], which exceeds the maximum computation time allowed.\n",
      "└ @ RiskSensitiveSAC /home/kang/DRC_Project/DRC_Trajectron/src/rs_sac_controller.jl:733\n",
      "┌ Warning: Time 5.40 [sec]: This evaluation iteration took 0.123 [sec], which exceeds dtc.\n",
      "└ @ RiskSensitiveSAC /home/kang/DRC_Project/DRC_Trajectron/src/evaluation.jl:300\n"
     ]
    },
    {
     "name": "stderr",
     "output_type": "stream",
     "text": [
      "┌ Warning: Time 5.50 [sec]: SAC computation took 0.122 [sec], which exceeds the maximum computation time allowed.\n",
      "└ @ RiskSensitiveSAC /home/kang/DRC_Project/DRC_Trajectron/src/rs_sac_controller.jl:733\n",
      "┌ Warning: Time 5.50 [sec]: This evaluation iteration took 0.122 [sec], which exceeds dtc.\n",
      "└ @ RiskSensitiveSAC /home/kang/DRC_Project/DRC_Trajectron/src/evaluation.jl:300\n"
     ]
    },
    {
     "name": "stderr",
     "output_type": "stream",
     "text": [
      "┌ Warning: Time 5.60 [sec]: SAC computation took 0.153 [sec], which exceeds the maximum computation time allowed.\n",
      "└ @ RiskSensitiveSAC /home/kang/DRC_Project/DRC_Trajectron/src/rs_sac_controller.jl:733\n",
      "┌ Warning: Time 5.60 [sec]: This evaluation iteration took 0.154 [sec], which exceeds dtc.\n",
      "└ @ RiskSensitiveSAC /home/kang/DRC_Project/DRC_Trajectron/src/evaluation.jl:300\n"
     ]
    },
    {
     "name": "stderr",
     "output_type": "stream",
     "text": [
      "┌ Warning: Time 5.70 [sec]: This evaluation iteration took 0.098 [sec], which exceeds dtc.\n",
      "└ @ RiskSensitiveSAC /home/kang/DRC_Project/DRC_Trajectron/src/evaluation.jl:300\n"
     ]
    },
    {
     "name": "stderr",
     "output_type": "stream",
     "text": [
      "┌ Warning: Time 5.80 [sec]: SAC computation took 0.117 [sec], which exceeds the maximum computation time allowed.\n",
      "└ @ RiskSensitiveSAC /home/kang/DRC_Project/DRC_Trajectron/src/rs_sac_controller.jl:733\n",
      "┌ Warning: Time 5.80 [sec]: This evaluation iteration took 0.117 [sec], which exceeds dtc.\n",
      "└ @ RiskSensitiveSAC /home/kang/DRC_Project/DRC_Trajectron/src/evaluation.jl:300\n"
     ]
    },
    {
     "name": "stderr",
     "output_type": "stream",
     "text": [
      "┌ Warning: Time 5.90 [sec]: SAC computation took 0.113 [sec], which exceeds the maximum computation time allowed.\n",
      "└ @ RiskSensitiveSAC /home/kang/DRC_Project/DRC_Trajectron/src/rs_sac_controller.jl:733\n",
      "┌ Warning: Time 5.90 [sec]: This evaluation iteration took 0.114 [sec], which exceeds dtc.\n",
      "└ @ RiskSensitiveSAC /home/kang/DRC_Project/DRC_Trajectron/src/evaluation.jl:300\n"
     ]
    },
    {
     "name": "stderr",
     "output_type": "stream",
     "text": [
      "┌ Warning: Time 6.00 [sec]: SAC computation took 0.109 [sec], which exceeds the maximum computation time allowed.\n",
      "└ @ RiskSensitiveSAC /home/kang/DRC_Project/DRC_Trajectron/src/rs_sac_controller.jl:733\n",
      "┌ Warning: Time 6.00 [sec]: This evaluation iteration took 0.11 [sec], which exceeds dtc.\n",
      "└ @ RiskSensitiveSAC /home/kang/DRC_Project/DRC_Trajectron/src/evaluation.jl:300\n"
     ]
    },
    {
     "name": "stderr",
     "output_type": "stream",
     "text": [
      "┌ Warning: Time 6.10 [sec]: SAC computation took 0.11 [sec], which exceeds the maximum computation time allowed.\n",
      "└ @ RiskSensitiveSAC /home/kang/DRC_Project/DRC_Trajectron/src/rs_sac_controller.jl:733\n",
      "┌ Warning: Time 6.10 [sec]: This evaluation iteration took 0.11 [sec], which exceeds dtc.\n",
      "└ @ RiskSensitiveSAC /home/kang/DRC_Project/DRC_Trajectron/src/evaluation.jl:300\n"
     ]
    },
    {
     "name": "stderr",
     "output_type": "stream",
     "text": [
      "┌ Warning: Time 6.20 [sec]: SAC computation took 0.1 [sec], which exceeds the maximum computation time allowed.\n",
      "└ @ RiskSensitiveSAC /home/kang/DRC_Project/DRC_Trajectron/src/rs_sac_controller.jl:733\n",
      "┌ Warning: Time 6.20 [sec]: This evaluation iteration took 0.101 [sec], which exceeds dtc.\n",
      "└ @ RiskSensitiveSAC /home/kang/DRC_Project/DRC_Trajectron/src/evaluation.jl:300\n"
     ]
    },
    {
     "name": "stderr",
     "output_type": "stream",
     "text": [
      "┌ Warning: Time 6.30 [sec]: SAC computation took 0.108 [sec], which exceeds the maximum computation time allowed.\n",
      "└ @ RiskSensitiveSAC /home/kang/DRC_Project/DRC_Trajectron/src/rs_sac_controller.jl:733\n",
      "┌ Warning: Time 6.30 [sec]: This evaluation iteration took 0.108 [sec], which exceeds dtc.\n",
      "└ @ RiskSensitiveSAC /home/kang/DRC_Project/DRC_Trajectron/src/evaluation.jl:300\n"
     ]
    },
    {
     "name": "stderr",
     "output_type": "stream",
     "text": [
      "┌ Warning: Time 6.40 [sec]: SAC computation took 0.118 [sec], which exceeds the maximum computation time allowed.\n",
      "└ @ RiskSensitiveSAC /home/kang/DRC_Project/DRC_Trajectron/src/rs_sac_controller.jl:733\n",
      "┌ Warning: Time 6.40 [sec]: This evaluation iteration took 0.119 [sec], which exceeds dtc.\n",
      "└ @ RiskSensitiveSAC /home/kang/DRC_Project/DRC_Trajectron/src/evaluation.jl:300\n"
     ]
    },
    {
     "name": "stderr",
     "output_type": "stream",
     "text": [
      "┌ Warning: Time 6.50 [sec]: SAC computation took 0.115 [sec], which exceeds the maximum computation time allowed.\n",
      "└ @ RiskSensitiveSAC /home/kang/DRC_Project/DRC_Trajectron/src/rs_sac_controller.jl:733\n",
      "┌ Warning: Time 6.50 [sec]: This evaluation iteration took 0.116 [sec], which exceeds dtc.\n",
      "└ @ RiskSensitiveSAC /home/kang/DRC_Project/DRC_Trajectron/src/evaluation.jl:300\n"
     ]
    },
    {
     "name": "stderr",
     "output_type": "stream",
     "text": [
      "┌ Warning: Time 6.60 [sec]: This evaluation iteration took 0.087 [sec], which exceeds dtc.\n",
      "└ @ RiskSensitiveSAC /home/kang/DRC_Project/DRC_Trajectron/src/evaluation.jl:300\n"
     ]
    },
    {
     "name": "stderr",
     "output_type": "stream",
     "text": [
      "┌ Warning: Time 6.70 [sec]: This evaluation iteration took 0.091 [sec], which exceeds dtc.\n",
      "└ @ RiskSensitiveSAC /home/kang/DRC_Project/DRC_Trajectron/src/evaluation.jl:300\n"
     ]
    },
    {
     "name": "stderr",
     "output_type": "stream",
     "text": [
      "┌ Warning: Time 6.80 [sec]: This evaluation iteration took 0.09 [sec], which exceeds dtc.\n",
      "└ @ RiskSensitiveSAC /home/kang/DRC_Project/DRC_Trajectron/src/evaluation.jl:300\n"
     ]
    },
    {
     "name": "stderr",
     "output_type": "stream",
     "text": [
      "┌ Warning: Time 6.90 [sec]: This evaluation iteration took 0.084 [sec], which exceeds dtc.\n",
      "└ @ RiskSensitiveSAC /home/kang/DRC_Project/DRC_Trajectron/src/evaluation.jl:300\n"
     ]
    },
    {
     "name": "stderr",
     "output_type": "stream",
     "text": [
      "┌ Warning: Time 7.00 [sec]: SAC computation took 0.112 [sec], which exceeds the maximum computation time allowed.\n",
      "└ @ RiskSensitiveSAC /home/kang/DRC_Project/DRC_Trajectron/src/rs_sac_controller.jl:733\n",
      "┌ Warning: Time 7.00 [sec]: This evaluation iteration took 0.112 [sec], which exceeds dtc.\n",
      "└ @ RiskSensitiveSAC /home/kang/DRC_Project/DRC_Trajectron/src/evaluation.jl:300\n"
     ]
    },
    {
     "name": "stderr",
     "output_type": "stream",
     "text": [
      "┌ Warning: Time 7.10 [sec]: This evaluation iteration took 0.087 [sec], which exceeds dtc.\n",
      "└ @ RiskSensitiveSAC /home/kang/DRC_Project/DRC_Trajectron/src/evaluation.jl:300\n"
     ]
    },
    {
     "name": "stderr",
     "output_type": "stream",
     "text": [
      "┌ Warning: Time 7.20 [sec]: This evaluation iteration took 0.087 [sec], which exceeds dtc.\n",
      "└ @ RiskSensitiveSAC /home/kang/DRC_Project/DRC_Trajectron/src/evaluation.jl:300\n"
     ]
    },
    {
     "name": "stderr",
     "output_type": "stream",
     "text": [
      "┌ Warning: Time 7.30 [sec]: This evaluation iteration took 0.088 [sec], which exceeds dtc.\n",
      "└ @ RiskSensitiveSAC /home/kang/DRC_Project/DRC_Trajectron/src/evaluation.jl:300\n"
     ]
    },
    {
     "name": "stderr",
     "output_type": "stream",
     "text": [
      "┌ Warning: Time 7.40 [sec]: This evaluation iteration took 0.09 [sec], which exceeds dtc.\n",
      "└ @ RiskSensitiveSAC /home/kang/DRC_Project/DRC_Trajectron/src/evaluation.jl:300\n"
     ]
    },
    {
     "name": "stderr",
     "output_type": "stream",
     "text": [
      "┌ Warning: Time 7.50 [sec]: This evaluation iteration took 0.085 [sec], which exceeds dtc.\n",
      "└ @ RiskSensitiveSAC /home/kang/DRC_Project/DRC_Trajectron/src/evaluation.jl:300\n"
     ]
    },
    {
     "name": "stderr",
     "output_type": "stream",
     "text": [
      "┌ Warning: Time 7.60 [sec]: This evaluation iteration took 0.087 [sec], which exceeds dtc.\n",
      "└ @ RiskSensitiveSAC /home/kang/DRC_Project/DRC_Trajectron/src/evaluation.jl:300\n"
     ]
    },
    {
     "name": "stderr",
     "output_type": "stream",
     "text": [
      "┌ Warning: Time 7.70 [sec]: SAC computation took 0.103 [sec], which exceeds the maximum computation time allowed.\n",
      "└ @ RiskSensitiveSAC /home/kang/DRC_Project/DRC_Trajectron/src/rs_sac_controller.jl:733\n",
      "┌ Warning: Time 7.70 [sec]: This evaluation iteration took 0.104 [sec], which exceeds dtc.\n",
      "└ @ RiskSensitiveSAC /home/kang/DRC_Project/DRC_Trajectron/src/evaluation.jl:300\n"
     ]
    },
    {
     "name": "stderr",
     "output_type": "stream",
     "text": [
      "┌ Warning: Time 7.80 [sec]: This evaluation iteration took 0.1 [sec], which exceeds dtc.\n",
      "└ @ RiskSensitiveSAC /home/kang/DRC_Project/DRC_Trajectron/src/evaluation.jl:300\n"
     ]
    },
    {
     "name": "stderr",
     "output_type": "stream",
     "text": [
      "┌ Warning: Time 7.90 [sec]: This evaluation iteration took 0.084 [sec], which exceeds dtc.\n",
      "└ @ RiskSensitiveSAC /home/kang/DRC_Project/DRC_Trajectron/src/evaluation.jl:300\n"
     ]
    },
    {
     "name": "stderr",
     "output_type": "stream",
     "text": [
      "┌ Warning: Time 8.00 [sec]: This evaluation iteration took 0.092 [sec], which exceeds dtc.\n",
      "└ @ RiskSensitiveSAC /home/kang/DRC_Project/DRC_Trajectron/src/evaluation.jl:300\n"
     ]
    },
    {
     "name": "stderr",
     "output_type": "stream",
     "text": [
      "┌ Warning: Time 8.10 [sec]: This evaluation iteration took 0.091 [sec], which exceeds dtc.\n",
      "└ @ RiskSensitiveSAC /home/kang/DRC_Project/DRC_Trajectron/src/evaluation.jl:300\n"
     ]
    },
    {
     "name": "stderr",
     "output_type": "stream",
     "text": [
      "┌ Warning: Time 8.20 [sec]: This evaluation iteration took 0.091 [sec], which exceeds dtc.\n",
      "└ @ RiskSensitiveSAC /home/kang/DRC_Project/DRC_Trajectron/src/evaluation.jl:300\n"
     ]
    },
    {
     "name": "stderr",
     "output_type": "stream",
     "text": [
      "┌ Warning: Time 8.30 [sec]: This evaluation iteration took 0.09 [sec], which exceeds dtc.\n",
      "└ @ RiskSensitiveSAC /home/kang/DRC_Project/DRC_Trajectron/src/evaluation.jl:300\n"
     ]
    },
    {
     "name": "stderr",
     "output_type": "stream",
     "text": [
      "┌ Warning: Time 8.40 [sec]: SAC computation took 0.125 [sec], which exceeds the maximum computation time allowed.\n",
      "└ @ RiskSensitiveSAC /home/kang/DRC_Project/DRC_Trajectron/src/rs_sac_controller.jl:733\n",
      "┌ Warning: Time 8.40 [sec]: This evaluation iteration took 0.126 [sec], which exceeds dtc.\n",
      "└ @ RiskSensitiveSAC /home/kang/DRC_Project/DRC_Trajectron/src/evaluation.jl:300\n"
     ]
    },
    {
     "name": "stderr",
     "output_type": "stream",
     "text": [
      "┌ Warning: Time 8.50 [sec]: This evaluation iteration took 0.088 [sec], which exceeds dtc.\n",
      "└ @ RiskSensitiveSAC /home/kang/DRC_Project/DRC_Trajectron/src/evaluation.jl:300\n"
     ]
    },
    {
     "name": "stderr",
     "output_type": "stream",
     "text": [
      "┌ Warning: Time 8.60 [sec]: This evaluation iteration took 0.083 [sec], which exceeds dtc.\n",
      "└ @ RiskSensitiveSAC /home/kang/DRC_Project/DRC_Trajectron/src/evaluation.jl:300\n"
     ]
    },
    {
     "name": "stderr",
     "output_type": "stream",
     "text": [
      "┌ Warning: Time 8.70 [sec]: This evaluation iteration took 0.088 [sec], which exceeds dtc.\n",
      "└ @ RiskSensitiveSAC /home/kang/DRC_Project/DRC_Trajectron/src/evaluation.jl:300\n"
     ]
    },
    {
     "name": "stderr",
     "output_type": "stream",
     "text": [
      "┌ Warning: Time 8.80 [sec]: This evaluation iteration took 0.083 [sec], which exceeds dtc.\n",
      "└ @ RiskSensitiveSAC /home/kang/DRC_Project/DRC_Trajectron/src/evaluation.jl:300\n"
     ]
    },
    {
     "name": "stderr",
     "output_type": "stream",
     "text": [
      "┌ Warning: Time 8.90 [sec]: This evaluation iteration took 0.088 [sec], which exceeds dtc.\n",
      "└ @ RiskSensitiveSAC /home/kang/DRC_Project/DRC_Trajectron/src/evaluation.jl:300\n"
     ]
    },
    {
     "name": "stderr",
     "output_type": "stream",
     "text": [
      "┌ Warning: Time 9.00 [sec]: This evaluation iteration took 0.086 [sec], which exceeds dtc.\n",
      "└ @ RiskSensitiveSAC /home/kang/DRC_Project/DRC_Trajectron/src/evaluation.jl:300\n"
     ]
    },
    {
     "name": "stderr",
     "output_type": "stream",
     "text": [
      "┌ Warning: Time 9.10 [sec]: This evaluation iteration took 0.092 [sec], which exceeds dtc.\n",
      "└ @ RiskSensitiveSAC /home/kang/DRC_Project/DRC_Trajectron/src/evaluation.jl:300\n"
     ]
    },
    {
     "name": "stderr",
     "output_type": "stream",
     "text": [
      "┌ Warning: Time 9.20 [sec]: This evaluation iteration took 0.088 [sec], which exceeds dtc.\n",
      "└ @ RiskSensitiveSAC /home/kang/DRC_Project/DRC_Trajectron/src/evaluation.jl:300\n"
     ]
    },
    {
     "name": "stderr",
     "output_type": "stream",
     "text": [
      "┌ Warning: Time 9.30 [sec]: This evaluation iteration took 0.086 [sec], which exceeds dtc.\n",
      "└ @ RiskSensitiveSAC /home/kang/DRC_Project/DRC_Trajectron/src/evaluation.jl:300\n"
     ]
    },
    {
     "name": "stderr",
     "output_type": "stream",
     "text": [
      "┌ Warning: Time 9.40 [sec]: This evaluation iteration took 0.088 [sec], which exceeds dtc.\n",
      "└ @ RiskSensitiveSAC /home/kang/DRC_Project/DRC_Trajectron/src/evaluation.jl:300\n"
     ]
    },
    {
     "name": "stderr",
     "output_type": "stream",
     "text": [
      "┌ Warning: Time 9.50 [sec]: This evaluation iteration took 0.089 [sec], which exceeds dtc.\n",
      "└ @ RiskSensitiveSAC /home/kang/DRC_Project/DRC_Trajectron/src/evaluation.jl:300\n"
     ]
    },
    {
     "name": "stderr",
     "output_type": "stream",
     "text": [
      "┌ Warning: Time 9.60 [sec]: This evaluation iteration took 0.082 [sec], which exceeds dtc.\n",
      "└ @ RiskSensitiveSAC /home/kang/DRC_Project/DRC_Trajectron/src/evaluation.jl:300\n"
     ]
    },
    {
     "name": "stderr",
     "output_type": "stream",
     "text": [
      "┌ Warning: Time 9.70 [sec]: This evaluation iteration took 0.086 [sec], which exceeds dtc.\n",
      "└ @ RiskSensitiveSAC /home/kang/DRC_Project/DRC_Trajectron/src/evaluation.jl:300\n"
     ]
    },
    {
     "name": "stderr",
     "output_type": "stream",
     "text": [
      "┌ Warning: Time 9.80 [sec]: This evaluation iteration took 0.093 [sec], which exceeds dtc.\n",
      "└ @ RiskSensitiveSAC /home/kang/DRC_Project/DRC_Trajectron/src/evaluation.jl:300\n"
     ]
    },
    {
     "name": "stdout",
     "output_type": "stream",
     "text": [
      "Total Collision: 0, Total Position Cost: 73.95846428002196, Total Control Cost: 1.9226163573086548, Minimum Distance: 1.1500519953715087, Experiment 7: "
     ]
    },
    {
     "name": "stderr",
     "output_type": "stream",
     "text": [
      "┌ Warning: Time 9.90 [sec]: SAC computation took 0.11 [sec], which exceeds the maximum computation time allowed.\n",
      "└ @ RiskSensitiveSAC /home/kang/DRC_Project/DRC_Trajectron/src/rs_sac_controller.jl:733\n",
      "┌ Warning: Time 9.90 [sec]: This evaluation iteration took 0.11 [sec], which exceeds dtc.\n",
      "└ @ RiskSensitiveSAC /home/kang/DRC_Project/DRC_Trajectron/src/evaluation.jl:300\n"
     ]
    },
    {
     "name": "stderr",
     "output_type": "stream",
     "text": [
      "┌ Warning: Time 0.10 [sec]: This evaluation iteration took 0.088 [sec], which exceeds dtc.\n",
      "└ @ RiskSensitiveSAC /home/kang/DRC_Project/DRC_Trajectron/src/evaluation.jl:300\n"
     ]
    },
    {
     "name": "stderr",
     "output_type": "stream",
     "text": [
      "┌ Warning: Time 0.20 [sec]: This evaluation iteration took 0.091 [sec], which exceeds dtc.\n",
      "└ @ RiskSensitiveSAC /home/kang/DRC_Project/DRC_Trajectron/src/evaluation.jl:300\n"
     ]
    },
    {
     "name": "stderr",
     "output_type": "stream",
     "text": [
      "┌ Warning: Time 0.30 [sec]: This evaluation iteration took 0.082 [sec], which exceeds dtc.\n",
      "└ @ RiskSensitiveSAC /home/kang/DRC_Project/DRC_Trajectron/src/evaluation.jl:300\n"
     ]
    },
    {
     "name": "stderr",
     "output_type": "stream",
     "text": [
      "┌ Warning: Time 0.40 [sec]: This evaluation iteration took 0.085 [sec], which exceeds dtc.\n",
      "└ @ RiskSensitiveSAC /home/kang/DRC_Project/DRC_Trajectron/src/evaluation.jl:300\n"
     ]
    },
    {
     "name": "stderr",
     "output_type": "stream",
     "text": [
      "┌ Warning: Time 0.50 [sec]: This evaluation iteration took 0.086 [sec], which exceeds dtc.\n",
      "└ @ RiskSensitiveSAC /home/kang/DRC_Project/DRC_Trajectron/src/evaluation.jl:300\n"
     ]
    },
    {
     "name": "stderr",
     "output_type": "stream",
     "text": [
      "┌ Warning: Time 0.60 [sec]: This evaluation iteration took 0.088 [sec], which exceeds dtc.\n",
      "└ @ RiskSensitiveSAC /home/kang/DRC_Project/DRC_Trajectron/src/evaluation.jl:300\n"
     ]
    },
    {
     "name": "stderr",
     "output_type": "stream",
     "text": [
      "┌ Warning: Time 0.70 [sec]: This evaluation iteration took 0.088 [sec], which exceeds dtc.\n",
      "└ @ RiskSensitiveSAC /home/kang/DRC_Project/DRC_Trajectron/src/evaluation.jl:300\n"
     ]
    },
    {
     "name": "stderr",
     "output_type": "stream",
     "text": [
      "┌ Warning: Time 0.80 [sec]: This evaluation iteration took 0.085 [sec], which exceeds dtc.\n",
      "└ @ RiskSensitiveSAC /home/kang/DRC_Project/DRC_Trajectron/src/evaluation.jl:300\n"
     ]
    },
    {
     "name": "stderr",
     "output_type": "stream",
     "text": [
      "┌ Warning: Time 0.90 [sec]: This evaluation iteration took 0.092 [sec], which exceeds dtc.\n",
      "└ @ RiskSensitiveSAC /home/kang/DRC_Project/DRC_Trajectron/src/evaluation.jl:300\n"
     ]
    },
    {
     "name": "stderr",
     "output_type": "stream",
     "text": [
      "┌ Warning: Time 1.00 [sec]: This evaluation iteration took 0.088 [sec], which exceeds dtc.\n",
      "└ @ RiskSensitiveSAC /home/kang/DRC_Project/DRC_Trajectron/src/evaluation.jl:300\n"
     ]
    },
    {
     "name": "stderr",
     "output_type": "stream",
     "text": [
      "┌ Warning: Time 1.10 [sec]: This evaluation iteration took 0.085 [sec], which exceeds dtc.\n",
      "└ @ RiskSensitiveSAC /home/kang/DRC_Project/DRC_Trajectron/src/evaluation.jl:300\n"
     ]
    },
    {
     "name": "stderr",
     "output_type": "stream",
     "text": [
      "┌ Warning: Time 1.20 [sec]: This evaluation iteration took 0.091 [sec], which exceeds dtc.\n",
      "└ @ RiskSensitiveSAC /home/kang/DRC_Project/DRC_Trajectron/src/evaluation.jl:300\n"
     ]
    },
    {
     "name": "stderr",
     "output_type": "stream",
     "text": [
      "┌ Warning: Time 1.30 [sec]: SAC computation took 0.118 [sec], which exceeds the maximum computation time allowed.\n",
      "└ @ RiskSensitiveSAC /home/kang/DRC_Project/DRC_Trajectron/src/rs_sac_controller.jl:733\n",
      "┌ Warning: Time 1.30 [sec]: This evaluation iteration took 0.118 [sec], which exceeds dtc.\n",
      "└ @ RiskSensitiveSAC /home/kang/DRC_Project/DRC_Trajectron/src/evaluation.jl:300\n"
     ]
    },
    {
     "name": "stderr",
     "output_type": "stream",
     "text": [
      "┌ Warning: Time 1.40 [sec]: This evaluation iteration took 0.086 [sec], which exceeds dtc.\n",
      "└ @ RiskSensitiveSAC /home/kang/DRC_Project/DRC_Trajectron/src/evaluation.jl:300\n"
     ]
    },
    {
     "name": "stderr",
     "output_type": "stream",
     "text": [
      "┌ Warning: Time 1.50 [sec]: This evaluation iteration took 0.088 [sec], which exceeds dtc.\n",
      "└ @ RiskSensitiveSAC /home/kang/DRC_Project/DRC_Trajectron/src/evaluation.jl:300\n"
     ]
    },
    {
     "name": "stderr",
     "output_type": "stream",
     "text": [
      "┌ Warning: Time 1.60 [sec]: This evaluation iteration took 0.09 [sec], which exceeds dtc.\n",
      "└ @ RiskSensitiveSAC /home/kang/DRC_Project/DRC_Trajectron/src/evaluation.jl:300\n"
     ]
    },
    {
     "name": "stderr",
     "output_type": "stream",
     "text": [
      "┌ Warning: Time 1.70 [sec]: This evaluation iteration took 0.087 [sec], which exceeds dtc.\n",
      "└ @ RiskSensitiveSAC /home/kang/DRC_Project/DRC_Trajectron/src/evaluation.jl:300\n"
     ]
    },
    {
     "name": "stderr",
     "output_type": "stream",
     "text": [
      "┌ Warning: Time 1.80 [sec]: This evaluation iteration took 0.088 [sec], which exceeds dtc.\n",
      "└ @ RiskSensitiveSAC /home/kang/DRC_Project/DRC_Trajectron/src/evaluation.jl:300\n"
     ]
    },
    {
     "name": "stderr",
     "output_type": "stream",
     "text": [
      "┌ Warning: Time 1.90 [sec]: This evaluation iteration took 0.089 [sec], which exceeds dtc.\n",
      "└ @ RiskSensitiveSAC /home/kang/DRC_Project/DRC_Trajectron/src/evaluation.jl:300\n"
     ]
    },
    {
     "name": "stderr",
     "output_type": "stream",
     "text": [
      "┌ Warning: Time 2.00 [sec]: This evaluation iteration took 0.087 [sec], which exceeds dtc.\n",
      "└ @ RiskSensitiveSAC /home/kang/DRC_Project/DRC_Trajectron/src/evaluation.jl:300\n"
     ]
    },
    {
     "name": "stderr",
     "output_type": "stream",
     "text": [
      "┌ Warning: Time 2.10 [sec]: This evaluation iteration took 0.089 [sec], which exceeds dtc.\n",
      "└ @ RiskSensitiveSAC /home/kang/DRC_Project/DRC_Trajectron/src/evaluation.jl:300\n"
     ]
    },
    {
     "name": "stderr",
     "output_type": "stream",
     "text": [
      "┌ Warning: Time 2.20 [sec]: SAC computation took 0.119 [sec], which exceeds the maximum computation time allowed.\n",
      "└ @ RiskSensitiveSAC /home/kang/DRC_Project/DRC_Trajectron/src/rs_sac_controller.jl:733\n",
      "┌ Warning: Time 2.20 [sec]: This evaluation iteration took 0.12 [sec], which exceeds dtc.\n",
      "└ @ RiskSensitiveSAC /home/kang/DRC_Project/DRC_Trajectron/src/evaluation.jl:300\n"
     ]
    },
    {
     "name": "stderr",
     "output_type": "stream",
     "text": [
      "┌ Warning: Time 2.30 [sec]: SAC computation took 0.124 [sec], which exceeds the maximum computation time allowed.\n",
      "└ @ RiskSensitiveSAC /home/kang/DRC_Project/DRC_Trajectron/src/rs_sac_controller.jl:733\n",
      "┌ Warning: Time 2.30 [sec]: This evaluation iteration took 0.125 [sec], which exceeds dtc.\n",
      "└ @ RiskSensitiveSAC /home/kang/DRC_Project/DRC_Trajectron/src/evaluation.jl:300\n"
     ]
    },
    {
     "name": "stderr",
     "output_type": "stream",
     "text": [
      "┌ Warning: Time 2.40 [sec]: SAC computation took 0.121 [sec], which exceeds the maximum computation time allowed.\n",
      "└ @ RiskSensitiveSAC /home/kang/DRC_Project/DRC_Trajectron/src/rs_sac_controller.jl:733\n",
      "┌ Warning: Time 2.40 [sec]: This evaluation iteration took 0.122 [sec], which exceeds dtc.\n",
      "└ @ RiskSensitiveSAC /home/kang/DRC_Project/DRC_Trajectron/src/evaluation.jl:300\n"
     ]
    },
    {
     "name": "stderr",
     "output_type": "stream",
     "text": [
      "┌ Warning: Time 2.50 [sec]: SAC computation took 0.118 [sec], which exceeds the maximum computation time allowed.\n",
      "└ @ RiskSensitiveSAC /home/kang/DRC_Project/DRC_Trajectron/src/rs_sac_controller.jl:733\n",
      "┌ Warning: Time 2.50 [sec]: This evaluation iteration took 0.118 [sec], which exceeds dtc.\n",
      "└ @ RiskSensitiveSAC /home/kang/DRC_Project/DRC_Trajectron/src/evaluation.jl:300\n"
     ]
    },
    {
     "name": "stderr",
     "output_type": "stream",
     "text": [
      "┌ Warning: Time 2.60 [sec]: SAC computation took 0.104 [sec], which exceeds the maximum computation time allowed.\n",
      "└ @ RiskSensitiveSAC /home/kang/DRC_Project/DRC_Trajectron/src/rs_sac_controller.jl:733\n",
      "┌ Warning: Time 2.60 [sec]: This evaluation iteration took 0.105 [sec], which exceeds dtc.\n",
      "└ @ RiskSensitiveSAC /home/kang/DRC_Project/DRC_Trajectron/src/evaluation.jl:300\n"
     ]
    },
    {
     "name": "stderr",
     "output_type": "stream",
     "text": [
      "┌ Warning: Time 2.70 [sec]: SAC computation took 0.129 [sec], which exceeds the maximum computation time allowed.\n",
      "└ @ RiskSensitiveSAC /home/kang/DRC_Project/DRC_Trajectron/src/rs_sac_controller.jl:733\n",
      "┌ Warning: Time 2.70 [sec]: This evaluation iteration took 0.13 [sec], which exceeds dtc.\n",
      "└ @ RiskSensitiveSAC /home/kang/DRC_Project/DRC_Trajectron/src/evaluation.jl:300\n"
     ]
    },
    {
     "name": "stderr",
     "output_type": "stream",
     "text": [
      "┌ Warning: Time 2.80 [sec]: SAC computation took 0.151 [sec], which exceeds the maximum computation time allowed.\n",
      "└ @ RiskSensitiveSAC /home/kang/DRC_Project/DRC_Trajectron/src/rs_sac_controller.jl:733\n",
      "┌ Warning: Time 2.80 [sec]: This evaluation iteration took 0.153 [sec], which exceeds dtc.\n",
      "└ @ RiskSensitiveSAC /home/kang/DRC_Project/DRC_Trajectron/src/evaluation.jl:300\n"
     ]
    },
    {
     "name": "stderr",
     "output_type": "stream",
     "text": [
      "┌ Warning: Time 2.90 [sec]: This evaluation iteration took 0.099 [sec], which exceeds dtc.\n",
      "└ @ RiskSensitiveSAC /home/kang/DRC_Project/DRC_Trajectron/src/evaluation.jl:300\n"
     ]
    },
    {
     "name": "stderr",
     "output_type": "stream",
     "text": [
      "┌ Warning: Time 3.00 [sec]: SAC computation took 0.108 [sec], which exceeds the maximum computation time allowed.\n",
      "└ @ RiskSensitiveSAC /home/kang/DRC_Project/DRC_Trajectron/src/rs_sac_controller.jl:733\n",
      "┌ Warning: Time 3.00 [sec]: This evaluation iteration took 0.109 [sec], which exceeds dtc.\n",
      "└ @ RiskSensitiveSAC /home/kang/DRC_Project/DRC_Trajectron/src/evaluation.jl:300\n"
     ]
    },
    {
     "name": "stderr",
     "output_type": "stream",
     "text": [
      "┌ Warning: Time 3.10 [sec]: SAC computation took 0.112 [sec], which exceeds the maximum computation time allowed.\n",
      "└ @ RiskSensitiveSAC /home/kang/DRC_Project/DRC_Trajectron/src/rs_sac_controller.jl:733\n",
      "┌ Warning: Time 3.10 [sec]: This evaluation iteration took 0.113 [sec], which exceeds dtc.\n",
      "└ @ RiskSensitiveSAC /home/kang/DRC_Project/DRC_Trajectron/src/evaluation.jl:300\n"
     ]
    },
    {
     "name": "stderr",
     "output_type": "stream",
     "text": [
      "┌ Warning: Time 3.20 [sec]: This evaluation iteration took 0.095 [sec], which exceeds dtc.\n",
      "└ @ RiskSensitiveSAC /home/kang/DRC_Project/DRC_Trajectron/src/evaluation.jl:300\n"
     ]
    },
    {
     "name": "stderr",
     "output_type": "stream",
     "text": [
      "┌ Warning: Time 3.30 [sec]: SAC computation took 0.107 [sec], which exceeds the maximum computation time allowed.\n",
      "└ @ RiskSensitiveSAC /home/kang/DRC_Project/DRC_Trajectron/src/rs_sac_controller.jl:733\n",
      "┌ Warning: Time 3.30 [sec]: This evaluation iteration took 0.108 [sec], which exceeds dtc.\n",
      "└ @ RiskSensitiveSAC /home/kang/DRC_Project/DRC_Trajectron/src/evaluation.jl:300\n"
     ]
    },
    {
     "name": "stderr",
     "output_type": "stream",
     "text": [
      "┌ Warning: Time 3.40 [sec]: SAC computation took 0.104 [sec], which exceeds the maximum computation time allowed.\n",
      "└ @ RiskSensitiveSAC /home/kang/DRC_Project/DRC_Trajectron/src/rs_sac_controller.jl:733\n",
      "┌ Warning: Time 3.40 [sec]: This evaluation iteration took 0.105 [sec], which exceeds dtc.\n",
      "└ @ RiskSensitiveSAC /home/kang/DRC_Project/DRC_Trajectron/src/evaluation.jl:300\n"
     ]
    },
    {
     "name": "stderr",
     "output_type": "stream",
     "text": [
      "┌ Warning: Time 3.50 [sec]: This evaluation iteration took 0.1 [sec], which exceeds dtc.\n",
      "└ @ RiskSensitiveSAC /home/kang/DRC_Project/DRC_Trajectron/src/evaluation.jl:300\n"
     ]
    },
    {
     "name": "stderr",
     "output_type": "stream",
     "text": [
      "┌ Warning: Time 3.60 [sec]: SAC computation took 0.115 [sec], which exceeds the maximum computation time allowed.\n",
      "└ @ RiskSensitiveSAC /home/kang/DRC_Project/DRC_Trajectron/src/rs_sac_controller.jl:733\n",
      "┌ Warning: Time 3.60 [sec]: This evaluation iteration took 0.116 [sec], which exceeds dtc.\n",
      "└ @ RiskSensitiveSAC /home/kang/DRC_Project/DRC_Trajectron/src/evaluation.jl:300\n"
     ]
    },
    {
     "name": "stderr",
     "output_type": "stream",
     "text": [
      "┌ Warning: Time 3.70 [sec]: SAC computation took 0.102 [sec], which exceeds the maximum computation time allowed.\n",
      "└ @ RiskSensitiveSAC /home/kang/DRC_Project/DRC_Trajectron/src/rs_sac_controller.jl:733\n",
      "┌ Warning: Time 3.70 [sec]: This evaluation iteration took 0.102 [sec], which exceeds dtc.\n",
      "└ @ RiskSensitiveSAC /home/kang/DRC_Project/DRC_Trajectron/src/evaluation.jl:300\n"
     ]
    },
    {
     "name": "stderr",
     "output_type": "stream",
     "text": [
      "┌ Warning: Time 3.80 [sec]: SAC computation took 0.108 [sec], which exceeds the maximum computation time allowed.\n",
      "└ @ RiskSensitiveSAC /home/kang/DRC_Project/DRC_Trajectron/src/rs_sac_controller.jl:733\n",
      "┌ Warning: Time 3.80 [sec]: This evaluation iteration took 0.108 [sec], which exceeds dtc.\n",
      "└ @ RiskSensitiveSAC /home/kang/DRC_Project/DRC_Trajectron/src/evaluation.jl:300\n"
     ]
    },
    {
     "name": "stderr",
     "output_type": "stream",
     "text": [
      "┌ Warning: Time 3.90 [sec]: SAC computation took 0.11 [sec], which exceeds the maximum computation time allowed.\n",
      "└ @ RiskSensitiveSAC /home/kang/DRC_Project/DRC_Trajectron/src/rs_sac_controller.jl:733\n",
      "┌ Warning: Time 3.90 [sec]: This evaluation iteration took 0.11 [sec], which exceeds dtc.\n",
      "└ @ RiskSensitiveSAC /home/kang/DRC_Project/DRC_Trajectron/src/evaluation.jl:300\n"
     ]
    },
    {
     "name": "stderr",
     "output_type": "stream",
     "text": [
      "┌ Warning: Time 4.00 [sec]: This evaluation iteration took 0.099 [sec], which exceeds dtc.\n",
      "└ @ RiskSensitiveSAC /home/kang/DRC_Project/DRC_Trajectron/src/evaluation.jl:300\n"
     ]
    },
    {
     "name": "stderr",
     "output_type": "stream",
     "text": [
      "┌ Warning: Time 4.10 [sec]: SAC computation took 0.109 [sec], which exceeds the maximum computation time allowed.\n",
      "└ @ RiskSensitiveSAC /home/kang/DRC_Project/DRC_Trajectron/src/rs_sac_controller.jl:733\n",
      "┌ Warning: Time 4.10 [sec]: This evaluation iteration took 0.109 [sec], which exceeds dtc.\n",
      "└ @ RiskSensitiveSAC /home/kang/DRC_Project/DRC_Trajectron/src/evaluation.jl:300\n"
     ]
    },
    {
     "name": "stderr",
     "output_type": "stream",
     "text": [
      "┌ Warning: Time 4.20 [sec]: SAC computation took 0.168 [sec], which exceeds the maximum computation time allowed.\n",
      "└ @ RiskSensitiveSAC /home/kang/DRC_Project/DRC_Trajectron/src/rs_sac_controller.jl:733\n",
      "┌ Warning: Time 4.20 [sec]: This evaluation iteration took 0.168 [sec], which exceeds dtc.\n",
      "└ @ RiskSensitiveSAC /home/kang/DRC_Project/DRC_Trajectron/src/evaluation.jl:300\n"
     ]
    },
    {
     "name": "stderr",
     "output_type": "stream",
     "text": [
      "┌ Warning: Time 4.30 [sec]: SAC computation took 0.11 [sec], which exceeds the maximum computation time allowed.\n",
      "└ @ RiskSensitiveSAC /home/kang/DRC_Project/DRC_Trajectron/src/rs_sac_controller.jl:733\n",
      "┌ Warning: Time 4.30 [sec]: This evaluation iteration took 0.11 [sec], which exceeds dtc.\n",
      "└ @ RiskSensitiveSAC /home/kang/DRC_Project/DRC_Trajectron/src/evaluation.jl:300\n"
     ]
    },
    {
     "name": "stderr",
     "output_type": "stream",
     "text": [
      "┌ Warning: Time 4.40 [sec]: SAC computation took 0.101 [sec], which exceeds the maximum computation time allowed.\n",
      "└ @ RiskSensitiveSAC /home/kang/DRC_Project/DRC_Trajectron/src/rs_sac_controller.jl:733\n",
      "┌ Warning: Time 4.40 [sec]: This evaluation iteration took 0.102 [sec], which exceeds dtc.\n",
      "└ @ RiskSensitiveSAC /home/kang/DRC_Project/DRC_Trajectron/src/evaluation.jl:300\n"
     ]
    },
    {
     "name": "stderr",
     "output_type": "stream",
     "text": [
      "┌ Warning: Time 4.50 [sec]: SAC computation took 0.113 [sec], which exceeds the maximum computation time allowed.\n",
      "└ @ RiskSensitiveSAC /home/kang/DRC_Project/DRC_Trajectron/src/rs_sac_controller.jl:733\n",
      "┌ Warning: Time 4.50 [sec]: This evaluation iteration took 0.113 [sec], which exceeds dtc.\n",
      "└ @ RiskSensitiveSAC /home/kang/DRC_Project/DRC_Trajectron/src/evaluation.jl:300\n"
     ]
    },
    {
     "name": "stderr",
     "output_type": "stream",
     "text": [
      "┌ Warning: Time 4.60 [sec]: This evaluation iteration took 0.099 [sec], which exceeds dtc.\n",
      "└ @ RiskSensitiveSAC /home/kang/DRC_Project/DRC_Trajectron/src/evaluation.jl:300\n"
     ]
    },
    {
     "name": "stderr",
     "output_type": "stream",
     "text": [
      "┌ Warning: Time 4.70 [sec]: SAC computation took 0.115 [sec], which exceeds the maximum computation time allowed.\n",
      "└ @ RiskSensitiveSAC /home/kang/DRC_Project/DRC_Trajectron/src/rs_sac_controller.jl:733\n",
      "┌ Warning: Time 4.70 [sec]: This evaluation iteration took 0.115 [sec], which exceeds dtc.\n",
      "└ @ RiskSensitiveSAC /home/kang/DRC_Project/DRC_Trajectron/src/evaluation.jl:300\n"
     ]
    },
    {
     "name": "stderr",
     "output_type": "stream",
     "text": [
      "┌ Warning: Time 4.80 [sec]: SAC computation took 0.113 [sec], which exceeds the maximum computation time allowed.\n",
      "└ @ RiskSensitiveSAC /home/kang/DRC_Project/DRC_Trajectron/src/rs_sac_controller.jl:733\n",
      "┌ Warning: Time 4.80 [sec]: This evaluation iteration took 0.114 [sec], which exceeds dtc.\n",
      "└ @ RiskSensitiveSAC /home/kang/DRC_Project/DRC_Trajectron/src/evaluation.jl:300\n"
     ]
    },
    {
     "name": "stderr",
     "output_type": "stream",
     "text": [
      "┌ Warning: Time 4.90 [sec]: SAC computation took 0.108 [sec], which exceeds the maximum computation time allowed.\n",
      "└ @ RiskSensitiveSAC /home/kang/DRC_Project/DRC_Trajectron/src/rs_sac_controller.jl:733\n",
      "┌ Warning: Time 4.90 [sec]: This evaluation iteration took 0.109 [sec], which exceeds dtc.\n",
      "└ @ RiskSensitiveSAC /home/kang/DRC_Project/DRC_Trajectron/src/evaluation.jl:300\n"
     ]
    },
    {
     "name": "stderr",
     "output_type": "stream",
     "text": [
      "┌ Warning: Time 5.00 [sec]: SAC computation took 0.111 [sec], which exceeds the maximum computation time allowed.\n",
      "└ @ RiskSensitiveSAC /home/kang/DRC_Project/DRC_Trajectron/src/rs_sac_controller.jl:733\n",
      "┌ Warning: Time 5.00 [sec]: This evaluation iteration took 0.111 [sec], which exceeds dtc.\n",
      "└ @ RiskSensitiveSAC /home/kang/DRC_Project/DRC_Trajectron/src/evaluation.jl:300\n"
     ]
    },
    {
     "name": "stderr",
     "output_type": "stream",
     "text": [
      "┌ Warning: Time 5.10 [sec]: SAC computation took 0.118 [sec], which exceeds the maximum computation time allowed.\n",
      "└ @ RiskSensitiveSAC /home/kang/DRC_Project/DRC_Trajectron/src/rs_sac_controller.jl:733\n",
      "┌ Warning: Time 5.10 [sec]: This evaluation iteration took 0.119 [sec], which exceeds dtc.\n",
      "└ @ RiskSensitiveSAC /home/kang/DRC_Project/DRC_Trajectron/src/evaluation.jl:300\n"
     ]
    },
    {
     "name": "stderr",
     "output_type": "stream",
     "text": [
      "┌ Warning: Time 5.20 [sec]: SAC computation took 0.103 [sec], which exceeds the maximum computation time allowed.\n",
      "└ @ RiskSensitiveSAC /home/kang/DRC_Project/DRC_Trajectron/src/rs_sac_controller.jl:733\n",
      "┌ Warning: Time 5.20 [sec]: This evaluation iteration took 0.104 [sec], which exceeds dtc.\n",
      "└ @ RiskSensitiveSAC /home/kang/DRC_Project/DRC_Trajectron/src/evaluation.jl:300\n"
     ]
    },
    {
     "name": "stderr",
     "output_type": "stream",
     "text": [
      "┌ Warning: Time 5.30 [sec]: SAC computation took 0.112 [sec], which exceeds the maximum computation time allowed.\n",
      "└ @ RiskSensitiveSAC /home/kang/DRC_Project/DRC_Trajectron/src/rs_sac_controller.jl:733\n",
      "┌ Warning: Time 5.30 [sec]: This evaluation iteration took 0.113 [sec], which exceeds dtc.\n",
      "└ @ RiskSensitiveSAC /home/kang/DRC_Project/DRC_Trajectron/src/evaluation.jl:300\n"
     ]
    },
    {
     "name": "stderr",
     "output_type": "stream",
     "text": [
      "┌ Warning: Time 5.40 [sec]: SAC computation took 0.115 [sec], which exceeds the maximum computation time allowed.\n",
      "└ @ RiskSensitiveSAC /home/kang/DRC_Project/DRC_Trajectron/src/rs_sac_controller.jl:733\n",
      "┌ Warning: Time 5.40 [sec]: This evaluation iteration took 0.116 [sec], which exceeds dtc.\n",
      "└ @ RiskSensitiveSAC /home/kang/DRC_Project/DRC_Trajectron/src/evaluation.jl:300\n"
     ]
    },
    {
     "name": "stderr",
     "output_type": "stream",
     "text": [
      "┌ Warning: Time 5.50 [sec]: SAC computation took 0.108 [sec], which exceeds the maximum computation time allowed.\n",
      "└ @ RiskSensitiveSAC /home/kang/DRC_Project/DRC_Trajectron/src/rs_sac_controller.jl:733\n",
      "┌ Warning: Time 5.50 [sec]: This evaluation iteration took 0.109 [sec], which exceeds dtc.\n",
      "└ @ RiskSensitiveSAC /home/kang/DRC_Project/DRC_Trajectron/src/evaluation.jl:300\n"
     ]
    },
    {
     "name": "stderr",
     "output_type": "stream",
     "text": [
      "┌ Warning: Time 5.60 [sec]: SAC computation took 0.112 [sec], which exceeds the maximum computation time allowed.\n",
      "└ @ RiskSensitiveSAC /home/kang/DRC_Project/DRC_Trajectron/src/rs_sac_controller.jl:733\n",
      "┌ Warning: Time 5.60 [sec]: This evaluation iteration took 0.113 [sec], which exceeds dtc.\n",
      "└ @ RiskSensitiveSAC /home/kang/DRC_Project/DRC_Trajectron/src/evaluation.jl:300\n"
     ]
    },
    {
     "name": "stderr",
     "output_type": "stream",
     "text": [
      "┌ Warning: Time 5.70 [sec]: SAC computation took 0.161 [sec], which exceeds the maximum computation time allowed.\n",
      "└ @ RiskSensitiveSAC /home/kang/DRC_Project/DRC_Trajectron/src/rs_sac_controller.jl:733\n",
      "┌ Warning: Time 5.70 [sec]: This evaluation iteration took 0.161 [sec], which exceeds dtc.\n",
      "└ @ RiskSensitiveSAC /home/kang/DRC_Project/DRC_Trajectron/src/evaluation.jl:300\n"
     ]
    },
    {
     "name": "stderr",
     "output_type": "stream",
     "text": [
      "┌ Warning: Time 5.80 [sec]: SAC computation took 0.103 [sec], which exceeds the maximum computation time allowed.\n",
      "└ @ RiskSensitiveSAC /home/kang/DRC_Project/DRC_Trajectron/src/rs_sac_controller.jl:733\n",
      "┌ Warning: Time 5.80 [sec]: This evaluation iteration took 0.103 [sec], which exceeds dtc.\n",
      "└ @ RiskSensitiveSAC /home/kang/DRC_Project/DRC_Trajectron/src/evaluation.jl:300\n"
     ]
    },
    {
     "name": "stderr",
     "output_type": "stream",
     "text": [
      "┌ Warning: Time 5.90 [sec]: This evaluation iteration took 0.099 [sec], which exceeds dtc.\n",
      "└ @ RiskSensitiveSAC /home/kang/DRC_Project/DRC_Trajectron/src/evaluation.jl:300\n"
     ]
    },
    {
     "name": "stderr",
     "output_type": "stream",
     "text": [
      "┌ Warning: Time 6.00 [sec]: SAC computation took 0.11 [sec], which exceeds the maximum computation time allowed.\n",
      "└ @ RiskSensitiveSAC /home/kang/DRC_Project/DRC_Trajectron/src/rs_sac_controller.jl:733\n",
      "┌ Warning: Time 6.00 [sec]: This evaluation iteration took 0.111 [sec], which exceeds dtc.\n",
      "└ @ RiskSensitiveSAC /home/kang/DRC_Project/DRC_Trajectron/src/evaluation.jl:300\n"
     ]
    },
    {
     "name": "stderr",
     "output_type": "stream",
     "text": [
      "┌ Warning: Time 6.10 [sec]: This evaluation iteration took 0.091 [sec], which exceeds dtc.\n",
      "└ @ RiskSensitiveSAC /home/kang/DRC_Project/DRC_Trajectron/src/evaluation.jl:300\n"
     ]
    },
    {
     "name": "stderr",
     "output_type": "stream",
     "text": [
      "┌ Warning: Time 6.20 [sec]: SAC computation took 0.108 [sec], which exceeds the maximum computation time allowed.\n",
      "└ @ RiskSensitiveSAC /home/kang/DRC_Project/DRC_Trajectron/src/rs_sac_controller.jl:733\n",
      "┌ Warning: Time 6.20 [sec]: This evaluation iteration took 0.108 [sec], which exceeds dtc.\n",
      "└ @ RiskSensitiveSAC /home/kang/DRC_Project/DRC_Trajectron/src/evaluation.jl:300\n"
     ]
    },
    {
     "name": "stderr",
     "output_type": "stream",
     "text": [
      "┌ Warning: Time 6.30 [sec]: SAC computation took 0.111 [sec], which exceeds the maximum computation time allowed.\n",
      "└ @ RiskSensitiveSAC /home/kang/DRC_Project/DRC_Trajectron/src/rs_sac_controller.jl:733\n",
      "┌ Warning: Time 6.30 [sec]: This evaluation iteration took 0.112 [sec], which exceeds dtc.\n",
      "└ @ RiskSensitiveSAC /home/kang/DRC_Project/DRC_Trajectron/src/evaluation.jl:300\n"
     ]
    },
    {
     "name": "stderr",
     "output_type": "stream",
     "text": [
      "┌ Warning: Time 6.40 [sec]: This evaluation iteration took 0.09 [sec], which exceeds dtc.\n",
      "└ @ RiskSensitiveSAC /home/kang/DRC_Project/DRC_Trajectron/src/evaluation.jl:300\n"
     ]
    },
    {
     "name": "stderr",
     "output_type": "stream",
     "text": [
      "┌ Warning: Time 6.50 [sec]: SAC computation took 0.124 [sec], which exceeds the maximum computation time allowed.\n",
      "└ @ RiskSensitiveSAC /home/kang/DRC_Project/DRC_Trajectron/src/rs_sac_controller.jl:733\n",
      "┌ Warning: Time 6.50 [sec]: This evaluation iteration took 0.125 [sec], which exceeds dtc.\n",
      "└ @ RiskSensitiveSAC /home/kang/DRC_Project/DRC_Trajectron/src/evaluation.jl:300\n"
     ]
    },
    {
     "name": "stderr",
     "output_type": "stream",
     "text": [
      "┌ Warning: Time 6.60 [sec]: SAC computation took 0.121 [sec], which exceeds the maximum computation time allowed.\n",
      "└ @ RiskSensitiveSAC /home/kang/DRC_Project/DRC_Trajectron/src/rs_sac_controller.jl:733\n",
      "┌ Warning: Time 6.60 [sec]: This evaluation iteration took 0.122 [sec], which exceeds dtc.\n",
      "└ @ RiskSensitiveSAC /home/kang/DRC_Project/DRC_Trajectron/src/evaluation.jl:300\n"
     ]
    },
    {
     "name": "stderr",
     "output_type": "stream",
     "text": [
      "┌ Warning: Time 6.70 [sec]: SAC computation took 0.101 [sec], which exceeds the maximum computation time allowed.\n",
      "└ @ RiskSensitiveSAC /home/kang/DRC_Project/DRC_Trajectron/src/rs_sac_controller.jl:733\n",
      "┌ Warning: Time 6.70 [sec]: This evaluation iteration took 0.102 [sec], which exceeds dtc.\n",
      "└ @ RiskSensitiveSAC /home/kang/DRC_Project/DRC_Trajectron/src/evaluation.jl:300\n"
     ]
    },
    {
     "name": "stderr",
     "output_type": "stream",
     "text": [
      "┌ Warning: Time 6.80 [sec]: SAC computation took 0.114 [sec], which exceeds the maximum computation time allowed.\n",
      "└ @ RiskSensitiveSAC /home/kang/DRC_Project/DRC_Trajectron/src/rs_sac_controller.jl:733\n",
      "┌ Warning: Time 6.80 [sec]: This evaluation iteration took 0.115 [sec], which exceeds dtc.\n",
      "└ @ RiskSensitiveSAC /home/kang/DRC_Project/DRC_Trajectron/src/evaluation.jl:300\n"
     ]
    },
    {
     "name": "stderr",
     "output_type": "stream",
     "text": [
      "┌ Warning: Time 6.90 [sec]: SAC computation took 0.114 [sec], which exceeds the maximum computation time allowed.\n",
      "└ @ RiskSensitiveSAC /home/kang/DRC_Project/DRC_Trajectron/src/rs_sac_controller.jl:733\n",
      "┌ Warning: Time 6.90 [sec]: This evaluation iteration took 0.115 [sec], which exceeds dtc.\n",
      "└ @ RiskSensitiveSAC /home/kang/DRC_Project/DRC_Trajectron/src/evaluation.jl:300\n"
     ]
    },
    {
     "name": "stderr",
     "output_type": "stream",
     "text": [
      "┌ Warning: Time 7.00 [sec]: This evaluation iteration took 0.092 [sec], which exceeds dtc.\n",
      "└ @ RiskSensitiveSAC /home/kang/DRC_Project/DRC_Trajectron/src/evaluation.jl:300\n"
     ]
    },
    {
     "name": "stderr",
     "output_type": "stream",
     "text": [
      "┌ Warning: Time 7.10 [sec]: SAC computation took 0.114 [sec], which exceeds the maximum computation time allowed.\n",
      "└ @ RiskSensitiveSAC /home/kang/DRC_Project/DRC_Trajectron/src/rs_sac_controller.jl:733\n",
      "┌ Warning: Time 7.10 [sec]: This evaluation iteration took 0.115 [sec], which exceeds dtc.\n",
      "└ @ RiskSensitiveSAC /home/kang/DRC_Project/DRC_Trajectron/src/evaluation.jl:300\n"
     ]
    },
    {
     "name": "stderr",
     "output_type": "stream",
     "text": [
      "┌ Warning: Time 7.20 [sec]: SAC computation took 0.15 [sec], which exceeds the maximum computation time allowed.\n",
      "└ @ RiskSensitiveSAC /home/kang/DRC_Project/DRC_Trajectron/src/rs_sac_controller.jl:733\n",
      "┌ Warning: Time 7.20 [sec]: This evaluation iteration took 0.151 [sec], which exceeds dtc.\n",
      "└ @ RiskSensitiveSAC /home/kang/DRC_Project/DRC_Trajectron/src/evaluation.jl:300\n"
     ]
    },
    {
     "name": "stderr",
     "output_type": "stream",
     "text": [
      "┌ Warning: Time 7.30 [sec]: This evaluation iteration took 0.088 [sec], which exceeds dtc.\n",
      "└ @ RiskSensitiveSAC /home/kang/DRC_Project/DRC_Trajectron/src/evaluation.jl:300\n"
     ]
    },
    {
     "name": "stderr",
     "output_type": "stream",
     "text": [
      "┌ Warning: Time 7.40 [sec]: SAC computation took 0.114 [sec], which exceeds the maximum computation time allowed.\n",
      "└ @ RiskSensitiveSAC /home/kang/DRC_Project/DRC_Trajectron/src/rs_sac_controller.jl:733\n",
      "┌ Warning: Time 7.40 [sec]: This evaluation iteration took 0.115 [sec], which exceeds dtc.\n",
      "└ @ RiskSensitiveSAC /home/kang/DRC_Project/DRC_Trajectron/src/evaluation.jl:300\n"
     ]
    },
    {
     "name": "stderr",
     "output_type": "stream",
     "text": [
      "┌ Warning: Time 7.50 [sec]: SAC computation took 0.117 [sec], which exceeds the maximum computation time allowed.\n",
      "└ @ RiskSensitiveSAC /home/kang/DRC_Project/DRC_Trajectron/src/rs_sac_controller.jl:733\n",
      "┌ Warning: Time 7.50 [sec]: This evaluation iteration took 0.118 [sec], which exceeds dtc.\n",
      "└ @ RiskSensitiveSAC /home/kang/DRC_Project/DRC_Trajectron/src/evaluation.jl:300\n"
     ]
    },
    {
     "name": "stderr",
     "output_type": "stream",
     "text": [
      "┌ Warning: Time 7.60 [sec]: This evaluation iteration took 0.096 [sec], which exceeds dtc.\n",
      "└ @ RiskSensitiveSAC /home/kang/DRC_Project/DRC_Trajectron/src/evaluation.jl:300\n"
     ]
    },
    {
     "name": "stderr",
     "output_type": "stream",
     "text": [
      "┌ Warning: Time 7.70 [sec]: SAC computation took 0.112 [sec], which exceeds the maximum computation time allowed.\n",
      "└ @ RiskSensitiveSAC /home/kang/DRC_Project/DRC_Trajectron/src/rs_sac_controller.jl:733\n",
      "┌ Warning: Time 7.70 [sec]: This evaluation iteration took 0.112 [sec], which exceeds dtc.\n",
      "└ @ RiskSensitiveSAC /home/kang/DRC_Project/DRC_Trajectron/src/evaluation.jl:300\n"
     ]
    },
    {
     "name": "stderr",
     "output_type": "stream",
     "text": [
      "┌ Warning: Time 7.80 [sec]: SAC computation took 0.11 [sec], which exceeds the maximum computation time allowed.\n",
      "└ @ RiskSensitiveSAC /home/kang/DRC_Project/DRC_Trajectron/src/rs_sac_controller.jl:733\n",
      "┌ Warning: Time 7.80 [sec]: This evaluation iteration took 0.111 [sec], which exceeds dtc.\n",
      "└ @ RiskSensitiveSAC /home/kang/DRC_Project/DRC_Trajectron/src/evaluation.jl:300\n"
     ]
    },
    {
     "name": "stderr",
     "output_type": "stream",
     "text": [
      "┌ Warning: Time 7.90 [sec]: SAC computation took 0.109 [sec], which exceeds the maximum computation time allowed.\n",
      "└ @ RiskSensitiveSAC /home/kang/DRC_Project/DRC_Trajectron/src/rs_sac_controller.jl:733\n",
      "┌ Warning: Time 7.90 [sec]: This evaluation iteration took 0.109 [sec], which exceeds dtc.\n",
      "└ @ RiskSensitiveSAC /home/kang/DRC_Project/DRC_Trajectron/src/evaluation.jl:300\n"
     ]
    },
    {
     "name": "stderr",
     "output_type": "stream",
     "text": [
      "┌ Warning: Time 8.00 [sec]: SAC computation took 0.113 [sec], which exceeds the maximum computation time allowed.\n",
      "└ @ RiskSensitiveSAC /home/kang/DRC_Project/DRC_Trajectron/src/rs_sac_controller.jl:733\n",
      "┌ Warning: Time 8.00 [sec]: This evaluation iteration took 0.114 [sec], which exceeds dtc.\n",
      "└ @ RiskSensitiveSAC /home/kang/DRC_Project/DRC_Trajectron/src/evaluation.jl:300\n"
     ]
    },
    {
     "name": "stderr",
     "output_type": "stream",
     "text": [
      "┌ Warning: Time 8.10 [sec]: This evaluation iteration took 0.1 [sec], which exceeds dtc.\n",
      "└ @ RiskSensitiveSAC /home/kang/DRC_Project/DRC_Trajectron/src/evaluation.jl:300\n"
     ]
    },
    {
     "name": "stderr",
     "output_type": "stream",
     "text": [
      "┌ Warning: Time 8.20 [sec]: SAC computation took 0.103 [sec], which exceeds the maximum computation time allowed.\n",
      "└ @ RiskSensitiveSAC /home/kang/DRC_Project/DRC_Trajectron/src/rs_sac_controller.jl:733\n",
      "┌ Warning: Time 8.20 [sec]: This evaluation iteration took 0.103 [sec], which exceeds dtc.\n",
      "└ @ RiskSensitiveSAC /home/kang/DRC_Project/DRC_Trajectron/src/evaluation.jl:300\n"
     ]
    },
    {
     "name": "stderr",
     "output_type": "stream",
     "text": [
      "┌ Warning: Time 8.30 [sec]: SAC computation took 0.113 [sec], which exceeds the maximum computation time allowed.\n",
      "└ @ RiskSensitiveSAC /home/kang/DRC_Project/DRC_Trajectron/src/rs_sac_controller.jl:733\n",
      "┌ Warning: Time 8.30 [sec]: This evaluation iteration took 0.113 [sec], which exceeds dtc.\n",
      "└ @ RiskSensitiveSAC /home/kang/DRC_Project/DRC_Trajectron/src/evaluation.jl:300\n"
     ]
    },
    {
     "name": "stderr",
     "output_type": "stream",
     "text": [
      "┌ Warning: Time 8.40 [sec]: This evaluation iteration took 0.098 [sec], which exceeds dtc.\n",
      "└ @ RiskSensitiveSAC /home/kang/DRC_Project/DRC_Trajectron/src/evaluation.jl:300\n"
     ]
    },
    {
     "name": "stderr",
     "output_type": "stream",
     "text": [
      "┌ Warning: Time 8.50 [sec]: SAC computation took 0.112 [sec], which exceeds the maximum computation time allowed.\n",
      "└ @ RiskSensitiveSAC /home/kang/DRC_Project/DRC_Trajectron/src/rs_sac_controller.jl:733\n",
      "┌ Warning: Time 8.50 [sec]: This evaluation iteration took 0.112 [sec], which exceeds dtc.\n",
      "└ @ RiskSensitiveSAC /home/kang/DRC_Project/DRC_Trajectron/src/evaluation.jl:300\n"
     ]
    },
    {
     "name": "stderr",
     "output_type": "stream",
     "text": [
      "┌ Warning: Time 8.60 [sec]: SAC computation took 0.112 [sec], which exceeds the maximum computation time allowed.\n",
      "└ @ RiskSensitiveSAC /home/kang/DRC_Project/DRC_Trajectron/src/rs_sac_controller.jl:733\n",
      "┌ Warning: Time 8.60 [sec]: This evaluation iteration took 0.112 [sec], which exceeds dtc.\n",
      "└ @ RiskSensitiveSAC /home/kang/DRC_Project/DRC_Trajectron/src/evaluation.jl:300\n"
     ]
    },
    {
     "name": "stderr",
     "output_type": "stream",
     "text": [
      "┌ Warning: Time 8.70 [sec]: SAC computation took 0.151 [sec], which exceeds the maximum computation time allowed.\n",
      "└ @ RiskSensitiveSAC /home/kang/DRC_Project/DRC_Trajectron/src/rs_sac_controller.jl:733\n",
      "┌ Warning: Time 8.70 [sec]: This evaluation iteration took 0.152 [sec], which exceeds dtc.\n",
      "└ @ RiskSensitiveSAC /home/kang/DRC_Project/DRC_Trajectron/src/evaluation.jl:300\n"
     ]
    },
    {
     "name": "stderr",
     "output_type": "stream",
     "text": [
      "┌ Warning: Time 8.80 [sec]: SAC computation took 0.1 [sec], which exceeds the maximum computation time allowed.\n",
      "└ @ RiskSensitiveSAC /home/kang/DRC_Project/DRC_Trajectron/src/rs_sac_controller.jl:733\n",
      "┌ Warning: Time 8.80 [sec]: This evaluation iteration took 0.101 [sec], which exceeds dtc.\n",
      "└ @ RiskSensitiveSAC /home/kang/DRC_Project/DRC_Trajectron/src/evaluation.jl:300\n"
     ]
    },
    {
     "name": "stderr",
     "output_type": "stream",
     "text": [
      "┌ Warning: Time 8.90 [sec]: SAC computation took 0.111 [sec], which exceeds the maximum computation time allowed.\n",
      "└ @ RiskSensitiveSAC /home/kang/DRC_Project/DRC_Trajectron/src/rs_sac_controller.jl:733\n",
      "┌ Warning: Time 8.90 [sec]: This evaluation iteration took 0.111 [sec], which exceeds dtc.\n",
      "└ @ RiskSensitiveSAC /home/kang/DRC_Project/DRC_Trajectron/src/evaluation.jl:300\n"
     ]
    },
    {
     "name": "stderr",
     "output_type": "stream",
     "text": [
      "┌ Warning: Time 9.00 [sec]: SAC computation took 0.103 [sec], which exceeds the maximum computation time allowed.\n",
      "└ @ RiskSensitiveSAC /home/kang/DRC_Project/DRC_Trajectron/src/rs_sac_controller.jl:733\n",
      "┌ Warning: Time 9.00 [sec]: This evaluation iteration took 0.104 [sec], which exceeds dtc.\n",
      "└ @ RiskSensitiveSAC /home/kang/DRC_Project/DRC_Trajectron/src/evaluation.jl:300\n"
     ]
    },
    {
     "name": "stderr",
     "output_type": "stream",
     "text": [
      "┌ Warning: Time 9.10 [sec]: SAC computation took 0.114 [sec], which exceeds the maximum computation time allowed.\n",
      "└ @ RiskSensitiveSAC /home/kang/DRC_Project/DRC_Trajectron/src/rs_sac_controller.jl:733\n",
      "┌ Warning: Time 9.10 [sec]: This evaluation iteration took 0.114 [sec], which exceeds dtc.\n",
      "└ @ RiskSensitiveSAC /home/kang/DRC_Project/DRC_Trajectron/src/evaluation.jl:300\n"
     ]
    },
    {
     "name": "stderr",
     "output_type": "stream",
     "text": [
      "┌ Warning: Time 9.20 [sec]: SAC computation took 0.113 [sec], which exceeds the maximum computation time allowed.\n",
      "└ @ RiskSensitiveSAC /home/kang/DRC_Project/DRC_Trajectron/src/rs_sac_controller.jl:733\n",
      "┌ Warning: Time 9.20 [sec]: This evaluation iteration took 0.114 [sec], which exceeds dtc.\n",
      "└ @ RiskSensitiveSAC /home/kang/DRC_Project/DRC_Trajectron/src/evaluation.jl:300\n"
     ]
    },
    {
     "name": "stderr",
     "output_type": "stream",
     "text": [
      "┌ Warning: Time 9.30 [sec]: This evaluation iteration took 0.094 [sec], which exceeds dtc.\n",
      "└ @ RiskSensitiveSAC /home/kang/DRC_Project/DRC_Trajectron/src/evaluation.jl:300\n"
     ]
    },
    {
     "name": "stderr",
     "output_type": "stream",
     "text": [
      "┌ Warning: Time 9.40 [sec]: SAC computation took 0.111 [sec], which exceeds the maximum computation time allowed.\n",
      "└ @ RiskSensitiveSAC /home/kang/DRC_Project/DRC_Trajectron/src/rs_sac_controller.jl:733\n",
      "┌ Warning: Time 9.40 [sec]: This evaluation iteration took 0.112 [sec], which exceeds dtc.\n",
      "└ @ RiskSensitiveSAC /home/kang/DRC_Project/DRC_Trajectron/src/evaluation.jl:300\n"
     ]
    },
    {
     "name": "stderr",
     "output_type": "stream",
     "text": [
      "┌ Warning: Time 9.50 [sec]: SAC computation took 0.116 [sec], which exceeds the maximum computation time allowed.\n",
      "└ @ RiskSensitiveSAC /home/kang/DRC_Project/DRC_Trajectron/src/rs_sac_controller.jl:733\n",
      "┌ Warning: Time 9.50 [sec]: This evaluation iteration took 0.117 [sec], which exceeds dtc.\n",
      "└ @ RiskSensitiveSAC /home/kang/DRC_Project/DRC_Trajectron/src/evaluation.jl:300\n"
     ]
    },
    {
     "name": "stderr",
     "output_type": "stream",
     "text": [
      "┌ Warning: Time 9.60 [sec]: This evaluation iteration took 0.098 [sec], which exceeds dtc.\n",
      "└ @ RiskSensitiveSAC /home/kang/DRC_Project/DRC_Trajectron/src/evaluation.jl:300\n"
     ]
    },
    {
     "name": "stderr",
     "output_type": "stream",
     "text": [
      "┌ Warning: Time 9.70 [sec]: SAC computation took 0.114 [sec], which exceeds the maximum computation time allowed.\n",
      "└ @ RiskSensitiveSAC /home/kang/DRC_Project/DRC_Trajectron/src/rs_sac_controller.jl:733\n",
      "┌ Warning: Time 9.70 [sec]: This evaluation iteration took 0.114 [sec], which exceeds dtc.\n",
      "└ @ RiskSensitiveSAC /home/kang/DRC_Project/DRC_Trajectron/src/evaluation.jl:300\n"
     ]
    },
    {
     "name": "stderr",
     "output_type": "stream",
     "text": [
      "┌ Warning: Time 9.80 [sec]: SAC computation took 0.112 [sec], which exceeds the maximum computation time allowed.\n",
      "└ @ RiskSensitiveSAC /home/kang/DRC_Project/DRC_Trajectron/src/rs_sac_controller.jl:733\n",
      "┌ Warning: Time 9.80 [sec]: This evaluation iteration took 0.112 [sec], which exceeds dtc.\n",
      "└ @ RiskSensitiveSAC /home/kang/DRC_Project/DRC_Trajectron/src/evaluation.jl:300\n"
     ]
    },
    {
     "name": "stderr",
     "output_type": "stream",
     "text": [
      "┌ Warning: Time 9.90 [sec]: This evaluation iteration took 0.094 [sec], which exceeds dtc.\n",
      "└ @ RiskSensitiveSAC /home/kang/DRC_Project/DRC_Trajectron/src/evaluation.jl:300\n"
     ]
    },
    {
     "name": "stdout",
     "output_type": "stream",
     "text": [
      "Total Collision: 0, Total Position Cost: 79.82071604347524, Total Control Cost: 1.9794602334094806, Minimum Distance: 1.0420507248278048, Experiment 8: "
     ]
    },
    {
     "name": "stderr",
     "output_type": "stream",
     "text": [
      "┌ Warning: Time 0.00 [sec]: SAC computation took 0.116 [sec], which exceeds the maximum computation time allowed.\n",
      "└ @ RiskSensitiveSAC /home/kang/DRC_Project/DRC_Trajectron/src/rs_sac_controller.jl:733\n"
     ]
    },
    {
     "name": "stderr",
     "output_type": "stream",
     "text": [
      "┌ Warning: Time 0.10 [sec]: SAC computation took 0.117 [sec], which exceeds the maximum computation time allowed.\n",
      "└ @ RiskSensitiveSAC /home/kang/DRC_Project/DRC_Trajectron/src/rs_sac_controller.jl:733\n",
      "┌ Warning: Time 0.10 [sec]: This evaluation iteration took 0.118 [sec], which exceeds dtc.\n",
      "└ @ RiskSensitiveSAC /home/kang/DRC_Project/DRC_Trajectron/src/evaluation.jl:300\n"
     ]
    },
    {
     "name": "stderr",
     "output_type": "stream",
     "text": [
      "┌ Warning: Time 0.20 [sec]: SAC computation took 0.162 [sec], which exceeds the maximum computation time allowed.\n",
      "└ @ RiskSensitiveSAC /home/kang/DRC_Project/DRC_Trajectron/src/rs_sac_controller.jl:733\n",
      "┌ Warning: Time 0.20 [sec]: This evaluation iteration took 0.162 [sec], which exceeds dtc.\n",
      "└ @ RiskSensitiveSAC /home/kang/DRC_Project/DRC_Trajectron/src/evaluation.jl:300\n"
     ]
    },
    {
     "name": "stderr",
     "output_type": "stream",
     "text": [
      "┌ Warning: Time 0.30 [sec]: SAC computation took 0.113 [sec], which exceeds the maximum computation time allowed.\n",
      "└ @ RiskSensitiveSAC /home/kang/DRC_Project/DRC_Trajectron/src/rs_sac_controller.jl:733\n",
      "┌ Warning: Time 0.30 [sec]: This evaluation iteration took 0.114 [sec], which exceeds dtc.\n",
      "└ @ RiskSensitiveSAC /home/kang/DRC_Project/DRC_Trajectron/src/evaluation.jl:300\n"
     ]
    },
    {
     "name": "stderr",
     "output_type": "stream",
     "text": [
      "┌ Warning: Time 0.40 [sec]: SAC computation took 0.101 [sec], which exceeds the maximum computation time allowed.\n",
      "└ @ RiskSensitiveSAC /home/kang/DRC_Project/DRC_Trajectron/src/rs_sac_controller.jl:733\n",
      "┌ Warning: Time 0.40 [sec]: This evaluation iteration took 0.102 [sec], which exceeds dtc.\n",
      "└ @ RiskSensitiveSAC /home/kang/DRC_Project/DRC_Trajectron/src/evaluation.jl:300\n"
     ]
    },
    {
     "name": "stderr",
     "output_type": "stream",
     "text": [
      "┌ Warning: Time 0.50 [sec]: SAC computation took 0.113 [sec], which exceeds the maximum computation time allowed.\n",
      "└ @ RiskSensitiveSAC /home/kang/DRC_Project/DRC_Trajectron/src/rs_sac_controller.jl:733\n",
      "┌ Warning: Time 0.50 [sec]: This evaluation iteration took 0.114 [sec], which exceeds dtc.\n",
      "└ @ RiskSensitiveSAC /home/kang/DRC_Project/DRC_Trajectron/src/evaluation.jl:300\n"
     ]
    },
    {
     "name": "stderr",
     "output_type": "stream",
     "text": [
      "┌ Warning: Time 0.60 [sec]: SAC computation took 0.104 [sec], which exceeds the maximum computation time allowed.\n",
      "└ @ RiskSensitiveSAC /home/kang/DRC_Project/DRC_Trajectron/src/rs_sac_controller.jl:733\n",
      "┌ Warning: Time 0.60 [sec]: This evaluation iteration took 0.104 [sec], which exceeds dtc.\n",
      "└ @ RiskSensitiveSAC /home/kang/DRC_Project/DRC_Trajectron/src/evaluation.jl:300\n"
     ]
    },
    {
     "name": "stderr",
     "output_type": "stream",
     "text": [
      "┌ Warning: Time 0.70 [sec]: SAC computation took 0.107 [sec], which exceeds the maximum computation time allowed.\n",
      "└ @ RiskSensitiveSAC /home/kang/DRC_Project/DRC_Trajectron/src/rs_sac_controller.jl:733\n",
      "┌ Warning: Time 0.70 [sec]: This evaluation iteration took 0.108 [sec], which exceeds dtc.\n",
      "└ @ RiskSensitiveSAC /home/kang/DRC_Project/DRC_Trajectron/src/evaluation.jl:300\n"
     ]
    },
    {
     "name": "stderr",
     "output_type": "stream",
     "text": [
      "┌ Warning: Time 0.80 [sec]: SAC computation took 0.111 [sec], which exceeds the maximum computation time allowed.\n",
      "└ @ RiskSensitiveSAC /home/kang/DRC_Project/DRC_Trajectron/src/rs_sac_controller.jl:733\n",
      "┌ Warning: Time 0.80 [sec]: This evaluation iteration took 0.112 [sec], which exceeds dtc.\n",
      "└ @ RiskSensitiveSAC /home/kang/DRC_Project/DRC_Trajectron/src/evaluation.jl:300\n"
     ]
    },
    {
     "name": "stderr",
     "output_type": "stream",
     "text": [
      "┌ Warning: Time 0.90 [sec]: This evaluation iteration took 0.093 [sec], which exceeds dtc.\n",
      "└ @ RiskSensitiveSAC /home/kang/DRC_Project/DRC_Trajectron/src/evaluation.jl:300\n"
     ]
    },
    {
     "name": "stderr",
     "output_type": "stream",
     "text": [
      "┌ Warning: Time 1.00 [sec]: SAC computation took 0.111 [sec], which exceeds the maximum computation time allowed.\n",
      "└ @ RiskSensitiveSAC /home/kang/DRC_Project/DRC_Trajectron/src/rs_sac_controller.jl:733\n",
      "┌ Warning: Time 1.00 [sec]: This evaluation iteration took 0.111 [sec], which exceeds dtc.\n",
      "└ @ RiskSensitiveSAC /home/kang/DRC_Project/DRC_Trajectron/src/evaluation.jl:300\n"
     ]
    },
    {
     "name": "stderr",
     "output_type": "stream",
     "text": [
      "┌ Warning: Time 1.10 [sec]: SAC computation took 0.115 [sec], which exceeds the maximum computation time allowed.\n",
      "└ @ RiskSensitiveSAC /home/kang/DRC_Project/DRC_Trajectron/src/rs_sac_controller.jl:733\n",
      "┌ Warning: Time 1.10 [sec]: This evaluation iteration took 0.116 [sec], which exceeds dtc.\n",
      "└ @ RiskSensitiveSAC /home/kang/DRC_Project/DRC_Trajectron/src/evaluation.jl:300\n"
     ]
    },
    {
     "name": "stderr",
     "output_type": "stream",
     "text": [
      "┌ Warning: Time 1.20 [sec]: This evaluation iteration took 0.089 [sec], which exceeds dtc.\n",
      "└ @ RiskSensitiveSAC /home/kang/DRC_Project/DRC_Trajectron/src/evaluation.jl:300\n"
     ]
    },
    {
     "name": "stderr",
     "output_type": "stream",
     "text": [
      "┌ Warning: Time 1.30 [sec]: SAC computation took 0.115 [sec], which exceeds the maximum computation time allowed.\n",
      "└ @ RiskSensitiveSAC /home/kang/DRC_Project/DRC_Trajectron/src/rs_sac_controller.jl:733\n",
      "┌ Warning: Time 1.30 [sec]: This evaluation iteration took 0.115 [sec], which exceeds dtc.\n",
      "└ @ RiskSensitiveSAC /home/kang/DRC_Project/DRC_Trajectron/src/evaluation.jl:300\n"
     ]
    },
    {
     "name": "stderr",
     "output_type": "stream",
     "text": [
      "┌ Warning: Time 1.40 [sec]: SAC computation took 0.12 [sec], which exceeds the maximum computation time allowed.\n",
      "└ @ RiskSensitiveSAC /home/kang/DRC_Project/DRC_Trajectron/src/rs_sac_controller.jl:733\n",
      "┌ Warning: Time 1.40 [sec]: This evaluation iteration took 0.12 [sec], which exceeds dtc.\n",
      "└ @ RiskSensitiveSAC /home/kang/DRC_Project/DRC_Trajectron/src/evaluation.jl:300\n"
     ]
    },
    {
     "name": "stderr",
     "output_type": "stream",
     "text": [
      "┌ Warning: Time 1.50 [sec]: This evaluation iteration took 0.094 [sec], which exceeds dtc.\n",
      "└ @ RiskSensitiveSAC /home/kang/DRC_Project/DRC_Trajectron/src/evaluation.jl:300\n"
     ]
    },
    {
     "name": "stderr",
     "output_type": "stream",
     "text": [
      "┌ Warning: Time 1.60 [sec]: SAC computation took 0.12 [sec], which exceeds the maximum computation time allowed.\n",
      "└ @ RiskSensitiveSAC /home/kang/DRC_Project/DRC_Trajectron/src/rs_sac_controller.jl:733\n",
      "┌ Warning: Time 1.60 [sec]: This evaluation iteration took 0.121 [sec], which exceeds dtc.\n",
      "└ @ RiskSensitiveSAC /home/kang/DRC_Project/DRC_Trajectron/src/evaluation.jl:300\n"
     ]
    },
    {
     "name": "stderr",
     "output_type": "stream",
     "text": [
      "┌ Warning: Time 1.70 [sec]: SAC computation took 0.122 [sec], which exceeds the maximum computation time allowed.\n",
      "└ @ RiskSensitiveSAC /home/kang/DRC_Project/DRC_Trajectron/src/rs_sac_controller.jl:733\n",
      "┌ Warning: Time 1.70 [sec]: This evaluation iteration took 0.123 [sec], which exceeds dtc.\n",
      "└ @ RiskSensitiveSAC /home/kang/DRC_Project/DRC_Trajectron/src/evaluation.jl:300\n"
     ]
    },
    {
     "name": "stderr",
     "output_type": "stream",
     "text": [
      "┌ Warning: Time 1.80 [sec]: This evaluation iteration took 0.087 [sec], which exceeds dtc.\n",
      "└ @ RiskSensitiveSAC /home/kang/DRC_Project/DRC_Trajectron/src/evaluation.jl:300\n"
     ]
    },
    {
     "name": "stderr",
     "output_type": "stream",
     "text": [
      "┌ Warning: Time 1.90 [sec]: This evaluation iteration took 0.086 [sec], which exceeds dtc.\n",
      "└ @ RiskSensitiveSAC /home/kang/DRC_Project/DRC_Trajectron/src/evaluation.jl:300\n"
     ]
    },
    {
     "name": "stderr",
     "output_type": "stream",
     "text": [
      "┌ Warning: Time 2.00 [sec]: This evaluation iteration took 0.083 [sec], which exceeds dtc.\n",
      "└ @ RiskSensitiveSAC /home/kang/DRC_Project/DRC_Trajectron/src/evaluation.jl:300\n"
     ]
    },
    {
     "name": "stderr",
     "output_type": "stream",
     "text": [
      "┌ Warning: Time 2.10 [sec]: This evaluation iteration took 0.082 [sec], which exceeds dtc.\n",
      "└ @ RiskSensitiveSAC /home/kang/DRC_Project/DRC_Trajectron/src/evaluation.jl:300\n"
     ]
    },
    {
     "name": "stderr",
     "output_type": "stream",
     "text": [
      "┌ Warning: Time 2.20 [sec]: This evaluation iteration took 0.087 [sec], which exceeds dtc.\n",
      "└ @ RiskSensitiveSAC /home/kang/DRC_Project/DRC_Trajectron/src/evaluation.jl:300\n"
     ]
    },
    {
     "name": "stderr",
     "output_type": "stream",
     "text": [
      "┌ Warning: Time 2.30 [sec]: This evaluation iteration took 0.088 [sec], which exceeds dtc.\n",
      "└ @ RiskSensitiveSAC /home/kang/DRC_Project/DRC_Trajectron/src/evaluation.jl:300\n"
     ]
    },
    {
     "name": "stderr",
     "output_type": "stream",
     "text": [
      "┌ Warning: Time 2.40 [sec]: This evaluation iteration took 0.092 [sec], which exceeds dtc.\n",
      "└ @ RiskSensitiveSAC /home/kang/DRC_Project/DRC_Trajectron/src/evaluation.jl:300\n"
     ]
    },
    {
     "name": "stderr",
     "output_type": "stream",
     "text": [
      "┌ Warning: Time 2.50 [sec]: This evaluation iteration took 0.086 [sec], which exceeds dtc.\n",
      "└ @ RiskSensitiveSAC /home/kang/DRC_Project/DRC_Trajectron/src/evaluation.jl:300\n"
     ]
    },
    {
     "name": "stderr",
     "output_type": "stream",
     "text": [
      "┌ Warning: Time 2.60 [sec]: This evaluation iteration took 0.085 [sec], which exceeds dtc.\n",
      "└ @ RiskSensitiveSAC /home/kang/DRC_Project/DRC_Trajectron/src/evaluation.jl:300\n"
     ]
    },
    {
     "name": "stderr",
     "output_type": "stream",
     "text": [
      "┌ Warning: Time 2.70 [sec]: This evaluation iteration took 0.084 [sec], which exceeds dtc.\n",
      "└ @ RiskSensitiveSAC /home/kang/DRC_Project/DRC_Trajectron/src/evaluation.jl:300\n"
     ]
    },
    {
     "name": "stderr",
     "output_type": "stream",
     "text": [
      "┌ Warning: Time 2.80 [sec]: This evaluation iteration took 0.09 [sec], which exceeds dtc.\n",
      "└ @ RiskSensitiveSAC /home/kang/DRC_Project/DRC_Trajectron/src/evaluation.jl:300\n"
     ]
    },
    {
     "name": "stderr",
     "output_type": "stream",
     "text": [
      "┌ Warning: Time 2.90 [sec]: This evaluation iteration took 0.088 [sec], which exceeds dtc.\n",
      "└ @ RiskSensitiveSAC /home/kang/DRC_Project/DRC_Trajectron/src/evaluation.jl:300\n"
     ]
    },
    {
     "name": "stderr",
     "output_type": "stream",
     "text": [
      "┌ Warning: Time 3.00 [sec]: This evaluation iteration took 0.085 [sec], which exceeds dtc.\n",
      "└ @ RiskSensitiveSAC /home/kang/DRC_Project/DRC_Trajectron/src/evaluation.jl:300\n"
     ]
    },
    {
     "name": "stderr",
     "output_type": "stream",
     "text": [
      "┌ Warning: Time 3.10 [sec]: This evaluation iteration took 0.093 [sec], which exceeds dtc.\n",
      "└ @ RiskSensitiveSAC /home/kang/DRC_Project/DRC_Trajectron/src/evaluation.jl:300\n"
     ]
    },
    {
     "name": "stderr",
     "output_type": "stream",
     "text": [
      "┌ Warning: Time 3.20 [sec]: SAC computation took 0.117 [sec], which exceeds the maximum computation time allowed.\n",
      "└ @ RiskSensitiveSAC /home/kang/DRC_Project/DRC_Trajectron/src/rs_sac_controller.jl:733\n",
      "┌ Warning: Time 3.20 [sec]: This evaluation iteration took 0.119 [sec], which exceeds dtc.\n",
      "└ @ RiskSensitiveSAC /home/kang/DRC_Project/DRC_Trajectron/src/evaluation.jl:300\n"
     ]
    },
    {
     "name": "stderr",
     "output_type": "stream",
     "text": [
      "┌ Warning: Time 3.30 [sec]: This evaluation iteration took 0.086 [sec], which exceeds dtc.\n",
      "└ @ RiskSensitiveSAC /home/kang/DRC_Project/DRC_Trajectron/src/evaluation.jl:300\n"
     ]
    },
    {
     "name": "stderr",
     "output_type": "stream",
     "text": [
      "┌ Warning: Time 3.40 [sec]: This evaluation iteration took 0.092 [sec], which exceeds dtc.\n",
      "└ @ RiskSensitiveSAC /home/kang/DRC_Project/DRC_Trajectron/src/evaluation.jl:300\n"
     ]
    },
    {
     "name": "stderr",
     "output_type": "stream",
     "text": [
      "┌ Warning: Time 3.50 [sec]: This evaluation iteration took 0.085 [sec], which exceeds dtc.\n",
      "└ @ RiskSensitiveSAC /home/kang/DRC_Project/DRC_Trajectron/src/evaluation.jl:300\n"
     ]
    },
    {
     "name": "stderr",
     "output_type": "stream",
     "text": [
      "┌ Warning: Time 3.60 [sec]: This evaluation iteration took 0.087 [sec], which exceeds dtc.\n",
      "└ @ RiskSensitiveSAC /home/kang/DRC_Project/DRC_Trajectron/src/evaluation.jl:300\n"
     ]
    },
    {
     "name": "stderr",
     "output_type": "stream",
     "text": [
      "┌ Warning: Time 3.70 [sec]: This evaluation iteration took 0.089 [sec], which exceeds dtc.\n",
      "└ @ RiskSensitiveSAC /home/kang/DRC_Project/DRC_Trajectron/src/evaluation.jl:300\n"
     ]
    },
    {
     "name": "stderr",
     "output_type": "stream",
     "text": [
      "┌ Warning: Time 3.80 [sec]: This evaluation iteration took 0.088 [sec], which exceeds dtc.\n",
      "└ @ RiskSensitiveSAC /home/kang/DRC_Project/DRC_Trajectron/src/evaluation.jl:300\n"
     ]
    },
    {
     "name": "stderr",
     "output_type": "stream",
     "text": [
      "┌ Warning: Time 3.90 [sec]: This evaluation iteration took 0.097 [sec], which exceeds dtc.\n",
      "└ @ RiskSensitiveSAC /home/kang/DRC_Project/DRC_Trajectron/src/evaluation.jl:300\n"
     ]
    },
    {
     "name": "stderr",
     "output_type": "stream",
     "text": [
      "┌ Warning: Time 4.00 [sec]: This evaluation iteration took 0.096 [sec], which exceeds dtc.\n",
      "└ @ RiskSensitiveSAC /home/kang/DRC_Project/DRC_Trajectron/src/evaluation.jl:300\n"
     ]
    },
    {
     "name": "stderr",
     "output_type": "stream",
     "text": [
      "┌ Warning: Time 4.10 [sec]: This evaluation iteration took 0.091 [sec], which exceeds dtc.\n",
      "└ @ RiskSensitiveSAC /home/kang/DRC_Project/DRC_Trajectron/src/evaluation.jl:300\n"
     ]
    },
    {
     "name": "stderr",
     "output_type": "stream",
     "text": [
      "┌ Warning: Time 4.20 [sec]: This evaluation iteration took 0.086 [sec], which exceeds dtc.\n",
      "└ @ RiskSensitiveSAC /home/kang/DRC_Project/DRC_Trajectron/src/evaluation.jl:300\n"
     ]
    },
    {
     "name": "stderr",
     "output_type": "stream",
     "text": [
      "┌ Warning: Time 4.30 [sec]: This evaluation iteration took 0.091 [sec], which exceeds dtc.\n",
      "└ @ RiskSensitiveSAC /home/kang/DRC_Project/DRC_Trajectron/src/evaluation.jl:300\n"
     ]
    },
    {
     "name": "stderr",
     "output_type": "stream",
     "text": [
      "┌ Warning: Time 4.40 [sec]: This evaluation iteration took 0.089 [sec], which exceeds dtc.\n",
      "└ @ RiskSensitiveSAC /home/kang/DRC_Project/DRC_Trajectron/src/evaluation.jl:300\n"
     ]
    },
    {
     "name": "stderr",
     "output_type": "stream",
     "text": [
      "┌ Warning: Time 4.50 [sec]: This evaluation iteration took 0.089 [sec], which exceeds dtc.\n",
      "└ @ RiskSensitiveSAC /home/kang/DRC_Project/DRC_Trajectron/src/evaluation.jl:300\n"
     ]
    },
    {
     "name": "stderr",
     "output_type": "stream",
     "text": [
      "┌ Warning: Time 4.60 [sec]: This evaluation iteration took 0.092 [sec], which exceeds dtc.\n",
      "└ @ RiskSensitiveSAC /home/kang/DRC_Project/DRC_Trajectron/src/evaluation.jl:300\n"
     ]
    },
    {
     "name": "stderr",
     "output_type": "stream",
     "text": [
      "┌ Warning: Time 4.70 [sec]: This evaluation iteration took 0.09 [sec], which exceeds dtc.\n",
      "└ @ RiskSensitiveSAC /home/kang/DRC_Project/DRC_Trajectron/src/evaluation.jl:300\n"
     ]
    },
    {
     "name": "stderr",
     "output_type": "stream",
     "text": [
      "┌ Warning: Time 4.80 [sec]: SAC computation took 0.113 [sec], which exceeds the maximum computation time allowed.\n",
      "└ @ RiskSensitiveSAC /home/kang/DRC_Project/DRC_Trajectron/src/rs_sac_controller.jl:733\n",
      "┌ Warning: Time 4.80 [sec]: This evaluation iteration took 0.113 [sec], which exceeds dtc.\n",
      "└ @ RiskSensitiveSAC /home/kang/DRC_Project/DRC_Trajectron/src/evaluation.jl:300\n"
     ]
    },
    {
     "name": "stderr",
     "output_type": "stream",
     "text": [
      "┌ Warning: Time 4.90 [sec]: This evaluation iteration took 0.087 [sec], which exceeds dtc.\n",
      "└ @ RiskSensitiveSAC /home/kang/DRC_Project/DRC_Trajectron/src/evaluation.jl:300\n"
     ]
    },
    {
     "name": "stderr",
     "output_type": "stream",
     "text": [
      "┌ Warning: Time 5.00 [sec]: This evaluation iteration took 0.093 [sec], which exceeds dtc.\n",
      "└ @ RiskSensitiveSAC /home/kang/DRC_Project/DRC_Trajectron/src/evaluation.jl:300\n"
     ]
    },
    {
     "name": "stderr",
     "output_type": "stream",
     "text": [
      "┌ Warning: Time 5.10 [sec]: This evaluation iteration took 0.099 [sec], which exceeds dtc.\n",
      "└ @ RiskSensitiveSAC /home/kang/DRC_Project/DRC_Trajectron/src/evaluation.jl:300\n"
     ]
    },
    {
     "name": "stderr",
     "output_type": "stream",
     "text": [
      "┌ Warning: Time 5.20 [sec]: This evaluation iteration took 0.091 [sec], which exceeds dtc.\n",
      "└ @ RiskSensitiveSAC /home/kang/DRC_Project/DRC_Trajectron/src/evaluation.jl:300\n"
     ]
    },
    {
     "name": "stderr",
     "output_type": "stream",
     "text": [
      "┌ Warning: Time 5.30 [sec]: This evaluation iteration took 0.082 [sec], which exceeds dtc.\n",
      "└ @ RiskSensitiveSAC /home/kang/DRC_Project/DRC_Trajectron/src/evaluation.jl:300\n"
     ]
    },
    {
     "name": "stderr",
     "output_type": "stream",
     "text": [
      "┌ Warning: Time 5.40 [sec]: This evaluation iteration took 0.086 [sec], which exceeds dtc.\n",
      "└ @ RiskSensitiveSAC /home/kang/DRC_Project/DRC_Trajectron/src/evaluation.jl:300\n"
     ]
    },
    {
     "name": "stderr",
     "output_type": "stream",
     "text": [
      "┌ Warning: Time 5.50 [sec]: This evaluation iteration took 0.09 [sec], which exceeds dtc.\n",
      "└ @ RiskSensitiveSAC /home/kang/DRC_Project/DRC_Trajectron/src/evaluation.jl:300\n"
     ]
    },
    {
     "name": "stderr",
     "output_type": "stream",
     "text": [
      "┌ Warning: Time 5.60 [sec]: This evaluation iteration took 0.093 [sec], which exceeds dtc.\n",
      "└ @ RiskSensitiveSAC /home/kang/DRC_Project/DRC_Trajectron/src/evaluation.jl:300\n"
     ]
    },
    {
     "name": "stderr",
     "output_type": "stream",
     "text": [
      "┌ Warning: Time 5.70 [sec]: This evaluation iteration took 0.08 [sec], which exceeds dtc.\n",
      "└ @ RiskSensitiveSAC /home/kang/DRC_Project/DRC_Trajectron/src/evaluation.jl:300\n"
     ]
    },
    {
     "name": "stderr",
     "output_type": "stream",
     "text": [
      "┌ Warning: Time 5.80 [sec]: SAC computation took 0.102 [sec], which exceeds the maximum computation time allowed.\n",
      "└ @ RiskSensitiveSAC /home/kang/DRC_Project/DRC_Trajectron/src/rs_sac_controller.jl:733\n",
      "┌ Warning: Time 5.80 [sec]: This evaluation iteration took 0.103 [sec], which exceeds dtc.\n",
      "└ @ RiskSensitiveSAC /home/kang/DRC_Project/DRC_Trajectron/src/evaluation.jl:300\n"
     ]
    },
    {
     "name": "stderr",
     "output_type": "stream",
     "text": [
      "┌ Warning: Time 5.90 [sec]: SAC computation took 0.111 [sec], which exceeds the maximum computation time allowed.\n",
      "└ @ RiskSensitiveSAC /home/kang/DRC_Project/DRC_Trajectron/src/rs_sac_controller.jl:733\n",
      "┌ Warning: Time 5.90 [sec]: This evaluation iteration took 0.111 [sec], which exceeds dtc.\n",
      "└ @ RiskSensitiveSAC /home/kang/DRC_Project/DRC_Trajectron/src/evaluation.jl:300\n"
     ]
    },
    {
     "name": "stderr",
     "output_type": "stream",
     "text": [
      "┌ Warning: Time 6.00 [sec]: SAC computation took 0.11 [sec], which exceeds the maximum computation time allowed.\n",
      "└ @ RiskSensitiveSAC /home/kang/DRC_Project/DRC_Trajectron/src/rs_sac_controller.jl:733\n",
      "┌ Warning: Time 6.00 [sec]: This evaluation iteration took 0.111 [sec], which exceeds dtc.\n",
      "└ @ RiskSensitiveSAC /home/kang/DRC_Project/DRC_Trajectron/src/evaluation.jl:300\n"
     ]
    },
    {
     "name": "stderr",
     "output_type": "stream",
     "text": [
      "┌ Warning: Time 6.10 [sec]: This evaluation iteration took 0.096 [sec], which exceeds dtc.\n",
      "└ @ RiskSensitiveSAC /home/kang/DRC_Project/DRC_Trajectron/src/evaluation.jl:300\n"
     ]
    },
    {
     "name": "stderr",
     "output_type": "stream",
     "text": [
      "┌ Warning: Time 6.20 [sec]: SAC computation took 0.115 [sec], which exceeds the maximum computation time allowed.\n",
      "└ @ RiskSensitiveSAC /home/kang/DRC_Project/DRC_Trajectron/src/rs_sac_controller.jl:733\n",
      "┌ Warning: Time 6.20 [sec]: This evaluation iteration took 0.116 [sec], which exceeds dtc.\n",
      "└ @ RiskSensitiveSAC /home/kang/DRC_Project/DRC_Trajectron/src/evaluation.jl:300\n"
     ]
    },
    {
     "name": "stderr",
     "output_type": "stream",
     "text": [
      "┌ Warning: Time 6.30 [sec]: SAC computation took 0.16 [sec], which exceeds the maximum computation time allowed.\n",
      "└ @ RiskSensitiveSAC /home/kang/DRC_Project/DRC_Trajectron/src/rs_sac_controller.jl:733\n",
      "┌ Warning: Time 6.30 [sec]: This evaluation iteration took 0.16 [sec], which exceeds dtc.\n",
      "└ @ RiskSensitiveSAC /home/kang/DRC_Project/DRC_Trajectron/src/evaluation.jl:300\n"
     ]
    },
    {
     "name": "stderr",
     "output_type": "stream",
     "text": [
      "┌ Warning: Time 6.40 [sec]: This evaluation iteration took 0.09 [sec], which exceeds dtc.\n",
      "└ @ RiskSensitiveSAC /home/kang/DRC_Project/DRC_Trajectron/src/evaluation.jl:300\n"
     ]
    },
    {
     "name": "stderr",
     "output_type": "stream",
     "text": [
      "┌ Warning: Time 6.50 [sec]: SAC computation took 0.106 [sec], which exceeds the maximum computation time allowed.\n",
      "└ @ RiskSensitiveSAC /home/kang/DRC_Project/DRC_Trajectron/src/rs_sac_controller.jl:733\n",
      "┌ Warning: Time 6.50 [sec]: This evaluation iteration took 0.107 [sec], which exceeds dtc.\n",
      "└ @ RiskSensitiveSAC /home/kang/DRC_Project/DRC_Trajectron/src/evaluation.jl:300\n"
     ]
    },
    {
     "name": "stderr",
     "output_type": "stream",
     "text": [
      "┌ Warning: Time 6.60 [sec]: SAC computation took 0.113 [sec], which exceeds the maximum computation time allowed.\n",
      "└ @ RiskSensitiveSAC /home/kang/DRC_Project/DRC_Trajectron/src/rs_sac_controller.jl:733\n",
      "┌ Warning: Time 6.60 [sec]: This evaluation iteration took 0.114 [sec], which exceeds dtc.\n",
      "└ @ RiskSensitiveSAC /home/kang/DRC_Project/DRC_Trajectron/src/evaluation.jl:300\n"
     ]
    },
    {
     "name": "stderr",
     "output_type": "stream",
     "text": [
      "┌ Warning: Time 6.70 [sec]: This evaluation iteration took 0.088 [sec], which exceeds dtc.\n",
      "└ @ RiskSensitiveSAC /home/kang/DRC_Project/DRC_Trajectron/src/evaluation.jl:300\n"
     ]
    },
    {
     "name": "stderr",
     "output_type": "stream",
     "text": [
      "┌ Warning: Time 6.80 [sec]: SAC computation took 0.107 [sec], which exceeds the maximum computation time allowed.\n",
      "└ @ RiskSensitiveSAC /home/kang/DRC_Project/DRC_Trajectron/src/rs_sac_controller.jl:733\n",
      "┌ Warning: Time 6.80 [sec]: This evaluation iteration took 0.108 [sec], which exceeds dtc.\n",
      "└ @ RiskSensitiveSAC /home/kang/DRC_Project/DRC_Trajectron/src/evaluation.jl:300\n"
     ]
    },
    {
     "name": "stderr",
     "output_type": "stream",
     "text": [
      "┌ Warning: Time 6.90 [sec]: SAC computation took 0.11 [sec], which exceeds the maximum computation time allowed.\n",
      "└ @ RiskSensitiveSAC /home/kang/DRC_Project/DRC_Trajectron/src/rs_sac_controller.jl:733\n",
      "┌ Warning: Time 6.90 [sec]: This evaluation iteration took 0.111 [sec], which exceeds dtc.\n",
      "└ @ RiskSensitiveSAC /home/kang/DRC_Project/DRC_Trajectron/src/evaluation.jl:300\n"
     ]
    },
    {
     "name": "stderr",
     "output_type": "stream",
     "text": [
      "┌ Warning: Time 7.00 [sec]: This evaluation iteration took 0.099 [sec], which exceeds dtc.\n",
      "└ @ RiskSensitiveSAC /home/kang/DRC_Project/DRC_Trajectron/src/evaluation.jl:300\n"
     ]
    },
    {
     "name": "stderr",
     "output_type": "stream",
     "text": [
      "┌ Warning: Time 7.10 [sec]: SAC computation took 0.115 [sec], which exceeds the maximum computation time allowed.\n",
      "└ @ RiskSensitiveSAC /home/kang/DRC_Project/DRC_Trajectron/src/rs_sac_controller.jl:733\n",
      "┌ Warning: Time 7.10 [sec]: This evaluation iteration took 0.116 [sec], which exceeds dtc.\n",
      "└ @ RiskSensitiveSAC /home/kang/DRC_Project/DRC_Trajectron/src/evaluation.jl:300\n"
     ]
    },
    {
     "name": "stderr",
     "output_type": "stream",
     "text": [
      "┌ Warning: Time 7.20 [sec]: SAC computation took 0.102 [sec], which exceeds the maximum computation time allowed.\n",
      "└ @ RiskSensitiveSAC /home/kang/DRC_Project/DRC_Trajectron/src/rs_sac_controller.jl:733\n",
      "┌ Warning: Time 7.20 [sec]: This evaluation iteration took 0.103 [sec], which exceeds dtc.\n",
      "└ @ RiskSensitiveSAC /home/kang/DRC_Project/DRC_Trajectron/src/evaluation.jl:300\n"
     ]
    },
    {
     "name": "stderr",
     "output_type": "stream",
     "text": [
      "┌ Warning: Time 7.30 [sec]: SAC computation took 0.107 [sec], which exceeds the maximum computation time allowed.\n",
      "└ @ RiskSensitiveSAC /home/kang/DRC_Project/DRC_Trajectron/src/rs_sac_controller.jl:733\n",
      "┌ Warning: Time 7.30 [sec]: This evaluation iteration took 0.107 [sec], which exceeds dtc.\n",
      "└ @ RiskSensitiveSAC /home/kang/DRC_Project/DRC_Trajectron/src/evaluation.jl:300\n"
     ]
    },
    {
     "name": "stderr",
     "output_type": "stream",
     "text": [
      "┌ Warning: Time 7.40 [sec]: SAC computation took 0.115 [sec], which exceeds the maximum computation time allowed.\n",
      "└ @ RiskSensitiveSAC /home/kang/DRC_Project/DRC_Trajectron/src/rs_sac_controller.jl:733\n",
      "┌ Warning: Time 7.40 [sec]: This evaluation iteration took 0.116 [sec], which exceeds dtc.\n",
      "└ @ RiskSensitiveSAC /home/kang/DRC_Project/DRC_Trajectron/src/evaluation.jl:300\n"
     ]
    },
    {
     "name": "stderr",
     "output_type": "stream",
     "text": [
      "┌ Warning: Time 7.50 [sec]: SAC computation took 0.121 [sec], which exceeds the maximum computation time allowed.\n",
      "└ @ RiskSensitiveSAC /home/kang/DRC_Project/DRC_Trajectron/src/rs_sac_controller.jl:733\n",
      "┌ Warning: Time 7.50 [sec]: This evaluation iteration took 0.122 [sec], which exceeds dtc.\n",
      "└ @ RiskSensitiveSAC /home/kang/DRC_Project/DRC_Trajectron/src/evaluation.jl:300\n"
     ]
    },
    {
     "name": "stderr",
     "output_type": "stream",
     "text": [
      "┌ Warning: Time 7.60 [sec]: SAC computation took 0.103 [sec], which exceeds the maximum computation time allowed.\n",
      "└ @ RiskSensitiveSAC /home/kang/DRC_Project/DRC_Trajectron/src/rs_sac_controller.jl:733\n",
      "┌ Warning: Time 7.60 [sec]: This evaluation iteration took 0.104 [sec], which exceeds dtc.\n",
      "└ @ RiskSensitiveSAC /home/kang/DRC_Project/DRC_Trajectron/src/evaluation.jl:300\n"
     ]
    },
    {
     "name": "stderr",
     "output_type": "stream",
     "text": [
      "┌ Warning: Time 7.70 [sec]: SAC computation took 0.117 [sec], which exceeds the maximum computation time allowed.\n",
      "└ @ RiskSensitiveSAC /home/kang/DRC_Project/DRC_Trajectron/src/rs_sac_controller.jl:733\n",
      "┌ Warning: Time 7.70 [sec]: This evaluation iteration took 0.117 [sec], which exceeds dtc.\n",
      "└ @ RiskSensitiveSAC /home/kang/DRC_Project/DRC_Trajectron/src/evaluation.jl:300\n"
     ]
    },
    {
     "name": "stderr",
     "output_type": "stream",
     "text": [
      "┌ Warning: Time 7.80 [sec]: SAC computation took 0.102 [sec], which exceeds the maximum computation time allowed.\n",
      "└ @ RiskSensitiveSAC /home/kang/DRC_Project/DRC_Trajectron/src/rs_sac_controller.jl:733\n",
      "┌ Warning: Time 7.80 [sec]: This evaluation iteration took 0.103 [sec], which exceeds dtc.\n",
      "└ @ RiskSensitiveSAC /home/kang/DRC_Project/DRC_Trajectron/src/evaluation.jl:300\n"
     ]
    },
    {
     "name": "stderr",
     "output_type": "stream",
     "text": [
      "┌ Warning: Time 7.90 [sec]: SAC computation took 0.147 [sec], which exceeds the maximum computation time allowed.\n",
      "└ @ RiskSensitiveSAC /home/kang/DRC_Project/DRC_Trajectron/src/rs_sac_controller.jl:733\n",
      "┌ Warning: Time 7.90 [sec]: This evaluation iteration took 0.147 [sec], which exceeds dtc.\n",
      "└ @ RiskSensitiveSAC /home/kang/DRC_Project/DRC_Trajectron/src/evaluation.jl:300\n"
     ]
    },
    {
     "name": "stderr",
     "output_type": "stream",
     "text": [
      "┌ Warning: Time 8.00 [sec]: SAC computation took 0.113 [sec], which exceeds the maximum computation time allowed.\n",
      "└ @ RiskSensitiveSAC /home/kang/DRC_Project/DRC_Trajectron/src/rs_sac_controller.jl:733\n",
      "┌ Warning: Time 8.00 [sec]: This evaluation iteration took 0.114 [sec], which exceeds dtc.\n",
      "└ @ RiskSensitiveSAC /home/kang/DRC_Project/DRC_Trajectron/src/evaluation.jl:300\n"
     ]
    },
    {
     "name": "stderr",
     "output_type": "stream",
     "text": [
      "┌ Warning: Time 8.10 [sec]: SAC computation took 0.107 [sec], which exceeds the maximum computation time allowed.\n",
      "└ @ RiskSensitiveSAC /home/kang/DRC_Project/DRC_Trajectron/src/rs_sac_controller.jl:733\n",
      "┌ Warning: Time 8.10 [sec]: This evaluation iteration took 0.108 [sec], which exceeds dtc.\n",
      "└ @ RiskSensitiveSAC /home/kang/DRC_Project/DRC_Trajectron/src/evaluation.jl:300\n"
     ]
    },
    {
     "name": "stderr",
     "output_type": "stream",
     "text": [
      "┌ Warning: Time 8.20 [sec]: This evaluation iteration took 0.1 [sec], which exceeds dtc.\n",
      "└ @ RiskSensitiveSAC /home/kang/DRC_Project/DRC_Trajectron/src/evaluation.jl:300\n"
     ]
    },
    {
     "name": "stderr",
     "output_type": "stream",
     "text": [
      "┌ Warning: Time 8.30 [sec]: SAC computation took 0.112 [sec], which exceeds the maximum computation time allowed.\n",
      "└ @ RiskSensitiveSAC /home/kang/DRC_Project/DRC_Trajectron/src/rs_sac_controller.jl:733\n",
      "┌ Warning: Time 8.30 [sec]: This evaluation iteration took 0.113 [sec], which exceeds dtc.\n",
      "└ @ RiskSensitiveSAC /home/kang/DRC_Project/DRC_Trajectron/src/evaluation.jl:300\n"
     ]
    },
    {
     "name": "stderr",
     "output_type": "stream",
     "text": [
      "┌ Warning: Time 8.40 [sec]: SAC computation took 0.1 [sec], which exceeds the maximum computation time allowed.\n",
      "└ @ RiskSensitiveSAC /home/kang/DRC_Project/DRC_Trajectron/src/rs_sac_controller.jl:733\n",
      "┌ Warning: Time 8.40 [sec]: This evaluation iteration took 0.101 [sec], which exceeds dtc.\n",
      "└ @ RiskSensitiveSAC /home/kang/DRC_Project/DRC_Trajectron/src/evaluation.jl:300\n"
     ]
    },
    {
     "name": "stderr",
     "output_type": "stream",
     "text": [
      "┌ Warning: Time 8.50 [sec]: SAC computation took 0.104 [sec], which exceeds the maximum computation time allowed.\n",
      "└ @ RiskSensitiveSAC /home/kang/DRC_Project/DRC_Trajectron/src/rs_sac_controller.jl:733\n",
      "┌ Warning: Time 8.50 [sec]: This evaluation iteration took 0.104 [sec], which exceeds dtc.\n",
      "└ @ RiskSensitiveSAC /home/kang/DRC_Project/DRC_Trajectron/src/evaluation.jl:300\n"
     ]
    },
    {
     "name": "stderr",
     "output_type": "stream",
     "text": [
      "┌ Warning: Time 8.60 [sec]: SAC computation took 0.123 [sec], which exceeds the maximum computation time allowed.\n",
      "└ @ RiskSensitiveSAC /home/kang/DRC_Project/DRC_Trajectron/src/rs_sac_controller.jl:733\n",
      "┌ Warning: Time 8.60 [sec]: This evaluation iteration took 0.124 [sec], which exceeds dtc.\n",
      "└ @ RiskSensitiveSAC /home/kang/DRC_Project/DRC_Trajectron/src/evaluation.jl:300\n"
     ]
    },
    {
     "name": "stderr",
     "output_type": "stream",
     "text": [
      "┌ Warning: Time 8.70 [sec]: This evaluation iteration took 0.095 [sec], which exceeds dtc.\n",
      "└ @ RiskSensitiveSAC /home/kang/DRC_Project/DRC_Trajectron/src/evaluation.jl:300\n"
     ]
    },
    {
     "name": "stderr",
     "output_type": "stream",
     "text": [
      "┌ Warning: Time 8.80 [sec]: SAC computation took 0.111 [sec], which exceeds the maximum computation time allowed.\n",
      "└ @ RiskSensitiveSAC /home/kang/DRC_Project/DRC_Trajectron/src/rs_sac_controller.jl:733\n",
      "┌ Warning: Time 8.80 [sec]: This evaluation iteration took 0.112 [sec], which exceeds dtc.\n",
      "└ @ RiskSensitiveSAC /home/kang/DRC_Project/DRC_Trajectron/src/evaluation.jl:300\n"
     ]
    },
    {
     "name": "stderr",
     "output_type": "stream",
     "text": [
      "┌ Warning: Time 8.90 [sec]: SAC computation took 0.123 [sec], which exceeds the maximum computation time allowed.\n",
      "└ @ RiskSensitiveSAC /home/kang/DRC_Project/DRC_Trajectron/src/rs_sac_controller.jl:733\n",
      "┌ Warning: Time 8.90 [sec]: This evaluation iteration took 0.124 [sec], which exceeds dtc.\n",
      "└ @ RiskSensitiveSAC /home/kang/DRC_Project/DRC_Trajectron/src/evaluation.jl:300\n"
     ]
    },
    {
     "name": "stderr",
     "output_type": "stream",
     "text": [
      "┌ Warning: Time 9.00 [sec]: This evaluation iteration took 0.096 [sec], which exceeds dtc.\n",
      "└ @ RiskSensitiveSAC /home/kang/DRC_Project/DRC_Trajectron/src/evaluation.jl:300\n"
     ]
    },
    {
     "name": "stderr",
     "output_type": "stream",
     "text": [
      "┌ Warning: Time 9.10 [sec]: SAC computation took 0.111 [sec], which exceeds the maximum computation time allowed.\n",
      "└ @ RiskSensitiveSAC /home/kang/DRC_Project/DRC_Trajectron/src/rs_sac_controller.jl:733\n",
      "┌ Warning: Time 9.10 [sec]: This evaluation iteration took 0.112 [sec], which exceeds dtc.\n",
      "└ @ RiskSensitiveSAC /home/kang/DRC_Project/DRC_Trajectron/src/evaluation.jl:300\n"
     ]
    },
    {
     "name": "stderr",
     "output_type": "stream",
     "text": [
      "┌ Warning: Time 9.20 [sec]: SAC computation took 0.122 [sec], which exceeds the maximum computation time allowed.\n",
      "└ @ RiskSensitiveSAC /home/kang/DRC_Project/DRC_Trajectron/src/rs_sac_controller.jl:733\n",
      "┌ Warning: Time 9.20 [sec]: This evaluation iteration took 0.123 [sec], which exceeds dtc.\n",
      "└ @ RiskSensitiveSAC /home/kang/DRC_Project/DRC_Trajectron/src/evaluation.jl:300\n"
     ]
    },
    {
     "name": "stderr",
     "output_type": "stream",
     "text": [
      "┌ Warning: Time 9.30 [sec]: This evaluation iteration took 0.096 [sec], which exceeds dtc.\n",
      "└ @ RiskSensitiveSAC /home/kang/DRC_Project/DRC_Trajectron/src/evaluation.jl:300\n"
     ]
    },
    {
     "name": "stderr",
     "output_type": "stream",
     "text": [
      "┌ Warning: Time 9.40 [sec]: SAC computation took 0.154 [sec], which exceeds the maximum computation time allowed.\n",
      "└ @ RiskSensitiveSAC /home/kang/DRC_Project/DRC_Trajectron/src/rs_sac_controller.jl:733\n",
      "┌ Warning: Time 9.40 [sec]: This evaluation iteration took 0.154 [sec], which exceeds dtc.\n",
      "└ @ RiskSensitiveSAC /home/kang/DRC_Project/DRC_Trajectron/src/evaluation.jl:300\n"
     ]
    },
    {
     "name": "stderr",
     "output_type": "stream",
     "text": [
      "┌ Warning: Time 9.50 [sec]: SAC computation took 0.111 [sec], which exceeds the maximum computation time allowed.\n",
      "└ @ RiskSensitiveSAC /home/kang/DRC_Project/DRC_Trajectron/src/rs_sac_controller.jl:733\n",
      "┌ Warning: Time 9.50 [sec]: This evaluation iteration took 0.112 [sec], which exceeds dtc.\n",
      "└ @ RiskSensitiveSAC /home/kang/DRC_Project/DRC_Trajectron/src/evaluation.jl:300\n"
     ]
    },
    {
     "name": "stderr",
     "output_type": "stream",
     "text": [
      "┌ Warning: Time 9.60 [sec]: This evaluation iteration took 0.092 [sec], which exceeds dtc.\n",
      "└ @ RiskSensitiveSAC /home/kang/DRC_Project/DRC_Trajectron/src/evaluation.jl:300\n"
     ]
    },
    {
     "name": "stderr",
     "output_type": "stream",
     "text": [
      "┌ Warning: Time 9.70 [sec]: SAC computation took 0.108 [sec], which exceeds the maximum computation time allowed.\n",
      "└ @ RiskSensitiveSAC /home/kang/DRC_Project/DRC_Trajectron/src/rs_sac_controller.jl:733\n",
      "┌ Warning: Time 9.70 [sec]: This evaluation iteration took 0.109 [sec], which exceeds dtc.\n",
      "└ @ RiskSensitiveSAC /home/kang/DRC_Project/DRC_Trajectron/src/evaluation.jl:300\n"
     ]
    },
    {
     "name": "stderr",
     "output_type": "stream",
     "text": [
      "┌ Warning: Time 9.80 [sec]: SAC computation took 0.116 [sec], which exceeds the maximum computation time allowed.\n",
      "└ @ RiskSensitiveSAC /home/kang/DRC_Project/DRC_Trajectron/src/rs_sac_controller.jl:733\n",
      "┌ Warning: Time 9.80 [sec]: This evaluation iteration took 0.116 [sec], which exceeds dtc.\n",
      "└ @ RiskSensitiveSAC /home/kang/DRC_Project/DRC_Trajectron/src/evaluation.jl:300\n"
     ]
    },
    {
     "name": "stderr",
     "output_type": "stream",
     "text": [
      "┌ Warning: Time 9.90 [sec]: SAC computation took 0.101 [sec], which exceeds the maximum computation time allowed.\n",
      "└ @ RiskSensitiveSAC /home/kang/DRC_Project/DRC_Trajectron/src/rs_sac_controller.jl:733\n",
      "┌ Warning: Time 9.90 [sec]: This evaluation iteration took 0.101 [sec], which exceeds dtc.\n",
      "└ @ RiskSensitiveSAC /home/kang/DRC_Project/DRC_Trajectron/src/evaluation.jl:300\n"
     ]
    },
    {
     "name": "stdout",
     "output_type": "stream",
     "text": [
      "Total Collision: 0, Total Position Cost: 78.52779618037435, Total Control Cost: 1.9231604110584413, Minimum Distance: 1.1557611788087112, Experiment 9: "
     ]
    },
    {
     "name": "stderr",
     "output_type": "stream",
     "text": [
      "┌ Warning: Time 0.00 [sec]: SAC computation took 0.112 [sec], which exceeds the maximum computation time allowed.\n",
      "└ @ RiskSensitiveSAC /home/kang/DRC_Project/DRC_Trajectron/src/rs_sac_controller.jl:733\n"
     ]
    },
    {
     "name": "stderr",
     "output_type": "stream",
     "text": [
      "┌ Warning: Time 0.10 [sec]: SAC computation took 0.11 [sec], which exceeds the maximum computation time allowed.\n",
      "└ @ RiskSensitiveSAC /home/kang/DRC_Project/DRC_Trajectron/src/rs_sac_controller.jl:733\n",
      "┌ Warning: Time 0.10 [sec]: This evaluation iteration took 0.11 [sec], which exceeds dtc.\n",
      "└ @ RiskSensitiveSAC /home/kang/DRC_Project/DRC_Trajectron/src/evaluation.jl:300\n"
     ]
    },
    {
     "name": "stderr",
     "output_type": "stream",
     "text": [
      "┌ Warning: Time 0.20 [sec]: SAC computation took 0.117 [sec], which exceeds the maximum computation time allowed.\n",
      "└ @ RiskSensitiveSAC /home/kang/DRC_Project/DRC_Trajectron/src/rs_sac_controller.jl:733\n",
      "┌ Warning: Time 0.20 [sec]: This evaluation iteration took 0.118 [sec], which exceeds dtc.\n",
      "└ @ RiskSensitiveSAC /home/kang/DRC_Project/DRC_Trajectron/src/evaluation.jl:300\n"
     ]
    },
    {
     "name": "stderr",
     "output_type": "stream",
     "text": [
      "┌ Warning: Time 0.30 [sec]: This evaluation iteration took 0.095 [sec], which exceeds dtc.\n",
      "└ @ RiskSensitiveSAC /home/kang/DRC_Project/DRC_Trajectron/src/evaluation.jl:300\n"
     ]
    },
    {
     "name": "stderr",
     "output_type": "stream",
     "text": [
      "┌ Warning: Time 0.40 [sec]: SAC computation took 0.11 [sec], which exceeds the maximum computation time allowed.\n",
      "└ @ RiskSensitiveSAC /home/kang/DRC_Project/DRC_Trajectron/src/rs_sac_controller.jl:733\n",
      "┌ Warning: Time 0.40 [sec]: This evaluation iteration took 0.111 [sec], which exceeds dtc.\n",
      "└ @ RiskSensitiveSAC /home/kang/DRC_Project/DRC_Trajectron/src/evaluation.jl:300\n"
     ]
    },
    {
     "name": "stderr",
     "output_type": "stream",
     "text": [
      "┌ Warning: Time 0.50 [sec]: SAC computation took 0.119 [sec], which exceeds the maximum computation time allowed.\n",
      "└ @ RiskSensitiveSAC /home/kang/DRC_Project/DRC_Trajectron/src/rs_sac_controller.jl:733\n",
      "┌ Warning: Time 0.50 [sec]: This evaluation iteration took 0.119 [sec], which exceeds dtc.\n",
      "└ @ RiskSensitiveSAC /home/kang/DRC_Project/DRC_Trajectron/src/evaluation.jl:300\n"
     ]
    },
    {
     "name": "stderr",
     "output_type": "stream",
     "text": [
      "┌ Warning: Time 0.60 [sec]: This evaluation iteration took 0.1 [sec], which exceeds dtc.\n",
      "└ @ RiskSensitiveSAC /home/kang/DRC_Project/DRC_Trajectron/src/evaluation.jl:300\n"
     ]
    },
    {
     "name": "stderr",
     "output_type": "stream",
     "text": [
      "┌ Warning: Time 0.70 [sec]: SAC computation took 0.112 [sec], which exceeds the maximum computation time allowed.\n",
      "└ @ RiskSensitiveSAC /home/kang/DRC_Project/DRC_Trajectron/src/rs_sac_controller.jl:733\n",
      "┌ Warning: Time 0.70 [sec]: This evaluation iteration took 0.112 [sec], which exceeds dtc.\n",
      "└ @ RiskSensitiveSAC /home/kang/DRC_Project/DRC_Trajectron/src/evaluation.jl:300\n"
     ]
    },
    {
     "name": "stderr",
     "output_type": "stream",
     "text": [
      "┌ Warning: Time 0.80 [sec]: SAC computation took 0.113 [sec], which exceeds the maximum computation time allowed.\n",
      "└ @ RiskSensitiveSAC /home/kang/DRC_Project/DRC_Trajectron/src/rs_sac_controller.jl:733\n",
      "┌ Warning: Time 0.80 [sec]: This evaluation iteration took 0.115 [sec], which exceeds dtc.\n",
      "└ @ RiskSensitiveSAC /home/kang/DRC_Project/DRC_Trajectron/src/evaluation.jl:300\n"
     ]
    },
    {
     "name": "stderr",
     "output_type": "stream",
     "text": [
      "┌ Warning: Time 0.90 [sec]: This evaluation iteration took 0.094 [sec], which exceeds dtc.\n",
      "└ @ RiskSensitiveSAC /home/kang/DRC_Project/DRC_Trajectron/src/evaluation.jl:300\n"
     ]
    },
    {
     "name": "stderr",
     "output_type": "stream",
     "text": [
      "┌ Warning: Time 1.00 [sec]: SAC computation took 0.159 [sec], which exceeds the maximum computation time allowed.\n",
      "└ @ RiskSensitiveSAC /home/kang/DRC_Project/DRC_Trajectron/src/rs_sac_controller.jl:733\n",
      "┌ Warning: Time 1.00 [sec]: This evaluation iteration took 0.16 [sec], which exceeds dtc.\n",
      "└ @ RiskSensitiveSAC /home/kang/DRC_Project/DRC_Trajectron/src/evaluation.jl:300\n"
     ]
    },
    {
     "name": "stderr",
     "output_type": "stream",
     "text": [
      "┌ Warning: Time 1.10 [sec]: SAC computation took 0.126 [sec], which exceeds the maximum computation time allowed.\n",
      "└ @ RiskSensitiveSAC /home/kang/DRC_Project/DRC_Trajectron/src/rs_sac_controller.jl:733\n",
      "┌ Warning: Time 1.10 [sec]: This evaluation iteration took 0.127 [sec], which exceeds dtc.\n",
      "└ @ RiskSensitiveSAC /home/kang/DRC_Project/DRC_Trajectron/src/evaluation.jl:300\n"
     ]
    },
    {
     "name": "stderr",
     "output_type": "stream",
     "text": [
      "┌ Warning: Time 1.20 [sec]: This evaluation iteration took 0.098 [sec], which exceeds dtc.\n",
      "└ @ RiskSensitiveSAC /home/kang/DRC_Project/DRC_Trajectron/src/evaluation.jl:300\n"
     ]
    },
    {
     "name": "stderr",
     "output_type": "stream",
     "text": [
      "┌ Warning: Time 1.30 [sec]: SAC computation took 0.11 [sec], which exceeds the maximum computation time allowed.\n",
      "└ @ RiskSensitiveSAC /home/kang/DRC_Project/DRC_Trajectron/src/rs_sac_controller.jl:733\n",
      "┌ Warning: Time 1.30 [sec]: This evaluation iteration took 0.111 [sec], which exceeds dtc.\n",
      "└ @ RiskSensitiveSAC /home/kang/DRC_Project/DRC_Trajectron/src/evaluation.jl:300\n"
     ]
    },
    {
     "name": "stderr",
     "output_type": "stream",
     "text": [
      "┌ Warning: Time 1.40 [sec]: SAC computation took 0.108 [sec], which exceeds the maximum computation time allowed.\n",
      "└ @ RiskSensitiveSAC /home/kang/DRC_Project/DRC_Trajectron/src/rs_sac_controller.jl:733\n",
      "┌ Warning: Time 1.40 [sec]: This evaluation iteration took 0.109 [sec], which exceeds dtc.\n",
      "└ @ RiskSensitiveSAC /home/kang/DRC_Project/DRC_Trajectron/src/evaluation.jl:300\n"
     ]
    },
    {
     "name": "stderr",
     "output_type": "stream",
     "text": [
      "┌ Warning: Time 1.50 [sec]: This evaluation iteration took 0.098 [sec], which exceeds dtc.\n",
      "└ @ RiskSensitiveSAC /home/kang/DRC_Project/DRC_Trajectron/src/evaluation.jl:300\n"
     ]
    },
    {
     "name": "stderr",
     "output_type": "stream",
     "text": [
      "┌ Warning: Time 1.60 [sec]: SAC computation took 0.11 [sec], which exceeds the maximum computation time allowed.\n",
      "└ @ RiskSensitiveSAC /home/kang/DRC_Project/DRC_Trajectron/src/rs_sac_controller.jl:733\n",
      "┌ Warning: Time 1.60 [sec]: This evaluation iteration took 0.111 [sec], which exceeds dtc.\n",
      "└ @ RiskSensitiveSAC /home/kang/DRC_Project/DRC_Trajectron/src/evaluation.jl:300\n"
     ]
    },
    {
     "name": "stderr",
     "output_type": "stream",
     "text": [
      "┌ Warning: Time 1.70 [sec]: SAC computation took 0.11 [sec], which exceeds the maximum computation time allowed.\n",
      "└ @ RiskSensitiveSAC /home/kang/DRC_Project/DRC_Trajectron/src/rs_sac_controller.jl:733\n",
      "┌ Warning: Time 1.70 [sec]: This evaluation iteration took 0.11 [sec], which exceeds dtc.\n",
      "└ @ RiskSensitiveSAC /home/kang/DRC_Project/DRC_Trajectron/src/evaluation.jl:300\n"
     ]
    },
    {
     "name": "stderr",
     "output_type": "stream",
     "text": [
      "┌ Warning: Time 1.80 [sec]: This evaluation iteration took 0.1 [sec], which exceeds dtc.\n",
      "└ @ RiskSensitiveSAC /home/kang/DRC_Project/DRC_Trajectron/src/evaluation.jl:300\n"
     ]
    },
    {
     "name": "stderr",
     "output_type": "stream",
     "text": [
      "┌ Warning: Time 1.90 [sec]: SAC computation took 0.114 [sec], which exceeds the maximum computation time allowed.\n",
      "└ @ RiskSensitiveSAC /home/kang/DRC_Project/DRC_Trajectron/src/rs_sac_controller.jl:733\n",
      "┌ Warning: Time 1.90 [sec]: This evaluation iteration took 0.115 [sec], which exceeds dtc.\n",
      "└ @ RiskSensitiveSAC /home/kang/DRC_Project/DRC_Trajectron/src/evaluation.jl:300\n"
     ]
    },
    {
     "name": "stderr",
     "output_type": "stream",
     "text": [
      "┌ Warning: Time 2.00 [sec]: SAC computation took 0.11 [sec], which exceeds the maximum computation time allowed.\n",
      "└ @ RiskSensitiveSAC /home/kang/DRC_Project/DRC_Trajectron/src/rs_sac_controller.jl:733\n",
      "┌ Warning: Time 2.00 [sec]: This evaluation iteration took 0.111 [sec], which exceeds dtc.\n",
      "└ @ RiskSensitiveSAC /home/kang/DRC_Project/DRC_Trajectron/src/evaluation.jl:300\n"
     ]
    },
    {
     "name": "stderr",
     "output_type": "stream",
     "text": [
      "┌ Warning: Time 2.10 [sec]: This evaluation iteration took 0.099 [sec], which exceeds dtc.\n",
      "└ @ RiskSensitiveSAC /home/kang/DRC_Project/DRC_Trajectron/src/evaluation.jl:300\n"
     ]
    },
    {
     "name": "stderr",
     "output_type": "stream",
     "text": [
      "┌ Warning: Time 2.20 [sec]: SAC computation took 0.116 [sec], which exceeds the maximum computation time allowed.\n",
      "└ @ RiskSensitiveSAC /home/kang/DRC_Project/DRC_Trajectron/src/rs_sac_controller.jl:733\n",
      "┌ Warning: Time 2.20 [sec]: This evaluation iteration took 0.116 [sec], which exceeds dtc.\n",
      "└ @ RiskSensitiveSAC /home/kang/DRC_Project/DRC_Trajectron/src/evaluation.jl:300\n"
     ]
    },
    {
     "name": "stderr",
     "output_type": "stream",
     "text": [
      "┌ Warning: Time 2.30 [sec]: SAC computation took 0.112 [sec], which exceeds the maximum computation time allowed.\n",
      "└ @ RiskSensitiveSAC /home/kang/DRC_Project/DRC_Trajectron/src/rs_sac_controller.jl:733\n",
      "┌ Warning: Time 2.30 [sec]: This evaluation iteration took 0.113 [sec], which exceeds dtc.\n",
      "└ @ RiskSensitiveSAC /home/kang/DRC_Project/DRC_Trajectron/src/evaluation.jl:300\n"
     ]
    },
    {
     "name": "stderr",
     "output_type": "stream",
     "text": [
      "┌ Warning: Time 2.40 [sec]: This evaluation iteration took 0.101 [sec], which exceeds dtc.\n",
      "└ @ RiskSensitiveSAC /home/kang/DRC_Project/DRC_Trajectron/src/evaluation.jl:300\n"
     ]
    },
    {
     "name": "stderr",
     "output_type": "stream",
     "text": [
      "┌ Warning: Time 2.50 [sec]: SAC computation took 0.117 [sec], which exceeds the maximum computation time allowed.\n",
      "└ @ RiskSensitiveSAC /home/kang/DRC_Project/DRC_Trajectron/src/rs_sac_controller.jl:733\n",
      "┌ Warning: Time 2.50 [sec]: This evaluation iteration took 0.118 [sec], which exceeds dtc.\n",
      "└ @ RiskSensitiveSAC /home/kang/DRC_Project/DRC_Trajectron/src/evaluation.jl:300\n"
     ]
    },
    {
     "name": "stderr",
     "output_type": "stream",
     "text": [
      "┌ Warning: Time 2.60 [sec]: SAC computation took 0.151 [sec], which exceeds the maximum computation time allowed.\n",
      "└ @ RiskSensitiveSAC /home/kang/DRC_Project/DRC_Trajectron/src/rs_sac_controller.jl:733\n",
      "┌ Warning: Time 2.60 [sec]: This evaluation iteration took 0.151 [sec], which exceeds dtc.\n",
      "└ @ RiskSensitiveSAC /home/kang/DRC_Project/DRC_Trajectron/src/evaluation.jl:300\n"
     ]
    },
    {
     "name": "stderr",
     "output_type": "stream",
     "text": [
      "┌ Warning: Time 2.70 [sec]: This evaluation iteration took 0.097 [sec], which exceeds dtc.\n",
      "└ @ RiskSensitiveSAC /home/kang/DRC_Project/DRC_Trajectron/src/evaluation.jl:300\n"
     ]
    },
    {
     "name": "stderr",
     "output_type": "stream",
     "text": [
      "┌ Warning: Time 2.80 [sec]: SAC computation took 0.108 [sec], which exceeds the maximum computation time allowed.\n",
      "└ @ RiskSensitiveSAC /home/kang/DRC_Project/DRC_Trajectron/src/rs_sac_controller.jl:733\n",
      "┌ Warning: Time 2.80 [sec]: This evaluation iteration took 0.109 [sec], which exceeds dtc.\n",
      "└ @ RiskSensitiveSAC /home/kang/DRC_Project/DRC_Trajectron/src/evaluation.jl:300\n"
     ]
    },
    {
     "name": "stderr",
     "output_type": "stream",
     "text": [
      "┌ Warning: Time 2.90 [sec]: SAC computation took 0.102 [sec], which exceeds the maximum computation time allowed.\n",
      "└ @ RiskSensitiveSAC /home/kang/DRC_Project/DRC_Trajectron/src/rs_sac_controller.jl:733\n",
      "┌ Warning: Time 2.90 [sec]: This evaluation iteration took 0.103 [sec], which exceeds dtc.\n",
      "└ @ RiskSensitiveSAC /home/kang/DRC_Project/DRC_Trajectron/src/evaluation.jl:300\n"
     ]
    },
    {
     "name": "stderr",
     "output_type": "stream",
     "text": [
      "┌ Warning: Time 3.00 [sec]: This evaluation iteration took 0.1 [sec], which exceeds dtc.\n",
      "└ @ RiskSensitiveSAC /home/kang/DRC_Project/DRC_Trajectron/src/evaluation.jl:300\n"
     ]
    },
    {
     "name": "stderr",
     "output_type": "stream",
     "text": [
      "┌ Warning: Time 3.10 [sec]: SAC computation took 0.112 [sec], which exceeds the maximum computation time allowed.\n",
      "└ @ RiskSensitiveSAC /home/kang/DRC_Project/DRC_Trajectron/src/rs_sac_controller.jl:733\n",
      "┌ Warning: Time 3.10 [sec]: This evaluation iteration took 0.113 [sec], which exceeds dtc.\n",
      "└ @ RiskSensitiveSAC /home/kang/DRC_Project/DRC_Trajectron/src/evaluation.jl:300\n"
     ]
    },
    {
     "name": "stderr",
     "output_type": "stream",
     "text": [
      "┌ Warning: Time 3.20 [sec]: This evaluation iteration took 0.096 [sec], which exceeds dtc.\n",
      "└ @ RiskSensitiveSAC /home/kang/DRC_Project/DRC_Trajectron/src/evaluation.jl:300\n"
     ]
    },
    {
     "name": "stderr",
     "output_type": "stream",
     "text": [
      "┌ Warning: Time 3.30 [sec]: SAC computation took 0.108 [sec], which exceeds the maximum computation time allowed.\n",
      "└ @ RiskSensitiveSAC /home/kang/DRC_Project/DRC_Trajectron/src/rs_sac_controller.jl:733\n",
      "┌ Warning: Time 3.30 [sec]: This evaluation iteration took 0.109 [sec], which exceeds dtc.\n",
      "└ @ RiskSensitiveSAC /home/kang/DRC_Project/DRC_Trajectron/src/evaluation.jl:300\n"
     ]
    },
    {
     "name": "stderr",
     "output_type": "stream",
     "text": [
      "┌ Warning: Time 3.40 [sec]: SAC computation took 0.114 [sec], which exceeds the maximum computation time allowed.\n",
      "└ @ RiskSensitiveSAC /home/kang/DRC_Project/DRC_Trajectron/src/rs_sac_controller.jl:733\n",
      "┌ Warning: Time 3.40 [sec]: This evaluation iteration took 0.115 [sec], which exceeds dtc.\n",
      "└ @ RiskSensitiveSAC /home/kang/DRC_Project/DRC_Trajectron/src/evaluation.jl:300\n"
     ]
    },
    {
     "name": "stderr",
     "output_type": "stream",
     "text": [
      "┌ Warning: Time 3.50 [sec]: This evaluation iteration took 0.09 [sec], which exceeds dtc.\n",
      "└ @ RiskSensitiveSAC /home/kang/DRC_Project/DRC_Trajectron/src/evaluation.jl:300\n"
     ]
    },
    {
     "name": "stderr",
     "output_type": "stream",
     "text": [
      "┌ Warning: Time 3.60 [sec]: SAC computation took 0.113 [sec], which exceeds the maximum computation time allowed.\n",
      "└ @ RiskSensitiveSAC /home/kang/DRC_Project/DRC_Trajectron/src/rs_sac_controller.jl:733\n",
      "┌ Warning: Time 3.60 [sec]: This evaluation iteration took 0.114 [sec], which exceeds dtc.\n",
      "└ @ RiskSensitiveSAC /home/kang/DRC_Project/DRC_Trajectron/src/evaluation.jl:300\n"
     ]
    },
    {
     "name": "stderr",
     "output_type": "stream",
     "text": [
      "┌ Warning: Time 3.70 [sec]: SAC computation took 0.115 [sec], which exceeds the maximum computation time allowed.\n",
      "└ @ RiskSensitiveSAC /home/kang/DRC_Project/DRC_Trajectron/src/rs_sac_controller.jl:733\n",
      "┌ Warning: Time 3.70 [sec]: This evaluation iteration took 0.116 [sec], which exceeds dtc.\n",
      "└ @ RiskSensitiveSAC /home/kang/DRC_Project/DRC_Trajectron/src/evaluation.jl:300\n"
     ]
    },
    {
     "name": "stderr",
     "output_type": "stream",
     "text": [
      "┌ Warning: Time 3.80 [sec]: This evaluation iteration took 0.096 [sec], which exceeds dtc.\n",
      "└ @ RiskSensitiveSAC /home/kang/DRC_Project/DRC_Trajectron/src/evaluation.jl:300\n"
     ]
    },
    {
     "name": "stderr",
     "output_type": "stream",
     "text": [
      "┌ Warning: Time 3.90 [sec]: SAC computation took 0.113 [sec], which exceeds the maximum computation time allowed.\n",
      "└ @ RiskSensitiveSAC /home/kang/DRC_Project/DRC_Trajectron/src/rs_sac_controller.jl:733\n",
      "┌ Warning: Time 3.90 [sec]: This evaluation iteration took 0.114 [sec], which exceeds dtc.\n",
      "└ @ RiskSensitiveSAC /home/kang/DRC_Project/DRC_Trajectron/src/evaluation.jl:300\n"
     ]
    },
    {
     "name": "stderr",
     "output_type": "stream",
     "text": [
      "┌ Warning: Time 4.00 [sec]: SAC computation took 0.117 [sec], which exceeds the maximum computation time allowed.\n",
      "└ @ RiskSensitiveSAC /home/kang/DRC_Project/DRC_Trajectron/src/rs_sac_controller.jl:733\n",
      "┌ Warning: Time 4.00 [sec]: This evaluation iteration took 0.119 [sec], which exceeds dtc.\n",
      "└ @ RiskSensitiveSAC /home/kang/DRC_Project/DRC_Trajectron/src/evaluation.jl:300\n"
     ]
    },
    {
     "name": "stderr",
     "output_type": "stream",
     "text": [
      "┌ Warning: Time 4.10 [sec]: SAC computation took 0.122 [sec], which exceeds the maximum computation time allowed.\n",
      "└ @ RiskSensitiveSAC /home/kang/DRC_Project/DRC_Trajectron/src/rs_sac_controller.jl:733\n",
      "┌ Warning: Time 4.10 [sec]: This evaluation iteration took 0.122 [sec], which exceeds dtc.\n",
      "└ @ RiskSensitiveSAC /home/kang/DRC_Project/DRC_Trajectron/src/evaluation.jl:300\n"
     ]
    },
    {
     "name": "stderr",
     "output_type": "stream",
     "text": [
      "┌ Warning: Time 4.20 [sec]: SAC computation took 0.119 [sec], which exceeds the maximum computation time allowed.\n",
      "└ @ RiskSensitiveSAC /home/kang/DRC_Project/DRC_Trajectron/src/rs_sac_controller.jl:733\n",
      "┌ Warning: Time 4.20 [sec]: This evaluation iteration took 0.119 [sec], which exceeds dtc.\n",
      "└ @ RiskSensitiveSAC /home/kang/DRC_Project/DRC_Trajectron/src/evaluation.jl:300\n"
     ]
    },
    {
     "name": "stderr",
     "output_type": "stream",
     "text": [
      "┌ Warning: Time 4.30 [sec]: This evaluation iteration took 0.086 [sec], which exceeds dtc.\n",
      "└ @ RiskSensitiveSAC /home/kang/DRC_Project/DRC_Trajectron/src/evaluation.jl:300\n"
     ]
    },
    {
     "name": "stderr",
     "output_type": "stream",
     "text": [
      "┌ Warning: Time 4.40 [sec]: This evaluation iteration took 0.086 [sec], which exceeds dtc.\n",
      "└ @ RiskSensitiveSAC /home/kang/DRC_Project/DRC_Trajectron/src/evaluation.jl:300\n"
     ]
    },
    {
     "name": "stderr",
     "output_type": "stream",
     "text": [
      "┌ Warning: Time 4.50 [sec]: This evaluation iteration took 0.086 [sec], which exceeds dtc.\n",
      "└ @ RiskSensitiveSAC /home/kang/DRC_Project/DRC_Trajectron/src/evaluation.jl:300\n"
     ]
    },
    {
     "name": "stderr",
     "output_type": "stream",
     "text": [
      "┌ Warning: Time 4.60 [sec]: This evaluation iteration took 0.087 [sec], which exceeds dtc.\n",
      "└ @ RiskSensitiveSAC /home/kang/DRC_Project/DRC_Trajectron/src/evaluation.jl:300\n"
     ]
    },
    {
     "name": "stderr",
     "output_type": "stream",
     "text": [
      "┌ Warning: Time 4.70 [sec]: This evaluation iteration took 0.087 [sec], which exceeds dtc.\n",
      "└ @ RiskSensitiveSAC /home/kang/DRC_Project/DRC_Trajectron/src/evaluation.jl:300\n"
     ]
    },
    {
     "name": "stderr",
     "output_type": "stream",
     "text": [
      "┌ Warning: Time 4.80 [sec]: This evaluation iteration took 0.088 [sec], which exceeds dtc.\n",
      "└ @ RiskSensitiveSAC /home/kang/DRC_Project/DRC_Trajectron/src/evaluation.jl:300\n"
     ]
    },
    {
     "name": "stderr",
     "output_type": "stream",
     "text": [
      "┌ Warning: Time 4.90 [sec]: This evaluation iteration took 0.092 [sec], which exceeds dtc.\n",
      "└ @ RiskSensitiveSAC /home/kang/DRC_Project/DRC_Trajectron/src/evaluation.jl:300\n"
     ]
    },
    {
     "name": "stderr",
     "output_type": "stream",
     "text": [
      "┌ Warning: Time 5.00 [sec]: This evaluation iteration took 0.089 [sec], which exceeds dtc.\n",
      "└ @ RiskSensitiveSAC /home/kang/DRC_Project/DRC_Trajectron/src/evaluation.jl:300\n"
     ]
    },
    {
     "name": "stderr",
     "output_type": "stream",
     "text": [
      "┌ Warning: Time 5.10 [sec]: This evaluation iteration took 0.089 [sec], which exceeds dtc.\n",
      "└ @ RiskSensitiveSAC /home/kang/DRC_Project/DRC_Trajectron/src/evaluation.jl:300\n"
     ]
    },
    {
     "name": "stderr",
     "output_type": "stream",
     "text": [
      "┌ Warning: Time 5.20 [sec]: This evaluation iteration took 0.083 [sec], which exceeds dtc.\n",
      "└ @ RiskSensitiveSAC /home/kang/DRC_Project/DRC_Trajectron/src/evaluation.jl:300\n"
     ]
    },
    {
     "name": "stderr",
     "output_type": "stream",
     "text": [
      "┌ Warning: Time 5.30 [sec]: This evaluation iteration took 0.09 [sec], which exceeds dtc.\n",
      "└ @ RiskSensitiveSAC /home/kang/DRC_Project/DRC_Trajectron/src/evaluation.jl:300\n"
     ]
    },
    {
     "name": "stderr",
     "output_type": "stream",
     "text": [
      "┌ Warning: Time 5.40 [sec]: This evaluation iteration took 0.082 [sec], which exceeds dtc.\n",
      "└ @ RiskSensitiveSAC /home/kang/DRC_Project/DRC_Trajectron/src/evaluation.jl:300\n"
     ]
    },
    {
     "name": "stderr",
     "output_type": "stream",
     "text": [
      "┌ Warning: Time 5.50 [sec]: SAC computation took 0.11 [sec], which exceeds the maximum computation time allowed.\n",
      "└ @ RiskSensitiveSAC /home/kang/DRC_Project/DRC_Trajectron/src/rs_sac_controller.jl:733\n",
      "┌ Warning: Time 5.50 [sec]: This evaluation iteration took 0.111 [sec], which exceeds dtc.\n",
      "└ @ RiskSensitiveSAC /home/kang/DRC_Project/DRC_Trajectron/src/evaluation.jl:300\n"
     ]
    },
    {
     "name": "stderr",
     "output_type": "stream",
     "text": [
      "┌ Warning: Time 5.60 [sec]: SAC computation took 0.128 [sec], which exceeds the maximum computation time allowed.\n",
      "└ @ RiskSensitiveSAC /home/kang/DRC_Project/DRC_Trajectron/src/rs_sac_controller.jl:733\n",
      "┌ Warning: Time 5.60 [sec]: This evaluation iteration took 0.129 [sec], which exceeds dtc.\n",
      "└ @ RiskSensitiveSAC /home/kang/DRC_Project/DRC_Trajectron/src/evaluation.jl:300\n"
     ]
    },
    {
     "name": "stderr",
     "output_type": "stream",
     "text": [
      "┌ Warning: Time 5.70 [sec]: SAC computation took 0.124 [sec], which exceeds the maximum computation time allowed.\n",
      "└ @ RiskSensitiveSAC /home/kang/DRC_Project/DRC_Trajectron/src/rs_sac_controller.jl:733\n",
      "┌ Warning: Time 5.70 [sec]: This evaluation iteration took 0.125 [sec], which exceeds dtc.\n",
      "└ @ RiskSensitiveSAC /home/kang/DRC_Project/DRC_Trajectron/src/evaluation.jl:300\n"
     ]
    },
    {
     "name": "stderr",
     "output_type": "stream",
     "text": [
      "┌ Warning: Time 5.80 [sec]: SAC computation took 0.173 [sec], which exceeds the maximum computation time allowed.\n",
      "└ @ RiskSensitiveSAC /home/kang/DRC_Project/DRC_Trajectron/src/rs_sac_controller.jl:733\n",
      "┌ Warning: Time 5.80 [sec]: This evaluation iteration took 0.173 [sec], which exceeds dtc.\n",
      "└ @ RiskSensitiveSAC /home/kang/DRC_Project/DRC_Trajectron/src/evaluation.jl:300\n"
     ]
    },
    {
     "name": "stderr",
     "output_type": "stream",
     "text": [
      "┌ Warning: Time 5.90 [sec]: SAC computation took 0.109 [sec], which exceeds the maximum computation time allowed.\n",
      "└ @ RiskSensitiveSAC /home/kang/DRC_Project/DRC_Trajectron/src/rs_sac_controller.jl:733\n",
      "┌ Warning: Time 5.90 [sec]: This evaluation iteration took 0.109 [sec], which exceeds dtc.\n",
      "└ @ RiskSensitiveSAC /home/kang/DRC_Project/DRC_Trajectron/src/evaluation.jl:300\n"
     ]
    },
    {
     "name": "stderr",
     "output_type": "stream",
     "text": [
      "┌ Warning: Time 6.00 [sec]: This evaluation iteration took 0.098 [sec], which exceeds dtc.\n",
      "└ @ RiskSensitiveSAC /home/kang/DRC_Project/DRC_Trajectron/src/evaluation.jl:300\n"
     ]
    },
    {
     "name": "stderr",
     "output_type": "stream",
     "text": [
      "┌ Warning: Time 6.10 [sec]: SAC computation took 0.114 [sec], which exceeds the maximum computation time allowed.\n",
      "└ @ RiskSensitiveSAC /home/kang/DRC_Project/DRC_Trajectron/src/rs_sac_controller.jl:733\n",
      "┌ Warning: Time 6.10 [sec]: This evaluation iteration took 0.114 [sec], which exceeds dtc.\n",
      "└ @ RiskSensitiveSAC /home/kang/DRC_Project/DRC_Trajectron/src/evaluation.jl:300\n"
     ]
    },
    {
     "name": "stderr",
     "output_type": "stream",
     "text": [
      "┌ Warning: Time 6.20 [sec]: SAC computation took 0.104 [sec], which exceeds the maximum computation time allowed.\n",
      "└ @ RiskSensitiveSAC /home/kang/DRC_Project/DRC_Trajectron/src/rs_sac_controller.jl:733\n",
      "┌ Warning: Time 6.20 [sec]: This evaluation iteration took 0.104 [sec], which exceeds dtc.\n",
      "└ @ RiskSensitiveSAC /home/kang/DRC_Project/DRC_Trajectron/src/evaluation.jl:300\n"
     ]
    },
    {
     "name": "stderr",
     "output_type": "stream",
     "text": [
      "┌ Warning: Time 6.30 [sec]: SAC computation took 0.109 [sec], which exceeds the maximum computation time allowed.\n",
      "└ @ RiskSensitiveSAC /home/kang/DRC_Project/DRC_Trajectron/src/rs_sac_controller.jl:733\n",
      "┌ Warning: Time 6.30 [sec]: This evaluation iteration took 0.11 [sec], which exceeds dtc.\n",
      "└ @ RiskSensitiveSAC /home/kang/DRC_Project/DRC_Trajectron/src/evaluation.jl:300\n"
     ]
    },
    {
     "name": "stderr",
     "output_type": "stream",
     "text": [
      "┌ Warning: Time 6.40 [sec]: SAC computation took 0.112 [sec], which exceeds the maximum computation time allowed.\n",
      "└ @ RiskSensitiveSAC /home/kang/DRC_Project/DRC_Trajectron/src/rs_sac_controller.jl:733\n",
      "┌ Warning: Time 6.40 [sec]: This evaluation iteration took 0.114 [sec], which exceeds dtc.\n",
      "└ @ RiskSensitiveSAC /home/kang/DRC_Project/DRC_Trajectron/src/evaluation.jl:300\n"
     ]
    },
    {
     "name": "stderr",
     "output_type": "stream",
     "text": [
      "┌ Warning: Time 6.50 [sec]: SAC computation took 0.103 [sec], which exceeds the maximum computation time allowed.\n",
      "└ @ RiskSensitiveSAC /home/kang/DRC_Project/DRC_Trajectron/src/rs_sac_controller.jl:733\n",
      "┌ Warning: Time 6.50 [sec]: This evaluation iteration took 0.103 [sec], which exceeds dtc.\n",
      "└ @ RiskSensitiveSAC /home/kang/DRC_Project/DRC_Trajectron/src/evaluation.jl:300\n"
     ]
    },
    {
     "name": "stderr",
     "output_type": "stream",
     "text": [
      "┌ Warning: Time 6.60 [sec]: SAC computation took 0.114 [sec], which exceeds the maximum computation time allowed.\n",
      "└ @ RiskSensitiveSAC /home/kang/DRC_Project/DRC_Trajectron/src/rs_sac_controller.jl:733\n",
      "┌ Warning: Time 6.60 [sec]: This evaluation iteration took 0.115 [sec], which exceeds dtc.\n",
      "└ @ RiskSensitiveSAC /home/kang/DRC_Project/DRC_Trajectron/src/evaluation.jl:300\n"
     ]
    },
    {
     "name": "stderr",
     "output_type": "stream",
     "text": [
      "┌ Warning: Time 6.70 [sec]: SAC computation took 0.114 [sec], which exceeds the maximum computation time allowed.\n",
      "└ @ RiskSensitiveSAC /home/kang/DRC_Project/DRC_Trajectron/src/rs_sac_controller.jl:733\n",
      "┌ Warning: Time 6.70 [sec]: This evaluation iteration took 0.115 [sec], which exceeds dtc.\n",
      "└ @ RiskSensitiveSAC /home/kang/DRC_Project/DRC_Trajectron/src/evaluation.jl:300\n"
     ]
    },
    {
     "name": "stderr",
     "output_type": "stream",
     "text": [
      "┌ Warning: Time 6.80 [sec]: SAC computation took 0.106 [sec], which exceeds the maximum computation time allowed.\n",
      "└ @ RiskSensitiveSAC /home/kang/DRC_Project/DRC_Trajectron/src/rs_sac_controller.jl:733\n",
      "┌ Warning: Time 6.80 [sec]: This evaluation iteration took 0.107 [sec], which exceeds dtc.\n",
      "└ @ RiskSensitiveSAC /home/kang/DRC_Project/DRC_Trajectron/src/evaluation.jl:300\n"
     ]
    },
    {
     "name": "stderr",
     "output_type": "stream",
     "text": [
      "┌ Warning: Time 6.90 [sec]: SAC computation took 0.11 [sec], which exceeds the maximum computation time allowed.\n",
      "└ @ RiskSensitiveSAC /home/kang/DRC_Project/DRC_Trajectron/src/rs_sac_controller.jl:733\n",
      "┌ Warning: Time 6.90 [sec]: This evaluation iteration took 0.111 [sec], which exceeds dtc.\n",
      "└ @ RiskSensitiveSAC /home/kang/DRC_Project/DRC_Trajectron/src/evaluation.jl:300\n"
     ]
    },
    {
     "name": "stderr",
     "output_type": "stream",
     "text": [
      "┌ Warning: Time 7.00 [sec]: SAC computation took 0.106 [sec], which exceeds the maximum computation time allowed.\n",
      "└ @ RiskSensitiveSAC /home/kang/DRC_Project/DRC_Trajectron/src/rs_sac_controller.jl:733\n",
      "┌ Warning: Time 7.00 [sec]: This evaluation iteration took 0.107 [sec], which exceeds dtc.\n",
      "└ @ RiskSensitiveSAC /home/kang/DRC_Project/DRC_Trajectron/src/evaluation.jl:300\n"
     ]
    },
    {
     "name": "stderr",
     "output_type": "stream",
     "text": [
      "┌ Warning: Time 7.10 [sec]: SAC computation took 0.123 [sec], which exceeds the maximum computation time allowed.\n",
      "└ @ RiskSensitiveSAC /home/kang/DRC_Project/DRC_Trajectron/src/rs_sac_controller.jl:733\n",
      "┌ Warning: Time 7.10 [sec]: This evaluation iteration took 0.123 [sec], which exceeds dtc.\n",
      "└ @ RiskSensitiveSAC /home/kang/DRC_Project/DRC_Trajectron/src/evaluation.jl:300\n"
     ]
    },
    {
     "name": "stderr",
     "output_type": "stream",
     "text": [
      "┌ Warning: Time 7.20 [sec]: SAC computation took 0.116 [sec], which exceeds the maximum computation time allowed.\n",
      "└ @ RiskSensitiveSAC /home/kang/DRC_Project/DRC_Trajectron/src/rs_sac_controller.jl:733\n",
      "┌ Warning: Time 7.20 [sec]: This evaluation iteration took 0.117 [sec], which exceeds dtc.\n",
      "└ @ RiskSensitiveSAC /home/kang/DRC_Project/DRC_Trajectron/src/evaluation.jl:300\n"
     ]
    },
    {
     "name": "stderr",
     "output_type": "stream",
     "text": [
      "┌ Warning: Time 7.30 [sec]: SAC computation took 0.123 [sec], which exceeds the maximum computation time allowed.\n",
      "└ @ RiskSensitiveSAC /home/kang/DRC_Project/DRC_Trajectron/src/rs_sac_controller.jl:733\n",
      "┌ Warning: Time 7.30 [sec]: This evaluation iteration took 0.124 [sec], which exceeds dtc.\n",
      "└ @ RiskSensitiveSAC /home/kang/DRC_Project/DRC_Trajectron/src/evaluation.jl:300\n"
     ]
    },
    {
     "name": "stderr",
     "output_type": "stream",
     "text": [
      "┌ Warning: Time 7.40 [sec]: SAC computation took 0.175 [sec], which exceeds the maximum computation time allowed.\n",
      "└ @ RiskSensitiveSAC /home/kang/DRC_Project/DRC_Trajectron/src/rs_sac_controller.jl:733\n",
      "┌ Warning: Time 7.40 [sec]: This evaluation iteration took 0.176 [sec], which exceeds dtc.\n",
      "└ @ RiskSensitiveSAC /home/kang/DRC_Project/DRC_Trajectron/src/evaluation.jl:300\n"
     ]
    },
    {
     "name": "stderr",
     "output_type": "stream",
     "text": [
      "┌ Warning: Time 7.50 [sec]: SAC computation took 0.116 [sec], which exceeds the maximum computation time allowed.\n",
      "└ @ RiskSensitiveSAC /home/kang/DRC_Project/DRC_Trajectron/src/rs_sac_controller.jl:733\n",
      "┌ Warning: Time 7.50 [sec]: This evaluation iteration took 0.116 [sec], which exceeds dtc.\n",
      "└ @ RiskSensitiveSAC /home/kang/DRC_Project/DRC_Trajectron/src/evaluation.jl:300\n"
     ]
    },
    {
     "name": "stderr",
     "output_type": "stream",
     "text": [
      "┌ Warning: Time 7.60 [sec]: SAC computation took 0.112 [sec], which exceeds the maximum computation time allowed.\n",
      "└ @ RiskSensitiveSAC /home/kang/DRC_Project/DRC_Trajectron/src/rs_sac_controller.jl:733\n",
      "┌ Warning: Time 7.60 [sec]: This evaluation iteration took 0.113 [sec], which exceeds dtc.\n",
      "└ @ RiskSensitiveSAC /home/kang/DRC_Project/DRC_Trajectron/src/evaluation.jl:300\n"
     ]
    },
    {
     "name": "stderr",
     "output_type": "stream",
     "text": [
      "┌ Warning: Time 7.70 [sec]: SAC computation took 0.111 [sec], which exceeds the maximum computation time allowed.\n",
      "└ @ RiskSensitiveSAC /home/kang/DRC_Project/DRC_Trajectron/src/rs_sac_controller.jl:733\n",
      "┌ Warning: Time 7.70 [sec]: This evaluation iteration took 0.112 [sec], which exceeds dtc.\n",
      "└ @ RiskSensitiveSAC /home/kang/DRC_Project/DRC_Trajectron/src/evaluation.jl:300\n"
     ]
    },
    {
     "name": "stderr",
     "output_type": "stream",
     "text": [
      "┌ Warning: Time 7.80 [sec]: SAC computation took 0.11 [sec], which exceeds the maximum computation time allowed.\n",
      "└ @ RiskSensitiveSAC /home/kang/DRC_Project/DRC_Trajectron/src/rs_sac_controller.jl:733\n",
      "┌ Warning: Time 7.80 [sec]: This evaluation iteration took 0.111 [sec], which exceeds dtc.\n",
      "└ @ RiskSensitiveSAC /home/kang/DRC_Project/DRC_Trajectron/src/evaluation.jl:300\n"
     ]
    },
    {
     "name": "stderr",
     "output_type": "stream",
     "text": [
      "┌ Warning: Time 7.90 [sec]: SAC computation took 0.111 [sec], which exceeds the maximum computation time allowed.\n",
      "└ @ RiskSensitiveSAC /home/kang/DRC_Project/DRC_Trajectron/src/rs_sac_controller.jl:733\n",
      "┌ Warning: Time 7.90 [sec]: This evaluation iteration took 0.112 [sec], which exceeds dtc.\n",
      "└ @ RiskSensitiveSAC /home/kang/DRC_Project/DRC_Trajectron/src/evaluation.jl:300\n"
     ]
    },
    {
     "name": "stderr",
     "output_type": "stream",
     "text": [
      "┌ Warning: Time 8.00 [sec]: SAC computation took 0.111 [sec], which exceeds the maximum computation time allowed.\n",
      "└ @ RiskSensitiveSAC /home/kang/DRC_Project/DRC_Trajectron/src/rs_sac_controller.jl:733\n",
      "┌ Warning: Time 8.00 [sec]: This evaluation iteration took 0.111 [sec], which exceeds dtc.\n",
      "└ @ RiskSensitiveSAC /home/kang/DRC_Project/DRC_Trajectron/src/evaluation.jl:300\n"
     ]
    },
    {
     "name": "stderr",
     "output_type": "stream",
     "text": [
      "┌ Warning: Time 8.10 [sec]: SAC computation took 0.113 [sec], which exceeds the maximum computation time allowed.\n",
      "└ @ RiskSensitiveSAC /home/kang/DRC_Project/DRC_Trajectron/src/rs_sac_controller.jl:733\n",
      "┌ Warning: Time 8.10 [sec]: This evaluation iteration took 0.114 [sec], which exceeds dtc.\n",
      "└ @ RiskSensitiveSAC /home/kang/DRC_Project/DRC_Trajectron/src/evaluation.jl:300\n"
     ]
    },
    {
     "name": "stderr",
     "output_type": "stream",
     "text": [
      "┌ Warning: Time 8.20 [sec]: SAC computation took 0.119 [sec], which exceeds the maximum computation time allowed.\n",
      "└ @ RiskSensitiveSAC /home/kang/DRC_Project/DRC_Trajectron/src/rs_sac_controller.jl:733\n",
      "┌ Warning: Time 8.20 [sec]: This evaluation iteration took 0.119 [sec], which exceeds dtc.\n",
      "└ @ RiskSensitiveSAC /home/kang/DRC_Project/DRC_Trajectron/src/evaluation.jl:300\n"
     ]
    },
    {
     "name": "stderr",
     "output_type": "stream",
     "text": [
      "┌ Warning: Time 8.30 [sec]: SAC computation took 0.121 [sec], which exceeds the maximum computation time allowed.\n",
      "└ @ RiskSensitiveSAC /home/kang/DRC_Project/DRC_Trajectron/src/rs_sac_controller.jl:733\n",
      "┌ Warning: Time 8.30 [sec]: This evaluation iteration took 0.122 [sec], which exceeds dtc.\n",
      "└ @ RiskSensitiveSAC /home/kang/DRC_Project/DRC_Trajectron/src/evaluation.jl:300\n"
     ]
    },
    {
     "name": "stderr",
     "output_type": "stream",
     "text": [
      "┌ Warning: Time 8.40 [sec]: SAC computation took 0.122 [sec], which exceeds the maximum computation time allowed.\n",
      "└ @ RiskSensitiveSAC /home/kang/DRC_Project/DRC_Trajectron/src/rs_sac_controller.jl:733\n",
      "┌ Warning: Time 8.40 [sec]: This evaluation iteration took 0.123 [sec], which exceeds dtc.\n",
      "└ @ RiskSensitiveSAC /home/kang/DRC_Project/DRC_Trajectron/src/evaluation.jl:300\n"
     ]
    },
    {
     "name": "stderr",
     "output_type": "stream",
     "text": [
      "┌ Warning: Time 8.50 [sec]: SAC computation took 0.12 [sec], which exceeds the maximum computation time allowed.\n",
      "└ @ RiskSensitiveSAC /home/kang/DRC_Project/DRC_Trajectron/src/rs_sac_controller.jl:733\n",
      "┌ Warning: Time 8.50 [sec]: This evaluation iteration took 0.121 [sec], which exceeds dtc.\n",
      "└ @ RiskSensitiveSAC /home/kang/DRC_Project/DRC_Trajectron/src/evaluation.jl:300\n"
     ]
    },
    {
     "name": "stderr",
     "output_type": "stream",
     "text": [
      "┌ Warning: Time 8.60 [sec]: SAC computation took 0.117 [sec], which exceeds the maximum computation time allowed.\n",
      "└ @ RiskSensitiveSAC /home/kang/DRC_Project/DRC_Trajectron/src/rs_sac_controller.jl:733\n",
      "┌ Warning: Time 8.60 [sec]: This evaluation iteration took 0.117 [sec], which exceeds dtc.\n",
      "└ @ RiskSensitiveSAC /home/kang/DRC_Project/DRC_Trajectron/src/evaluation.jl:300\n"
     ]
    },
    {
     "name": "stderr",
     "output_type": "stream",
     "text": [
      "┌ Warning: Time 8.70 [sec]: SAC computation took 0.115 [sec], which exceeds the maximum computation time allowed.\n",
      "└ @ RiskSensitiveSAC /home/kang/DRC_Project/DRC_Trajectron/src/rs_sac_controller.jl:733\n",
      "┌ Warning: Time 8.70 [sec]: This evaluation iteration took 0.116 [sec], which exceeds dtc.\n",
      "└ @ RiskSensitiveSAC /home/kang/DRC_Project/DRC_Trajectron/src/evaluation.jl:300\n"
     ]
    },
    {
     "name": "stderr",
     "output_type": "stream",
     "text": [
      "┌ Warning: Time 8.80 [sec]: SAC computation took 0.118 [sec], which exceeds the maximum computation time allowed.\n",
      "└ @ RiskSensitiveSAC /home/kang/DRC_Project/DRC_Trajectron/src/rs_sac_controller.jl:733\n",
      "┌ Warning: Time 8.80 [sec]: This evaluation iteration took 0.119 [sec], which exceeds dtc.\n",
      "└ @ RiskSensitiveSAC /home/kang/DRC_Project/DRC_Trajectron/src/evaluation.jl:300\n"
     ]
    },
    {
     "name": "stderr",
     "output_type": "stream",
     "text": [
      "┌ Warning: Time 8.90 [sec]: SAC computation took 0.115 [sec], which exceeds the maximum computation time allowed.\n",
      "└ @ RiskSensitiveSAC /home/kang/DRC_Project/DRC_Trajectron/src/rs_sac_controller.jl:733\n",
      "┌ Warning: Time 8.90 [sec]: This evaluation iteration took 0.116 [sec], which exceeds dtc.\n",
      "└ @ RiskSensitiveSAC /home/kang/DRC_Project/DRC_Trajectron/src/evaluation.jl:300\n"
     ]
    },
    {
     "name": "stderr",
     "output_type": "stream",
     "text": [
      "┌ Warning: Time 9.00 [sec]: SAC computation took 0.16 [sec], which exceeds the maximum computation time allowed.\n",
      "└ @ RiskSensitiveSAC /home/kang/DRC_Project/DRC_Trajectron/src/rs_sac_controller.jl:733\n",
      "┌ Warning: Time 9.00 [sec]: This evaluation iteration took 0.161 [sec], which exceeds dtc.\n",
      "└ @ RiskSensitiveSAC /home/kang/DRC_Project/DRC_Trajectron/src/evaluation.jl:300\n"
     ]
    },
    {
     "name": "stderr",
     "output_type": "stream",
     "text": [
      "┌ Warning: Time 9.10 [sec]: SAC computation took 0.114 [sec], which exceeds the maximum computation time allowed.\n",
      "└ @ RiskSensitiveSAC /home/kang/DRC_Project/DRC_Trajectron/src/rs_sac_controller.jl:733\n",
      "┌ Warning: Time 9.10 [sec]: This evaluation iteration took 0.115 [sec], which exceeds dtc.\n",
      "└ @ RiskSensitiveSAC /home/kang/DRC_Project/DRC_Trajectron/src/evaluation.jl:300\n"
     ]
    },
    {
     "name": "stderr",
     "output_type": "stream",
     "text": [
      "┌ Warning: Time 9.20 [sec]: SAC computation took 0.113 [sec], which exceeds the maximum computation time allowed.\n",
      "└ @ RiskSensitiveSAC /home/kang/DRC_Project/DRC_Trajectron/src/rs_sac_controller.jl:733\n",
      "┌ Warning: Time 9.20 [sec]: This evaluation iteration took 0.114 [sec], which exceeds dtc.\n",
      "└ @ RiskSensitiveSAC /home/kang/DRC_Project/DRC_Trajectron/src/evaluation.jl:300\n"
     ]
    },
    {
     "name": "stderr",
     "output_type": "stream",
     "text": [
      "┌ Warning: Time 9.30 [sec]: SAC computation took 0.107 [sec], which exceeds the maximum computation time allowed.\n",
      "└ @ RiskSensitiveSAC /home/kang/DRC_Project/DRC_Trajectron/src/rs_sac_controller.jl:733\n",
      "┌ Warning: Time 9.30 [sec]: This evaluation iteration took 0.108 [sec], which exceeds dtc.\n",
      "└ @ RiskSensitiveSAC /home/kang/DRC_Project/DRC_Trajectron/src/evaluation.jl:300\n"
     ]
    },
    {
     "name": "stderr",
     "output_type": "stream",
     "text": [
      "┌ Warning: Time 9.40 [sec]: SAC computation took 0.108 [sec], which exceeds the maximum computation time allowed.\n",
      "└ @ RiskSensitiveSAC /home/kang/DRC_Project/DRC_Trajectron/src/rs_sac_controller.jl:733\n",
      "┌ Warning: Time 9.40 [sec]: This evaluation iteration took 0.108 [sec], which exceeds dtc.\n",
      "└ @ RiskSensitiveSAC /home/kang/DRC_Project/DRC_Trajectron/src/evaluation.jl:300\n"
     ]
    },
    {
     "name": "stderr",
     "output_type": "stream",
     "text": [
      "┌ Warning: Time 9.50 [sec]: SAC computation took 0.11 [sec], which exceeds the maximum computation time allowed.\n",
      "└ @ RiskSensitiveSAC /home/kang/DRC_Project/DRC_Trajectron/src/rs_sac_controller.jl:733\n",
      "┌ Warning: Time 9.50 [sec]: This evaluation iteration took 0.111 [sec], which exceeds dtc.\n",
      "└ @ RiskSensitiveSAC /home/kang/DRC_Project/DRC_Trajectron/src/evaluation.jl:300\n"
     ]
    },
    {
     "name": "stderr",
     "output_type": "stream",
     "text": [
      "┌ Warning: Time 9.60 [sec]: SAC computation took 0.109 [sec], which exceeds the maximum computation time allowed.\n",
      "└ @ RiskSensitiveSAC /home/kang/DRC_Project/DRC_Trajectron/src/rs_sac_controller.jl:733\n",
      "┌ Warning: Time 9.60 [sec]: This evaluation iteration took 0.11 [sec], which exceeds dtc.\n",
      "└ @ RiskSensitiveSAC /home/kang/DRC_Project/DRC_Trajectron/src/evaluation.jl:300\n"
     ]
    },
    {
     "name": "stderr",
     "output_type": "stream",
     "text": [
      "┌ Warning: Time 9.70 [sec]: SAC computation took 0.116 [sec], which exceeds the maximum computation time allowed.\n",
      "└ @ RiskSensitiveSAC /home/kang/DRC_Project/DRC_Trajectron/src/rs_sac_controller.jl:733\n",
      "┌ Warning: Time 9.70 [sec]: This evaluation iteration took 0.117 [sec], which exceeds dtc.\n",
      "└ @ RiskSensitiveSAC /home/kang/DRC_Project/DRC_Trajectron/src/evaluation.jl:300\n"
     ]
    },
    {
     "name": "stderr",
     "output_type": "stream",
     "text": [
      "┌ Warning: Time 9.80 [sec]: SAC computation took 0.126 [sec], which exceeds the maximum computation time allowed.\n",
      "└ @ RiskSensitiveSAC /home/kang/DRC_Project/DRC_Trajectron/src/rs_sac_controller.jl:733\n",
      "┌ Warning: Time 9.80 [sec]: This evaluation iteration took 0.126 [sec], which exceeds dtc.\n",
      "└ @ RiskSensitiveSAC /home/kang/DRC_Project/DRC_Trajectron/src/evaluation.jl:300\n"
     ]
    },
    {
     "name": "stderr",
     "output_type": "stream",
     "text": [
      "┌ Warning: Time 9.90 [sec]: SAC computation took 0.121 [sec], which exceeds the maximum computation time allowed.\n",
      "└ @ RiskSensitiveSAC /home/kang/DRC_Project/DRC_Trajectron/src/rs_sac_controller.jl:733\n",
      "┌ Warning: Time 9.90 [sec]: This evaluation iteration took 0.122 [sec], which exceeds dtc.\n",
      "└ @ RiskSensitiveSAC /home/kang/DRC_Project/DRC_Trajectron/src/evaluation.jl:300\n"
     ]
    },
    {
     "name": "stdout",
     "output_type": "stream",
     "text": [
      "Total Collision: 0, Total Position Cost: 74.27514556885085, Total Control Cost: 1.9496795920741494, Minimum Distance: 1.125337184727168, Experiment 10: "
     ]
    },
    {
     "name": "stderr",
     "output_type": "stream",
     "text": [
      "┌ Warning: Time 0.00 [sec]: SAC computation took 0.122 [sec], which exceeds the maximum computation time allowed.\n",
      "└ @ RiskSensitiveSAC /home/kang/DRC_Project/DRC_Trajectron/src/rs_sac_controller.jl:733\n"
     ]
    },
    {
     "name": "stderr",
     "output_type": "stream",
     "text": [
      "┌ Warning: Time 0.10 [sec]: SAC computation took 0.117 [sec], which exceeds the maximum computation time allowed.\n",
      "└ @ RiskSensitiveSAC /home/kang/DRC_Project/DRC_Trajectron/src/rs_sac_controller.jl:733\n",
      "┌ Warning: Time 0.10 [sec]: This evaluation iteration took 0.117 [sec], which exceeds dtc.\n",
      "└ @ RiskSensitiveSAC /home/kang/DRC_Project/DRC_Trajectron/src/evaluation.jl:300\n"
     ]
    },
    {
     "name": "stderr",
     "output_type": "stream",
     "text": [
      "┌ Warning: Time 0.20 [sec]: SAC computation took 0.113 [sec], which exceeds the maximum computation time allowed.\n",
      "└ @ RiskSensitiveSAC /home/kang/DRC_Project/DRC_Trajectron/src/rs_sac_controller.jl:733\n",
      "┌ Warning: Time 0.20 [sec]: This evaluation iteration took 0.114 [sec], which exceeds dtc.\n",
      "└ @ RiskSensitiveSAC /home/kang/DRC_Project/DRC_Trajectron/src/evaluation.jl:300\n"
     ]
    },
    {
     "name": "stderr",
     "output_type": "stream",
     "text": [
      "┌ Warning: Time 0.30 [sec]: SAC computation took 0.118 [sec], which exceeds the maximum computation time allowed.\n",
      "└ @ RiskSensitiveSAC /home/kang/DRC_Project/DRC_Trajectron/src/rs_sac_controller.jl:733\n",
      "┌ Warning: Time 0.30 [sec]: This evaluation iteration took 0.119 [sec], which exceeds dtc.\n",
      "└ @ RiskSensitiveSAC /home/kang/DRC_Project/DRC_Trajectron/src/evaluation.jl:300\n"
     ]
    },
    {
     "name": "stderr",
     "output_type": "stream",
     "text": [
      "┌ Warning: Time 0.40 [sec]: SAC computation took 0.118 [sec], which exceeds the maximum computation time allowed.\n",
      "└ @ RiskSensitiveSAC /home/kang/DRC_Project/DRC_Trajectron/src/rs_sac_controller.jl:733\n",
      "┌ Warning: Time 0.40 [sec]: This evaluation iteration took 0.119 [sec], which exceeds dtc.\n",
      "└ @ RiskSensitiveSAC /home/kang/DRC_Project/DRC_Trajectron/src/evaluation.jl:300\n"
     ]
    },
    {
     "name": "stderr",
     "output_type": "stream",
     "text": [
      "┌ Warning: Time 0.50 [sec]: SAC computation took 0.116 [sec], which exceeds the maximum computation time allowed.\n",
      "└ @ RiskSensitiveSAC /home/kang/DRC_Project/DRC_Trajectron/src/rs_sac_controller.jl:733\n",
      "┌ Warning: Time 0.50 [sec]: This evaluation iteration took 0.117 [sec], which exceeds dtc.\n",
      "└ @ RiskSensitiveSAC /home/kang/DRC_Project/DRC_Trajectron/src/evaluation.jl:300\n"
     ]
    },
    {
     "name": "stderr",
     "output_type": "stream",
     "text": [
      "┌ Warning: Time 0.60 [sec]: SAC computation took 0.113 [sec], which exceeds the maximum computation time allowed.\n",
      "└ @ RiskSensitiveSAC /home/kang/DRC_Project/DRC_Trajectron/src/rs_sac_controller.jl:733\n",
      "┌ Warning: Time 0.60 [sec]: This evaluation iteration took 0.114 [sec], which exceeds dtc.\n",
      "└ @ RiskSensitiveSAC /home/kang/DRC_Project/DRC_Trajectron/src/evaluation.jl:300\n"
     ]
    },
    {
     "name": "stderr",
     "output_type": "stream",
     "text": [
      "┌ Warning: Time 0.70 [sec]: SAC computation took 0.162 [sec], which exceeds the maximum computation time allowed.\n",
      "└ @ RiskSensitiveSAC /home/kang/DRC_Project/DRC_Trajectron/src/rs_sac_controller.jl:733\n",
      "┌ Warning: Time 0.70 [sec]: This evaluation iteration took 0.162 [sec], which exceeds dtc.\n",
      "└ @ RiskSensitiveSAC /home/kang/DRC_Project/DRC_Trajectron/src/evaluation.jl:300\n"
     ]
    },
    {
     "name": "stderr",
     "output_type": "stream",
     "text": [
      "┌ Warning: Time 0.80 [sec]: SAC computation took 0.12 [sec], which exceeds the maximum computation time allowed.\n",
      "└ @ RiskSensitiveSAC /home/kang/DRC_Project/DRC_Trajectron/src/rs_sac_controller.jl:733\n",
      "┌ Warning: Time 0.80 [sec]: This evaluation iteration took 0.121 [sec], which exceeds dtc.\n",
      "└ @ RiskSensitiveSAC /home/kang/DRC_Project/DRC_Trajectron/src/evaluation.jl:300\n"
     ]
    },
    {
     "name": "stderr",
     "output_type": "stream",
     "text": [
      "┌ Warning: Time 0.90 [sec]: This evaluation iteration took 0.09 [sec], which exceeds dtc.\n",
      "└ @ RiskSensitiveSAC /home/kang/DRC_Project/DRC_Trajectron/src/evaluation.jl:300\n"
     ]
    },
    {
     "name": "stderr",
     "output_type": "stream",
     "text": [
      "┌ Warning: Time 1.00 [sec]: This evaluation iteration took 0.1 [sec], which exceeds dtc.\n",
      "└ @ RiskSensitiveSAC /home/kang/DRC_Project/DRC_Trajectron/src/evaluation.jl:300\n"
     ]
    },
    {
     "name": "stderr",
     "output_type": "stream",
     "text": [
      "┌ Warning: Time 1.10 [sec]: SAC computation took 0.111 [sec], which exceeds the maximum computation time allowed.\n",
      "└ @ RiskSensitiveSAC /home/kang/DRC_Project/DRC_Trajectron/src/rs_sac_controller.jl:733\n",
      "┌ Warning: Time 1.10 [sec]: This evaluation iteration took 0.111 [sec], which exceeds dtc.\n",
      "└ @ RiskSensitiveSAC /home/kang/DRC_Project/DRC_Trajectron/src/evaluation.jl:300\n"
     ]
    },
    {
     "name": "stderr",
     "output_type": "stream",
     "text": [
      "┌ Warning: Time 1.20 [sec]: SAC computation took 0.12 [sec], which exceeds the maximum computation time allowed.\n",
      "└ @ RiskSensitiveSAC /home/kang/DRC_Project/DRC_Trajectron/src/rs_sac_controller.jl:733\n",
      "┌ Warning: Time 1.20 [sec]: This evaluation iteration took 0.12 [sec], which exceeds dtc.\n",
      "└ @ RiskSensitiveSAC /home/kang/DRC_Project/DRC_Trajectron/src/evaluation.jl:300\n"
     ]
    },
    {
     "name": "stderr",
     "output_type": "stream",
     "text": [
      "┌ Warning: Time 1.30 [sec]: This evaluation iteration took 0.087 [sec], which exceeds dtc.\n",
      "└ @ RiskSensitiveSAC /home/kang/DRC_Project/DRC_Trajectron/src/evaluation.jl:300\n"
     ]
    },
    {
     "name": "stderr",
     "output_type": "stream",
     "text": [
      "┌ Warning: Time 1.40 [sec]: This evaluation iteration took 0.092 [sec], which exceeds dtc.\n",
      "└ @ RiskSensitiveSAC /home/kang/DRC_Project/DRC_Trajectron/src/evaluation.jl:300\n"
     ]
    },
    {
     "name": "stderr",
     "output_type": "stream",
     "text": [
      "┌ Warning: Time 1.50 [sec]: This evaluation iteration took 0.092 [sec], which exceeds dtc.\n",
      "└ @ RiskSensitiveSAC /home/kang/DRC_Project/DRC_Trajectron/src/evaluation.jl:300\n"
     ]
    },
    {
     "name": "stderr",
     "output_type": "stream",
     "text": [
      "┌ Warning: Time 1.60 [sec]: This evaluation iteration took 0.087 [sec], which exceeds dtc.\n",
      "└ @ RiskSensitiveSAC /home/kang/DRC_Project/DRC_Trajectron/src/evaluation.jl:300\n"
     ]
    },
    {
     "name": "stderr",
     "output_type": "stream",
     "text": [
      "┌ Warning: Time 1.70 [sec]: This evaluation iteration took 0.099 [sec], which exceeds dtc.\n",
      "└ @ RiskSensitiveSAC /home/kang/DRC_Project/DRC_Trajectron/src/evaluation.jl:300\n"
     ]
    },
    {
     "name": "stderr",
     "output_type": "stream",
     "text": [
      "┌ Warning: Time 1.80 [sec]: This evaluation iteration took 0.092 [sec], which exceeds dtc.\n",
      "└ @ RiskSensitiveSAC /home/kang/DRC_Project/DRC_Trajectron/src/evaluation.jl:300\n"
     ]
    },
    {
     "name": "stderr",
     "output_type": "stream",
     "text": [
      "┌ Warning: Time 1.90 [sec]: This evaluation iteration took 0.086 [sec], which exceeds dtc.\n",
      "└ @ RiskSensitiveSAC /home/kang/DRC_Project/DRC_Trajectron/src/evaluation.jl:300\n"
     ]
    },
    {
     "name": "stderr",
     "output_type": "stream",
     "text": [
      "┌ Warning: Time 2.00 [sec]: SAC computation took 0.102 [sec], which exceeds the maximum computation time allowed.\n",
      "└ @ RiskSensitiveSAC /home/kang/DRC_Project/DRC_Trajectron/src/rs_sac_controller.jl:733\n",
      "┌ Warning: Time 2.00 [sec]: This evaluation iteration took 0.103 [sec], which exceeds dtc.\n",
      "└ @ RiskSensitiveSAC /home/kang/DRC_Project/DRC_Trajectron/src/evaluation.jl:300\n"
     ]
    },
    {
     "name": "stderr",
     "output_type": "stream",
     "text": [
      "┌ Warning: Time 2.10 [sec]: SAC computation took 0.112 [sec], which exceeds the maximum computation time allowed.\n",
      "└ @ RiskSensitiveSAC /home/kang/DRC_Project/DRC_Trajectron/src/rs_sac_controller.jl:733\n",
      "┌ Warning: Time 2.10 [sec]: This evaluation iteration took 0.113 [sec], which exceeds dtc.\n",
      "└ @ RiskSensitiveSAC /home/kang/DRC_Project/DRC_Trajectron/src/evaluation.jl:300\n"
     ]
    },
    {
     "name": "stderr",
     "output_type": "stream",
     "text": [
      "┌ Warning: Time 2.20 [sec]: This evaluation iteration took 0.092 [sec], which exceeds dtc.\n",
      "└ @ RiskSensitiveSAC /home/kang/DRC_Project/DRC_Trajectron/src/evaluation.jl:300\n"
     ]
    },
    {
     "name": "stderr",
     "output_type": "stream",
     "text": [
      "┌ Warning: Time 2.30 [sec]: SAC computation took 0.142 [sec], which exceeds the maximum computation time allowed.\n",
      "└ @ RiskSensitiveSAC /home/kang/DRC_Project/DRC_Trajectron/src/rs_sac_controller.jl:733\n",
      "┌ Warning: Time 2.30 [sec]: This evaluation iteration took 0.143 [sec], which exceeds dtc.\n",
      "└ @ RiskSensitiveSAC /home/kang/DRC_Project/DRC_Trajectron/src/evaluation.jl:300\n"
     ]
    },
    {
     "name": "stderr",
     "output_type": "stream",
     "text": [
      "┌ Warning: Time 2.40 [sec]: This evaluation iteration took 0.094 [sec], which exceeds dtc.\n",
      "└ @ RiskSensitiveSAC /home/kang/DRC_Project/DRC_Trajectron/src/evaluation.jl:300\n"
     ]
    },
    {
     "name": "stderr",
     "output_type": "stream",
     "text": [
      "┌ Warning: Time 2.50 [sec]: This evaluation iteration took 0.088 [sec], which exceeds dtc.\n",
      "└ @ RiskSensitiveSAC /home/kang/DRC_Project/DRC_Trajectron/src/evaluation.jl:300\n"
     ]
    },
    {
     "name": "stderr",
     "output_type": "stream",
     "text": [
      "┌ Warning: Time 2.60 [sec]: SAC computation took 0.106 [sec], which exceeds the maximum computation time allowed.\n",
      "└ @ RiskSensitiveSAC /home/kang/DRC_Project/DRC_Trajectron/src/rs_sac_controller.jl:733\n",
      "┌ Warning: Time 2.60 [sec]: This evaluation iteration took 0.106 [sec], which exceeds dtc.\n",
      "└ @ RiskSensitiveSAC /home/kang/DRC_Project/DRC_Trajectron/src/evaluation.jl:300\n"
     ]
    },
    {
     "name": "stderr",
     "output_type": "stream",
     "text": [
      "┌ Warning: Time 2.70 [sec]: This evaluation iteration took 0.086 [sec], which exceeds dtc.\n",
      "└ @ RiskSensitiveSAC /home/kang/DRC_Project/DRC_Trajectron/src/evaluation.jl:300\n"
     ]
    },
    {
     "name": "stderr",
     "output_type": "stream",
     "text": [
      "┌ Warning: Time 2.80 [sec]: This evaluation iteration took 0.093 [sec], which exceeds dtc.\n",
      "└ @ RiskSensitiveSAC /home/kang/DRC_Project/DRC_Trajectron/src/evaluation.jl:300\n"
     ]
    },
    {
     "name": "stderr",
     "output_type": "stream",
     "text": [
      "┌ Warning: Time 2.90 [sec]: This evaluation iteration took 0.092 [sec], which exceeds dtc.\n",
      "└ @ RiskSensitiveSAC /home/kang/DRC_Project/DRC_Trajectron/src/evaluation.jl:300\n"
     ]
    },
    {
     "name": "stderr",
     "output_type": "stream",
     "text": [
      "┌ Warning: Time 3.00 [sec]: This evaluation iteration took 0.092 [sec], which exceeds dtc.\n",
      "└ @ RiskSensitiveSAC /home/kang/DRC_Project/DRC_Trajectron/src/evaluation.jl:300\n"
     ]
    },
    {
     "name": "stderr",
     "output_type": "stream",
     "text": [
      "┌ Warning: Time 3.10 [sec]: SAC computation took 0.106 [sec], which exceeds the maximum computation time allowed.\n",
      "└ @ RiskSensitiveSAC /home/kang/DRC_Project/DRC_Trajectron/src/rs_sac_controller.jl:733\n",
      "┌ Warning: Time 3.10 [sec]: This evaluation iteration took 0.106 [sec], which exceeds dtc.\n",
      "└ @ RiskSensitiveSAC /home/kang/DRC_Project/DRC_Trajectron/src/evaluation.jl:300\n"
     ]
    },
    {
     "name": "stderr",
     "output_type": "stream",
     "text": [
      "┌ Warning: Time 3.20 [sec]: This evaluation iteration took 0.096 [sec], which exceeds dtc.\n",
      "└ @ RiskSensitiveSAC /home/kang/DRC_Project/DRC_Trajectron/src/evaluation.jl:300\n"
     ]
    },
    {
     "name": "stderr",
     "output_type": "stream",
     "text": [
      "┌ Warning: Time 3.30 [sec]: This evaluation iteration took 0.098 [sec], which exceeds dtc.\n",
      "└ @ RiskSensitiveSAC /home/kang/DRC_Project/DRC_Trajectron/src/evaluation.jl:300\n"
     ]
    },
    {
     "name": "stderr",
     "output_type": "stream",
     "text": [
      "┌ Warning: Time 3.40 [sec]: SAC computation took 0.101 [sec], which exceeds the maximum computation time allowed.\n",
      "└ @ RiskSensitiveSAC /home/kang/DRC_Project/DRC_Trajectron/src/rs_sac_controller.jl:733\n",
      "┌ Warning: Time 3.40 [sec]: This evaluation iteration took 0.101 [sec], which exceeds dtc.\n",
      "└ @ RiskSensitiveSAC /home/kang/DRC_Project/DRC_Trajectron/src/evaluation.jl:300\n"
     ]
    },
    {
     "name": "stderr",
     "output_type": "stream",
     "text": [
      "┌ Warning: Time 3.50 [sec]: This evaluation iteration took 0.091 [sec], which exceeds dtc.\n",
      "└ @ RiskSensitiveSAC /home/kang/DRC_Project/DRC_Trajectron/src/evaluation.jl:300\n"
     ]
    },
    {
     "name": "stderr",
     "output_type": "stream",
     "text": [
      "┌ Warning: Time 3.60 [sec]: SAC computation took 0.119 [sec], which exceeds the maximum computation time allowed.\n",
      "└ @ RiskSensitiveSAC /home/kang/DRC_Project/DRC_Trajectron/src/rs_sac_controller.jl:733\n",
      "┌ Warning: Time 3.60 [sec]: This evaluation iteration took 0.12 [sec], which exceeds dtc.\n",
      "└ @ RiskSensitiveSAC /home/kang/DRC_Project/DRC_Trajectron/src/evaluation.jl:300\n"
     ]
    },
    {
     "name": "stderr",
     "output_type": "stream",
     "text": [
      "┌ Warning: Time 3.70 [sec]: This evaluation iteration took 0.086 [sec], which exceeds dtc.\n",
      "└ @ RiskSensitiveSAC /home/kang/DRC_Project/DRC_Trajectron/src/evaluation.jl:300\n"
     ]
    },
    {
     "name": "stderr",
     "output_type": "stream",
     "text": [
      "┌ Warning: Time 3.80 [sec]: This evaluation iteration took 0.095 [sec], which exceeds dtc.\n",
      "└ @ RiskSensitiveSAC /home/kang/DRC_Project/DRC_Trajectron/src/evaluation.jl:300\n"
     ]
    },
    {
     "name": "stderr",
     "output_type": "stream",
     "text": [
      "┌ Warning: Time 3.90 [sec]: SAC computation took 0.106 [sec], which exceeds the maximum computation time allowed.\n",
      "└ @ RiskSensitiveSAC /home/kang/DRC_Project/DRC_Trajectron/src/rs_sac_controller.jl:733\n",
      "┌ Warning: Time 3.90 [sec]: This evaluation iteration took 0.107 [sec], which exceeds dtc.\n",
      "└ @ RiskSensitiveSAC /home/kang/DRC_Project/DRC_Trajectron/src/evaluation.jl:300\n"
     ]
    },
    {
     "name": "stderr",
     "output_type": "stream",
     "text": [
      "┌ Warning: Time 4.00 [sec]: SAC computation took 0.129 [sec], which exceeds the maximum computation time allowed.\n",
      "└ @ RiskSensitiveSAC /home/kang/DRC_Project/DRC_Trajectron/src/rs_sac_controller.jl:733\n",
      "┌ Warning: Time 4.00 [sec]: This evaluation iteration took 0.13 [sec], which exceeds dtc.\n",
      "└ @ RiskSensitiveSAC /home/kang/DRC_Project/DRC_Trajectron/src/evaluation.jl:300\n"
     ]
    },
    {
     "name": "stderr",
     "output_type": "stream",
     "text": [
      "┌ Warning: Time 4.10 [sec]: This evaluation iteration took 0.086 [sec], which exceeds dtc.\n",
      "└ @ RiskSensitiveSAC /home/kang/DRC_Project/DRC_Trajectron/src/evaluation.jl:300\n"
     ]
    },
    {
     "name": "stderr",
     "output_type": "stream",
     "text": [
      "┌ Warning: Time 4.20 [sec]: SAC computation took 0.1 [sec], which exceeds the maximum computation time allowed.\n",
      "└ @ RiskSensitiveSAC /home/kang/DRC_Project/DRC_Trajectron/src/rs_sac_controller.jl:733\n",
      "┌ Warning: Time 4.20 [sec]: This evaluation iteration took 0.101 [sec], which exceeds dtc.\n",
      "└ @ RiskSensitiveSAC /home/kang/DRC_Project/DRC_Trajectron/src/evaluation.jl:300\n"
     ]
    },
    {
     "name": "stderr",
     "output_type": "stream",
     "text": [
      "┌ Warning: Time 4.30 [sec]: This evaluation iteration took 0.083 [sec], which exceeds dtc.\n",
      "└ @ RiskSensitiveSAC /home/kang/DRC_Project/DRC_Trajectron/src/evaluation.jl:300\n"
     ]
    },
    {
     "name": "stderr",
     "output_type": "stream",
     "text": [
      "┌ Warning: Time 4.40 [sec]: SAC computation took 0.11 [sec], which exceeds the maximum computation time allowed.\n",
      "└ @ RiskSensitiveSAC /home/kang/DRC_Project/DRC_Trajectron/src/rs_sac_controller.jl:733\n",
      "┌ Warning: Time 4.40 [sec]: This evaluation iteration took 0.112 [sec], which exceeds dtc.\n",
      "└ @ RiskSensitiveSAC /home/kang/DRC_Project/DRC_Trajectron/src/evaluation.jl:300\n"
     ]
    },
    {
     "name": "stderr",
     "output_type": "stream",
     "text": [
      "┌ Warning: Time 4.50 [sec]: This evaluation iteration took 0.09 [sec], which exceeds dtc.\n",
      "└ @ RiskSensitiveSAC /home/kang/DRC_Project/DRC_Trajectron/src/evaluation.jl:300\n"
     ]
    },
    {
     "name": "stderr",
     "output_type": "stream",
     "text": [
      "┌ Warning: Time 4.60 [sec]: This evaluation iteration took 0.087 [sec], which exceeds dtc.\n",
      "└ @ RiskSensitiveSAC /home/kang/DRC_Project/DRC_Trajectron/src/evaluation.jl:300\n"
     ]
    },
    {
     "name": "stderr",
     "output_type": "stream",
     "text": [
      "┌ Warning: Time 4.70 [sec]: This evaluation iteration took 0.099 [sec], which exceeds dtc.\n",
      "└ @ RiskSensitiveSAC /home/kang/DRC_Project/DRC_Trajectron/src/evaluation.jl:300\n"
     ]
    },
    {
     "name": "stderr",
     "output_type": "stream",
     "text": [
      "┌ Warning: Time 4.80 [sec]: This evaluation iteration took 0.095 [sec], which exceeds dtc.\n",
      "└ @ RiskSensitiveSAC /home/kang/DRC_Project/DRC_Trajectron/src/evaluation.jl:300\n"
     ]
    },
    {
     "name": "stderr",
     "output_type": "stream",
     "text": [
      "┌ Warning: Time 4.90 [sec]: SAC computation took 0.11 [sec], which exceeds the maximum computation time allowed.\n",
      "└ @ RiskSensitiveSAC /home/kang/DRC_Project/DRC_Trajectron/src/rs_sac_controller.jl:733\n",
      "┌ Warning: Time 4.90 [sec]: This evaluation iteration took 0.111 [sec], which exceeds dtc.\n",
      "└ @ RiskSensitiveSAC /home/kang/DRC_Project/DRC_Trajectron/src/evaluation.jl:300\n"
     ]
    },
    {
     "name": "stderr",
     "output_type": "stream",
     "text": [
      "┌ Warning: Time 5.00 [sec]: This evaluation iteration took 0.084 [sec], which exceeds dtc.\n",
      "└ @ RiskSensitiveSAC /home/kang/DRC_Project/DRC_Trajectron/src/evaluation.jl:300\n"
     ]
    },
    {
     "name": "stderr",
     "output_type": "stream",
     "text": [
      "┌ Warning: Time 5.10 [sec]: This evaluation iteration took 0.09 [sec], which exceeds dtc.\n",
      "└ @ RiskSensitiveSAC /home/kang/DRC_Project/DRC_Trajectron/src/evaluation.jl:300\n"
     ]
    },
    {
     "name": "stderr",
     "output_type": "stream",
     "text": [
      "┌ Warning: Time 5.20 [sec]: SAC computation took 0.104 [sec], which exceeds the maximum computation time allowed.\n",
      "└ @ RiskSensitiveSAC /home/kang/DRC_Project/DRC_Trajectron/src/rs_sac_controller.jl:733\n",
      "┌ Warning: Time 5.20 [sec]: This evaluation iteration took 0.105 [sec], which exceeds dtc.\n",
      "└ @ RiskSensitiveSAC /home/kang/DRC_Project/DRC_Trajectron/src/evaluation.jl:300\n"
     ]
    },
    {
     "name": "stderr",
     "output_type": "stream",
     "text": [
      "┌ Warning: Time 5.30 [sec]: This evaluation iteration took 0.091 [sec], which exceeds dtc.\n",
      "└ @ RiskSensitiveSAC /home/kang/DRC_Project/DRC_Trajectron/src/evaluation.jl:300\n"
     ]
    },
    {
     "name": "stderr",
     "output_type": "stream",
     "text": [
      "┌ Warning: Time 5.40 [sec]: SAC computation took 0.103 [sec], which exceeds the maximum computation time allowed.\n",
      "└ @ RiskSensitiveSAC /home/kang/DRC_Project/DRC_Trajectron/src/rs_sac_controller.jl:733\n",
      "┌ Warning: Time 5.40 [sec]: This evaluation iteration took 0.104 [sec], which exceeds dtc.\n",
      "└ @ RiskSensitiveSAC /home/kang/DRC_Project/DRC_Trajectron/src/evaluation.jl:300\n"
     ]
    },
    {
     "name": "stderr",
     "output_type": "stream",
     "text": [
      "┌ Warning: Time 5.50 [sec]: This evaluation iteration took 0.091 [sec], which exceeds dtc.\n",
      "└ @ RiskSensitiveSAC /home/kang/DRC_Project/DRC_Trajectron/src/evaluation.jl:300\n"
     ]
    },
    {
     "name": "stderr",
     "output_type": "stream",
     "text": [
      "┌ Warning: Time 5.60 [sec]: This evaluation iteration took 0.087 [sec], which exceeds dtc.\n",
      "└ @ RiskSensitiveSAC /home/kang/DRC_Project/DRC_Trajectron/src/evaluation.jl:300\n"
     ]
    },
    {
     "name": "stderr",
     "output_type": "stream",
     "text": [
      "┌ Warning: Time 5.70 [sec]: SAC computation took 0.134 [sec], which exceeds the maximum computation time allowed.\n",
      "└ @ RiskSensitiveSAC /home/kang/DRC_Project/DRC_Trajectron/src/rs_sac_controller.jl:733\n",
      "┌ Warning: Time 5.70 [sec]: This evaluation iteration took 0.135 [sec], which exceeds dtc.\n",
      "└ @ RiskSensitiveSAC /home/kang/DRC_Project/DRC_Trajectron/src/evaluation.jl:300\n"
     ]
    },
    {
     "name": "stderr",
     "output_type": "stream",
     "text": [
      "┌ Warning: Time 5.80 [sec]: This evaluation iteration took 0.085 [sec], which exceeds dtc.\n",
      "└ @ RiskSensitiveSAC /home/kang/DRC_Project/DRC_Trajectron/src/evaluation.jl:300\n"
     ]
    },
    {
     "name": "stderr",
     "output_type": "stream",
     "text": [
      "┌ Warning: Time 5.90 [sec]: This evaluation iteration took 0.092 [sec], which exceeds dtc.\n",
      "└ @ RiskSensitiveSAC /home/kang/DRC_Project/DRC_Trajectron/src/evaluation.jl:300\n"
     ]
    },
    {
     "name": "stderr",
     "output_type": "stream",
     "text": [
      "┌ Warning: Time 6.00 [sec]: This evaluation iteration took 0.096 [sec], which exceeds dtc.\n",
      "└ @ RiskSensitiveSAC /home/kang/DRC_Project/DRC_Trajectron/src/evaluation.jl:300\n"
     ]
    },
    {
     "name": "stderr",
     "output_type": "stream",
     "text": [
      "┌ Warning: Time 6.10 [sec]: This evaluation iteration took 0.083 [sec], which exceeds dtc.\n",
      "└ @ RiskSensitiveSAC /home/kang/DRC_Project/DRC_Trajectron/src/evaluation.jl:300\n"
     ]
    },
    {
     "name": "stderr",
     "output_type": "stream",
     "text": [
      "┌ Warning: Time 6.20 [sec]: SAC computation took 0.111 [sec], which exceeds the maximum computation time allowed.\n",
      "└ @ RiskSensitiveSAC /home/kang/DRC_Project/DRC_Trajectron/src/rs_sac_controller.jl:733\n",
      "┌ Warning: Time 6.20 [sec]: This evaluation iteration took 0.111 [sec], which exceeds dtc.\n",
      "└ @ RiskSensitiveSAC /home/kang/DRC_Project/DRC_Trajectron/src/evaluation.jl:300\n"
     ]
    },
    {
     "name": "stderr",
     "output_type": "stream",
     "text": [
      "┌ Warning: Time 6.30 [sec]: This evaluation iteration took 0.09 [sec], which exceeds dtc.\n",
      "└ @ RiskSensitiveSAC /home/kang/DRC_Project/DRC_Trajectron/src/evaluation.jl:300\n"
     ]
    },
    {
     "name": "stderr",
     "output_type": "stream",
     "text": [
      "┌ Warning: Time 6.40 [sec]: SAC computation took 0.105 [sec], which exceeds the maximum computation time allowed.\n",
      "└ @ RiskSensitiveSAC /home/kang/DRC_Project/DRC_Trajectron/src/rs_sac_controller.jl:733\n",
      "┌ Warning: Time 6.40 [sec]: This evaluation iteration took 0.106 [sec], which exceeds dtc.\n",
      "└ @ RiskSensitiveSAC /home/kang/DRC_Project/DRC_Trajectron/src/evaluation.jl:300\n"
     ]
    },
    {
     "name": "stderr",
     "output_type": "stream",
     "text": [
      "┌ Warning: Time 6.50 [sec]: SAC computation took 0.102 [sec], which exceeds the maximum computation time allowed.\n",
      "└ @ RiskSensitiveSAC /home/kang/DRC_Project/DRC_Trajectron/src/rs_sac_controller.jl:733\n",
      "┌ Warning: Time 6.50 [sec]: This evaluation iteration took 0.103 [sec], which exceeds dtc.\n",
      "└ @ RiskSensitiveSAC /home/kang/DRC_Project/DRC_Trajectron/src/evaluation.jl:300\n"
     ]
    },
    {
     "name": "stderr",
     "output_type": "stream",
     "text": [
      "┌ Warning: Time 6.60 [sec]: This evaluation iteration took 0.093 [sec], which exceeds dtc.\n",
      "└ @ RiskSensitiveSAC /home/kang/DRC_Project/DRC_Trajectron/src/evaluation.jl:300\n"
     ]
    },
    {
     "name": "stderr",
     "output_type": "stream",
     "text": [
      "┌ Warning: Time 6.70 [sec]: SAC computation took 0.109 [sec], which exceeds the maximum computation time allowed.\n",
      "└ @ RiskSensitiveSAC /home/kang/DRC_Project/DRC_Trajectron/src/rs_sac_controller.jl:733\n",
      "┌ Warning: Time 6.70 [sec]: This evaluation iteration took 0.109 [sec], which exceeds dtc.\n",
      "└ @ RiskSensitiveSAC /home/kang/DRC_Project/DRC_Trajectron/src/evaluation.jl:300\n"
     ]
    },
    {
     "name": "stderr",
     "output_type": "stream",
     "text": [
      "┌ Warning: Time 6.80 [sec]: This evaluation iteration took 0.091 [sec], which exceeds dtc.\n",
      "└ @ RiskSensitiveSAC /home/kang/DRC_Project/DRC_Trajectron/src/evaluation.jl:300\n"
     ]
    },
    {
     "name": "stderr",
     "output_type": "stream",
     "text": [
      "┌ Warning: Time 6.90 [sec]: This evaluation iteration took 0.086 [sec], which exceeds dtc.\n",
      "└ @ RiskSensitiveSAC /home/kang/DRC_Project/DRC_Trajectron/src/evaluation.jl:300\n"
     ]
    },
    {
     "name": "stderr",
     "output_type": "stream",
     "text": [
      "┌ Warning: Time 7.00 [sec]: SAC computation took 0.107 [sec], which exceeds the maximum computation time allowed.\n",
      "└ @ RiskSensitiveSAC /home/kang/DRC_Project/DRC_Trajectron/src/rs_sac_controller.jl:733\n",
      "┌ Warning: Time 7.00 [sec]: This evaluation iteration took 0.108 [sec], which exceeds dtc.\n",
      "└ @ RiskSensitiveSAC /home/kang/DRC_Project/DRC_Trajectron/src/evaluation.jl:300\n"
     ]
    },
    {
     "name": "stderr",
     "output_type": "stream",
     "text": [
      "┌ Warning: Time 7.10 [sec]: This evaluation iteration took 0.095 [sec], which exceeds dtc.\n",
      "└ @ RiskSensitiveSAC /home/kang/DRC_Project/DRC_Trajectron/src/evaluation.jl:300\n"
     ]
    },
    {
     "name": "stderr",
     "output_type": "stream",
     "text": [
      "┌ Warning: Time 7.20 [sec]: SAC computation took 0.12 [sec], which exceeds the maximum computation time allowed.\n",
      "└ @ RiskSensitiveSAC /home/kang/DRC_Project/DRC_Trajectron/src/rs_sac_controller.jl:733\n",
      "┌ Warning: Time 7.20 [sec]: This evaluation iteration took 0.121 [sec], which exceeds dtc.\n",
      "└ @ RiskSensitiveSAC /home/kang/DRC_Project/DRC_Trajectron/src/evaluation.jl:300\n"
     ]
    },
    {
     "name": "stderr",
     "output_type": "stream",
     "text": [
      "┌ Warning: Time 7.30 [sec]: SAC computation took 0.124 [sec], which exceeds the maximum computation time allowed.\n",
      "└ @ RiskSensitiveSAC /home/kang/DRC_Project/DRC_Trajectron/src/rs_sac_controller.jl:733\n",
      "┌ Warning: Time 7.30 [sec]: This evaluation iteration took 0.125 [sec], which exceeds dtc.\n",
      "└ @ RiskSensitiveSAC /home/kang/DRC_Project/DRC_Trajectron/src/evaluation.jl:300\n"
     ]
    },
    {
     "name": "stderr",
     "output_type": "stream",
     "text": [
      "┌ Warning: Time 7.40 [sec]: This evaluation iteration took 0.085 [sec], which exceeds dtc.\n",
      "└ @ RiskSensitiveSAC /home/kang/DRC_Project/DRC_Trajectron/src/evaluation.jl:300\n"
     ]
    },
    {
     "name": "stderr",
     "output_type": "stream",
     "text": [
      "┌ Warning: Time 7.50 [sec]: This evaluation iteration took 0.089 [sec], which exceeds dtc.\n",
      "└ @ RiskSensitiveSAC /home/kang/DRC_Project/DRC_Trajectron/src/evaluation.jl:300\n"
     ]
    },
    {
     "name": "stderr",
     "output_type": "stream",
     "text": [
      "┌ Warning: Time 7.60 [sec]: This evaluation iteration took 0.088 [sec], which exceeds dtc.\n",
      "└ @ RiskSensitiveSAC /home/kang/DRC_Project/DRC_Trajectron/src/evaluation.jl:300\n"
     ]
    },
    {
     "name": "stderr",
     "output_type": "stream",
     "text": [
      "┌ Warning: Time 7.70 [sec]: This evaluation iteration took 0.081 [sec], which exceeds dtc.\n",
      "└ @ RiskSensitiveSAC /home/kang/DRC_Project/DRC_Trajectron/src/evaluation.jl:300\n"
     ]
    },
    {
     "name": "stderr",
     "output_type": "stream",
     "text": [
      "┌ Warning: Time 7.80 [sec]: SAC computation took 0.101 [sec], which exceeds the maximum computation time allowed.\n",
      "└ @ RiskSensitiveSAC /home/kang/DRC_Project/DRC_Trajectron/src/rs_sac_controller.jl:733\n",
      "┌ Warning: Time 7.80 [sec]: This evaluation iteration took 0.101 [sec], which exceeds dtc.\n",
      "└ @ RiskSensitiveSAC /home/kang/DRC_Project/DRC_Trajectron/src/evaluation.jl:300\n"
     ]
    },
    {
     "name": "stderr",
     "output_type": "stream",
     "text": [
      "┌ Warning: Time 7.90 [sec]: This evaluation iteration took 0.087 [sec], which exceeds dtc.\n",
      "└ @ RiskSensitiveSAC /home/kang/DRC_Project/DRC_Trajectron/src/evaluation.jl:300\n"
     ]
    },
    {
     "name": "stderr",
     "output_type": "stream",
     "text": [
      "┌ Warning: Time 8.00 [sec]: This evaluation iteration took 0.085 [sec], which exceeds dtc.\n",
      "└ @ RiskSensitiveSAC /home/kang/DRC_Project/DRC_Trajectron/src/evaluation.jl:300\n"
     ]
    },
    {
     "name": "stderr",
     "output_type": "stream",
     "text": [
      "┌ Warning: Time 8.10 [sec]: This evaluation iteration took 0.089 [sec], which exceeds dtc.\n",
      "└ @ RiskSensitiveSAC /home/kang/DRC_Project/DRC_Trajectron/src/evaluation.jl:300\n"
     ]
    },
    {
     "name": "stderr",
     "output_type": "stream",
     "text": [
      "┌ Warning: Time 8.20 [sec]: This evaluation iteration took 0.088 [sec], which exceeds dtc.\n",
      "└ @ RiskSensitiveSAC /home/kang/DRC_Project/DRC_Trajectron/src/evaluation.jl:300\n"
     ]
    },
    {
     "name": "stderr",
     "output_type": "stream",
     "text": [
      "┌ Warning: Time 8.30 [sec]: This evaluation iteration took 0.091 [sec], which exceeds dtc.\n",
      "└ @ RiskSensitiveSAC /home/kang/DRC_Project/DRC_Trajectron/src/evaluation.jl:300\n"
     ]
    },
    {
     "name": "stderr",
     "output_type": "stream",
     "text": [
      "┌ Warning: Time 8.40 [sec]: This evaluation iteration took 0.084 [sec], which exceeds dtc.\n",
      "└ @ RiskSensitiveSAC /home/kang/DRC_Project/DRC_Trajectron/src/evaluation.jl:300\n"
     ]
    },
    {
     "name": "stderr",
     "output_type": "stream",
     "text": [
      "┌ Warning: Time 8.50 [sec]: This evaluation iteration took 0.09 [sec], which exceeds dtc.\n",
      "└ @ RiskSensitiveSAC /home/kang/DRC_Project/DRC_Trajectron/src/evaluation.jl:300\n"
     ]
    },
    {
     "name": "stderr",
     "output_type": "stream",
     "text": [
      "┌ Warning: Time 8.60 [sec]: This evaluation iteration took 0.091 [sec], which exceeds dtc.\n",
      "└ @ RiskSensitiveSAC /home/kang/DRC_Project/DRC_Trajectron/src/evaluation.jl:300\n"
     ]
    },
    {
     "name": "stderr",
     "output_type": "stream",
     "text": [
      "┌ Warning: Time 8.70 [sec]: This evaluation iteration took 0.091 [sec], which exceeds dtc.\n",
      "└ @ RiskSensitiveSAC /home/kang/DRC_Project/DRC_Trajectron/src/evaluation.jl:300\n"
     ]
    },
    {
     "name": "stderr",
     "output_type": "stream",
     "text": [
      "┌ Warning: Time 8.80 [sec]: This evaluation iteration took 0.085 [sec], which exceeds dtc.\n",
      "└ @ RiskSensitiveSAC /home/kang/DRC_Project/DRC_Trajectron/src/evaluation.jl:300\n"
     ]
    },
    {
     "name": "stderr",
     "output_type": "stream",
     "text": [
      "┌ Warning: Time 8.90 [sec]: This evaluation iteration took 0.089 [sec], which exceeds dtc.\n",
      "└ @ RiskSensitiveSAC /home/kang/DRC_Project/DRC_Trajectron/src/evaluation.jl:300\n"
     ]
    },
    {
     "name": "stderr",
     "output_type": "stream",
     "text": [
      "┌ Warning: Time 9.00 [sec]: SAC computation took 0.13 [sec], which exceeds the maximum computation time allowed.\n",
      "└ @ RiskSensitiveSAC /home/kang/DRC_Project/DRC_Trajectron/src/rs_sac_controller.jl:733\n",
      "┌ Warning: Time 9.00 [sec]: This evaluation iteration took 0.13 [sec], which exceeds dtc.\n",
      "└ @ RiskSensitiveSAC /home/kang/DRC_Project/DRC_Trajectron/src/evaluation.jl:300\n"
     ]
    },
    {
     "name": "stderr",
     "output_type": "stream",
     "text": [
      "┌ Warning: Time 9.10 [sec]: This evaluation iteration took 0.088 [sec], which exceeds dtc.\n",
      "└ @ RiskSensitiveSAC /home/kang/DRC_Project/DRC_Trajectron/src/evaluation.jl:300\n"
     ]
    },
    {
     "name": "stderr",
     "output_type": "stream",
     "text": [
      "┌ Warning: Time 9.20 [sec]: This evaluation iteration took 0.101 [sec], which exceeds dtc.\n",
      "└ @ RiskSensitiveSAC /home/kang/DRC_Project/DRC_Trajectron/src/evaluation.jl:300\n"
     ]
    },
    {
     "name": "stderr",
     "output_type": "stream",
     "text": [
      "┌ Warning: Time 9.30 [sec]: This evaluation iteration took 0.079 [sec], which exceeds dtc.\n",
      "└ @ RiskSensitiveSAC /home/kang/DRC_Project/DRC_Trajectron/src/evaluation.jl:300\n"
     ]
    },
    {
     "name": "stderr",
     "output_type": "stream",
     "text": [
      "┌ Warning: Time 9.40 [sec]: This evaluation iteration took 0.08 [sec], which exceeds dtc.\n",
      "└ @ RiskSensitiveSAC /home/kang/DRC_Project/DRC_Trajectron/src/evaluation.jl:300\n"
     ]
    },
    {
     "name": "stderr",
     "output_type": "stream",
     "text": [
      "┌ Warning: Time 9.50 [sec]: This evaluation iteration took 0.093 [sec], which exceeds dtc.\n",
      "└ @ RiskSensitiveSAC /home/kang/DRC_Project/DRC_Trajectron/src/evaluation.jl:300\n"
     ]
    },
    {
     "name": "stderr",
     "output_type": "stream",
     "text": [
      "┌ Warning: Time 9.60 [sec]: SAC computation took 0.113 [sec], which exceeds the maximum computation time allowed.\n",
      "└ @ RiskSensitiveSAC /home/kang/DRC_Project/DRC_Trajectron/src/rs_sac_controller.jl:733\n",
      "┌ Warning: Time 9.60 [sec]: This evaluation iteration took 0.114 [sec], which exceeds dtc.\n",
      "└ @ RiskSensitiveSAC /home/kang/DRC_Project/DRC_Trajectron/src/evaluation.jl:300\n"
     ]
    },
    {
     "name": "stderr",
     "output_type": "stream",
     "text": [
      "┌ Warning: Time 9.70 [sec]: SAC computation took 0.118 [sec], which exceeds the maximum computation time allowed.\n",
      "└ @ RiskSensitiveSAC /home/kang/DRC_Project/DRC_Trajectron/src/rs_sac_controller.jl:733\n",
      "┌ Warning: Time 9.70 [sec]: This evaluation iteration took 0.119 [sec], which exceeds dtc.\n",
      "└ @ RiskSensitiveSAC /home/kang/DRC_Project/DRC_Trajectron/src/evaluation.jl:300\n"
     ]
    },
    {
     "name": "stderr",
     "output_type": "stream",
     "text": [
      "┌ Warning: Time 9.80 [sec]: SAC computation took 0.119 [sec], which exceeds the maximum computation time allowed.\n",
      "└ @ RiskSensitiveSAC /home/kang/DRC_Project/DRC_Trajectron/src/rs_sac_controller.jl:733\n",
      "┌ Warning: Time 9.80 [sec]: This evaluation iteration took 0.12 [sec], which exceeds dtc.\n",
      "└ @ RiskSensitiveSAC /home/kang/DRC_Project/DRC_Trajectron/src/evaluation.jl:300\n"
     ]
    },
    {
     "name": "stderr",
     "output_type": "stream",
     "text": [
      "┌ Warning: Time 9.90 [sec]: SAC computation took 0.127 [sec], which exceeds the maximum computation time allowed.\n",
      "└ @ RiskSensitiveSAC /home/kang/DRC_Project/DRC_Trajectron/src/rs_sac_controller.jl:733\n",
      "┌ Warning: Time 9.90 [sec]: This evaluation iteration took 0.128 [sec], which exceeds dtc.\n",
      "└ @ RiskSensitiveSAC /home/kang/DRC_Project/DRC_Trajectron/src/evaluation.jl:300\n"
     ]
    },
    {
     "name": "stdout",
     "output_type": "stream",
     "text": [
      "Total Collision: 0, Total Position Cost: 76.70411968931094, Total Control Cost: 1.9548680309955846, Minimum Distance: 1.087824594578775, Experiment 11: "
     ]
    },
    {
     "name": "stderr",
     "output_type": "stream",
     "text": [
      "┌ Warning: Time 0.00 [sec]: SAC computation took 0.113 [sec], which exceeds the maximum computation time allowed.\n",
      "└ @ RiskSensitiveSAC /home/kang/DRC_Project/DRC_Trajectron/src/rs_sac_controller.jl:733\n"
     ]
    },
    {
     "name": "stderr",
     "output_type": "stream",
     "text": [
      "┌ Warning: Time 0.10 [sec]: SAC computation took 0.136 [sec], which exceeds the maximum computation time allowed.\n",
      "└ @ RiskSensitiveSAC /home/kang/DRC_Project/DRC_Trajectron/src/rs_sac_controller.jl:733\n",
      "┌ Warning: Time 0.10 [sec]: This evaluation iteration took 0.137 [sec], which exceeds dtc.\n",
      "└ @ RiskSensitiveSAC /home/kang/DRC_Project/DRC_Trajectron/src/evaluation.jl:300\n"
     ]
    },
    {
     "name": "stderr",
     "output_type": "stream",
     "text": [
      "┌ Warning: Time 0.20 [sec]: SAC computation took 0.112 [sec], which exceeds the maximum computation time allowed.\n",
      "└ @ RiskSensitiveSAC /home/kang/DRC_Project/DRC_Trajectron/src/rs_sac_controller.jl:733\n",
      "┌ Warning: Time 0.20 [sec]: This evaluation iteration took 0.113 [sec], which exceeds dtc.\n",
      "└ @ RiskSensitiveSAC /home/kang/DRC_Project/DRC_Trajectron/src/evaluation.jl:300\n"
     ]
    },
    {
     "name": "stderr",
     "output_type": "stream",
     "text": [
      "┌ Warning: Time 0.30 [sec]: This evaluation iteration took 0.1 [sec], which exceeds dtc.\n",
      "└ @ RiskSensitiveSAC /home/kang/DRC_Project/DRC_Trajectron/src/evaluation.jl:300\n"
     ]
    },
    {
     "name": "stderr",
     "output_type": "stream",
     "text": [
      "┌ Warning: Time 0.40 [sec]: This evaluation iteration took 0.087 [sec], which exceeds dtc.\n",
      "└ @ RiskSensitiveSAC /home/kang/DRC_Project/DRC_Trajectron/src/evaluation.jl:300\n"
     ]
    },
    {
     "name": "stderr",
     "output_type": "stream",
     "text": [
      "┌ Warning: Time 0.50 [sec]: This evaluation iteration took 0.097 [sec], which exceeds dtc.\n",
      "└ @ RiskSensitiveSAC /home/kang/DRC_Project/DRC_Trajectron/src/evaluation.jl:300\n"
     ]
    },
    {
     "name": "stderr",
     "output_type": "stream",
     "text": [
      "┌ Warning: Time 0.60 [sec]: This evaluation iteration took 0.095 [sec], which exceeds dtc.\n",
      "└ @ RiskSensitiveSAC /home/kang/DRC_Project/DRC_Trajectron/src/evaluation.jl:300\n"
     ]
    },
    {
     "name": "stderr",
     "output_type": "stream",
     "text": [
      "┌ Warning: Time 0.70 [sec]: SAC computation took 0.164 [sec], which exceeds the maximum computation time allowed.\n",
      "└ @ RiskSensitiveSAC /home/kang/DRC_Project/DRC_Trajectron/src/rs_sac_controller.jl:733\n",
      "┌ Warning: Time 0.70 [sec]: This evaluation iteration took 0.164 [sec], which exceeds dtc.\n",
      "└ @ RiskSensitiveSAC /home/kang/DRC_Project/DRC_Trajectron/src/evaluation.jl:300\n"
     ]
    },
    {
     "name": "stderr",
     "output_type": "stream",
     "text": [
      "┌ Warning: Time 0.80 [sec]: SAC computation took 0.125 [sec], which exceeds the maximum computation time allowed.\n",
      "└ @ RiskSensitiveSAC /home/kang/DRC_Project/DRC_Trajectron/src/rs_sac_controller.jl:733\n",
      "┌ Warning: Time 0.80 [sec]: This evaluation iteration took 0.126 [sec], which exceeds dtc.\n",
      "└ @ RiskSensitiveSAC /home/kang/DRC_Project/DRC_Trajectron/src/evaluation.jl:300\n"
     ]
    },
    {
     "name": "stderr",
     "output_type": "stream",
     "text": [
      "┌ Warning: Time 0.90 [sec]: SAC computation took 0.118 [sec], which exceeds the maximum computation time allowed.\n",
      "└ @ RiskSensitiveSAC /home/kang/DRC_Project/DRC_Trajectron/src/rs_sac_controller.jl:733\n",
      "┌ Warning: Time 0.90 [sec]: This evaluation iteration took 0.118 [sec], which exceeds dtc.\n",
      "└ @ RiskSensitiveSAC /home/kang/DRC_Project/DRC_Trajectron/src/evaluation.jl:300\n"
     ]
    },
    {
     "name": "stderr",
     "output_type": "stream",
     "text": [
      "┌ Warning: Time 1.00 [sec]: SAC computation took 0.121 [sec], which exceeds the maximum computation time allowed.\n",
      "└ @ RiskSensitiveSAC /home/kang/DRC_Project/DRC_Trajectron/src/rs_sac_controller.jl:733\n",
      "┌ Warning: Time 1.00 [sec]: This evaluation iteration took 0.121 [sec], which exceeds dtc.\n",
      "└ @ RiskSensitiveSAC /home/kang/DRC_Project/DRC_Trajectron/src/evaluation.jl:300\n"
     ]
    },
    {
     "name": "stderr",
     "output_type": "stream",
     "text": [
      "┌ Warning: Time 1.10 [sec]: This evaluation iteration took 0.093 [sec], which exceeds dtc.\n",
      "└ @ RiskSensitiveSAC /home/kang/DRC_Project/DRC_Trajectron/src/evaluation.jl:300\n"
     ]
    },
    {
     "name": "stderr",
     "output_type": "stream",
     "text": [
      "┌ Warning: Time 1.20 [sec]: This evaluation iteration took 0.089 [sec], which exceeds dtc.\n",
      "└ @ RiskSensitiveSAC /home/kang/DRC_Project/DRC_Trajectron/src/evaluation.jl:300\n"
     ]
    },
    {
     "name": "stderr",
     "output_type": "stream",
     "text": [
      "┌ Warning: Time 1.30 [sec]: This evaluation iteration took 0.081 [sec], which exceeds dtc.\n",
      "└ @ RiskSensitiveSAC /home/kang/DRC_Project/DRC_Trajectron/src/evaluation.jl:300\n"
     ]
    },
    {
     "name": "stderr",
     "output_type": "stream",
     "text": [
      "┌ Warning: Time 1.40 [sec]: SAC computation took 0.107 [sec], which exceeds the maximum computation time allowed.\n",
      "└ @ RiskSensitiveSAC /home/kang/DRC_Project/DRC_Trajectron/src/rs_sac_controller.jl:733\n",
      "┌ Warning: Time 1.40 [sec]: This evaluation iteration took 0.108 [sec], which exceeds dtc.\n",
      "└ @ RiskSensitiveSAC /home/kang/DRC_Project/DRC_Trajectron/src/evaluation.jl:300\n"
     ]
    },
    {
     "name": "stderr",
     "output_type": "stream",
     "text": [
      "┌ Warning: Time 1.50 [sec]: SAC computation took 0.103 [sec], which exceeds the maximum computation time allowed.\n",
      "└ @ RiskSensitiveSAC /home/kang/DRC_Project/DRC_Trajectron/src/rs_sac_controller.jl:733\n",
      "┌ Warning: Time 1.50 [sec]: This evaluation iteration took 0.103 [sec], which exceeds dtc.\n",
      "└ @ RiskSensitiveSAC /home/kang/DRC_Project/DRC_Trajectron/src/evaluation.jl:300\n"
     ]
    },
    {
     "name": "stderr",
     "output_type": "stream",
     "text": [
      "┌ Warning: Time 1.60 [sec]: SAC computation took 0.118 [sec], which exceeds the maximum computation time allowed.\n",
      "└ @ RiskSensitiveSAC /home/kang/DRC_Project/DRC_Trajectron/src/rs_sac_controller.jl:733\n",
      "┌ Warning: Time 1.60 [sec]: This evaluation iteration took 0.119 [sec], which exceeds dtc.\n",
      "└ @ RiskSensitiveSAC /home/kang/DRC_Project/DRC_Trajectron/src/evaluation.jl:300\n"
     ]
    },
    {
     "name": "stderr",
     "output_type": "stream",
     "text": [
      "┌ Warning: Time 1.70 [sec]: SAC computation took 0.111 [sec], which exceeds the maximum computation time allowed.\n",
      "└ @ RiskSensitiveSAC /home/kang/DRC_Project/DRC_Trajectron/src/rs_sac_controller.jl:733\n",
      "┌ Warning: Time 1.70 [sec]: This evaluation iteration took 0.112 [sec], which exceeds dtc.\n",
      "└ @ RiskSensitiveSAC /home/kang/DRC_Project/DRC_Trajectron/src/evaluation.jl:300\n"
     ]
    },
    {
     "name": "stderr",
     "output_type": "stream",
     "text": [
      "┌ Warning: Time 1.80 [sec]: This evaluation iteration took 0.094 [sec], which exceeds dtc.\n",
      "└ @ RiskSensitiveSAC /home/kang/DRC_Project/DRC_Trajectron/src/evaluation.jl:300\n"
     ]
    },
    {
     "name": "stderr",
     "output_type": "stream",
     "text": [
      "┌ Warning: Time 1.90 [sec]: This evaluation iteration took 0.084 [sec], which exceeds dtc.\n",
      "└ @ RiskSensitiveSAC /home/kang/DRC_Project/DRC_Trajectron/src/evaluation.jl:300\n"
     ]
    },
    {
     "name": "stderr",
     "output_type": "stream",
     "text": [
      "┌ Warning: Time 2.00 [sec]: This evaluation iteration took 0.097 [sec], which exceeds dtc.\n",
      "└ @ RiskSensitiveSAC /home/kang/DRC_Project/DRC_Trajectron/src/evaluation.jl:300\n"
     ]
    },
    {
     "name": "stderr",
     "output_type": "stream",
     "text": [
      "┌ Warning: Time 2.10 [sec]: This evaluation iteration took 0.089 [sec], which exceeds dtc.\n",
      "└ @ RiskSensitiveSAC /home/kang/DRC_Project/DRC_Trajectron/src/evaluation.jl:300\n"
     ]
    },
    {
     "name": "stderr",
     "output_type": "stream",
     "text": [
      "┌ Warning: Time 2.20 [sec]: This evaluation iteration took 0.094 [sec], which exceeds dtc.\n",
      "└ @ RiskSensitiveSAC /home/kang/DRC_Project/DRC_Trajectron/src/evaluation.jl:300\n"
     ]
    },
    {
     "name": "stderr",
     "output_type": "stream",
     "text": [
      "┌ Warning: Time 2.30 [sec]: This evaluation iteration took 0.088 [sec], which exceeds dtc.\n",
      "└ @ RiskSensitiveSAC /home/kang/DRC_Project/DRC_Trajectron/src/evaluation.jl:300\n"
     ]
    },
    {
     "name": "stderr",
     "output_type": "stream",
     "text": [
      "┌ Warning: Time 2.40 [sec]: This evaluation iteration took 0.095 [sec], which exceeds dtc.\n",
      "└ @ RiskSensitiveSAC /home/kang/DRC_Project/DRC_Trajectron/src/evaluation.jl:300\n"
     ]
    },
    {
     "name": "stderr",
     "output_type": "stream",
     "text": [
      "┌ Warning: Time 2.50 [sec]: SAC computation took 0.122 [sec], which exceeds the maximum computation time allowed.\n",
      "└ @ RiskSensitiveSAC /home/kang/DRC_Project/DRC_Trajectron/src/rs_sac_controller.jl:733\n",
      "┌ Warning: Time 2.50 [sec]: This evaluation iteration took 0.122 [sec], which exceeds dtc.\n",
      "└ @ RiskSensitiveSAC /home/kang/DRC_Project/DRC_Trajectron/src/evaluation.jl:300\n"
     ]
    },
    {
     "name": "stderr",
     "output_type": "stream",
     "text": [
      "┌ Warning: Time 2.60 [sec]: This evaluation iteration took 0.088 [sec], which exceeds dtc.\n",
      "└ @ RiskSensitiveSAC /home/kang/DRC_Project/DRC_Trajectron/src/evaluation.jl:300\n"
     ]
    },
    {
     "name": "stderr",
     "output_type": "stream",
     "text": [
      "┌ Warning: Time 2.70 [sec]: This evaluation iteration took 0.089 [sec], which exceeds dtc.\n",
      "└ @ RiskSensitiveSAC /home/kang/DRC_Project/DRC_Trajectron/src/evaluation.jl:300\n"
     ]
    },
    {
     "name": "stderr",
     "output_type": "stream",
     "text": [
      "┌ Warning: Time 2.80 [sec]: This evaluation iteration took 0.092 [sec], which exceeds dtc.\n",
      "└ @ RiskSensitiveSAC /home/kang/DRC_Project/DRC_Trajectron/src/evaluation.jl:300\n"
     ]
    },
    {
     "name": "stderr",
     "output_type": "stream",
     "text": [
      "┌ Warning: Time 2.90 [sec]: SAC computation took 0.112 [sec], which exceeds the maximum computation time allowed.\n",
      "└ @ RiskSensitiveSAC /home/kang/DRC_Project/DRC_Trajectron/src/rs_sac_controller.jl:733\n",
      "┌ Warning: Time 2.90 [sec]: This evaluation iteration took 0.113 [sec], which exceeds dtc.\n",
      "└ @ RiskSensitiveSAC /home/kang/DRC_Project/DRC_Trajectron/src/evaluation.jl:300\n"
     ]
    },
    {
     "name": "stderr",
     "output_type": "stream",
     "text": [
      "┌ Warning: Time 3.00 [sec]: SAC computation took 0.106 [sec], which exceeds the maximum computation time allowed.\n",
      "└ @ RiskSensitiveSAC /home/kang/DRC_Project/DRC_Trajectron/src/rs_sac_controller.jl:733\n",
      "┌ Warning: Time 3.00 [sec]: This evaluation iteration took 0.106 [sec], which exceeds dtc.\n",
      "└ @ RiskSensitiveSAC /home/kang/DRC_Project/DRC_Trajectron/src/evaluation.jl:300\n"
     ]
    },
    {
     "name": "stderr",
     "output_type": "stream",
     "text": [
      "┌ Warning: Time 3.10 [sec]: SAC computation took 0.124 [sec], which exceeds the maximum computation time allowed.\n",
      "└ @ RiskSensitiveSAC /home/kang/DRC_Project/DRC_Trajectron/src/rs_sac_controller.jl:733\n",
      "┌ Warning: Time 3.10 [sec]: This evaluation iteration took 0.125 [sec], which exceeds dtc.\n",
      "└ @ RiskSensitiveSAC /home/kang/DRC_Project/DRC_Trajectron/src/evaluation.jl:300\n"
     ]
    },
    {
     "name": "stderr",
     "output_type": "stream",
     "text": [
      "┌ Warning: Time 3.20 [sec]: SAC computation took 0.122 [sec], which exceeds the maximum computation time allowed.\n",
      "└ @ RiskSensitiveSAC /home/kang/DRC_Project/DRC_Trajectron/src/rs_sac_controller.jl:733\n",
      "┌ Warning: Time 3.20 [sec]: This evaluation iteration took 0.123 [sec], which exceeds dtc.\n",
      "└ @ RiskSensitiveSAC /home/kang/DRC_Project/DRC_Trajectron/src/evaluation.jl:300\n"
     ]
    },
    {
     "name": "stderr",
     "output_type": "stream",
     "text": [
      "┌ Warning: Time 3.30 [sec]: SAC computation took 0.117 [sec], which exceeds the maximum computation time allowed.\n",
      "└ @ RiskSensitiveSAC /home/kang/DRC_Project/DRC_Trajectron/src/rs_sac_controller.jl:733\n",
      "┌ Warning: Time 3.30 [sec]: This evaluation iteration took 0.118 [sec], which exceeds dtc.\n",
      "└ @ RiskSensitiveSAC /home/kang/DRC_Project/DRC_Trajectron/src/evaluation.jl:300\n"
     ]
    },
    {
     "name": "stderr",
     "output_type": "stream",
     "text": [
      "┌ Warning: Time 3.40 [sec]: SAC computation took 0.114 [sec], which exceeds the maximum computation time allowed.\n",
      "└ @ RiskSensitiveSAC /home/kang/DRC_Project/DRC_Trajectron/src/rs_sac_controller.jl:733\n",
      "┌ Warning: Time 3.40 [sec]: This evaluation iteration took 0.115 [sec], which exceeds dtc.\n",
      "└ @ RiskSensitiveSAC /home/kang/DRC_Project/DRC_Trajectron/src/evaluation.jl:300\n"
     ]
    },
    {
     "name": "stderr",
     "output_type": "stream",
     "text": [
      "┌ Warning: Time 3.50 [sec]: SAC computation took 0.115 [sec], which exceeds the maximum computation time allowed.\n",
      "└ @ RiskSensitiveSAC /home/kang/DRC_Project/DRC_Trajectron/src/rs_sac_controller.jl:733\n",
      "┌ Warning: Time 3.50 [sec]: This evaluation iteration took 0.116 [sec], which exceeds dtc.\n",
      "└ @ RiskSensitiveSAC /home/kang/DRC_Project/DRC_Trajectron/src/evaluation.jl:300\n"
     ]
    },
    {
     "name": "stderr",
     "output_type": "stream",
     "text": [
      "┌ Warning: Time 3.60 [sec]: SAC computation took 0.118 [sec], which exceeds the maximum computation time allowed.\n",
      "└ @ RiskSensitiveSAC /home/kang/DRC_Project/DRC_Trajectron/src/rs_sac_controller.jl:733\n",
      "┌ Warning: Time 3.60 [sec]: This evaluation iteration took 0.119 [sec], which exceeds dtc.\n",
      "└ @ RiskSensitiveSAC /home/kang/DRC_Project/DRC_Trajectron/src/evaluation.jl:300\n"
     ]
    },
    {
     "name": "stderr",
     "output_type": "stream",
     "text": [
      "┌ Warning: Time 3.70 [sec]: SAC computation took 0.11 [sec], which exceeds the maximum computation time allowed.\n",
      "└ @ RiskSensitiveSAC /home/kang/DRC_Project/DRC_Trajectron/src/rs_sac_controller.jl:733\n",
      "┌ Warning: Time 3.70 [sec]: This evaluation iteration took 0.111 [sec], which exceeds dtc.\n",
      "└ @ RiskSensitiveSAC /home/kang/DRC_Project/DRC_Trajectron/src/evaluation.jl:300\n"
     ]
    },
    {
     "name": "stderr",
     "output_type": "stream",
     "text": [
      "┌ Warning: Time 3.80 [sec]: SAC computation took 0.117 [sec], which exceeds the maximum computation time allowed.\n",
      "└ @ RiskSensitiveSAC /home/kang/DRC_Project/DRC_Trajectron/src/rs_sac_controller.jl:733\n",
      "┌ Warning: Time 3.80 [sec]: This evaluation iteration took 0.118 [sec], which exceeds dtc.\n",
      "└ @ RiskSensitiveSAC /home/kang/DRC_Project/DRC_Trajectron/src/evaluation.jl:300\n"
     ]
    },
    {
     "name": "stderr",
     "output_type": "stream",
     "text": [
      "┌ Warning: Time 3.90 [sec]: SAC computation took 0.119 [sec], which exceeds the maximum computation time allowed.\n",
      "└ @ RiskSensitiveSAC /home/kang/DRC_Project/DRC_Trajectron/src/rs_sac_controller.jl:733\n",
      "┌ Warning: Time 3.90 [sec]: This evaluation iteration took 0.119 [sec], which exceeds dtc.\n",
      "└ @ RiskSensitiveSAC /home/kang/DRC_Project/DRC_Trajectron/src/evaluation.jl:300\n"
     ]
    },
    {
     "name": "stderr",
     "output_type": "stream",
     "text": [
      "┌ Warning: Time 4.00 [sec]: SAC computation took 0.129 [sec], which exceeds the maximum computation time allowed.\n",
      "└ @ RiskSensitiveSAC /home/kang/DRC_Project/DRC_Trajectron/src/rs_sac_controller.jl:733\n",
      "┌ Warning: Time 4.00 [sec]: This evaluation iteration took 0.13 [sec], which exceeds dtc.\n",
      "└ @ RiskSensitiveSAC /home/kang/DRC_Project/DRC_Trajectron/src/evaluation.jl:300\n"
     ]
    },
    {
     "name": "stderr",
     "output_type": "stream",
     "text": [
      "┌ Warning: Time 4.10 [sec]: SAC computation took 0.12 [sec], which exceeds the maximum computation time allowed.\n",
      "└ @ RiskSensitiveSAC /home/kang/DRC_Project/DRC_Trajectron/src/rs_sac_controller.jl:733\n",
      "┌ Warning: Time 4.10 [sec]: This evaluation iteration took 0.12 [sec], which exceeds dtc.\n",
      "└ @ RiskSensitiveSAC /home/kang/DRC_Project/DRC_Trajectron/src/evaluation.jl:300\n"
     ]
    },
    {
     "name": "stderr",
     "output_type": "stream",
     "text": [
      "┌ Warning: Time 4.20 [sec]: SAC computation took 0.175 [sec], which exceeds the maximum computation time allowed.\n",
      "└ @ RiskSensitiveSAC /home/kang/DRC_Project/DRC_Trajectron/src/rs_sac_controller.jl:733\n",
      "┌ Warning: Time 4.20 [sec]: This evaluation iteration took 0.175 [sec], which exceeds dtc.\n",
      "└ @ RiskSensitiveSAC /home/kang/DRC_Project/DRC_Trajectron/src/evaluation.jl:300\n"
     ]
    },
    {
     "name": "stderr",
     "output_type": "stream",
     "text": [
      "┌ Warning: Time 4.30 [sec]: SAC computation took 0.123 [sec], which exceeds the maximum computation time allowed.\n",
      "└ @ RiskSensitiveSAC /home/kang/DRC_Project/DRC_Trajectron/src/rs_sac_controller.jl:733\n",
      "┌ Warning: Time 4.30 [sec]: This evaluation iteration took 0.124 [sec], which exceeds dtc.\n",
      "└ @ RiskSensitiveSAC /home/kang/DRC_Project/DRC_Trajectron/src/evaluation.jl:300\n"
     ]
    },
    {
     "name": "stderr",
     "output_type": "stream",
     "text": [
      "┌ Warning: Time 4.40 [sec]: SAC computation took 0.12 [sec], which exceeds the maximum computation time allowed.\n",
      "└ @ RiskSensitiveSAC /home/kang/DRC_Project/DRC_Trajectron/src/rs_sac_controller.jl:733\n",
      "┌ Warning: Time 4.40 [sec]: This evaluation iteration took 0.121 [sec], which exceeds dtc.\n",
      "└ @ RiskSensitiveSAC /home/kang/DRC_Project/DRC_Trajectron/src/evaluation.jl:300\n"
     ]
    },
    {
     "name": "stderr",
     "output_type": "stream",
     "text": [
      "┌ Warning: Time 4.50 [sec]: SAC computation took 0.121 [sec], which exceeds the maximum computation time allowed.\n",
      "└ @ RiskSensitiveSAC /home/kang/DRC_Project/DRC_Trajectron/src/rs_sac_controller.jl:733\n",
      "┌ Warning: Time 4.50 [sec]: This evaluation iteration took 0.121 [sec], which exceeds dtc.\n",
      "└ @ RiskSensitiveSAC /home/kang/DRC_Project/DRC_Trajectron/src/evaluation.jl:300\n"
     ]
    },
    {
     "name": "stderr",
     "output_type": "stream",
     "text": [
      "┌ Warning: Time 4.60 [sec]: SAC computation took 0.115 [sec], which exceeds the maximum computation time allowed.\n",
      "└ @ RiskSensitiveSAC /home/kang/DRC_Project/DRC_Trajectron/src/rs_sac_controller.jl:733\n",
      "┌ Warning: Time 4.60 [sec]: This evaluation iteration took 0.115 [sec], which exceeds dtc.\n",
      "└ @ RiskSensitiveSAC /home/kang/DRC_Project/DRC_Trajectron/src/evaluation.jl:300\n"
     ]
    },
    {
     "name": "stderr",
     "output_type": "stream",
     "text": [
      "┌ Warning: Time 4.70 [sec]: SAC computation took 0.116 [sec], which exceeds the maximum computation time allowed.\n",
      "└ @ RiskSensitiveSAC /home/kang/DRC_Project/DRC_Trajectron/src/rs_sac_controller.jl:733\n",
      "┌ Warning: Time 4.70 [sec]: This evaluation iteration took 0.117 [sec], which exceeds dtc.\n",
      "└ @ RiskSensitiveSAC /home/kang/DRC_Project/DRC_Trajectron/src/evaluation.jl:300\n"
     ]
    },
    {
     "name": "stderr",
     "output_type": "stream",
     "text": [
      "┌ Warning: Time 4.80 [sec]: SAC computation took 0.118 [sec], which exceeds the maximum computation time allowed.\n",
      "└ @ RiskSensitiveSAC /home/kang/DRC_Project/DRC_Trajectron/src/rs_sac_controller.jl:733\n",
      "┌ Warning: Time 4.80 [sec]: This evaluation iteration took 0.119 [sec], which exceeds dtc.\n",
      "└ @ RiskSensitiveSAC /home/kang/DRC_Project/DRC_Trajectron/src/evaluation.jl:300\n"
     ]
    },
    {
     "name": "stderr",
     "output_type": "stream",
     "text": [
      "┌ Warning: Time 4.90 [sec]: SAC computation took 0.122 [sec], which exceeds the maximum computation time allowed.\n",
      "└ @ RiskSensitiveSAC /home/kang/DRC_Project/DRC_Trajectron/src/rs_sac_controller.jl:733\n",
      "┌ Warning: Time 4.90 [sec]: This evaluation iteration took 0.123 [sec], which exceeds dtc.\n",
      "└ @ RiskSensitiveSAC /home/kang/DRC_Project/DRC_Trajectron/src/evaluation.jl:300\n"
     ]
    },
    {
     "name": "stderr",
     "output_type": "stream",
     "text": [
      "┌ Warning: Time 5.00 [sec]: SAC computation took 0.111 [sec], which exceeds the maximum computation time allowed.\n",
      "└ @ RiskSensitiveSAC /home/kang/DRC_Project/DRC_Trajectron/src/rs_sac_controller.jl:733\n",
      "┌ Warning: Time 5.00 [sec]: This evaluation iteration took 0.112 [sec], which exceeds dtc.\n",
      "└ @ RiskSensitiveSAC /home/kang/DRC_Project/DRC_Trajectron/src/evaluation.jl:300\n"
     ]
    },
    {
     "name": "stderr",
     "output_type": "stream",
     "text": [
      "┌ Warning: Time 5.10 [sec]: SAC computation took 0.115 [sec], which exceeds the maximum computation time allowed.\n",
      "└ @ RiskSensitiveSAC /home/kang/DRC_Project/DRC_Trajectron/src/rs_sac_controller.jl:733\n",
      "┌ Warning: Time 5.10 [sec]: This evaluation iteration took 0.116 [sec], which exceeds dtc.\n",
      "└ @ RiskSensitiveSAC /home/kang/DRC_Project/DRC_Trajectron/src/evaluation.jl:300\n"
     ]
    },
    {
     "name": "stderr",
     "output_type": "stream",
     "text": [
      "┌ Warning: Time 5.20 [sec]: SAC computation took 0.117 [sec], which exceeds the maximum computation time allowed.\n",
      "└ @ RiskSensitiveSAC /home/kang/DRC_Project/DRC_Trajectron/src/rs_sac_controller.jl:733\n",
      "┌ Warning: Time 5.20 [sec]: This evaluation iteration took 0.118 [sec], which exceeds dtc.\n",
      "└ @ RiskSensitiveSAC /home/kang/DRC_Project/DRC_Trajectron/src/evaluation.jl:300\n"
     ]
    },
    {
     "name": "stderr",
     "output_type": "stream",
     "text": [
      "┌ Warning: Time 5.30 [sec]: SAC computation took 0.128 [sec], which exceeds the maximum computation time allowed.\n",
      "└ @ RiskSensitiveSAC /home/kang/DRC_Project/DRC_Trajectron/src/rs_sac_controller.jl:733\n",
      "┌ Warning: Time 5.30 [sec]: This evaluation iteration took 0.129 [sec], which exceeds dtc.\n",
      "└ @ RiskSensitiveSAC /home/kang/DRC_Project/DRC_Trajectron/src/evaluation.jl:300\n"
     ]
    },
    {
     "name": "stderr",
     "output_type": "stream",
     "text": [
      "┌ Warning: Time 5.40 [sec]: SAC computation took 0.115 [sec], which exceeds the maximum computation time allowed.\n",
      "└ @ RiskSensitiveSAC /home/kang/DRC_Project/DRC_Trajectron/src/rs_sac_controller.jl:733\n",
      "┌ Warning: Time 5.40 [sec]: This evaluation iteration took 0.116 [sec], which exceeds dtc.\n",
      "└ @ RiskSensitiveSAC /home/kang/DRC_Project/DRC_Trajectron/src/evaluation.jl:300\n"
     ]
    },
    {
     "name": "stderr",
     "output_type": "stream",
     "text": [
      "┌ Warning: Time 5.50 [sec]: SAC computation took 0.112 [sec], which exceeds the maximum computation time allowed.\n",
      "└ @ RiskSensitiveSAC /home/kang/DRC_Project/DRC_Trajectron/src/rs_sac_controller.jl:733\n",
      "┌ Warning: Time 5.50 [sec]: This evaluation iteration took 0.113 [sec], which exceeds dtc.\n",
      "└ @ RiskSensitiveSAC /home/kang/DRC_Project/DRC_Trajectron/src/evaluation.jl:300\n"
     ]
    },
    {
     "name": "stderr",
     "output_type": "stream",
     "text": [
      "┌ Warning: Time 5.60 [sec]: SAC computation took 0.117 [sec], which exceeds the maximum computation time allowed.\n",
      "└ @ RiskSensitiveSAC /home/kang/DRC_Project/DRC_Trajectron/src/rs_sac_controller.jl:733\n",
      "┌ Warning: Time 5.60 [sec]: This evaluation iteration took 0.119 [sec], which exceeds dtc.\n",
      "└ @ RiskSensitiveSAC /home/kang/DRC_Project/DRC_Trajectron/src/evaluation.jl:300\n"
     ]
    },
    {
     "name": "stderr",
     "output_type": "stream",
     "text": [
      "┌ Warning: Time 5.70 [sec]: SAC computation took 0.12 [sec], which exceeds the maximum computation time allowed.\n",
      "└ @ RiskSensitiveSAC /home/kang/DRC_Project/DRC_Trajectron/src/rs_sac_controller.jl:733\n",
      "┌ Warning: Time 5.70 [sec]: This evaluation iteration took 0.121 [sec], which exceeds dtc.\n",
      "└ @ RiskSensitiveSAC /home/kang/DRC_Project/DRC_Trajectron/src/evaluation.jl:300\n"
     ]
    },
    {
     "name": "stderr",
     "output_type": "stream",
     "text": [
      "┌ Warning: Time 5.80 [sec]: SAC computation took 0.12 [sec], which exceeds the maximum computation time allowed.\n",
      "└ @ RiskSensitiveSAC /home/kang/DRC_Project/DRC_Trajectron/src/rs_sac_controller.jl:733\n",
      "┌ Warning: Time 5.80 [sec]: This evaluation iteration took 0.121 [sec], which exceeds dtc.\n",
      "└ @ RiskSensitiveSAC /home/kang/DRC_Project/DRC_Trajectron/src/evaluation.jl:300\n"
     ]
    },
    {
     "name": "stderr",
     "output_type": "stream",
     "text": [
      "┌ Warning: Time 5.90 [sec]: SAC computation took 0.184 [sec], which exceeds the maximum computation time allowed.\n",
      "└ @ RiskSensitiveSAC /home/kang/DRC_Project/DRC_Trajectron/src/rs_sac_controller.jl:733\n",
      "┌ Warning: Time 5.90 [sec]: This evaluation iteration took 0.185 [sec], which exceeds dtc.\n",
      "└ @ RiskSensitiveSAC /home/kang/DRC_Project/DRC_Trajectron/src/evaluation.jl:300\n"
     ]
    },
    {
     "name": "stderr",
     "output_type": "stream",
     "text": [
      "┌ Warning: Time 6.00 [sec]: SAC computation took 0.118 [sec], which exceeds the maximum computation time allowed.\n",
      "└ @ RiskSensitiveSAC /home/kang/DRC_Project/DRC_Trajectron/src/rs_sac_controller.jl:733\n",
      "┌ Warning: Time 6.00 [sec]: This evaluation iteration took 0.119 [sec], which exceeds dtc.\n",
      "└ @ RiskSensitiveSAC /home/kang/DRC_Project/DRC_Trajectron/src/evaluation.jl:300\n"
     ]
    },
    {
     "name": "stderr",
     "output_type": "stream",
     "text": [
      "┌ Warning: Time 6.10 [sec]: SAC computation took 0.11 [sec], which exceeds the maximum computation time allowed.\n",
      "└ @ RiskSensitiveSAC /home/kang/DRC_Project/DRC_Trajectron/src/rs_sac_controller.jl:733\n",
      "┌ Warning: Time 6.10 [sec]: This evaluation iteration took 0.111 [sec], which exceeds dtc.\n",
      "└ @ RiskSensitiveSAC /home/kang/DRC_Project/DRC_Trajectron/src/evaluation.jl:300\n"
     ]
    },
    {
     "name": "stderr",
     "output_type": "stream",
     "text": [
      "┌ Warning: Time 6.20 [sec]: SAC computation took 0.112 [sec], which exceeds the maximum computation time allowed.\n",
      "└ @ RiskSensitiveSAC /home/kang/DRC_Project/DRC_Trajectron/src/rs_sac_controller.jl:733\n",
      "┌ Warning: Time 6.20 [sec]: This evaluation iteration took 0.113 [sec], which exceeds dtc.\n",
      "└ @ RiskSensitiveSAC /home/kang/DRC_Project/DRC_Trajectron/src/evaluation.jl:300\n"
     ]
    },
    {
     "name": "stderr",
     "output_type": "stream",
     "text": [
      "┌ Warning: Time 6.30 [sec]: SAC computation took 0.116 [sec], which exceeds the maximum computation time allowed.\n",
      "└ @ RiskSensitiveSAC /home/kang/DRC_Project/DRC_Trajectron/src/rs_sac_controller.jl:733\n",
      "┌ Warning: Time 6.30 [sec]: This evaluation iteration took 0.117 [sec], which exceeds dtc.\n",
      "└ @ RiskSensitiveSAC /home/kang/DRC_Project/DRC_Trajectron/src/evaluation.jl:300\n"
     ]
    },
    {
     "name": "stderr",
     "output_type": "stream",
     "text": [
      "┌ Warning: Time 6.40 [sec]: SAC computation took 0.121 [sec], which exceeds the maximum computation time allowed.\n",
      "└ @ RiskSensitiveSAC /home/kang/DRC_Project/DRC_Trajectron/src/rs_sac_controller.jl:733\n",
      "┌ Warning: Time 6.40 [sec]: This evaluation iteration took 0.122 [sec], which exceeds dtc.\n",
      "└ @ RiskSensitiveSAC /home/kang/DRC_Project/DRC_Trajectron/src/evaluation.jl:300\n"
     ]
    },
    {
     "name": "stderr",
     "output_type": "stream",
     "text": [
      "┌ Warning: Time 6.50 [sec]: SAC computation took 0.121 [sec], which exceeds the maximum computation time allowed.\n",
      "└ @ RiskSensitiveSAC /home/kang/DRC_Project/DRC_Trajectron/src/rs_sac_controller.jl:733\n",
      "┌ Warning: Time 6.50 [sec]: This evaluation iteration took 0.122 [sec], which exceeds dtc.\n",
      "└ @ RiskSensitiveSAC /home/kang/DRC_Project/DRC_Trajectron/src/evaluation.jl:300\n"
     ]
    },
    {
     "name": "stderr",
     "output_type": "stream",
     "text": [
      "┌ Warning: Time 6.60 [sec]: SAC computation took 0.123 [sec], which exceeds the maximum computation time allowed.\n",
      "└ @ RiskSensitiveSAC /home/kang/DRC_Project/DRC_Trajectron/src/rs_sac_controller.jl:733\n",
      "┌ Warning: Time 6.60 [sec]: This evaluation iteration took 0.124 [sec], which exceeds dtc.\n",
      "└ @ RiskSensitiveSAC /home/kang/DRC_Project/DRC_Trajectron/src/evaluation.jl:300\n"
     ]
    },
    {
     "name": "stderr",
     "output_type": "stream",
     "text": [
      "┌ Warning: Time 6.70 [sec]: SAC computation took 0.139 [sec], which exceeds the maximum computation time allowed.\n",
      "└ @ RiskSensitiveSAC /home/kang/DRC_Project/DRC_Trajectron/src/rs_sac_controller.jl:733\n",
      "┌ Warning: Time 6.70 [sec]: This evaluation iteration took 0.139 [sec], which exceeds dtc.\n",
      "└ @ RiskSensitiveSAC /home/kang/DRC_Project/DRC_Trajectron/src/evaluation.jl:300\n"
     ]
    },
    {
     "name": "stderr",
     "output_type": "stream",
     "text": [
      "┌ Warning: Time 6.80 [sec]: SAC computation took 0.122 [sec], which exceeds the maximum computation time allowed.\n",
      "└ @ RiskSensitiveSAC /home/kang/DRC_Project/DRC_Trajectron/src/rs_sac_controller.jl:733\n",
      "┌ Warning: Time 6.80 [sec]: This evaluation iteration took 0.123 [sec], which exceeds dtc.\n",
      "└ @ RiskSensitiveSAC /home/kang/DRC_Project/DRC_Trajectron/src/evaluation.jl:300\n"
     ]
    },
    {
     "name": "stderr",
     "output_type": "stream",
     "text": [
      "┌ Warning: Time 6.90 [sec]: SAC computation took 0.115 [sec], which exceeds the maximum computation time allowed.\n",
      "└ @ RiskSensitiveSAC /home/kang/DRC_Project/DRC_Trajectron/src/rs_sac_controller.jl:733\n",
      "┌ Warning: Time 6.90 [sec]: This evaluation iteration took 0.116 [sec], which exceeds dtc.\n",
      "└ @ RiskSensitiveSAC /home/kang/DRC_Project/DRC_Trajectron/src/evaluation.jl:300\n"
     ]
    },
    {
     "name": "stderr",
     "output_type": "stream",
     "text": [
      "┌ Warning: Time 7.00 [sec]: SAC computation took 0.113 [sec], which exceeds the maximum computation time allowed.\n",
      "└ @ RiskSensitiveSAC /home/kang/DRC_Project/DRC_Trajectron/src/rs_sac_controller.jl:733\n",
      "┌ Warning: Time 7.00 [sec]: This evaluation iteration took 0.113 [sec], which exceeds dtc.\n",
      "└ @ RiskSensitiveSAC /home/kang/DRC_Project/DRC_Trajectron/src/evaluation.jl:300\n"
     ]
    },
    {
     "name": "stderr",
     "output_type": "stream",
     "text": [
      "┌ Warning: Time 7.10 [sec]: SAC computation took 0.118 [sec], which exceeds the maximum computation time allowed.\n",
      "└ @ RiskSensitiveSAC /home/kang/DRC_Project/DRC_Trajectron/src/rs_sac_controller.jl:733\n",
      "┌ Warning: Time 7.10 [sec]: This evaluation iteration took 0.119 [sec], which exceeds dtc.\n",
      "└ @ RiskSensitiveSAC /home/kang/DRC_Project/DRC_Trajectron/src/evaluation.jl:300\n"
     ]
    },
    {
     "name": "stderr",
     "output_type": "stream",
     "text": [
      "┌ Warning: Time 7.20 [sec]: SAC computation took 0.119 [sec], which exceeds the maximum computation time allowed.\n",
      "└ @ RiskSensitiveSAC /home/kang/DRC_Project/DRC_Trajectron/src/rs_sac_controller.jl:733\n",
      "┌ Warning: Time 7.20 [sec]: This evaluation iteration took 0.12 [sec], which exceeds dtc.\n",
      "└ @ RiskSensitiveSAC /home/kang/DRC_Project/DRC_Trajectron/src/evaluation.jl:300\n"
     ]
    },
    {
     "name": "stderr",
     "output_type": "stream",
     "text": [
      "┌ Warning: Time 7.30 [sec]: SAC computation took 0.113 [sec], which exceeds the maximum computation time allowed.\n",
      "└ @ RiskSensitiveSAC /home/kang/DRC_Project/DRC_Trajectron/src/rs_sac_controller.jl:733\n",
      "┌ Warning: Time 7.30 [sec]: This evaluation iteration took 0.114 [sec], which exceeds dtc.\n",
      "└ @ RiskSensitiveSAC /home/kang/DRC_Project/DRC_Trajectron/src/evaluation.jl:300\n"
     ]
    },
    {
     "name": "stderr",
     "output_type": "stream",
     "text": [
      "┌ Warning: Time 7.40 [sec]: SAC computation took 0.109 [sec], which exceeds the maximum computation time allowed.\n",
      "└ @ RiskSensitiveSAC /home/kang/DRC_Project/DRC_Trajectron/src/rs_sac_controller.jl:733\n",
      "┌ Warning: Time 7.40 [sec]: This evaluation iteration took 0.11 [sec], which exceeds dtc.\n",
      "└ @ RiskSensitiveSAC /home/kang/DRC_Project/DRC_Trajectron/src/evaluation.jl:300\n"
     ]
    },
    {
     "name": "stderr",
     "output_type": "stream",
     "text": [
      "┌ Warning: Time 7.50 [sec]: SAC computation took 0.11 [sec], which exceeds the maximum computation time allowed.\n",
      "└ @ RiskSensitiveSAC /home/kang/DRC_Project/DRC_Trajectron/src/rs_sac_controller.jl:733\n",
      "┌ Warning: Time 7.50 [sec]: This evaluation iteration took 0.111 [sec], which exceeds dtc.\n",
      "└ @ RiskSensitiveSAC /home/kang/DRC_Project/DRC_Trajectron/src/evaluation.jl:300\n"
     ]
    },
    {
     "name": "stderr",
     "output_type": "stream",
     "text": [
      "┌ Warning: Time 7.60 [sec]: SAC computation took 0.109 [sec], which exceeds the maximum computation time allowed.\n",
      "└ @ RiskSensitiveSAC /home/kang/DRC_Project/DRC_Trajectron/src/rs_sac_controller.jl:733\n",
      "┌ Warning: Time 7.60 [sec]: This evaluation iteration took 0.11 [sec], which exceeds dtc.\n",
      "└ @ RiskSensitiveSAC /home/kang/DRC_Project/DRC_Trajectron/src/evaluation.jl:300\n"
     ]
    },
    {
     "name": "stderr",
     "output_type": "stream",
     "text": [
      "┌ Warning: Time 7.70 [sec]: SAC computation took 0.159 [sec], which exceeds the maximum computation time allowed.\n",
      "└ @ RiskSensitiveSAC /home/kang/DRC_Project/DRC_Trajectron/src/rs_sac_controller.jl:733\n",
      "┌ Warning: Time 7.70 [sec]: This evaluation iteration took 0.16 [sec], which exceeds dtc.\n",
      "└ @ RiskSensitiveSAC /home/kang/DRC_Project/DRC_Trajectron/src/evaluation.jl:300\n"
     ]
    },
    {
     "name": "stderr",
     "output_type": "stream",
     "text": [
      "┌ Warning: Time 7.80 [sec]: SAC computation took 0.11 [sec], which exceeds the maximum computation time allowed.\n",
      "└ @ RiskSensitiveSAC /home/kang/DRC_Project/DRC_Trajectron/src/rs_sac_controller.jl:733\n",
      "┌ Warning: Time 7.80 [sec]: This evaluation iteration took 0.111 [sec], which exceeds dtc.\n",
      "└ @ RiskSensitiveSAC /home/kang/DRC_Project/DRC_Trajectron/src/evaluation.jl:300\n"
     ]
    },
    {
     "name": "stderr",
     "output_type": "stream",
     "text": [
      "┌ Warning: Time 7.90 [sec]: SAC computation took 0.12 [sec], which exceeds the maximum computation time allowed.\n",
      "└ @ RiskSensitiveSAC /home/kang/DRC_Project/DRC_Trajectron/src/rs_sac_controller.jl:733\n",
      "┌ Warning: Time 7.90 [sec]: This evaluation iteration took 0.121 [sec], which exceeds dtc.\n",
      "└ @ RiskSensitiveSAC /home/kang/DRC_Project/DRC_Trajectron/src/evaluation.jl:300\n"
     ]
    },
    {
     "name": "stderr",
     "output_type": "stream",
     "text": [
      "┌ Warning: Time 8.00 [sec]: SAC computation took 0.107 [sec], which exceeds the maximum computation time allowed.\n",
      "└ @ RiskSensitiveSAC /home/kang/DRC_Project/DRC_Trajectron/src/rs_sac_controller.jl:733\n",
      "┌ Warning: Time 8.00 [sec]: This evaluation iteration took 0.108 [sec], which exceeds dtc.\n",
      "└ @ RiskSensitiveSAC /home/kang/DRC_Project/DRC_Trajectron/src/evaluation.jl:300\n"
     ]
    },
    {
     "name": "stderr",
     "output_type": "stream",
     "text": [
      "┌ Warning: Time 8.10 [sec]: SAC computation took 0.108 [sec], which exceeds the maximum computation time allowed.\n",
      "└ @ RiskSensitiveSAC /home/kang/DRC_Project/DRC_Trajectron/src/rs_sac_controller.jl:733\n",
      "┌ Warning: Time 8.10 [sec]: This evaluation iteration took 0.109 [sec], which exceeds dtc.\n",
      "└ @ RiskSensitiveSAC /home/kang/DRC_Project/DRC_Trajectron/src/evaluation.jl:300\n"
     ]
    },
    {
     "name": "stderr",
     "output_type": "stream",
     "text": [
      "┌ Warning: Time 8.20 [sec]: SAC computation took 0.107 [sec], which exceeds the maximum computation time allowed.\n",
      "└ @ RiskSensitiveSAC /home/kang/DRC_Project/DRC_Trajectron/src/rs_sac_controller.jl:733\n",
      "┌ Warning: Time 8.20 [sec]: This evaluation iteration took 0.108 [sec], which exceeds dtc.\n",
      "└ @ RiskSensitiveSAC /home/kang/DRC_Project/DRC_Trajectron/src/evaluation.jl:300\n"
     ]
    },
    {
     "name": "stderr",
     "output_type": "stream",
     "text": [
      "┌ Warning: Time 8.30 [sec]: SAC computation took 0.11 [sec], which exceeds the maximum computation time allowed.\n",
      "└ @ RiskSensitiveSAC /home/kang/DRC_Project/DRC_Trajectron/src/rs_sac_controller.jl:733\n",
      "┌ Warning: Time 8.30 [sec]: This evaluation iteration took 0.111 [sec], which exceeds dtc.\n",
      "└ @ RiskSensitiveSAC /home/kang/DRC_Project/DRC_Trajectron/src/evaluation.jl:300\n"
     ]
    },
    {
     "name": "stderr",
     "output_type": "stream",
     "text": [
      "┌ Warning: Time 8.40 [sec]: SAC computation took 0.111 [sec], which exceeds the maximum computation time allowed.\n",
      "└ @ RiskSensitiveSAC /home/kang/DRC_Project/DRC_Trajectron/src/rs_sac_controller.jl:733\n",
      "┌ Warning: Time 8.40 [sec]: This evaluation iteration took 0.112 [sec], which exceeds dtc.\n",
      "└ @ RiskSensitiveSAC /home/kang/DRC_Project/DRC_Trajectron/src/evaluation.jl:300\n"
     ]
    },
    {
     "name": "stderr",
     "output_type": "stream",
     "text": [
      "┌ Warning: Time 8.50 [sec]: SAC computation took 0.114 [sec], which exceeds the maximum computation time allowed.\n",
      "└ @ RiskSensitiveSAC /home/kang/DRC_Project/DRC_Trajectron/src/rs_sac_controller.jl:733\n",
      "┌ Warning: Time 8.50 [sec]: This evaluation iteration took 0.115 [sec], which exceeds dtc.\n",
      "└ @ RiskSensitiveSAC /home/kang/DRC_Project/DRC_Trajectron/src/evaluation.jl:300\n"
     ]
    },
    {
     "name": "stderr",
     "output_type": "stream",
     "text": [
      "┌ Warning: Time 8.60 [sec]: SAC computation took 0.111 [sec], which exceeds the maximum computation time allowed.\n",
      "└ @ RiskSensitiveSAC /home/kang/DRC_Project/DRC_Trajectron/src/rs_sac_controller.jl:733\n",
      "┌ Warning: Time 8.60 [sec]: This evaluation iteration took 0.112 [sec], which exceeds dtc.\n",
      "└ @ RiskSensitiveSAC /home/kang/DRC_Project/DRC_Trajectron/src/evaluation.jl:300\n"
     ]
    },
    {
     "name": "stderr",
     "output_type": "stream",
     "text": [
      "┌ Warning: Time 8.70 [sec]: SAC computation took 0.116 [sec], which exceeds the maximum computation time allowed.\n",
      "└ @ RiskSensitiveSAC /home/kang/DRC_Project/DRC_Trajectron/src/rs_sac_controller.jl:733\n",
      "┌ Warning: Time 8.70 [sec]: This evaluation iteration took 0.117 [sec], which exceeds dtc.\n",
      "└ @ RiskSensitiveSAC /home/kang/DRC_Project/DRC_Trajectron/src/evaluation.jl:300\n"
     ]
    },
    {
     "name": "stderr",
     "output_type": "stream",
     "text": [
      "┌ Warning: Time 8.80 [sec]: SAC computation took 0.118 [sec], which exceeds the maximum computation time allowed.\n",
      "└ @ RiskSensitiveSAC /home/kang/DRC_Project/DRC_Trajectron/src/rs_sac_controller.jl:733\n",
      "┌ Warning: Time 8.80 [sec]: This evaluation iteration took 0.119 [sec], which exceeds dtc.\n",
      "└ @ RiskSensitiveSAC /home/kang/DRC_Project/DRC_Trajectron/src/evaluation.jl:300\n"
     ]
    },
    {
     "name": "stderr",
     "output_type": "stream",
     "text": [
      "┌ Warning: Time 8.90 [sec]: SAC computation took 0.117 [sec], which exceeds the maximum computation time allowed.\n",
      "└ @ RiskSensitiveSAC /home/kang/DRC_Project/DRC_Trajectron/src/rs_sac_controller.jl:733\n",
      "┌ Warning: Time 8.90 [sec]: This evaluation iteration took 0.118 [sec], which exceeds dtc.\n",
      "└ @ RiskSensitiveSAC /home/kang/DRC_Project/DRC_Trajectron/src/evaluation.jl:300\n"
     ]
    },
    {
     "name": "stderr",
     "output_type": "stream",
     "text": [
      "┌ Warning: Time 9.00 [sec]: SAC computation took 0.118 [sec], which exceeds the maximum computation time allowed.\n",
      "└ @ RiskSensitiveSAC /home/kang/DRC_Project/DRC_Trajectron/src/rs_sac_controller.jl:733\n",
      "┌ Warning: Time 9.00 [sec]: This evaluation iteration took 0.119 [sec], which exceeds dtc.\n",
      "└ @ RiskSensitiveSAC /home/kang/DRC_Project/DRC_Trajectron/src/evaluation.jl:300\n"
     ]
    },
    {
     "name": "stderr",
     "output_type": "stream",
     "text": [
      "┌ Warning: Time 9.10 [sec]: SAC computation took 0.118 [sec], which exceeds the maximum computation time allowed.\n",
      "└ @ RiskSensitiveSAC /home/kang/DRC_Project/DRC_Trajectron/src/rs_sac_controller.jl:733\n",
      "┌ Warning: Time 9.10 [sec]: This evaluation iteration took 0.119 [sec], which exceeds dtc.\n",
      "└ @ RiskSensitiveSAC /home/kang/DRC_Project/DRC_Trajectron/src/evaluation.jl:300\n"
     ]
    },
    {
     "name": "stderr",
     "output_type": "stream",
     "text": [
      "┌ Warning: Time 9.20 [sec]: SAC computation took 0.116 [sec], which exceeds the maximum computation time allowed.\n",
      "└ @ RiskSensitiveSAC /home/kang/DRC_Project/DRC_Trajectron/src/rs_sac_controller.jl:733\n",
      "┌ Warning: Time 9.20 [sec]: This evaluation iteration took 0.117 [sec], which exceeds dtc.\n",
      "└ @ RiskSensitiveSAC /home/kang/DRC_Project/DRC_Trajectron/src/evaluation.jl:300\n"
     ]
    },
    {
     "name": "stderr",
     "output_type": "stream",
     "text": [
      "┌ Warning: Time 9.30 [sec]: SAC computation took 0.119 [sec], which exceeds the maximum computation time allowed.\n",
      "└ @ RiskSensitiveSAC /home/kang/DRC_Project/DRC_Trajectron/src/rs_sac_controller.jl:733\n",
      "┌ Warning: Time 9.30 [sec]: This evaluation iteration took 0.119 [sec], which exceeds dtc.\n",
      "└ @ RiskSensitiveSAC /home/kang/DRC_Project/DRC_Trajectron/src/evaluation.jl:300\n"
     ]
    },
    {
     "name": "stderr",
     "output_type": "stream",
     "text": [
      "┌ Warning: Time 9.40 [sec]: SAC computation took 0.17 [sec], which exceeds the maximum computation time allowed.\n",
      "└ @ RiskSensitiveSAC /home/kang/DRC_Project/DRC_Trajectron/src/rs_sac_controller.jl:733\n",
      "┌ Warning: Time 9.40 [sec]: This evaluation iteration took 0.17 [sec], which exceeds dtc.\n",
      "└ @ RiskSensitiveSAC /home/kang/DRC_Project/DRC_Trajectron/src/evaluation.jl:300\n"
     ]
    },
    {
     "name": "stderr",
     "output_type": "stream",
     "text": [
      "┌ Warning: Time 9.50 [sec]: SAC computation took 0.115 [sec], which exceeds the maximum computation time allowed.\n",
      "└ @ RiskSensitiveSAC /home/kang/DRC_Project/DRC_Trajectron/src/rs_sac_controller.jl:733\n",
      "┌ Warning: Time 9.50 [sec]: This evaluation iteration took 0.116 [sec], which exceeds dtc.\n",
      "└ @ RiskSensitiveSAC /home/kang/DRC_Project/DRC_Trajectron/src/evaluation.jl:300\n"
     ]
    },
    {
     "name": "stderr",
     "output_type": "stream",
     "text": [
      "┌ Warning: Time 9.60 [sec]: SAC computation took 0.115 [sec], which exceeds the maximum computation time allowed.\n",
      "└ @ RiskSensitiveSAC /home/kang/DRC_Project/DRC_Trajectron/src/rs_sac_controller.jl:733\n",
      "┌ Warning: Time 9.60 [sec]: This evaluation iteration took 0.115 [sec], which exceeds dtc.\n",
      "└ @ RiskSensitiveSAC /home/kang/DRC_Project/DRC_Trajectron/src/evaluation.jl:300\n"
     ]
    },
    {
     "name": "stderr",
     "output_type": "stream",
     "text": [
      "┌ Warning: Time 9.70 [sec]: SAC computation took 0.116 [sec], which exceeds the maximum computation time allowed.\n",
      "└ @ RiskSensitiveSAC /home/kang/DRC_Project/DRC_Trajectron/src/rs_sac_controller.jl:733\n",
      "┌ Warning: Time 9.70 [sec]: This evaluation iteration took 0.117 [sec], which exceeds dtc.\n",
      "└ @ RiskSensitiveSAC /home/kang/DRC_Project/DRC_Trajectron/src/evaluation.jl:300\n"
     ]
    },
    {
     "name": "stderr",
     "output_type": "stream",
     "text": [
      "┌ Warning: Time 9.80 [sec]: SAC computation took 0.118 [sec], which exceeds the maximum computation time allowed.\n",
      "└ @ RiskSensitiveSAC /home/kang/DRC_Project/DRC_Trajectron/src/rs_sac_controller.jl:733\n",
      "┌ Warning: Time 9.80 [sec]: This evaluation iteration took 0.119 [sec], which exceeds dtc.\n",
      "└ @ RiskSensitiveSAC /home/kang/DRC_Project/DRC_Trajectron/src/evaluation.jl:300\n"
     ]
    },
    {
     "name": "stdout",
     "output_type": "stream",
     "text": [
      "Total Collision: 0, Total Position Cost: 77.2347550160118, Total Control Cost: 1.950183952942862, Minimum Distance: 1.0289865829148659, Experiment 12: "
     ]
    },
    {
     "name": "stderr",
     "output_type": "stream",
     "text": [
      "┌ Warning: Time 9.90 [sec]: SAC computation took 0.117 [sec], which exceeds the maximum computation time allowed.\n",
      "└ @ RiskSensitiveSAC /home/kang/DRC_Project/DRC_Trajectron/src/rs_sac_controller.jl:733\n",
      "┌ Warning: Time 9.90 [sec]: This evaluation iteration took 0.118 [sec], which exceeds dtc.\n",
      "└ @ RiskSensitiveSAC /home/kang/DRC_Project/DRC_Trajectron/src/evaluation.jl:300\n"
     ]
    },
    {
     "name": "stderr",
     "output_type": "stream",
     "text": [
      "┌ Warning: Time 0.00 [sec]: SAC computation took 0.12 [sec], which exceeds the maximum computation time allowed.\n",
      "└ @ RiskSensitiveSAC /home/kang/DRC_Project/DRC_Trajectron/src/rs_sac_controller.jl:733\n"
     ]
    },
    {
     "name": "stderr",
     "output_type": "stream",
     "text": [
      "┌ Warning: Time 0.10 [sec]: SAC computation took 0.13 [sec], which exceeds the maximum computation time allowed.\n",
      "└ @ RiskSensitiveSAC /home/kang/DRC_Project/DRC_Trajectron/src/rs_sac_controller.jl:733\n",
      "┌ Warning: Time 0.10 [sec]: This evaluation iteration took 0.131 [sec], which exceeds dtc.\n",
      "└ @ RiskSensitiveSAC /home/kang/DRC_Project/DRC_Trajectron/src/evaluation.jl:300\n"
     ]
    },
    {
     "name": "stderr",
     "output_type": "stream",
     "text": [
      "┌ Warning: Time 0.20 [sec]: SAC computation took 0.121 [sec], which exceeds the maximum computation time allowed.\n",
      "└ @ RiskSensitiveSAC /home/kang/DRC_Project/DRC_Trajectron/src/rs_sac_controller.jl:733\n",
      "┌ Warning: Time 0.20 [sec]: This evaluation iteration took 0.121 [sec], which exceeds dtc.\n",
      "└ @ RiskSensitiveSAC /home/kang/DRC_Project/DRC_Trajectron/src/evaluation.jl:300\n"
     ]
    },
    {
     "name": "stderr",
     "output_type": "stream",
     "text": [
      "┌ Warning: Time 0.30 [sec]: SAC computation took 0.123 [sec], which exceeds the maximum computation time allowed.\n",
      "└ @ RiskSensitiveSAC /home/kang/DRC_Project/DRC_Trajectron/src/rs_sac_controller.jl:733\n",
      "┌ Warning: Time 0.30 [sec]: This evaluation iteration took 0.124 [sec], which exceeds dtc.\n",
      "└ @ RiskSensitiveSAC /home/kang/DRC_Project/DRC_Trajectron/src/evaluation.jl:300\n"
     ]
    },
    {
     "name": "stderr",
     "output_type": "stream",
     "text": [
      "┌ Warning: Time 0.40 [sec]: SAC computation took 0.114 [sec], which exceeds the maximum computation time allowed.\n",
      "└ @ RiskSensitiveSAC /home/kang/DRC_Project/DRC_Trajectron/src/rs_sac_controller.jl:733\n",
      "┌ Warning: Time 0.40 [sec]: This evaluation iteration took 0.115 [sec], which exceeds dtc.\n",
      "└ @ RiskSensitiveSAC /home/kang/DRC_Project/DRC_Trajectron/src/evaluation.jl:300\n"
     ]
    },
    {
     "name": "stderr",
     "output_type": "stream",
     "text": [
      "┌ Warning: Time 0.50 [sec]: SAC computation took 0.118 [sec], which exceeds the maximum computation time allowed.\n",
      "└ @ RiskSensitiveSAC /home/kang/DRC_Project/DRC_Trajectron/src/rs_sac_controller.jl:733\n",
      "┌ Warning: Time 0.50 [sec]: This evaluation iteration took 0.119 [sec], which exceeds dtc.\n",
      "└ @ RiskSensitiveSAC /home/kang/DRC_Project/DRC_Trajectron/src/evaluation.jl:300\n"
     ]
    },
    {
     "name": "stderr",
     "output_type": "stream",
     "text": [
      "┌ Warning: Time 0.60 [sec]: SAC computation took 0.123 [sec], which exceeds the maximum computation time allowed.\n",
      "└ @ RiskSensitiveSAC /home/kang/DRC_Project/DRC_Trajectron/src/rs_sac_controller.jl:733\n",
      "┌ Warning: Time 0.60 [sec]: This evaluation iteration took 0.123 [sec], which exceeds dtc.\n",
      "└ @ RiskSensitiveSAC /home/kang/DRC_Project/DRC_Trajectron/src/evaluation.jl:300\n"
     ]
    },
    {
     "name": "stderr",
     "output_type": "stream",
     "text": [
      "┌ Warning: Time 0.70 [sec]: SAC computation took 0.115 [sec], which exceeds the maximum computation time allowed.\n",
      "└ @ RiskSensitiveSAC /home/kang/DRC_Project/DRC_Trajectron/src/rs_sac_controller.jl:733\n",
      "┌ Warning: Time 0.70 [sec]: This evaluation iteration took 0.116 [sec], which exceeds dtc.\n",
      "└ @ RiskSensitiveSAC /home/kang/DRC_Project/DRC_Trajectron/src/evaluation.jl:300\n"
     ]
    },
    {
     "name": "stderr",
     "output_type": "stream",
     "text": [
      "┌ Warning: Time 0.80 [sec]: SAC computation took 0.115 [sec], which exceeds the maximum computation time allowed.\n",
      "└ @ RiskSensitiveSAC /home/kang/DRC_Project/DRC_Trajectron/src/rs_sac_controller.jl:733\n",
      "┌ Warning: Time 0.80 [sec]: This evaluation iteration took 0.116 [sec], which exceeds dtc.\n",
      "└ @ RiskSensitiveSAC /home/kang/DRC_Project/DRC_Trajectron/src/evaluation.jl:300\n"
     ]
    },
    {
     "name": "stderr",
     "output_type": "stream",
     "text": [
      "┌ Warning: Time 0.90 [sec]: SAC computation took 0.115 [sec], which exceeds the maximum computation time allowed.\n",
      "└ @ RiskSensitiveSAC /home/kang/DRC_Project/DRC_Trajectron/src/rs_sac_controller.jl:733\n",
      "┌ Warning: Time 0.90 [sec]: This evaluation iteration took 0.116 [sec], which exceeds dtc.\n",
      "└ @ RiskSensitiveSAC /home/kang/DRC_Project/DRC_Trajectron/src/evaluation.jl:300\n"
     ]
    },
    {
     "name": "stderr",
     "output_type": "stream",
     "text": [
      "┌ Warning: Time 1.00 [sec]: SAC computation took 0.118 [sec], which exceeds the maximum computation time allowed.\n",
      "└ @ RiskSensitiveSAC /home/kang/DRC_Project/DRC_Trajectron/src/rs_sac_controller.jl:733\n",
      "┌ Warning: Time 1.00 [sec]: This evaluation iteration took 0.119 [sec], which exceeds dtc.\n",
      "└ @ RiskSensitiveSAC /home/kang/DRC_Project/DRC_Trajectron/src/evaluation.jl:300\n"
     ]
    },
    {
     "name": "stderr",
     "output_type": "stream",
     "text": [
      "┌ Warning: Time 1.10 [sec]: SAC computation took 0.111 [sec], which exceeds the maximum computation time allowed.\n",
      "└ @ RiskSensitiveSAC /home/kang/DRC_Project/DRC_Trajectron/src/rs_sac_controller.jl:733\n",
      "┌ Warning: Time 1.10 [sec]: This evaluation iteration took 0.112 [sec], which exceeds dtc.\n",
      "└ @ RiskSensitiveSAC /home/kang/DRC_Project/DRC_Trajectron/src/evaluation.jl:300\n"
     ]
    },
    {
     "name": "stderr",
     "output_type": "stream",
     "text": [
      "┌ Warning: Time 1.20 [sec]: SAC computation took 0.165 [sec], which exceeds the maximum computation time allowed.\n",
      "└ @ RiskSensitiveSAC /home/kang/DRC_Project/DRC_Trajectron/src/rs_sac_controller.jl:733\n",
      "┌ Warning: Time 1.20 [sec]: This evaluation iteration took 0.166 [sec], which exceeds dtc.\n",
      "└ @ RiskSensitiveSAC /home/kang/DRC_Project/DRC_Trajectron/src/evaluation.jl:300\n"
     ]
    },
    {
     "name": "stderr",
     "output_type": "stream",
     "text": [
      "┌ Warning: Time 1.30 [sec]: SAC computation took 0.112 [sec], which exceeds the maximum computation time allowed.\n",
      "└ @ RiskSensitiveSAC /home/kang/DRC_Project/DRC_Trajectron/src/rs_sac_controller.jl:733\n",
      "┌ Warning: Time 1.30 [sec]: This evaluation iteration took 0.113 [sec], which exceeds dtc.\n",
      "└ @ RiskSensitiveSAC /home/kang/DRC_Project/DRC_Trajectron/src/evaluation.jl:300\n"
     ]
    },
    {
     "name": "stderr",
     "output_type": "stream",
     "text": [
      "┌ Warning: Time 1.40 [sec]: SAC computation took 0.115 [sec], which exceeds the maximum computation time allowed.\n",
      "└ @ RiskSensitiveSAC /home/kang/DRC_Project/DRC_Trajectron/src/rs_sac_controller.jl:733\n",
      "┌ Warning: Time 1.40 [sec]: This evaluation iteration took 0.116 [sec], which exceeds dtc.\n",
      "└ @ RiskSensitiveSAC /home/kang/DRC_Project/DRC_Trajectron/src/evaluation.jl:300\n"
     ]
    },
    {
     "name": "stderr",
     "output_type": "stream",
     "text": [
      "┌ Warning: Time 1.50 [sec]: SAC computation took 0.112 [sec], which exceeds the maximum computation time allowed.\n",
      "└ @ RiskSensitiveSAC /home/kang/DRC_Project/DRC_Trajectron/src/rs_sac_controller.jl:733\n",
      "┌ Warning: Time 1.50 [sec]: This evaluation iteration took 0.112 [sec], which exceeds dtc.\n",
      "└ @ RiskSensitiveSAC /home/kang/DRC_Project/DRC_Trajectron/src/evaluation.jl:300\n"
     ]
    },
    {
     "name": "stderr",
     "output_type": "stream",
     "text": [
      "┌ Warning: Time 1.60 [sec]: SAC computation took 0.119 [sec], which exceeds the maximum computation time allowed.\n",
      "└ @ RiskSensitiveSAC /home/kang/DRC_Project/DRC_Trajectron/src/rs_sac_controller.jl:733\n",
      "┌ Warning: Time 1.60 [sec]: This evaluation iteration took 0.12 [sec], which exceeds dtc.\n",
      "└ @ RiskSensitiveSAC /home/kang/DRC_Project/DRC_Trajectron/src/evaluation.jl:300\n"
     ]
    },
    {
     "name": "stderr",
     "output_type": "stream",
     "text": [
      "┌ Warning: Time 1.70 [sec]: SAC computation took 0.117 [sec], which exceeds the maximum computation time allowed.\n",
      "└ @ RiskSensitiveSAC /home/kang/DRC_Project/DRC_Trajectron/src/rs_sac_controller.jl:733\n",
      "┌ Warning: Time 1.70 [sec]: This evaluation iteration took 0.118 [sec], which exceeds dtc.\n",
      "└ @ RiskSensitiveSAC /home/kang/DRC_Project/DRC_Trajectron/src/evaluation.jl:300\n"
     ]
    },
    {
     "name": "stderr",
     "output_type": "stream",
     "text": [
      "┌ Warning: Time 1.80 [sec]: SAC computation took 0.112 [sec], which exceeds the maximum computation time allowed.\n",
      "└ @ RiskSensitiveSAC /home/kang/DRC_Project/DRC_Trajectron/src/rs_sac_controller.jl:733\n",
      "┌ Warning: Time 1.80 [sec]: This evaluation iteration took 0.113 [sec], which exceeds dtc.\n",
      "└ @ RiskSensitiveSAC /home/kang/DRC_Project/DRC_Trajectron/src/evaluation.jl:300\n"
     ]
    },
    {
     "name": "stderr",
     "output_type": "stream",
     "text": [
      "┌ Warning: Time 1.90 [sec]: SAC computation took 0.114 [sec], which exceeds the maximum computation time allowed.\n",
      "└ @ RiskSensitiveSAC /home/kang/DRC_Project/DRC_Trajectron/src/rs_sac_controller.jl:733\n",
      "┌ Warning: Time 1.90 [sec]: This evaluation iteration took 0.115 [sec], which exceeds dtc.\n",
      "└ @ RiskSensitiveSAC /home/kang/DRC_Project/DRC_Trajectron/src/evaluation.jl:300\n"
     ]
    },
    {
     "name": "stderr",
     "output_type": "stream",
     "text": [
      "┌ Warning: Time 2.00 [sec]: SAC computation took 0.117 [sec], which exceeds the maximum computation time allowed.\n",
      "└ @ RiskSensitiveSAC /home/kang/DRC_Project/DRC_Trajectron/src/rs_sac_controller.jl:733\n",
      "┌ Warning: Time 2.00 [sec]: This evaluation iteration took 0.118 [sec], which exceeds dtc.\n",
      "└ @ RiskSensitiveSAC /home/kang/DRC_Project/DRC_Trajectron/src/evaluation.jl:300\n"
     ]
    },
    {
     "name": "stderr",
     "output_type": "stream",
     "text": [
      "┌ Warning: Time 2.10 [sec]: SAC computation took 0.116 [sec], which exceeds the maximum computation time allowed.\n",
      "└ @ RiskSensitiveSAC /home/kang/DRC_Project/DRC_Trajectron/src/rs_sac_controller.jl:733\n",
      "┌ Warning: Time 2.10 [sec]: This evaluation iteration took 0.116 [sec], which exceeds dtc.\n",
      "└ @ RiskSensitiveSAC /home/kang/DRC_Project/DRC_Trajectron/src/evaluation.jl:300\n"
     ]
    },
    {
     "name": "stderr",
     "output_type": "stream",
     "text": [
      "┌ Warning: Time 2.20 [sec]: SAC computation took 0.117 [sec], which exceeds the maximum computation time allowed.\n",
      "└ @ RiskSensitiveSAC /home/kang/DRC_Project/DRC_Trajectron/src/rs_sac_controller.jl:733\n",
      "┌ Warning: Time 2.20 [sec]: This evaluation iteration took 0.117 [sec], which exceeds dtc.\n",
      "└ @ RiskSensitiveSAC /home/kang/DRC_Project/DRC_Trajectron/src/evaluation.jl:300\n"
     ]
    },
    {
     "name": "stderr",
     "output_type": "stream",
     "text": [
      "┌ Warning: Time 2.30 [sec]: SAC computation took 0.112 [sec], which exceeds the maximum computation time allowed.\n",
      "└ @ RiskSensitiveSAC /home/kang/DRC_Project/DRC_Trajectron/src/rs_sac_controller.jl:733\n",
      "┌ Warning: Time 2.30 [sec]: This evaluation iteration took 0.113 [sec], which exceeds dtc.\n",
      "└ @ RiskSensitiveSAC /home/kang/DRC_Project/DRC_Trajectron/src/evaluation.jl:300\n"
     ]
    },
    {
     "name": "stderr",
     "output_type": "stream",
     "text": [
      "┌ Warning: Time 2.40 [sec]: SAC computation took 0.118 [sec], which exceeds the maximum computation time allowed.\n",
      "└ @ RiskSensitiveSAC /home/kang/DRC_Project/DRC_Trajectron/src/rs_sac_controller.jl:733\n",
      "┌ Warning: Time 2.40 [sec]: This evaluation iteration took 0.119 [sec], which exceeds dtc.\n",
      "└ @ RiskSensitiveSAC /home/kang/DRC_Project/DRC_Trajectron/src/evaluation.jl:300\n"
     ]
    },
    {
     "name": "stderr",
     "output_type": "stream",
     "text": [
      "┌ Warning: Time 2.50 [sec]: SAC computation took 0.13 [sec], which exceeds the maximum computation time allowed.\n",
      "└ @ RiskSensitiveSAC /home/kang/DRC_Project/DRC_Trajectron/src/rs_sac_controller.jl:733\n",
      "┌ Warning: Time 2.50 [sec]: This evaluation iteration took 0.131 [sec], which exceeds dtc.\n",
      "└ @ RiskSensitiveSAC /home/kang/DRC_Project/DRC_Trajectron/src/evaluation.jl:300\n"
     ]
    },
    {
     "name": "stderr",
     "output_type": "stream",
     "text": [
      "┌ Warning: Time 2.60 [sec]: SAC computation took 0.112 [sec], which exceeds the maximum computation time allowed.\n",
      "└ @ RiskSensitiveSAC /home/kang/DRC_Project/DRC_Trajectron/src/rs_sac_controller.jl:733\n",
      "┌ Warning: Time 2.60 [sec]: This evaluation iteration took 0.113 [sec], which exceeds dtc.\n",
      "└ @ RiskSensitiveSAC /home/kang/DRC_Project/DRC_Trajectron/src/evaluation.jl:300\n"
     ]
    },
    {
     "name": "stderr",
     "output_type": "stream",
     "text": [
      "┌ Warning: Time 2.70 [sec]: SAC computation took 0.117 [sec], which exceeds the maximum computation time allowed.\n",
      "└ @ RiskSensitiveSAC /home/kang/DRC_Project/DRC_Trajectron/src/rs_sac_controller.jl:733\n",
      "┌ Warning: Time 2.70 [sec]: This evaluation iteration took 0.118 [sec], which exceeds dtc.\n",
      "└ @ RiskSensitiveSAC /home/kang/DRC_Project/DRC_Trajectron/src/evaluation.jl:300\n"
     ]
    },
    {
     "name": "stderr",
     "output_type": "stream",
     "text": [
      "┌ Warning: Time 2.80 [sec]: This evaluation iteration took 0.096 [sec], which exceeds dtc.\n",
      "└ @ RiskSensitiveSAC /home/kang/DRC_Project/DRC_Trajectron/src/evaluation.jl:300\n"
     ]
    },
    {
     "name": "stderr",
     "output_type": "stream",
     "text": [
      "┌ Warning: Time 2.90 [sec]: This evaluation iteration took 0.088 [sec], which exceeds dtc.\n",
      "└ @ RiskSensitiveSAC /home/kang/DRC_Project/DRC_Trajectron/src/evaluation.jl:300\n"
     ]
    },
    {
     "name": "stderr",
     "output_type": "stream",
     "text": [
      "┌ Warning: Time 3.00 [sec]: SAC computation took 0.117 [sec], which exceeds the maximum computation time allowed.\n",
      "└ @ RiskSensitiveSAC /home/kang/DRC_Project/DRC_Trajectron/src/rs_sac_controller.jl:733\n",
      "┌ Warning: Time 3.00 [sec]: This evaluation iteration took 0.117 [sec], which exceeds dtc.\n",
      "└ @ RiskSensitiveSAC /home/kang/DRC_Project/DRC_Trajectron/src/evaluation.jl:300\n"
     ]
    },
    {
     "name": "stderr",
     "output_type": "stream",
     "text": [
      "┌ Warning: Time 3.10 [sec]: SAC computation took 0.116 [sec], which exceeds the maximum computation time allowed.\n",
      "└ @ RiskSensitiveSAC /home/kang/DRC_Project/DRC_Trajectron/src/rs_sac_controller.jl:733\n",
      "┌ Warning: Time 3.10 [sec]: This evaluation iteration took 0.117 [sec], which exceeds dtc.\n",
      "└ @ RiskSensitiveSAC /home/kang/DRC_Project/DRC_Trajectron/src/evaluation.jl:300\n"
     ]
    },
    {
     "name": "stderr",
     "output_type": "stream",
     "text": [
      "┌ Warning: Time 3.20 [sec]: SAC computation took 0.114 [sec], which exceeds the maximum computation time allowed.\n",
      "└ @ RiskSensitiveSAC /home/kang/DRC_Project/DRC_Trajectron/src/rs_sac_controller.jl:733\n",
      "┌ Warning: Time 3.20 [sec]: This evaluation iteration took 0.115 [sec], which exceeds dtc.\n",
      "└ @ RiskSensitiveSAC /home/kang/DRC_Project/DRC_Trajectron/src/evaluation.jl:300\n"
     ]
    },
    {
     "name": "stderr",
     "output_type": "stream",
     "text": [
      "┌ Warning: Time 3.30 [sec]: SAC computation took 0.116 [sec], which exceeds the maximum computation time allowed.\n",
      "└ @ RiskSensitiveSAC /home/kang/DRC_Project/DRC_Trajectron/src/rs_sac_controller.jl:733\n",
      "┌ Warning: Time 3.30 [sec]: This evaluation iteration took 0.117 [sec], which exceeds dtc.\n",
      "└ @ RiskSensitiveSAC /home/kang/DRC_Project/DRC_Trajectron/src/evaluation.jl:300\n"
     ]
    },
    {
     "name": "stderr",
     "output_type": "stream",
     "text": [
      "┌ Warning: Time 3.40 [sec]: SAC computation took 0.111 [sec], which exceeds the maximum computation time allowed.\n",
      "└ @ RiskSensitiveSAC /home/kang/DRC_Project/DRC_Trajectron/src/rs_sac_controller.jl:733\n",
      "┌ Warning: Time 3.40 [sec]: This evaluation iteration took 0.112 [sec], which exceeds dtc.\n",
      "└ @ RiskSensitiveSAC /home/kang/DRC_Project/DRC_Trajectron/src/evaluation.jl:300\n"
     ]
    },
    {
     "name": "stderr",
     "output_type": "stream",
     "text": [
      "┌ Warning: Time 3.50 [sec]: SAC computation took 0.126 [sec], which exceeds the maximum computation time allowed.\n",
      "└ @ RiskSensitiveSAC /home/kang/DRC_Project/DRC_Trajectron/src/rs_sac_controller.jl:733\n",
      "┌ Warning: Time 3.50 [sec]: This evaluation iteration took 0.127 [sec], which exceeds dtc.\n",
      "└ @ RiskSensitiveSAC /home/kang/DRC_Project/DRC_Trajectron/src/evaluation.jl:300\n"
     ]
    },
    {
     "name": "stderr",
     "output_type": "stream",
     "text": [
      "┌ Warning: Time 3.60 [sec]: SAC computation took 0.128 [sec], which exceeds the maximum computation time allowed.\n",
      "└ @ RiskSensitiveSAC /home/kang/DRC_Project/DRC_Trajectron/src/rs_sac_controller.jl:733\n",
      "┌ Warning: Time 3.60 [sec]: This evaluation iteration took 0.129 [sec], which exceeds dtc.\n",
      "└ @ RiskSensitiveSAC /home/kang/DRC_Project/DRC_Trajectron/src/evaluation.jl:300\n"
     ]
    },
    {
     "name": "stderr",
     "output_type": "stream",
     "text": [
      "┌ Warning: Time 3.70 [sec]: SAC computation took 0.125 [sec], which exceeds the maximum computation time allowed.\n",
      "└ @ RiskSensitiveSAC /home/kang/DRC_Project/DRC_Trajectron/src/rs_sac_controller.jl:733\n",
      "┌ Warning: Time 3.70 [sec]: This evaluation iteration took 0.126 [sec], which exceeds dtc.\n",
      "└ @ RiskSensitiveSAC /home/kang/DRC_Project/DRC_Trajectron/src/evaluation.jl:300\n"
     ]
    },
    {
     "name": "stderr",
     "output_type": "stream",
     "text": [
      "┌ Warning: Time 3.80 [sec]: SAC computation took 0.116 [sec], which exceeds the maximum computation time allowed.\n",
      "└ @ RiskSensitiveSAC /home/kang/DRC_Project/DRC_Trajectron/src/rs_sac_controller.jl:733\n",
      "┌ Warning: Time 3.80 [sec]: This evaluation iteration took 0.117 [sec], which exceeds dtc.\n",
      "└ @ RiskSensitiveSAC /home/kang/DRC_Project/DRC_Trajectron/src/evaluation.jl:300\n"
     ]
    },
    {
     "name": "stderr",
     "output_type": "stream",
     "text": [
      "┌ Warning: Time 3.90 [sec]: SAC computation took 0.116 [sec], which exceeds the maximum computation time allowed.\n",
      "└ @ RiskSensitiveSAC /home/kang/DRC_Project/DRC_Trajectron/src/rs_sac_controller.jl:733\n",
      "┌ Warning: Time 3.90 [sec]: This evaluation iteration took 0.117 [sec], which exceeds dtc.\n",
      "└ @ RiskSensitiveSAC /home/kang/DRC_Project/DRC_Trajectron/src/evaluation.jl:300\n"
     ]
    },
    {
     "name": "stderr",
     "output_type": "stream",
     "text": [
      "┌ Warning: Time 4.00 [sec]: SAC computation took 0.111 [sec], which exceeds the maximum computation time allowed.\n",
      "└ @ RiskSensitiveSAC /home/kang/DRC_Project/DRC_Trajectron/src/rs_sac_controller.jl:733\n",
      "┌ Warning: Time 4.00 [sec]: This evaluation iteration took 0.113 [sec], which exceeds dtc.\n",
      "└ @ RiskSensitiveSAC /home/kang/DRC_Project/DRC_Trajectron/src/evaluation.jl:300\n"
     ]
    },
    {
     "name": "stderr",
     "output_type": "stream",
     "text": [
      "┌ Warning: Time 4.10 [sec]: SAC computation took 0.113 [sec], which exceeds the maximum computation time allowed.\n",
      "└ @ RiskSensitiveSAC /home/kang/DRC_Project/DRC_Trajectron/src/rs_sac_controller.jl:733\n",
      "┌ Warning: Time 4.10 [sec]: This evaluation iteration took 0.113 [sec], which exceeds dtc.\n",
      "└ @ RiskSensitiveSAC /home/kang/DRC_Project/DRC_Trajectron/src/evaluation.jl:300\n"
     ]
    },
    {
     "name": "stderr",
     "output_type": "stream",
     "text": [
      "┌ Warning: Time 4.20 [sec]: SAC computation took 0.118 [sec], which exceeds the maximum computation time allowed.\n",
      "└ @ RiskSensitiveSAC /home/kang/DRC_Project/DRC_Trajectron/src/rs_sac_controller.jl:733\n",
      "┌ Warning: Time 4.20 [sec]: This evaluation iteration took 0.119 [sec], which exceeds dtc.\n",
      "└ @ RiskSensitiveSAC /home/kang/DRC_Project/DRC_Trajectron/src/evaluation.jl:300\n"
     ]
    },
    {
     "name": "stderr",
     "output_type": "stream",
     "text": [
      "┌ Warning: Time 4.30 [sec]: SAC computation took 0.117 [sec], which exceeds the maximum computation time allowed.\n",
      "└ @ RiskSensitiveSAC /home/kang/DRC_Project/DRC_Trajectron/src/rs_sac_controller.jl:733\n",
      "┌ Warning: Time 4.30 [sec]: This evaluation iteration took 0.118 [sec], which exceeds dtc.\n",
      "└ @ RiskSensitiveSAC /home/kang/DRC_Project/DRC_Trajectron/src/evaluation.jl:300\n"
     ]
    },
    {
     "name": "stderr",
     "output_type": "stream",
     "text": [
      "┌ Warning: Time 4.40 [sec]: SAC computation took 0.121 [sec], which exceeds the maximum computation time allowed.\n",
      "└ @ RiskSensitiveSAC /home/kang/DRC_Project/DRC_Trajectron/src/rs_sac_controller.jl:733\n",
      "┌ Warning: Time 4.40 [sec]: This evaluation iteration took 0.122 [sec], which exceeds dtc.\n",
      "└ @ RiskSensitiveSAC /home/kang/DRC_Project/DRC_Trajectron/src/evaluation.jl:300\n"
     ]
    },
    {
     "name": "stderr",
     "output_type": "stream",
     "text": [
      "┌ Warning: Time 4.50 [sec]: SAC computation took 0.113 [sec], which exceeds the maximum computation time allowed.\n",
      "└ @ RiskSensitiveSAC /home/kang/DRC_Project/DRC_Trajectron/src/rs_sac_controller.jl:733\n",
      "┌ Warning: Time 4.50 [sec]: This evaluation iteration took 0.114 [sec], which exceeds dtc.\n",
      "└ @ RiskSensitiveSAC /home/kang/DRC_Project/DRC_Trajectron/src/evaluation.jl:300\n"
     ]
    },
    {
     "name": "stderr",
     "output_type": "stream",
     "text": [
      "┌ Warning: Time 4.60 [sec]: SAC computation took 0.114 [sec], which exceeds the maximum computation time allowed.\n",
      "└ @ RiskSensitiveSAC /home/kang/DRC_Project/DRC_Trajectron/src/rs_sac_controller.jl:733\n",
      "┌ Warning: Time 4.60 [sec]: This evaluation iteration took 0.115 [sec], which exceeds dtc.\n",
      "└ @ RiskSensitiveSAC /home/kang/DRC_Project/DRC_Trajectron/src/evaluation.jl:300\n"
     ]
    },
    {
     "name": "stderr",
     "output_type": "stream",
     "text": [
      "┌ Warning: Time 4.70 [sec]: SAC computation took 0.116 [sec], which exceeds the maximum computation time allowed.\n",
      "└ @ RiskSensitiveSAC /home/kang/DRC_Project/DRC_Trajectron/src/rs_sac_controller.jl:733\n",
      "┌ Warning: Time 4.70 [sec]: This evaluation iteration took 0.117 [sec], which exceeds dtc.\n",
      "└ @ RiskSensitiveSAC /home/kang/DRC_Project/DRC_Trajectron/src/evaluation.jl:300\n"
     ]
    },
    {
     "name": "stderr",
     "output_type": "stream",
     "text": [
      "┌ Warning: Time 4.80 [sec]: SAC computation took 0.166 [sec], which exceeds the maximum computation time allowed.\n",
      "└ @ RiskSensitiveSAC /home/kang/DRC_Project/DRC_Trajectron/src/rs_sac_controller.jl:733\n",
      "┌ Warning: Time 4.80 [sec]: This evaluation iteration took 0.167 [sec], which exceeds dtc.\n",
      "└ @ RiskSensitiveSAC /home/kang/DRC_Project/DRC_Trajectron/src/evaluation.jl:300\n"
     ]
    },
    {
     "name": "stderr",
     "output_type": "stream",
     "text": [
      "┌ Warning: Time 4.90 [sec]: SAC computation took 0.132 [sec], which exceeds the maximum computation time allowed.\n",
      "└ @ RiskSensitiveSAC /home/kang/DRC_Project/DRC_Trajectron/src/rs_sac_controller.jl:733\n",
      "┌ Warning: Time 4.90 [sec]: This evaluation iteration took 0.133 [sec], which exceeds dtc.\n",
      "└ @ RiskSensitiveSAC /home/kang/DRC_Project/DRC_Trajectron/src/evaluation.jl:300\n"
     ]
    },
    {
     "name": "stderr",
     "output_type": "stream",
     "text": [
      "┌ Warning: Time 5.00 [sec]: SAC computation took 0.115 [sec], which exceeds the maximum computation time allowed.\n",
      "└ @ RiskSensitiveSAC /home/kang/DRC_Project/DRC_Trajectron/src/rs_sac_controller.jl:733\n",
      "┌ Warning: Time 5.00 [sec]: This evaluation iteration took 0.115 [sec], which exceeds dtc.\n",
      "└ @ RiskSensitiveSAC /home/kang/DRC_Project/DRC_Trajectron/src/evaluation.jl:300\n"
     ]
    },
    {
     "name": "stderr",
     "output_type": "stream",
     "text": [
      "┌ Warning: Time 5.10 [sec]: SAC computation took 0.116 [sec], which exceeds the maximum computation time allowed.\n",
      "└ @ RiskSensitiveSAC /home/kang/DRC_Project/DRC_Trajectron/src/rs_sac_controller.jl:733\n",
      "┌ Warning: Time 5.10 [sec]: This evaluation iteration took 0.116 [sec], which exceeds dtc.\n",
      "└ @ RiskSensitiveSAC /home/kang/DRC_Project/DRC_Trajectron/src/evaluation.jl:300\n"
     ]
    },
    {
     "name": "stderr",
     "output_type": "stream",
     "text": [
      "┌ Warning: Time 5.20 [sec]: SAC computation took 0.112 [sec], which exceeds the maximum computation time allowed.\n",
      "└ @ RiskSensitiveSAC /home/kang/DRC_Project/DRC_Trajectron/src/rs_sac_controller.jl:733\n",
      "┌ Warning: Time 5.20 [sec]: This evaluation iteration took 0.113 [sec], which exceeds dtc.\n",
      "└ @ RiskSensitiveSAC /home/kang/DRC_Project/DRC_Trajectron/src/evaluation.jl:300\n"
     ]
    },
    {
     "name": "stderr",
     "output_type": "stream",
     "text": [
      "┌ Warning: Time 5.30 [sec]: SAC computation took 0.106 [sec], which exceeds the maximum computation time allowed.\n",
      "└ @ RiskSensitiveSAC /home/kang/DRC_Project/DRC_Trajectron/src/rs_sac_controller.jl:733\n",
      "┌ Warning: Time 5.30 [sec]: This evaluation iteration took 0.107 [sec], which exceeds dtc.\n",
      "└ @ RiskSensitiveSAC /home/kang/DRC_Project/DRC_Trajectron/src/evaluation.jl:300\n"
     ]
    },
    {
     "name": "stderr",
     "output_type": "stream",
     "text": [
      "┌ Warning: Time 5.40 [sec]: SAC computation took 0.109 [sec], which exceeds the maximum computation time allowed.\n",
      "└ @ RiskSensitiveSAC /home/kang/DRC_Project/DRC_Trajectron/src/rs_sac_controller.jl:733\n",
      "┌ Warning: Time 5.40 [sec]: This evaluation iteration took 0.11 [sec], which exceeds dtc.\n",
      "└ @ RiskSensitiveSAC /home/kang/DRC_Project/DRC_Trajectron/src/evaluation.jl:300\n"
     ]
    },
    {
     "name": "stderr",
     "output_type": "stream",
     "text": [
      "┌ Warning: Time 5.50 [sec]: SAC computation took 0.108 [sec], which exceeds the maximum computation time allowed.\n",
      "└ @ RiskSensitiveSAC /home/kang/DRC_Project/DRC_Trajectron/src/rs_sac_controller.jl:733\n",
      "┌ Warning: Time 5.50 [sec]: This evaluation iteration took 0.108 [sec], which exceeds dtc.\n",
      "└ @ RiskSensitiveSAC /home/kang/DRC_Project/DRC_Trajectron/src/evaluation.jl:300\n"
     ]
    },
    {
     "name": "stderr",
     "output_type": "stream",
     "text": [
      "┌ Warning: Time 5.60 [sec]: SAC computation took 0.114 [sec], which exceeds the maximum computation time allowed.\n",
      "└ @ RiskSensitiveSAC /home/kang/DRC_Project/DRC_Trajectron/src/rs_sac_controller.jl:733\n",
      "┌ Warning: Time 5.60 [sec]: This evaluation iteration took 0.116 [sec], which exceeds dtc.\n",
      "└ @ RiskSensitiveSAC /home/kang/DRC_Project/DRC_Trajectron/src/evaluation.jl:300\n"
     ]
    },
    {
     "name": "stderr",
     "output_type": "stream",
     "text": [
      "┌ Warning: Time 5.70 [sec]: SAC computation took 0.114 [sec], which exceeds the maximum computation time allowed.\n",
      "└ @ RiskSensitiveSAC /home/kang/DRC_Project/DRC_Trajectron/src/rs_sac_controller.jl:733\n",
      "┌ Warning: Time 5.70 [sec]: This evaluation iteration took 0.114 [sec], which exceeds dtc.\n",
      "└ @ RiskSensitiveSAC /home/kang/DRC_Project/DRC_Trajectron/src/evaluation.jl:300\n"
     ]
    },
    {
     "name": "stderr",
     "output_type": "stream",
     "text": [
      "┌ Warning: Time 5.80 [sec]: SAC computation took 0.115 [sec], which exceeds the maximum computation time allowed.\n",
      "└ @ RiskSensitiveSAC /home/kang/DRC_Project/DRC_Trajectron/src/rs_sac_controller.jl:733\n",
      "┌ Warning: Time 5.80 [sec]: This evaluation iteration took 0.116 [sec], which exceeds dtc.\n",
      "└ @ RiskSensitiveSAC /home/kang/DRC_Project/DRC_Trajectron/src/evaluation.jl:300\n"
     ]
    },
    {
     "name": "stderr",
     "output_type": "stream",
     "text": [
      "┌ Warning: Time 5.90 [sec]: SAC computation took 0.115 [sec], which exceeds the maximum computation time allowed.\n",
      "└ @ RiskSensitiveSAC /home/kang/DRC_Project/DRC_Trajectron/src/rs_sac_controller.jl:733\n",
      "┌ Warning: Time 5.90 [sec]: This evaluation iteration took 0.116 [sec], which exceeds dtc.\n",
      "└ @ RiskSensitiveSAC /home/kang/DRC_Project/DRC_Trajectron/src/evaluation.jl:300\n"
     ]
    },
    {
     "name": "stderr",
     "output_type": "stream",
     "text": [
      "┌ Warning: Time 6.00 [sec]: SAC computation took 0.12 [sec], which exceeds the maximum computation time allowed.\n",
      "└ @ RiskSensitiveSAC /home/kang/DRC_Project/DRC_Trajectron/src/rs_sac_controller.jl:733\n",
      "┌ Warning: Time 6.00 [sec]: This evaluation iteration took 0.121 [sec], which exceeds dtc.\n",
      "└ @ RiskSensitiveSAC /home/kang/DRC_Project/DRC_Trajectron/src/evaluation.jl:300\n"
     ]
    },
    {
     "name": "stderr",
     "output_type": "stream",
     "text": [
      "┌ Warning: Time 6.10 [sec]: SAC computation took 0.114 [sec], which exceeds the maximum computation time allowed.\n",
      "└ @ RiskSensitiveSAC /home/kang/DRC_Project/DRC_Trajectron/src/rs_sac_controller.jl:733\n",
      "┌ Warning: Time 6.10 [sec]: This evaluation iteration took 0.115 [sec], which exceeds dtc.\n",
      "└ @ RiskSensitiveSAC /home/kang/DRC_Project/DRC_Trajectron/src/evaluation.jl:300\n"
     ]
    },
    {
     "name": "stderr",
     "output_type": "stream",
     "text": [
      "┌ Warning: Time 6.20 [sec]: SAC computation took 0.12 [sec], which exceeds the maximum computation time allowed.\n",
      "└ @ RiskSensitiveSAC /home/kang/DRC_Project/DRC_Trajectron/src/rs_sac_controller.jl:733\n",
      "┌ Warning: Time 6.20 [sec]: This evaluation iteration took 0.121 [sec], which exceeds dtc.\n",
      "└ @ RiskSensitiveSAC /home/kang/DRC_Project/DRC_Trajectron/src/evaluation.jl:300\n"
     ]
    },
    {
     "name": "stderr",
     "output_type": "stream",
     "text": [
      "┌ Warning: Time 6.30 [sec]: SAC computation took 0.116 [sec], which exceeds the maximum computation time allowed.\n",
      "└ @ RiskSensitiveSAC /home/kang/DRC_Project/DRC_Trajectron/src/rs_sac_controller.jl:733\n",
      "┌ Warning: Time 6.30 [sec]: This evaluation iteration took 0.117 [sec], which exceeds dtc.\n",
      "└ @ RiskSensitiveSAC /home/kang/DRC_Project/DRC_Trajectron/src/evaluation.jl:300\n"
     ]
    },
    {
     "name": "stderr",
     "output_type": "stream",
     "text": [
      "┌ Warning: Time 6.40 [sec]: SAC computation took 0.118 [sec], which exceeds the maximum computation time allowed.\n",
      "└ @ RiskSensitiveSAC /home/kang/DRC_Project/DRC_Trajectron/src/rs_sac_controller.jl:733\n",
      "┌ Warning: Time 6.40 [sec]: This evaluation iteration took 0.119 [sec], which exceeds dtc.\n",
      "└ @ RiskSensitiveSAC /home/kang/DRC_Project/DRC_Trajectron/src/evaluation.jl:300\n"
     ]
    },
    {
     "name": "stderr",
     "output_type": "stream",
     "text": [
      "┌ Warning: Time 6.50 [sec]: SAC computation took 0.111 [sec], which exceeds the maximum computation time allowed.\n",
      "└ @ RiskSensitiveSAC /home/kang/DRC_Project/DRC_Trajectron/src/rs_sac_controller.jl:733\n",
      "┌ Warning: Time 6.50 [sec]: This evaluation iteration took 0.112 [sec], which exceeds dtc.\n",
      "└ @ RiskSensitiveSAC /home/kang/DRC_Project/DRC_Trajectron/src/evaluation.jl:300\n"
     ]
    },
    {
     "name": "stderr",
     "output_type": "stream",
     "text": [
      "┌ Warning: Time 6.60 [sec]: SAC computation took 0.169 [sec], which exceeds the maximum computation time allowed.\n",
      "└ @ RiskSensitiveSAC /home/kang/DRC_Project/DRC_Trajectron/src/rs_sac_controller.jl:733\n",
      "┌ Warning: Time 6.60 [sec]: This evaluation iteration took 0.169 [sec], which exceeds dtc.\n",
      "└ @ RiskSensitiveSAC /home/kang/DRC_Project/DRC_Trajectron/src/evaluation.jl:300\n"
     ]
    },
    {
     "name": "stderr",
     "output_type": "stream",
     "text": [
      "┌ Warning: Time 6.70 [sec]: SAC computation took 0.109 [sec], which exceeds the maximum computation time allowed.\n",
      "└ @ RiskSensitiveSAC /home/kang/DRC_Project/DRC_Trajectron/src/rs_sac_controller.jl:733\n",
      "┌ Warning: Time 6.70 [sec]: This evaluation iteration took 0.11 [sec], which exceeds dtc.\n",
      "└ @ RiskSensitiveSAC /home/kang/DRC_Project/DRC_Trajectron/src/evaluation.jl:300\n"
     ]
    },
    {
     "name": "stderr",
     "output_type": "stream",
     "text": [
      "┌ Warning: Time 6.80 [sec]: SAC computation took 0.113 [sec], which exceeds the maximum computation time allowed.\n",
      "└ @ RiskSensitiveSAC /home/kang/DRC_Project/DRC_Trajectron/src/rs_sac_controller.jl:733\n",
      "┌ Warning: Time 6.80 [sec]: This evaluation iteration took 0.114 [sec], which exceeds dtc.\n",
      "└ @ RiskSensitiveSAC /home/kang/DRC_Project/DRC_Trajectron/src/evaluation.jl:300\n"
     ]
    },
    {
     "name": "stderr",
     "output_type": "stream",
     "text": [
      "┌ Warning: Time 6.90 [sec]: SAC computation took 0.115 [sec], which exceeds the maximum computation time allowed.\n",
      "└ @ RiskSensitiveSAC /home/kang/DRC_Project/DRC_Trajectron/src/rs_sac_controller.jl:733\n",
      "┌ Warning: Time 6.90 [sec]: This evaluation iteration took 0.116 [sec], which exceeds dtc.\n",
      "└ @ RiskSensitiveSAC /home/kang/DRC_Project/DRC_Trajectron/src/evaluation.jl:300\n"
     ]
    },
    {
     "name": "stderr",
     "output_type": "stream",
     "text": [
      "┌ Warning: Time 7.00 [sec]: SAC computation took 0.114 [sec], which exceeds the maximum computation time allowed.\n",
      "└ @ RiskSensitiveSAC /home/kang/DRC_Project/DRC_Trajectron/src/rs_sac_controller.jl:733\n",
      "┌ Warning: Time 7.00 [sec]: This evaluation iteration took 0.115 [sec], which exceeds dtc.\n",
      "└ @ RiskSensitiveSAC /home/kang/DRC_Project/DRC_Trajectron/src/evaluation.jl:300\n"
     ]
    },
    {
     "name": "stderr",
     "output_type": "stream",
     "text": [
      "┌ Warning: Time 7.10 [sec]: SAC computation took 0.113 [sec], which exceeds the maximum computation time allowed.\n",
      "└ @ RiskSensitiveSAC /home/kang/DRC_Project/DRC_Trajectron/src/rs_sac_controller.jl:733\n",
      "┌ Warning: Time 7.10 [sec]: This evaluation iteration took 0.114 [sec], which exceeds dtc.\n",
      "└ @ RiskSensitiveSAC /home/kang/DRC_Project/DRC_Trajectron/src/evaluation.jl:300\n"
     ]
    },
    {
     "name": "stderr",
     "output_type": "stream",
     "text": [
      "┌ Warning: Time 7.20 [sec]: SAC computation took 0.115 [sec], which exceeds the maximum computation time allowed.\n",
      "└ @ RiskSensitiveSAC /home/kang/DRC_Project/DRC_Trajectron/src/rs_sac_controller.jl:733\n",
      "┌ Warning: Time 7.20 [sec]: This evaluation iteration took 0.116 [sec], which exceeds dtc.\n",
      "└ @ RiskSensitiveSAC /home/kang/DRC_Project/DRC_Trajectron/src/evaluation.jl:300\n"
     ]
    },
    {
     "name": "stderr",
     "output_type": "stream",
     "text": [
      "┌ Warning: Time 7.30 [sec]: SAC computation took 0.113 [sec], which exceeds the maximum computation time allowed.\n",
      "└ @ RiskSensitiveSAC /home/kang/DRC_Project/DRC_Trajectron/src/rs_sac_controller.jl:733\n",
      "┌ Warning: Time 7.30 [sec]: This evaluation iteration took 0.113 [sec], which exceeds dtc.\n",
      "└ @ RiskSensitiveSAC /home/kang/DRC_Project/DRC_Trajectron/src/evaluation.jl:300\n"
     ]
    },
    {
     "name": "stderr",
     "output_type": "stream",
     "text": [
      "┌ Warning: Time 7.40 [sec]: SAC computation took 0.121 [sec], which exceeds the maximum computation time allowed.\n",
      "└ @ RiskSensitiveSAC /home/kang/DRC_Project/DRC_Trajectron/src/rs_sac_controller.jl:733\n",
      "┌ Warning: Time 7.40 [sec]: This evaluation iteration took 0.122 [sec], which exceeds dtc.\n",
      "└ @ RiskSensitiveSAC /home/kang/DRC_Project/DRC_Trajectron/src/evaluation.jl:300\n"
     ]
    },
    {
     "name": "stderr",
     "output_type": "stream",
     "text": [
      "┌ Warning: Time 7.50 [sec]: SAC computation took 0.114 [sec], which exceeds the maximum computation time allowed.\n",
      "└ @ RiskSensitiveSAC /home/kang/DRC_Project/DRC_Trajectron/src/rs_sac_controller.jl:733\n",
      "┌ Warning: Time 7.50 [sec]: This evaluation iteration took 0.114 [sec], which exceeds dtc.\n",
      "└ @ RiskSensitiveSAC /home/kang/DRC_Project/DRC_Trajectron/src/evaluation.jl:300\n"
     ]
    },
    {
     "name": "stderr",
     "output_type": "stream",
     "text": [
      "┌ Warning: Time 7.60 [sec]: SAC computation took 0.117 [sec], which exceeds the maximum computation time allowed.\n",
      "└ @ RiskSensitiveSAC /home/kang/DRC_Project/DRC_Trajectron/src/rs_sac_controller.jl:733\n",
      "┌ Warning: Time 7.60 [sec]: This evaluation iteration took 0.118 [sec], which exceeds dtc.\n",
      "└ @ RiskSensitiveSAC /home/kang/DRC_Project/DRC_Trajectron/src/evaluation.jl:300\n"
     ]
    },
    {
     "name": "stderr",
     "output_type": "stream",
     "text": [
      "┌ Warning: Time 7.70 [sec]: SAC computation took 0.115 [sec], which exceeds the maximum computation time allowed.\n",
      "└ @ RiskSensitiveSAC /home/kang/DRC_Project/DRC_Trajectron/src/rs_sac_controller.jl:733\n",
      "┌ Warning: Time 7.70 [sec]: This evaluation iteration took 0.116 [sec], which exceeds dtc.\n",
      "└ @ RiskSensitiveSAC /home/kang/DRC_Project/DRC_Trajectron/src/evaluation.jl:300\n"
     ]
    },
    {
     "name": "stderr",
     "output_type": "stream",
     "text": [
      "┌ Warning: Time 7.80 [sec]: SAC computation took 0.116 [sec], which exceeds the maximum computation time allowed.\n",
      "└ @ RiskSensitiveSAC /home/kang/DRC_Project/DRC_Trajectron/src/rs_sac_controller.jl:733\n",
      "┌ Warning: Time 7.80 [sec]: This evaluation iteration took 0.117 [sec], which exceeds dtc.\n",
      "└ @ RiskSensitiveSAC /home/kang/DRC_Project/DRC_Trajectron/src/evaluation.jl:300\n"
     ]
    },
    {
     "name": "stderr",
     "output_type": "stream",
     "text": [
      "┌ Warning: Time 7.90 [sec]: SAC computation took 0.127 [sec], which exceeds the maximum computation time allowed.\n",
      "└ @ RiskSensitiveSAC /home/kang/DRC_Project/DRC_Trajectron/src/rs_sac_controller.jl:733\n",
      "┌ Warning: Time 7.90 [sec]: This evaluation iteration took 0.128 [sec], which exceeds dtc.\n",
      "└ @ RiskSensitiveSAC /home/kang/DRC_Project/DRC_Trajectron/src/evaluation.jl:300\n"
     ]
    },
    {
     "name": "stderr",
     "output_type": "stream",
     "text": [
      "┌ Warning: Time 8.00 [sec]: SAC computation took 0.113 [sec], which exceeds the maximum computation time allowed.\n",
      "└ @ RiskSensitiveSAC /home/kang/DRC_Project/DRC_Trajectron/src/rs_sac_controller.jl:733\n",
      "┌ Warning: Time 8.00 [sec]: This evaluation iteration took 0.115 [sec], which exceeds dtc.\n",
      "└ @ RiskSensitiveSAC /home/kang/DRC_Project/DRC_Trajectron/src/evaluation.jl:300\n"
     ]
    },
    {
     "name": "stderr",
     "output_type": "stream",
     "text": [
      "┌ Warning: Time 8.10 [sec]: SAC computation took 0.114 [sec], which exceeds the maximum computation time allowed.\n",
      "└ @ RiskSensitiveSAC /home/kang/DRC_Project/DRC_Trajectron/src/rs_sac_controller.jl:733\n",
      "┌ Warning: Time 8.10 [sec]: This evaluation iteration took 0.115 [sec], which exceeds dtc.\n",
      "└ @ RiskSensitiveSAC /home/kang/DRC_Project/DRC_Trajectron/src/evaluation.jl:300\n"
     ]
    },
    {
     "name": "stderr",
     "output_type": "stream",
     "text": [
      "┌ Warning: Time 8.20 [sec]: SAC computation took 0.118 [sec], which exceeds the maximum computation time allowed.\n",
      "└ @ RiskSensitiveSAC /home/kang/DRC_Project/DRC_Trajectron/src/rs_sac_controller.jl:733\n",
      "┌ Warning: Time 8.20 [sec]: This evaluation iteration took 0.118 [sec], which exceeds dtc.\n",
      "└ @ RiskSensitiveSAC /home/kang/DRC_Project/DRC_Trajectron/src/evaluation.jl:300\n"
     ]
    },
    {
     "name": "stderr",
     "output_type": "stream",
     "text": [
      "┌ Warning: Time 8.30 [sec]: SAC computation took 0.115 [sec], which exceeds the maximum computation time allowed.\n",
      "└ @ RiskSensitiveSAC /home/kang/DRC_Project/DRC_Trajectron/src/rs_sac_controller.jl:733\n",
      "┌ Warning: Time 8.30 [sec]: This evaluation iteration took 0.115 [sec], which exceeds dtc.\n",
      "└ @ RiskSensitiveSAC /home/kang/DRC_Project/DRC_Trajectron/src/evaluation.jl:300\n"
     ]
    },
    {
     "name": "stderr",
     "output_type": "stream",
     "text": [
      "┌ Warning: Time 8.40 [sec]: SAC computation took 0.204 [sec], which exceeds the maximum computation time allowed.\n",
      "└ @ RiskSensitiveSAC /home/kang/DRC_Project/DRC_Trajectron/src/rs_sac_controller.jl:733\n",
      "┌ Warning: Time 8.40 [sec]: This evaluation iteration took 0.205 [sec], which exceeds dtc.\n",
      "└ @ RiskSensitiveSAC /home/kang/DRC_Project/DRC_Trajectron/src/evaluation.jl:300\n"
     ]
    },
    {
     "name": "stderr",
     "output_type": "stream",
     "text": [
      "┌ Warning: Time 8.50 [sec]: SAC computation took 0.134 [sec], which exceeds the maximum computation time allowed.\n",
      "└ @ RiskSensitiveSAC /home/kang/DRC_Project/DRC_Trajectron/src/rs_sac_controller.jl:733\n",
      "┌ Warning: Time 8.50 [sec]: This evaluation iteration took 0.135 [sec], which exceeds dtc.\n",
      "└ @ RiskSensitiveSAC /home/kang/DRC_Project/DRC_Trajectron/src/evaluation.jl:300\n"
     ]
    },
    {
     "name": "stderr",
     "output_type": "stream",
     "text": [
      "┌ Warning: Time 8.60 [sec]: SAC computation took 0.121 [sec], which exceeds the maximum computation time allowed.\n",
      "└ @ RiskSensitiveSAC /home/kang/DRC_Project/DRC_Trajectron/src/rs_sac_controller.jl:733\n",
      "┌ Warning: Time 8.60 [sec]: This evaluation iteration took 0.122 [sec], which exceeds dtc.\n",
      "└ @ RiskSensitiveSAC /home/kang/DRC_Project/DRC_Trajectron/src/evaluation.jl:300\n"
     ]
    },
    {
     "name": "stderr",
     "output_type": "stream",
     "text": [
      "┌ Warning: Time 8.70 [sec]: SAC computation took 0.125 [sec], which exceeds the maximum computation time allowed.\n",
      "└ @ RiskSensitiveSAC /home/kang/DRC_Project/DRC_Trajectron/src/rs_sac_controller.jl:733\n",
      "┌ Warning: Time 8.70 [sec]: This evaluation iteration took 0.127 [sec], which exceeds dtc.\n",
      "└ @ RiskSensitiveSAC /home/kang/DRC_Project/DRC_Trajectron/src/evaluation.jl:300\n"
     ]
    },
    {
     "name": "stderr",
     "output_type": "stream",
     "text": [
      "┌ Warning: Time 8.80 [sec]: SAC computation took 0.118 [sec], which exceeds the maximum computation time allowed.\n",
      "└ @ RiskSensitiveSAC /home/kang/DRC_Project/DRC_Trajectron/src/rs_sac_controller.jl:733\n",
      "┌ Warning: Time 8.80 [sec]: This evaluation iteration took 0.119 [sec], which exceeds dtc.\n",
      "└ @ RiskSensitiveSAC /home/kang/DRC_Project/DRC_Trajectron/src/evaluation.jl:300\n"
     ]
    },
    {
     "name": "stderr",
     "output_type": "stream",
     "text": [
      "┌ Warning: Time 8.90 [sec]: SAC computation took 0.135 [sec], which exceeds the maximum computation time allowed.\n",
      "└ @ RiskSensitiveSAC /home/kang/DRC_Project/DRC_Trajectron/src/rs_sac_controller.jl:733\n",
      "┌ Warning: Time 8.90 [sec]: This evaluation iteration took 0.136 [sec], which exceeds dtc.\n",
      "└ @ RiskSensitiveSAC /home/kang/DRC_Project/DRC_Trajectron/src/evaluation.jl:300\n"
     ]
    },
    {
     "name": "stderr",
     "output_type": "stream",
     "text": [
      "┌ Warning: Time 9.00 [sec]: SAC computation took 0.123 [sec], which exceeds the maximum computation time allowed.\n",
      "└ @ RiskSensitiveSAC /home/kang/DRC_Project/DRC_Trajectron/src/rs_sac_controller.jl:733\n",
      "┌ Warning: Time 9.00 [sec]: This evaluation iteration took 0.124 [sec], which exceeds dtc.\n",
      "└ @ RiskSensitiveSAC /home/kang/DRC_Project/DRC_Trajectron/src/evaluation.jl:300\n"
     ]
    },
    {
     "name": "stderr",
     "output_type": "stream",
     "text": [
      "┌ Warning: Time 9.10 [sec]: SAC computation took 0.125 [sec], which exceeds the maximum computation time allowed.\n",
      "└ @ RiskSensitiveSAC /home/kang/DRC_Project/DRC_Trajectron/src/rs_sac_controller.jl:733\n",
      "┌ Warning: Time 9.10 [sec]: This evaluation iteration took 0.125 [sec], which exceeds dtc.\n",
      "└ @ RiskSensitiveSAC /home/kang/DRC_Project/DRC_Trajectron/src/evaluation.jl:300\n"
     ]
    },
    {
     "name": "stderr",
     "output_type": "stream",
     "text": [
      "┌ Warning: Time 9.20 [sec]: SAC computation took 0.118 [sec], which exceeds the maximum computation time allowed.\n",
      "└ @ RiskSensitiveSAC /home/kang/DRC_Project/DRC_Trajectron/src/rs_sac_controller.jl:733\n",
      "┌ Warning: Time 9.20 [sec]: This evaluation iteration took 0.119 [sec], which exceeds dtc.\n",
      "└ @ RiskSensitiveSAC /home/kang/DRC_Project/DRC_Trajectron/src/evaluation.jl:300\n"
     ]
    },
    {
     "name": "stderr",
     "output_type": "stream",
     "text": [
      "┌ Warning: Time 9.30 [sec]: SAC computation took 0.124 [sec], which exceeds the maximum computation time allowed.\n",
      "└ @ RiskSensitiveSAC /home/kang/DRC_Project/DRC_Trajectron/src/rs_sac_controller.jl:733\n",
      "┌ Warning: Time 9.30 [sec]: This evaluation iteration took 0.125 [sec], which exceeds dtc.\n",
      "└ @ RiskSensitiveSAC /home/kang/DRC_Project/DRC_Trajectron/src/evaluation.jl:300\n"
     ]
    },
    {
     "name": "stderr",
     "output_type": "stream",
     "text": [
      "┌ Warning: Time 9.40 [sec]: SAC computation took 0.128 [sec], which exceeds the maximum computation time allowed.\n",
      "└ @ RiskSensitiveSAC /home/kang/DRC_Project/DRC_Trajectron/src/rs_sac_controller.jl:733\n",
      "┌ Warning: Time 9.40 [sec]: This evaluation iteration took 0.128 [sec], which exceeds dtc.\n",
      "└ @ RiskSensitiveSAC /home/kang/DRC_Project/DRC_Trajectron/src/evaluation.jl:300\n"
     ]
    },
    {
     "name": "stderr",
     "output_type": "stream",
     "text": [
      "┌ Warning: Time 9.50 [sec]: SAC computation took 0.125 [sec], which exceeds the maximum computation time allowed.\n",
      "└ @ RiskSensitiveSAC /home/kang/DRC_Project/DRC_Trajectron/src/rs_sac_controller.jl:733\n",
      "┌ Warning: Time 9.50 [sec]: This evaluation iteration took 0.125 [sec], which exceeds dtc.\n",
      "└ @ RiskSensitiveSAC /home/kang/DRC_Project/DRC_Trajectron/src/evaluation.jl:300\n"
     ]
    },
    {
     "name": "stderr",
     "output_type": "stream",
     "text": [
      "┌ Warning: Time 9.60 [sec]: SAC computation took 0.114 [sec], which exceeds the maximum computation time allowed.\n",
      "└ @ RiskSensitiveSAC /home/kang/DRC_Project/DRC_Trajectron/src/rs_sac_controller.jl:733\n",
      "┌ Warning: Time 9.60 [sec]: This evaluation iteration took 0.115 [sec], which exceeds dtc.\n",
      "└ @ RiskSensitiveSAC /home/kang/DRC_Project/DRC_Trajectron/src/evaluation.jl:300\n"
     ]
    },
    {
     "name": "stderr",
     "output_type": "stream",
     "text": [
      "┌ Warning: Time 9.70 [sec]: SAC computation took 0.113 [sec], which exceeds the maximum computation time allowed.\n",
      "└ @ RiskSensitiveSAC /home/kang/DRC_Project/DRC_Trajectron/src/rs_sac_controller.jl:733\n",
      "┌ Warning: Time 9.70 [sec]: This evaluation iteration took 0.113 [sec], which exceeds dtc.\n",
      "└ @ RiskSensitiveSAC /home/kang/DRC_Project/DRC_Trajectron/src/evaluation.jl:300\n"
     ]
    },
    {
     "name": "stderr",
     "output_type": "stream",
     "text": [
      "┌ Warning: Time 9.80 [sec]: SAC computation took 0.11 [sec], which exceeds the maximum computation time allowed.\n",
      "└ @ RiskSensitiveSAC /home/kang/DRC_Project/DRC_Trajectron/src/rs_sac_controller.jl:733\n",
      "┌ Warning: Time 9.80 [sec]: This evaluation iteration took 0.111 [sec], which exceeds dtc.\n",
      "└ @ RiskSensitiveSAC /home/kang/DRC_Project/DRC_Trajectron/src/evaluation.jl:300\n"
     ]
    },
    {
     "name": "stderr",
     "output_type": "stream",
     "text": [
      "┌ Warning: Time 9.90 [sec]: SAC computation took 0.121 [sec], which exceeds the maximum computation time allowed.\n",
      "└ @ RiskSensitiveSAC /home/kang/DRC_Project/DRC_Trajectron/src/rs_sac_controller.jl:733\n",
      "┌ Warning: Time 9.90 [sec]: This evaluation iteration took 0.121 [sec], which exceeds dtc.\n",
      "└ @ RiskSensitiveSAC /home/kang/DRC_Project/DRC_Trajectron/src/evaluation.jl:300\n"
     ]
    },
    {
     "name": "stdout",
     "output_type": "stream",
     "text": [
      "Total Collision: 0, Total Position Cost: 84.06836193748236, Total Control Cost: 1.9511346599844224, Minimum Distance: 1.0459724233115864, Experiment 13: "
     ]
    },
    {
     "name": "stderr",
     "output_type": "stream",
     "text": [
      "┌ Warning: Time 0.00 [sec]: SAC computation took 0.111 [sec], which exceeds the maximum computation time allowed.\n",
      "└ @ RiskSensitiveSAC /home/kang/DRC_Project/DRC_Trajectron/src/rs_sac_controller.jl:733\n"
     ]
    },
    {
     "name": "stderr",
     "output_type": "stream",
     "text": [
      "┌ Warning: Time 0.10 [sec]: SAC computation took 0.121 [sec], which exceeds the maximum computation time allowed.\n",
      "└ @ RiskSensitiveSAC /home/kang/DRC_Project/DRC_Trajectron/src/rs_sac_controller.jl:733\n",
      "┌ Warning: Time 0.10 [sec]: This evaluation iteration took 0.122 [sec], which exceeds dtc.\n",
      "└ @ RiskSensitiveSAC /home/kang/DRC_Project/DRC_Trajectron/src/evaluation.jl:300\n"
     ]
    },
    {
     "name": "stderr",
     "output_type": "stream",
     "text": [
      "┌ Warning: Time 0.20 [sec]: SAC computation took 0.212 [sec], which exceeds the maximum computation time allowed.\n",
      "└ @ RiskSensitiveSAC /home/kang/DRC_Project/DRC_Trajectron/src/rs_sac_controller.jl:733\n",
      "┌ Warning: Time 0.20 [sec]: This evaluation iteration took 0.212 [sec], which exceeds dtc.\n",
      "└ @ RiskSensitiveSAC /home/kang/DRC_Project/DRC_Trajectron/src/evaluation.jl:300\n"
     ]
    },
    {
     "name": "stderr",
     "output_type": "stream",
     "text": [
      "┌ Warning: Time 0.30 [sec]: SAC computation took 0.12 [sec], which exceeds the maximum computation time allowed.\n",
      "└ @ RiskSensitiveSAC /home/kang/DRC_Project/DRC_Trajectron/src/rs_sac_controller.jl:733\n",
      "┌ Warning: Time 0.30 [sec]: This evaluation iteration took 0.12 [sec], which exceeds dtc.\n",
      "└ @ RiskSensitiveSAC /home/kang/DRC_Project/DRC_Trajectron/src/evaluation.jl:300\n"
     ]
    },
    {
     "name": "stderr",
     "output_type": "stream",
     "text": [
      "┌ Warning: Time 0.40 [sec]: SAC computation took 0.125 [sec], which exceeds the maximum computation time allowed.\n",
      "└ @ RiskSensitiveSAC /home/kang/DRC_Project/DRC_Trajectron/src/rs_sac_controller.jl:733\n",
      "┌ Warning: Time 0.40 [sec]: This evaluation iteration took 0.126 [sec], which exceeds dtc.\n",
      "└ @ RiskSensitiveSAC /home/kang/DRC_Project/DRC_Trajectron/src/evaluation.jl:300\n"
     ]
    },
    {
     "name": "stderr",
     "output_type": "stream",
     "text": [
      "┌ Warning: Time 0.50 [sec]: SAC computation took 0.121 [sec], which exceeds the maximum computation time allowed.\n",
      "└ @ RiskSensitiveSAC /home/kang/DRC_Project/DRC_Trajectron/src/rs_sac_controller.jl:733\n",
      "┌ Warning: Time 0.50 [sec]: This evaluation iteration took 0.122 [sec], which exceeds dtc.\n",
      "└ @ RiskSensitiveSAC /home/kang/DRC_Project/DRC_Trajectron/src/evaluation.jl:300\n"
     ]
    },
    {
     "name": "stderr",
     "output_type": "stream",
     "text": [
      "┌ Warning: Time 0.60 [sec]: SAC computation took 0.122 [sec], which exceeds the maximum computation time allowed.\n",
      "└ @ RiskSensitiveSAC /home/kang/DRC_Project/DRC_Trajectron/src/rs_sac_controller.jl:733\n",
      "┌ Warning: Time 0.60 [sec]: This evaluation iteration took 0.123 [sec], which exceeds dtc.\n",
      "└ @ RiskSensitiveSAC /home/kang/DRC_Project/DRC_Trajectron/src/evaluation.jl:300\n"
     ]
    },
    {
     "name": "stderr",
     "output_type": "stream",
     "text": [
      "┌ Warning: Time 0.70 [sec]: SAC computation took 0.125 [sec], which exceeds the maximum computation time allowed.\n",
      "└ @ RiskSensitiveSAC /home/kang/DRC_Project/DRC_Trajectron/src/rs_sac_controller.jl:733\n",
      "┌ Warning: Time 0.70 [sec]: This evaluation iteration took 0.126 [sec], which exceeds dtc.\n",
      "└ @ RiskSensitiveSAC /home/kang/DRC_Project/DRC_Trajectron/src/evaluation.jl:300\n"
     ]
    },
    {
     "name": "stderr",
     "output_type": "stream",
     "text": [
      "┌ Warning: Time 0.80 [sec]: SAC computation took 0.114 [sec], which exceeds the maximum computation time allowed.\n",
      "└ @ RiskSensitiveSAC /home/kang/DRC_Project/DRC_Trajectron/src/rs_sac_controller.jl:733\n",
      "┌ Warning: Time 0.80 [sec]: This evaluation iteration took 0.115 [sec], which exceeds dtc.\n",
      "└ @ RiskSensitiveSAC /home/kang/DRC_Project/DRC_Trajectron/src/evaluation.jl:300\n"
     ]
    },
    {
     "name": "stderr",
     "output_type": "stream",
     "text": [
      "┌ Warning: Time 0.90 [sec]: SAC computation took 0.105 [sec], which exceeds the maximum computation time allowed.\n",
      "└ @ RiskSensitiveSAC /home/kang/DRC_Project/DRC_Trajectron/src/rs_sac_controller.jl:733\n",
      "┌ Warning: Time 0.90 [sec]: This evaluation iteration took 0.105 [sec], which exceeds dtc.\n",
      "└ @ RiskSensitiveSAC /home/kang/DRC_Project/DRC_Trajectron/src/evaluation.jl:300\n"
     ]
    },
    {
     "name": "stderr",
     "output_type": "stream",
     "text": [
      "┌ Warning: Time 1.00 [sec]: SAC computation took 0.112 [sec], which exceeds the maximum computation time allowed.\n",
      "└ @ RiskSensitiveSAC /home/kang/DRC_Project/DRC_Trajectron/src/rs_sac_controller.jl:733\n",
      "┌ Warning: Time 1.00 [sec]: This evaluation iteration took 0.113 [sec], which exceeds dtc.\n",
      "└ @ RiskSensitiveSAC /home/kang/DRC_Project/DRC_Trajectron/src/evaluation.jl:300\n"
     ]
    },
    {
     "name": "stderr",
     "output_type": "stream",
     "text": [
      "┌ Warning: Time 1.10 [sec]: SAC computation took 0.111 [sec], which exceeds the maximum computation time allowed.\n",
      "└ @ RiskSensitiveSAC /home/kang/DRC_Project/DRC_Trajectron/src/rs_sac_controller.jl:733\n",
      "┌ Warning: Time 1.10 [sec]: This evaluation iteration took 0.111 [sec], which exceeds dtc.\n",
      "└ @ RiskSensitiveSAC /home/kang/DRC_Project/DRC_Trajectron/src/evaluation.jl:300\n"
     ]
    },
    {
     "name": "stderr",
     "output_type": "stream",
     "text": [
      "┌ Warning: Time 1.20 [sec]: SAC computation took 0.115 [sec], which exceeds the maximum computation time allowed.\n",
      "└ @ RiskSensitiveSAC /home/kang/DRC_Project/DRC_Trajectron/src/rs_sac_controller.jl:733\n",
      "┌ Warning: Time 1.20 [sec]: This evaluation iteration took 0.116 [sec], which exceeds dtc.\n",
      "└ @ RiskSensitiveSAC /home/kang/DRC_Project/DRC_Trajectron/src/evaluation.jl:300\n"
     ]
    },
    {
     "name": "stderr",
     "output_type": "stream",
     "text": [
      "┌ Warning: Time 1.30 [sec]: SAC computation took 0.123 [sec], which exceeds the maximum computation time allowed.\n",
      "└ @ RiskSensitiveSAC /home/kang/DRC_Project/DRC_Trajectron/src/rs_sac_controller.jl:733\n",
      "┌ Warning: Time 1.30 [sec]: This evaluation iteration took 0.124 [sec], which exceeds dtc.\n",
      "└ @ RiskSensitiveSAC /home/kang/DRC_Project/DRC_Trajectron/src/evaluation.jl:300\n"
     ]
    },
    {
     "name": "stderr",
     "output_type": "stream",
     "text": [
      "┌ Warning: Time 1.40 [sec]: SAC computation took 0.122 [sec], which exceeds the maximum computation time allowed.\n",
      "└ @ RiskSensitiveSAC /home/kang/DRC_Project/DRC_Trajectron/src/rs_sac_controller.jl:733\n",
      "┌ Warning: Time 1.40 [sec]: This evaluation iteration took 0.123 [sec], which exceeds dtc.\n",
      "└ @ RiskSensitiveSAC /home/kang/DRC_Project/DRC_Trajectron/src/evaluation.jl:300\n"
     ]
    },
    {
     "name": "stderr",
     "output_type": "stream",
     "text": [
      "┌ Warning: Time 1.50 [sec]: This evaluation iteration took 0.099 [sec], which exceeds dtc.\n",
      "└ @ RiskSensitiveSAC /home/kang/DRC_Project/DRC_Trajectron/src/evaluation.jl:300\n"
     ]
    },
    {
     "name": "stderr",
     "output_type": "stream",
     "text": [
      "┌ Warning: Time 1.60 [sec]: This evaluation iteration took 0.083 [sec], which exceeds dtc.\n",
      "└ @ RiskSensitiveSAC /home/kang/DRC_Project/DRC_Trajectron/src/evaluation.jl:300\n"
     ]
    },
    {
     "name": "stderr",
     "output_type": "stream",
     "text": [
      "┌ Warning: Time 1.70 [sec]: SAC computation took 0.115 [sec], which exceeds the maximum computation time allowed.\n",
      "└ @ RiskSensitiveSAC /home/kang/DRC_Project/DRC_Trajectron/src/rs_sac_controller.jl:733\n",
      "┌ Warning: Time 1.70 [sec]: This evaluation iteration took 0.115 [sec], which exceeds dtc.\n",
      "└ @ RiskSensitiveSAC /home/kang/DRC_Project/DRC_Trajectron/src/evaluation.jl:300\n"
     ]
    },
    {
     "name": "stderr",
     "output_type": "stream",
     "text": [
      "┌ Warning: Time 1.80 [sec]: SAC computation took 0.101 [sec], which exceeds the maximum computation time allowed.\n",
      "└ @ RiskSensitiveSAC /home/kang/DRC_Project/DRC_Trajectron/src/rs_sac_controller.jl:733\n",
      "┌ Warning: Time 1.80 [sec]: This evaluation iteration took 0.102 [sec], which exceeds dtc.\n",
      "└ @ RiskSensitiveSAC /home/kang/DRC_Project/DRC_Trajectron/src/evaluation.jl:300\n"
     ]
    },
    {
     "name": "stderr",
     "output_type": "stream",
     "text": [
      "┌ Warning: Time 1.90 [sec]: SAC computation took 0.108 [sec], which exceeds the maximum computation time allowed.\n",
      "└ @ RiskSensitiveSAC /home/kang/DRC_Project/DRC_Trajectron/src/rs_sac_controller.jl:733\n",
      "┌ Warning: Time 1.90 [sec]: This evaluation iteration took 0.109 [sec], which exceeds dtc.\n",
      "└ @ RiskSensitiveSAC /home/kang/DRC_Project/DRC_Trajectron/src/evaluation.jl:300\n"
     ]
    },
    {
     "name": "stderr",
     "output_type": "stream",
     "text": [
      "┌ Warning: Time 2.00 [sec]: SAC computation took 0.106 [sec], which exceeds the maximum computation time allowed.\n",
      "└ @ RiskSensitiveSAC /home/kang/DRC_Project/DRC_Trajectron/src/rs_sac_controller.jl:733\n",
      "┌ Warning: Time 2.00 [sec]: This evaluation iteration took 0.107 [sec], which exceeds dtc.\n",
      "└ @ RiskSensitiveSAC /home/kang/DRC_Project/DRC_Trajectron/src/evaluation.jl:300\n"
     ]
    },
    {
     "name": "stderr",
     "output_type": "stream",
     "text": [
      "┌ Warning: Time 2.10 [sec]: SAC computation took 0.121 [sec], which exceeds the maximum computation time allowed.\n",
      "└ @ RiskSensitiveSAC /home/kang/DRC_Project/DRC_Trajectron/src/rs_sac_controller.jl:733\n",
      "┌ Warning: Time 2.10 [sec]: This evaluation iteration took 0.121 [sec], which exceeds dtc.\n",
      "└ @ RiskSensitiveSAC /home/kang/DRC_Project/DRC_Trajectron/src/evaluation.jl:300\n"
     ]
    },
    {
     "name": "stderr",
     "output_type": "stream",
     "text": [
      "┌ Warning: Time 2.20 [sec]: This evaluation iteration took 0.096 [sec], which exceeds dtc.\n",
      "└ @ RiskSensitiveSAC /home/kang/DRC_Project/DRC_Trajectron/src/evaluation.jl:300\n"
     ]
    },
    {
     "name": "stderr",
     "output_type": "stream",
     "text": [
      "┌ Warning: Time 2.30 [sec]: This evaluation iteration took 0.092 [sec], which exceeds dtc.\n",
      "└ @ RiskSensitiveSAC /home/kang/DRC_Project/DRC_Trajectron/src/evaluation.jl:300\n"
     ]
    },
    {
     "name": "stderr",
     "output_type": "stream",
     "text": [
      "┌ Warning: Time 2.40 [sec]: This evaluation iteration took 0.09 [sec], which exceeds dtc.\n",
      "└ @ RiskSensitiveSAC /home/kang/DRC_Project/DRC_Trajectron/src/evaluation.jl:300\n"
     ]
    },
    {
     "name": "stderr",
     "output_type": "stream",
     "text": [
      "┌ Warning: Time 2.50 [sec]: This evaluation iteration took 0.089 [sec], which exceeds dtc.\n",
      "└ @ RiskSensitiveSAC /home/kang/DRC_Project/DRC_Trajectron/src/evaluation.jl:300\n"
     ]
    },
    {
     "name": "stderr",
     "output_type": "stream",
     "text": [
      "┌ Warning: Time 2.60 [sec]: This evaluation iteration took 0.089 [sec], which exceeds dtc.\n",
      "└ @ RiskSensitiveSAC /home/kang/DRC_Project/DRC_Trajectron/src/evaluation.jl:300\n"
     ]
    },
    {
     "name": "stderr",
     "output_type": "stream",
     "text": [
      "┌ Warning: Time 2.70 [sec]: This evaluation iteration took 0.091 [sec], which exceeds dtc.\n",
      "└ @ RiskSensitiveSAC /home/kang/DRC_Project/DRC_Trajectron/src/evaluation.jl:300\n"
     ]
    },
    {
     "name": "stderr",
     "output_type": "stream",
     "text": [
      "┌ Warning: Time 2.80 [sec]: This evaluation iteration took 0.088 [sec], which exceeds dtc.\n",
      "└ @ RiskSensitiveSAC /home/kang/DRC_Project/DRC_Trajectron/src/evaluation.jl:300\n"
     ]
    },
    {
     "name": "stderr",
     "output_type": "stream",
     "text": [
      "┌ Warning: Time 2.90 [sec]: This evaluation iteration took 0.09 [sec], which exceeds dtc.\n",
      "└ @ RiskSensitiveSAC /home/kang/DRC_Project/DRC_Trajectron/src/evaluation.jl:300\n"
     ]
    },
    {
     "name": "stderr",
     "output_type": "stream",
     "text": [
      "┌ Warning: Time 3.00 [sec]: This evaluation iteration took 0.089 [sec], which exceeds dtc.\n",
      "└ @ RiskSensitiveSAC /home/kang/DRC_Project/DRC_Trajectron/src/evaluation.jl:300\n"
     ]
    },
    {
     "name": "stderr",
     "output_type": "stream",
     "text": [
      "┌ Warning: Time 3.10 [sec]: This evaluation iteration took 0.092 [sec], which exceeds dtc.\n",
      "└ @ RiskSensitiveSAC /home/kang/DRC_Project/DRC_Trajectron/src/evaluation.jl:300\n"
     ]
    },
    {
     "name": "stderr",
     "output_type": "stream",
     "text": [
      "┌ Warning: Time 3.20 [sec]: SAC computation took 0.111 [sec], which exceeds the maximum computation time allowed.\n",
      "└ @ RiskSensitiveSAC /home/kang/DRC_Project/DRC_Trajectron/src/rs_sac_controller.jl:733\n",
      "┌ Warning: Time 3.20 [sec]: This evaluation iteration took 0.112 [sec], which exceeds dtc.\n",
      "└ @ RiskSensitiveSAC /home/kang/DRC_Project/DRC_Trajectron/src/evaluation.jl:300\n"
     ]
    },
    {
     "name": "stderr",
     "output_type": "stream",
     "text": [
      "┌ Warning: Time 3.30 [sec]: SAC computation took 0.118 [sec], which exceeds the maximum computation time allowed.\n",
      "└ @ RiskSensitiveSAC /home/kang/DRC_Project/DRC_Trajectron/src/rs_sac_controller.jl:733\n",
      "┌ Warning: Time 3.30 [sec]: This evaluation iteration took 0.118 [sec], which exceeds dtc.\n",
      "└ @ RiskSensitiveSAC /home/kang/DRC_Project/DRC_Trajectron/src/evaluation.jl:300\n"
     ]
    },
    {
     "name": "stderr",
     "output_type": "stream",
     "text": [
      "┌ Warning: Time 3.40 [sec]: SAC computation took 0.117 [sec], which exceeds the maximum computation time allowed.\n",
      "└ @ RiskSensitiveSAC /home/kang/DRC_Project/DRC_Trajectron/src/rs_sac_controller.jl:733\n",
      "┌ Warning: Time 3.40 [sec]: This evaluation iteration took 0.118 [sec], which exceeds dtc.\n",
      "└ @ RiskSensitiveSAC /home/kang/DRC_Project/DRC_Trajectron/src/evaluation.jl:300\n"
     ]
    },
    {
     "name": "stderr",
     "output_type": "stream",
     "text": [
      "┌ Warning: Time 3.50 [sec]: SAC computation took 0.122 [sec], which exceeds the maximum computation time allowed.\n",
      "└ @ RiskSensitiveSAC /home/kang/DRC_Project/DRC_Trajectron/src/rs_sac_controller.jl:733\n",
      "┌ Warning: Time 3.50 [sec]: This evaluation iteration took 0.122 [sec], which exceeds dtc.\n",
      "└ @ RiskSensitiveSAC /home/kang/DRC_Project/DRC_Trajectron/src/evaluation.jl:300\n"
     ]
    },
    {
     "name": "stderr",
     "output_type": "stream",
     "text": [
      "┌ Warning: Time 3.60 [sec]: SAC computation took 0.116 [sec], which exceeds the maximum computation time allowed.\n",
      "└ @ RiskSensitiveSAC /home/kang/DRC_Project/DRC_Trajectron/src/rs_sac_controller.jl:733\n",
      "┌ Warning: Time 3.60 [sec]: This evaluation iteration took 0.117 [sec], which exceeds dtc.\n",
      "└ @ RiskSensitiveSAC /home/kang/DRC_Project/DRC_Trajectron/src/evaluation.jl:300\n"
     ]
    },
    {
     "name": "stderr",
     "output_type": "stream",
     "text": [
      "┌ Warning: Time 3.70 [sec]: SAC computation took 0.119 [sec], which exceeds the maximum computation time allowed.\n",
      "└ @ RiskSensitiveSAC /home/kang/DRC_Project/DRC_Trajectron/src/rs_sac_controller.jl:733\n",
      "┌ Warning: Time 3.70 [sec]: This evaluation iteration took 0.12 [sec], which exceeds dtc.\n",
      "└ @ RiskSensitiveSAC /home/kang/DRC_Project/DRC_Trajectron/src/evaluation.jl:300\n"
     ]
    },
    {
     "name": "stderr",
     "output_type": "stream",
     "text": [
      "┌ Warning: Time 3.80 [sec]: SAC computation took 0.116 [sec], which exceeds the maximum computation time allowed.\n",
      "└ @ RiskSensitiveSAC /home/kang/DRC_Project/DRC_Trajectron/src/rs_sac_controller.jl:733\n",
      "┌ Warning: Time 3.80 [sec]: This evaluation iteration took 0.116 [sec], which exceeds dtc.\n",
      "└ @ RiskSensitiveSAC /home/kang/DRC_Project/DRC_Trajectron/src/evaluation.jl:300\n"
     ]
    },
    {
     "name": "stderr",
     "output_type": "stream",
     "text": [
      "┌ Warning: Time 3.90 [sec]: SAC computation took 0.171 [sec], which exceeds the maximum computation time allowed.\n",
      "└ @ RiskSensitiveSAC /home/kang/DRC_Project/DRC_Trajectron/src/rs_sac_controller.jl:733\n",
      "┌ Warning: Time 3.90 [sec]: This evaluation iteration took 0.171 [sec], which exceeds dtc.\n",
      "└ @ RiskSensitiveSAC /home/kang/DRC_Project/DRC_Trajectron/src/evaluation.jl:300\n"
     ]
    },
    {
     "name": "stderr",
     "output_type": "stream",
     "text": [
      "┌ Warning: Time 4.00 [sec]: This evaluation iteration took 0.09 [sec], which exceeds dtc.\n",
      "└ @ RiskSensitiveSAC /home/kang/DRC_Project/DRC_Trajectron/src/evaluation.jl:300\n"
     ]
    },
    {
     "name": "stderr",
     "output_type": "stream",
     "text": [
      "┌ Warning: Time 4.10 [sec]: SAC computation took 0.102 [sec], which exceeds the maximum computation time allowed.\n",
      "└ @ RiskSensitiveSAC /home/kang/DRC_Project/DRC_Trajectron/src/rs_sac_controller.jl:733\n",
      "┌ Warning: Time 4.10 [sec]: This evaluation iteration took 0.102 [sec], which exceeds dtc.\n",
      "└ @ RiskSensitiveSAC /home/kang/DRC_Project/DRC_Trajectron/src/evaluation.jl:300\n"
     ]
    },
    {
     "name": "stderr",
     "output_type": "stream",
     "text": [
      "┌ Warning: Time 4.20 [sec]: This evaluation iteration took 0.095 [sec], which exceeds dtc.\n",
      "└ @ RiskSensitiveSAC /home/kang/DRC_Project/DRC_Trajectron/src/evaluation.jl:300\n"
     ]
    },
    {
     "name": "stderr",
     "output_type": "stream",
     "text": [
      "┌ Warning: Time 4.30 [sec]: This evaluation iteration took 0.088 [sec], which exceeds dtc.\n",
      "└ @ RiskSensitiveSAC /home/kang/DRC_Project/DRC_Trajectron/src/evaluation.jl:300\n"
     ]
    },
    {
     "name": "stderr",
     "output_type": "stream",
     "text": [
      "┌ Warning: Time 4.40 [sec]: This evaluation iteration took 0.092 [sec], which exceeds dtc.\n",
      "└ @ RiskSensitiveSAC /home/kang/DRC_Project/DRC_Trajectron/src/evaluation.jl:300\n"
     ]
    },
    {
     "name": "stderr",
     "output_type": "stream",
     "text": [
      "┌ Warning: Time 4.50 [sec]: This evaluation iteration took 0.08 [sec], which exceeds dtc.\n",
      "└ @ RiskSensitiveSAC /home/kang/DRC_Project/DRC_Trajectron/src/evaluation.jl:300\n"
     ]
    },
    {
     "name": "stderr",
     "output_type": "stream",
     "text": [
      "┌ Warning: Time 4.60 [sec]: This evaluation iteration took 0.09 [sec], which exceeds dtc.\n",
      "└ @ RiskSensitiveSAC /home/kang/DRC_Project/DRC_Trajectron/src/evaluation.jl:300\n"
     ]
    },
    {
     "name": "stderr",
     "output_type": "stream",
     "text": [
      "┌ Warning: Time 4.70 [sec]: This evaluation iteration took 0.091 [sec], which exceeds dtc.\n",
      "└ @ RiskSensitiveSAC /home/kang/DRC_Project/DRC_Trajectron/src/evaluation.jl:300\n"
     ]
    },
    {
     "name": "stderr",
     "output_type": "stream",
     "text": [
      "┌ Warning: Time 4.80 [sec]: SAC computation took 0.113 [sec], which exceeds the maximum computation time allowed.\n",
      "└ @ RiskSensitiveSAC /home/kang/DRC_Project/DRC_Trajectron/src/rs_sac_controller.jl:733\n",
      "┌ Warning: Time 4.80 [sec]: This evaluation iteration took 0.114 [sec], which exceeds dtc.\n",
      "└ @ RiskSensitiveSAC /home/kang/DRC_Project/DRC_Trajectron/src/evaluation.jl:300\n"
     ]
    },
    {
     "name": "stderr",
     "output_type": "stream",
     "text": [
      "┌ Warning: Time 4.90 [sec]: SAC computation took 0.125 [sec], which exceeds the maximum computation time allowed.\n",
      "└ @ RiskSensitiveSAC /home/kang/DRC_Project/DRC_Trajectron/src/rs_sac_controller.jl:733\n",
      "┌ Warning: Time 4.90 [sec]: This evaluation iteration took 0.126 [sec], which exceeds dtc.\n",
      "└ @ RiskSensitiveSAC /home/kang/DRC_Project/DRC_Trajectron/src/evaluation.jl:300\n"
     ]
    },
    {
     "name": "stderr",
     "output_type": "stream",
     "text": [
      "┌ Warning: Time 5.00 [sec]: SAC computation took 0.117 [sec], which exceeds the maximum computation time allowed.\n",
      "└ @ RiskSensitiveSAC /home/kang/DRC_Project/DRC_Trajectron/src/rs_sac_controller.jl:733\n",
      "┌ Warning: Time 5.00 [sec]: This evaluation iteration took 0.118 [sec], which exceeds dtc.\n",
      "└ @ RiskSensitiveSAC /home/kang/DRC_Project/DRC_Trajectron/src/evaluation.jl:300\n"
     ]
    },
    {
     "name": "stderr",
     "output_type": "stream",
     "text": [
      "┌ Warning: Time 5.10 [sec]: SAC computation took 0.116 [sec], which exceeds the maximum computation time allowed.\n",
      "└ @ RiskSensitiveSAC /home/kang/DRC_Project/DRC_Trajectron/src/rs_sac_controller.jl:733\n",
      "┌ Warning: Time 5.10 [sec]: This evaluation iteration took 0.117 [sec], which exceeds dtc.\n",
      "└ @ RiskSensitiveSAC /home/kang/DRC_Project/DRC_Trajectron/src/evaluation.jl:300\n"
     ]
    },
    {
     "name": "stderr",
     "output_type": "stream",
     "text": [
      "┌ Warning: Time 5.20 [sec]: SAC computation took 0.119 [sec], which exceeds the maximum computation time allowed.\n",
      "└ @ RiskSensitiveSAC /home/kang/DRC_Project/DRC_Trajectron/src/rs_sac_controller.jl:733\n",
      "┌ Warning: Time 5.20 [sec]: This evaluation iteration took 0.12 [sec], which exceeds dtc.\n",
      "└ @ RiskSensitiveSAC /home/kang/DRC_Project/DRC_Trajectron/src/evaluation.jl:300\n"
     ]
    },
    {
     "name": "stderr",
     "output_type": "stream",
     "text": [
      "┌ Warning: Time 5.30 [sec]: SAC computation took 0.101 [sec], which exceeds the maximum computation time allowed.\n",
      "└ @ RiskSensitiveSAC /home/kang/DRC_Project/DRC_Trajectron/src/rs_sac_controller.jl:733\n",
      "┌ Warning: Time 5.30 [sec]: This evaluation iteration took 0.102 [sec], which exceeds dtc.\n",
      "└ @ RiskSensitiveSAC /home/kang/DRC_Project/DRC_Trajectron/src/evaluation.jl:300\n"
     ]
    },
    {
     "name": "stderr",
     "output_type": "stream",
     "text": [
      "┌ Warning: Time 5.40 [sec]: This evaluation iteration took 0.086 [sec], which exceeds dtc.\n",
      "└ @ RiskSensitiveSAC /home/kang/DRC_Project/DRC_Trajectron/src/evaluation.jl:300\n"
     ]
    },
    {
     "name": "stderr",
     "output_type": "stream",
     "text": [
      "┌ Warning: Time 5.50 [sec]: This evaluation iteration took 0.087 [sec], which exceeds dtc.\n",
      "└ @ RiskSensitiveSAC /home/kang/DRC_Project/DRC_Trajectron/src/evaluation.jl:300\n"
     ]
    },
    {
     "name": "stderr",
     "output_type": "stream",
     "text": [
      "┌ Warning: Time 5.60 [sec]: This evaluation iteration took 0.096 [sec], which exceeds dtc.\n",
      "└ @ RiskSensitiveSAC /home/kang/DRC_Project/DRC_Trajectron/src/evaluation.jl:300\n"
     ]
    },
    {
     "name": "stderr",
     "output_type": "stream",
     "text": [
      "┌ Warning: Time 5.70 [sec]: This evaluation iteration took 0.093 [sec], which exceeds dtc.\n",
      "└ @ RiskSensitiveSAC /home/kang/DRC_Project/DRC_Trajectron/src/evaluation.jl:300\n"
     ]
    },
    {
     "name": "stderr",
     "output_type": "stream",
     "text": [
      "┌ Warning: Time 5.80 [sec]: SAC computation took 0.137 [sec], which exceeds the maximum computation time allowed.\n",
      "└ @ RiskSensitiveSAC /home/kang/DRC_Project/DRC_Trajectron/src/rs_sac_controller.jl:733\n",
      "┌ Warning: Time 5.80 [sec]: This evaluation iteration took 0.138 [sec], which exceeds dtc.\n",
      "└ @ RiskSensitiveSAC /home/kang/DRC_Project/DRC_Trajectron/src/evaluation.jl:300\n"
     ]
    },
    {
     "name": "stderr",
     "output_type": "stream",
     "text": [
      "┌ Warning: Time 5.90 [sec]: This evaluation iteration took 0.087 [sec], which exceeds dtc.\n",
      "└ @ RiskSensitiveSAC /home/kang/DRC_Project/DRC_Trajectron/src/evaluation.jl:300\n"
     ]
    },
    {
     "name": "stderr",
     "output_type": "stream",
     "text": [
      "┌ Warning: Time 6.00 [sec]: This evaluation iteration took 0.091 [sec], which exceeds dtc.\n",
      "└ @ RiskSensitiveSAC /home/kang/DRC_Project/DRC_Trajectron/src/evaluation.jl:300\n"
     ]
    },
    {
     "name": "stderr",
     "output_type": "stream",
     "text": [
      "┌ Warning: Time 6.10 [sec]: This evaluation iteration took 0.083 [sec], which exceeds dtc.\n",
      "└ @ RiskSensitiveSAC /home/kang/DRC_Project/DRC_Trajectron/src/evaluation.jl:300\n"
     ]
    },
    {
     "name": "stderr",
     "output_type": "stream",
     "text": [
      "┌ Warning: Time 6.20 [sec]: This evaluation iteration took 0.087 [sec], which exceeds dtc.\n",
      "└ @ RiskSensitiveSAC /home/kang/DRC_Project/DRC_Trajectron/src/evaluation.jl:300\n"
     ]
    },
    {
     "name": "stderr",
     "output_type": "stream",
     "text": [
      "┌ Warning: Time 6.30 [sec]: This evaluation iteration took 0.086 [sec], which exceeds dtc.\n",
      "└ @ RiskSensitiveSAC /home/kang/DRC_Project/DRC_Trajectron/src/evaluation.jl:300\n"
     ]
    },
    {
     "name": "stderr",
     "output_type": "stream",
     "text": [
      "┌ Warning: Time 6.40 [sec]: This evaluation iteration took 0.085 [sec], which exceeds dtc.\n",
      "└ @ RiskSensitiveSAC /home/kang/DRC_Project/DRC_Trajectron/src/evaluation.jl:300\n"
     ]
    },
    {
     "name": "stderr",
     "output_type": "stream",
     "text": [
      "┌ Warning: Time 6.50 [sec]: This evaluation iteration took 0.083 [sec], which exceeds dtc.\n",
      "└ @ RiskSensitiveSAC /home/kang/DRC_Project/DRC_Trajectron/src/evaluation.jl:300\n"
     ]
    },
    {
     "name": "stderr",
     "output_type": "stream",
     "text": [
      "┌ Warning: Time 6.60 [sec]: SAC computation took 0.101 [sec], which exceeds the maximum computation time allowed.\n",
      "└ @ RiskSensitiveSAC /home/kang/DRC_Project/DRC_Trajectron/src/rs_sac_controller.jl:733\n",
      "┌ Warning: Time 6.60 [sec]: This evaluation iteration took 0.102 [sec], which exceeds dtc.\n",
      "└ @ RiskSensitiveSAC /home/kang/DRC_Project/DRC_Trajectron/src/evaluation.jl:300\n"
     ]
    },
    {
     "name": "stderr",
     "output_type": "stream",
     "text": [
      "┌ Warning: Time 6.70 [sec]: SAC computation took 0.109 [sec], which exceeds the maximum computation time allowed.\n",
      "└ @ RiskSensitiveSAC /home/kang/DRC_Project/DRC_Trajectron/src/rs_sac_controller.jl:733\n",
      "┌ Warning: Time 6.70 [sec]: This evaluation iteration took 0.109 [sec], which exceeds dtc.\n",
      "└ @ RiskSensitiveSAC /home/kang/DRC_Project/DRC_Trajectron/src/evaluation.jl:300\n"
     ]
    },
    {
     "name": "stderr",
     "output_type": "stream",
     "text": [
      "┌ Warning: Time 6.80 [sec]: This evaluation iteration took 0.094 [sec], which exceeds dtc.\n",
      "└ @ RiskSensitiveSAC /home/kang/DRC_Project/DRC_Trajectron/src/evaluation.jl:300\n"
     ]
    },
    {
     "name": "stderr",
     "output_type": "stream",
     "text": [
      "┌ Warning: Time 6.90 [sec]: This evaluation iteration took 0.096 [sec], which exceeds dtc.\n",
      "└ @ RiskSensitiveSAC /home/kang/DRC_Project/DRC_Trajectron/src/evaluation.jl:300\n"
     ]
    },
    {
     "name": "stderr",
     "output_type": "stream",
     "text": [
      "┌ Warning: Time 7.00 [sec]: This evaluation iteration took 0.092 [sec], which exceeds dtc.\n",
      "└ @ RiskSensitiveSAC /home/kang/DRC_Project/DRC_Trajectron/src/evaluation.jl:300\n"
     ]
    },
    {
     "name": "stderr",
     "output_type": "stream",
     "text": [
      "┌ Warning: Time 7.10 [sec]: This evaluation iteration took 0.091 [sec], which exceeds dtc.\n",
      "└ @ RiskSensitiveSAC /home/kang/DRC_Project/DRC_Trajectron/src/evaluation.jl:300\n"
     ]
    },
    {
     "name": "stderr",
     "output_type": "stream",
     "text": [
      "┌ Warning: Time 7.20 [sec]: This evaluation iteration took 0.09 [sec], which exceeds dtc.\n",
      "└ @ RiskSensitiveSAC /home/kang/DRC_Project/DRC_Trajectron/src/evaluation.jl:300\n"
     ]
    },
    {
     "name": "stderr",
     "output_type": "stream",
     "text": [
      "┌ Warning: Time 7.30 [sec]: This evaluation iteration took 0.086 [sec], which exceeds dtc.\n",
      "└ @ RiskSensitiveSAC /home/kang/DRC_Project/DRC_Trajectron/src/evaluation.jl:300\n"
     ]
    },
    {
     "name": "stderr",
     "output_type": "stream",
     "text": [
      "┌ Warning: Time 7.40 [sec]: This evaluation iteration took 0.089 [sec], which exceeds dtc.\n",
      "└ @ RiskSensitiveSAC /home/kang/DRC_Project/DRC_Trajectron/src/evaluation.jl:300\n"
     ]
    },
    {
     "name": "stderr",
     "output_type": "stream",
     "text": [
      "┌ Warning: Time 7.50 [sec]: This evaluation iteration took 0.088 [sec], which exceeds dtc.\n",
      "└ @ RiskSensitiveSAC /home/kang/DRC_Project/DRC_Trajectron/src/evaluation.jl:300\n"
     ]
    },
    {
     "name": "stderr",
     "output_type": "stream",
     "text": [
      "┌ Warning: Time 7.60 [sec]: This evaluation iteration took 0.089 [sec], which exceeds dtc.\n",
      "└ @ RiskSensitiveSAC /home/kang/DRC_Project/DRC_Trajectron/src/evaluation.jl:300\n"
     ]
    },
    {
     "name": "stderr",
     "output_type": "stream",
     "text": [
      "┌ Warning: Time 7.70 [sec]: SAC computation took 0.124 [sec], which exceeds the maximum computation time allowed.\n",
      "└ @ RiskSensitiveSAC /home/kang/DRC_Project/DRC_Trajectron/src/rs_sac_controller.jl:733\n",
      "┌ Warning: Time 7.70 [sec]: This evaluation iteration took 0.125 [sec], which exceeds dtc.\n",
      "└ @ RiskSensitiveSAC /home/kang/DRC_Project/DRC_Trajectron/src/evaluation.jl:300\n"
     ]
    },
    {
     "name": "stderr",
     "output_type": "stream",
     "text": [
      "┌ Warning: Time 7.80 [sec]: This evaluation iteration took 0.091 [sec], which exceeds dtc.\n",
      "└ @ RiskSensitiveSAC /home/kang/DRC_Project/DRC_Trajectron/src/evaluation.jl:300\n"
     ]
    },
    {
     "name": "stderr",
     "output_type": "stream",
     "text": [
      "┌ Warning: Time 7.90 [sec]: This evaluation iteration took 0.089 [sec], which exceeds dtc.\n",
      "└ @ RiskSensitiveSAC /home/kang/DRC_Project/DRC_Trajectron/src/evaluation.jl:300\n"
     ]
    },
    {
     "name": "stderr",
     "output_type": "stream",
     "text": [
      "┌ Warning: Time 8.00 [sec]: This evaluation iteration took 0.086 [sec], which exceeds dtc.\n",
      "└ @ RiskSensitiveSAC /home/kang/DRC_Project/DRC_Trajectron/src/evaluation.jl:300\n"
     ]
    },
    {
     "name": "stderr",
     "output_type": "stream",
     "text": [
      "┌ Warning: Time 8.10 [sec]: This evaluation iteration took 0.093 [sec], which exceeds dtc.\n",
      "└ @ RiskSensitiveSAC /home/kang/DRC_Project/DRC_Trajectron/src/evaluation.jl:300\n"
     ]
    },
    {
     "name": "stderr",
     "output_type": "stream",
     "text": [
      "┌ Warning: Time 8.20 [sec]: This evaluation iteration took 0.086 [sec], which exceeds dtc.\n",
      "└ @ RiskSensitiveSAC /home/kang/DRC_Project/DRC_Trajectron/src/evaluation.jl:300\n"
     ]
    },
    {
     "name": "stderr",
     "output_type": "stream",
     "text": [
      "┌ Warning: Time 8.30 [sec]: This evaluation iteration took 0.083 [sec], which exceeds dtc.\n",
      "└ @ RiskSensitiveSAC /home/kang/DRC_Project/DRC_Trajectron/src/evaluation.jl:300\n"
     ]
    },
    {
     "name": "stderr",
     "output_type": "stream",
     "text": [
      "┌ Warning: Time 8.40 [sec]: This evaluation iteration took 0.092 [sec], which exceeds dtc.\n",
      "└ @ RiskSensitiveSAC /home/kang/DRC_Project/DRC_Trajectron/src/evaluation.jl:300\n"
     ]
    },
    {
     "name": "stderr",
     "output_type": "stream",
     "text": [
      "┌ Warning: Time 8.50 [sec]: This evaluation iteration took 0.088 [sec], which exceeds dtc.\n",
      "└ @ RiskSensitiveSAC /home/kang/DRC_Project/DRC_Trajectron/src/evaluation.jl:300\n"
     ]
    },
    {
     "name": "stderr",
     "output_type": "stream",
     "text": [
      "┌ Warning: Time 8.60 [sec]: This evaluation iteration took 0.084 [sec], which exceeds dtc.\n",
      "└ @ RiskSensitiveSAC /home/kang/DRC_Project/DRC_Trajectron/src/evaluation.jl:300\n"
     ]
    },
    {
     "name": "stderr",
     "output_type": "stream",
     "text": [
      "┌ Warning: Time 8.70 [sec]: This evaluation iteration took 0.093 [sec], which exceeds dtc.\n",
      "└ @ RiskSensitiveSAC /home/kang/DRC_Project/DRC_Trajectron/src/evaluation.jl:300\n"
     ]
    },
    {
     "name": "stderr",
     "output_type": "stream",
     "text": [
      "┌ Warning: Time 8.80 [sec]: This evaluation iteration took 0.082 [sec], which exceeds dtc.\n",
      "└ @ RiskSensitiveSAC /home/kang/DRC_Project/DRC_Trajectron/src/evaluation.jl:300\n"
     ]
    },
    {
     "name": "stderr",
     "output_type": "stream",
     "text": [
      "┌ Warning: Time 8.90 [sec]: This evaluation iteration took 0.089 [sec], which exceeds dtc.\n",
      "└ @ RiskSensitiveSAC /home/kang/DRC_Project/DRC_Trajectron/src/evaluation.jl:300\n"
     ]
    },
    {
     "name": "stderr",
     "output_type": "stream",
     "text": [
      "┌ Warning: Time 9.00 [sec]: This evaluation iteration took 0.082 [sec], which exceeds dtc.\n",
      "└ @ RiskSensitiveSAC /home/kang/DRC_Project/DRC_Trajectron/src/evaluation.jl:300\n"
     ]
    },
    {
     "name": "stderr",
     "output_type": "stream",
     "text": [
      "┌ Warning: Time 9.10 [sec]: This evaluation iteration took 0.088 [sec], which exceeds dtc.\n",
      "└ @ RiskSensitiveSAC /home/kang/DRC_Project/DRC_Trajectron/src/evaluation.jl:300\n"
     ]
    },
    {
     "name": "stderr",
     "output_type": "stream",
     "text": [
      "┌ Warning: Time 9.20 [sec]: This evaluation iteration took 0.092 [sec], which exceeds dtc.\n",
      "└ @ RiskSensitiveSAC /home/kang/DRC_Project/DRC_Trajectron/src/evaluation.jl:300\n"
     ]
    },
    {
     "name": "stderr",
     "output_type": "stream",
     "text": [
      "┌ Warning: Time 9.30 [sec]: This evaluation iteration took 0.095 [sec], which exceeds dtc.\n",
      "└ @ RiskSensitiveSAC /home/kang/DRC_Project/DRC_Trajectron/src/evaluation.jl:300\n"
     ]
    },
    {
     "name": "stderr",
     "output_type": "stream",
     "text": [
      "┌ Warning: Time 9.40 [sec]: This evaluation iteration took 0.089 [sec], which exceeds dtc.\n",
      "└ @ RiskSensitiveSAC /home/kang/DRC_Project/DRC_Trajectron/src/evaluation.jl:300\n"
     ]
    },
    {
     "name": "stderr",
     "output_type": "stream",
     "text": [
      "┌ Warning: Time 9.50 [sec]: This evaluation iteration took 0.093 [sec], which exceeds dtc.\n",
      "└ @ RiskSensitiveSAC /home/kang/DRC_Project/DRC_Trajectron/src/evaluation.jl:300\n"
     ]
    },
    {
     "name": "stderr",
     "output_type": "stream",
     "text": [
      "┌ Warning: Time 9.60 [sec]: SAC computation took 0.128 [sec], which exceeds the maximum computation time allowed.\n",
      "└ @ RiskSensitiveSAC /home/kang/DRC_Project/DRC_Trajectron/src/rs_sac_controller.jl:733\n",
      "┌ Warning: Time 9.60 [sec]: This evaluation iteration took 0.129 [sec], which exceeds dtc.\n",
      "└ @ RiskSensitiveSAC /home/kang/DRC_Project/DRC_Trajectron/src/evaluation.jl:300\n"
     ]
    },
    {
     "name": "stderr",
     "output_type": "stream",
     "text": [
      "┌ Warning: Time 9.70 [sec]: This evaluation iteration took 0.092 [sec], which exceeds dtc.\n",
      "└ @ RiskSensitiveSAC /home/kang/DRC_Project/DRC_Trajectron/src/evaluation.jl:300\n"
     ]
    },
    {
     "name": "stderr",
     "output_type": "stream",
     "text": [
      "┌ Warning: Time 9.80 [sec]: This evaluation iteration took 0.093 [sec], which exceeds dtc.\n",
      "└ @ RiskSensitiveSAC /home/kang/DRC_Project/DRC_Trajectron/src/evaluation.jl:300\n"
     ]
    },
    {
     "name": "stderr",
     "output_type": "stream",
     "text": [
      "┌ Warning: Time 9.90 [sec]: This evaluation iteration took 0.09 [sec], which exceeds dtc.\n",
      "└ @ RiskSensitiveSAC /home/kang/DRC_Project/DRC_Trajectron/src/evaluation.jl:300\n"
     ]
    },
    {
     "name": "stdout",
     "output_type": "stream",
     "text": [
      "Total Collision: 0, Total Position Cost: 74.39790353648014, Total Control Cost: 1.9029095594721246, Minimum Distance: 1.0382115057967922, Experiment 14: "
     ]
    },
    {
     "name": "stderr",
     "output_type": "stream",
     "text": [
      "┌ Warning: Time 0.10 [sec]: This evaluation iteration took 0.092 [sec], which exceeds dtc.\n",
      "└ @ RiskSensitiveSAC /home/kang/DRC_Project/DRC_Trajectron/src/evaluation.jl:300\n"
     ]
    },
    {
     "name": "stderr",
     "output_type": "stream",
     "text": [
      "┌ Warning: Time 0.20 [sec]: This evaluation iteration took 0.09 [sec], which exceeds dtc.\n",
      "└ @ RiskSensitiveSAC /home/kang/DRC_Project/DRC_Trajectron/src/evaluation.jl:300\n"
     ]
    },
    {
     "name": "stderr",
     "output_type": "stream",
     "text": [
      "┌ Warning: Time 0.30 [sec]: This evaluation iteration took 0.096 [sec], which exceeds dtc.\n",
      "└ @ RiskSensitiveSAC /home/kang/DRC_Project/DRC_Trajectron/src/evaluation.jl:300\n"
     ]
    },
    {
     "name": "stderr",
     "output_type": "stream",
     "text": [
      "┌ Warning: Time 0.40 [sec]: This evaluation iteration took 0.09 [sec], which exceeds dtc.\n",
      "└ @ RiskSensitiveSAC /home/kang/DRC_Project/DRC_Trajectron/src/evaluation.jl:300\n"
     ]
    },
    {
     "name": "stderr",
     "output_type": "stream",
     "text": [
      "┌ Warning: Time 0.50 [sec]: This evaluation iteration took 0.09 [sec], which exceeds dtc.\n",
      "└ @ RiskSensitiveSAC /home/kang/DRC_Project/DRC_Trajectron/src/evaluation.jl:300\n"
     ]
    },
    {
     "name": "stderr",
     "output_type": "stream",
     "text": [
      "┌ Warning: Time 0.60 [sec]: This evaluation iteration took 0.083 [sec], which exceeds dtc.\n",
      "└ @ RiskSensitiveSAC /home/kang/DRC_Project/DRC_Trajectron/src/evaluation.jl:300\n"
     ]
    },
    {
     "name": "stderr",
     "output_type": "stream",
     "text": [
      "┌ Warning: Time 0.70 [sec]: This evaluation iteration took 0.086 [sec], which exceeds dtc.\n",
      "└ @ RiskSensitiveSAC /home/kang/DRC_Project/DRC_Trajectron/src/evaluation.jl:300\n"
     ]
    },
    {
     "name": "stderr",
     "output_type": "stream",
     "text": [
      "┌ Warning: Time 0.80 [sec]: This evaluation iteration took 0.087 [sec], which exceeds dtc.\n",
      "└ @ RiskSensitiveSAC /home/kang/DRC_Project/DRC_Trajectron/src/evaluation.jl:300\n"
     ]
    },
    {
     "name": "stderr",
     "output_type": "stream",
     "text": [
      "┌ Warning: Time 0.90 [sec]: This evaluation iteration took 0.091 [sec], which exceeds dtc.\n",
      "└ @ RiskSensitiveSAC /home/kang/DRC_Project/DRC_Trajectron/src/evaluation.jl:300\n"
     ]
    },
    {
     "name": "stderr",
     "output_type": "stream",
     "text": [
      "┌ Warning: Time 1.00 [sec]: This evaluation iteration took 0.095 [sec], which exceeds dtc.\n",
      "└ @ RiskSensitiveSAC /home/kang/DRC_Project/DRC_Trajectron/src/evaluation.jl:300\n"
     ]
    },
    {
     "name": "stderr",
     "output_type": "stream",
     "text": [
      "┌ Warning: Time 1.10 [sec]: This evaluation iteration took 0.089 [sec], which exceeds dtc.\n",
      "└ @ RiskSensitiveSAC /home/kang/DRC_Project/DRC_Trajectron/src/evaluation.jl:300\n"
     ]
    },
    {
     "name": "stderr",
     "output_type": "stream",
     "text": [
      "┌ Warning: Time 1.20 [sec]: This evaluation iteration took 0.098 [sec], which exceeds dtc.\n",
      "└ @ RiskSensitiveSAC /home/kang/DRC_Project/DRC_Trajectron/src/evaluation.jl:300\n"
     ]
    },
    {
     "name": "stderr",
     "output_type": "stream",
     "text": [
      "┌ Warning: Time 1.30 [sec]: This evaluation iteration took 0.084 [sec], which exceeds dtc.\n",
      "└ @ RiskSensitiveSAC /home/kang/DRC_Project/DRC_Trajectron/src/evaluation.jl:300\n"
     ]
    },
    {
     "name": "stderr",
     "output_type": "stream",
     "text": [
      "┌ Warning: Time 1.40 [sec]: This evaluation iteration took 0.092 [sec], which exceeds dtc.\n",
      "└ @ RiskSensitiveSAC /home/kang/DRC_Project/DRC_Trajectron/src/evaluation.jl:300\n"
     ]
    },
    {
     "name": "stderr",
     "output_type": "stream",
     "text": [
      "┌ Warning: Time 1.50 [sec]: SAC computation took 0.122 [sec], which exceeds the maximum computation time allowed.\n",
      "└ @ RiskSensitiveSAC /home/kang/DRC_Project/DRC_Trajectron/src/rs_sac_controller.jl:733\n",
      "┌ Warning: Time 1.50 [sec]: This evaluation iteration took 0.123 [sec], which exceeds dtc.\n",
      "└ @ RiskSensitiveSAC /home/kang/DRC_Project/DRC_Trajectron/src/evaluation.jl:300\n"
     ]
    },
    {
     "name": "stderr",
     "output_type": "stream",
     "text": [
      "┌ Warning: Time 1.60 [sec]: This evaluation iteration took 0.093 [sec], which exceeds dtc.\n",
      "└ @ RiskSensitiveSAC /home/kang/DRC_Project/DRC_Trajectron/src/evaluation.jl:300\n"
     ]
    },
    {
     "name": "stderr",
     "output_type": "stream",
     "text": [
      "┌ Warning: Time 1.70 [sec]: This evaluation iteration took 0.084 [sec], which exceeds dtc.\n",
      "└ @ RiskSensitiveSAC /home/kang/DRC_Project/DRC_Trajectron/src/evaluation.jl:300\n"
     ]
    },
    {
     "name": "stderr",
     "output_type": "stream",
     "text": [
      "┌ Warning: Time 1.80 [sec]: This evaluation iteration took 0.091 [sec], which exceeds dtc.\n",
      "└ @ RiskSensitiveSAC /home/kang/DRC_Project/DRC_Trajectron/src/evaluation.jl:300\n"
     ]
    },
    {
     "name": "stderr",
     "output_type": "stream",
     "text": [
      "┌ Warning: Time 1.90 [sec]: This evaluation iteration took 0.085 [sec], which exceeds dtc.\n",
      "└ @ RiskSensitiveSAC /home/kang/DRC_Project/DRC_Trajectron/src/evaluation.jl:300\n"
     ]
    },
    {
     "name": "stderr",
     "output_type": "stream",
     "text": [
      "┌ Warning: Time 2.00 [sec]: This evaluation iteration took 0.09 [sec], which exceeds dtc.\n",
      "└ @ RiskSensitiveSAC /home/kang/DRC_Project/DRC_Trajectron/src/evaluation.jl:300\n"
     ]
    },
    {
     "name": "stderr",
     "output_type": "stream",
     "text": [
      "┌ Warning: Time 2.10 [sec]: This evaluation iteration took 0.087 [sec], which exceeds dtc.\n",
      "└ @ RiskSensitiveSAC /home/kang/DRC_Project/DRC_Trajectron/src/evaluation.jl:300\n"
     ]
    },
    {
     "name": "stderr",
     "output_type": "stream",
     "text": [
      "┌ Warning: Time 2.20 [sec]: This evaluation iteration took 0.089 [sec], which exceeds dtc.\n",
      "└ @ RiskSensitiveSAC /home/kang/DRC_Project/DRC_Trajectron/src/evaluation.jl:300\n"
     ]
    },
    {
     "name": "stderr",
     "output_type": "stream",
     "text": [
      "┌ Warning: Time 2.30 [sec]: This evaluation iteration took 0.094 [sec], which exceeds dtc.\n",
      "└ @ RiskSensitiveSAC /home/kang/DRC_Project/DRC_Trajectron/src/evaluation.jl:300\n"
     ]
    },
    {
     "name": "stderr",
     "output_type": "stream",
     "text": [
      "┌ Warning: Time 2.40 [sec]: This evaluation iteration took 0.092 [sec], which exceeds dtc.\n",
      "└ @ RiskSensitiveSAC /home/kang/DRC_Project/DRC_Trajectron/src/evaluation.jl:300\n"
     ]
    },
    {
     "name": "stderr",
     "output_type": "stream",
     "text": [
      "┌ Warning: Time 2.50 [sec]: This evaluation iteration took 0.087 [sec], which exceeds dtc.\n",
      "└ @ RiskSensitiveSAC /home/kang/DRC_Project/DRC_Trajectron/src/evaluation.jl:300\n"
     ]
    },
    {
     "name": "stderr",
     "output_type": "stream",
     "text": [
      "┌ Warning: Time 2.60 [sec]: This evaluation iteration took 0.093 [sec], which exceeds dtc.\n",
      "└ @ RiskSensitiveSAC /home/kang/DRC_Project/DRC_Trajectron/src/evaluation.jl:300\n"
     ]
    },
    {
     "name": "stderr",
     "output_type": "stream",
     "text": [
      "┌ Warning: Time 2.70 [sec]: This evaluation iteration took 0.09 [sec], which exceeds dtc.\n",
      "└ @ RiskSensitiveSAC /home/kang/DRC_Project/DRC_Trajectron/src/evaluation.jl:300\n"
     ]
    },
    {
     "name": "stderr",
     "output_type": "stream",
     "text": [
      "┌ Warning: Time 2.80 [sec]: This evaluation iteration took 0.085 [sec], which exceeds dtc.\n",
      "└ @ RiskSensitiveSAC /home/kang/DRC_Project/DRC_Trajectron/src/evaluation.jl:300\n"
     ]
    },
    {
     "name": "stderr",
     "output_type": "stream",
     "text": [
      "┌ Warning: Time 2.90 [sec]: This evaluation iteration took 0.094 [sec], which exceeds dtc.\n",
      "└ @ RiskSensitiveSAC /home/kang/DRC_Project/DRC_Trajectron/src/evaluation.jl:300\n"
     ]
    },
    {
     "name": "stderr",
     "output_type": "stream",
     "text": [
      "┌ Warning: Time 3.00 [sec]: This evaluation iteration took 0.084 [sec], which exceeds dtc.\n",
      "└ @ RiskSensitiveSAC /home/kang/DRC_Project/DRC_Trajectron/src/evaluation.jl:300\n"
     ]
    },
    {
     "name": "stderr",
     "output_type": "stream",
     "text": [
      "┌ Warning: Time 3.10 [sec]: This evaluation iteration took 0.084 [sec], which exceeds dtc.\n",
      "└ @ RiskSensitiveSAC /home/kang/DRC_Project/DRC_Trajectron/src/evaluation.jl:300\n"
     ]
    },
    {
     "name": "stderr",
     "output_type": "stream",
     "text": [
      "┌ Warning: Time 3.20 [sec]: This evaluation iteration took 0.096 [sec], which exceeds dtc.\n",
      "└ @ RiskSensitiveSAC /home/kang/DRC_Project/DRC_Trajectron/src/evaluation.jl:300\n"
     ]
    },
    {
     "name": "stderr",
     "output_type": "stream",
     "text": [
      "┌ Warning: Time 3.30 [sec]: This evaluation iteration took 0.094 [sec], which exceeds dtc.\n",
      "└ @ RiskSensitiveSAC /home/kang/DRC_Project/DRC_Trajectron/src/evaluation.jl:300\n"
     ]
    },
    {
     "name": "stderr",
     "output_type": "stream",
     "text": [
      "┌ Warning: Time 3.40 [sec]: SAC computation took 0.175 [sec], which exceeds the maximum computation time allowed.\n",
      "└ @ RiskSensitiveSAC /home/kang/DRC_Project/DRC_Trajectron/src/rs_sac_controller.jl:733\n",
      "┌ Warning: Time 3.40 [sec]: This evaluation iteration took 0.175 [sec], which exceeds dtc.\n",
      "└ @ RiskSensitiveSAC /home/kang/DRC_Project/DRC_Trajectron/src/evaluation.jl:300\n"
     ]
    },
    {
     "name": "stderr",
     "output_type": "stream",
     "text": [
      "┌ Warning: Time 3.50 [sec]: SAC computation took 0.11 [sec], which exceeds the maximum computation time allowed.\n",
      "└ @ RiskSensitiveSAC /home/kang/DRC_Project/DRC_Trajectron/src/rs_sac_controller.jl:733\n",
      "┌ Warning: Time 3.50 [sec]: This evaluation iteration took 0.111 [sec], which exceeds dtc.\n",
      "└ @ RiskSensitiveSAC /home/kang/DRC_Project/DRC_Trajectron/src/evaluation.jl:300\n"
     ]
    },
    {
     "name": "stderr",
     "output_type": "stream",
     "text": [
      "┌ Warning: Time 3.60 [sec]: This evaluation iteration took 0.087 [sec], which exceeds dtc.\n",
      "└ @ RiskSensitiveSAC /home/kang/DRC_Project/DRC_Trajectron/src/evaluation.jl:300\n"
     ]
    },
    {
     "name": "stderr",
     "output_type": "stream",
     "text": [
      "┌ Warning: Time 3.70 [sec]: This evaluation iteration took 0.088 [sec], which exceeds dtc.\n",
      "└ @ RiskSensitiveSAC /home/kang/DRC_Project/DRC_Trajectron/src/evaluation.jl:300\n"
     ]
    },
    {
     "name": "stderr",
     "output_type": "stream",
     "text": [
      "┌ Warning: Time 3.80 [sec]: This evaluation iteration took 0.086 [sec], which exceeds dtc.\n",
      "└ @ RiskSensitiveSAC /home/kang/DRC_Project/DRC_Trajectron/src/evaluation.jl:300\n"
     ]
    },
    {
     "name": "stderr",
     "output_type": "stream",
     "text": [
      "┌ Warning: Time 3.90 [sec]: This evaluation iteration took 0.092 [sec], which exceeds dtc.\n",
      "└ @ RiskSensitiveSAC /home/kang/DRC_Project/DRC_Trajectron/src/evaluation.jl:300\n"
     ]
    },
    {
     "name": "stderr",
     "output_type": "stream",
     "text": [
      "┌ Warning: Time 4.00 [sec]: This evaluation iteration took 0.095 [sec], which exceeds dtc.\n",
      "└ @ RiskSensitiveSAC /home/kang/DRC_Project/DRC_Trajectron/src/evaluation.jl:300\n"
     ]
    },
    {
     "name": "stderr",
     "output_type": "stream",
     "text": [
      "┌ Warning: Time 4.10 [sec]: This evaluation iteration took 0.086 [sec], which exceeds dtc.\n",
      "└ @ RiskSensitiveSAC /home/kang/DRC_Project/DRC_Trajectron/src/evaluation.jl:300\n"
     ]
    },
    {
     "name": "stderr",
     "output_type": "stream",
     "text": [
      "┌ Warning: Time 4.20 [sec]: This evaluation iteration took 0.088 [sec], which exceeds dtc.\n",
      "└ @ RiskSensitiveSAC /home/kang/DRC_Project/DRC_Trajectron/src/evaluation.jl:300\n"
     ]
    },
    {
     "name": "stderr",
     "output_type": "stream",
     "text": [
      "┌ Warning: Time 4.30 [sec]: This evaluation iteration took 0.088 [sec], which exceeds dtc.\n",
      "└ @ RiskSensitiveSAC /home/kang/DRC_Project/DRC_Trajectron/src/evaluation.jl:300\n"
     ]
    },
    {
     "name": "stderr",
     "output_type": "stream",
     "text": [
      "┌ Warning: Time 4.40 [sec]: This evaluation iteration took 0.086 [sec], which exceeds dtc.\n",
      "└ @ RiskSensitiveSAC /home/kang/DRC_Project/DRC_Trajectron/src/evaluation.jl:300\n"
     ]
    },
    {
     "name": "stderr",
     "output_type": "stream",
     "text": [
      "┌ Warning: Time 4.50 [sec]: This evaluation iteration took 0.09 [sec], which exceeds dtc.\n",
      "└ @ RiskSensitiveSAC /home/kang/DRC_Project/DRC_Trajectron/src/evaluation.jl:300\n"
     ]
    },
    {
     "name": "stderr",
     "output_type": "stream",
     "text": [
      "┌ Warning: Time 4.60 [sec]: This evaluation iteration took 0.088 [sec], which exceeds dtc.\n",
      "└ @ RiskSensitiveSAC /home/kang/DRC_Project/DRC_Trajectron/src/evaluation.jl:300\n"
     ]
    },
    {
     "name": "stderr",
     "output_type": "stream",
     "text": [
      "┌ Warning: Time 4.70 [sec]: SAC computation took 0.102 [sec], which exceeds the maximum computation time allowed.\n",
      "└ @ RiskSensitiveSAC /home/kang/DRC_Project/DRC_Trajectron/src/rs_sac_controller.jl:733\n",
      "┌ Warning: Time 4.70 [sec]: This evaluation iteration took 0.103 [sec], which exceeds dtc.\n",
      "└ @ RiskSensitiveSAC /home/kang/DRC_Project/DRC_Trajectron/src/evaluation.jl:300\n"
     ]
    },
    {
     "name": "stderr",
     "output_type": "stream",
     "text": [
      "┌ Warning: Time 4.80 [sec]: This evaluation iteration took 0.091 [sec], which exceeds dtc.\n",
      "└ @ RiskSensitiveSAC /home/kang/DRC_Project/DRC_Trajectron/src/evaluation.jl:300\n"
     ]
    },
    {
     "name": "stderr",
     "output_type": "stream",
     "text": [
      "┌ Warning: Time 4.90 [sec]: This evaluation iteration took 0.088 [sec], which exceeds dtc.\n",
      "└ @ RiskSensitiveSAC /home/kang/DRC_Project/DRC_Trajectron/src/evaluation.jl:300\n"
     ]
    },
    {
     "name": "stderr",
     "output_type": "stream",
     "text": [
      "┌ Warning: Time 5.00 [sec]: This evaluation iteration took 0.096 [sec], which exceeds dtc.\n",
      "└ @ RiskSensitiveSAC /home/kang/DRC_Project/DRC_Trajectron/src/evaluation.jl:300\n"
     ]
    },
    {
     "name": "stderr",
     "output_type": "stream",
     "text": [
      "┌ Warning: Time 5.10 [sec]: This evaluation iteration took 0.089 [sec], which exceeds dtc.\n",
      "└ @ RiskSensitiveSAC /home/kang/DRC_Project/DRC_Trajectron/src/evaluation.jl:300\n"
     ]
    },
    {
     "name": "stderr",
     "output_type": "stream",
     "text": [
      "┌ Warning: Time 5.20 [sec]: This evaluation iteration took 0.087 [sec], which exceeds dtc.\n",
      "└ @ RiskSensitiveSAC /home/kang/DRC_Project/DRC_Trajectron/src/evaluation.jl:300\n"
     ]
    },
    {
     "name": "stderr",
     "output_type": "stream",
     "text": [
      "┌ Warning: Time 5.30 [sec]: SAC computation took 0.131 [sec], which exceeds the maximum computation time allowed.\n",
      "└ @ RiskSensitiveSAC /home/kang/DRC_Project/DRC_Trajectron/src/rs_sac_controller.jl:733\n",
      "┌ Warning: Time 5.30 [sec]: This evaluation iteration took 0.131 [sec], which exceeds dtc.\n",
      "└ @ RiskSensitiveSAC /home/kang/DRC_Project/DRC_Trajectron/src/evaluation.jl:300\n"
     ]
    },
    {
     "name": "stderr",
     "output_type": "stream",
     "text": [
      "┌ Warning: Time 5.40 [sec]: This evaluation iteration took 0.091 [sec], which exceeds dtc.\n",
      "└ @ RiskSensitiveSAC /home/kang/DRC_Project/DRC_Trajectron/src/evaluation.jl:300\n"
     ]
    },
    {
     "name": "stderr",
     "output_type": "stream",
     "text": [
      "┌ Warning: Time 5.50 [sec]: This evaluation iteration took 0.092 [sec], which exceeds dtc.\n",
      "└ @ RiskSensitiveSAC /home/kang/DRC_Project/DRC_Trajectron/src/evaluation.jl:300\n"
     ]
    },
    {
     "name": "stderr",
     "output_type": "stream",
     "text": [
      "┌ Warning: Time 5.60 [sec]: SAC computation took 0.11 [sec], which exceeds the maximum computation time allowed.\n",
      "└ @ RiskSensitiveSAC /home/kang/DRC_Project/DRC_Trajectron/src/rs_sac_controller.jl:733\n",
      "┌ Warning: Time 5.60 [sec]: This evaluation iteration took 0.111 [sec], which exceeds dtc.\n",
      "└ @ RiskSensitiveSAC /home/kang/DRC_Project/DRC_Trajectron/src/evaluation.jl:300\n"
     ]
    },
    {
     "name": "stderr",
     "output_type": "stream",
     "text": [
      "┌ Warning: Time 5.70 [sec]: This evaluation iteration took 0.093 [sec], which exceeds dtc.\n",
      "└ @ RiskSensitiveSAC /home/kang/DRC_Project/DRC_Trajectron/src/evaluation.jl:300\n"
     ]
    },
    {
     "name": "stderr",
     "output_type": "stream",
     "text": [
      "┌ Warning: Time 5.80 [sec]: This evaluation iteration took 0.088 [sec], which exceeds dtc.\n",
      "└ @ RiskSensitiveSAC /home/kang/DRC_Project/DRC_Trajectron/src/evaluation.jl:300\n"
     ]
    },
    {
     "name": "stderr",
     "output_type": "stream",
     "text": [
      "┌ Warning: Time 5.90 [sec]: This evaluation iteration took 0.089 [sec], which exceeds dtc.\n",
      "└ @ RiskSensitiveSAC /home/kang/DRC_Project/DRC_Trajectron/src/evaluation.jl:300\n"
     ]
    },
    {
     "name": "stderr",
     "output_type": "stream",
     "text": [
      "┌ Warning: Time 6.00 [sec]: This evaluation iteration took 0.094 [sec], which exceeds dtc.\n",
      "└ @ RiskSensitiveSAC /home/kang/DRC_Project/DRC_Trajectron/src/evaluation.jl:300\n"
     ]
    },
    {
     "name": "stderr",
     "output_type": "stream",
     "text": [
      "┌ Warning: Time 6.10 [sec]: This evaluation iteration took 0.087 [sec], which exceeds dtc.\n",
      "└ @ RiskSensitiveSAC /home/kang/DRC_Project/DRC_Trajectron/src/evaluation.jl:300\n"
     ]
    },
    {
     "name": "stderr",
     "output_type": "stream",
     "text": [
      "┌ Warning: Time 6.20 [sec]: This evaluation iteration took 0.09 [sec], which exceeds dtc.\n",
      "└ @ RiskSensitiveSAC /home/kang/DRC_Project/DRC_Trajectron/src/evaluation.jl:300\n"
     ]
    },
    {
     "name": "stderr",
     "output_type": "stream",
     "text": [
      "┌ Warning: Time 6.30 [sec]: This evaluation iteration took 0.089 [sec], which exceeds dtc.\n",
      "└ @ RiskSensitiveSAC /home/kang/DRC_Project/DRC_Trajectron/src/evaluation.jl:300\n"
     ]
    },
    {
     "name": "stderr",
     "output_type": "stream",
     "text": [
      "┌ Warning: Time 6.40 [sec]: This evaluation iteration took 0.087 [sec], which exceeds dtc.\n",
      "└ @ RiskSensitiveSAC /home/kang/DRC_Project/DRC_Trajectron/src/evaluation.jl:300\n"
     ]
    },
    {
     "name": "stderr",
     "output_type": "stream",
     "text": [
      "┌ Warning: Time 6.50 [sec]: This evaluation iteration took 0.09 [sec], which exceeds dtc.\n",
      "└ @ RiskSensitiveSAC /home/kang/DRC_Project/DRC_Trajectron/src/evaluation.jl:300\n"
     ]
    },
    {
     "name": "stderr",
     "output_type": "stream",
     "text": [
      "┌ Warning: Time 6.60 [sec]: This evaluation iteration took 0.091 [sec], which exceeds dtc.\n",
      "└ @ RiskSensitiveSAC /home/kang/DRC_Project/DRC_Trajectron/src/evaluation.jl:300\n"
     ]
    },
    {
     "name": "stderr",
     "output_type": "stream",
     "text": [
      "┌ Warning: Time 6.70 [sec]: This evaluation iteration took 0.086 [sec], which exceeds dtc.\n",
      "└ @ RiskSensitiveSAC /home/kang/DRC_Project/DRC_Trajectron/src/evaluation.jl:300\n"
     ]
    },
    {
     "name": "stderr",
     "output_type": "stream",
     "text": [
      "┌ Warning: Time 6.80 [sec]: This evaluation iteration took 0.085 [sec], which exceeds dtc.\n",
      "└ @ RiskSensitiveSAC /home/kang/DRC_Project/DRC_Trajectron/src/evaluation.jl:300\n"
     ]
    },
    {
     "name": "stderr",
     "output_type": "stream",
     "text": [
      "┌ Warning: Time 6.90 [sec]: This evaluation iteration took 0.089 [sec], which exceeds dtc.\n",
      "└ @ RiskSensitiveSAC /home/kang/DRC_Project/DRC_Trajectron/src/evaluation.jl:300\n"
     ]
    },
    {
     "name": "stderr",
     "output_type": "stream",
     "text": [
      "┌ Warning: Time 7.00 [sec]: This evaluation iteration took 0.092 [sec], which exceeds dtc.\n",
      "└ @ RiskSensitiveSAC /home/kang/DRC_Project/DRC_Trajectron/src/evaluation.jl:300\n"
     ]
    },
    {
     "name": "stderr",
     "output_type": "stream",
     "text": [
      "┌ Warning: Time 7.10 [sec]: This evaluation iteration took 0.089 [sec], which exceeds dtc.\n",
      "└ @ RiskSensitiveSAC /home/kang/DRC_Project/DRC_Trajectron/src/evaluation.jl:300\n"
     ]
    },
    {
     "name": "stderr",
     "output_type": "stream",
     "text": [
      "┌ Warning: Time 7.20 [sec]: This evaluation iteration took 0.1 [sec], which exceeds dtc.\n",
      "└ @ RiskSensitiveSAC /home/kang/DRC_Project/DRC_Trajectron/src/evaluation.jl:300\n"
     ]
    },
    {
     "name": "stderr",
     "output_type": "stream",
     "text": [
      "┌ Warning: Time 7.30 [sec]: SAC computation took 0.135 [sec], which exceeds the maximum computation time allowed.\n",
      "└ @ RiskSensitiveSAC /home/kang/DRC_Project/DRC_Trajectron/src/rs_sac_controller.jl:733\n",
      "┌ Warning: Time 7.30 [sec]: This evaluation iteration took 0.135 [sec], which exceeds dtc.\n",
      "└ @ RiskSensitiveSAC /home/kang/DRC_Project/DRC_Trajectron/src/evaluation.jl:300\n"
     ]
    },
    {
     "name": "stderr",
     "output_type": "stream",
     "text": [
      "┌ Warning: Time 7.40 [sec]: This evaluation iteration took 0.089 [sec], which exceeds dtc.\n",
      "└ @ RiskSensitiveSAC /home/kang/DRC_Project/DRC_Trajectron/src/evaluation.jl:300\n"
     ]
    },
    {
     "name": "stderr",
     "output_type": "stream",
     "text": [
      "┌ Warning: Time 7.50 [sec]: This evaluation iteration took 0.082 [sec], which exceeds dtc.\n",
      "└ @ RiskSensitiveSAC /home/kang/DRC_Project/DRC_Trajectron/src/evaluation.jl:300\n"
     ]
    },
    {
     "name": "stderr",
     "output_type": "stream",
     "text": [
      "┌ Warning: Time 7.60 [sec]: This evaluation iteration took 0.086 [sec], which exceeds dtc.\n",
      "└ @ RiskSensitiveSAC /home/kang/DRC_Project/DRC_Trajectron/src/evaluation.jl:300\n"
     ]
    },
    {
     "name": "stderr",
     "output_type": "stream",
     "text": [
      "┌ Warning: Time 7.70 [sec]: This evaluation iteration took 0.089 [sec], which exceeds dtc.\n",
      "└ @ RiskSensitiveSAC /home/kang/DRC_Project/DRC_Trajectron/src/evaluation.jl:300\n"
     ]
    },
    {
     "name": "stderr",
     "output_type": "stream",
     "text": [
      "┌ Warning: Time 7.80 [sec]: This evaluation iteration took 0.088 [sec], which exceeds dtc.\n",
      "└ @ RiskSensitiveSAC /home/kang/DRC_Project/DRC_Trajectron/src/evaluation.jl:300\n"
     ]
    },
    {
     "name": "stderr",
     "output_type": "stream",
     "text": [
      "┌ Warning: Time 7.90 [sec]: This evaluation iteration took 0.097 [sec], which exceeds dtc.\n",
      "└ @ RiskSensitiveSAC /home/kang/DRC_Project/DRC_Trajectron/src/evaluation.jl:300\n"
     ]
    },
    {
     "name": "stderr",
     "output_type": "stream",
     "text": [
      "┌ Warning: Time 8.00 [sec]: This evaluation iteration took 0.082 [sec], which exceeds dtc.\n",
      "└ @ RiskSensitiveSAC /home/kang/DRC_Project/DRC_Trajectron/src/evaluation.jl:300\n"
     ]
    },
    {
     "name": "stderr",
     "output_type": "stream",
     "text": [
      "┌ Warning: Time 8.10 [sec]: This evaluation iteration took 0.085 [sec], which exceeds dtc.\n",
      "└ @ RiskSensitiveSAC /home/kang/DRC_Project/DRC_Trajectron/src/evaluation.jl:300\n"
     ]
    },
    {
     "name": "stderr",
     "output_type": "stream",
     "text": [
      "┌ Warning: Time 8.20 [sec]: This evaluation iteration took 0.087 [sec], which exceeds dtc.\n",
      "└ @ RiskSensitiveSAC /home/kang/DRC_Project/DRC_Trajectron/src/evaluation.jl:300\n"
     ]
    },
    {
     "name": "stderr",
     "output_type": "stream",
     "text": [
      "┌ Warning: Time 8.30 [sec]: SAC computation took 0.12 [sec], which exceeds the maximum computation time allowed.\n",
      "└ @ RiskSensitiveSAC /home/kang/DRC_Project/DRC_Trajectron/src/rs_sac_controller.jl:733\n",
      "┌ Warning: Time 8.30 [sec]: This evaluation iteration took 0.121 [sec], which exceeds dtc.\n",
      "└ @ RiskSensitiveSAC /home/kang/DRC_Project/DRC_Trajectron/src/evaluation.jl:300\n"
     ]
    },
    {
     "name": "stderr",
     "output_type": "stream",
     "text": [
      "┌ Warning: Time 8.40 [sec]: SAC computation took 0.117 [sec], which exceeds the maximum computation time allowed.\n",
      "└ @ RiskSensitiveSAC /home/kang/DRC_Project/DRC_Trajectron/src/rs_sac_controller.jl:733\n",
      "┌ Warning: Time 8.40 [sec]: This evaluation iteration took 0.119 [sec], which exceeds dtc.\n",
      "└ @ RiskSensitiveSAC /home/kang/DRC_Project/DRC_Trajectron/src/evaluation.jl:300\n"
     ]
    },
    {
     "name": "stderr",
     "output_type": "stream",
     "text": [
      "┌ Warning: Time 8.50 [sec]: This evaluation iteration took 0.088 [sec], which exceeds dtc.\n",
      "└ @ RiskSensitiveSAC /home/kang/DRC_Project/DRC_Trajectron/src/evaluation.jl:300\n"
     ]
    },
    {
     "name": "stderr",
     "output_type": "stream",
     "text": [
      "┌ Warning: Time 8.60 [sec]: This evaluation iteration took 0.084 [sec], which exceeds dtc.\n",
      "└ @ RiskSensitiveSAC /home/kang/DRC_Project/DRC_Trajectron/src/evaluation.jl:300\n"
     ]
    },
    {
     "name": "stderr",
     "output_type": "stream",
     "text": [
      "┌ Warning: Time 8.70 [sec]: This evaluation iteration took 0.094 [sec], which exceeds dtc.\n",
      "└ @ RiskSensitiveSAC /home/kang/DRC_Project/DRC_Trajectron/src/evaluation.jl:300\n"
     ]
    },
    {
     "name": "stderr",
     "output_type": "stream",
     "text": [
      "┌ Warning: Time 8.80 [sec]: This evaluation iteration took 0.097 [sec], which exceeds dtc.\n",
      "└ @ RiskSensitiveSAC /home/kang/DRC_Project/DRC_Trajectron/src/evaluation.jl:300\n"
     ]
    },
    {
     "name": "stderr",
     "output_type": "stream",
     "text": [
      "┌ Warning: Time 8.90 [sec]: SAC computation took 0.125 [sec], which exceeds the maximum computation time allowed.\n",
      "└ @ RiskSensitiveSAC /home/kang/DRC_Project/DRC_Trajectron/src/rs_sac_controller.jl:733\n",
      "┌ Warning: Time 8.90 [sec]: This evaluation iteration took 0.126 [sec], which exceeds dtc.\n",
      "└ @ RiskSensitiveSAC /home/kang/DRC_Project/DRC_Trajectron/src/evaluation.jl:300\n"
     ]
    },
    {
     "name": "stderr",
     "output_type": "stream",
     "text": [
      "┌ Warning: Time 9.00 [sec]: This evaluation iteration took 0.09 [sec], which exceeds dtc.\n",
      "└ @ RiskSensitiveSAC /home/kang/DRC_Project/DRC_Trajectron/src/evaluation.jl:300\n"
     ]
    },
    {
     "name": "stderr",
     "output_type": "stream",
     "text": [
      "┌ Warning: Time 9.10 [sec]: This evaluation iteration took 0.093 [sec], which exceeds dtc.\n",
      "└ @ RiskSensitiveSAC /home/kang/DRC_Project/DRC_Trajectron/src/evaluation.jl:300\n"
     ]
    },
    {
     "name": "stderr",
     "output_type": "stream",
     "text": [
      "┌ Warning: Time 9.20 [sec]: SAC computation took 0.139 [sec], which exceeds the maximum computation time allowed.\n",
      "└ @ RiskSensitiveSAC /home/kang/DRC_Project/DRC_Trajectron/src/rs_sac_controller.jl:733\n",
      "┌ Warning: Time 9.20 [sec]: This evaluation iteration took 0.14 [sec], which exceeds dtc.\n",
      "└ @ RiskSensitiveSAC /home/kang/DRC_Project/DRC_Trajectron/src/evaluation.jl:300\n"
     ]
    },
    {
     "name": "stderr",
     "output_type": "stream",
     "text": [
      "┌ Warning: Time 9.30 [sec]: This evaluation iteration took 0.086 [sec], which exceeds dtc.\n",
      "└ @ RiskSensitiveSAC /home/kang/DRC_Project/DRC_Trajectron/src/evaluation.jl:300\n"
     ]
    },
    {
     "name": "stderr",
     "output_type": "stream",
     "text": [
      "┌ Warning: Time 9.40 [sec]: This evaluation iteration took 0.087 [sec], which exceeds dtc.\n",
      "└ @ RiskSensitiveSAC /home/kang/DRC_Project/DRC_Trajectron/src/evaluation.jl:300\n"
     ]
    },
    {
     "name": "stderr",
     "output_type": "stream",
     "text": [
      "┌ Warning: Time 9.50 [sec]: This evaluation iteration took 0.086 [sec], which exceeds dtc.\n",
      "└ @ RiskSensitiveSAC /home/kang/DRC_Project/DRC_Trajectron/src/evaluation.jl:300\n"
     ]
    },
    {
     "name": "stderr",
     "output_type": "stream",
     "text": [
      "┌ Warning: Time 9.60 [sec]: This evaluation iteration took 0.088 [sec], which exceeds dtc.\n",
      "└ @ RiskSensitiveSAC /home/kang/DRC_Project/DRC_Trajectron/src/evaluation.jl:300\n"
     ]
    },
    {
     "name": "stderr",
     "output_type": "stream",
     "text": [
      "┌ Warning: Time 9.70 [sec]: This evaluation iteration took 0.082 [sec], which exceeds dtc.\n",
      "└ @ RiskSensitiveSAC /home/kang/DRC_Project/DRC_Trajectron/src/evaluation.jl:300\n"
     ]
    },
    {
     "name": "stderr",
     "output_type": "stream",
     "text": [
      "┌ Warning: Time 9.80 [sec]: This evaluation iteration took 0.092 [sec], which exceeds dtc.\n",
      "└ @ RiskSensitiveSAC /home/kang/DRC_Project/DRC_Trajectron/src/evaluation.jl:300\n"
     ]
    },
    {
     "name": "stderr",
     "output_type": "stream",
     "text": [
      "┌ Warning: Time 9.90 [sec]: This evaluation iteration took 0.09 [sec], which exceeds dtc.\n",
      "└ @ RiskSensitiveSAC /home/kang/DRC_Project/DRC_Trajectron/src/evaluation.jl:300\n"
     ]
    },
    {
     "name": "stdout",
     "output_type": "stream",
     "text": [
      "Total Collision: 0, Total Position Cost: 78.48828975154795, Total Control Cost: 1.9816631533251727, Minimum Distance: 1.1575557588063166, Experiment 15: "
     ]
    },
    {
     "name": "stderr",
     "output_type": "stream",
     "text": [
      "┌ Warning: Time 0.10 [sec]: This evaluation iteration took 0.094 [sec], which exceeds dtc.\n",
      "└ @ RiskSensitiveSAC /home/kang/DRC_Project/DRC_Trajectron/src/evaluation.jl:300\n"
     ]
    },
    {
     "name": "stderr",
     "output_type": "stream",
     "text": [
      "┌ Warning: Time 0.20 [sec]: This evaluation iteration took 0.088 [sec], which exceeds dtc.\n",
      "└ @ RiskSensitiveSAC /home/kang/DRC_Project/DRC_Trajectron/src/evaluation.jl:300\n"
     ]
    },
    {
     "name": "stderr",
     "output_type": "stream",
     "text": [
      "┌ Warning: Time 0.30 [sec]: This evaluation iteration took 0.091 [sec], which exceeds dtc.\n",
      "└ @ RiskSensitiveSAC /home/kang/DRC_Project/DRC_Trajectron/src/evaluation.jl:300\n"
     ]
    },
    {
     "name": "stderr",
     "output_type": "stream",
     "text": [
      "┌ Warning: Time 0.40 [sec]: SAC computation took 0.118 [sec], which exceeds the maximum computation time allowed.\n",
      "└ @ RiskSensitiveSAC /home/kang/DRC_Project/DRC_Trajectron/src/rs_sac_controller.jl:733\n",
      "┌ Warning: Time 0.40 [sec]: This evaluation iteration took 0.119 [sec], which exceeds dtc.\n",
      "└ @ RiskSensitiveSAC /home/kang/DRC_Project/DRC_Trajectron/src/evaluation.jl:300\n"
     ]
    },
    {
     "name": "stderr",
     "output_type": "stream",
     "text": [
      "┌ Warning: Time 0.50 [sec]: SAC computation took 0.12 [sec], which exceeds the maximum computation time allowed.\n",
      "└ @ RiskSensitiveSAC /home/kang/DRC_Project/DRC_Trajectron/src/rs_sac_controller.jl:733\n",
      "┌ Warning: Time 0.50 [sec]: This evaluation iteration took 0.121 [sec], which exceeds dtc.\n",
      "└ @ RiskSensitiveSAC /home/kang/DRC_Project/DRC_Trajectron/src/evaluation.jl:300\n"
     ]
    },
    {
     "name": "stderr",
     "output_type": "stream",
     "text": [
      "┌ Warning: Time 0.60 [sec]: SAC computation took 0.13 [sec], which exceeds the maximum computation time allowed.\n",
      "└ @ RiskSensitiveSAC /home/kang/DRC_Project/DRC_Trajectron/src/rs_sac_controller.jl:733\n",
      "┌ Warning: Time 0.60 [sec]: This evaluation iteration took 0.131 [sec], which exceeds dtc.\n",
      "└ @ RiskSensitiveSAC /home/kang/DRC_Project/DRC_Trajectron/src/evaluation.jl:300\n"
     ]
    },
    {
     "name": "stderr",
     "output_type": "stream",
     "text": [
      "┌ Warning: Time 0.70 [sec]: SAC computation took 0.122 [sec], which exceeds the maximum computation time allowed.\n",
      "└ @ RiskSensitiveSAC /home/kang/DRC_Project/DRC_Trajectron/src/rs_sac_controller.jl:733\n",
      "┌ Warning: Time 0.70 [sec]: This evaluation iteration took 0.123 [sec], which exceeds dtc.\n",
      "└ @ RiskSensitiveSAC /home/kang/DRC_Project/DRC_Trajectron/src/evaluation.jl:300\n"
     ]
    },
    {
     "name": "stderr",
     "output_type": "stream",
     "text": [
      "┌ Warning: Time 0.80 [sec]: SAC computation took 0.117 [sec], which exceeds the maximum computation time allowed.\n",
      "└ @ RiskSensitiveSAC /home/kang/DRC_Project/DRC_Trajectron/src/rs_sac_controller.jl:733\n",
      "┌ Warning: Time 0.80 [sec]: This evaluation iteration took 0.118 [sec], which exceeds dtc.\n",
      "└ @ RiskSensitiveSAC /home/kang/DRC_Project/DRC_Trajectron/src/evaluation.jl:300\n"
     ]
    },
    {
     "name": "stderr",
     "output_type": "stream",
     "text": [
      "┌ Warning: Time 0.90 [sec]: SAC computation took 0.122 [sec], which exceeds the maximum computation time allowed.\n",
      "└ @ RiskSensitiveSAC /home/kang/DRC_Project/DRC_Trajectron/src/rs_sac_controller.jl:733\n",
      "┌ Warning: Time 0.90 [sec]: This evaluation iteration took 0.123 [sec], which exceeds dtc.\n",
      "└ @ RiskSensitiveSAC /home/kang/DRC_Project/DRC_Trajectron/src/evaluation.jl:300\n"
     ]
    },
    {
     "name": "stderr",
     "output_type": "stream",
     "text": [
      "┌ Warning: Time 1.00 [sec]: SAC computation took 0.118 [sec], which exceeds the maximum computation time allowed.\n",
      "└ @ RiskSensitiveSAC /home/kang/DRC_Project/DRC_Trajectron/src/rs_sac_controller.jl:733\n",
      "┌ Warning: Time 1.00 [sec]: This evaluation iteration took 0.119 [sec], which exceeds dtc.\n",
      "└ @ RiskSensitiveSAC /home/kang/DRC_Project/DRC_Trajectron/src/evaluation.jl:300\n"
     ]
    },
    {
     "name": "stderr",
     "output_type": "stream",
     "text": [
      "┌ Warning: Time 1.10 [sec]: SAC computation took 0.116 [sec], which exceeds the maximum computation time allowed.\n",
      "└ @ RiskSensitiveSAC /home/kang/DRC_Project/DRC_Trajectron/src/rs_sac_controller.jl:733\n",
      "┌ Warning: Time 1.10 [sec]: This evaluation iteration took 0.116 [sec], which exceeds dtc.\n",
      "└ @ RiskSensitiveSAC /home/kang/DRC_Project/DRC_Trajectron/src/evaluation.jl:300\n"
     ]
    },
    {
     "name": "stderr",
     "output_type": "stream",
     "text": [
      "┌ Warning: Time 1.20 [sec]: SAC computation took 0.135 [sec], which exceeds the maximum computation time allowed.\n",
      "└ @ RiskSensitiveSAC /home/kang/DRC_Project/DRC_Trajectron/src/rs_sac_controller.jl:733\n",
      "┌ Warning: Time 1.20 [sec]: This evaluation iteration took 0.136 [sec], which exceeds dtc.\n",
      "└ @ RiskSensitiveSAC /home/kang/DRC_Project/DRC_Trajectron/src/evaluation.jl:300\n"
     ]
    },
    {
     "name": "stderr",
     "output_type": "stream",
     "text": [
      "┌ Warning: Time 1.30 [sec]: SAC computation took 0.121 [sec], which exceeds the maximum computation time allowed.\n",
      "└ @ RiskSensitiveSAC /home/kang/DRC_Project/DRC_Trajectron/src/rs_sac_controller.jl:733\n",
      "┌ Warning: Time 1.30 [sec]: This evaluation iteration took 0.122 [sec], which exceeds dtc.\n",
      "└ @ RiskSensitiveSAC /home/kang/DRC_Project/DRC_Trajectron/src/evaluation.jl:300\n"
     ]
    },
    {
     "name": "stderr",
     "output_type": "stream",
     "text": [
      "┌ Warning: Time 1.40 [sec]: This evaluation iteration took 0.088 [sec], which exceeds dtc.\n",
      "└ @ RiskSensitiveSAC /home/kang/DRC_Project/DRC_Trajectron/src/evaluation.jl:300\n"
     ]
    },
    {
     "name": "stderr",
     "output_type": "stream",
     "text": [
      "┌ Warning: Time 1.50 [sec]: This evaluation iteration took 0.088 [sec], which exceeds dtc.\n",
      "└ @ RiskSensitiveSAC /home/kang/DRC_Project/DRC_Trajectron/src/evaluation.jl:300\n"
     ]
    },
    {
     "name": "stderr",
     "output_type": "stream",
     "text": [
      "┌ Warning: Time 1.60 [sec]: This evaluation iteration took 0.092 [sec], which exceeds dtc.\n",
      "└ @ RiskSensitiveSAC /home/kang/DRC_Project/DRC_Trajectron/src/evaluation.jl:300\n"
     ]
    },
    {
     "name": "stderr",
     "output_type": "stream",
     "text": [
      "┌ Warning: Time 1.70 [sec]: This evaluation iteration took 0.096 [sec], which exceeds dtc.\n",
      "└ @ RiskSensitiveSAC /home/kang/DRC_Project/DRC_Trajectron/src/evaluation.jl:300\n"
     ]
    },
    {
     "name": "stderr",
     "output_type": "stream",
     "text": [
      "┌ Warning: Time 1.80 [sec]: This evaluation iteration took 0.091 [sec], which exceeds dtc.\n",
      "└ @ RiskSensitiveSAC /home/kang/DRC_Project/DRC_Trajectron/src/evaluation.jl:300\n"
     ]
    },
    {
     "name": "stderr",
     "output_type": "stream",
     "text": [
      "┌ Warning: Time 1.90 [sec]: SAC computation took 0.104 [sec], which exceeds the maximum computation time allowed.\n",
      "└ @ RiskSensitiveSAC /home/kang/DRC_Project/DRC_Trajectron/src/rs_sac_controller.jl:733\n",
      "┌ Warning: Time 1.90 [sec]: This evaluation iteration took 0.105 [sec], which exceeds dtc.\n",
      "└ @ RiskSensitiveSAC /home/kang/DRC_Project/DRC_Trajectron/src/evaluation.jl:300\n"
     ]
    },
    {
     "name": "stderr",
     "output_type": "stream",
     "text": [
      "┌ Warning: Time 2.00 [sec]: This evaluation iteration took 0.086 [sec], which exceeds dtc.\n",
      "└ @ RiskSensitiveSAC /home/kang/DRC_Project/DRC_Trajectron/src/evaluation.jl:300\n"
     ]
    },
    {
     "name": "stderr",
     "output_type": "stream",
     "text": [
      "┌ Warning: Time 2.10 [sec]: This evaluation iteration took 0.09 [sec], which exceeds dtc.\n",
      "└ @ RiskSensitiveSAC /home/kang/DRC_Project/DRC_Trajectron/src/evaluation.jl:300\n"
     ]
    },
    {
     "name": "stderr",
     "output_type": "stream",
     "text": [
      "┌ Warning: Time 2.20 [sec]: This evaluation iteration took 0.083 [sec], which exceeds dtc.\n",
      "└ @ RiskSensitiveSAC /home/kang/DRC_Project/DRC_Trajectron/src/evaluation.jl:300\n"
     ]
    },
    {
     "name": "stderr",
     "output_type": "stream",
     "text": [
      "┌ Warning: Time 2.30 [sec]: This evaluation iteration took 0.09 [sec], which exceeds dtc.\n",
      "└ @ RiskSensitiveSAC /home/kang/DRC_Project/DRC_Trajectron/src/evaluation.jl:300\n"
     ]
    },
    {
     "name": "stderr",
     "output_type": "stream",
     "text": [
      "┌ Warning: Time 2.40 [sec]: This evaluation iteration took 0.092 [sec], which exceeds dtc.\n",
      "└ @ RiskSensitiveSAC /home/kang/DRC_Project/DRC_Trajectron/src/evaluation.jl:300\n"
     ]
    },
    {
     "name": "stderr",
     "output_type": "stream",
     "text": [
      "┌ Warning: Time 2.50 [sec]: This evaluation iteration took 0.086 [sec], which exceeds dtc.\n",
      "└ @ RiskSensitiveSAC /home/kang/DRC_Project/DRC_Trajectron/src/evaluation.jl:300\n"
     ]
    },
    {
     "name": "stderr",
     "output_type": "stream",
     "text": [
      "┌ Warning: Time 2.60 [sec]: This evaluation iteration took 0.088 [sec], which exceeds dtc.\n",
      "└ @ RiskSensitiveSAC /home/kang/DRC_Project/DRC_Trajectron/src/evaluation.jl:300\n"
     ]
    },
    {
     "name": "stderr",
     "output_type": "stream",
     "text": [
      "┌ Warning: Time 2.70 [sec]: This evaluation iteration took 0.097 [sec], which exceeds dtc.\n",
      "└ @ RiskSensitiveSAC /home/kang/DRC_Project/DRC_Trajectron/src/evaluation.jl:300\n"
     ]
    },
    {
     "name": "stderr",
     "output_type": "stream",
     "text": [
      "┌ Warning: Time 2.80 [sec]: This evaluation iteration took 0.086 [sec], which exceeds dtc.\n",
      "└ @ RiskSensitiveSAC /home/kang/DRC_Project/DRC_Trajectron/src/evaluation.jl:300\n"
     ]
    },
    {
     "name": "stderr",
     "output_type": "stream",
     "text": [
      "┌ Warning: Time 2.90 [sec]: This evaluation iteration took 0.092 [sec], which exceeds dtc.\n",
      "└ @ RiskSensitiveSAC /home/kang/DRC_Project/DRC_Trajectron/src/evaluation.jl:300\n"
     ]
    },
    {
     "name": "stderr",
     "output_type": "stream",
     "text": [
      "┌ Warning: Time 3.00 [sec]: SAC computation took 0.102 [sec], which exceeds the maximum computation time allowed.\n",
      "└ @ RiskSensitiveSAC /home/kang/DRC_Project/DRC_Trajectron/src/rs_sac_controller.jl:733\n",
      "┌ Warning: Time 3.00 [sec]: This evaluation iteration took 0.102 [sec], which exceeds dtc.\n",
      "└ @ RiskSensitiveSAC /home/kang/DRC_Project/DRC_Trajectron/src/evaluation.jl:300\n"
     ]
    },
    {
     "name": "stderr",
     "output_type": "stream",
     "text": [
      "┌ Warning: Time 3.10 [sec]: SAC computation took 0.121 [sec], which exceeds the maximum computation time allowed.\n",
      "└ @ RiskSensitiveSAC /home/kang/DRC_Project/DRC_Trajectron/src/rs_sac_controller.jl:733\n",
      "┌ Warning: Time 3.10 [sec]: This evaluation iteration took 0.122 [sec], which exceeds dtc.\n",
      "└ @ RiskSensitiveSAC /home/kang/DRC_Project/DRC_Trajectron/src/evaluation.jl:300\n"
     ]
    },
    {
     "name": "stderr",
     "output_type": "stream",
     "text": [
      "┌ Warning: Time 3.20 [sec]: SAC computation took 0.168 [sec], which exceeds the maximum computation time allowed.\n",
      "└ @ RiskSensitiveSAC /home/kang/DRC_Project/DRC_Trajectron/src/rs_sac_controller.jl:733\n",
      "┌ Warning: Time 3.20 [sec]: This evaluation iteration took 0.168 [sec], which exceeds dtc.\n",
      "└ @ RiskSensitiveSAC /home/kang/DRC_Project/DRC_Trajectron/src/evaluation.jl:300\n"
     ]
    },
    {
     "name": "stderr",
     "output_type": "stream",
     "text": [
      "┌ Warning: Time 3.30 [sec]: SAC computation took 0.115 [sec], which exceeds the maximum computation time allowed.\n",
      "└ @ RiskSensitiveSAC /home/kang/DRC_Project/DRC_Trajectron/src/rs_sac_controller.jl:733\n",
      "┌ Warning: Time 3.30 [sec]: This evaluation iteration took 0.116 [sec], which exceeds dtc.\n",
      "└ @ RiskSensitiveSAC /home/kang/DRC_Project/DRC_Trajectron/src/evaluation.jl:300\n"
     ]
    },
    {
     "name": "stderr",
     "output_type": "stream",
     "text": [
      "┌ Warning: Time 3.40 [sec]: SAC computation took 0.114 [sec], which exceeds the maximum computation time allowed.\n",
      "└ @ RiskSensitiveSAC /home/kang/DRC_Project/DRC_Trajectron/src/rs_sac_controller.jl:733\n",
      "┌ Warning: Time 3.40 [sec]: This evaluation iteration took 0.115 [sec], which exceeds dtc.\n",
      "└ @ RiskSensitiveSAC /home/kang/DRC_Project/DRC_Trajectron/src/evaluation.jl:300\n"
     ]
    },
    {
     "name": "stderr",
     "output_type": "stream",
     "text": [
      "┌ Warning: Time 3.50 [sec]: SAC computation took 0.113 [sec], which exceeds the maximum computation time allowed.\n",
      "└ @ RiskSensitiveSAC /home/kang/DRC_Project/DRC_Trajectron/src/rs_sac_controller.jl:733\n",
      "┌ Warning: Time 3.50 [sec]: This evaluation iteration took 0.114 [sec], which exceeds dtc.\n",
      "└ @ RiskSensitiveSAC /home/kang/DRC_Project/DRC_Trajectron/src/evaluation.jl:300\n"
     ]
    },
    {
     "name": "stderr",
     "output_type": "stream",
     "text": [
      "┌ Warning: Time 3.60 [sec]: SAC computation took 0.114 [sec], which exceeds the maximum computation time allowed.\n",
      "└ @ RiskSensitiveSAC /home/kang/DRC_Project/DRC_Trajectron/src/rs_sac_controller.jl:733\n",
      "┌ Warning: Time 3.60 [sec]: This evaluation iteration took 0.115 [sec], which exceeds dtc.\n",
      "└ @ RiskSensitiveSAC /home/kang/DRC_Project/DRC_Trajectron/src/evaluation.jl:300\n"
     ]
    },
    {
     "name": "stderr",
     "output_type": "stream",
     "text": [
      "┌ Warning: Time 3.70 [sec]: SAC computation took 0.115 [sec], which exceeds the maximum computation time allowed.\n",
      "└ @ RiskSensitiveSAC /home/kang/DRC_Project/DRC_Trajectron/src/rs_sac_controller.jl:733\n",
      "┌ Warning: Time 3.70 [sec]: This evaluation iteration took 0.115 [sec], which exceeds dtc.\n",
      "└ @ RiskSensitiveSAC /home/kang/DRC_Project/DRC_Trajectron/src/evaluation.jl:300\n"
     ]
    },
    {
     "name": "stderr",
     "output_type": "stream",
     "text": [
      "┌ Warning: Time 3.80 [sec]: SAC computation took 0.102 [sec], which exceeds the maximum computation time allowed.\n",
      "└ @ RiskSensitiveSAC /home/kang/DRC_Project/DRC_Trajectron/src/rs_sac_controller.jl:733\n",
      "┌ Warning: Time 3.80 [sec]: This evaluation iteration took 0.102 [sec], which exceeds dtc.\n",
      "└ @ RiskSensitiveSAC /home/kang/DRC_Project/DRC_Trajectron/src/evaluation.jl:300\n"
     ]
    },
    {
     "name": "stderr",
     "output_type": "stream",
     "text": [
      "┌ Warning: Time 3.90 [sec]: SAC computation took 0.112 [sec], which exceeds the maximum computation time allowed.\n",
      "└ @ RiskSensitiveSAC /home/kang/DRC_Project/DRC_Trajectron/src/rs_sac_controller.jl:733\n",
      "┌ Warning: Time 3.90 [sec]: This evaluation iteration took 0.112 [sec], which exceeds dtc.\n",
      "└ @ RiskSensitiveSAC /home/kang/DRC_Project/DRC_Trajectron/src/evaluation.jl:300\n"
     ]
    },
    {
     "name": "stderr",
     "output_type": "stream",
     "text": [
      "┌ Warning: Time 4.00 [sec]: SAC computation took 0.116 [sec], which exceeds the maximum computation time allowed.\n",
      "└ @ RiskSensitiveSAC /home/kang/DRC_Project/DRC_Trajectron/src/rs_sac_controller.jl:733\n",
      "┌ Warning: Time 4.00 [sec]: This evaluation iteration took 0.117 [sec], which exceeds dtc.\n",
      "└ @ RiskSensitiveSAC /home/kang/DRC_Project/DRC_Trajectron/src/evaluation.jl:300\n"
     ]
    },
    {
     "name": "stderr",
     "output_type": "stream",
     "text": [
      "┌ Warning: Time 4.10 [sec]: SAC computation took 0.128 [sec], which exceeds the maximum computation time allowed.\n",
      "└ @ RiskSensitiveSAC /home/kang/DRC_Project/DRC_Trajectron/src/rs_sac_controller.jl:733\n",
      "┌ Warning: Time 4.10 [sec]: This evaluation iteration took 0.128 [sec], which exceeds dtc.\n",
      "└ @ RiskSensitiveSAC /home/kang/DRC_Project/DRC_Trajectron/src/evaluation.jl:300\n"
     ]
    },
    {
     "name": "stderr",
     "output_type": "stream",
     "text": [
      "┌ Warning: Time 4.20 [sec]: SAC computation took 0.117 [sec], which exceeds the maximum computation time allowed.\n",
      "└ @ RiskSensitiveSAC /home/kang/DRC_Project/DRC_Trajectron/src/rs_sac_controller.jl:733\n",
      "┌ Warning: Time 4.20 [sec]: This evaluation iteration took 0.117 [sec], which exceeds dtc.\n",
      "└ @ RiskSensitiveSAC /home/kang/DRC_Project/DRC_Trajectron/src/evaluation.jl:300\n"
     ]
    },
    {
     "name": "stderr",
     "output_type": "stream",
     "text": [
      "┌ Warning: Time 4.30 [sec]: SAC computation took 0.113 [sec], which exceeds the maximum computation time allowed.\n",
      "└ @ RiskSensitiveSAC /home/kang/DRC_Project/DRC_Trajectron/src/rs_sac_controller.jl:733\n",
      "┌ Warning: Time 4.30 [sec]: This evaluation iteration took 0.113 [sec], which exceeds dtc.\n",
      "└ @ RiskSensitiveSAC /home/kang/DRC_Project/DRC_Trajectron/src/evaluation.jl:300\n"
     ]
    },
    {
     "name": "stderr",
     "output_type": "stream",
     "text": [
      "┌ Warning: Time 4.40 [sec]: SAC computation took 0.118 [sec], which exceeds the maximum computation time allowed.\n",
      "└ @ RiskSensitiveSAC /home/kang/DRC_Project/DRC_Trajectron/src/rs_sac_controller.jl:733\n",
      "┌ Warning: Time 4.40 [sec]: This evaluation iteration took 0.119 [sec], which exceeds dtc.\n",
      "└ @ RiskSensitiveSAC /home/kang/DRC_Project/DRC_Trajectron/src/evaluation.jl:300\n"
     ]
    },
    {
     "name": "stderr",
     "output_type": "stream",
     "text": [
      "┌ Warning: Time 4.50 [sec]: SAC computation took 0.119 [sec], which exceeds the maximum computation time allowed.\n",
      "└ @ RiskSensitiveSAC /home/kang/DRC_Project/DRC_Trajectron/src/rs_sac_controller.jl:733\n",
      "┌ Warning: Time 4.50 [sec]: This evaluation iteration took 0.12 [sec], which exceeds dtc.\n",
      "└ @ RiskSensitiveSAC /home/kang/DRC_Project/DRC_Trajectron/src/evaluation.jl:300\n"
     ]
    },
    {
     "name": "stderr",
     "output_type": "stream",
     "text": [
      "┌ Warning: Time 4.60 [sec]: This evaluation iteration took 0.094 [sec], which exceeds dtc.\n",
      "└ @ RiskSensitiveSAC /home/kang/DRC_Project/DRC_Trajectron/src/evaluation.jl:300\n"
     ]
    },
    {
     "name": "stderr",
     "output_type": "stream",
     "text": [
      "┌ Warning: Time 4.70 [sec]: This evaluation iteration took 0.099 [sec], which exceeds dtc.\n",
      "└ @ RiskSensitiveSAC /home/kang/DRC_Project/DRC_Trajectron/src/evaluation.jl:300\n"
     ]
    },
    {
     "name": "stderr",
     "output_type": "stream",
     "text": [
      "┌ Warning: Time 4.80 [sec]: This evaluation iteration took 0.088 [sec], which exceeds dtc.\n",
      "└ @ RiskSensitiveSAC /home/kang/DRC_Project/DRC_Trajectron/src/evaluation.jl:300\n"
     ]
    },
    {
     "name": "stderr",
     "output_type": "stream",
     "text": [
      "┌ Warning: Time 4.90 [sec]: This evaluation iteration took 0.09 [sec], which exceeds dtc.\n",
      "└ @ RiskSensitiveSAC /home/kang/DRC_Project/DRC_Trajectron/src/evaluation.jl:300\n"
     ]
    },
    {
     "name": "stderr",
     "output_type": "stream",
     "text": [
      "┌ Warning: Time 5.00 [sec]: This evaluation iteration took 0.093 [sec], which exceeds dtc.\n",
      "└ @ RiskSensitiveSAC /home/kang/DRC_Project/DRC_Trajectron/src/evaluation.jl:300\n"
     ]
    },
    {
     "name": "stderr",
     "output_type": "stream",
     "text": [
      "┌ Warning: Time 5.10 [sec]: This evaluation iteration took 0.091 [sec], which exceeds dtc.\n",
      "└ @ RiskSensitiveSAC /home/kang/DRC_Project/DRC_Trajectron/src/evaluation.jl:300\n"
     ]
    },
    {
     "name": "stderr",
     "output_type": "stream",
     "text": [
      "┌ Warning: Time 5.20 [sec]: SAC computation took 0.127 [sec], which exceeds the maximum computation time allowed.\n",
      "└ @ RiskSensitiveSAC /home/kang/DRC_Project/DRC_Trajectron/src/rs_sac_controller.jl:733\n",
      "┌ Warning: Time 5.20 [sec]: This evaluation iteration took 0.128 [sec], which exceeds dtc.\n",
      "└ @ RiskSensitiveSAC /home/kang/DRC_Project/DRC_Trajectron/src/evaluation.jl:300\n"
     ]
    },
    {
     "name": "stderr",
     "output_type": "stream",
     "text": [
      "┌ Warning: Time 5.30 [sec]: This evaluation iteration took 0.094 [sec], which exceeds dtc.\n",
      "└ @ RiskSensitiveSAC /home/kang/DRC_Project/DRC_Trajectron/src/evaluation.jl:300\n"
     ]
    },
    {
     "name": "stderr",
     "output_type": "stream",
     "text": [
      "┌ Warning: Time 5.40 [sec]: This evaluation iteration took 0.082 [sec], which exceeds dtc.\n",
      "└ @ RiskSensitiveSAC /home/kang/DRC_Project/DRC_Trajectron/src/evaluation.jl:300\n"
     ]
    },
    {
     "name": "stderr",
     "output_type": "stream",
     "text": [
      "┌ Warning: Time 5.50 [sec]: This evaluation iteration took 0.088 [sec], which exceeds dtc.\n",
      "└ @ RiskSensitiveSAC /home/kang/DRC_Project/DRC_Trajectron/src/evaluation.jl:300\n"
     ]
    },
    {
     "name": "stderr",
     "output_type": "stream",
     "text": [
      "┌ Warning: Time 5.60 [sec]: This evaluation iteration took 0.081 [sec], which exceeds dtc.\n",
      "└ @ RiskSensitiveSAC /home/kang/DRC_Project/DRC_Trajectron/src/evaluation.jl:300\n"
     ]
    },
    {
     "name": "stderr",
     "output_type": "stream",
     "text": [
      "┌ Warning: Time 5.70 [sec]: This evaluation iteration took 0.078 [sec], which exceeds dtc.\n",
      "└ @ RiskSensitiveSAC /home/kang/DRC_Project/DRC_Trajectron/src/evaluation.jl:300\n"
     ]
    },
    {
     "name": "stderr",
     "output_type": "stream",
     "text": [
      "┌ Warning: Time 5.80 [sec]: This evaluation iteration took 0.089 [sec], which exceeds dtc.\n",
      "└ @ RiskSensitiveSAC /home/kang/DRC_Project/DRC_Trajectron/src/evaluation.jl:300\n"
     ]
    },
    {
     "name": "stderr",
     "output_type": "stream",
     "text": [
      "┌ Warning: Time 5.90 [sec]: This evaluation iteration took 0.099 [sec], which exceeds dtc.\n",
      "└ @ RiskSensitiveSAC /home/kang/DRC_Project/DRC_Trajectron/src/evaluation.jl:300\n"
     ]
    },
    {
     "name": "stderr",
     "output_type": "stream",
     "text": [
      "┌ Warning: Time 6.00 [sec]: This evaluation iteration took 0.091 [sec], which exceeds dtc.\n",
      "└ @ RiskSensitiveSAC /home/kang/DRC_Project/DRC_Trajectron/src/evaluation.jl:300\n"
     ]
    },
    {
     "name": "stderr",
     "output_type": "stream",
     "text": [
      "┌ Warning: Time 6.10 [sec]: This evaluation iteration took 0.082 [sec], which exceeds dtc.\n",
      "└ @ RiskSensitiveSAC /home/kang/DRC_Project/DRC_Trajectron/src/evaluation.jl:300\n"
     ]
    },
    {
     "name": "stderr",
     "output_type": "stream",
     "text": [
      "┌ Warning: Time 6.20 [sec]: This evaluation iteration took 0.1 [sec], which exceeds dtc.\n",
      "└ @ RiskSensitiveSAC /home/kang/DRC_Project/DRC_Trajectron/src/evaluation.jl:300\n"
     ]
    },
    {
     "name": "stderr",
     "output_type": "stream",
     "text": [
      "┌ Warning: Time 6.30 [sec]: This evaluation iteration took 0.087 [sec], which exceeds dtc.\n",
      "└ @ RiskSensitiveSAC /home/kang/DRC_Project/DRC_Trajectron/src/evaluation.jl:300\n"
     ]
    },
    {
     "name": "stderr",
     "output_type": "stream",
     "text": [
      "┌ Warning: Time 6.40 [sec]: This evaluation iteration took 0.082 [sec], which exceeds dtc.\n",
      "└ @ RiskSensitiveSAC /home/kang/DRC_Project/DRC_Trajectron/src/evaluation.jl:300\n"
     ]
    },
    {
     "name": "stderr",
     "output_type": "stream",
     "text": [
      "┌ Warning: Time 6.50 [sec]: SAC computation took 0.103 [sec], which exceeds the maximum computation time allowed.\n",
      "└ @ RiskSensitiveSAC /home/kang/DRC_Project/DRC_Trajectron/src/rs_sac_controller.jl:733\n",
      "┌ Warning: Time 6.50 [sec]: This evaluation iteration took 0.104 [sec], which exceeds dtc.\n",
      "└ @ RiskSensitiveSAC /home/kang/DRC_Project/DRC_Trajectron/src/evaluation.jl:300\n"
     ]
    },
    {
     "name": "stderr",
     "output_type": "stream",
     "text": [
      "┌ Warning: Time 6.60 [sec]: This evaluation iteration took 0.094 [sec], which exceeds dtc.\n",
      "└ @ RiskSensitiveSAC /home/kang/DRC_Project/DRC_Trajectron/src/evaluation.jl:300\n"
     ]
    },
    {
     "name": "stderr",
     "output_type": "stream",
     "text": [
      "┌ Warning: Time 6.70 [sec]: This evaluation iteration took 0.091 [sec], which exceeds dtc.\n",
      "└ @ RiskSensitiveSAC /home/kang/DRC_Project/DRC_Trajectron/src/evaluation.jl:300\n"
     ]
    },
    {
     "name": "stderr",
     "output_type": "stream",
     "text": [
      "┌ Warning: Time 6.80 [sec]: This evaluation iteration took 0.087 [sec], which exceeds dtc.\n",
      "└ @ RiskSensitiveSAC /home/kang/DRC_Project/DRC_Trajectron/src/evaluation.jl:300\n"
     ]
    },
    {
     "name": "stderr",
     "output_type": "stream",
     "text": [
      "┌ Warning: Time 6.90 [sec]: This evaluation iteration took 0.097 [sec], which exceeds dtc.\n",
      "└ @ RiskSensitiveSAC /home/kang/DRC_Project/DRC_Trajectron/src/evaluation.jl:300\n"
     ]
    },
    {
     "name": "stderr",
     "output_type": "stream",
     "text": [
      "┌ Warning: Time 7.00 [sec]: This evaluation iteration took 0.093 [sec], which exceeds dtc.\n",
      "└ @ RiskSensitiveSAC /home/kang/DRC_Project/DRC_Trajectron/src/evaluation.jl:300\n"
     ]
    },
    {
     "name": "stderr",
     "output_type": "stream",
     "text": [
      "┌ Warning: Time 7.10 [sec]: This evaluation iteration took 0.086 [sec], which exceeds dtc.\n",
      "└ @ RiskSensitiveSAC /home/kang/DRC_Project/DRC_Trajectron/src/evaluation.jl:300\n"
     ]
    },
    {
     "name": "stderr",
     "output_type": "stream",
     "text": [
      "┌ Warning: Time 7.20 [sec]: SAC computation took 0.129 [sec], which exceeds the maximum computation time allowed.\n",
      "└ @ RiskSensitiveSAC /home/kang/DRC_Project/DRC_Trajectron/src/rs_sac_controller.jl:733\n",
      "┌ Warning: Time 7.20 [sec]: This evaluation iteration took 0.13 [sec], which exceeds dtc.\n",
      "└ @ RiskSensitiveSAC /home/kang/DRC_Project/DRC_Trajectron/src/evaluation.jl:300\n"
     ]
    },
    {
     "name": "stderr",
     "output_type": "stream",
     "text": [
      "┌ Warning: Time 7.30 [sec]: This evaluation iteration took 0.088 [sec], which exceeds dtc.\n",
      "└ @ RiskSensitiveSAC /home/kang/DRC_Project/DRC_Trajectron/src/evaluation.jl:300\n"
     ]
    },
    {
     "name": "stderr",
     "output_type": "stream",
     "text": [
      "┌ Warning: Time 7.40 [sec]: This evaluation iteration took 0.095 [sec], which exceeds dtc.\n",
      "└ @ RiskSensitiveSAC /home/kang/DRC_Project/DRC_Trajectron/src/evaluation.jl:300\n"
     ]
    },
    {
     "name": "stderr",
     "output_type": "stream",
     "text": [
      "┌ Warning: Time 7.50 [sec]: This evaluation iteration took 0.091 [sec], which exceeds dtc.\n",
      "└ @ RiskSensitiveSAC /home/kang/DRC_Project/DRC_Trajectron/src/evaluation.jl:300\n"
     ]
    },
    {
     "name": "stderr",
     "output_type": "stream",
     "text": [
      "┌ Warning: Time 7.60 [sec]: This evaluation iteration took 0.083 [sec], which exceeds dtc.\n",
      "└ @ RiskSensitiveSAC /home/kang/DRC_Project/DRC_Trajectron/src/evaluation.jl:300\n"
     ]
    },
    {
     "name": "stderr",
     "output_type": "stream",
     "text": [
      "┌ Warning: Time 7.70 [sec]: This evaluation iteration took 0.097 [sec], which exceeds dtc.\n",
      "└ @ RiskSensitiveSAC /home/kang/DRC_Project/DRC_Trajectron/src/evaluation.jl:300\n"
     ]
    },
    {
     "name": "stderr",
     "output_type": "stream",
     "text": [
      "┌ Warning: Time 7.80 [sec]: This evaluation iteration took 0.09 [sec], which exceeds dtc.\n",
      "└ @ RiskSensitiveSAC /home/kang/DRC_Project/DRC_Trajectron/src/evaluation.jl:300\n"
     ]
    },
    {
     "name": "stderr",
     "output_type": "stream",
     "text": [
      "┌ Warning: Time 7.90 [sec]: This evaluation iteration took 0.083 [sec], which exceeds dtc.\n",
      "└ @ RiskSensitiveSAC /home/kang/DRC_Project/DRC_Trajectron/src/evaluation.jl:300\n"
     ]
    },
    {
     "name": "stderr",
     "output_type": "stream",
     "text": [
      "┌ Warning: Time 8.00 [sec]: This evaluation iteration took 0.083 [sec], which exceeds dtc.\n",
      "└ @ RiskSensitiveSAC /home/kang/DRC_Project/DRC_Trajectron/src/evaluation.jl:300\n"
     ]
    },
    {
     "name": "stderr",
     "output_type": "stream",
     "text": [
      "┌ Warning: Time 8.10 [sec]: This evaluation iteration took 0.095 [sec], which exceeds dtc.\n",
      "└ @ RiskSensitiveSAC /home/kang/DRC_Project/DRC_Trajectron/src/evaluation.jl:300\n"
     ]
    },
    {
     "name": "stderr",
     "output_type": "stream",
     "text": [
      "┌ Warning: Time 8.20 [sec]: This evaluation iteration took 0.083 [sec], which exceeds dtc.\n",
      "└ @ RiskSensitiveSAC /home/kang/DRC_Project/DRC_Trajectron/src/evaluation.jl:300\n"
     ]
    },
    {
     "name": "stderr",
     "output_type": "stream",
     "text": [
      "┌ Warning: Time 8.30 [sec]: This evaluation iteration took 0.088 [sec], which exceeds dtc.\n",
      "└ @ RiskSensitiveSAC /home/kang/DRC_Project/DRC_Trajectron/src/evaluation.jl:300\n"
     ]
    },
    {
     "name": "stderr",
     "output_type": "stream",
     "text": [
      "┌ Warning: Time 8.40 [sec]: This evaluation iteration took 0.095 [sec], which exceeds dtc.\n",
      "└ @ RiskSensitiveSAC /home/kang/DRC_Project/DRC_Trajectron/src/evaluation.jl:300\n"
     ]
    },
    {
     "name": "stderr",
     "output_type": "stream",
     "text": [
      "┌ Warning: Time 8.50 [sec]: This evaluation iteration took 0.083 [sec], which exceeds dtc.\n",
      "└ @ RiskSensitiveSAC /home/kang/DRC_Project/DRC_Trajectron/src/evaluation.jl:300\n"
     ]
    },
    {
     "name": "stderr",
     "output_type": "stream",
     "text": [
      "┌ Warning: Time 8.60 [sec]: This evaluation iteration took 0.091 [sec], which exceeds dtc.\n",
      "└ @ RiskSensitiveSAC /home/kang/DRC_Project/DRC_Trajectron/src/evaluation.jl:300\n"
     ]
    },
    {
     "name": "stderr",
     "output_type": "stream",
     "text": [
      "┌ Warning: Time 8.70 [sec]: This evaluation iteration took 0.094 [sec], which exceeds dtc.\n",
      "└ @ RiskSensitiveSAC /home/kang/DRC_Project/DRC_Trajectron/src/evaluation.jl:300\n"
     ]
    },
    {
     "name": "stderr",
     "output_type": "stream",
     "text": [
      "┌ Warning: Time 8.80 [sec]: This evaluation iteration took 0.081 [sec], which exceeds dtc.\n",
      "└ @ RiskSensitiveSAC /home/kang/DRC_Project/DRC_Trajectron/src/evaluation.jl:300\n"
     ]
    },
    {
     "name": "stderr",
     "output_type": "stream",
     "text": [
      "┌ Warning: Time 8.90 [sec]: This evaluation iteration took 0.088 [sec], which exceeds dtc.\n",
      "└ @ RiskSensitiveSAC /home/kang/DRC_Project/DRC_Trajectron/src/evaluation.jl:300\n"
     ]
    },
    {
     "name": "stderr",
     "output_type": "stream",
     "text": [
      "┌ Warning: Time 9.00 [sec]: This evaluation iteration took 0.09 [sec], which exceeds dtc.\n",
      "└ @ RiskSensitiveSAC /home/kang/DRC_Project/DRC_Trajectron/src/evaluation.jl:300\n"
     ]
    },
    {
     "name": "stderr",
     "output_type": "stream",
     "text": [
      "┌ Warning: Time 9.10 [sec]: This evaluation iteration took 0.084 [sec], which exceeds dtc.\n",
      "└ @ RiskSensitiveSAC /home/kang/DRC_Project/DRC_Trajectron/src/evaluation.jl:300\n"
     ]
    },
    {
     "name": "stderr",
     "output_type": "stream",
     "text": [
      "┌ Warning: Time 9.20 [sec]: SAC computation took 0.122 [sec], which exceeds the maximum computation time allowed.\n",
      "└ @ RiskSensitiveSAC /home/kang/DRC_Project/DRC_Trajectron/src/rs_sac_controller.jl:733\n",
      "┌ Warning: Time 9.20 [sec]: This evaluation iteration took 0.122 [sec], which exceeds dtc.\n",
      "└ @ RiskSensitiveSAC /home/kang/DRC_Project/DRC_Trajectron/src/evaluation.jl:300\n"
     ]
    },
    {
     "name": "stderr",
     "output_type": "stream",
     "text": [
      "┌ Warning: Time 9.30 [sec]: This evaluation iteration took 0.09 [sec], which exceeds dtc.\n",
      "└ @ RiskSensitiveSAC /home/kang/DRC_Project/DRC_Trajectron/src/evaluation.jl:300\n"
     ]
    },
    {
     "name": "stderr",
     "output_type": "stream",
     "text": [
      "┌ Warning: Time 9.40 [sec]: This evaluation iteration took 0.087 [sec], which exceeds dtc.\n",
      "└ @ RiskSensitiveSAC /home/kang/DRC_Project/DRC_Trajectron/src/evaluation.jl:300\n"
     ]
    },
    {
     "name": "stderr",
     "output_type": "stream",
     "text": [
      "┌ Warning: Time 9.50 [sec]: This evaluation iteration took 0.086 [sec], which exceeds dtc.\n",
      "└ @ RiskSensitiveSAC /home/kang/DRC_Project/DRC_Trajectron/src/evaluation.jl:300\n"
     ]
    },
    {
     "name": "stderr",
     "output_type": "stream",
     "text": [
      "┌ Warning: Time 9.60 [sec]: This evaluation iteration took 0.085 [sec], which exceeds dtc.\n",
      "└ @ RiskSensitiveSAC /home/kang/DRC_Project/DRC_Trajectron/src/evaluation.jl:300\n"
     ]
    },
    {
     "name": "stderr",
     "output_type": "stream",
     "text": [
      "┌ Warning: Time 9.70 [sec]: This evaluation iteration took 0.088 [sec], which exceeds dtc.\n",
      "└ @ RiskSensitiveSAC /home/kang/DRC_Project/DRC_Trajectron/src/evaluation.jl:300\n"
     ]
    },
    {
     "name": "stderr",
     "output_type": "stream",
     "text": [
      "┌ Warning: Time 9.80 [sec]: This evaluation iteration took 0.089 [sec], which exceeds dtc.\n",
      "└ @ RiskSensitiveSAC /home/kang/DRC_Project/DRC_Trajectron/src/evaluation.jl:300\n"
     ]
    },
    {
     "name": "stderr",
     "output_type": "stream",
     "text": [
      "┌ Warning: Time 9.90 [sec]: This evaluation iteration took 0.09 [sec], which exceeds dtc.\n",
      "└ @ RiskSensitiveSAC /home/kang/DRC_Project/DRC_Trajectron/src/evaluation.jl:300\n"
     ]
    },
    {
     "name": "stdout",
     "output_type": "stream",
     "text": [
      "Total Collision: 0, Total Position Cost: 75.87045660730597, Total Control Cost: 1.8744075870390873, Minimum Distance: 1.0842495634882388, Experiment 16: "
     ]
    },
    {
     "name": "stderr",
     "output_type": "stream",
     "text": [
      "┌ Warning: Time 0.10 [sec]: This evaluation iteration took 0.089 [sec], which exceeds dtc.\n",
      "└ @ RiskSensitiveSAC /home/kang/DRC_Project/DRC_Trajectron/src/evaluation.jl:300\n"
     ]
    },
    {
     "name": "stderr",
     "output_type": "stream",
     "text": [
      "┌ Warning: Time 0.20 [sec]: This evaluation iteration took 0.092 [sec], which exceeds dtc.\n",
      "└ @ RiskSensitiveSAC /home/kang/DRC_Project/DRC_Trajectron/src/evaluation.jl:300\n"
     ]
    },
    {
     "name": "stderr",
     "output_type": "stream",
     "text": [
      "┌ Warning: Time 0.30 [sec]: SAC computation took 0.1 [sec], which exceeds the maximum computation time allowed.\n",
      "└ @ RiskSensitiveSAC /home/kang/DRC_Project/DRC_Trajectron/src/rs_sac_controller.jl:733\n",
      "┌ Warning: Time 0.30 [sec]: This evaluation iteration took 0.101 [sec], which exceeds dtc.\n",
      "└ @ RiskSensitiveSAC /home/kang/DRC_Project/DRC_Trajectron/src/evaluation.jl:300\n"
     ]
    },
    {
     "name": "stderr",
     "output_type": "stream",
     "text": [
      "┌ Warning: Time 0.40 [sec]: SAC computation took 0.108 [sec], which exceeds the maximum computation time allowed.\n",
      "└ @ RiskSensitiveSAC /home/kang/DRC_Project/DRC_Trajectron/src/rs_sac_controller.jl:733\n",
      "┌ Warning: Time 0.40 [sec]: This evaluation iteration took 0.108 [sec], which exceeds dtc.\n",
      "└ @ RiskSensitiveSAC /home/kang/DRC_Project/DRC_Trajectron/src/evaluation.jl:300\n"
     ]
    },
    {
     "name": "stderr",
     "output_type": "stream",
     "text": [
      "┌ Warning: Time 0.50 [sec]: This evaluation iteration took 0.086 [sec], which exceeds dtc.\n",
      "└ @ RiskSensitiveSAC /home/kang/DRC_Project/DRC_Trajectron/src/evaluation.jl:300\n"
     ]
    },
    {
     "name": "stderr",
     "output_type": "stream",
     "text": [
      "┌ Warning: Time 0.60 [sec]: SAC computation took 0.126 [sec], which exceeds the maximum computation time allowed.\n",
      "└ @ RiskSensitiveSAC /home/kang/DRC_Project/DRC_Trajectron/src/rs_sac_controller.jl:733\n",
      "┌ Warning: Time 0.60 [sec]: This evaluation iteration took 0.127 [sec], which exceeds dtc.\n",
      "└ @ RiskSensitiveSAC /home/kang/DRC_Project/DRC_Trajectron/src/evaluation.jl:300\n"
     ]
    },
    {
     "name": "stderr",
     "output_type": "stream",
     "text": [
      "┌ Warning: Time 0.70 [sec]: SAC computation took 0.118 [sec], which exceeds the maximum computation time allowed.\n",
      "└ @ RiskSensitiveSAC /home/kang/DRC_Project/DRC_Trajectron/src/rs_sac_controller.jl:733\n",
      "┌ Warning: Time 0.70 [sec]: This evaluation iteration took 0.119 [sec], which exceeds dtc.\n",
      "└ @ RiskSensitiveSAC /home/kang/DRC_Project/DRC_Trajectron/src/evaluation.jl:300\n"
     ]
    },
    {
     "name": "stderr",
     "output_type": "stream",
     "text": [
      "┌ Warning: Time 0.80 [sec]: SAC computation took 0.115 [sec], which exceeds the maximum computation time allowed.\n",
      "└ @ RiskSensitiveSAC /home/kang/DRC_Project/DRC_Trajectron/src/rs_sac_controller.jl:733\n",
      "┌ Warning: Time 0.80 [sec]: This evaluation iteration took 0.116 [sec], which exceeds dtc.\n",
      "└ @ RiskSensitiveSAC /home/kang/DRC_Project/DRC_Trajectron/src/evaluation.jl:300\n"
     ]
    },
    {
     "name": "stderr",
     "output_type": "stream",
     "text": [
      "┌ Warning: Time 0.90 [sec]: SAC computation took 0.13 [sec], which exceeds the maximum computation time allowed.\n",
      "└ @ RiskSensitiveSAC /home/kang/DRC_Project/DRC_Trajectron/src/rs_sac_controller.jl:733\n",
      "┌ Warning: Time 0.90 [sec]: This evaluation iteration took 0.13 [sec], which exceeds dtc.\n",
      "└ @ RiskSensitiveSAC /home/kang/DRC_Project/DRC_Trajectron/src/evaluation.jl:300\n"
     ]
    },
    {
     "name": "stderr",
     "output_type": "stream",
     "text": [
      "┌ Warning: Time 1.00 [sec]: SAC computation took 0.127 [sec], which exceeds the maximum computation time allowed.\n",
      "└ @ RiskSensitiveSAC /home/kang/DRC_Project/DRC_Trajectron/src/rs_sac_controller.jl:733\n",
      "┌ Warning: Time 1.00 [sec]: This evaluation iteration took 0.128 [sec], which exceeds dtc.\n",
      "└ @ RiskSensitiveSAC /home/kang/DRC_Project/DRC_Trajectron/src/evaluation.jl:300\n"
     ]
    },
    {
     "name": "stderr",
     "output_type": "stream",
     "text": [
      "┌ Warning: Time 1.10 [sec]: SAC computation took 0.117 [sec], which exceeds the maximum computation time allowed.\n",
      "└ @ RiskSensitiveSAC /home/kang/DRC_Project/DRC_Trajectron/src/rs_sac_controller.jl:733\n",
      "┌ Warning: Time 1.10 [sec]: This evaluation iteration took 0.118 [sec], which exceeds dtc.\n",
      "└ @ RiskSensitiveSAC /home/kang/DRC_Project/DRC_Trajectron/src/evaluation.jl:300\n"
     ]
    },
    {
     "name": "stderr",
     "output_type": "stream",
     "text": [
      "┌ Warning: Time 1.20 [sec]: SAC computation took 0.188 [sec], which exceeds the maximum computation time allowed.\n",
      "└ @ RiskSensitiveSAC /home/kang/DRC_Project/DRC_Trajectron/src/rs_sac_controller.jl:733\n",
      "┌ Warning: Time 1.20 [sec]: This evaluation iteration took 0.189 [sec], which exceeds dtc.\n",
      "└ @ RiskSensitiveSAC /home/kang/DRC_Project/DRC_Trajectron/src/evaluation.jl:300\n"
     ]
    },
    {
     "name": "stderr",
     "output_type": "stream",
     "text": [
      "┌ Warning: Time 1.30 [sec]: SAC computation took 0.112 [sec], which exceeds the maximum computation time allowed.\n",
      "└ @ RiskSensitiveSAC /home/kang/DRC_Project/DRC_Trajectron/src/rs_sac_controller.jl:733\n",
      "┌ Warning: Time 1.30 [sec]: This evaluation iteration took 0.112 [sec], which exceeds dtc.\n",
      "└ @ RiskSensitiveSAC /home/kang/DRC_Project/DRC_Trajectron/src/evaluation.jl:300\n"
     ]
    },
    {
     "name": "stderr",
     "output_type": "stream",
     "text": [
      "┌ Warning: Time 1.40 [sec]: SAC computation took 0.113 [sec], which exceeds the maximum computation time allowed.\n",
      "└ @ RiskSensitiveSAC /home/kang/DRC_Project/DRC_Trajectron/src/rs_sac_controller.jl:733\n",
      "┌ Warning: Time 1.40 [sec]: This evaluation iteration took 0.114 [sec], which exceeds dtc.\n",
      "└ @ RiskSensitiveSAC /home/kang/DRC_Project/DRC_Trajectron/src/evaluation.jl:300\n"
     ]
    },
    {
     "name": "stderr",
     "output_type": "stream",
     "text": [
      "┌ Warning: Time 1.50 [sec]: SAC computation took 0.112 [sec], which exceeds the maximum computation time allowed.\n",
      "└ @ RiskSensitiveSAC /home/kang/DRC_Project/DRC_Trajectron/src/rs_sac_controller.jl:733\n",
      "┌ Warning: Time 1.50 [sec]: This evaluation iteration took 0.112 [sec], which exceeds dtc.\n",
      "└ @ RiskSensitiveSAC /home/kang/DRC_Project/DRC_Trajectron/src/evaluation.jl:300\n"
     ]
    },
    {
     "name": "stderr",
     "output_type": "stream",
     "text": [
      "┌ Warning: Time 1.60 [sec]: SAC computation took 0.118 [sec], which exceeds the maximum computation time allowed.\n",
      "└ @ RiskSensitiveSAC /home/kang/DRC_Project/DRC_Trajectron/src/rs_sac_controller.jl:733\n",
      "┌ Warning: Time 1.60 [sec]: This evaluation iteration took 0.119 [sec], which exceeds dtc.\n",
      "└ @ RiskSensitiveSAC /home/kang/DRC_Project/DRC_Trajectron/src/evaluation.jl:300\n"
     ]
    },
    {
     "name": "stderr",
     "output_type": "stream",
     "text": [
      "┌ Warning: Time 1.70 [sec]: SAC computation took 0.113 [sec], which exceeds the maximum computation time allowed.\n",
      "└ @ RiskSensitiveSAC /home/kang/DRC_Project/DRC_Trajectron/src/rs_sac_controller.jl:733\n",
      "┌ Warning: Time 1.70 [sec]: This evaluation iteration took 0.113 [sec], which exceeds dtc.\n",
      "└ @ RiskSensitiveSAC /home/kang/DRC_Project/DRC_Trajectron/src/evaluation.jl:300\n"
     ]
    },
    {
     "name": "stderr",
     "output_type": "stream",
     "text": [
      "┌ Warning: Time 1.80 [sec]: This evaluation iteration took 0.089 [sec], which exceeds dtc.\n",
      "└ @ RiskSensitiveSAC /home/kang/DRC_Project/DRC_Trajectron/src/evaluation.jl:300\n"
     ]
    },
    {
     "name": "stderr",
     "output_type": "stream",
     "text": [
      "┌ Warning: Time 1.90 [sec]: This evaluation iteration took 0.093 [sec], which exceeds dtc.\n",
      "└ @ RiskSensitiveSAC /home/kang/DRC_Project/DRC_Trajectron/src/evaluation.jl:300\n"
     ]
    },
    {
     "name": "stderr",
     "output_type": "stream",
     "text": [
      "┌ Warning: Time 2.00 [sec]: This evaluation iteration took 0.095 [sec], which exceeds dtc.\n",
      "└ @ RiskSensitiveSAC /home/kang/DRC_Project/DRC_Trajectron/src/evaluation.jl:300\n"
     ]
    },
    {
     "name": "stderr",
     "output_type": "stream",
     "text": [
      "┌ Warning: Time 2.10 [sec]: This evaluation iteration took 0.092 [sec], which exceeds dtc.\n",
      "└ @ RiskSensitiveSAC /home/kang/DRC_Project/DRC_Trajectron/src/evaluation.jl:300\n"
     ]
    },
    {
     "name": "stderr",
     "output_type": "stream",
     "text": [
      "┌ Warning: Time 2.20 [sec]: This evaluation iteration took 0.09 [sec], which exceeds dtc.\n",
      "└ @ RiskSensitiveSAC /home/kang/DRC_Project/DRC_Trajectron/src/evaluation.jl:300\n"
     ]
    },
    {
     "name": "stderr",
     "output_type": "stream",
     "text": [
      "┌ Warning: Time 2.30 [sec]: This evaluation iteration took 0.093 [sec], which exceeds dtc.\n",
      "└ @ RiskSensitiveSAC /home/kang/DRC_Project/DRC_Trajectron/src/evaluation.jl:300\n"
     ]
    },
    {
     "name": "stderr",
     "output_type": "stream",
     "text": [
      "┌ Warning: Time 2.40 [sec]: This evaluation iteration took 0.09 [sec], which exceeds dtc.\n",
      "└ @ RiskSensitiveSAC /home/kang/DRC_Project/DRC_Trajectron/src/evaluation.jl:300\n"
     ]
    },
    {
     "name": "stderr",
     "output_type": "stream",
     "text": [
      "┌ Warning: Time 2.50 [sec]: This evaluation iteration took 0.085 [sec], which exceeds dtc.\n",
      "└ @ RiskSensitiveSAC /home/kang/DRC_Project/DRC_Trajectron/src/evaluation.jl:300\n"
     ]
    },
    {
     "name": "stderr",
     "output_type": "stream",
     "text": [
      "┌ Warning: Time 2.60 [sec]: This evaluation iteration took 0.09 [sec], which exceeds dtc.\n",
      "└ @ RiskSensitiveSAC /home/kang/DRC_Project/DRC_Trajectron/src/evaluation.jl:300\n"
     ]
    },
    {
     "name": "stderr",
     "output_type": "stream",
     "text": [
      "┌ Warning: Time 2.70 [sec]: This evaluation iteration took 0.097 [sec], which exceeds dtc.\n",
      "└ @ RiskSensitiveSAC /home/kang/DRC_Project/DRC_Trajectron/src/evaluation.jl:300\n"
     ]
    },
    {
     "name": "stderr",
     "output_type": "stream",
     "text": [
      "┌ Warning: Time 2.80 [sec]: This evaluation iteration took 0.09 [sec], which exceeds dtc.\n",
      "└ @ RiskSensitiveSAC /home/kang/DRC_Project/DRC_Trajectron/src/evaluation.jl:300\n"
     ]
    },
    {
     "name": "stderr",
     "output_type": "stream",
     "text": [
      "┌ Warning: Time 2.90 [sec]: This evaluation iteration took 0.098 [sec], which exceeds dtc.\n",
      "└ @ RiskSensitiveSAC /home/kang/DRC_Project/DRC_Trajectron/src/evaluation.jl:300\n"
     ]
    },
    {
     "name": "stderr",
     "output_type": "stream",
     "text": [
      "┌ Warning: Time 3.00 [sec]: This evaluation iteration took 0.092 [sec], which exceeds dtc.\n",
      "└ @ RiskSensitiveSAC /home/kang/DRC_Project/DRC_Trajectron/src/evaluation.jl:300\n"
     ]
    },
    {
     "name": "stderr",
     "output_type": "stream",
     "text": [
      "┌ Warning: Time 3.10 [sec]: This evaluation iteration took 0.098 [sec], which exceeds dtc.\n",
      "└ @ RiskSensitiveSAC /home/kang/DRC_Project/DRC_Trajectron/src/evaluation.jl:300\n"
     ]
    },
    {
     "name": "stderr",
     "output_type": "stream",
     "text": [
      "┌ Warning: Time 3.20 [sec]: This evaluation iteration took 0.093 [sec], which exceeds dtc.\n",
      "└ @ RiskSensitiveSAC /home/kang/DRC_Project/DRC_Trajectron/src/evaluation.jl:300\n"
     ]
    },
    {
     "name": "stderr",
     "output_type": "stream",
     "text": [
      "┌ Warning: Time 3.30 [sec]: SAC computation took 0.13 [sec], which exceeds the maximum computation time allowed.\n",
      "└ @ RiskSensitiveSAC /home/kang/DRC_Project/DRC_Trajectron/src/rs_sac_controller.jl:733\n",
      "┌ Warning: Time 3.30 [sec]: This evaluation iteration took 0.131 [sec], which exceeds dtc.\n",
      "└ @ RiskSensitiveSAC /home/kang/DRC_Project/DRC_Trajectron/src/evaluation.jl:300\n"
     ]
    },
    {
     "name": "stderr",
     "output_type": "stream",
     "text": [
      "┌ Warning: Time 3.40 [sec]: This evaluation iteration took 0.085 [sec], which exceeds dtc.\n",
      "└ @ RiskSensitiveSAC /home/kang/DRC_Project/DRC_Trajectron/src/evaluation.jl:300\n"
     ]
    },
    {
     "name": "stderr",
     "output_type": "stream",
     "text": [
      "┌ Warning: Time 3.50 [sec]: This evaluation iteration took 0.086 [sec], which exceeds dtc.\n",
      "└ @ RiskSensitiveSAC /home/kang/DRC_Project/DRC_Trajectron/src/evaluation.jl:300\n"
     ]
    },
    {
     "name": "stderr",
     "output_type": "stream",
     "text": [
      "┌ Warning: Time 3.60 [sec]: This evaluation iteration took 0.087 [sec], which exceeds dtc.\n",
      "└ @ RiskSensitiveSAC /home/kang/DRC_Project/DRC_Trajectron/src/evaluation.jl:300\n"
     ]
    },
    {
     "name": "stderr",
     "output_type": "stream",
     "text": [
      "┌ Warning: Time 3.70 [sec]: This evaluation iteration took 0.094 [sec], which exceeds dtc.\n",
      "└ @ RiskSensitiveSAC /home/kang/DRC_Project/DRC_Trajectron/src/evaluation.jl:300\n"
     ]
    },
    {
     "name": "stderr",
     "output_type": "stream",
     "text": [
      "┌ Warning: Time 3.80 [sec]: This evaluation iteration took 0.098 [sec], which exceeds dtc.\n",
      "└ @ RiskSensitiveSAC /home/kang/DRC_Project/DRC_Trajectron/src/evaluation.jl:300\n"
     ]
    },
    {
     "name": "stderr",
     "output_type": "stream",
     "text": [
      "┌ Warning: Time 3.90 [sec]: This evaluation iteration took 0.083 [sec], which exceeds dtc.\n",
      "└ @ RiskSensitiveSAC /home/kang/DRC_Project/DRC_Trajectron/src/evaluation.jl:300\n"
     ]
    },
    {
     "name": "stderr",
     "output_type": "stream",
     "text": [
      "┌ Warning: Time 4.00 [sec]: This evaluation iteration took 0.084 [sec], which exceeds dtc.\n",
      "└ @ RiskSensitiveSAC /home/kang/DRC_Project/DRC_Trajectron/src/evaluation.jl:300\n"
     ]
    },
    {
     "name": "stderr",
     "output_type": "stream",
     "text": [
      "┌ Warning: Time 4.10 [sec]: SAC computation took 0.103 [sec], which exceeds the maximum computation time allowed.\n",
      "└ @ RiskSensitiveSAC /home/kang/DRC_Project/DRC_Trajectron/src/rs_sac_controller.jl:733\n",
      "┌ Warning: Time 4.10 [sec]: This evaluation iteration took 0.103 [sec], which exceeds dtc.\n",
      "└ @ RiskSensitiveSAC /home/kang/DRC_Project/DRC_Trajectron/src/evaluation.jl:300\n"
     ]
    },
    {
     "name": "stderr",
     "output_type": "stream",
     "text": [
      "┌ Warning: Time 4.20 [sec]: This evaluation iteration took 0.09 [sec], which exceeds dtc.\n",
      "└ @ RiskSensitiveSAC /home/kang/DRC_Project/DRC_Trajectron/src/evaluation.jl:300\n"
     ]
    },
    {
     "name": "stderr",
     "output_type": "stream",
     "text": [
      "┌ Warning: Time 4.30 [sec]: This evaluation iteration took 0.09 [sec], which exceeds dtc.\n",
      "└ @ RiskSensitiveSAC /home/kang/DRC_Project/DRC_Trajectron/src/evaluation.jl:300\n"
     ]
    },
    {
     "name": "stderr",
     "output_type": "stream",
     "text": [
      "┌ Warning: Time 4.40 [sec]: This evaluation iteration took 0.093 [sec], which exceeds dtc.\n",
      "└ @ RiskSensitiveSAC /home/kang/DRC_Project/DRC_Trajectron/src/evaluation.jl:300\n"
     ]
    },
    {
     "name": "stderr",
     "output_type": "stream",
     "text": [
      "┌ Warning: Time 4.50 [sec]: This evaluation iteration took 0.085 [sec], which exceeds dtc.\n",
      "└ @ RiskSensitiveSAC /home/kang/DRC_Project/DRC_Trajectron/src/evaluation.jl:300\n"
     ]
    },
    {
     "name": "stderr",
     "output_type": "stream",
     "text": [
      "┌ Warning: Time 4.60 [sec]: This evaluation iteration took 0.087 [sec], which exceeds dtc.\n",
      "└ @ RiskSensitiveSAC /home/kang/DRC_Project/DRC_Trajectron/src/evaluation.jl:300\n"
     ]
    },
    {
     "name": "stderr",
     "output_type": "stream",
     "text": [
      "┌ Warning: Time 4.70 [sec]: SAC computation took 0.106 [sec], which exceeds the maximum computation time allowed.\n",
      "└ @ RiskSensitiveSAC /home/kang/DRC_Project/DRC_Trajectron/src/rs_sac_controller.jl:733\n",
      "┌ Warning: Time 4.70 [sec]: This evaluation iteration took 0.107 [sec], which exceeds dtc.\n",
      "└ @ RiskSensitiveSAC /home/kang/DRC_Project/DRC_Trajectron/src/evaluation.jl:300\n"
     ]
    },
    {
     "name": "stderr",
     "output_type": "stream",
     "text": [
      "┌ Warning: Time 4.80 [sec]: This evaluation iteration took 0.098 [sec], which exceeds dtc.\n",
      "└ @ RiskSensitiveSAC /home/kang/DRC_Project/DRC_Trajectron/src/evaluation.jl:300\n"
     ]
    },
    {
     "name": "stderr",
     "output_type": "stream",
     "text": [
      "┌ Warning: Time 4.90 [sec]: This evaluation iteration took 0.09 [sec], which exceeds dtc.\n",
      "└ @ RiskSensitiveSAC /home/kang/DRC_Project/DRC_Trajectron/src/evaluation.jl:300\n"
     ]
    },
    {
     "name": "stderr",
     "output_type": "stream",
     "text": [
      "┌ Warning: Time 5.00 [sec]: This evaluation iteration took 0.097 [sec], which exceeds dtc.\n",
      "└ @ RiskSensitiveSAC /home/kang/DRC_Project/DRC_Trajectron/src/evaluation.jl:300\n"
     ]
    },
    {
     "name": "stderr",
     "output_type": "stream",
     "text": [
      "┌ Warning: Time 5.10 [sec]: This evaluation iteration took 0.085 [sec], which exceeds dtc.\n",
      "└ @ RiskSensitiveSAC /home/kang/DRC_Project/DRC_Trajectron/src/evaluation.jl:300\n"
     ]
    },
    {
     "name": "stderr",
     "output_type": "stream",
     "text": [
      "┌ Warning: Time 5.20 [sec]: This evaluation iteration took 0.101 [sec], which exceeds dtc.\n",
      "└ @ RiskSensitiveSAC /home/kang/DRC_Project/DRC_Trajectron/src/evaluation.jl:300\n"
     ]
    },
    {
     "name": "stderr",
     "output_type": "stream",
     "text": [
      "┌ Warning: Time 5.30 [sec]: SAC computation took 0.139 [sec], which exceeds the maximum computation time allowed.\n",
      "└ @ RiskSensitiveSAC /home/kang/DRC_Project/DRC_Trajectron/src/rs_sac_controller.jl:733\n",
      "┌ Warning: Time 5.30 [sec]: This evaluation iteration took 0.139 [sec], which exceeds dtc.\n",
      "└ @ RiskSensitiveSAC /home/kang/DRC_Project/DRC_Trajectron/src/evaluation.jl:300\n"
     ]
    },
    {
     "name": "stderr",
     "output_type": "stream",
     "text": [
      "┌ Warning: Time 5.40 [sec]: This evaluation iteration took 0.088 [sec], which exceeds dtc.\n",
      "└ @ RiskSensitiveSAC /home/kang/DRC_Project/DRC_Trajectron/src/evaluation.jl:300\n"
     ]
    },
    {
     "name": "stderr",
     "output_type": "stream",
     "text": [
      "┌ Warning: Time 5.50 [sec]: SAC computation took 0.104 [sec], which exceeds the maximum computation time allowed.\n",
      "└ @ RiskSensitiveSAC /home/kang/DRC_Project/DRC_Trajectron/src/rs_sac_controller.jl:733\n",
      "┌ Warning: Time 5.50 [sec]: This evaluation iteration took 0.105 [sec], which exceeds dtc.\n",
      "└ @ RiskSensitiveSAC /home/kang/DRC_Project/DRC_Trajectron/src/evaluation.jl:300\n"
     ]
    },
    {
     "name": "stderr",
     "output_type": "stream",
     "text": [
      "┌ Warning: Time 5.60 [sec]: This evaluation iteration took 0.085 [sec], which exceeds dtc.\n",
      "└ @ RiskSensitiveSAC /home/kang/DRC_Project/DRC_Trajectron/src/evaluation.jl:300\n"
     ]
    },
    {
     "name": "stderr",
     "output_type": "stream",
     "text": [
      "┌ Warning: Time 5.70 [sec]: This evaluation iteration took 0.09 [sec], which exceeds dtc.\n",
      "└ @ RiskSensitiveSAC /home/kang/DRC_Project/DRC_Trajectron/src/evaluation.jl:300\n"
     ]
    },
    {
     "name": "stderr",
     "output_type": "stream",
     "text": [
      "┌ Warning: Time 5.80 [sec]: This evaluation iteration took 0.094 [sec], which exceeds dtc.\n",
      "└ @ RiskSensitiveSAC /home/kang/DRC_Project/DRC_Trajectron/src/evaluation.jl:300\n"
     ]
    },
    {
     "name": "stderr",
     "output_type": "stream",
     "text": [
      "┌ Warning: Time 5.90 [sec]: This evaluation iteration took 0.087 [sec], which exceeds dtc.\n",
      "└ @ RiskSensitiveSAC /home/kang/DRC_Project/DRC_Trajectron/src/evaluation.jl:300\n"
     ]
    },
    {
     "name": "stderr",
     "output_type": "stream",
     "text": [
      "┌ Warning: Time 6.00 [sec]: This evaluation iteration took 0.085 [sec], which exceeds dtc.\n",
      "└ @ RiskSensitiveSAC /home/kang/DRC_Project/DRC_Trajectron/src/evaluation.jl:300\n"
     ]
    },
    {
     "name": "stderr",
     "output_type": "stream",
     "text": [
      "┌ Warning: Time 6.10 [sec]: This evaluation iteration took 0.085 [sec], which exceeds dtc.\n",
      "└ @ RiskSensitiveSAC /home/kang/DRC_Project/DRC_Trajectron/src/evaluation.jl:300\n"
     ]
    },
    {
     "name": "stderr",
     "output_type": "stream",
     "text": [
      "┌ Warning: Time 6.20 [sec]: This evaluation iteration took 0.085 [sec], which exceeds dtc.\n",
      "└ @ RiskSensitiveSAC /home/kang/DRC_Project/DRC_Trajectron/src/evaluation.jl:300\n"
     ]
    },
    {
     "name": "stderr",
     "output_type": "stream",
     "text": [
      "┌ Warning: Time 6.30 [sec]: This evaluation iteration took 0.088 [sec], which exceeds dtc.\n",
      "└ @ RiskSensitiveSAC /home/kang/DRC_Project/DRC_Trajectron/src/evaluation.jl:300\n"
     ]
    },
    {
     "name": "stderr",
     "output_type": "stream",
     "text": [
      "┌ Warning: Time 6.40 [sec]: This evaluation iteration took 0.092 [sec], which exceeds dtc.\n",
      "└ @ RiskSensitiveSAC /home/kang/DRC_Project/DRC_Trajectron/src/evaluation.jl:300\n"
     ]
    },
    {
     "name": "stderr",
     "output_type": "stream",
     "text": [
      "┌ Warning: Time 6.50 [sec]: This evaluation iteration took 0.088 [sec], which exceeds dtc.\n",
      "└ @ RiskSensitiveSAC /home/kang/DRC_Project/DRC_Trajectron/src/evaluation.jl:300\n"
     ]
    },
    {
     "name": "stderr",
     "output_type": "stream",
     "text": [
      "┌ Warning: Time 6.60 [sec]: This evaluation iteration took 0.084 [sec], which exceeds dtc.\n",
      "└ @ RiskSensitiveSAC /home/kang/DRC_Project/DRC_Trajectron/src/evaluation.jl:300\n"
     ]
    },
    {
     "name": "stderr",
     "output_type": "stream",
     "text": [
      "┌ Warning: Time 6.70 [sec]: This evaluation iteration took 0.095 [sec], which exceeds dtc.\n",
      "└ @ RiskSensitiveSAC /home/kang/DRC_Project/DRC_Trajectron/src/evaluation.jl:300\n"
     ]
    },
    {
     "name": "stderr",
     "output_type": "stream",
     "text": [
      "┌ Warning: Time 6.80 [sec]: This evaluation iteration took 0.089 [sec], which exceeds dtc.\n",
      "└ @ RiskSensitiveSAC /home/kang/DRC_Project/DRC_Trajectron/src/evaluation.jl:300\n"
     ]
    },
    {
     "name": "stderr",
     "output_type": "stream",
     "text": [
      "┌ Warning: Time 6.90 [sec]: This evaluation iteration took 0.086 [sec], which exceeds dtc.\n",
      "└ @ RiskSensitiveSAC /home/kang/DRC_Project/DRC_Trajectron/src/evaluation.jl:300\n"
     ]
    },
    {
     "name": "stderr",
     "output_type": "stream",
     "text": [
      "┌ Warning: Time 7.00 [sec]: This evaluation iteration took 0.099 [sec], which exceeds dtc.\n",
      "└ @ RiskSensitiveSAC /home/kang/DRC_Project/DRC_Trajectron/src/evaluation.jl:300\n"
     ]
    },
    {
     "name": "stderr",
     "output_type": "stream",
     "text": [
      "┌ Warning: Time 7.10 [sec]: This evaluation iteration took 0.086 [sec], which exceeds dtc.\n",
      "└ @ RiskSensitiveSAC /home/kang/DRC_Project/DRC_Trajectron/src/evaluation.jl:300\n"
     ]
    },
    {
     "name": "stderr",
     "output_type": "stream",
     "text": [
      "┌ Warning: Time 7.20 [sec]: SAC computation took 0.105 [sec], which exceeds the maximum computation time allowed.\n",
      "└ @ RiskSensitiveSAC /home/kang/DRC_Project/DRC_Trajectron/src/rs_sac_controller.jl:733\n",
      "┌ Warning: Time 7.20 [sec]: This evaluation iteration took 0.106 [sec], which exceeds dtc.\n",
      "└ @ RiskSensitiveSAC /home/kang/DRC_Project/DRC_Trajectron/src/evaluation.jl:300\n"
     ]
    },
    {
     "name": "stderr",
     "output_type": "stream",
     "text": [
      "┌ Warning: Time 7.30 [sec]: This evaluation iteration took 0.097 [sec], which exceeds dtc.\n",
      "└ @ RiskSensitiveSAC /home/kang/DRC_Project/DRC_Trajectron/src/evaluation.jl:300\n"
     ]
    },
    {
     "name": "stderr",
     "output_type": "stream",
     "text": [
      "┌ Warning: Time 7.40 [sec]: SAC computation took 0.137 [sec], which exceeds the maximum computation time allowed.\n",
      "└ @ RiskSensitiveSAC /home/kang/DRC_Project/DRC_Trajectron/src/rs_sac_controller.jl:733\n",
      "┌ Warning: Time 7.40 [sec]: This evaluation iteration took 0.138 [sec], which exceeds dtc.\n",
      "└ @ RiskSensitiveSAC /home/kang/DRC_Project/DRC_Trajectron/src/evaluation.jl:300\n"
     ]
    },
    {
     "name": "stderr",
     "output_type": "stream",
     "text": [
      "┌ Warning: Time 7.50 [sec]: This evaluation iteration took 0.088 [sec], which exceeds dtc.\n",
      "└ @ RiskSensitiveSAC /home/kang/DRC_Project/DRC_Trajectron/src/evaluation.jl:300\n"
     ]
    },
    {
     "name": "stderr",
     "output_type": "stream",
     "text": [
      "┌ Warning: Time 7.60 [sec]: This evaluation iteration took 0.09 [sec], which exceeds dtc.\n",
      "└ @ RiskSensitiveSAC /home/kang/DRC_Project/DRC_Trajectron/src/evaluation.jl:300\n"
     ]
    },
    {
     "name": "stderr",
     "output_type": "stream",
     "text": [
      "┌ Warning: Time 7.70 [sec]: This evaluation iteration took 0.097 [sec], which exceeds dtc.\n",
      "└ @ RiskSensitiveSAC /home/kang/DRC_Project/DRC_Trajectron/src/evaluation.jl:300\n"
     ]
    },
    {
     "name": "stderr",
     "output_type": "stream",
     "text": [
      "┌ Warning: Time 7.80 [sec]: This evaluation iteration took 0.086 [sec], which exceeds dtc.\n",
      "└ @ RiskSensitiveSAC /home/kang/DRC_Project/DRC_Trajectron/src/evaluation.jl:300\n"
     ]
    },
    {
     "name": "stderr",
     "output_type": "stream",
     "text": [
      "┌ Warning: Time 7.90 [sec]: This evaluation iteration took 0.089 [sec], which exceeds dtc.\n",
      "└ @ RiskSensitiveSAC /home/kang/DRC_Project/DRC_Trajectron/src/evaluation.jl:300\n"
     ]
    },
    {
     "name": "stderr",
     "output_type": "stream",
     "text": [
      "┌ Warning: Time 8.00 [sec]: This evaluation iteration took 0.087 [sec], which exceeds dtc.\n",
      "└ @ RiskSensitiveSAC /home/kang/DRC_Project/DRC_Trajectron/src/evaluation.jl:300\n"
     ]
    },
    {
     "name": "stderr",
     "output_type": "stream",
     "text": [
      "┌ Warning: Time 8.10 [sec]: This evaluation iteration took 0.081 [sec], which exceeds dtc.\n",
      "└ @ RiskSensitiveSAC /home/kang/DRC_Project/DRC_Trajectron/src/evaluation.jl:300\n"
     ]
    },
    {
     "name": "stderr",
     "output_type": "stream",
     "text": [
      "┌ Warning: Time 8.20 [sec]: This evaluation iteration took 0.093 [sec], which exceeds dtc.\n",
      "└ @ RiskSensitiveSAC /home/kang/DRC_Project/DRC_Trajectron/src/evaluation.jl:300\n"
     ]
    },
    {
     "name": "stderr",
     "output_type": "stream",
     "text": [
      "┌ Warning: Time 8.30 [sec]: This evaluation iteration took 0.089 [sec], which exceeds dtc.\n",
      "└ @ RiskSensitiveSAC /home/kang/DRC_Project/DRC_Trajectron/src/evaluation.jl:300\n"
     ]
    },
    {
     "name": "stderr",
     "output_type": "stream",
     "text": [
      "┌ Warning: Time 8.40 [sec]: This evaluation iteration took 0.087 [sec], which exceeds dtc.\n",
      "└ @ RiskSensitiveSAC /home/kang/DRC_Project/DRC_Trajectron/src/evaluation.jl:300\n"
     ]
    },
    {
     "name": "stderr",
     "output_type": "stream",
     "text": [
      "┌ Warning: Time 8.50 [sec]: This evaluation iteration took 0.089 [sec], which exceeds dtc.\n",
      "└ @ RiskSensitiveSAC /home/kang/DRC_Project/DRC_Trajectron/src/evaluation.jl:300\n"
     ]
    },
    {
     "name": "stderr",
     "output_type": "stream",
     "text": [
      "┌ Warning: Time 8.60 [sec]: This evaluation iteration took 0.092 [sec], which exceeds dtc.\n",
      "└ @ RiskSensitiveSAC /home/kang/DRC_Project/DRC_Trajectron/src/evaluation.jl:300\n"
     ]
    },
    {
     "name": "stderr",
     "output_type": "stream",
     "text": [
      "┌ Warning: Time 8.70 [sec]: SAC computation took 0.11 [sec], which exceeds the maximum computation time allowed.\n",
      "└ @ RiskSensitiveSAC /home/kang/DRC_Project/DRC_Trajectron/src/rs_sac_controller.jl:733\n",
      "┌ Warning: Time 8.70 [sec]: This evaluation iteration took 0.111 [sec], which exceeds dtc.\n",
      "└ @ RiskSensitiveSAC /home/kang/DRC_Project/DRC_Trajectron/src/evaluation.jl:300\n"
     ]
    },
    {
     "name": "stderr",
     "output_type": "stream",
     "text": [
      "┌ Warning: Time 8.80 [sec]: This evaluation iteration took 0.081 [sec], which exceeds dtc.\n",
      "└ @ RiskSensitiveSAC /home/kang/DRC_Project/DRC_Trajectron/src/evaluation.jl:300\n"
     ]
    },
    {
     "name": "stderr",
     "output_type": "stream",
     "text": [
      "┌ Warning: Time 8.90 [sec]: This evaluation iteration took 0.083 [sec], which exceeds dtc.\n",
      "└ @ RiskSensitiveSAC /home/kang/DRC_Project/DRC_Trajectron/src/evaluation.jl:300\n"
     ]
    },
    {
     "name": "stderr",
     "output_type": "stream",
     "text": [
      "┌ Warning: Time 9.00 [sec]: This evaluation iteration took 0.09 [sec], which exceeds dtc.\n",
      "└ @ RiskSensitiveSAC /home/kang/DRC_Project/DRC_Trajectron/src/evaluation.jl:300\n"
     ]
    },
    {
     "name": "stderr",
     "output_type": "stream",
     "text": [
      "┌ Warning: Time 9.10 [sec]: This evaluation iteration took 0.09 [sec], which exceeds dtc.\n",
      "└ @ RiskSensitiveSAC /home/kang/DRC_Project/DRC_Trajectron/src/evaluation.jl:300\n"
     ]
    },
    {
     "name": "stderr",
     "output_type": "stream",
     "text": [
      "┌ Warning: Time 9.20 [sec]: This evaluation iteration took 0.085 [sec], which exceeds dtc.\n",
      "└ @ RiskSensitiveSAC /home/kang/DRC_Project/DRC_Trajectron/src/evaluation.jl:300\n"
     ]
    },
    {
     "name": "stderr",
     "output_type": "stream",
     "text": [
      "┌ Warning: Time 9.30 [sec]: This evaluation iteration took 0.093 [sec], which exceeds dtc.\n",
      "└ @ RiskSensitiveSAC /home/kang/DRC_Project/DRC_Trajectron/src/evaluation.jl:300\n"
     ]
    },
    {
     "name": "stderr",
     "output_type": "stream",
     "text": [
      "┌ Warning: Time 9.40 [sec]: This evaluation iteration took 0.093 [sec], which exceeds dtc.\n",
      "└ @ RiskSensitiveSAC /home/kang/DRC_Project/DRC_Trajectron/src/evaluation.jl:300\n"
     ]
    },
    {
     "name": "stderr",
     "output_type": "stream",
     "text": [
      "┌ Warning: Time 9.50 [sec]: SAC computation took 0.127 [sec], which exceeds the maximum computation time allowed.\n",
      "└ @ RiskSensitiveSAC /home/kang/DRC_Project/DRC_Trajectron/src/rs_sac_controller.jl:733\n",
      "┌ Warning: Time 9.50 [sec]: This evaluation iteration took 0.127 [sec], which exceeds dtc.\n",
      "└ @ RiskSensitiveSAC /home/kang/DRC_Project/DRC_Trajectron/src/evaluation.jl:300\n"
     ]
    },
    {
     "name": "stderr",
     "output_type": "stream",
     "text": [
      "┌ Warning: Time 9.60 [sec]: This evaluation iteration took 0.086 [sec], which exceeds dtc.\n",
      "└ @ RiskSensitiveSAC /home/kang/DRC_Project/DRC_Trajectron/src/evaluation.jl:300\n"
     ]
    },
    {
     "name": "stderr",
     "output_type": "stream",
     "text": [
      "┌ Warning: Time 9.70 [sec]: This evaluation iteration took 0.095 [sec], which exceeds dtc.\n",
      "└ @ RiskSensitiveSAC /home/kang/DRC_Project/DRC_Trajectron/src/evaluation.jl:300\n"
     ]
    },
    {
     "name": "stderr",
     "output_type": "stream",
     "text": [
      "┌ Warning: Time 9.80 [sec]: SAC computation took 0.114 [sec], which exceeds the maximum computation time allowed.\n",
      "└ @ RiskSensitiveSAC /home/kang/DRC_Project/DRC_Trajectron/src/rs_sac_controller.jl:733\n",
      "┌ Warning: Time 9.80 [sec]: This evaluation iteration took 0.114 [sec], which exceeds dtc.\n",
      "└ @ RiskSensitiveSAC /home/kang/DRC_Project/DRC_Trajectron/src/evaluation.jl:300\n"
     ]
    },
    {
     "name": "stderr",
     "output_type": "stream",
     "text": [
      "┌ Warning: Time 9.90 [sec]: SAC computation took 0.127 [sec], which exceeds the maximum computation time allowed.\n",
      "└ @ RiskSensitiveSAC /home/kang/DRC_Project/DRC_Trajectron/src/rs_sac_controller.jl:733\n",
      "┌ Warning: Time 9.90 [sec]: This evaluation iteration took 0.128 [sec], which exceeds dtc.\n",
      "└ @ RiskSensitiveSAC /home/kang/DRC_Project/DRC_Trajectron/src/evaluation.jl:300\n"
     ]
    },
    {
     "name": "stdout",
     "output_type": "stream",
     "text": [
      "Total Collision: 0, Total Position Cost: 76.63217599222746, Total Control Cost: 1.9243258258244267, Minimum Distance: 1.1255650051403638, Experiment 17: "
     ]
    },
    {
     "name": "stderr",
     "output_type": "stream",
     "text": [
      "┌ Warning: Time 0.00 [sec]: SAC computation took 0.122 [sec], which exceeds the maximum computation time allowed.\n",
      "└ @ RiskSensitiveSAC /home/kang/DRC_Project/DRC_Trajectron/src/rs_sac_controller.jl:733\n"
     ]
    },
    {
     "name": "stderr",
     "output_type": "stream",
     "text": [
      "┌ Warning: Time 0.10 [sec]: SAC computation took 0.123 [sec], which exceeds the maximum computation time allowed.\n",
      "└ @ RiskSensitiveSAC /home/kang/DRC_Project/DRC_Trajectron/src/rs_sac_controller.jl:733\n",
      "┌ Warning: Time 0.10 [sec]: This evaluation iteration took 0.123 [sec], which exceeds dtc.\n",
      "└ @ RiskSensitiveSAC /home/kang/DRC_Project/DRC_Trajectron/src/evaluation.jl:300\n"
     ]
    },
    {
     "name": "stderr",
     "output_type": "stream",
     "text": [
      "┌ Warning: Time 0.20 [sec]: This evaluation iteration took 0.093 [sec], which exceeds dtc.\n",
      "└ @ RiskSensitiveSAC /home/kang/DRC_Project/DRC_Trajectron/src/evaluation.jl:300\n"
     ]
    },
    {
     "name": "stderr",
     "output_type": "stream",
     "text": [
      "┌ Warning: Time 0.30 [sec]: This evaluation iteration took 0.087 [sec], which exceeds dtc.\n",
      "└ @ RiskSensitiveSAC /home/kang/DRC_Project/DRC_Trajectron/src/evaluation.jl:300\n"
     ]
    },
    {
     "name": "stderr",
     "output_type": "stream",
     "text": [
      "┌ Warning: Time 0.40 [sec]: This evaluation iteration took 0.09 [sec], which exceeds dtc.\n",
      "└ @ RiskSensitiveSAC /home/kang/DRC_Project/DRC_Trajectron/src/evaluation.jl:300\n"
     ]
    },
    {
     "name": "stderr",
     "output_type": "stream",
     "text": [
      "┌ Warning: Time 0.50 [sec]: This evaluation iteration took 0.084 [sec], which exceeds dtc.\n",
      "└ @ RiskSensitiveSAC /home/kang/DRC_Project/DRC_Trajectron/src/evaluation.jl:300\n"
     ]
    },
    {
     "name": "stderr",
     "output_type": "stream",
     "text": [
      "┌ Warning: Time 0.60 [sec]: This evaluation iteration took 0.089 [sec], which exceeds dtc.\n",
      "└ @ RiskSensitiveSAC /home/kang/DRC_Project/DRC_Trajectron/src/evaluation.jl:300\n"
     ]
    },
    {
     "name": "stderr",
     "output_type": "stream",
     "text": [
      "┌ Warning: Time 0.70 [sec]: This evaluation iteration took 0.09 [sec], which exceeds dtc.\n",
      "└ @ RiskSensitiveSAC /home/kang/DRC_Project/DRC_Trajectron/src/evaluation.jl:300\n"
     ]
    },
    {
     "name": "stderr",
     "output_type": "stream",
     "text": [
      "┌ Warning: Time 0.80 [sec]: This evaluation iteration took 0.088 [sec], which exceeds dtc.\n",
      "└ @ RiskSensitiveSAC /home/kang/DRC_Project/DRC_Trajectron/src/evaluation.jl:300\n"
     ]
    },
    {
     "name": "stderr",
     "output_type": "stream",
     "text": [
      "┌ Warning: Time 0.90 [sec]: SAC computation took 0.103 [sec], which exceeds the maximum computation time allowed.\n",
      "└ @ RiskSensitiveSAC /home/kang/DRC_Project/DRC_Trajectron/src/rs_sac_controller.jl:733\n",
      "┌ Warning: Time 0.90 [sec]: This evaluation iteration took 0.104 [sec], which exceeds dtc.\n",
      "└ @ RiskSensitiveSAC /home/kang/DRC_Project/DRC_Trajectron/src/evaluation.jl:300\n"
     ]
    },
    {
     "name": "stderr",
     "output_type": "stream",
     "text": [
      "┌ Warning: Time 1.00 [sec]: This evaluation iteration took 0.091 [sec], which exceeds dtc.\n",
      "└ @ RiskSensitiveSAC /home/kang/DRC_Project/DRC_Trajectron/src/evaluation.jl:300\n"
     ]
    },
    {
     "name": "stderr",
     "output_type": "stream",
     "text": [
      "┌ Warning: Time 1.10 [sec]: This evaluation iteration took 0.088 [sec], which exceeds dtc.\n",
      "└ @ RiskSensitiveSAC /home/kang/DRC_Project/DRC_Trajectron/src/evaluation.jl:300\n"
     ]
    },
    {
     "name": "stderr",
     "output_type": "stream",
     "text": [
      "┌ Warning: Time 1.20 [sec]: SAC computation took 0.101 [sec], which exceeds the maximum computation time allowed.\n",
      "└ @ RiskSensitiveSAC /home/kang/DRC_Project/DRC_Trajectron/src/rs_sac_controller.jl:733\n",
      "┌ Warning: Time 1.20 [sec]: This evaluation iteration took 0.103 [sec], which exceeds dtc.\n",
      "└ @ RiskSensitiveSAC /home/kang/DRC_Project/DRC_Trajectron/src/evaluation.jl:300\n"
     ]
    },
    {
     "name": "stderr",
     "output_type": "stream",
     "text": [
      "┌ Warning: Time 1.30 [sec]: This evaluation iteration took 0.093 [sec], which exceeds dtc.\n",
      "└ @ RiskSensitiveSAC /home/kang/DRC_Project/DRC_Trajectron/src/evaluation.jl:300\n"
     ]
    },
    {
     "name": "stderr",
     "output_type": "stream",
     "text": [
      "┌ Warning: Time 1.40 [sec]: This evaluation iteration took 0.093 [sec], which exceeds dtc.\n",
      "└ @ RiskSensitiveSAC /home/kang/DRC_Project/DRC_Trajectron/src/evaluation.jl:300\n"
     ]
    },
    {
     "name": "stderr",
     "output_type": "stream",
     "text": [
      "┌ Warning: Time 1.50 [sec]: SAC computation took 0.114 [sec], which exceeds the maximum computation time allowed.\n",
      "└ @ RiskSensitiveSAC /home/kang/DRC_Project/DRC_Trajectron/src/rs_sac_controller.jl:733\n",
      "┌ Warning: Time 1.50 [sec]: This evaluation iteration took 0.114 [sec], which exceeds dtc.\n",
      "└ @ RiskSensitiveSAC /home/kang/DRC_Project/DRC_Trajectron/src/evaluation.jl:300\n"
     ]
    },
    {
     "name": "stderr",
     "output_type": "stream",
     "text": [
      "┌ Warning: Time 1.60 [sec]: SAC computation took 0.124 [sec], which exceeds the maximum computation time allowed.\n",
      "└ @ RiskSensitiveSAC /home/kang/DRC_Project/DRC_Trajectron/src/rs_sac_controller.jl:733\n",
      "┌ Warning: Time 1.60 [sec]: This evaluation iteration took 0.125 [sec], which exceeds dtc.\n",
      "└ @ RiskSensitiveSAC /home/kang/DRC_Project/DRC_Trajectron/src/evaluation.jl:300\n"
     ]
    },
    {
     "name": "stderr",
     "output_type": "stream",
     "text": [
      "┌ Warning: Time 1.70 [sec]: SAC computation took 0.102 [sec], which exceeds the maximum computation time allowed.\n",
      "└ @ RiskSensitiveSAC /home/kang/DRC_Project/DRC_Trajectron/src/rs_sac_controller.jl:733\n",
      "┌ Warning: Time 1.70 [sec]: This evaluation iteration took 0.103 [sec], which exceeds dtc.\n",
      "└ @ RiskSensitiveSAC /home/kang/DRC_Project/DRC_Trajectron/src/evaluation.jl:300\n"
     ]
    },
    {
     "name": "stderr",
     "output_type": "stream",
     "text": [
      "┌ Warning: Time 1.80 [sec]: This evaluation iteration took 0.088 [sec], which exceeds dtc.\n",
      "└ @ RiskSensitiveSAC /home/kang/DRC_Project/DRC_Trajectron/src/evaluation.jl:300\n"
     ]
    },
    {
     "name": "stderr",
     "output_type": "stream",
     "text": [
      "┌ Warning: Time 1.90 [sec]: This evaluation iteration took 0.096 [sec], which exceeds dtc.\n",
      "└ @ RiskSensitiveSAC /home/kang/DRC_Project/DRC_Trajectron/src/evaluation.jl:300\n"
     ]
    },
    {
     "name": "stderr",
     "output_type": "stream",
     "text": [
      "┌ Warning: Time 2.00 [sec]: This evaluation iteration took 0.082 [sec], which exceeds dtc.\n",
      "└ @ RiskSensitiveSAC /home/kang/DRC_Project/DRC_Trajectron/src/evaluation.jl:300\n"
     ]
    },
    {
     "name": "stderr",
     "output_type": "stream",
     "text": [
      "┌ Warning: Time 2.10 [sec]: This evaluation iteration took 0.094 [sec], which exceeds dtc.\n",
      "└ @ RiskSensitiveSAC /home/kang/DRC_Project/DRC_Trajectron/src/evaluation.jl:300\n"
     ]
    },
    {
     "name": "stderr",
     "output_type": "stream",
     "text": [
      "┌ Warning: Time 2.20 [sec]: This evaluation iteration took 0.087 [sec], which exceeds dtc.\n",
      "└ @ RiskSensitiveSAC /home/kang/DRC_Project/DRC_Trajectron/src/evaluation.jl:300\n"
     ]
    },
    {
     "name": "stderr",
     "output_type": "stream",
     "text": [
      "┌ Warning: Time 2.30 [sec]: This evaluation iteration took 0.084 [sec], which exceeds dtc.\n",
      "└ @ RiskSensitiveSAC /home/kang/DRC_Project/DRC_Trajectron/src/evaluation.jl:300\n"
     ]
    },
    {
     "name": "stderr",
     "output_type": "stream",
     "text": [
      "┌ Warning: Time 2.40 [sec]: This evaluation iteration took 0.091 [sec], which exceeds dtc.\n",
      "└ @ RiskSensitiveSAC /home/kang/DRC_Project/DRC_Trajectron/src/evaluation.jl:300\n"
     ]
    },
    {
     "name": "stderr",
     "output_type": "stream",
     "text": [
      "┌ Warning: Time 2.50 [sec]: This evaluation iteration took 0.088 [sec], which exceeds dtc.\n",
      "└ @ RiskSensitiveSAC /home/kang/DRC_Project/DRC_Trajectron/src/evaluation.jl:300\n"
     ]
    },
    {
     "name": "stderr",
     "output_type": "stream",
     "text": [
      "┌ Warning: Time 2.60 [sec]: This evaluation iteration took 0.09 [sec], which exceeds dtc.\n",
      "└ @ RiskSensitiveSAC /home/kang/DRC_Project/DRC_Trajectron/src/evaluation.jl:300\n"
     ]
    },
    {
     "name": "stderr",
     "output_type": "stream",
     "text": [
      "┌ Warning: Time 2.70 [sec]: This evaluation iteration took 0.089 [sec], which exceeds dtc.\n",
      "└ @ RiskSensitiveSAC /home/kang/DRC_Project/DRC_Trajectron/src/evaluation.jl:300\n"
     ]
    },
    {
     "name": "stderr",
     "output_type": "stream",
     "text": [
      "┌ Warning: Time 2.80 [sec]: This evaluation iteration took 0.086 [sec], which exceeds dtc.\n",
      "└ @ RiskSensitiveSAC /home/kang/DRC_Project/DRC_Trajectron/src/evaluation.jl:300\n"
     ]
    },
    {
     "name": "stderr",
     "output_type": "stream",
     "text": [
      "┌ Warning: Time 2.90 [sec]: SAC computation took 0.1 [sec], which exceeds the maximum computation time allowed.\n",
      "└ @ RiskSensitiveSAC /home/kang/DRC_Project/DRC_Trajectron/src/rs_sac_controller.jl:733\n",
      "┌ Warning: Time 2.90 [sec]: This evaluation iteration took 0.101 [sec], which exceeds dtc.\n",
      "└ @ RiskSensitiveSAC /home/kang/DRC_Project/DRC_Trajectron/src/evaluation.jl:300\n"
     ]
    },
    {
     "name": "stderr",
     "output_type": "stream",
     "text": [
      "┌ Warning: Time 3.00 [sec]: SAC computation took 0.117 [sec], which exceeds the maximum computation time allowed.\n",
      "└ @ RiskSensitiveSAC /home/kang/DRC_Project/DRC_Trajectron/src/rs_sac_controller.jl:733\n",
      "┌ Warning: Time 3.00 [sec]: This evaluation iteration took 0.118 [sec], which exceeds dtc.\n",
      "└ @ RiskSensitiveSAC /home/kang/DRC_Project/DRC_Trajectron/src/evaluation.jl:300\n"
     ]
    },
    {
     "name": "stderr",
     "output_type": "stream",
     "text": [
      "┌ Warning: Time 3.10 [sec]: SAC computation took 0.102 [sec], which exceeds the maximum computation time allowed.\n",
      "└ @ RiskSensitiveSAC /home/kang/DRC_Project/DRC_Trajectron/src/rs_sac_controller.jl:733\n",
      "┌ Warning: Time 3.10 [sec]: This evaluation iteration took 0.103 [sec], which exceeds dtc.\n",
      "└ @ RiskSensitiveSAC /home/kang/DRC_Project/DRC_Trajectron/src/evaluation.jl:300\n"
     ]
    },
    {
     "name": "stderr",
     "output_type": "stream",
     "text": [
      "┌ Warning: Time 3.20 [sec]: SAC computation took 0.109 [sec], which exceeds the maximum computation time allowed.\n",
      "└ @ RiskSensitiveSAC /home/kang/DRC_Project/DRC_Trajectron/src/rs_sac_controller.jl:733\n",
      "┌ Warning: Time 3.20 [sec]: This evaluation iteration took 0.109 [sec], which exceeds dtc.\n",
      "└ @ RiskSensitiveSAC /home/kang/DRC_Project/DRC_Trajectron/src/evaluation.jl:300\n"
     ]
    },
    {
     "name": "stderr",
     "output_type": "stream",
     "text": [
      "┌ Warning: Time 3.30 [sec]: This evaluation iteration took 0.1 [sec], which exceeds dtc.\n",
      "└ @ RiskSensitiveSAC /home/kang/DRC_Project/DRC_Trajectron/src/evaluation.jl:300\n"
     ]
    },
    {
     "name": "stderr",
     "output_type": "stream",
     "text": [
      "┌ Warning: Time 3.40 [sec]: SAC computation took 0.122 [sec], which exceeds the maximum computation time allowed.\n",
      "└ @ RiskSensitiveSAC /home/kang/DRC_Project/DRC_Trajectron/src/rs_sac_controller.jl:733\n",
      "┌ Warning: Time 3.40 [sec]: This evaluation iteration took 0.123 [sec], which exceeds dtc.\n",
      "└ @ RiskSensitiveSAC /home/kang/DRC_Project/DRC_Trajectron/src/evaluation.jl:300\n"
     ]
    },
    {
     "name": "stderr",
     "output_type": "stream",
     "text": [
      "┌ Warning: Time 3.50 [sec]: SAC computation took 0.136 [sec], which exceeds the maximum computation time allowed.\n",
      "└ @ RiskSensitiveSAC /home/kang/DRC_Project/DRC_Trajectron/src/rs_sac_controller.jl:733\n",
      "┌ Warning: Time 3.50 [sec]: This evaluation iteration took 0.137 [sec], which exceeds dtc.\n",
      "└ @ RiskSensitiveSAC /home/kang/DRC_Project/DRC_Trajectron/src/evaluation.jl:300\n"
     ]
    },
    {
     "name": "stderr",
     "output_type": "stream",
     "text": [
      "┌ Warning: Time 3.60 [sec]: SAC computation took 0.128 [sec], which exceeds the maximum computation time allowed.\n",
      "└ @ RiskSensitiveSAC /home/kang/DRC_Project/DRC_Trajectron/src/rs_sac_controller.jl:733\n",
      "┌ Warning: Time 3.60 [sec]: This evaluation iteration took 0.129 [sec], which exceeds dtc.\n",
      "└ @ RiskSensitiveSAC /home/kang/DRC_Project/DRC_Trajectron/src/evaluation.jl:300\n"
     ]
    },
    {
     "name": "stderr",
     "output_type": "stream",
     "text": [
      "┌ Warning: Time 3.70 [sec]: SAC computation took 0.182 [sec], which exceeds the maximum computation time allowed.\n",
      "└ @ RiskSensitiveSAC /home/kang/DRC_Project/DRC_Trajectron/src/rs_sac_controller.jl:733\n",
      "┌ Warning: Time 3.70 [sec]: This evaluation iteration took 0.182 [sec], which exceeds dtc.\n",
      "└ @ RiskSensitiveSAC /home/kang/DRC_Project/DRC_Trajectron/src/evaluation.jl:300\n"
     ]
    },
    {
     "name": "stderr",
     "output_type": "stream",
     "text": [
      "┌ Warning: Time 3.80 [sec]: SAC computation took 0.118 [sec], which exceeds the maximum computation time allowed.\n",
      "└ @ RiskSensitiveSAC /home/kang/DRC_Project/DRC_Trajectron/src/rs_sac_controller.jl:733\n",
      "┌ Warning: Time 3.80 [sec]: This evaluation iteration took 0.119 [sec], which exceeds dtc.\n",
      "└ @ RiskSensitiveSAC /home/kang/DRC_Project/DRC_Trajectron/src/evaluation.jl:300\n"
     ]
    },
    {
     "name": "stderr",
     "output_type": "stream",
     "text": [
      "┌ Warning: Time 3.90 [sec]: SAC computation took 0.122 [sec], which exceeds the maximum computation time allowed.\n",
      "└ @ RiskSensitiveSAC /home/kang/DRC_Project/DRC_Trajectron/src/rs_sac_controller.jl:733\n",
      "┌ Warning: Time 3.90 [sec]: This evaluation iteration took 0.122 [sec], which exceeds dtc.\n",
      "└ @ RiskSensitiveSAC /home/kang/DRC_Project/DRC_Trajectron/src/evaluation.jl:300\n"
     ]
    },
    {
     "name": "stderr",
     "output_type": "stream",
     "text": [
      "┌ Warning: Time 4.00 [sec]: SAC computation took 0.113 [sec], which exceeds the maximum computation time allowed.\n",
      "└ @ RiskSensitiveSAC /home/kang/DRC_Project/DRC_Trajectron/src/rs_sac_controller.jl:733\n",
      "┌ Warning: Time 4.00 [sec]: This evaluation iteration took 0.114 [sec], which exceeds dtc.\n",
      "└ @ RiskSensitiveSAC /home/kang/DRC_Project/DRC_Trajectron/src/evaluation.jl:300\n"
     ]
    },
    {
     "name": "stderr",
     "output_type": "stream",
     "text": [
      "┌ Warning: Time 4.10 [sec]: SAC computation took 0.107 [sec], which exceeds the maximum computation time allowed.\n",
      "└ @ RiskSensitiveSAC /home/kang/DRC_Project/DRC_Trajectron/src/rs_sac_controller.jl:733\n",
      "┌ Warning: Time 4.10 [sec]: This evaluation iteration took 0.108 [sec], which exceeds dtc.\n",
      "└ @ RiskSensitiveSAC /home/kang/DRC_Project/DRC_Trajectron/src/evaluation.jl:300\n"
     ]
    },
    {
     "name": "stderr",
     "output_type": "stream",
     "text": [
      "┌ Warning: Time 4.20 [sec]: SAC computation took 0.129 [sec], which exceeds the maximum computation time allowed.\n",
      "└ @ RiskSensitiveSAC /home/kang/DRC_Project/DRC_Trajectron/src/rs_sac_controller.jl:733\n",
      "┌ Warning: Time 4.20 [sec]: This evaluation iteration took 0.13 [sec], which exceeds dtc.\n",
      "└ @ RiskSensitiveSAC /home/kang/DRC_Project/DRC_Trajectron/src/evaluation.jl:300\n"
     ]
    },
    {
     "name": "stderr",
     "output_type": "stream",
     "text": [
      "┌ Warning: Time 4.30 [sec]: This evaluation iteration took 0.093 [sec], which exceeds dtc.\n",
      "└ @ RiskSensitiveSAC /home/kang/DRC_Project/DRC_Trajectron/src/evaluation.jl:300\n"
     ]
    },
    {
     "name": "stderr",
     "output_type": "stream",
     "text": [
      "┌ Warning: Time 4.40 [sec]: This evaluation iteration took 0.086 [sec], which exceeds dtc.\n",
      "└ @ RiskSensitiveSAC /home/kang/DRC_Project/DRC_Trajectron/src/evaluation.jl:300\n"
     ]
    },
    {
     "name": "stderr",
     "output_type": "stream",
     "text": [
      "┌ Warning: Time 4.50 [sec]: This evaluation iteration took 0.092 [sec], which exceeds dtc.\n",
      "└ @ RiskSensitiveSAC /home/kang/DRC_Project/DRC_Trajectron/src/evaluation.jl:300\n"
     ]
    },
    {
     "name": "stderr",
     "output_type": "stream",
     "text": [
      "┌ Warning: Time 4.60 [sec]: This evaluation iteration took 0.089 [sec], which exceeds dtc.\n",
      "└ @ RiskSensitiveSAC /home/kang/DRC_Project/DRC_Trajectron/src/evaluation.jl:300\n"
     ]
    },
    {
     "name": "stderr",
     "output_type": "stream",
     "text": [
      "┌ Warning: Time 4.70 [sec]: This evaluation iteration took 0.082 [sec], which exceeds dtc.\n",
      "└ @ RiskSensitiveSAC /home/kang/DRC_Project/DRC_Trajectron/src/evaluation.jl:300\n"
     ]
    },
    {
     "name": "stderr",
     "output_type": "stream",
     "text": [
      "┌ Warning: Time 4.80 [sec]: This evaluation iteration took 0.092 [sec], which exceeds dtc.\n",
      "└ @ RiskSensitiveSAC /home/kang/DRC_Project/DRC_Trajectron/src/evaluation.jl:300\n"
     ]
    },
    {
     "name": "stderr",
     "output_type": "stream",
     "text": [
      "┌ Warning: Time 4.90 [sec]: This evaluation iteration took 0.096 [sec], which exceeds dtc.\n",
      "└ @ RiskSensitiveSAC /home/kang/DRC_Project/DRC_Trajectron/src/evaluation.jl:300\n"
     ]
    },
    {
     "name": "stderr",
     "output_type": "stream",
     "text": [
      "┌ Warning: Time 5.00 [sec]: This evaluation iteration took 0.096 [sec], which exceeds dtc.\n",
      "└ @ RiskSensitiveSAC /home/kang/DRC_Project/DRC_Trajectron/src/evaluation.jl:300\n"
     ]
    },
    {
     "name": "stderr",
     "output_type": "stream",
     "text": [
      "┌ Warning: Time 5.10 [sec]: This evaluation iteration took 0.091 [sec], which exceeds dtc.\n",
      "└ @ RiskSensitiveSAC /home/kang/DRC_Project/DRC_Trajectron/src/evaluation.jl:300\n"
     ]
    },
    {
     "name": "stderr",
     "output_type": "stream",
     "text": [
      "┌ Warning: Time 5.20 [sec]: This evaluation iteration took 0.093 [sec], which exceeds dtc.\n",
      "└ @ RiskSensitiveSAC /home/kang/DRC_Project/DRC_Trajectron/src/evaluation.jl:300\n"
     ]
    },
    {
     "name": "stderr",
     "output_type": "stream",
     "text": [
      "┌ Warning: Time 5.30 [sec]: This evaluation iteration took 0.09 [sec], which exceeds dtc.\n",
      "└ @ RiskSensitiveSAC /home/kang/DRC_Project/DRC_Trajectron/src/evaluation.jl:300\n"
     ]
    },
    {
     "name": "stderr",
     "output_type": "stream",
     "text": [
      "┌ Warning: Time 5.40 [sec]: This evaluation iteration took 0.098 [sec], which exceeds dtc.\n",
      "└ @ RiskSensitiveSAC /home/kang/DRC_Project/DRC_Trajectron/src/evaluation.jl:300\n"
     ]
    },
    {
     "name": "stderr",
     "output_type": "stream",
     "text": [
      "┌ Warning: Time 5.50 [sec]: This evaluation iteration took 0.1 [sec], which exceeds dtc.\n",
      "└ @ RiskSensitiveSAC /home/kang/DRC_Project/DRC_Trajectron/src/evaluation.jl:300\n"
     ]
    },
    {
     "name": "stderr",
     "output_type": "stream",
     "text": [
      "┌ Warning: Time 5.60 [sec]: This evaluation iteration took 0.1 [sec], which exceeds dtc.\n",
      "└ @ RiskSensitiveSAC /home/kang/DRC_Project/DRC_Trajectron/src/evaluation.jl:300\n"
     ]
    },
    {
     "name": "stderr",
     "output_type": "stream",
     "text": [
      "┌ Warning: Time 5.70 [sec]: This evaluation iteration took 0.094 [sec], which exceeds dtc.\n",
      "└ @ RiskSensitiveSAC /home/kang/DRC_Project/DRC_Trajectron/src/evaluation.jl:300\n"
     ]
    },
    {
     "name": "stderr",
     "output_type": "stream",
     "text": [
      "┌ Warning: Time 5.80 [sec]: SAC computation took 0.13 [sec], which exceeds the maximum computation time allowed.\n",
      "└ @ RiskSensitiveSAC /home/kang/DRC_Project/DRC_Trajectron/src/rs_sac_controller.jl:733\n",
      "┌ Warning: Time 5.80 [sec]: This evaluation iteration took 0.13 [sec], which exceeds dtc.\n",
      "└ @ RiskSensitiveSAC /home/kang/DRC_Project/DRC_Trajectron/src/evaluation.jl:300\n"
     ]
    },
    {
     "name": "stderr",
     "output_type": "stream",
     "text": [
      "┌ Warning: Time 5.90 [sec]: This evaluation iteration took 0.099 [sec], which exceeds dtc.\n",
      "└ @ RiskSensitiveSAC /home/kang/DRC_Project/DRC_Trajectron/src/evaluation.jl:300\n"
     ]
    },
    {
     "name": "stderr",
     "output_type": "stream",
     "text": [
      "┌ Warning: Time 6.00 [sec]: This evaluation iteration took 0.082 [sec], which exceeds dtc.\n",
      "└ @ RiskSensitiveSAC /home/kang/DRC_Project/DRC_Trajectron/src/evaluation.jl:300\n"
     ]
    },
    {
     "name": "stderr",
     "output_type": "stream",
     "text": [
      "┌ Warning: Time 6.10 [sec]: This evaluation iteration took 0.085 [sec], which exceeds dtc.\n",
      "└ @ RiskSensitiveSAC /home/kang/DRC_Project/DRC_Trajectron/src/evaluation.jl:300\n"
     ]
    },
    {
     "name": "stderr",
     "output_type": "stream",
     "text": [
      "┌ Warning: Time 6.20 [sec]: This evaluation iteration took 0.098 [sec], which exceeds dtc.\n",
      "└ @ RiskSensitiveSAC /home/kang/DRC_Project/DRC_Trajectron/src/evaluation.jl:300\n"
     ]
    },
    {
     "name": "stderr",
     "output_type": "stream",
     "text": [
      "┌ Warning: Time 6.30 [sec]: This evaluation iteration took 0.09 [sec], which exceeds dtc.\n",
      "└ @ RiskSensitiveSAC /home/kang/DRC_Project/DRC_Trajectron/src/evaluation.jl:300\n"
     ]
    },
    {
     "name": "stderr",
     "output_type": "stream",
     "text": [
      "┌ Warning: Time 6.40 [sec]: This evaluation iteration took 0.092 [sec], which exceeds dtc.\n",
      "└ @ RiskSensitiveSAC /home/kang/DRC_Project/DRC_Trajectron/src/evaluation.jl:300\n"
     ]
    },
    {
     "name": "stderr",
     "output_type": "stream",
     "text": [
      "┌ Warning: Time 6.50 [sec]: This evaluation iteration took 0.094 [sec], which exceeds dtc.\n",
      "└ @ RiskSensitiveSAC /home/kang/DRC_Project/DRC_Trajectron/src/evaluation.jl:300\n"
     ]
    },
    {
     "name": "stderr",
     "output_type": "stream",
     "text": [
      "┌ Warning: Time 6.60 [sec]: This evaluation iteration took 0.079 [sec], which exceeds dtc.\n",
      "└ @ RiskSensitiveSAC /home/kang/DRC_Project/DRC_Trajectron/src/evaluation.jl:300\n"
     ]
    },
    {
     "name": "stderr",
     "output_type": "stream",
     "text": [
      "┌ Warning: Time 6.70 [sec]: This evaluation iteration took 0.094 [sec], which exceeds dtc.\n",
      "└ @ RiskSensitiveSAC /home/kang/DRC_Project/DRC_Trajectron/src/evaluation.jl:300\n"
     ]
    },
    {
     "name": "stderr",
     "output_type": "stream",
     "text": [
      "┌ Warning: Time 6.80 [sec]: This evaluation iteration took 0.085 [sec], which exceeds dtc.\n",
      "└ @ RiskSensitiveSAC /home/kang/DRC_Project/DRC_Trajectron/src/evaluation.jl:300\n"
     ]
    },
    {
     "name": "stderr",
     "output_type": "stream",
     "text": [
      "┌ Warning: Time 6.90 [sec]: This evaluation iteration took 0.083 [sec], which exceeds dtc.\n",
      "└ @ RiskSensitiveSAC /home/kang/DRC_Project/DRC_Trajectron/src/evaluation.jl:300\n"
     ]
    },
    {
     "name": "stderr",
     "output_type": "stream",
     "text": [
      "┌ Warning: Time 7.00 [sec]: This evaluation iteration took 0.093 [sec], which exceeds dtc.\n",
      "└ @ RiskSensitiveSAC /home/kang/DRC_Project/DRC_Trajectron/src/evaluation.jl:300\n"
     ]
    },
    {
     "name": "stderr",
     "output_type": "stream",
     "text": [
      "┌ Warning: Time 7.10 [sec]: This evaluation iteration took 0.085 [sec], which exceeds dtc.\n",
      "└ @ RiskSensitiveSAC /home/kang/DRC_Project/DRC_Trajectron/src/evaluation.jl:300\n"
     ]
    },
    {
     "name": "stderr",
     "output_type": "stream",
     "text": [
      "┌ Warning: Time 7.20 [sec]: This evaluation iteration took 0.088 [sec], which exceeds dtc.\n",
      "└ @ RiskSensitiveSAC /home/kang/DRC_Project/DRC_Trajectron/src/evaluation.jl:300\n"
     ]
    },
    {
     "name": "stderr",
     "output_type": "stream",
     "text": [
      "┌ Warning: Time 7.30 [sec]: This evaluation iteration took 0.097 [sec], which exceeds dtc.\n",
      "└ @ RiskSensitiveSAC /home/kang/DRC_Project/DRC_Trajectron/src/evaluation.jl:300\n"
     ]
    },
    {
     "name": "stderr",
     "output_type": "stream",
     "text": [
      "┌ Warning: Time 7.40 [sec]: This evaluation iteration took 0.1 [sec], which exceeds dtc.\n",
      "└ @ RiskSensitiveSAC /home/kang/DRC_Project/DRC_Trajectron/src/evaluation.jl:300\n"
     ]
    },
    {
     "name": "stderr",
     "output_type": "stream",
     "text": [
      "┌ Warning: Time 7.50 [sec]: This evaluation iteration took 0.089 [sec], which exceeds dtc.\n",
      "└ @ RiskSensitiveSAC /home/kang/DRC_Project/DRC_Trajectron/src/evaluation.jl:300\n"
     ]
    },
    {
     "name": "stderr",
     "output_type": "stream",
     "text": [
      "┌ Warning: Time 7.60 [sec]: This evaluation iteration took 0.095 [sec], which exceeds dtc.\n",
      "└ @ RiskSensitiveSAC /home/kang/DRC_Project/DRC_Trajectron/src/evaluation.jl:300\n"
     ]
    },
    {
     "name": "stderr",
     "output_type": "stream",
     "text": [
      "┌ Warning: Time 7.70 [sec]: This evaluation iteration took 0.092 [sec], which exceeds dtc.\n",
      "└ @ RiskSensitiveSAC /home/kang/DRC_Project/DRC_Trajectron/src/evaluation.jl:300\n"
     ]
    },
    {
     "name": "stderr",
     "output_type": "stream",
     "text": [
      "┌ Warning: Time 7.80 [sec]: This evaluation iteration took 0.09 [sec], which exceeds dtc.\n",
      "└ @ RiskSensitiveSAC /home/kang/DRC_Project/DRC_Trajectron/src/evaluation.jl:300\n"
     ]
    },
    {
     "name": "stderr",
     "output_type": "stream",
     "text": [
      "┌ Warning: Time 7.90 [sec]: This evaluation iteration took 0.09 [sec], which exceeds dtc.\n",
      "└ @ RiskSensitiveSAC /home/kang/DRC_Project/DRC_Trajectron/src/evaluation.jl:300\n"
     ]
    },
    {
     "name": "stderr",
     "output_type": "stream",
     "text": [
      "┌ Warning: Time 8.00 [sec]: SAC computation took 0.142 [sec], which exceeds the maximum computation time allowed.\n",
      "└ @ RiskSensitiveSAC /home/kang/DRC_Project/DRC_Trajectron/src/rs_sac_controller.jl:733\n",
      "┌ Warning: Time 8.00 [sec]: This evaluation iteration took 0.144 [sec], which exceeds dtc.\n",
      "└ @ RiskSensitiveSAC /home/kang/DRC_Project/DRC_Trajectron/src/evaluation.jl:300\n"
     ]
    },
    {
     "name": "stderr",
     "output_type": "stream",
     "text": [
      "┌ Warning: Time 8.10 [sec]: This evaluation iteration took 0.086 [sec], which exceeds dtc.\n",
      "└ @ RiskSensitiveSAC /home/kang/DRC_Project/DRC_Trajectron/src/evaluation.jl:300\n"
     ]
    },
    {
     "name": "stderr",
     "output_type": "stream",
     "text": [
      "┌ Warning: Time 8.20 [sec]: This evaluation iteration took 0.086 [sec], which exceeds dtc.\n",
      "└ @ RiskSensitiveSAC /home/kang/DRC_Project/DRC_Trajectron/src/evaluation.jl:300\n"
     ]
    },
    {
     "name": "stderr",
     "output_type": "stream",
     "text": [
      "┌ Warning: Time 8.30 [sec]: SAC computation took 0.103 [sec], which exceeds the maximum computation time allowed.\n",
      "└ @ RiskSensitiveSAC /home/kang/DRC_Project/DRC_Trajectron/src/rs_sac_controller.jl:733\n",
      "┌ Warning: Time 8.30 [sec]: This evaluation iteration took 0.103 [sec], which exceeds dtc.\n",
      "└ @ RiskSensitiveSAC /home/kang/DRC_Project/DRC_Trajectron/src/evaluation.jl:300\n"
     ]
    },
    {
     "name": "stderr",
     "output_type": "stream",
     "text": [
      "┌ Warning: Time 8.40 [sec]: This evaluation iteration took 0.087 [sec], which exceeds dtc.\n",
      "└ @ RiskSensitiveSAC /home/kang/DRC_Project/DRC_Trajectron/src/evaluation.jl:300\n"
     ]
    },
    {
     "name": "stderr",
     "output_type": "stream",
     "text": [
      "┌ Warning: Time 8.50 [sec]: This evaluation iteration took 0.087 [sec], which exceeds dtc.\n",
      "└ @ RiskSensitiveSAC /home/kang/DRC_Project/DRC_Trajectron/src/evaluation.jl:300\n"
     ]
    },
    {
     "name": "stderr",
     "output_type": "stream",
     "text": [
      "┌ Warning: Time 8.60 [sec]: This evaluation iteration took 0.091 [sec], which exceeds dtc.\n",
      "└ @ RiskSensitiveSAC /home/kang/DRC_Project/DRC_Trajectron/src/evaluation.jl:300\n"
     ]
    },
    {
     "name": "stderr",
     "output_type": "stream",
     "text": [
      "┌ Warning: Time 8.70 [sec]: SAC computation took 0.122 [sec], which exceeds the maximum computation time allowed.\n",
      "└ @ RiskSensitiveSAC /home/kang/DRC_Project/DRC_Trajectron/src/rs_sac_controller.jl:733\n",
      "┌ Warning: Time 8.70 [sec]: This evaluation iteration took 0.123 [sec], which exceeds dtc.\n",
      "└ @ RiskSensitiveSAC /home/kang/DRC_Project/DRC_Trajectron/src/evaluation.jl:300\n"
     ]
    },
    {
     "name": "stderr",
     "output_type": "stream",
     "text": [
      "┌ Warning: Time 8.80 [sec]: This evaluation iteration took 0.085 [sec], which exceeds dtc.\n",
      "└ @ RiskSensitiveSAC /home/kang/DRC_Project/DRC_Trajectron/src/evaluation.jl:300\n"
     ]
    },
    {
     "name": "stderr",
     "output_type": "stream",
     "text": [
      "┌ Warning: Time 8.90 [sec]: This evaluation iteration took 0.091 [sec], which exceeds dtc.\n",
      "└ @ RiskSensitiveSAC /home/kang/DRC_Project/DRC_Trajectron/src/evaluation.jl:300\n"
     ]
    },
    {
     "name": "stderr",
     "output_type": "stream",
     "text": [
      "┌ Warning: Time 9.00 [sec]: This evaluation iteration took 0.09 [sec], which exceeds dtc.\n",
      "└ @ RiskSensitiveSAC /home/kang/DRC_Project/DRC_Trajectron/src/evaluation.jl:300\n"
     ]
    },
    {
     "name": "stderr",
     "output_type": "stream",
     "text": [
      "┌ Warning: Time 9.10 [sec]: This evaluation iteration took 0.092 [sec], which exceeds dtc.\n",
      "└ @ RiskSensitiveSAC /home/kang/DRC_Project/DRC_Trajectron/src/evaluation.jl:300\n"
     ]
    },
    {
     "name": "stderr",
     "output_type": "stream",
     "text": [
      "┌ Warning: Time 9.20 [sec]: This evaluation iteration took 0.082 [sec], which exceeds dtc.\n",
      "└ @ RiskSensitiveSAC /home/kang/DRC_Project/DRC_Trajectron/src/evaluation.jl:300\n"
     ]
    },
    {
     "name": "stderr",
     "output_type": "stream",
     "text": [
      "┌ Warning: Time 9.30 [sec]: SAC computation took 0.106 [sec], which exceeds the maximum computation time allowed.\n",
      "└ @ RiskSensitiveSAC /home/kang/DRC_Project/DRC_Trajectron/src/rs_sac_controller.jl:733\n",
      "┌ Warning: Time 9.30 [sec]: This evaluation iteration took 0.107 [sec], which exceeds dtc.\n",
      "└ @ RiskSensitiveSAC /home/kang/DRC_Project/DRC_Trajectron/src/evaluation.jl:300\n"
     ]
    },
    {
     "name": "stderr",
     "output_type": "stream",
     "text": [
      "┌ Warning: Time 9.40 [sec]: This evaluation iteration took 0.093 [sec], which exceeds dtc.\n",
      "└ @ RiskSensitiveSAC /home/kang/DRC_Project/DRC_Trajectron/src/evaluation.jl:300\n"
     ]
    },
    {
     "name": "stderr",
     "output_type": "stream",
     "text": [
      "┌ Warning: Time 9.50 [sec]: This evaluation iteration took 0.089 [sec], which exceeds dtc.\n",
      "└ @ RiskSensitiveSAC /home/kang/DRC_Project/DRC_Trajectron/src/evaluation.jl:300\n"
     ]
    },
    {
     "name": "stderr",
     "output_type": "stream",
     "text": [
      "┌ Warning: Time 9.60 [sec]: SAC computation took 0.1 [sec], which exceeds the maximum computation time allowed.\n",
      "└ @ RiskSensitiveSAC /home/kang/DRC_Project/DRC_Trajectron/src/rs_sac_controller.jl:733\n",
      "┌ Warning: Time 9.60 [sec]: This evaluation iteration took 0.101 [sec], which exceeds dtc.\n",
      "└ @ RiskSensitiveSAC /home/kang/DRC_Project/DRC_Trajectron/src/evaluation.jl:300\n"
     ]
    },
    {
     "name": "stderr",
     "output_type": "stream",
     "text": [
      "┌ Warning: Time 9.70 [sec]: This evaluation iteration took 0.087 [sec], which exceeds dtc.\n",
      "└ @ RiskSensitiveSAC /home/kang/DRC_Project/DRC_Trajectron/src/evaluation.jl:300\n"
     ]
    },
    {
     "name": "stderr",
     "output_type": "stream",
     "text": [
      "┌ Warning: Time 9.80 [sec]: This evaluation iteration took 0.086 [sec], which exceeds dtc.\n",
      "└ @ RiskSensitiveSAC /home/kang/DRC_Project/DRC_Trajectron/src/evaluation.jl:300\n"
     ]
    },
    {
     "name": "stderr",
     "output_type": "stream",
     "text": [
      "┌ Warning: Time 9.90 [sec]: This evaluation iteration took 0.09 [sec], which exceeds dtc.\n",
      "└ @ RiskSensitiveSAC /home/kang/DRC_Project/DRC_Trajectron/src/evaluation.jl:300\n"
     ]
    },
    {
     "name": "stdout",
     "output_type": "stream",
     "text": [
      "Total Collision: 0, Total Position Cost: 76.2277725307011, Total Control Cost: 1.9229246069250079, Minimum Distance: 1.2220036525680198, Experiment 18: "
     ]
    },
    {
     "name": "stderr",
     "output_type": "stream",
     "text": [
      "┌ Warning: Time 0.10 [sec]: SAC computation took 0.141 [sec], which exceeds the maximum computation time allowed.\n",
      "└ @ RiskSensitiveSAC /home/kang/DRC_Project/DRC_Trajectron/src/rs_sac_controller.jl:733\n",
      "┌ Warning: Time 0.10 [sec]: This evaluation iteration took 0.141 [sec], which exceeds dtc.\n",
      "└ @ RiskSensitiveSAC /home/kang/DRC_Project/DRC_Trajectron/src/evaluation.jl:300\n"
     ]
    },
    {
     "name": "stderr",
     "output_type": "stream",
     "text": [
      "┌ Warning: Time 0.20 [sec]: This evaluation iteration took 0.095 [sec], which exceeds dtc.\n",
      "└ @ RiskSensitiveSAC /home/kang/DRC_Project/DRC_Trajectron/src/evaluation.jl:300\n"
     ]
    },
    {
     "name": "stderr",
     "output_type": "stream",
     "text": [
      "┌ Warning: Time 0.30 [sec]: SAC computation took 0.119 [sec], which exceeds the maximum computation time allowed.\n",
      "└ @ RiskSensitiveSAC /home/kang/DRC_Project/DRC_Trajectron/src/rs_sac_controller.jl:733\n",
      "┌ Warning: Time 0.30 [sec]: This evaluation iteration took 0.12 [sec], which exceeds dtc.\n",
      "└ @ RiskSensitiveSAC /home/kang/DRC_Project/DRC_Trajectron/src/evaluation.jl:300\n"
     ]
    },
    {
     "name": "stderr",
     "output_type": "stream",
     "text": [
      "┌ Warning: Time 0.40 [sec]: SAC computation took 0.116 [sec], which exceeds the maximum computation time allowed.\n",
      "└ @ RiskSensitiveSAC /home/kang/DRC_Project/DRC_Trajectron/src/rs_sac_controller.jl:733\n",
      "┌ Warning: Time 0.40 [sec]: This evaluation iteration took 0.117 [sec], which exceeds dtc.\n",
      "└ @ RiskSensitiveSAC /home/kang/DRC_Project/DRC_Trajectron/src/evaluation.jl:300\n"
     ]
    },
    {
     "name": "stderr",
     "output_type": "stream",
     "text": [
      "┌ Warning: Time 0.50 [sec]: SAC computation took 0.115 [sec], which exceeds the maximum computation time allowed.\n",
      "└ @ RiskSensitiveSAC /home/kang/DRC_Project/DRC_Trajectron/src/rs_sac_controller.jl:733\n",
      "┌ Warning: Time 0.50 [sec]: This evaluation iteration took 0.116 [sec], which exceeds dtc.\n",
      "└ @ RiskSensitiveSAC /home/kang/DRC_Project/DRC_Trajectron/src/evaluation.jl:300\n"
     ]
    },
    {
     "name": "stderr",
     "output_type": "stream",
     "text": [
      "┌ Warning: Time 0.60 [sec]: SAC computation took 0.121 [sec], which exceeds the maximum computation time allowed.\n",
      "└ @ RiskSensitiveSAC /home/kang/DRC_Project/DRC_Trajectron/src/rs_sac_controller.jl:733\n",
      "┌ Warning: Time 0.60 [sec]: This evaluation iteration took 0.122 [sec], which exceeds dtc.\n",
      "└ @ RiskSensitiveSAC /home/kang/DRC_Project/DRC_Trajectron/src/evaluation.jl:300\n"
     ]
    },
    {
     "name": "stderr",
     "output_type": "stream",
     "text": [
      "┌ Warning: Time 0.70 [sec]: SAC computation took 0.131 [sec], which exceeds the maximum computation time allowed.\n",
      "└ @ RiskSensitiveSAC /home/kang/DRC_Project/DRC_Trajectron/src/rs_sac_controller.jl:733\n",
      "┌ Warning: Time 0.70 [sec]: This evaluation iteration took 0.132 [sec], which exceeds dtc.\n",
      "└ @ RiskSensitiveSAC /home/kang/DRC_Project/DRC_Trajectron/src/evaluation.jl:300\n"
     ]
    },
    {
     "name": "stderr",
     "output_type": "stream",
     "text": [
      "┌ Warning: Time 0.80 [sec]: SAC computation took 0.118 [sec], which exceeds the maximum computation time allowed.\n",
      "└ @ RiskSensitiveSAC /home/kang/DRC_Project/DRC_Trajectron/src/rs_sac_controller.jl:733\n",
      "┌ Warning: Time 0.80 [sec]: This evaluation iteration took 0.119 [sec], which exceeds dtc.\n",
      "└ @ RiskSensitiveSAC /home/kang/DRC_Project/DRC_Trajectron/src/evaluation.jl:300\n"
     ]
    },
    {
     "name": "stderr",
     "output_type": "stream",
     "text": [
      "┌ Warning: Time 0.90 [sec]: SAC computation took 0.117 [sec], which exceeds the maximum computation time allowed.\n",
      "└ @ RiskSensitiveSAC /home/kang/DRC_Project/DRC_Trajectron/src/rs_sac_controller.jl:733\n",
      "┌ Warning: Time 0.90 [sec]: This evaluation iteration took 0.118 [sec], which exceeds dtc.\n",
      "└ @ RiskSensitiveSAC /home/kang/DRC_Project/DRC_Trajectron/src/evaluation.jl:300\n"
     ]
    },
    {
     "name": "stderr",
     "output_type": "stream",
     "text": [
      "┌ Warning: Time 1.00 [sec]: SAC computation took 0.118 [sec], which exceeds the maximum computation time allowed.\n",
      "└ @ RiskSensitiveSAC /home/kang/DRC_Project/DRC_Trajectron/src/rs_sac_controller.jl:733\n",
      "┌ Warning: Time 1.00 [sec]: This evaluation iteration took 0.119 [sec], which exceeds dtc.\n",
      "└ @ RiskSensitiveSAC /home/kang/DRC_Project/DRC_Trajectron/src/evaluation.jl:300\n"
     ]
    },
    {
     "name": "stderr",
     "output_type": "stream",
     "text": [
      "┌ Warning: Time 1.10 [sec]: SAC computation took 0.117 [sec], which exceeds the maximum computation time allowed.\n",
      "└ @ RiskSensitiveSAC /home/kang/DRC_Project/DRC_Trajectron/src/rs_sac_controller.jl:733\n",
      "┌ Warning: Time 1.10 [sec]: This evaluation iteration took 0.118 [sec], which exceeds dtc.\n",
      "└ @ RiskSensitiveSAC /home/kang/DRC_Project/DRC_Trajectron/src/evaluation.jl:300\n"
     ]
    },
    {
     "name": "stderr",
     "output_type": "stream",
     "text": [
      "┌ Warning: Time 1.20 [sec]: SAC computation took 0.119 [sec], which exceeds the maximum computation time allowed.\n",
      "└ @ RiskSensitiveSAC /home/kang/DRC_Project/DRC_Trajectron/src/rs_sac_controller.jl:733\n",
      "┌ Warning: Time 1.20 [sec]: This evaluation iteration took 0.12 [sec], which exceeds dtc.\n",
      "└ @ RiskSensitiveSAC /home/kang/DRC_Project/DRC_Trajectron/src/evaluation.jl:300\n"
     ]
    },
    {
     "name": "stderr",
     "output_type": "stream",
     "text": [
      "┌ Warning: Time 1.30 [sec]: SAC computation took 0.105 [sec], which exceeds the maximum computation time allowed.\n",
      "└ @ RiskSensitiveSAC /home/kang/DRC_Project/DRC_Trajectron/src/rs_sac_controller.jl:733\n",
      "┌ Warning: Time 1.30 [sec]: This evaluation iteration took 0.106 [sec], which exceeds dtc.\n",
      "└ @ RiskSensitiveSAC /home/kang/DRC_Project/DRC_Trajectron/src/evaluation.jl:300\n"
     ]
    },
    {
     "name": "stderr",
     "output_type": "stream",
     "text": [
      "┌ Warning: Time 1.40 [sec]: SAC computation took 0.113 [sec], which exceeds the maximum computation time allowed.\n",
      "└ @ RiskSensitiveSAC /home/kang/DRC_Project/DRC_Trajectron/src/rs_sac_controller.jl:733\n",
      "┌ Warning: Time 1.40 [sec]: This evaluation iteration took 0.114 [sec], which exceeds dtc.\n",
      "└ @ RiskSensitiveSAC /home/kang/DRC_Project/DRC_Trajectron/src/evaluation.jl:300\n"
     ]
    },
    {
     "name": "stderr",
     "output_type": "stream",
     "text": [
      "┌ Warning: Time 1.50 [sec]: SAC computation took 0.118 [sec], which exceeds the maximum computation time allowed.\n",
      "└ @ RiskSensitiveSAC /home/kang/DRC_Project/DRC_Trajectron/src/rs_sac_controller.jl:733\n",
      "┌ Warning: Time 1.50 [sec]: This evaluation iteration took 0.118 [sec], which exceeds dtc.\n",
      "└ @ RiskSensitiveSAC /home/kang/DRC_Project/DRC_Trajectron/src/evaluation.jl:300\n"
     ]
    },
    {
     "name": "stderr",
     "output_type": "stream",
     "text": [
      "┌ Warning: Time 1.60 [sec]: This evaluation iteration took 0.093 [sec], which exceeds dtc.\n",
      "└ @ RiskSensitiveSAC /home/kang/DRC_Project/DRC_Trajectron/src/evaluation.jl:300\n"
     ]
    },
    {
     "name": "stderr",
     "output_type": "stream",
     "text": [
      "┌ Warning: Time 1.70 [sec]: This evaluation iteration took 0.097 [sec], which exceeds dtc.\n",
      "└ @ RiskSensitiveSAC /home/kang/DRC_Project/DRC_Trajectron/src/evaluation.jl:300\n"
     ]
    },
    {
     "name": "stderr",
     "output_type": "stream",
     "text": [
      "┌ Warning: Time 1.80 [sec]: This evaluation iteration took 0.093 [sec], which exceeds dtc.\n",
      "└ @ RiskSensitiveSAC /home/kang/DRC_Project/DRC_Trajectron/src/evaluation.jl:300\n"
     ]
    },
    {
     "name": "stderr",
     "output_type": "stream",
     "text": [
      "┌ Warning: Time 1.90 [sec]: SAC computation took 0.114 [sec], which exceeds the maximum computation time allowed.\n",
      "└ @ RiskSensitiveSAC /home/kang/DRC_Project/DRC_Trajectron/src/rs_sac_controller.jl:733\n",
      "┌ Warning: Time 1.90 [sec]: This evaluation iteration took 0.115 [sec], which exceeds dtc.\n",
      "└ @ RiskSensitiveSAC /home/kang/DRC_Project/DRC_Trajectron/src/evaluation.jl:300\n"
     ]
    },
    {
     "name": "stderr",
     "output_type": "stream",
     "text": [
      "┌ Warning: Time 2.00 [sec]: SAC computation took 0.129 [sec], which exceeds the maximum computation time allowed.\n",
      "└ @ RiskSensitiveSAC /home/kang/DRC_Project/DRC_Trajectron/src/rs_sac_controller.jl:733\n",
      "┌ Warning: Time 2.00 [sec]: This evaluation iteration took 0.13 [sec], which exceeds dtc.\n",
      "└ @ RiskSensitiveSAC /home/kang/DRC_Project/DRC_Trajectron/src/evaluation.jl:300\n"
     ]
    },
    {
     "name": "stderr",
     "output_type": "stream",
     "text": [
      "┌ Warning: Time 2.10 [sec]: SAC computation took 0.118 [sec], which exceeds the maximum computation time allowed.\n",
      "└ @ RiskSensitiveSAC /home/kang/DRC_Project/DRC_Trajectron/src/rs_sac_controller.jl:733\n",
      "┌ Warning: Time 2.10 [sec]: This evaluation iteration took 0.118 [sec], which exceeds dtc.\n",
      "└ @ RiskSensitiveSAC /home/kang/DRC_Project/DRC_Trajectron/src/evaluation.jl:300\n"
     ]
    },
    {
     "name": "stderr",
     "output_type": "stream",
     "text": [
      "┌ Warning: Time 2.20 [sec]: SAC computation took 0.115 [sec], which exceeds the maximum computation time allowed.\n",
      "└ @ RiskSensitiveSAC /home/kang/DRC_Project/DRC_Trajectron/src/rs_sac_controller.jl:733\n",
      "┌ Warning: Time 2.20 [sec]: This evaluation iteration took 0.116 [sec], which exceeds dtc.\n",
      "└ @ RiskSensitiveSAC /home/kang/DRC_Project/DRC_Trajectron/src/evaluation.jl:300\n"
     ]
    },
    {
     "name": "stderr",
     "output_type": "stream",
     "text": [
      "┌ Warning: Time 2.30 [sec]: SAC computation took 0.19 [sec], which exceeds the maximum computation time allowed.\n",
      "└ @ RiskSensitiveSAC /home/kang/DRC_Project/DRC_Trajectron/src/rs_sac_controller.jl:733\n",
      "┌ Warning: Time 2.30 [sec]: This evaluation iteration took 0.19 [sec], which exceeds dtc.\n",
      "└ @ RiskSensitiveSAC /home/kang/DRC_Project/DRC_Trajectron/src/evaluation.jl:300\n"
     ]
    },
    {
     "name": "stderr",
     "output_type": "stream",
     "text": [
      "┌ Warning: Time 2.40 [sec]: SAC computation took 0.121 [sec], which exceeds the maximum computation time allowed.\n",
      "└ @ RiskSensitiveSAC /home/kang/DRC_Project/DRC_Trajectron/src/rs_sac_controller.jl:733\n",
      "┌ Warning: Time 2.40 [sec]: This evaluation iteration took 0.122 [sec], which exceeds dtc.\n",
      "└ @ RiskSensitiveSAC /home/kang/DRC_Project/DRC_Trajectron/src/evaluation.jl:300\n"
     ]
    },
    {
     "name": "stderr",
     "output_type": "stream",
     "text": [
      "┌ Warning: Time 2.50 [sec]: This evaluation iteration took 0.098 [sec], which exceeds dtc.\n",
      "└ @ RiskSensitiveSAC /home/kang/DRC_Project/DRC_Trajectron/src/evaluation.jl:300\n"
     ]
    },
    {
     "name": "stderr",
     "output_type": "stream",
     "text": [
      "┌ Warning: Time 2.60 [sec]: SAC computation took 0.111 [sec], which exceeds the maximum computation time allowed.\n",
      "└ @ RiskSensitiveSAC /home/kang/DRC_Project/DRC_Trajectron/src/rs_sac_controller.jl:733\n",
      "┌ Warning: Time 2.60 [sec]: This evaluation iteration took 0.112 [sec], which exceeds dtc.\n",
      "└ @ RiskSensitiveSAC /home/kang/DRC_Project/DRC_Trajectron/src/evaluation.jl:300\n"
     ]
    },
    {
     "name": "stderr",
     "output_type": "stream",
     "text": [
      "┌ Warning: Time 2.70 [sec]: SAC computation took 0.115 [sec], which exceeds the maximum computation time allowed.\n",
      "└ @ RiskSensitiveSAC /home/kang/DRC_Project/DRC_Trajectron/src/rs_sac_controller.jl:733\n",
      "┌ Warning: Time 2.70 [sec]: This evaluation iteration took 0.115 [sec], which exceeds dtc.\n",
      "└ @ RiskSensitiveSAC /home/kang/DRC_Project/DRC_Trajectron/src/evaluation.jl:300\n"
     ]
    },
    {
     "name": "stderr",
     "output_type": "stream",
     "text": [
      "┌ Warning: Time 2.80 [sec]: SAC computation took 0.112 [sec], which exceeds the maximum computation time allowed.\n",
      "└ @ RiskSensitiveSAC /home/kang/DRC_Project/DRC_Trajectron/src/rs_sac_controller.jl:733\n",
      "┌ Warning: Time 2.80 [sec]: This evaluation iteration took 0.113 [sec], which exceeds dtc.\n",
      "└ @ RiskSensitiveSAC /home/kang/DRC_Project/DRC_Trajectron/src/evaluation.jl:300\n"
     ]
    },
    {
     "name": "stderr",
     "output_type": "stream",
     "text": [
      "┌ Warning: Time 2.90 [sec]: SAC computation took 0.117 [sec], which exceeds the maximum computation time allowed.\n",
      "└ @ RiskSensitiveSAC /home/kang/DRC_Project/DRC_Trajectron/src/rs_sac_controller.jl:733\n",
      "┌ Warning: Time 2.90 [sec]: This evaluation iteration took 0.117 [sec], which exceeds dtc.\n",
      "└ @ RiskSensitiveSAC /home/kang/DRC_Project/DRC_Trajectron/src/evaluation.jl:300\n"
     ]
    },
    {
     "name": "stderr",
     "output_type": "stream",
     "text": [
      "┌ Warning: Time 3.00 [sec]: This evaluation iteration took 0.094 [sec], which exceeds dtc.\n",
      "└ @ RiskSensitiveSAC /home/kang/DRC_Project/DRC_Trajectron/src/evaluation.jl:300\n"
     ]
    },
    {
     "name": "stderr",
     "output_type": "stream",
     "text": [
      "┌ Warning: Time 3.10 [sec]: This evaluation iteration took 0.096 [sec], which exceeds dtc.\n",
      "└ @ RiskSensitiveSAC /home/kang/DRC_Project/DRC_Trajectron/src/evaluation.jl:300\n"
     ]
    },
    {
     "name": "stderr",
     "output_type": "stream",
     "text": [
      "┌ Warning: Time 3.20 [sec]: This evaluation iteration took 0.09 [sec], which exceeds dtc.\n",
      "└ @ RiskSensitiveSAC /home/kang/DRC_Project/DRC_Trajectron/src/evaluation.jl:300\n"
     ]
    },
    {
     "name": "stderr",
     "output_type": "stream",
     "text": [
      "┌ Warning: Time 3.30 [sec]: SAC computation took 0.109 [sec], which exceeds the maximum computation time allowed.\n",
      "└ @ RiskSensitiveSAC /home/kang/DRC_Project/DRC_Trajectron/src/rs_sac_controller.jl:733\n",
      "┌ Warning: Time 3.30 [sec]: This evaluation iteration took 0.109 [sec], which exceeds dtc.\n",
      "└ @ RiskSensitiveSAC /home/kang/DRC_Project/DRC_Trajectron/src/evaluation.jl:300\n"
     ]
    },
    {
     "name": "stderr",
     "output_type": "stream",
     "text": [
      "┌ Warning: Time 3.40 [sec]: SAC computation took 0.101 [sec], which exceeds the maximum computation time allowed.\n",
      "└ @ RiskSensitiveSAC /home/kang/DRC_Project/DRC_Trajectron/src/rs_sac_controller.jl:733\n",
      "┌ Warning: Time 3.40 [sec]: This evaluation iteration took 0.102 [sec], which exceeds dtc.\n",
      "└ @ RiskSensitiveSAC /home/kang/DRC_Project/DRC_Trajectron/src/evaluation.jl:300\n"
     ]
    },
    {
     "name": "stderr",
     "output_type": "stream",
     "text": [
      "┌ Warning: Time 3.50 [sec]: This evaluation iteration took 0.097 [sec], which exceeds dtc.\n",
      "└ @ RiskSensitiveSAC /home/kang/DRC_Project/DRC_Trajectron/src/evaluation.jl:300\n"
     ]
    },
    {
     "name": "stderr",
     "output_type": "stream",
     "text": [
      "┌ Warning: Time 3.60 [sec]: This evaluation iteration took 0.098 [sec], which exceeds dtc.\n",
      "└ @ RiskSensitiveSAC /home/kang/DRC_Project/DRC_Trajectron/src/evaluation.jl:300\n"
     ]
    },
    {
     "name": "stderr",
     "output_type": "stream",
     "text": [
      "┌ Warning: Time 3.70 [sec]: This evaluation iteration took 0.088 [sec], which exceeds dtc.\n",
      "└ @ RiskSensitiveSAC /home/kang/DRC_Project/DRC_Trajectron/src/evaluation.jl:300\n"
     ]
    },
    {
     "name": "stderr",
     "output_type": "stream",
     "text": [
      "┌ Warning: Time 3.80 [sec]: This evaluation iteration took 0.094 [sec], which exceeds dtc.\n",
      "└ @ RiskSensitiveSAC /home/kang/DRC_Project/DRC_Trajectron/src/evaluation.jl:300\n"
     ]
    },
    {
     "name": "stderr",
     "output_type": "stream",
     "text": [
      "┌ Warning: Time 3.90 [sec]: This evaluation iteration took 0.095 [sec], which exceeds dtc.\n",
      "└ @ RiskSensitiveSAC /home/kang/DRC_Project/DRC_Trajectron/src/evaluation.jl:300\n"
     ]
    },
    {
     "name": "stderr",
     "output_type": "stream",
     "text": [
      "┌ Warning: Time 4.00 [sec]: This evaluation iteration took 0.099 [sec], which exceeds dtc.\n",
      "└ @ RiskSensitiveSAC /home/kang/DRC_Project/DRC_Trajectron/src/evaluation.jl:300\n"
     ]
    },
    {
     "name": "stderr",
     "output_type": "stream",
     "text": [
      "┌ Warning: Time 4.10 [sec]: SAC computation took 0.115 [sec], which exceeds the maximum computation time allowed.\n",
      "└ @ RiskSensitiveSAC /home/kang/DRC_Project/DRC_Trajectron/src/rs_sac_controller.jl:733\n",
      "┌ Warning: Time 4.10 [sec]: This evaluation iteration took 0.115 [sec], which exceeds dtc.\n",
      "└ @ RiskSensitiveSAC /home/kang/DRC_Project/DRC_Trajectron/src/evaluation.jl:300\n"
     ]
    },
    {
     "name": "stderr",
     "output_type": "stream",
     "text": [
      "┌ Warning: Time 4.20 [sec]: SAC computation took 0.104 [sec], which exceeds the maximum computation time allowed.\n",
      "└ @ RiskSensitiveSAC /home/kang/DRC_Project/DRC_Trajectron/src/rs_sac_controller.jl:733\n",
      "┌ Warning: Time 4.20 [sec]: This evaluation iteration took 0.105 [sec], which exceeds dtc.\n",
      "└ @ RiskSensitiveSAC /home/kang/DRC_Project/DRC_Trajectron/src/evaluation.jl:300\n"
     ]
    },
    {
     "name": "stderr",
     "output_type": "stream",
     "text": [
      "┌ Warning: Time 4.30 [sec]: SAC computation took 0.109 [sec], which exceeds the maximum computation time allowed.\n",
      "└ @ RiskSensitiveSAC /home/kang/DRC_Project/DRC_Trajectron/src/rs_sac_controller.jl:733\n",
      "┌ Warning: Time 4.30 [sec]: This evaluation iteration took 0.109 [sec], which exceeds dtc.\n",
      "└ @ RiskSensitiveSAC /home/kang/DRC_Project/DRC_Trajectron/src/evaluation.jl:300\n"
     ]
    },
    {
     "name": "stderr",
     "output_type": "stream",
     "text": [
      "┌ Warning: Time 4.40 [sec]: This evaluation iteration took 0.093 [sec], which exceeds dtc.\n",
      "└ @ RiskSensitiveSAC /home/kang/DRC_Project/DRC_Trajectron/src/evaluation.jl:300\n"
     ]
    },
    {
     "name": "stderr",
     "output_type": "stream",
     "text": [
      "┌ Warning: Time 4.50 [sec]: SAC computation took 0.122 [sec], which exceeds the maximum computation time allowed.\n",
      "└ @ RiskSensitiveSAC /home/kang/DRC_Project/DRC_Trajectron/src/rs_sac_controller.jl:733\n",
      "┌ Warning: Time 4.50 [sec]: This evaluation iteration took 0.122 [sec], which exceeds dtc.\n",
      "└ @ RiskSensitiveSAC /home/kang/DRC_Project/DRC_Trajectron/src/evaluation.jl:300\n"
     ]
    },
    {
     "name": "stderr",
     "output_type": "stream",
     "text": [
      "┌ Warning: Time 4.60 [sec]: This evaluation iteration took 0.088 [sec], which exceeds dtc.\n",
      "└ @ RiskSensitiveSAC /home/kang/DRC_Project/DRC_Trajectron/src/evaluation.jl:300\n"
     ]
    },
    {
     "name": "stderr",
     "output_type": "stream",
     "text": [
      "┌ Warning: Time 4.70 [sec]: This evaluation iteration took 0.088 [sec], which exceeds dtc.\n",
      "└ @ RiskSensitiveSAC /home/kang/DRC_Project/DRC_Trajectron/src/evaluation.jl:300\n"
     ]
    },
    {
     "name": "stderr",
     "output_type": "stream",
     "text": [
      "┌ Warning: Time 4.80 [sec]: SAC computation took 0.103 [sec], which exceeds the maximum computation time allowed.\n",
      "└ @ RiskSensitiveSAC /home/kang/DRC_Project/DRC_Trajectron/src/rs_sac_controller.jl:733\n",
      "┌ Warning: Time 4.80 [sec]: This evaluation iteration took 0.104 [sec], which exceeds dtc.\n",
      "└ @ RiskSensitiveSAC /home/kang/DRC_Project/DRC_Trajectron/src/evaluation.jl:300\n"
     ]
    },
    {
     "name": "stderr",
     "output_type": "stream",
     "text": [
      "┌ Warning: Time 4.90 [sec]: SAC computation took 0.113 [sec], which exceeds the maximum computation time allowed.\n",
      "└ @ RiskSensitiveSAC /home/kang/DRC_Project/DRC_Trajectron/src/rs_sac_controller.jl:733\n",
      "┌ Warning: Time 4.90 [sec]: This evaluation iteration took 0.113 [sec], which exceeds dtc.\n",
      "└ @ RiskSensitiveSAC /home/kang/DRC_Project/DRC_Trajectron/src/evaluation.jl:300\n"
     ]
    },
    {
     "name": "stderr",
     "output_type": "stream",
     "text": [
      "┌ Warning: Time 5.00 [sec]: This evaluation iteration took 0.088 [sec], which exceeds dtc.\n",
      "└ @ RiskSensitiveSAC /home/kang/DRC_Project/DRC_Trajectron/src/evaluation.jl:300\n"
     ]
    },
    {
     "name": "stderr",
     "output_type": "stream",
     "text": [
      "┌ Warning: Time 5.10 [sec]: This evaluation iteration took 0.088 [sec], which exceeds dtc.\n",
      "└ @ RiskSensitiveSAC /home/kang/DRC_Project/DRC_Trajectron/src/evaluation.jl:300\n"
     ]
    },
    {
     "name": "stderr",
     "output_type": "stream",
     "text": [
      "┌ Warning: Time 5.20 [sec]: This evaluation iteration took 0.092 [sec], which exceeds dtc.\n",
      "└ @ RiskSensitiveSAC /home/kang/DRC_Project/DRC_Trajectron/src/evaluation.jl:300\n"
     ]
    },
    {
     "name": "stderr",
     "output_type": "stream",
     "text": [
      "┌ Warning: Time 5.30 [sec]: This evaluation iteration took 0.09 [sec], which exceeds dtc.\n",
      "└ @ RiskSensitiveSAC /home/kang/DRC_Project/DRC_Trajectron/src/evaluation.jl:300\n"
     ]
    },
    {
     "name": "stderr",
     "output_type": "stream",
     "text": [
      "┌ Warning: Time 5.40 [sec]: This evaluation iteration took 0.097 [sec], which exceeds dtc.\n",
      "└ @ RiskSensitiveSAC /home/kang/DRC_Project/DRC_Trajectron/src/evaluation.jl:300\n"
     ]
    },
    {
     "name": "stderr",
     "output_type": "stream",
     "text": [
      "┌ Warning: Time 5.50 [sec]: SAC computation took 0.14 [sec], which exceeds the maximum computation time allowed.\n",
      "└ @ RiskSensitiveSAC /home/kang/DRC_Project/DRC_Trajectron/src/rs_sac_controller.jl:733\n",
      "┌ Warning: Time 5.50 [sec]: This evaluation iteration took 0.141 [sec], which exceeds dtc.\n",
      "└ @ RiskSensitiveSAC /home/kang/DRC_Project/DRC_Trajectron/src/evaluation.jl:300\n"
     ]
    },
    {
     "name": "stderr",
     "output_type": "stream",
     "text": [
      "┌ Warning: Time 5.60 [sec]: SAC computation took 0.135 [sec], which exceeds the maximum computation time allowed.\n",
      "└ @ RiskSensitiveSAC /home/kang/DRC_Project/DRC_Trajectron/src/rs_sac_controller.jl:733\n",
      "┌ Warning: Time 5.60 [sec]: This evaluation iteration took 0.137 [sec], which exceeds dtc.\n",
      "└ @ RiskSensitiveSAC /home/kang/DRC_Project/DRC_Trajectron/src/evaluation.jl:300\n"
     ]
    },
    {
     "name": "stderr",
     "output_type": "stream",
     "text": [
      "┌ Warning: Time 5.70 [sec]: SAC computation took 0.13 [sec], which exceeds the maximum computation time allowed.\n",
      "└ @ RiskSensitiveSAC /home/kang/DRC_Project/DRC_Trajectron/src/rs_sac_controller.jl:733\n",
      "┌ Warning: Time 5.70 [sec]: This evaluation iteration took 0.13 [sec], which exceeds dtc.\n",
      "└ @ RiskSensitiveSAC /home/kang/DRC_Project/DRC_Trajectron/src/evaluation.jl:300\n"
     ]
    },
    {
     "name": "stderr",
     "output_type": "stream",
     "text": [
      "┌ Warning: Time 5.80 [sec]: SAC computation took 0.123 [sec], which exceeds the maximum computation time allowed.\n",
      "└ @ RiskSensitiveSAC /home/kang/DRC_Project/DRC_Trajectron/src/rs_sac_controller.jl:733\n",
      "┌ Warning: Time 5.80 [sec]: This evaluation iteration took 0.123 [sec], which exceeds dtc.\n",
      "└ @ RiskSensitiveSAC /home/kang/DRC_Project/DRC_Trajectron/src/evaluation.jl:300\n"
     ]
    },
    {
     "name": "stderr",
     "output_type": "stream",
     "text": [
      "┌ Warning: Time 5.90 [sec]: SAC computation took 0.121 [sec], which exceeds the maximum computation time allowed.\n",
      "└ @ RiskSensitiveSAC /home/kang/DRC_Project/DRC_Trajectron/src/rs_sac_controller.jl:733\n",
      "┌ Warning: Time 5.90 [sec]: This evaluation iteration took 0.122 [sec], which exceeds dtc.\n",
      "└ @ RiskSensitiveSAC /home/kang/DRC_Project/DRC_Trajectron/src/evaluation.jl:300\n"
     ]
    },
    {
     "name": "stderr",
     "output_type": "stream",
     "text": [
      "┌ Warning: Time 6.00 [sec]: SAC computation took 0.105 [sec], which exceeds the maximum computation time allowed.\n",
      "└ @ RiskSensitiveSAC /home/kang/DRC_Project/DRC_Trajectron/src/rs_sac_controller.jl:733\n",
      "┌ Warning: Time 6.00 [sec]: This evaluation iteration took 0.106 [sec], which exceeds dtc.\n",
      "└ @ RiskSensitiveSAC /home/kang/DRC_Project/DRC_Trajectron/src/evaluation.jl:300\n"
     ]
    },
    {
     "name": "stderr",
     "output_type": "stream",
     "text": [
      "┌ Warning: Time 6.10 [sec]: SAC computation took 0.115 [sec], which exceeds the maximum computation time allowed.\n",
      "└ @ RiskSensitiveSAC /home/kang/DRC_Project/DRC_Trajectron/src/rs_sac_controller.jl:733\n",
      "┌ Warning: Time 6.10 [sec]: This evaluation iteration took 0.116 [sec], which exceeds dtc.\n",
      "└ @ RiskSensitiveSAC /home/kang/DRC_Project/DRC_Trajectron/src/evaluation.jl:300\n"
     ]
    },
    {
     "name": "stderr",
     "output_type": "stream",
     "text": [
      "┌ Warning: Time 6.20 [sec]: This evaluation iteration took 0.1 [sec], which exceeds dtc.\n",
      "└ @ RiskSensitiveSAC /home/kang/DRC_Project/DRC_Trajectron/src/evaluation.jl:300\n"
     ]
    },
    {
     "name": "stderr",
     "output_type": "stream",
     "text": [
      "┌ Warning: Time 6.30 [sec]: SAC computation took 0.113 [sec], which exceeds the maximum computation time allowed.\n",
      "└ @ RiskSensitiveSAC /home/kang/DRC_Project/DRC_Trajectron/src/rs_sac_controller.jl:733\n",
      "┌ Warning: Time 6.30 [sec]: This evaluation iteration took 0.114 [sec], which exceeds dtc.\n",
      "└ @ RiskSensitiveSAC /home/kang/DRC_Project/DRC_Trajectron/src/evaluation.jl:300\n"
     ]
    },
    {
     "name": "stderr",
     "output_type": "stream",
     "text": [
      "┌ Warning: Time 6.40 [sec]: SAC computation took 0.118 [sec], which exceeds the maximum computation time allowed.\n",
      "└ @ RiskSensitiveSAC /home/kang/DRC_Project/DRC_Trajectron/src/rs_sac_controller.jl:733\n",
      "┌ Warning: Time 6.40 [sec]: This evaluation iteration took 0.119 [sec], which exceeds dtc.\n",
      "└ @ RiskSensitiveSAC /home/kang/DRC_Project/DRC_Trajectron/src/evaluation.jl:300\n"
     ]
    },
    {
     "name": "stderr",
     "output_type": "stream",
     "text": [
      "┌ Warning: Time 6.50 [sec]: SAC computation took 0.126 [sec], which exceeds the maximum computation time allowed.\n",
      "└ @ RiskSensitiveSAC /home/kang/DRC_Project/DRC_Trajectron/src/rs_sac_controller.jl:733\n",
      "┌ Warning: Time 6.50 [sec]: This evaluation iteration took 0.127 [sec], which exceeds dtc.\n",
      "└ @ RiskSensitiveSAC /home/kang/DRC_Project/DRC_Trajectron/src/evaluation.jl:300\n"
     ]
    },
    {
     "name": "stderr",
     "output_type": "stream",
     "text": [
      "┌ Warning: Time 6.60 [sec]: SAC computation took 0.124 [sec], which exceeds the maximum computation time allowed.\n",
      "└ @ RiskSensitiveSAC /home/kang/DRC_Project/DRC_Trajectron/src/rs_sac_controller.jl:733\n",
      "┌ Warning: Time 6.60 [sec]: This evaluation iteration took 0.125 [sec], which exceeds dtc.\n",
      "└ @ RiskSensitiveSAC /home/kang/DRC_Project/DRC_Trajectron/src/evaluation.jl:300\n"
     ]
    },
    {
     "name": "stderr",
     "output_type": "stream",
     "text": [
      "┌ Warning: Time 6.70 [sec]: SAC computation took 0.194 [sec], which exceeds the maximum computation time allowed.\n",
      "└ @ RiskSensitiveSAC /home/kang/DRC_Project/DRC_Trajectron/src/rs_sac_controller.jl:733\n",
      "┌ Warning: Time 6.70 [sec]: This evaluation iteration took 0.195 [sec], which exceeds dtc.\n",
      "└ @ RiskSensitiveSAC /home/kang/DRC_Project/DRC_Trajectron/src/evaluation.jl:300\n"
     ]
    },
    {
     "name": "stderr",
     "output_type": "stream",
     "text": [
      "┌ Warning: Time 6.80 [sec]: SAC computation took 0.118 [sec], which exceeds the maximum computation time allowed.\n",
      "└ @ RiskSensitiveSAC /home/kang/DRC_Project/DRC_Trajectron/src/rs_sac_controller.jl:733\n",
      "┌ Warning: Time 6.80 [sec]: This evaluation iteration took 0.119 [sec], which exceeds dtc.\n",
      "└ @ RiskSensitiveSAC /home/kang/DRC_Project/DRC_Trajectron/src/evaluation.jl:300\n"
     ]
    },
    {
     "name": "stderr",
     "output_type": "stream",
     "text": [
      "┌ Warning: Time 6.90 [sec]: SAC computation took 0.103 [sec], which exceeds the maximum computation time allowed.\n",
      "└ @ RiskSensitiveSAC /home/kang/DRC_Project/DRC_Trajectron/src/rs_sac_controller.jl:733\n",
      "┌ Warning: Time 6.90 [sec]: This evaluation iteration took 0.104 [sec], which exceeds dtc.\n",
      "└ @ RiskSensitiveSAC /home/kang/DRC_Project/DRC_Trajectron/src/evaluation.jl:300\n"
     ]
    },
    {
     "name": "stderr",
     "output_type": "stream",
     "text": [
      "┌ Warning: Time 7.00 [sec]: This evaluation iteration took 0.089 [sec], which exceeds dtc.\n",
      "└ @ RiskSensitiveSAC /home/kang/DRC_Project/DRC_Trajectron/src/evaluation.jl:300\n"
     ]
    },
    {
     "name": "stderr",
     "output_type": "stream",
     "text": [
      "┌ Warning: Time 7.10 [sec]: This evaluation iteration took 0.095 [sec], which exceeds dtc.\n",
      "└ @ RiskSensitiveSAC /home/kang/DRC_Project/DRC_Trajectron/src/evaluation.jl:300\n"
     ]
    },
    {
     "name": "stderr",
     "output_type": "stream",
     "text": [
      "┌ Warning: Time 7.20 [sec]: SAC computation took 0.106 [sec], which exceeds the maximum computation time allowed.\n",
      "└ @ RiskSensitiveSAC /home/kang/DRC_Project/DRC_Trajectron/src/rs_sac_controller.jl:733\n",
      "┌ Warning: Time 7.20 [sec]: This evaluation iteration took 0.107 [sec], which exceeds dtc.\n",
      "└ @ RiskSensitiveSAC /home/kang/DRC_Project/DRC_Trajectron/src/evaluation.jl:300\n"
     ]
    },
    {
     "name": "stderr",
     "output_type": "stream",
     "text": [
      "┌ Warning: Time 7.30 [sec]: This evaluation iteration took 0.089 [sec], which exceeds dtc.\n",
      "└ @ RiskSensitiveSAC /home/kang/DRC_Project/DRC_Trajectron/src/evaluation.jl:300\n"
     ]
    },
    {
     "name": "stderr",
     "output_type": "stream",
     "text": [
      "┌ Warning: Time 7.40 [sec]: SAC computation took 0.127 [sec], which exceeds the maximum computation time allowed.\n",
      "└ @ RiskSensitiveSAC /home/kang/DRC_Project/DRC_Trajectron/src/rs_sac_controller.jl:733\n",
      "┌ Warning: Time 7.40 [sec]: This evaluation iteration took 0.127 [sec], which exceeds dtc.\n",
      "└ @ RiskSensitiveSAC /home/kang/DRC_Project/DRC_Trajectron/src/evaluation.jl:300\n"
     ]
    },
    {
     "name": "stderr",
     "output_type": "stream",
     "text": [
      "┌ Warning: Time 7.50 [sec]: SAC computation took 0.121 [sec], which exceeds the maximum computation time allowed.\n",
      "└ @ RiskSensitiveSAC /home/kang/DRC_Project/DRC_Trajectron/src/rs_sac_controller.jl:733\n",
      "┌ Warning: Time 7.50 [sec]: This evaluation iteration took 0.122 [sec], which exceeds dtc.\n",
      "└ @ RiskSensitiveSAC /home/kang/DRC_Project/DRC_Trajectron/src/evaluation.jl:300\n"
     ]
    },
    {
     "name": "stderr",
     "output_type": "stream",
     "text": [
      "┌ Warning: Time 7.60 [sec]: SAC computation took 0.118 [sec], which exceeds the maximum computation time allowed.\n",
      "└ @ RiskSensitiveSAC /home/kang/DRC_Project/DRC_Trajectron/src/rs_sac_controller.jl:733\n",
      "┌ Warning: Time 7.60 [sec]: This evaluation iteration took 0.119 [sec], which exceeds dtc.\n",
      "└ @ RiskSensitiveSAC /home/kang/DRC_Project/DRC_Trajectron/src/evaluation.jl:300\n"
     ]
    },
    {
     "name": "stderr",
     "output_type": "stream",
     "text": [
      "┌ Warning: Time 7.70 [sec]: SAC computation took 0.111 [sec], which exceeds the maximum computation time allowed.\n",
      "└ @ RiskSensitiveSAC /home/kang/DRC_Project/DRC_Trajectron/src/rs_sac_controller.jl:733\n",
      "┌ Warning: Time 7.70 [sec]: This evaluation iteration took 0.112 [sec], which exceeds dtc.\n",
      "└ @ RiskSensitiveSAC /home/kang/DRC_Project/DRC_Trajectron/src/evaluation.jl:300\n"
     ]
    },
    {
     "name": "stderr",
     "output_type": "stream",
     "text": [
      "┌ Warning: Time 7.80 [sec]: SAC computation took 0.105 [sec], which exceeds the maximum computation time allowed.\n",
      "└ @ RiskSensitiveSAC /home/kang/DRC_Project/DRC_Trajectron/src/rs_sac_controller.jl:733\n",
      "┌ Warning: Time 7.80 [sec]: This evaluation iteration took 0.105 [sec], which exceeds dtc.\n",
      "└ @ RiskSensitiveSAC /home/kang/DRC_Project/DRC_Trajectron/src/evaluation.jl:300\n"
     ]
    },
    {
     "name": "stderr",
     "output_type": "stream",
     "text": [
      "┌ Warning: Time 7.90 [sec]: This evaluation iteration took 0.088 [sec], which exceeds dtc.\n",
      "└ @ RiskSensitiveSAC /home/kang/DRC_Project/DRC_Trajectron/src/evaluation.jl:300\n"
     ]
    },
    {
     "name": "stderr",
     "output_type": "stream",
     "text": [
      "┌ Warning: Time 8.00 [sec]: SAC computation took 0.119 [sec], which exceeds the maximum computation time allowed.\n",
      "└ @ RiskSensitiveSAC /home/kang/DRC_Project/DRC_Trajectron/src/rs_sac_controller.jl:733\n",
      "┌ Warning: Time 8.00 [sec]: This evaluation iteration took 0.12 [sec], which exceeds dtc.\n",
      "└ @ RiskSensitiveSAC /home/kang/DRC_Project/DRC_Trajectron/src/evaluation.jl:300\n"
     ]
    },
    {
     "name": "stderr",
     "output_type": "stream",
     "text": [
      "┌ Warning: Time 8.10 [sec]: This evaluation iteration took 0.09 [sec], which exceeds dtc.\n",
      "└ @ RiskSensitiveSAC /home/kang/DRC_Project/DRC_Trajectron/src/evaluation.jl:300\n"
     ]
    },
    {
     "name": "stderr",
     "output_type": "stream",
     "text": [
      "┌ Warning: Time 8.20 [sec]: This evaluation iteration took 0.091 [sec], which exceeds dtc.\n",
      "└ @ RiskSensitiveSAC /home/kang/DRC_Project/DRC_Trajectron/src/evaluation.jl:300\n"
     ]
    },
    {
     "name": "stderr",
     "output_type": "stream",
     "text": [
      "┌ Warning: Time 8.30 [sec]: This evaluation iteration took 0.092 [sec], which exceeds dtc.\n",
      "└ @ RiskSensitiveSAC /home/kang/DRC_Project/DRC_Trajectron/src/evaluation.jl:300\n"
     ]
    },
    {
     "name": "stderr",
     "output_type": "stream",
     "text": [
      "┌ Warning: Time 8.40 [sec]: This evaluation iteration took 0.091 [sec], which exceeds dtc.\n",
      "└ @ RiskSensitiveSAC /home/kang/DRC_Project/DRC_Trajectron/src/evaluation.jl:300\n"
     ]
    },
    {
     "name": "stderr",
     "output_type": "stream",
     "text": [
      "┌ Warning: Time 8.50 [sec]: SAC computation took 0.12 [sec], which exceeds the maximum computation time allowed.\n",
      "└ @ RiskSensitiveSAC /home/kang/DRC_Project/DRC_Trajectron/src/rs_sac_controller.jl:733\n",
      "┌ Warning: Time 8.50 [sec]: This evaluation iteration took 0.12 [sec], which exceeds dtc.\n",
      "└ @ RiskSensitiveSAC /home/kang/DRC_Project/DRC_Trajectron/src/evaluation.jl:300\n"
     ]
    },
    {
     "name": "stderr",
     "output_type": "stream",
     "text": [
      "┌ Warning: Time 8.60 [sec]: SAC computation took 0.129 [sec], which exceeds the maximum computation time allowed.\n",
      "└ @ RiskSensitiveSAC /home/kang/DRC_Project/DRC_Trajectron/src/rs_sac_controller.jl:733\n",
      "┌ Warning: Time 8.60 [sec]: This evaluation iteration took 0.129 [sec], which exceeds dtc.\n",
      "└ @ RiskSensitiveSAC /home/kang/DRC_Project/DRC_Trajectron/src/evaluation.jl:300\n"
     ]
    },
    {
     "name": "stderr",
     "output_type": "stream",
     "text": [
      "┌ Warning: Time 8.70 [sec]: This evaluation iteration took 0.091 [sec], which exceeds dtc.\n",
      "└ @ RiskSensitiveSAC /home/kang/DRC_Project/DRC_Trajectron/src/evaluation.jl:300\n"
     ]
    },
    {
     "name": "stderr",
     "output_type": "stream",
     "text": [
      "┌ Warning: Time 8.80 [sec]: This evaluation iteration took 0.094 [sec], which exceeds dtc.\n",
      "└ @ RiskSensitiveSAC /home/kang/DRC_Project/DRC_Trajectron/src/evaluation.jl:300\n"
     ]
    },
    {
     "name": "stderr",
     "output_type": "stream",
     "text": [
      "┌ Warning: Time 8.90 [sec]: SAC computation took 0.167 [sec], which exceeds the maximum computation time allowed.\n",
      "└ @ RiskSensitiveSAC /home/kang/DRC_Project/DRC_Trajectron/src/rs_sac_controller.jl:733\n",
      "┌ Warning: Time 8.90 [sec]: This evaluation iteration took 0.167 [sec], which exceeds dtc.\n",
      "└ @ RiskSensitiveSAC /home/kang/DRC_Project/DRC_Trajectron/src/evaluation.jl:300\n"
     ]
    },
    {
     "name": "stderr",
     "output_type": "stream",
     "text": [
      "┌ Warning: Time 9.00 [sec]: This evaluation iteration took 0.084 [sec], which exceeds dtc.\n",
      "└ @ RiskSensitiveSAC /home/kang/DRC_Project/DRC_Trajectron/src/evaluation.jl:300\n"
     ]
    },
    {
     "name": "stderr",
     "output_type": "stream",
     "text": [
      "┌ Warning: Time 9.10 [sec]: SAC computation took 0.106 [sec], which exceeds the maximum computation time allowed.\n",
      "└ @ RiskSensitiveSAC /home/kang/DRC_Project/DRC_Trajectron/src/rs_sac_controller.jl:733\n",
      "┌ Warning: Time 9.10 [sec]: This evaluation iteration took 0.107 [sec], which exceeds dtc.\n",
      "└ @ RiskSensitiveSAC /home/kang/DRC_Project/DRC_Trajectron/src/evaluation.jl:300\n"
     ]
    },
    {
     "name": "stderr",
     "output_type": "stream",
     "text": [
      "┌ Warning: Time 9.20 [sec]: SAC computation took 0.126 [sec], which exceeds the maximum computation time allowed.\n",
      "└ @ RiskSensitiveSAC /home/kang/DRC_Project/DRC_Trajectron/src/rs_sac_controller.jl:733\n",
      "┌ Warning: Time 9.20 [sec]: This evaluation iteration took 0.128 [sec], which exceeds dtc.\n",
      "└ @ RiskSensitiveSAC /home/kang/DRC_Project/DRC_Trajectron/src/evaluation.jl:300\n"
     ]
    },
    {
     "name": "stderr",
     "output_type": "stream",
     "text": [
      "┌ Warning: Time 9.30 [sec]: SAC computation took 0.114 [sec], which exceeds the maximum computation time allowed.\n",
      "└ @ RiskSensitiveSAC /home/kang/DRC_Project/DRC_Trajectron/src/rs_sac_controller.jl:733\n",
      "┌ Warning: Time 9.30 [sec]: This evaluation iteration took 0.114 [sec], which exceeds dtc.\n",
      "└ @ RiskSensitiveSAC /home/kang/DRC_Project/DRC_Trajectron/src/evaluation.jl:300\n"
     ]
    },
    {
     "name": "stderr",
     "output_type": "stream",
     "text": [
      "┌ Warning: Time 9.40 [sec]: SAC computation took 0.116 [sec], which exceeds the maximum computation time allowed.\n",
      "└ @ RiskSensitiveSAC /home/kang/DRC_Project/DRC_Trajectron/src/rs_sac_controller.jl:733\n",
      "┌ Warning: Time 9.40 [sec]: This evaluation iteration took 0.116 [sec], which exceeds dtc.\n",
      "└ @ RiskSensitiveSAC /home/kang/DRC_Project/DRC_Trajectron/src/evaluation.jl:300\n"
     ]
    },
    {
     "name": "stderr",
     "output_type": "stream",
     "text": [
      "┌ Warning: Time 9.50 [sec]: SAC computation took 0.122 [sec], which exceeds the maximum computation time allowed.\n",
      "└ @ RiskSensitiveSAC /home/kang/DRC_Project/DRC_Trajectron/src/rs_sac_controller.jl:733\n",
      "┌ Warning: Time 9.50 [sec]: This evaluation iteration took 0.122 [sec], which exceeds dtc.\n",
      "└ @ RiskSensitiveSAC /home/kang/DRC_Project/DRC_Trajectron/src/evaluation.jl:300\n"
     ]
    },
    {
     "name": "stderr",
     "output_type": "stream",
     "text": [
      "┌ Warning: Time 9.60 [sec]: SAC computation took 0.116 [sec], which exceeds the maximum computation time allowed.\n",
      "└ @ RiskSensitiveSAC /home/kang/DRC_Project/DRC_Trajectron/src/rs_sac_controller.jl:733\n",
      "┌ Warning: Time 9.60 [sec]: This evaluation iteration took 0.117 [sec], which exceeds dtc.\n",
      "└ @ RiskSensitiveSAC /home/kang/DRC_Project/DRC_Trajectron/src/evaluation.jl:300\n"
     ]
    },
    {
     "name": "stderr",
     "output_type": "stream",
     "text": [
      "┌ Warning: Time 9.70 [sec]: SAC computation took 0.103 [sec], which exceeds the maximum computation time allowed.\n",
      "└ @ RiskSensitiveSAC /home/kang/DRC_Project/DRC_Trajectron/src/rs_sac_controller.jl:733\n",
      "┌ Warning: Time 9.70 [sec]: This evaluation iteration took 0.104 [sec], which exceeds dtc.\n",
      "└ @ RiskSensitiveSAC /home/kang/DRC_Project/DRC_Trajectron/src/evaluation.jl:300\n"
     ]
    },
    {
     "name": "stderr",
     "output_type": "stream",
     "text": [
      "┌ Warning: Time 9.80 [sec]: This evaluation iteration took 0.084 [sec], which exceeds dtc.\n",
      "└ @ RiskSensitiveSAC /home/kang/DRC_Project/DRC_Trajectron/src/evaluation.jl:300\n"
     ]
    },
    {
     "name": "stderr",
     "output_type": "stream",
     "text": [
      "┌ Warning: Time 9.90 [sec]: This evaluation iteration took 0.096 [sec], which exceeds dtc.\n",
      "└ @ RiskSensitiveSAC /home/kang/DRC_Project/DRC_Trajectron/src/evaluation.jl:300\n"
     ]
    },
    {
     "name": "stdout",
     "output_type": "stream",
     "text": [
      "Total Collision: 0, Total Position Cost: 79.68344255887777, Total Control Cost: 1.9918952474656182, Minimum Distance: 1.0367498663783985, Experiment 19: "
     ]
    },
    {
     "name": "stderr",
     "output_type": "stream",
     "text": [
      "┌ Warning: Time 0.10 [sec]: This evaluation iteration took 0.088 [sec], which exceeds dtc.\n",
      "└ @ RiskSensitiveSAC /home/kang/DRC_Project/DRC_Trajectron/src/evaluation.jl:300\n"
     ]
    },
    {
     "name": "stderr",
     "output_type": "stream",
     "text": [
      "┌ Warning: Time 0.20 [sec]: This evaluation iteration took 0.088 [sec], which exceeds dtc.\n",
      "└ @ RiskSensitiveSAC /home/kang/DRC_Project/DRC_Trajectron/src/evaluation.jl:300\n"
     ]
    },
    {
     "name": "stderr",
     "output_type": "stream",
     "text": [
      "┌ Warning: Time 0.30 [sec]: This evaluation iteration took 0.091 [sec], which exceeds dtc.\n",
      "└ @ RiskSensitiveSAC /home/kang/DRC_Project/DRC_Trajectron/src/evaluation.jl:300\n"
     ]
    },
    {
     "name": "stderr",
     "output_type": "stream",
     "text": [
      "┌ Warning: Time 0.40 [sec]: SAC computation took 0.133 [sec], which exceeds the maximum computation time allowed.\n",
      "└ @ RiskSensitiveSAC /home/kang/DRC_Project/DRC_Trajectron/src/rs_sac_controller.jl:733\n",
      "┌ Warning: Time 0.40 [sec]: This evaluation iteration took 0.134 [sec], which exceeds dtc.\n",
      "└ @ RiskSensitiveSAC /home/kang/DRC_Project/DRC_Trajectron/src/evaluation.jl:300\n"
     ]
    },
    {
     "name": "stderr",
     "output_type": "stream",
     "text": [
      "┌ Warning: Time 0.50 [sec]: This evaluation iteration took 0.093 [sec], which exceeds dtc.\n",
      "└ @ RiskSensitiveSAC /home/kang/DRC_Project/DRC_Trajectron/src/evaluation.jl:300\n"
     ]
    },
    {
     "name": "stderr",
     "output_type": "stream",
     "text": [
      "┌ Warning: Time 0.60 [sec]: SAC computation took 0.128 [sec], which exceeds the maximum computation time allowed.\n",
      "└ @ RiskSensitiveSAC /home/kang/DRC_Project/DRC_Trajectron/src/rs_sac_controller.jl:733\n",
      "┌ Warning: Time 0.60 [sec]: This evaluation iteration took 0.129 [sec], which exceeds dtc.\n",
      "└ @ RiskSensitiveSAC /home/kang/DRC_Project/DRC_Trajectron/src/evaluation.jl:300\n"
     ]
    },
    {
     "name": "stderr",
     "output_type": "stream",
     "text": [
      "┌ Warning: Time 0.70 [sec]: SAC computation took 0.12 [sec], which exceeds the maximum computation time allowed.\n",
      "└ @ RiskSensitiveSAC /home/kang/DRC_Project/DRC_Trajectron/src/rs_sac_controller.jl:733\n",
      "┌ Warning: Time 0.70 [sec]: This evaluation iteration took 0.121 [sec], which exceeds dtc.\n",
      "└ @ RiskSensitiveSAC /home/kang/DRC_Project/DRC_Trajectron/src/evaluation.jl:300\n"
     ]
    },
    {
     "name": "stderr",
     "output_type": "stream",
     "text": [
      "┌ Warning: Time 0.80 [sec]: SAC computation took 0.116 [sec], which exceeds the maximum computation time allowed.\n",
      "└ @ RiskSensitiveSAC /home/kang/DRC_Project/DRC_Trajectron/src/rs_sac_controller.jl:733\n",
      "┌ Warning: Time 0.80 [sec]: This evaluation iteration took 0.117 [sec], which exceeds dtc.\n",
      "└ @ RiskSensitiveSAC /home/kang/DRC_Project/DRC_Trajectron/src/evaluation.jl:300\n"
     ]
    },
    {
     "name": "stderr",
     "output_type": "stream",
     "text": [
      "┌ Warning: Time 0.90 [sec]: SAC computation took 0.115 [sec], which exceeds the maximum computation time allowed.\n",
      "└ @ RiskSensitiveSAC /home/kang/DRC_Project/DRC_Trajectron/src/rs_sac_controller.jl:733\n",
      "┌ Warning: Time 0.90 [sec]: This evaluation iteration took 0.116 [sec], which exceeds dtc.\n",
      "└ @ RiskSensitiveSAC /home/kang/DRC_Project/DRC_Trajectron/src/evaluation.jl:300\n"
     ]
    },
    {
     "name": "stderr",
     "output_type": "stream",
     "text": [
      "┌ Warning: Time 1.00 [sec]: SAC computation took 0.112 [sec], which exceeds the maximum computation time allowed.\n",
      "└ @ RiskSensitiveSAC /home/kang/DRC_Project/DRC_Trajectron/src/rs_sac_controller.jl:733\n",
      "┌ Warning: Time 1.00 [sec]: This evaluation iteration took 0.112 [sec], which exceeds dtc.\n",
      "└ @ RiskSensitiveSAC /home/kang/DRC_Project/DRC_Trajectron/src/evaluation.jl:300\n"
     ]
    },
    {
     "name": "stderr",
     "output_type": "stream",
     "text": [
      "┌ Warning: Time 1.10 [sec]: SAC computation took 0.192 [sec], which exceeds the maximum computation time allowed.\n",
      "└ @ RiskSensitiveSAC /home/kang/DRC_Project/DRC_Trajectron/src/rs_sac_controller.jl:733\n",
      "┌ Warning: Time 1.10 [sec]: This evaluation iteration took 0.193 [sec], which exceeds dtc.\n",
      "└ @ RiskSensitiveSAC /home/kang/DRC_Project/DRC_Trajectron/src/evaluation.jl:300\n"
     ]
    },
    {
     "name": "stderr",
     "output_type": "stream",
     "text": [
      "┌ Warning: Time 1.20 [sec]: SAC computation took 0.106 [sec], which exceeds the maximum computation time allowed.\n",
      "└ @ RiskSensitiveSAC /home/kang/DRC_Project/DRC_Trajectron/src/rs_sac_controller.jl:733\n",
      "┌ Warning: Time 1.20 [sec]: This evaluation iteration took 0.107 [sec], which exceeds dtc.\n",
      "└ @ RiskSensitiveSAC /home/kang/DRC_Project/DRC_Trajectron/src/evaluation.jl:300\n"
     ]
    },
    {
     "name": "stderr",
     "output_type": "stream",
     "text": [
      "┌ Warning: Time 1.30 [sec]: SAC computation took 0.12 [sec], which exceeds the maximum computation time allowed.\n",
      "└ @ RiskSensitiveSAC /home/kang/DRC_Project/DRC_Trajectron/src/rs_sac_controller.jl:733\n",
      "┌ Warning: Time 1.30 [sec]: This evaluation iteration took 0.121 [sec], which exceeds dtc.\n",
      "└ @ RiskSensitiveSAC /home/kang/DRC_Project/DRC_Trajectron/src/evaluation.jl:300\n"
     ]
    },
    {
     "name": "stderr",
     "output_type": "stream",
     "text": [
      "┌ Warning: Time 1.40 [sec]: SAC computation took 0.119 [sec], which exceeds the maximum computation time allowed.\n",
      "└ @ RiskSensitiveSAC /home/kang/DRC_Project/DRC_Trajectron/src/rs_sac_controller.jl:733\n",
      "┌ Warning: Time 1.40 [sec]: This evaluation iteration took 0.12 [sec], which exceeds dtc.\n",
      "└ @ RiskSensitiveSAC /home/kang/DRC_Project/DRC_Trajectron/src/evaluation.jl:300\n"
     ]
    },
    {
     "name": "stderr",
     "output_type": "stream",
     "text": [
      "┌ Warning: Time 1.50 [sec]: This evaluation iteration took 0.093 [sec], which exceeds dtc.\n",
      "└ @ RiskSensitiveSAC /home/kang/DRC_Project/DRC_Trajectron/src/evaluation.jl:300\n"
     ]
    },
    {
     "name": "stderr",
     "output_type": "stream",
     "text": [
      "┌ Warning: Time 1.60 [sec]: This evaluation iteration took 0.095 [sec], which exceeds dtc.\n",
      "└ @ RiskSensitiveSAC /home/kang/DRC_Project/DRC_Trajectron/src/evaluation.jl:300\n"
     ]
    },
    {
     "name": "stderr",
     "output_type": "stream",
     "text": [
      "┌ Warning: Time 1.70 [sec]: This evaluation iteration took 0.088 [sec], which exceeds dtc.\n",
      "└ @ RiskSensitiveSAC /home/kang/DRC_Project/DRC_Trajectron/src/evaluation.jl:300\n"
     ]
    },
    {
     "name": "stderr",
     "output_type": "stream",
     "text": [
      "┌ Warning: Time 1.80 [sec]: SAC computation took 0.11 [sec], which exceeds the maximum computation time allowed.\n",
      "└ @ RiskSensitiveSAC /home/kang/DRC_Project/DRC_Trajectron/src/rs_sac_controller.jl:733\n",
      "┌ Warning: Time 1.80 [sec]: This evaluation iteration took 0.111 [sec], which exceeds dtc.\n",
      "└ @ RiskSensitiveSAC /home/kang/DRC_Project/DRC_Trajectron/src/evaluation.jl:300\n"
     ]
    },
    {
     "name": "stderr",
     "output_type": "stream",
     "text": [
      "┌ Warning: Time 1.90 [sec]: This evaluation iteration took 0.089 [sec], which exceeds dtc.\n",
      "└ @ RiskSensitiveSAC /home/kang/DRC_Project/DRC_Trajectron/src/evaluation.jl:300\n"
     ]
    },
    {
     "name": "stderr",
     "output_type": "stream",
     "text": [
      "┌ Warning: Time 2.00 [sec]: This evaluation iteration took 0.088 [sec], which exceeds dtc.\n",
      "└ @ RiskSensitiveSAC /home/kang/DRC_Project/DRC_Trajectron/src/evaluation.jl:300\n"
     ]
    },
    {
     "name": "stderr",
     "output_type": "stream",
     "text": [
      "┌ Warning: Time 2.10 [sec]: SAC computation took 0.11 [sec], which exceeds the maximum computation time allowed.\n",
      "└ @ RiskSensitiveSAC /home/kang/DRC_Project/DRC_Trajectron/src/rs_sac_controller.jl:733\n",
      "┌ Warning: Time 2.10 [sec]: This evaluation iteration took 0.111 [sec], which exceeds dtc.\n",
      "└ @ RiskSensitiveSAC /home/kang/DRC_Project/DRC_Trajectron/src/evaluation.jl:300\n"
     ]
    },
    {
     "name": "stderr",
     "output_type": "stream",
     "text": [
      "┌ Warning: Time 2.20 [sec]: This evaluation iteration took 0.091 [sec], which exceeds dtc.\n",
      "└ @ RiskSensitiveSAC /home/kang/DRC_Project/DRC_Trajectron/src/evaluation.jl:300\n"
     ]
    },
    {
     "name": "stderr",
     "output_type": "stream",
     "text": [
      "┌ Warning: Time 2.30 [sec]: This evaluation iteration took 0.087 [sec], which exceeds dtc.\n",
      "└ @ RiskSensitiveSAC /home/kang/DRC_Project/DRC_Trajectron/src/evaluation.jl:300\n"
     ]
    },
    {
     "name": "stderr",
     "output_type": "stream",
     "text": [
      "┌ Warning: Time 2.40 [sec]: SAC computation took 0.113 [sec], which exceeds the maximum computation time allowed.\n",
      "└ @ RiskSensitiveSAC /home/kang/DRC_Project/DRC_Trajectron/src/rs_sac_controller.jl:733\n",
      "┌ Warning: Time 2.40 [sec]: This evaluation iteration took 0.115 [sec], which exceeds dtc.\n",
      "└ @ RiskSensitiveSAC /home/kang/DRC_Project/DRC_Trajectron/src/evaluation.jl:300\n"
     ]
    },
    {
     "name": "stderr",
     "output_type": "stream",
     "text": [
      "┌ Warning: Time 2.50 [sec]: SAC computation took 0.123 [sec], which exceeds the maximum computation time allowed.\n",
      "└ @ RiskSensitiveSAC /home/kang/DRC_Project/DRC_Trajectron/src/rs_sac_controller.jl:733\n",
      "┌ Warning: Time 2.50 [sec]: This evaluation iteration took 0.123 [sec], which exceeds dtc.\n",
      "└ @ RiskSensitiveSAC /home/kang/DRC_Project/DRC_Trajectron/src/evaluation.jl:300\n"
     ]
    },
    {
     "name": "stderr",
     "output_type": "stream",
     "text": [
      "┌ Warning: Time 2.60 [sec]: SAC computation took 0.114 [sec], which exceeds the maximum computation time allowed.\n",
      "└ @ RiskSensitiveSAC /home/kang/DRC_Project/DRC_Trajectron/src/rs_sac_controller.jl:733\n",
      "┌ Warning: Time 2.60 [sec]: This evaluation iteration took 0.115 [sec], which exceeds dtc.\n",
      "└ @ RiskSensitiveSAC /home/kang/DRC_Project/DRC_Trajectron/src/evaluation.jl:300\n"
     ]
    },
    {
     "name": "stderr",
     "output_type": "stream",
     "text": [
      "┌ Warning: Time 2.70 [sec]: SAC computation took 0.116 [sec], which exceeds the maximum computation time allowed.\n",
      "└ @ RiskSensitiveSAC /home/kang/DRC_Project/DRC_Trajectron/src/rs_sac_controller.jl:733\n",
      "┌ Warning: Time 2.70 [sec]: This evaluation iteration took 0.117 [sec], which exceeds dtc.\n",
      "└ @ RiskSensitiveSAC /home/kang/DRC_Project/DRC_Trajectron/src/evaluation.jl:300\n"
     ]
    },
    {
     "name": "stderr",
     "output_type": "stream",
     "text": [
      "┌ Warning: Time 2.80 [sec]: This evaluation iteration took 0.1 [sec], which exceeds dtc.\n",
      "└ @ RiskSensitiveSAC /home/kang/DRC_Project/DRC_Trajectron/src/evaluation.jl:300\n"
     ]
    },
    {
     "name": "stderr",
     "output_type": "stream",
     "text": [
      "┌ Warning: Time 2.90 [sec]: This evaluation iteration took 0.096 [sec], which exceeds dtc.\n",
      "└ @ RiskSensitiveSAC /home/kang/DRC_Project/DRC_Trajectron/src/evaluation.jl:300\n"
     ]
    },
    {
     "name": "stderr",
     "output_type": "stream",
     "text": [
      "┌ Warning: Time 3.00 [sec]: This evaluation iteration took 0.089 [sec], which exceeds dtc.\n",
      "└ @ RiskSensitiveSAC /home/kang/DRC_Project/DRC_Trajectron/src/evaluation.jl:300\n"
     ]
    },
    {
     "name": "stderr",
     "output_type": "stream",
     "text": [
      "┌ Warning: Time 3.10 [sec]: This evaluation iteration took 0.09 [sec], which exceeds dtc.\n",
      "└ @ RiskSensitiveSAC /home/kang/DRC_Project/DRC_Trajectron/src/evaluation.jl:300\n"
     ]
    },
    {
     "name": "stderr",
     "output_type": "stream",
     "text": [
      "┌ Warning: Time 3.20 [sec]: This evaluation iteration took 0.089 [sec], which exceeds dtc.\n",
      "└ @ RiskSensitiveSAC /home/kang/DRC_Project/DRC_Trajectron/src/evaluation.jl:300\n"
     ]
    },
    {
     "name": "stderr",
     "output_type": "stream",
     "text": [
      "┌ Warning: Time 3.30 [sec]: SAC computation took 0.138 [sec], which exceeds the maximum computation time allowed.\n",
      "└ @ RiskSensitiveSAC /home/kang/DRC_Project/DRC_Trajectron/src/rs_sac_controller.jl:733\n",
      "┌ Warning: Time 3.30 [sec]: This evaluation iteration took 0.138 [sec], which exceeds dtc.\n",
      "└ @ RiskSensitiveSAC /home/kang/DRC_Project/DRC_Trajectron/src/evaluation.jl:300\n"
     ]
    },
    {
     "name": "stderr",
     "output_type": "stream",
     "text": [
      "┌ Warning: Time 3.40 [sec]: This evaluation iteration took 0.09 [sec], which exceeds dtc.\n",
      "└ @ RiskSensitiveSAC /home/kang/DRC_Project/DRC_Trajectron/src/evaluation.jl:300\n"
     ]
    },
    {
     "name": "stderr",
     "output_type": "stream",
     "text": [
      "┌ Warning: Time 3.50 [sec]: This evaluation iteration took 0.087 [sec], which exceeds dtc.\n",
      "└ @ RiskSensitiveSAC /home/kang/DRC_Project/DRC_Trajectron/src/evaluation.jl:300\n"
     ]
    },
    {
     "name": "stderr",
     "output_type": "stream",
     "text": [
      "┌ Warning: Time 3.60 [sec]: This evaluation iteration took 0.083 [sec], which exceeds dtc.\n",
      "└ @ RiskSensitiveSAC /home/kang/DRC_Project/DRC_Trajectron/src/evaluation.jl:300\n"
     ]
    },
    {
     "name": "stderr",
     "output_type": "stream",
     "text": [
      "┌ Warning: Time 3.70 [sec]: SAC computation took 0.102 [sec], which exceeds the maximum computation time allowed.\n",
      "└ @ RiskSensitiveSAC /home/kang/DRC_Project/DRC_Trajectron/src/rs_sac_controller.jl:733\n",
      "┌ Warning: Time 3.70 [sec]: This evaluation iteration took 0.102 [sec], which exceeds dtc.\n",
      "└ @ RiskSensitiveSAC /home/kang/DRC_Project/DRC_Trajectron/src/evaluation.jl:300\n"
     ]
    },
    {
     "name": "stderr",
     "output_type": "stream",
     "text": [
      "┌ Warning: Time 3.80 [sec]: This evaluation iteration took 0.088 [sec], which exceeds dtc.\n",
      "└ @ RiskSensitiveSAC /home/kang/DRC_Project/DRC_Trajectron/src/evaluation.jl:300\n"
     ]
    },
    {
     "name": "stderr",
     "output_type": "stream",
     "text": [
      "┌ Warning: Time 3.90 [sec]: This evaluation iteration took 0.08 [sec], which exceeds dtc.\n",
      "└ @ RiskSensitiveSAC /home/kang/DRC_Project/DRC_Trajectron/src/evaluation.jl:300\n"
     ]
    },
    {
     "name": "stderr",
     "output_type": "stream",
     "text": [
      "┌ Warning: Time 4.00 [sec]: This evaluation iteration took 0.094 [sec], which exceeds dtc.\n",
      "└ @ RiskSensitiveSAC /home/kang/DRC_Project/DRC_Trajectron/src/evaluation.jl:300\n"
     ]
    },
    {
     "name": "stderr",
     "output_type": "stream",
     "text": [
      "┌ Warning: Time 4.10 [sec]: This evaluation iteration took 0.086 [sec], which exceeds dtc.\n",
      "└ @ RiskSensitiveSAC /home/kang/DRC_Project/DRC_Trajectron/src/evaluation.jl:300\n"
     ]
    },
    {
     "name": "stderr",
     "output_type": "stream",
     "text": [
      "┌ Warning: Time 4.20 [sec]: This evaluation iteration took 0.09 [sec], which exceeds dtc.\n",
      "└ @ RiskSensitiveSAC /home/kang/DRC_Project/DRC_Trajectron/src/evaluation.jl:300\n"
     ]
    },
    {
     "name": "stderr",
     "output_type": "stream",
     "text": [
      "┌ Warning: Time 4.30 [sec]: This evaluation iteration took 0.095 [sec], which exceeds dtc.\n",
      "└ @ RiskSensitiveSAC /home/kang/DRC_Project/DRC_Trajectron/src/evaluation.jl:300\n"
     ]
    },
    {
     "name": "stderr",
     "output_type": "stream",
     "text": [
      "┌ Warning: Time 4.40 [sec]: This evaluation iteration took 0.091 [sec], which exceeds dtc.\n",
      "└ @ RiskSensitiveSAC /home/kang/DRC_Project/DRC_Trajectron/src/evaluation.jl:300\n"
     ]
    },
    {
     "name": "stderr",
     "output_type": "stream",
     "text": [
      "┌ Warning: Time 4.50 [sec]: This evaluation iteration took 0.083 [sec], which exceeds dtc.\n",
      "└ @ RiskSensitiveSAC /home/kang/DRC_Project/DRC_Trajectron/src/evaluation.jl:300\n"
     ]
    },
    {
     "name": "stderr",
     "output_type": "stream",
     "text": [
      "┌ Warning: Time 4.60 [sec]: This evaluation iteration took 0.099 [sec], which exceeds dtc.\n",
      "└ @ RiskSensitiveSAC /home/kang/DRC_Project/DRC_Trajectron/src/evaluation.jl:300\n"
     ]
    },
    {
     "name": "stderr",
     "output_type": "stream",
     "text": [
      "┌ Warning: Time 4.70 [sec]: This evaluation iteration took 0.089 [sec], which exceeds dtc.\n",
      "└ @ RiskSensitiveSAC /home/kang/DRC_Project/DRC_Trajectron/src/evaluation.jl:300\n"
     ]
    },
    {
     "name": "stderr",
     "output_type": "stream",
     "text": [
      "┌ Warning: Time 4.80 [sec]: This evaluation iteration took 0.099 [sec], which exceeds dtc.\n",
      "└ @ RiskSensitiveSAC /home/kang/DRC_Project/DRC_Trajectron/src/evaluation.jl:300\n"
     ]
    },
    {
     "name": "stderr",
     "output_type": "stream",
     "text": [
      "┌ Warning: Time 4.90 [sec]: SAC computation took 0.11 [sec], which exceeds the maximum computation time allowed.\n",
      "└ @ RiskSensitiveSAC /home/kang/DRC_Project/DRC_Trajectron/src/rs_sac_controller.jl:733\n",
      "┌ Warning: Time 4.90 [sec]: This evaluation iteration took 0.111 [sec], which exceeds dtc.\n",
      "└ @ RiskSensitiveSAC /home/kang/DRC_Project/DRC_Trajectron/src/evaluation.jl:300\n"
     ]
    },
    {
     "name": "stderr",
     "output_type": "stream",
     "text": [
      "Excessive output truncated after 524479 bytes."
     ]
    },
    {
     "ename": "TaskFailedException",
     "evalue": "TaskFailedException\n\n    nested task error: InterruptException:\n    Stacktrace:\n      [1] setindex!\n        @ ~/.julia/packages/GPUArrays/Zecv7/src/host/indexing.jl:109 [inlined]\n      [2] repeat_outer(arr::CUDA.CuArray{Float32, 4, CUDA.Mem.DeviceBuffer}, dims::NTuple{4, Int64})\n        @ Base._RepeatInnerOuter ./abstractarraymath.jl:497\n      [3] repeat_inner_outer\n        @ ./abstractarraymath.jl:459 [inlined]\n      [4] repeat(arr::CUDA.CuArray{Float32, 4, CUDA.Mem.DeviceBuffer}; inner::Nothing, outer::NTuple{4, Int64})\n        @ Base._RepeatInnerOuter ./abstractarraymath.jl:401\n      [5] #repeat#239\n        @ ./abstractarraymath.jl:393 [inlined]\n      [6] get_perturbed_schedule(w_init::WorldState, sim_result::SimulationResult, u_perturb_arrays::Vector{Vector{Vector{Float64}}}, target_trajectory::OrderedCollections.OrderedDict{RobotOS.Time, Vector{Float64}}, prediction_dict::Dict{String, Array{Float64, 3}}, sim_param::SimulationParameter, cnt_param::ControlParameter)\n        @ RiskSensitiveSAC ~/DRC_Project/DRC_Trajectron/src/rs_sac_controller.jl:619\n      [7] macro expansion\n        @ ./timing.jl:382 [inlined]\n      [8] sac_control_update\n        @ ~/DRC_Project/DRC_Trajectron/src/rs_sac_controller.jl:724 [inlined]\n      [9] macro expansion\n        @ ~/DRC_Project/DRC_Trajectron/src/rs_sac_controller.jl:281 [inlined]\n     [10] (::RiskSensitiveSAC.var\"#52#53\"{RSSACController, WorldState, OrderedCollections.OrderedDict{RobotOS.Time, Vector{Float64}}, OrderedCollections.OrderedDict{RobotOS.Time, Vector{Float64}}})()\n        @ RiskSensitiveSAC ./task.jl:134",
     "output_type": "error",
     "traceback": [
      "TaskFailedException\n",
      "\n",
      "    nested task error: InterruptException:\n",
      "    Stacktrace:\n",
      "      [1] setindex!\n",
      "        @ ~/.julia/packages/GPUArrays/Zecv7/src/host/indexing.jl:109 [inlined]\n",
      "      [2] repeat_outer(arr::CUDA.CuArray{Float32, 4, CUDA.Mem.DeviceBuffer}, dims::NTuple{4, Int64})\n",
      "        @ Base._RepeatInnerOuter ./abstractarraymath.jl:497\n",
      "      [3] repeat_inner_outer\n",
      "        @ ./abstractarraymath.jl:459 [inlined]\n",
      "      [4] repeat(arr::CUDA.CuArray{Float32, 4, CUDA.Mem.DeviceBuffer}; inner::Nothing, outer::NTuple{4, Int64})\n",
      "        @ Base._RepeatInnerOuter ./abstractarraymath.jl:401\n",
      "      [5] #repeat#239\n",
      "        @ ./abstractarraymath.jl:393 [inlined]\n",
      "      [6] get_perturbed_schedule(w_init::WorldState, sim_result::SimulationResult, u_perturb_arrays::Vector{Vector{Vector{Float64}}}, target_trajectory::OrderedCollections.OrderedDict{RobotOS.Time, Vector{Float64}}, prediction_dict::Dict{String, Array{Float64, 3}}, sim_param::SimulationParameter, cnt_param::ControlParameter)\n",
      "        @ RiskSensitiveSAC ~/DRC_Project/DRC_Trajectron/src/rs_sac_controller.jl:619\n",
      "      [7] macro expansion\n",
      "        @ ./timing.jl:382 [inlined]\n",
      "      [8] sac_control_update\n",
      "        @ ~/DRC_Project/DRC_Trajectron/src/rs_sac_controller.jl:724 [inlined]\n",
      "      [9] macro expansion\n",
      "        @ ~/DRC_Project/DRC_Trajectron/src/rs_sac_controller.jl:281 [inlined]\n",
      "     [10] (::RiskSensitiveSAC.var\"#52#53\"{RSSACController, WorldState, OrderedCollections.OrderedDict{RobotOS.Time, Vector{Float64}}, OrderedCollections.OrderedDict{RobotOS.Time, Vector{Float64}}})()\n",
      "        @ RiskSensitiveSAC ./task.jl:134\n",
      "\n",
      "Stacktrace:\n",
      " [1] wait\n",
      "   @ ./task.jl:345 [inlined]\n",
      " [2] evaluate(scene_loader::SyntheticSceneLoader, controller::RSSACController, w_init::WorldState, ego_pos_goal_vec::Vector{Float64}, target_speed::Float64, measurement_schedule::Vector{RobotOS.Time}, target_trajectory::OrderedCollections.OrderedDict{RobotOS.Time, Vector{Float64}}, pos_error_replan::Float64; ado_inputs_init::Nothing, nominal_control::Bool, ado_id_removed::Nothing, predictor::Nothing)\n",
      "   @ RiskSensitiveSAC ~/DRC_Project/DRC_Trajectron/src/evaluation.jl:242\n",
      " [3] top-level scope\n",
      "   @ ~/DRC_Project/DRC_Trajectron/notebook/rssac_sensitivity_analysis.ipynb:20"
     ]
    }
   ],
   "source": [
    "for experiment_iter in 1:100\n",
    "    print(\"Experiment $experiment_iter: \")\n",
    "\n",
    "    scene_loader, controller, w_init, measurement_schedule, target_trajectory, target_speed = \n",
    "    controller_setup(scene_param,\n",
    "                     predictor_param,\n",
    "                     prediction_device=prediction_device,\n",
    "                     cost_param=cost_param,\n",
    "                     cnt_param=cnt_param,\n",
    "                     dtc=dtc,\n",
    "                     dto=dto,\n",
    "                     ado_pos_init_dict=ado_pos_init_dict,\n",
    "                     ado_vel_dict=ado_vel_dict,\n",
    "                     ego_pos_init_vec=ego_pos_init_vec,\n",
    "                     ego_pos_goal_vec=ego_pos_goal_vec,\n",
    "                     target_speed=target_speed,\n",
    "                     sim_horizon=sim_horizon,\n",
    "                     verbose=false);\n",
    "\n",
    "    result, ~, ~ = evaluate(scene_loader, controller, w_init, ego_pos_goal_vec,\n",
    "                        target_speed, measurement_schedule, target_trajectory,\n",
    "                        pos_error_replan, nominal_control=false);\n",
    "\n",
    "    minimum_dist = minimum([minimum(vcat([norm(get_position(w.e_state) - ap) for ap in values(w.ap_dict)], Inf))\n",
    "                                for w in result.w_history])\n",
    "    \n",
    "    \n",
    "    print(\"Total Collision: $(result.total_col), \")\n",
    "    print(\"Total Position Cost: $(result.total_pos_cost), \")\n",
    "    print(\"Total Control Cost: $(result.total_cnt_cost), \")\n",
    "    print(\"Minimum Distance: $minimum_dist, \")\n",
    "\n",
    "    push!(collision, result.total_col)\n",
    "    push!(position_cost, result.total_pos_cost)\n",
    "    push!(control_cost, result.total_cnt_cost)\n",
    "    push!(minimum_dist_list, minimum_dist)\n",
    "\n",
    "    # make_gif(result, dtplot=0.1, fps=5, xlim=(-6., 6.), ylim=(-6., 6.), figsize=(600, 400), \n",
    "    #             legendfontsize=7, legend=:topright, markersize=5., filename=\"rssac_data_trajectron_$(experiment_iter).gif\",\n",
    "    #             show_nominal_trajectory=false)\n",
    "\n",
    "\n",
    "    if experiment_iter % 50 == 0\n",
    "        CSV.write(\"trajectron_rssac_$(experiment_iter).csv\", DataFrame(collision=collision, position_cost=position_cost, control_cost=control_cost, minimum_dist=minimum_dist_list))\n",
    "    end\n",
    "end"
   ]
  },
  {
   "cell_type": "code",
   "execution_count": 6,
   "metadata": {},
   "outputs": [],
   "source": [
    "make_gif(result, dtplot=0.02, fps=50, xlim=(-6., 6.), ylim=(-6., 6.), figsize=(600, 400), \n",
    "         legendfontsize=7, legend=:topright, markersize=5., filename=\"1_synthetic_gaussian.gif\",\n",
    "         show_nominal_trajectory=false)"
   ]
  }
 ],
 "metadata": {
  "@webio": {
   "lastCommId": null,
   "lastKernelId": null
  },
  "kernelspec": {
   "display_name": "Julia 1.8.5",
   "language": "julia",
   "name": "julia-1.8"
  },
  "language_info": {
   "file_extension": ".jl",
   "mimetype": "application/julia",
   "name": "julia",
   "version": "1.8.5"
  }
 },
 "nbformat": 4,
 "nbformat_minor": 4
}
