{
 "cells": [
  {
   "cell_type": "code",
   "execution_count": 2,
   "metadata": {},
   "outputs": [],
   "source": [
    "import matplotlib.pyplot as plt\n",
    "import numpy as np\n",
    "import pandas as pd"
   ]
  },
  {
   "cell_type": "code",
   "execution_count": 3,
   "metadata": {},
   "outputs": [],
   "source": [
    "drc_005_dist_mean = 0.833131\n",
    "drc_005_dist_std = 0.171648\n",
    "\n",
    "drc_005_pos_mean = 181.2589\n",
    "drc_005_pos_std = 19.8202"
   ]
  },
  {
   "cell_type": "code",
   "execution_count": 4,
   "metadata": {},
   "outputs": [],
   "source": [
    "drc_010_dist_mean = 0.691847\n",
    "drc_010_dist_std = 0.165252\n",
    "\n",
    "drc_010_pos_mean = 153.0818\n",
    "drc_010_pos_std = 14.4086"
   ]
  },
  {
   "cell_type": "code",
   "execution_count": 5,
   "metadata": {},
   "outputs": [],
   "source": [
    "drc_015_dist_mean = 0.644627\n",
    "drc_015_dist_std = 0.160229\n",
    "\n",
    "drc_015_pos_mean = 139.65\n",
    "drc_015_pos_std = 14.67"
   ]
  },
  {
   "cell_type": "code",
   "execution_count": 6,
   "metadata": {},
   "outputs": [],
   "source": [
    "rssac_0_dist_mean = 1.069703\n",
    "rssac_0_dist_std = 0.107148\n",
    "\n",
    "rssac_0_pos_mean = 143.88\n",
    "rssac_0_pos_std = 8.4242"
   ]
  },
  {
   "cell_type": "code",
   "execution_count": 7,
   "metadata": {},
   "outputs": [],
   "source": [
    "rssac_1_dist_mean = 1.1557\n",
    "rssac_1_dist_std = 0.132165\n",
    "\n",
    "rssac_1_pos_mean = 184.71\n",
    "rssac_1_pos_std = 26.12"
   ]
  },
  {
   "cell_type": "code",
   "execution_count": 40,
   "metadata": {},
   "outputs": [
    {
     "data": {
      "image/png": "[encoded data removed]",
      "text/plain": [
       "<Figure size 432x288 with 1 Axes>"
      ]
     },
     "metadata": {
      "needs_background": "light"
     },
     "output_type": "display_data"
    }
   ],
   "source": [
    "# Create the plot\n",
    "fig, ax = plt.subplots()\n",
    "pos_cross_line_length = 2\n",
    "dist_cross_line_length = 0.01\n",
    "marker_size = 100\n",
    "\n",
    "# Plot mean point\n",
    "ax.scatter(drc_005_dist_mean, drc_005_pos_mean, color='red', label=\"DRC, \"+r\"$\\epsilon$\" + \"=0.05\", marker='o', s=marker_size)\n",
    "ax.scatter(drc_010_dist_mean, drc_010_pos_mean, color='blue', label=\"DRC, \"+r\"$\\epsilon$\" + \"=0.1\", marker='^', s=marker_size)\n",
    "ax.scatter(drc_015_dist_mean, drc_015_pos_mean, color='green', label=\"DRC, \"+r\"$\\epsilon$\" + \"=0.15\", marker='s', s=marker_size)\n",
    "\n",
    "ax.scatter(rssac_0_dist_mean, rssac_0_pos_mean, color='orange', label=\"RSSAC, \"+r\"$\\sigma$\" + \"=0.0\", marker='*', s=marker_size)\n",
    "ax.scatter(rssac_1_dist_mean, rssac_1_pos_mean, color='purple', label=\"RSSAC, \"+r\"$\\sigma$\" + \"=1.0\", marker='P', s=marker_size)\n",
    "\n",
    "# Plot standard deviation lines to form a cross\n",
    "ax.plot([drc_005_dist_mean - drc_005_dist_std, drc_005_dist_mean + drc_005_dist_std], [drc_005_pos_mean, drc_005_pos_mean], color='red', linestyle='-', linewidth=2)\n",
    "ax.plot([drc_005_dist_mean, drc_005_dist_mean], [drc_005_pos_mean - drc_005_pos_std, drc_005_pos_mean + drc_005_pos_std], color='red', linestyle='-', linewidth=2)\n",
    "ax.plot([drc_005_dist_mean - dist_cross_line_length, drc_005_dist_mean + dist_cross_line_length], [drc_005_pos_mean - drc_005_pos_std, drc_005_pos_mean - drc_005_pos_std], color='red', linestyle='-', linewidth=4)\n",
    "ax.plot([drc_005_dist_mean - dist_cross_line_length, drc_005_dist_mean + dist_cross_line_length], [drc_005_pos_mean + drc_005_pos_std, drc_005_pos_mean + drc_005_pos_std], color='red', linestyle='-', linewidth=4)\n",
    "ax.plot([drc_005_dist_mean - drc_005_dist_std, drc_005_dist_mean - drc_005_dist_std], [drc_005_pos_mean - pos_cross_line_length, drc_005_pos_mean + pos_cross_line_length], color='red', linestyle='-', linewidth=4)\n",
    "ax.plot([drc_005_dist_mean + drc_005_dist_std, drc_005_dist_mean + drc_005_dist_std], [drc_005_pos_mean - pos_cross_line_length, drc_005_pos_mean + pos_cross_line_length], color='red', linestyle='-', linewidth=4)\n",
    "\n",
    "ax.plot([drc_010_dist_mean - drc_010_dist_std, drc_010_dist_mean + drc_010_dist_std], [drc_010_pos_mean, drc_010_pos_mean], color='blue', linestyle='-', linewidth=2)\n",
    "ax.plot([drc_010_dist_mean, drc_010_dist_mean], [drc_010_pos_mean - drc_010_pos_std, drc_010_pos_mean + drc_010_pos_std], color='blue', linestyle='-', linewidth=2)\n",
    "ax.plot([drc_010_dist_mean - dist_cross_line_length, drc_010_dist_mean + dist_cross_line_length], [drc_010_pos_mean - drc_010_pos_std, drc_010_pos_mean - drc_010_pos_std], color='blue', linestyle='-', linewidth=4)\n",
    "ax.plot([drc_010_dist_mean - dist_cross_line_length, drc_010_dist_mean + dist_cross_line_length], [drc_010_pos_mean + drc_010_pos_std, drc_010_pos_mean + drc_010_pos_std], color='blue', linestyle='-', linewidth=4)\n",
    "ax.plot([drc_010_dist_mean - drc_010_dist_std, drc_010_dist_mean - drc_010_dist_std], [drc_010_pos_mean - pos_cross_line_length, drc_010_pos_mean + pos_cross_line_length], color='blue', linestyle='-', linewidth=4)\n",
    "ax.plot([drc_010_dist_mean + drc_010_dist_std, drc_010_dist_mean + drc_010_dist_std], [drc_010_pos_mean - pos_cross_line_length, drc_010_pos_mean + pos_cross_line_length], color='blue', linestyle='-', linewidth=4)\n",
    "\n",
    "ax.plot([drc_015_dist_mean - drc_015_dist_std, drc_015_dist_mean + drc_015_dist_std], [drc_015_pos_mean, drc_015_pos_mean], color='green', linestyle='-', linewidth=2)\n",
    "ax.plot([drc_015_dist_mean, drc_015_dist_mean], [drc_015_pos_mean - drc_015_pos_std, drc_015_pos_mean + drc_015_pos_std], color='green', linestyle='-', linewidth=2)\n",
    "ax.plot([drc_015_dist_mean - dist_cross_line_length, drc_015_dist_mean + dist_cross_line_length], [drc_015_pos_mean - drc_015_pos_std, drc_015_pos_mean - drc_015_pos_std], color='green', linestyle='-', linewidth=4)\n",
    "ax.plot([drc_015_dist_mean - dist_cross_line_length, drc_015_dist_mean + dist_cross_line_length], [drc_015_pos_mean + drc_015_pos_std, drc_015_pos_mean + drc_015_pos_std], color='green', linestyle='-', linewidth=4)\n",
    "ax.plot([drc_015_dist_mean - drc_015_dist_std, drc_015_dist_mean - drc_015_dist_std], [drc_015_pos_mean - pos_cross_line_length, drc_015_pos_mean + pos_cross_line_length], color='green', linestyle='-', linewidth=4)\n",
    "ax.plot([drc_015_dist_mean + drc_015_dist_std, drc_015_dist_mean + drc_015_dist_std], [drc_015_pos_mean - pos_cross_line_length, drc_015_pos_mean + pos_cross_line_length], color='green', linestyle='-', linewidth=4)\n",
    "\n",
    "ax.plot([rssac_0_dist_mean - rssac_0_dist_std, rssac_0_dist_mean + rssac_0_dist_std], [rssac_0_pos_mean, rssac_0_pos_mean], color='orange', linestyle='-', linewidth=2)\n",
    "ax.plot([rssac_0_dist_mean, rssac_0_dist_mean], [rssac_0_pos_mean - rssac_0_pos_std, rssac_0_pos_mean + rssac_0_pos_std], color='orange', linestyle='-', linewidth=2)\n",
    "ax.plot([rssac_0_dist_mean - dist_cross_line_length, rssac_0_dist_mean + dist_cross_line_length], [rssac_0_pos_mean - rssac_0_pos_std, rssac_0_pos_mean - rssac_0_pos_std], color='orange', linestyle='-', linewidth=4)\n",
    "ax.plot([rssac_0_dist_mean - dist_cross_line_length, rssac_0_dist_mean + dist_cross_line_length], [rssac_0_pos_mean + rssac_0_pos_std, rssac_0_pos_mean + rssac_0_pos_std], color='orange', linestyle='-', linewidth=4)\n",
    "ax.plot([rssac_0_dist_mean - rssac_0_dist_std, rssac_0_dist_mean - rssac_0_dist_std], [rssac_0_pos_mean - pos_cross_line_length, rssac_0_pos_mean + pos_cross_line_length], color='orange', linestyle='-', linewidth=4)\n",
    "ax.plot([rssac_0_dist_mean + rssac_0_dist_std, rssac_0_dist_mean + rssac_0_dist_std], [rssac_0_pos_mean - pos_cross_line_length, rssac_0_pos_mean + pos_cross_line_length], color='orange', linestyle='-', linewidth=4)\n",
    "\n",
    "ax.plot([rssac_1_dist_mean - rssac_1_dist_std, rssac_1_dist_mean + rssac_1_dist_std], [rssac_1_pos_mean, rssac_1_pos_mean], color='purple', linestyle='-', linewidth=2)\n",
    "ax.plot([rssac_1_dist_mean, rssac_1_dist_mean], [rssac_1_pos_mean - rssac_1_pos_std, rssac_1_pos_mean + rssac_1_pos_std], color='purple', linestyle='-', linewidth=2)\n",
    "ax.plot([rssac_1_dist_mean - dist_cross_line_length, rssac_1_dist_mean + dist_cross_line_length], [rssac_1_pos_mean - rssac_1_pos_std, rssac_1_pos_mean - rssac_1_pos_std], color='purple', linestyle='-', linewidth=4)\n",
    "ax.plot([rssac_1_dist_mean - dist_cross_line_length, rssac_1_dist_mean + dist_cross_line_length], [rssac_1_pos_mean + rssac_1_pos_std, rssac_1_pos_mean + rssac_1_pos_std], color='purple', linestyle='-', linewidth=4)\n",
    "ax.plot([rssac_1_dist_mean - rssac_1_dist_std, rssac_1_dist_mean - rssac_1_dist_std], [rssac_1_pos_mean - pos_cross_line_length, rssac_1_pos_mean + pos_cross_line_length], color='purple', linestyle='-', linewidth=4)\n",
    "ax.plot([rssac_1_dist_mean + rssac_1_dist_std, rssac_1_dist_mean + rssac_1_dist_std], [rssac_1_pos_mean - pos_cross_line_length, rssac_1_pos_mean + pos_cross_line_length], color='purple', linestyle='-', linewidth=4)\n",
    "\n",
    "ax.plot([0.4, 0.4], [120, 220], color='pink', linestyle='--', linewidth=2, label='Collision Threshold')\n",
    "\n",
    "# Annotate the plot\n",
    "ax.set_xlabel(\"Minimum Human-Robot Distance (m)\")\n",
    "ax.set_ylabel(\"Position Cost\")\n",
    "ax.set_ylim([120, 240])\n",
    "# ax.set_title(\"Hotel Sensitivity Analysis\")\n",
    "ax.legend()\n",
    "ax.grid(True, linestyle='--', linewidth=0.5)\n",
    "\n",
    "# Show the plot\n",
    "plt.show()"
   ]
  }
 ],
 "metadata": {
  "kernelspec": {
   "display_name": "trajectron++",
   "language": "python",
   "name": "python3"
  },
  "language_info": {
   "codemirror_mode": {
    "name": "ipython",
    "version": 3
   },
   "file_extension": ".py",
   "mimetype": "text/x-python",
   "name": "python",
   "nbconvert_exporter": "python",
   "pygments_lexer": "ipython3",
   "version": "3.6.13"
  },
  "orig_nbformat": 4
 },
 "nbformat": 4,
 "nbformat_minor": 2
}
