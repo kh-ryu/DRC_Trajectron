{
 "cells": [
  {
   "cell_type": "code",
   "execution_count": 1,
   "metadata": {},
   "outputs": [],
   "source": [
    "import numpy as np\n",
    "import matplotlib.pyplot as plt\n",
    "import pandas as pd"
   ]
  },
  {
   "cell_type": "code",
   "execution_count": 2,
   "metadata": {},
   "outputs": [],
   "source": [
    "# initial_collision = [3, 27, 51]#, 149, 187, 203, 220, 266, 270, 288, 295, 318, 340, 351, 396, 417, 464, 495]\n",
    "# for trajectron\n",
    "initial_collision = [34, 56] #, 169, 230, 333, 378]\n",
    "initial_collision = np.array(initial_collision) - 1"
   ]
  },
  {
   "cell_type": "code",
   "execution_count": 3,
   "metadata": {},
   "outputs": [],
   "source": [
    "rssac_result_0 = pd.read_csv('./trajectron_rssac_300.csv')\n",
    "# rssac_result_1 = pd.read_csv('./trajectron_rssac_1.0_100.csv')\n",
    "# rssac_result_2 = pd.read_csv('./trajectron_rssac_2.0_100.csv')\n",
    "# rssac_result_3 = pd.read_csv('./trajectron_rssac_3.0_100.csv')\n",
    "\n",
    "rssac_result_0['collision'] = rssac_result_0['collision']/5\n",
    "# rssac_result_1['collision'] = rssac_result_1['collision']/5\n",
    "# rssac_result_2['collision'] = rssac_result_2['collision']/5\n",
    "# rssac_result_3['collision'] = rssac_result_3['collision']/5\n",
    "# rssac_result['collision'] = rssac_result['collision'].apply(np.ceil)\n",
    "\n",
    "drc_result_0 = pd.read_csv('./trajectron_drc_300.csv')\n",
    "# drc_result_1 = pd.read_csv('./trajectron_drc_0.1_100.csv')\n",
    "# drc_result_2 = pd.read_csv('./trajectron_drc_0.05_100.csv')\n",
    "# drc_result_3 = pd.read_csv('./trajectron_drc_0.01_100.csv')"
   ]
  },
  {
   "cell_type": "code",
   "execution_count": 4,
   "metadata": {},
   "outputs": [],
   "source": [
    "rssac_result_0 = rssac_result_0.drop(initial_collision)\n",
    "# rssac_result_1 = rssac_result_1.drop(initial_collision)\n",
    "# rssac_result_2 = rssac_result_2.drop(initial_collision)\n",
    "# rssac_result_3 = rssac_result_3.drop(initial_collision)\n",
    "\n",
    "drc_result_0 = drc_result_0.drop(initial_collision)\n",
    "# drc_result_1 = drc_result_1.drop(initial_collision)\n",
    "# drc_result_2 = drc_result_2.drop(initial_collision)\n",
    "# drc_result_3 = drc_result_3.drop(initial_collision)"
   ]
  },
  {
   "cell_type": "code",
   "execution_count": 5,
   "metadata": {},
   "outputs": [
    {
     "data": {
      "text/plain": [
       "collision          0.319463\n",
       "position_cost    115.017935\n",
       "control_cost       2.656690\n",
       "minimum_dist       0.965216\n",
       "dtype: float64"
      ]
     },
     "execution_count": 5,
     "metadata": {},
     "output_type": "execute_result"
    }
   ],
   "source": [
    "rssac_result_0.mean(axis=0)"
   ]
  },
  {
   "cell_type": "code",
   "execution_count": 6,
   "metadata": {},
   "outputs": [
    {
     "data": {
      "text/plain": [
       "collision         0.988668\n",
       "position_cost    89.276825\n",
       "control_cost      0.302382\n",
       "minimum_dist      0.468112\n",
       "dtype: float64"
      ]
     },
     "execution_count": 6,
     "metadata": {},
     "output_type": "execute_result"
    }
   ],
   "source": [
    "rssac_result_0.std(axis=0)"
   ]
  },
  {
   "cell_type": "code",
   "execution_count": 7,
   "metadata": {},
   "outputs": [
    {
     "data": {
      "text/plain": [
       "collision          0.372483\n",
       "position_cost    516.210897\n",
       "control_cost       1.417747\n",
       "minimum_dist       2.149200\n",
       "dtype: float64"
      ]
     },
     "execution_count": 7,
     "metadata": {},
     "output_type": "execute_result"
    }
   ],
   "source": [
    "drc_result_0.mean(axis=0)"
   ]
  },
  {
   "cell_type": "code",
   "execution_count": 8,
   "metadata": {},
   "outputs": [
    {
     "data": {
      "text/plain": [
       "collision          1.133592\n",
       "position_cost    271.504226\n",
       "control_cost       0.113990\n",
       "minimum_dist       1.374402\n",
       "dtype: float64"
      ]
     },
     "execution_count": 8,
     "metadata": {},
     "output_type": "execute_result"
    }
   ],
   "source": [
    "drc_result_0.std(axis=0)"
   ]
  },
  {
   "cell_type": "code",
   "execution_count": 9,
   "metadata": {},
   "outputs": [],
   "source": [
    "# drc_max_collision = drc_result['collision'].max()\n",
    "# rssac_max_collision = rssac_result['collision'].max()\n",
    "# drc_cem_max_collision = drc_cem_result['collision'].max()"
   ]
  },
  {
   "cell_type": "code",
   "execution_count": 10,
   "metadata": {},
   "outputs": [],
   "source": [
    "# drc_result.hist(column='collision', bins=drc_max_collision)"
   ]
  },
  {
   "cell_type": "code",
   "execution_count": 11,
   "metadata": {},
   "outputs": [],
   "source": [
    "# rssac_result.hist(column='collision', bins=4)"
   ]
  }
 ],
 "metadata": {
  "kernelspec": {
   "display_name": "trajectron++",
   "language": "python",
   "name": "python3"
  },
  "language_info": {
   "codemirror_mode": {
    "name": "ipython",
    "version": 3
   },
   "file_extension": ".py",
   "mimetype": "text/x-python",
   "name": "python",
   "nbconvert_exporter": "python",
   "pygments_lexer": "ipython3",
   "version": "3.6.13"
  },
  "orig_nbformat": 4
 },
 "nbformat": 4,
 "nbformat_minor": 2
}
