{
 "cells": [
  {
   "cell_type": "code",
   "execution_count": 1,
   "metadata": {},
   "outputs": [],
   "source": [
    "import numpy as np\n",
    "import matplotlib.pyplot as plt\n",
    "import pandas as pd"
   ]
  },
  {
   "cell_type": "code",
   "execution_count": 2,
   "metadata": {},
   "outputs": [],
   "source": [
    "# hotel\n",
    "# initial_collision = [3, 27, 51, 149, 187, 203, 220, 266, 270, 288, 295] #, 318, 340, 351, 396, 417, 464, 495]\n",
    "# for trajectron\n",
    "initial_collision = [34, 169, 230] #, 333, 378]\n",
    "initial_collision = np.array(initial_collision) - 1\n",
    "\n",
    "# crowdnav\n",
    "end_condition = [1,7,+,34,37,69,80,]"
   ]
  },
  {
   "cell_type": "code",
   "execution_count": 3,
   "metadata": {},
   "outputs": [],
   "source": [
    "BIC_result = pd.read_csv('../../ICRA_experiments_result/trajectron_BIC_300.csv')\n",
    "exhaustive = pd.read_csv('../../ICRA_experiments_result/trajectron_exhaustive_300.csv')\n",
    "crowdnav = pd.read_csv('../../ICRA_experiments_result/CrowdNav/ETH/trajectron_crowdnav_300.csv')\n",
    "\n",
    "\n",
    "BIC_result['collision'] = BIC_result['collision']/5\n",
    "exhaustive['collision'] = exhaustive['collision']/5\n",
    "crowdnav['collision'] = crowdnav['collision']*4\n",
    "\n",
    "#\n",
    "# drc_result_1 = pd.read_csv('./trajectron_drc_0.1_100.csv')\n",
    "# drc_result_2 = pd.read_csv('./trajectron_drc_0.05_100.csv')\n",
    "# drc_result_3 = pd.read_csv('./trajectron_drc_0.01_100.csv')"
   ]
  },
  {
   "cell_type": "code",
   "execution_count": 4,
   "metadata": {},
   "outputs": [],
   "source": [
    "BIC_result = BIC_result.drop(initial_collision)\n",
    "exhaustive = exhaustive.drop(initial_collision)\n",
    "crowdnav = crowdnav.drop(initial_collision)\n",
    "\n",
    "# drc_result_1 = drc_result_1.drop(initial_collision)\n",
    "# drc_result_2 = drc_result_2.drop(initial_collision)\n",
    "# drc_result_3 = drc_result_3.drop(initial_collision)"
   ]
  },
  {
   "cell_type": "code",
   "execution_count": 5,
   "metadata": {},
   "outputs": [
    {
     "data": {
      "text/plain": [
       "collision         0.008081\n",
       "position_cost    84.609624\n",
       "control_cost      2.356700\n",
       "minimum_dist      1.103392\n",
       "dtype: float64"
      ]
     },
     "execution_count": 5,
     "metadata": {},
     "output_type": "execute_result"
    }
   ],
   "source": [
    "rssac_result_0.mean(axis=0)"
   ]
  },
  {
   "cell_type": "code",
   "execution_count": 6,
   "metadata": {},
   "outputs": [
    {
     "data": {
      "text/plain": [
       "collision         0.139262\n",
       "position_cost    72.990775\n",
       "control_cost      0.493912\n",
       "minimum_dist      0.546294\n",
       "dtype: float64"
      ]
     },
     "execution_count": 6,
     "metadata": {},
     "output_type": "execute_result"
    }
   ],
   "source": [
    "rssac_result_0.std(axis=0)"
   ]
  },
  {
   "cell_type": "code",
   "execution_count": 7,
   "metadata": {},
   "outputs": [
    {
     "data": {
      "text/plain": [
       "collision         0.021549\n",
       "position_cost    93.659144\n",
       "control_cost      2.567546\n",
       "minimum_dist      1.064283\n",
       "dtype: float64"
      ]
     },
     "execution_count": 7,
     "metadata": {},
     "output_type": "execute_result"
    }
   ],
   "source": [
    "rssac_result_1.mean(axis=0)"
   ]
  },
  {
   "cell_type": "code",
   "execution_count": 8,
   "metadata": {},
   "outputs": [
    {
     "data": {
      "text/plain": [
       "collision         0.206172\n",
       "position_cost    81.721396\n",
       "control_cost      0.526035\n",
       "minimum_dist      0.478342\n",
       "dtype: float64"
      ]
     },
     "execution_count": 8,
     "metadata": {},
     "output_type": "execute_result"
    }
   ],
   "source": [
    "rssac_result_1.std(axis=0)"
   ]
  },
  {
   "cell_type": "code",
   "execution_count": 9,
   "metadata": {},
   "outputs": [
    {
     "data": {
      "text/plain": [
       "collision         0.030303\n",
       "position_cost    95.328336\n",
       "control_cost      2.629285\n",
       "minimum_dist      1.074694\n",
       "dtype: float64"
      ]
     },
     "execution_count": 9,
     "metadata": {},
     "output_type": "execute_result"
    }
   ],
   "source": [
    "rssac_result_2.mean(axis=0)"
   ]
  },
  {
   "cell_type": "code",
   "execution_count": 10,
   "metadata": {},
   "outputs": [
    {
     "data": {
      "text/plain": [
       "collision         0.290429\n",
       "position_cost    82.119920\n",
       "control_cost      0.521970\n",
       "minimum_dist      0.469611\n",
       "dtype: float64"
      ]
     },
     "execution_count": 10,
     "metadata": {},
     "output_type": "execute_result"
    }
   ],
   "source": [
    "rssac_result_2.std(axis=0)"
   ]
  },
  {
   "cell_type": "code",
   "execution_count": 11,
   "metadata": {},
   "outputs": [
    {
     "data": {
      "text/plain": [
       "collision          0.060606\n",
       "position_cost    172.897757\n",
       "control_cost       1.210677\n",
       "minimum_dist       0.735844\n",
       "dtype: float64"
      ]
     },
     "execution_count": 11,
     "metadata": {},
     "output_type": "execute_result"
    }
   ],
   "source": [
    "drc_result_0.mean(axis=0)"
   ]
  },
  {
   "cell_type": "code",
   "execution_count": 12,
   "metadata": {},
   "outputs": [
    {
     "data": {
      "text/plain": [
       "collision          0.333436\n",
       "position_cost    144.540401\n",
       "control_cost       0.320513\n",
       "minimum_dist       0.523171\n",
       "dtype: float64"
      ]
     },
     "execution_count": 12,
     "metadata": {},
     "output_type": "execute_result"
    }
   ],
   "source": [
    "drc_result_0.std(axis=0)"
   ]
  },
  {
   "cell_type": "code",
   "execution_count": 13,
   "metadata": {},
   "outputs": [],
   "source": [
    "# drc_max_collision = drc_result['collision'].max()\n",
    "# rssac_max_collision = rssac_result['collision'].max()\n",
    "# drc_cem_max_collision = drc_cem_result['collision'].max()"
   ]
  },
  {
   "cell_type": "code",
   "execution_count": 14,
   "metadata": {},
   "outputs": [],
   "source": [
    "# drc_result.hist(column='collision', bins=drc_max_collision)"
   ]
  },
  {
   "cell_type": "code",
   "execution_count": 15,
   "metadata": {},
   "outputs": [],
   "source": [
    "# rssac_result.hist(column='collision', bins=4)"
   ]
  }
 ],
 "metadata": {
  "kernelspec": {
   "display_name": "trajectron++",
   "language": "python",
   "name": "python3"
  },
  "language_info": {
   "codemirror_mode": {
    "name": "ipython",
    "version": 3
   },
   "file_extension": ".py",
   "mimetype": "text/x-python",
   "name": "python",
   "nbconvert_exporter": "python",
   "pygments_lexer": "ipython3",
   "version": "3.6.13"
  },
  "orig_nbformat": 4
 },
 "nbformat": 4,
 "nbformat_minor": 2
}
