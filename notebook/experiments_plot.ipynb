{
 "cells": [
  {
   "cell_type": "code",
   "execution_count": 1,
   "metadata": {},
   "outputs": [],
   "source": [
    "import numpy as np\n",
    "import matplotlib.pyplot as plt\n",
    "import pandas as pd"
   ]
  },
  {
   "cell_type": "code",
   "execution_count": 2,
   "metadata": {},
   "outputs": [],
   "source": [
    "# initial_collision = [3, 27, 51, 149, 187, 203, 220, 266, 270, 288, 295] #, 318, 340, 351, 396, 417, 464, 495]\n",
    "# for trajectron\n",
    "initial_collision = [34, 169, 230] #, 333, 378]\n",
    "initial_collision = np.array(initial_collision) - 1"
   ]
  },
  {
   "cell_type": "code",
   "execution_count": 3,
   "metadata": {},
   "outputs": [],
   "source": [
    "rssac_result_0 = pd.read_csv('../../Trajectron_experimen_data/after changing dynamics/risk_parameter_test/0.0_trajectron_rssac.csv')\n",
    "rssac_result_1 = pd.read_csv('../../Trajectron_experimen_data/after changing dynamics/risk_parameter_test/1.0_trajectron_rssac.csv')\n",
    "rssac_result_2 = pd.read_csv('../../Trajectron_experimen_data/after changing dynamics/risk_parameter_test/2.0_trajectron_rssac.csv')\n",
    "rssac_result_3 = pd.read_csv('../../Trajectron_experimen_data/after changing dynamics/risk_parameter_test/3.0_trajectron_rssac.csv')\n",
    "rssac_result_4 = pd.read_csv('../../Trajectron_experimen_data/after changing dynamics/risk_parameter_test/4.0_trajectron_rssac.csv')\n",
    "rssac_result_5 = pd.read_csv('../../Trajectron_experimen_data/after changing dynamics/risk_parameter_test/5.0_trajectron_rssac.csv')\n",
    "\n",
    "rssac_result_0['collision'] = rssac_result_0['collision']/5\n",
    "rssac_result_1['collision'] = rssac_result_1['collision']/5\n",
    "rssac_result_2['collision'] = rssac_result_2['collision']/5\n",
    "rssac_result_3['collision'] = rssac_result_3['collision']/5\n",
    "rssac_result_4['collision'] = rssac_result_4['collision']/5\n",
    "rssac_result_5['collision'] = rssac_result_5['collision']/5\n",
    "\n",
    "drc_result_0 = pd.read_csv('../../Trajectron_experimen_data/after changing dynamics/Trajectron_data/Trajectron_data_2000samples/trajectron_drc_300.csv')\n",
    "# drc_result_1 = pd.read_csv('./trajectron_drc_0.1_100.csv')\n",
    "# drc_result_2 = pd.read_csv('./trajectron_drc_0.05_100.csv')\n",
    "# drc_result_3 = pd.read_csv('./trajectron_drc_0.01_100.csv')"
   ]
  },
  {
   "cell_type": "code",
   "execution_count": 4,
   "metadata": {},
   "outputs": [],
   "source": [
    "rssac_result_0 = rssac_result_0.drop(initial_collision)\n",
    "rssac_result_1 = rssac_result_1.drop(initial_collision)\n",
    "rssac_result_2 = rssac_result_2.drop(initial_collision)\n",
    "rssac_result_3 = rssac_result_3.drop(initial_collision)\n",
    "rssac_result_4 = rssac_result_4.drop(initial_collision)\n",
    "rssac_result_5 = rssac_result_5.drop(initial_collision)\n",
    "\n",
    "drc_result_0 = drc_result_0.drop(initial_collision)\n",
    "# drc_result_1 = drc_result_1.drop(initial_collision)\n",
    "# drc_result_2 = drc_result_2.drop(initial_collision)\n",
    "# drc_result_3 = drc_result_3.drop(initial_collision)"
   ]
  },
  {
   "cell_type": "code",
   "execution_count": 5,
   "metadata": {},
   "outputs": [
    {
     "data": {
      "text/plain": [
       "collision         0.008081\n",
       "position_cost    83.951498\n",
       "control_cost      2.365262\n",
       "minimum_dist      1.114262\n",
       "dtype: float64"
      ]
     },
     "execution_count": 5,
     "metadata": {},
     "output_type": "execute_result"
    }
   ],
   "source": [
    "rssac_result_0.mean(axis=0)"
   ]
  },
  {
   "cell_type": "code",
   "execution_count": 6,
   "metadata": {},
   "outputs": [
    {
     "data": {
      "text/plain": [
       "collision         0.139262\n",
       "position_cost    71.814606\n",
       "control_cost      0.505186\n",
       "minimum_dist      0.560830\n",
       "dtype: float64"
      ]
     },
     "execution_count": 6,
     "metadata": {},
     "output_type": "execute_result"
    }
   ],
   "source": [
    "rssac_result_0.std(axis=0)"
   ]
  },
  {
   "cell_type": "code",
   "execution_count": 7,
   "metadata": {},
   "outputs": [
    {
     "data": {
      "text/plain": [
       "collision         0.026263\n",
       "position_cost    95.390146\n",
       "control_cost      2.607211\n",
       "minimum_dist      1.069420\n",
       "dtype: float64"
      ]
     },
     "execution_count": 7,
     "metadata": {},
     "output_type": "execute_result"
    }
   ],
   "source": [
    "rssac_result_1.mean(axis=0)"
   ]
  },
  {
   "cell_type": "code",
   "execution_count": 8,
   "metadata": {},
   "outputs": [
    {
     "data": {
      "text/plain": [
       "collision         0.271104\n",
       "position_cost    82.455359\n",
       "control_cost      0.516047\n",
       "minimum_dist      0.482253\n",
       "dtype: float64"
      ]
     },
     "execution_count": 8,
     "metadata": {},
     "output_type": "execute_result"
    }
   ],
   "source": [
    "rssac_result_1.std(axis=0)"
   ]
  },
  {
   "cell_type": "code",
   "execution_count": 9,
   "metadata": {},
   "outputs": [
    {
     "data": {
      "text/plain": [
       "collision         0.012795\n",
       "position_cost    96.766716\n",
       "control_cost      2.647980\n",
       "minimum_dist      1.076118\n",
       "dtype: float64"
      ]
     },
     "execution_count": 9,
     "metadata": {},
     "output_type": "execute_result"
    }
   ],
   "source": [
    "rssac_result_2.mean(axis=0)"
   ]
  },
  {
   "cell_type": "code",
   "execution_count": 10,
   "metadata": {},
   "outputs": [
    {
     "data": {
      "text/plain": [
       "collision         0.160987\n",
       "position_cost    83.591354\n",
       "control_cost      0.522361\n",
       "minimum_dist      0.477055\n",
       "dtype: float64"
      ]
     },
     "execution_count": 10,
     "metadata": {},
     "output_type": "execute_result"
    }
   ],
   "source": [
    "rssac_result_2.std(axis=0)"
   ]
  },
  {
   "cell_type": "code",
   "execution_count": 11,
   "metadata": {},
   "outputs": [
    {
     "data": {
      "text/plain": [
       "collision         0.008754\n",
       "position_cost    96.966827\n",
       "control_cost      2.646795\n",
       "minimum_dist      1.084458\n",
       "dtype: float64"
      ]
     },
     "execution_count": 11,
     "metadata": {},
     "output_type": "execute_result"
    }
   ],
   "source": [
    "rssac_result_3.mean(axis=0)"
   ]
  },
  {
   "cell_type": "code",
   "execution_count": 12,
   "metadata": {},
   "outputs": [
    {
     "data": {
      "text/plain": [
       "collision         0.139706\n",
       "position_cost    82.796285\n",
       "control_cost      0.508283\n",
       "minimum_dist      0.476569\n",
       "dtype: float64"
      ]
     },
     "execution_count": 12,
     "metadata": {},
     "output_type": "execute_result"
    }
   ],
   "source": [
    "rssac_result_3.std(axis=0)"
   ]
  },
  {
   "cell_type": "code",
   "execution_count": 13,
   "metadata": {},
   "outputs": [
    {
     "data": {
      "text/plain": [
       "collision         0.008754\n",
       "position_cost    96.868679\n",
       "control_cost      2.660924\n",
       "minimum_dist      1.090791\n",
       "dtype: float64"
      ]
     },
     "execution_count": 13,
     "metadata": {},
     "output_type": "execute_result"
    }
   ],
   "source": [
    "rssac_result_4.mean(axis=0)"
   ]
  },
  {
   "cell_type": "code",
   "execution_count": 14,
   "metadata": {},
   "outputs": [
    {
     "data": {
      "text/plain": [
       "collision         0.139706\n",
       "position_cost    82.468113\n",
       "control_cost      0.505639\n",
       "minimum_dist      0.479472\n",
       "dtype: float64"
      ]
     },
     "execution_count": 14,
     "metadata": {},
     "output_type": "execute_result"
    }
   ],
   "source": [
    "rssac_result_4.std(axis=0)"
   ]
  },
  {
   "cell_type": "code",
   "execution_count": 15,
   "metadata": {},
   "outputs": [
    {
     "data": {
      "text/plain": [
       "collision         0.010101\n",
       "position_cost    97.470136\n",
       "control_cost      2.669875\n",
       "minimum_dist      1.094388\n",
       "dtype: float64"
      ]
     },
     "execution_count": 15,
     "metadata": {},
     "output_type": "execute_result"
    }
   ],
   "source": [
    "rssac_result_5.mean(axis=0)"
   ]
  },
  {
   "cell_type": "code",
   "execution_count": 16,
   "metadata": {},
   "outputs": [
    {
     "data": {
      "text/plain": [
       "collision         0.143434\n",
       "position_cost    83.771766\n",
       "control_cost      0.511676\n",
       "minimum_dist      0.477639\n",
       "dtype: float64"
      ]
     },
     "execution_count": 16,
     "metadata": {},
     "output_type": "execute_result"
    }
   ],
   "source": [
    "rssac_result_5.std(axis=0)"
   ]
  },
  {
   "cell_type": "code",
   "execution_count": null,
   "metadata": {},
   "outputs": [],
   "source": [
    "drc_result_0.mean(axis=0)"
   ]
  },
  {
   "cell_type": "code",
   "execution_count": null,
   "metadata": {},
   "outputs": [],
   "source": [
    "drc_result_0.std(axis=0)"
   ]
  },
  {
   "cell_type": "code",
   "execution_count": null,
   "metadata": {},
   "outputs": [],
   "source": [
    "# drc_max_collision = drc_result['collision'].max()\n",
    "# rssac_max_collision = rssac_result['collision'].max()\n",
    "# drc_cem_max_collision = drc_cem_result['collision'].max()"
   ]
  },
  {
   "cell_type": "code",
   "execution_count": null,
   "metadata": {},
   "outputs": [],
   "source": [
    "# drc_result.hist(column='collision', bins=drc_max_collision)"
   ]
  },
  {
   "cell_type": "code",
   "execution_count": null,
   "metadata": {},
   "outputs": [],
   "source": [
    "# rssac_result.hist(column='collision', bins=4)"
   ]
  }
 ],
 "metadata": {
  "kernelspec": {
   "display_name": "trajectron++",
   "language": "python",
   "name": "python3"
  },
  "language_info": {
   "codemirror_mode": {
    "name": "ipython",
    "version": 3
   },
   "file_extension": ".py",
   "mimetype": "text/x-python",
   "name": "python",
   "nbconvert_exporter": "python",
   "pygments_lexer": "ipython3",
   "version": "3.6.13"
  },
  "orig_nbformat": 4
 },
 "nbformat": 4,
 "nbformat_minor": 2
}
